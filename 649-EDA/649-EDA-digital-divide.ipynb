{
 "cells": [
  {
   "cell_type": "markdown",
   "metadata": {},
   "source": [
    "# Digital Divide - EDA"
   ]
  },
  {
   "cell_type": "code",
   "execution_count": 50,
   "metadata": {},
   "outputs": [],
   "source": [
    "import pandas as pd\n",
    "import altair as alt\n",
    "import numpy as np\n",
    "import us\n",
    "import plotly.express as px\n",
    "import seaborn as sns"
   ]
  },
  {
   "cell_type": "code",
   "execution_count": 51,
   "metadata": {},
   "outputs": [],
   "source": [
    "# source: https://nces.ed.gov/programs/digest/2015menu_tables.asp"
   ]
  },
  {
   "cell_type": "markdown",
   "metadata": {},
   "source": [
    "## Descriptives and documentations\n",
    "\n",
    "I've collected and cleaned three dataset related to digital divide by state and by income level.\n",
    "\n",
    "- `nces-household.csv`: Internet access (by state; 2015, 2016, 2017)\n",
    "- `nces-income.csv`: Internet access of households (by income; 2010, 2015, 2017)\n",
    "- `nces-reasons.csv`: reasons for not having high-speed access (by income; 2013, 2015, 2017)"
   ]
  },
  {
   "cell_type": "code",
   "execution_count": 52,
   "metadata": {
    "scrolled": true
   },
   "outputs": [
    {
     "data": {
      "text/html": [
       "<div>\n",
       "<style scoped>\n",
       "    .dataframe tbody tr th:only-of-type {\n",
       "        vertical-align: middle;\n",
       "    }\n",
       "\n",
       "    .dataframe tbody tr th {\n",
       "        vertical-align: top;\n",
       "    }\n",
       "\n",
       "    .dataframe thead th {\n",
       "        text-align: right;\n",
       "    }\n",
       "</style>\n",
       "<table border=\"1\" class=\"dataframe\">\n",
       "  <thead>\n",
       "    <tr style=\"text-align: right;\">\n",
       "      <th></th>\n",
       "      <th>state</th>\n",
       "      <th>total_households_2015</th>\n",
       "      <th>with_computer_incl_cell_2015</th>\n",
       "      <th>total_households_2016</th>\n",
       "      <th>with_computer_incl_cell_2016</th>\n",
       "      <th>total_households_2017</th>\n",
       "      <th>with_computer_incl_cell_2017</th>\n",
       "    </tr>\n",
       "  </thead>\n",
       "  <tbody>\n",
       "    <tr>\n",
       "      <th>0</th>\n",
       "      <td>Alabama</td>\n",
       "      <td>1846400</td>\n",
       "      <td>1490700</td>\n",
       "      <td>1852500</td>\n",
       "      <td>1554400</td>\n",
       "      <td>1841700</td>\n",
       "      <td>1583300</td>\n",
       "    </tr>\n",
       "    <tr>\n",
       "      <th>1</th>\n",
       "      <td>Alaska</td>\n",
       "      <td>250200</td>\n",
       "      <td>230000</td>\n",
       "      <td>248500</td>\n",
       "      <td>234600</td>\n",
       "      <td>250700</td>\n",
       "      <td>236700</td>\n",
       "    </tr>\n",
       "    <tr>\n",
       "      <th>2</th>\n",
       "      <td>Arizona</td>\n",
       "      <td>2463000</td>\n",
       "      <td>2158600</td>\n",
       "      <td>2519100</td>\n",
       "      <td>2293500</td>\n",
       "      <td>2553000</td>\n",
       "      <td>2356300</td>\n",
       "    </tr>\n",
       "    <tr>\n",
       "      <th>3</th>\n",
       "      <td>Arkansas</td>\n",
       "      <td>1144700</td>\n",
       "      <td>935500</td>\n",
       "      <td>1142700</td>\n",
       "      <td>965400</td>\n",
       "      <td>1153100</td>\n",
       "      <td>992700</td>\n",
       "    </tr>\n",
       "    <tr>\n",
       "      <th>4</th>\n",
       "      <td>California</td>\n",
       "      <td>12896300</td>\n",
       "      <td>11577000</td>\n",
       "      <td>12944200</td>\n",
       "      <td>11924200</td>\n",
       "      <td>13005100</td>\n",
       "      <td>12160500</td>\n",
       "    </tr>\n",
       "  </tbody>\n",
       "</table>\n",
       "</div>"
      ],
      "text/plain": [
       "        state  total_households_2015  with_computer_incl_cell_2015  \\\n",
       "0     Alabama                1846400                       1490700   \n",
       "1      Alaska                 250200                        230000   \n",
       "2     Arizona                2463000                       2158600   \n",
       "3    Arkansas                1144700                        935500   \n",
       "4  California               12896300                      11577000   \n",
       "\n",
       "   total_households_2016  with_computer_incl_cell_2016  total_households_2017  \\\n",
       "0                1852500                       1554400                1841700   \n",
       "1                 248500                        234600                 250700   \n",
       "2                2519100                       2293500                2553000   \n",
       "3                1142700                        965400                1153100   \n",
       "4               12944200                      11924200               13005100   \n",
       "\n",
       "   with_computer_incl_cell_2017  \n",
       "0                       1583300  \n",
       "1                        236700  \n",
       "2                       2356300  \n",
       "3                        992700  \n",
       "4                      12160500  "
      ]
     },
     "execution_count": 52,
     "metadata": {},
     "output_type": "execute_result"
    }
   ],
   "source": [
    "nces_household = pd.read_csv(\"data/nces-household.csv\")\n",
    "nces_household.head()\n",
    "# nces_household.describe()"
   ]
  },
  {
   "cell_type": "code",
   "execution_count": 53,
   "metadata": {
    "scrolled": true
   },
   "outputs": [
    {
     "data": {
      "text/html": [
       "<div>\n",
       "<style scoped>\n",
       "    .dataframe tbody tr th:only-of-type {\n",
       "        vertical-align: middle;\n",
       "    }\n",
       "\n",
       "    .dataframe tbody tr th {\n",
       "        vertical-align: top;\n",
       "    }\n",
       "\n",
       "    .dataframe thead th {\n",
       "        text-align: right;\n",
       "    }\n",
       "</style>\n",
       "<table border=\"1\" class=\"dataframe\">\n",
       "  <thead>\n",
       "    <tr style=\"text-align: right;\">\n",
       "      <th></th>\n",
       "      <th>income</th>\n",
       "      <th>dial_up_2010</th>\n",
       "      <th>high_speed_int_2010</th>\n",
       "      <th>sate_int_2010</th>\n",
       "      <th>mobile_int_2010</th>\n",
       "      <th>dial_up_2015</th>\n",
       "      <th>high_speed_int_2015</th>\n",
       "      <th>sate_int_2015</th>\n",
       "      <th>mobile_int_2015</th>\n",
       "      <th>dial_up_2017</th>\n",
       "      <th>high_speed_int_2017</th>\n",
       "      <th>sate_int_2017</th>\n",
       "      <th>mobile_int_2017</th>\n",
       "    </tr>\n",
       "  </thead>\n",
       "  <tbody>\n",
       "    <tr>\n",
       "      <th>0</th>\n",
       "      <td>Less than 10k</td>\n",
       "      <td>5.474397</td>\n",
       "      <td>84.768608</td>\n",
       "      <td>1.891732</td>\n",
       "      <td>9.313022</td>\n",
       "      <td>0.817585</td>\n",
       "      <td>64.822173</td>\n",
       "      <td>3.072985</td>\n",
       "      <td>65.292364</td>\n",
       "      <td>1.314908</td>\n",
       "      <td>73.367454</td>\n",
       "      <td>3.726066</td>\n",
       "      <td>83.993252</td>\n",
       "    </tr>\n",
       "    <tr>\n",
       "      <th>1</th>\n",
       "      <td>10-19k</td>\n",
       "      <td>6.385029</td>\n",
       "      <td>83.261200</td>\n",
       "      <td>2.275609</td>\n",
       "      <td>8.729896</td>\n",
       "      <td>1.052181</td>\n",
       "      <td>68.358682</td>\n",
       "      <td>3.303643</td>\n",
       "      <td>61.342360</td>\n",
       "      <td>1.762698</td>\n",
       "      <td>77.032408</td>\n",
       "      <td>3.979481</td>\n",
       "      <td>81.849613</td>\n",
       "    </tr>\n",
       "    <tr>\n",
       "      <th>2</th>\n",
       "      <td>20-29k</td>\n",
       "      <td>5.295396</td>\n",
       "      <td>84.301690</td>\n",
       "      <td>2.535003</td>\n",
       "      <td>8.505384</td>\n",
       "      <td>0.946549</td>\n",
       "      <td>70.371036</td>\n",
       "      <td>3.158534</td>\n",
       "      <td>59.584984</td>\n",
       "      <td>1.187514</td>\n",
       "      <td>80.001276</td>\n",
       "      <td>4.648892</td>\n",
       "      <td>82.739020</td>\n",
       "    </tr>\n",
       "    <tr>\n",
       "      <th>3</th>\n",
       "      <td>30-39k</td>\n",
       "      <td>4.754989</td>\n",
       "      <td>85.231332</td>\n",
       "      <td>2.841575</td>\n",
       "      <td>8.479840</td>\n",
       "      <td>0.655123</td>\n",
       "      <td>71.480627</td>\n",
       "      <td>3.575873</td>\n",
       "      <td>60.978461</td>\n",
       "      <td>0.889943</td>\n",
       "      <td>81.084499</td>\n",
       "      <td>5.595035</td>\n",
       "      <td>82.519610</td>\n",
       "    </tr>\n",
       "    <tr>\n",
       "      <th>4</th>\n",
       "      <td>40-49k</td>\n",
       "      <td>4.426353</td>\n",
       "      <td>85.939363</td>\n",
       "      <td>2.833189</td>\n",
       "      <td>8.881208</td>\n",
       "      <td>0.582713</td>\n",
       "      <td>76.497237</td>\n",
       "      <td>3.361000</td>\n",
       "      <td>61.669727</td>\n",
       "      <td>0.836352</td>\n",
       "      <td>84.183538</td>\n",
       "      <td>5.519191</td>\n",
       "      <td>87.687829</td>\n",
       "    </tr>\n",
       "  </tbody>\n",
       "</table>\n",
       "</div>"
      ],
      "text/plain": [
       "          income  dial_up_2010  high_speed_int_2010  sate_int_2010  \\\n",
       "0  Less than 10k      5.474397            84.768608       1.891732   \n",
       "1         10-19k      6.385029            83.261200       2.275609   \n",
       "2         20-29k      5.295396            84.301690       2.535003   \n",
       "3         30-39k      4.754989            85.231332       2.841575   \n",
       "4         40-49k      4.426353            85.939363       2.833189   \n",
       "\n",
       "   mobile_int_2010  dial_up_2015  high_speed_int_2015  sate_int_2015  \\\n",
       "0         9.313022      0.817585            64.822173       3.072985   \n",
       "1         8.729896      1.052181            68.358682       3.303643   \n",
       "2         8.505384      0.946549            70.371036       3.158534   \n",
       "3         8.479840      0.655123            71.480627       3.575873   \n",
       "4         8.881208      0.582713            76.497237       3.361000   \n",
       "\n",
       "   mobile_int_2015  dial_up_2017  high_speed_int_2017  sate_int_2017  \\\n",
       "0        65.292364      1.314908            73.367454       3.726066   \n",
       "1        61.342360      1.762698            77.032408       3.979481   \n",
       "2        59.584984      1.187514            80.001276       4.648892   \n",
       "3        60.978461      0.889943            81.084499       5.595035   \n",
       "4        61.669727      0.836352            84.183538       5.519191   \n",
       "\n",
       "   mobile_int_2017  \n",
       "0        83.993252  \n",
       "1        81.849613  \n",
       "2        82.739020  \n",
       "3        82.519610  \n",
       "4        87.687829  "
      ]
     },
     "execution_count": 53,
     "metadata": {},
     "output_type": "execute_result"
    }
   ],
   "source": [
    "nces_income = pd.read_csv(\"data/nces-income.csv\")\n",
    "nces_income.head()"
   ]
  },
  {
   "cell_type": "code",
   "execution_count": 54,
   "metadata": {},
   "outputs": [
    {
     "data": {
      "text/html": [
       "<div>\n",
       "<style scoped>\n",
       "    .dataframe tbody tr th:only-of-type {\n",
       "        vertical-align: middle;\n",
       "    }\n",
       "\n",
       "    .dataframe tbody tr th {\n",
       "        vertical-align: top;\n",
       "    }\n",
       "\n",
       "    .dataframe thead th {\n",
       "        text-align: right;\n",
       "    }\n",
       "</style>\n",
       "<table border=\"1\" class=\"dataframe\">\n",
       "  <thead>\n",
       "    <tr style=\"text-align: right;\">\n",
       "      <th></th>\n",
       "      <th>income</th>\n",
       "      <th>2010_1</th>\n",
       "      <th>2010_2</th>\n",
       "      <th>2010_3</th>\n",
       "      <th>2010_4</th>\n",
       "      <th>2010_5</th>\n",
       "      <th>2010_6</th>\n",
       "      <th>2010_7</th>\n",
       "      <th>2013_1</th>\n",
       "      <th>2013_2</th>\n",
       "      <th>...</th>\n",
       "      <th>2015_5</th>\n",
       "      <th>2015_6</th>\n",
       "      <th>2015_7</th>\n",
       "      <th>2017_1</th>\n",
       "      <th>2017_2</th>\n",
       "      <th>2017_3</th>\n",
       "      <th>2017_4</th>\n",
       "      <th>2017_5</th>\n",
       "      <th>2017_6</th>\n",
       "      <th>2017_7</th>\n",
       "    </tr>\n",
       "  </thead>\n",
       "  <tbody>\n",
       "    <tr>\n",
       "      <th>0</th>\n",
       "      <td>Less than 10k</td>\n",
       "      <td>55.901513</td>\n",
       "      <td>30.862084</td>\n",
       "      <td>39.890187</td>\n",
       "      <td>4.158728</td>\n",
       "      <td>0.604355</td>\n",
       "      <td>18.682666</td>\n",
       "      <td>5.801980</td>\n",
       "      <td>32.3030</td>\n",
       "      <td>45.1196</td>\n",
       "      <td>...</td>\n",
       "      <td>8.402742</td>\n",
       "      <td>0.738135</td>\n",
       "      <td>6.206651</td>\n",
       "      <td>47.319783</td>\n",
       "      <td>34.227615</td>\n",
       "      <td>2.221476</td>\n",
       "      <td>1.655330</td>\n",
       "      <td>3.752142</td>\n",
       "      <td>0.997027</td>\n",
       "      <td>9.826626</td>\n",
       "    </tr>\n",
       "    <tr>\n",
       "      <th>1</th>\n",
       "      <td>10-19k</td>\n",
       "      <td>49.661223</td>\n",
       "      <td>41.329476</td>\n",
       "      <td>31.307251</td>\n",
       "      <td>3.527130</td>\n",
       "      <td>0.455517</td>\n",
       "      <td>17.191437</td>\n",
       "      <td>6.189189</td>\n",
       "      <td>41.9542</td>\n",
       "      <td>34.8852</td>\n",
       "      <td>...</td>\n",
       "      <td>9.403751</td>\n",
       "      <td>1.042608</td>\n",
       "      <td>6.828373</td>\n",
       "      <td>52.970725</td>\n",
       "      <td>28.529874</td>\n",
       "      <td>1.237404</td>\n",
       "      <td>1.759408</td>\n",
       "      <td>3.315675</td>\n",
       "      <td>1.305426</td>\n",
       "      <td>10.881489</td>\n",
       "    </tr>\n",
       "    <tr>\n",
       "      <th>2</th>\n",
       "      <td>20-29k</td>\n",
       "      <td>39.724911</td>\n",
       "      <td>40.457514</td>\n",
       "      <td>32.267537</td>\n",
       "      <td>4.064113</td>\n",
       "      <td>1.029953</td>\n",
       "      <td>14.897674</td>\n",
       "      <td>7.283208</td>\n",
       "      <td>43.1331</td>\n",
       "      <td>33.8200</td>\n",
       "      <td>...</td>\n",
       "      <td>8.482689</td>\n",
       "      <td>1.258063</td>\n",
       "      <td>9.181644</td>\n",
       "      <td>54.934676</td>\n",
       "      <td>27.780963</td>\n",
       "      <td>1.220311</td>\n",
       "      <td>1.917567</td>\n",
       "      <td>4.707232</td>\n",
       "      <td>1.344324</td>\n",
       "      <td>8.094928</td>\n",
       "    </tr>\n",
       "    <tr>\n",
       "      <th>3</th>\n",
       "      <td>30-39k</td>\n",
       "      <td>28.927634</td>\n",
       "      <td>42.668520</td>\n",
       "      <td>28.798315</td>\n",
       "      <td>5.944933</td>\n",
       "      <td>0.949274</td>\n",
       "      <td>14.280978</td>\n",
       "      <td>7.357981</td>\n",
       "      <td>42.8311</td>\n",
       "      <td>31.6946</td>\n",
       "      <td>...</td>\n",
       "      <td>9.249542</td>\n",
       "      <td>1.032163</td>\n",
       "      <td>7.260361</td>\n",
       "      <td>58.094151</td>\n",
       "      <td>22.417845</td>\n",
       "      <td>2.112894</td>\n",
       "      <td>1.791520</td>\n",
       "      <td>5.475669</td>\n",
       "      <td>0.985614</td>\n",
       "      <td>9.122306</td>\n",
       "    </tr>\n",
       "    <tr>\n",
       "      <th>4</th>\n",
       "      <td>40-49k</td>\n",
       "      <td>18.764369</td>\n",
       "      <td>41.510531</td>\n",
       "      <td>26.626469</td>\n",
       "      <td>6.368174</td>\n",
       "      <td>1.350076</td>\n",
       "      <td>15.412085</td>\n",
       "      <td>8.732665</td>\n",
       "      <td>44.5498</td>\n",
       "      <td>29.3782</td>\n",
       "      <td>...</td>\n",
       "      <td>6.680010</td>\n",
       "      <td>1.838689</td>\n",
       "      <td>7.258199</td>\n",
       "      <td>59.172401</td>\n",
       "      <td>21.558393</td>\n",
       "      <td>1.692256</td>\n",
       "      <td>3.867258</td>\n",
       "      <td>3.383165</td>\n",
       "      <td>2.320273</td>\n",
       "      <td>8.006254</td>\n",
       "    </tr>\n",
       "  </tbody>\n",
       "</table>\n",
       "<p>5 rows × 28 columns</p>\n",
       "</div>"
      ],
      "text/plain": [
       "          income     2010_1     2010_2     2010_3    2010_4    2010_5  \\\n",
       "0  Less than 10k  55.901513  30.862084  39.890187  4.158728  0.604355   \n",
       "1         10-19k  49.661223  41.329476  31.307251  3.527130  0.455517   \n",
       "2         20-29k  39.724911  40.457514  32.267537  4.064113  1.029953   \n",
       "3         30-39k  28.927634  42.668520  28.798315  5.944933  0.949274   \n",
       "4         40-49k  18.764369  41.510531  26.626469  6.368174  1.350076   \n",
       "\n",
       "      2010_6    2010_7   2013_1   2013_2    ...        2015_5    2015_6  \\\n",
       "0  18.682666  5.801980  32.3030  45.1196    ...      8.402742  0.738135   \n",
       "1  17.191437  6.189189  41.9542  34.8852    ...      9.403751  1.042608   \n",
       "2  14.897674  7.283208  43.1331  33.8200    ...      8.482689  1.258063   \n",
       "3  14.280978  7.357981  42.8311  31.6946    ...      9.249542  1.032163   \n",
       "4  15.412085  8.732665  44.5498  29.3782    ...      6.680010  1.838689   \n",
       "\n",
       "     2015_7     2017_1     2017_2    2017_3    2017_4    2017_5    2017_6  \\\n",
       "0  6.206651  47.319783  34.227615  2.221476  1.655330  3.752142  0.997027   \n",
       "1  6.828373  52.970725  28.529874  1.237404  1.759408  3.315675  1.305426   \n",
       "2  9.181644  54.934676  27.780963  1.220311  1.917567  4.707232  1.344324   \n",
       "3  7.260361  58.094151  22.417845  2.112894  1.791520  5.475669  0.985614   \n",
       "4  7.258199  59.172401  21.558393  1.692256  3.867258  3.383165  2.320273   \n",
       "\n",
       "      2017_7  \n",
       "0   9.826626  \n",
       "1  10.881489  \n",
       "2   8.094928  \n",
       "3   9.122306  \n",
       "4   8.006254  \n",
       "\n",
       "[5 rows x 28 columns]"
      ]
     },
     "execution_count": 54,
     "metadata": {},
     "output_type": "execute_result"
    }
   ],
   "source": [
    "nces_reasons = pd.read_csv(\"data/nces-reasons.csv\")\n",
    "nces_reasons.head()"
   ]
  },
  {
   "cell_type": "code",
   "execution_count": 55,
   "metadata": {},
   "outputs": [
    {
     "data": {
      "text/html": [
       "<div>\n",
       "<style scoped>\n",
       "    .dataframe tbody tr th:only-of-type {\n",
       "        vertical-align: middle;\n",
       "    }\n",
       "\n",
       "    .dataframe tbody tr th {\n",
       "        vertical-align: top;\n",
       "    }\n",
       "\n",
       "    .dataframe thead th {\n",
       "        text-align: right;\n",
       "    }\n",
       "</style>\n",
       "<table border=\"1\" class=\"dataframe\">\n",
       "  <thead>\n",
       "    <tr style=\"text-align: right;\">\n",
       "      <th></th>\n",
       "      <th>reason_id</th>\n",
       "      <th>reason</th>\n",
       "    </tr>\n",
       "  </thead>\n",
       "  <tbody>\n",
       "    <tr>\n",
       "      <th>0</th>\n",
       "      <td>1</td>\n",
       "      <td>Don’t need it (not interested)</td>\n",
       "    </tr>\n",
       "    <tr>\n",
       "      <th>1</th>\n",
       "      <td>2</td>\n",
       "      <td>Too expensive</td>\n",
       "    </tr>\n",
       "    <tr>\n",
       "      <th>2</th>\n",
       "      <td>3</td>\n",
       "      <td>Can use it somewhere else</td>\n",
       "    </tr>\n",
       "    <tr>\n",
       "      <th>3</th>\n",
       "      <td>4</td>\n",
       "      <td>Not available in area</td>\n",
       "    </tr>\n",
       "    <tr>\n",
       "      <th>4</th>\n",
       "      <td>5</td>\n",
       "      <td>No computer or computer inadequate</td>\n",
       "    </tr>\n",
       "    <tr>\n",
       "      <th>5</th>\n",
       "      <td>6</td>\n",
       "      <td>Privacy or security concerns</td>\n",
       "    </tr>\n",
       "    <tr>\n",
       "      <th>6</th>\n",
       "      <td>7</td>\n",
       "      <td>Other reasons</td>\n",
       "    </tr>\n",
       "  </tbody>\n",
       "</table>\n",
       "</div>"
      ],
      "text/plain": [
       "   reason_id                              reason\n",
       "0          1      Don’t need it (not interested)\n",
       "1          2                       Too expensive\n",
       "2          3           Can use it somewhere else\n",
       "3          4               Not available in area\n",
       "4          5  No computer or computer inadequate\n",
       "5          6        Privacy or security concerns\n",
       "6          7                       Other reasons"
      ]
     },
     "execution_count": 55,
     "metadata": {},
     "output_type": "execute_result"
    }
   ],
   "source": [
    "reasons_doc = pd.read_csv(\"data/reasons_doc.csv\")\n",
    "reasons_doc"
   ]
  },
  {
   "cell_type": "markdown",
   "metadata": {},
   "source": [
    "## Some visualizations\n",
    "### By state\n",
    "\n",
    "Table 702.60"
   ]
  },
  {
   "cell_type": "code",
   "execution_count": 56,
   "metadata": {},
   "outputs": [],
   "source": [
    "nces_household[\"pct_2015\"] = nces_household[\"with_computer_incl_cell_2015\"]/nces_household[\"total_households_2015\"]\n",
    "nces_household[\"pct_2016\"] = nces_household[\"with_computer_incl_cell_2016\"]/nces_household[\"total_households_2016\"]\n",
    "nces_household[\"pct_2017\"] = nces_household[\"with_computer_incl_cell_2017\"]/nces_household[\"total_households_2017\"]"
   ]
  },
  {
   "cell_type": "code",
   "execution_count": 57,
   "metadata": {},
   "outputs": [
    {
     "data": {
      "text/html": [
       "<div>\n",
       "<style scoped>\n",
       "    .dataframe tbody tr th:only-of-type {\n",
       "        vertical-align: middle;\n",
       "    }\n",
       "\n",
       "    .dataframe tbody tr th {\n",
       "        vertical-align: top;\n",
       "    }\n",
       "\n",
       "    .dataframe thead th {\n",
       "        text-align: right;\n",
       "    }\n",
       "</style>\n",
       "<table border=\"1\" class=\"dataframe\">\n",
       "  <thead>\n",
       "    <tr style=\"text-align: right;\">\n",
       "      <th></th>\n",
       "      <th>state</th>\n",
       "      <th>variable</th>\n",
       "      <th>value</th>\n",
       "    </tr>\n",
       "  </thead>\n",
       "  <tbody>\n",
       "    <tr>\n",
       "      <th>0</th>\n",
       "      <td>Alabama</td>\n",
       "      <td>pct_2015</td>\n",
       "      <td>0.807355</td>\n",
       "    </tr>\n",
       "    <tr>\n",
       "      <th>1</th>\n",
       "      <td>Alaska</td>\n",
       "      <td>pct_2015</td>\n",
       "      <td>0.919265</td>\n",
       "    </tr>\n",
       "    <tr>\n",
       "      <th>2</th>\n",
       "      <td>Arizona</td>\n",
       "      <td>pct_2015</td>\n",
       "      <td>0.876411</td>\n",
       "    </tr>\n",
       "    <tr>\n",
       "      <th>3</th>\n",
       "      <td>Arkansas</td>\n",
       "      <td>pct_2015</td>\n",
       "      <td>0.817245</td>\n",
       "    </tr>\n",
       "    <tr>\n",
       "      <th>4</th>\n",
       "      <td>California</td>\n",
       "      <td>pct_2015</td>\n",
       "      <td>0.897699</td>\n",
       "    </tr>\n",
       "  </tbody>\n",
       "</table>\n",
       "</div>"
      ],
      "text/plain": [
       "        state  variable     value\n",
       "0     Alabama  pct_2015  0.807355\n",
       "1      Alaska  pct_2015  0.919265\n",
       "2     Arizona  pct_2015  0.876411\n",
       "3    Arkansas  pct_2015  0.817245\n",
       "4  California  pct_2015  0.897699"
      ]
     },
     "execution_count": 57,
     "metadata": {},
     "output_type": "execute_result"
    }
   ],
   "source": [
    "nces_household_wide = nces_household[[\"state\", \"pct_2015\", \"pct_2016\", \"pct_2017\"]]\n",
    "nces_household_wide = pd.melt(nces_household_wide, id_vars=[\"state\"], value_vars=[\"pct_2015\", \"pct_2016\", \"pct_2017\"])\n",
    "nces_household_wide.head()"
   ]
  },
  {
   "cell_type": "code",
   "execution_count": 58,
   "metadata": {},
   "outputs": [
    {
     "data": {
      "text/html": [
       "\n",
       "<div id=\"altair-viz-d66f938674c44ec4899de7cfee059324\"></div>\n",
       "<script type=\"text/javascript\">\n",
       "  (function(spec, embedOpt){\n",
       "    const outputDiv = document.getElementById(\"altair-viz-d66f938674c44ec4899de7cfee059324\");\n",
       "    const paths = {\n",
       "      \"vega\": \"https://cdn.jsdelivr.net/npm//vega@5?noext\",\n",
       "      \"vega-lib\": \"https://cdn.jsdelivr.net/npm//vega-lib?noext\",\n",
       "      \"vega-lite\": \"https://cdn.jsdelivr.net/npm//vega-lite@4.0.2?noext\",\n",
       "      \"vega-embed\": \"https://cdn.jsdelivr.net/npm//vega-embed@6?noext\",\n",
       "    };\n",
       "\n",
       "    function loadScript(lib) {\n",
       "      return new Promise(function(resolve, reject) {\n",
       "        var s = document.createElement('script');\n",
       "        s.src = paths[lib];\n",
       "        s.async = true;\n",
       "        s.onload = () => resolve(paths[lib]);\n",
       "        s.onerror = () => reject(`Error loading script: ${paths[lib]}`);\n",
       "        document.getElementsByTagName(\"head\")[0].appendChild(s);\n",
       "      });\n",
       "    }\n",
       "\n",
       "    function showError(err) {\n",
       "      outputDiv.innerHTML = `<div class=\"error\" style=\"color:red;\">${err}</div>`;\n",
       "      throw err;\n",
       "    }\n",
       "\n",
       "    function displayChart(vegaEmbed) {\n",
       "      vegaEmbed(outputDiv, spec, embedOpt)\n",
       "        .catch(err => showError(`Javascript Error: ${err.message}<br>This usually means there's a typo in your chart specification. See the javascript console for the full traceback.`));\n",
       "    }\n",
       "\n",
       "    if(typeof define === \"function\" && define.amd) {\n",
       "      requirejs.config({paths});\n",
       "      require([\"vega-embed\"], displayChart, err => showError(`Error loading script: ${err.message}`));\n",
       "    } else if (typeof vegaEmbed === \"function\") {\n",
       "      displayChart(vegaEmbed);\n",
       "    } else {\n",
       "      loadScript(\"vega\")\n",
       "        .then(() => loadScript(\"vega-lite\"))\n",
       "        .then(() => loadScript(\"vega-embed\"))\n",
       "        .catch(showError)\n",
       "        .then(() => displayChart(vegaEmbed));\n",
       "    }\n",
       "  })({\"config\": {\"view\": {\"continuousWidth\": 400, \"continuousHeight\": 300}}, \"data\": {\"name\": \"data-a9d4b42486745ded09d77cf885eed98b\"}, \"mark\": \"circle\", \"encoding\": {\"color\": {\"type\": \"nominal\", \"field\": \"variable\"}, \"x\": {\"type\": \"quantitative\", \"field\": \"value\", \"scale\": {\"domain\": [0.75, 1]}}, \"y\": {\"type\": \"nominal\", \"field\": \"state\", \"sort\": \"-x\"}}, \"$schema\": \"https://vega.github.io/schema/vega-lite/v4.0.2.json\", \"datasets\": {\"data-a9d4b42486745ded09d77cf885eed98b\": [{\"state\": \"Alabama\", \"variable\": \"pct_2015\", \"value\": 0.8073548526863085}, {\"state\": \"Alaska\", \"variable\": \"pct_2015\", \"value\": 0.9192645883293366}, {\"state\": \"Arizona\", \"variable\": \"pct_2015\", \"value\": 0.8764108810393829}, {\"state\": \"Arkansas\", \"variable\": \"pct_2015\", \"value\": 0.8172446929326461}, {\"state\": \"California\", \"variable\": \"pct_2015\", \"value\": 0.8976993401208099}, {\"state\": \"Colorado\", \"variable\": \"pct_2015\", \"value\": 0.912517472405649}, {\"state\": \"Connecticut\", \"variable\": \"pct_2015\", \"value\": 0.8837538140954082}, {\"state\": \"Delaware\", \"variable\": \"pct_2015\", \"value\": 0.8749290981281905}, {\"state\": \"District of Columbia\", \"variable\": \"pct_2015\", \"value\": 0.893541518807665}, {\"state\": \"Florida\", \"variable\": \"pct_2015\", \"value\": 0.8748526101404224}, {\"state\": \"Georgia\", \"variable\": \"pct_2015\", \"value\": 0.8681763483207526}, {\"state\": \"Hawaii\", \"variable\": \"pct_2015\", \"value\": 0.8919040143529939}, {\"state\": \"Idaho\", \"variable\": \"pct_2015\", \"value\": 0.8885169065952461}, {\"state\": \"Illinois\", \"variable\": \"pct_2015\", \"value\": 0.8638648451350506}, {\"state\": \"Indiana\", \"variable\": \"pct_2015\", \"value\": 0.8502644030058447}, {\"state\": \"Iowa\", \"variable\": \"pct_2015\", \"value\": 0.8546343810134702}, {\"state\": \"Kansas\", \"variable\": \"pct_2015\", \"value\": 0.8593918675782656}, {\"state\": \"Kentucky\", \"variable\": \"pct_2015\", \"value\": 0.8199510546556346}, {\"state\": \"Louisiana\", \"variable\": \"pct_2015\", \"value\": 0.8086771390758962}, {\"state\": \"Maine\", \"variable\": \"pct_2015\", \"value\": 0.8646368305209098}, {\"state\": \"Maryland\", \"variable\": \"pct_2015\", \"value\": 0.9007759768584416}, {\"state\": \"Massachusetts\", \"variable\": \"pct_2015\", \"value\": 0.8932421875}, {\"state\": \"Michigan\", \"variable\": \"pct_2015\", \"value\": 0.8616820007775042}, {\"state\": \"Minnesota\", \"variable\": \"pct_2015\", \"value\": 0.8925161831136776}, {\"state\": \"Mississippi\", \"variable\": \"pct_2015\", \"value\": 0.7881202462875769}, {\"state\": \"Missouri\", \"variable\": \"pct_2015\", \"value\": 0.855277567180524}, {\"state\": \"Montana\", \"variable\": \"pct_2015\", \"value\": 0.8555930568948891}, {\"state\": \"Nebraska\", \"variable\": \"pct_2015\", \"value\": 0.8724805159903252}, {\"state\": \"Nevada\", \"variable\": \"pct_2015\", \"value\": 0.8954994722195566}, {\"state\": \"New Hampshire\", \"variable\": \"pct_2015\", \"value\": 0.9101622874806801}, {\"state\": \"New Jersey\", \"variable\": \"pct_2015\", \"value\": 0.8818695106649937}, {\"state\": \"New Mexico\", \"variable\": \"pct_2015\", \"value\": 0.8071672354948806}, {\"state\": \"New York\", \"variable\": \"pct_2015\", \"value\": 0.8642741612176341}, {\"state\": \"North Carolina\", \"variable\": \"pct_2015\", \"value\": 0.8505905614235912}, {\"state\": \"North Dakota\", \"variable\": \"pct_2015\", \"value\": 0.8653907496012759}, {\"state\": \"Ohio\", \"variable\": \"pct_2015\", \"value\": 0.8554713786441488}, {\"state\": \"Oklahoma\", \"variable\": \"pct_2015\", \"value\": 0.8365509243468177}, {\"state\": \"Oregon\", \"variable\": \"pct_2015\", \"value\": 0.9086402266288952}, {\"state\": \"Pennsylvania\", \"variable\": \"pct_2015\", \"value\": 0.8455811138014527}, {\"state\": \"Rhode Island\", \"variable\": \"pct_2015\", \"value\": 0.8687116564417178}, {\"state\": \"South Carolina\", \"variable\": \"pct_2015\", \"value\": 0.8339433738830875}, {\"state\": \"South Dakota\", \"variable\": \"pct_2015\", \"value\": 0.8541543901001768}, {\"state\": \"Tennessee\", \"variable\": \"pct_2015\", \"value\": 0.826739912263368}, {\"state\": \"Texas\", \"variable\": \"pct_2015\", \"value\": 0.8666652514488292}, {\"state\": \"Utah\", \"variable\": \"pct_2015\", \"value\": 0.9302900107411386}, {\"state\": \"Vermont\", \"variable\": \"pct_2015\", \"value\": 0.8783836798744605}, {\"state\": \"Virginia\", \"variable\": \"pct_2015\", \"value\": 0.882294248286073}, {\"state\": \"Washington\", \"variable\": \"pct_2015\", \"value\": 0.9139485450414132}, {\"state\": \"West Virginia\", \"variable\": \"pct_2015\", \"value\": 0.7987746766507828}, {\"state\": \"Wisconsin\", \"variable\": \"pct_2015\", \"value\": 0.8629877128691529}, {\"state\": \"Wyoming\", \"variable\": \"pct_2015\", \"value\": 0.891218872870249}, {\"state\": \"Alabama\", \"variable\": \"pct_2016\", \"value\": 0.8390823211875843}, {\"state\": \"Alaska\", \"variable\": \"pct_2016\", \"value\": 0.9440643863179075}, {\"state\": \"Arizona\", \"variable\": \"pct_2016\", \"value\": 0.9104442062641419}, {\"state\": \"Arkansas\", \"variable\": \"pct_2016\", \"value\": 0.8448411656602783}, {\"state\": \"California\", \"variable\": \"pct_2016\", \"value\": 0.9212002286738462}, {\"state\": \"Colorado\", \"variable\": \"pct_2016\", \"value\": 0.9344238975817923}, {\"state\": \"Connecticut\", \"variable\": \"pct_2016\", \"value\": 0.8946437780888529}, {\"state\": \"Delaware\", \"variable\": \"pct_2016\", \"value\": 0.9108516092281401}, {\"state\": \"District of Columbia\", \"variable\": \"pct_2016\", \"value\": 0.9018492176386913}, {\"state\": \"Florida\", \"variable\": \"pct_2016\", \"value\": 0.9014722387271407}, {\"state\": \"Georgia\", \"variable\": \"pct_2016\", \"value\": 0.8944684083448632}, {\"state\": \"Hawaii\", \"variable\": \"pct_2016\", \"value\": 0.9127001535424435}, {\"state\": \"Idaho\", \"variable\": \"pct_2016\", \"value\": 0.8909805205434604}, {\"state\": \"Illinois\", \"variable\": \"pct_2016\", \"value\": 0.8904396515968478}, {\"state\": \"Indiana\", \"variable\": \"pct_2016\", \"value\": 0.8781826076658903}, {\"state\": \"Iowa\", \"variable\": \"pct_2016\", \"value\": 0.8789967144803269}, {\"state\": \"Kansas\", \"variable\": \"pct_2016\", \"value\": 0.8855367435158501}, {\"state\": \"Kentucky\", \"variable\": \"pct_2016\", \"value\": 0.8489258892705361}, {\"state\": \"Louisiana\", \"variable\": \"pct_2016\", \"value\": 0.844839609483961}, {\"state\": \"Maine\", \"variable\": \"pct_2016\", \"value\": 0.8905397780703405}, {\"state\": \"Maryland\", \"variable\": \"pct_2016\", \"value\": 0.9166173053264683}, {\"state\": \"Massachusetts\", \"variable\": \"pct_2016\", \"value\": 0.9054855592169025}, {\"state\": \"Michigan\", \"variable\": \"pct_2016\", \"value\": 0.8831419597343082}, {\"state\": \"Minnesota\", \"variable\": \"pct_2016\", \"value\": 0.9033834411504631}, {\"state\": \"Mississippi\", \"variable\": \"pct_2016\", \"value\": 0.8223220012828736}, {\"state\": \"Missouri\", \"variable\": \"pct_2016\", \"value\": 0.8828513616052609}, {\"state\": \"Montana\", \"variable\": \"pct_2016\", \"value\": 0.8781542898341744}, {\"state\": \"Nebraska\", \"variable\": \"pct_2016\", \"value\": 0.8780096308186196}, {\"state\": \"Nevada\", \"variable\": \"pct_2016\", \"value\": 0.9117702805155421}, {\"state\": \"New Hampshire\", \"variable\": \"pct_2016\", \"value\": 0.919131771033423}, {\"state\": \"New Jersey\", \"variable\": \"pct_2016\", \"value\": 0.9058694631397715}, {\"state\": \"New Mexico\", \"variable\": \"pct_2016\", \"value\": 0.8481012658227848}, {\"state\": \"New York\", \"variable\": \"pct_2016\", \"value\": 0.8860452212512138}, {\"state\": \"North Carolina\", \"variable\": \"pct_2016\", \"value\": 0.8803832680815991}, {\"state\": \"North Dakota\", \"variable\": \"pct_2016\", \"value\": 0.8955887019993652}, {\"state\": \"Ohio\", \"variable\": \"pct_2016\", \"value\": 0.8789759335740697}, {\"state\": \"Oklahoma\", \"variable\": \"pct_2016\", \"value\": 0.8719798543524128}, {\"state\": \"Oregon\", \"variable\": \"pct_2016\", \"value\": 0.9161417573328243}, {\"state\": \"Pennsylvania\", \"variable\": \"pct_2016\", \"value\": 0.8681599092713355}, {\"state\": \"Rhode Island\", \"variable\": \"pct_2016\", \"value\": 0.8806957373836355}, {\"state\": \"South Carolina\", \"variable\": \"pct_2016\", \"value\": 0.8689493583257895}, {\"state\": \"South Dakota\", \"variable\": \"pct_2016\", \"value\": 0.8784431137724551}, {\"state\": \"Tennessee\", \"variable\": \"pct_2016\", \"value\": 0.8555725071392246}, {\"state\": \"Texas\", \"variable\": \"pct_2016\", \"value\": 0.8998594739712237}, {\"state\": \"Utah\", \"variable\": \"pct_2016\", \"value\": 0.9421058212278656}, {\"state\": \"Vermont\", \"variable\": \"pct_2016\", \"value\": 0.8885400313971743}, {\"state\": \"Virginia\", \"variable\": \"pct_2016\", \"value\": 0.9067516903258884}, {\"state\": \"Washington\", \"variable\": \"pct_2016\", \"value\": 0.9296629457028287}, {\"state\": \"West Virginia\", \"variable\": \"pct_2016\", \"value\": 0.8273092369477911}, {\"state\": \"Wisconsin\", \"variable\": \"pct_2016\", \"value\": 0.8879243661366566}, {\"state\": \"Wyoming\", \"variable\": \"pct_2016\", \"value\": 0.9038461538461539}, {\"state\": \"Alabama\", \"variable\": \"pct_2017\", \"value\": 0.8596948471520878}, {\"state\": \"Alaska\", \"variable\": \"pct_2017\", \"value\": 0.9441563621858795}, {\"state\": \"Arizona\", \"variable\": \"pct_2017\", \"value\": 0.9229533881707794}, {\"state\": \"Arkansas\", \"variable\": \"pct_2017\", \"value\": 0.8608967132078744}, {\"state\": \"California\", \"variable\": \"pct_2017\", \"value\": 0.9350562471645739}, {\"state\": \"Colorado\", \"variable\": \"pct_2017\", \"value\": 0.9425953627524308}, {\"state\": \"Connecticut\", \"variable\": \"pct_2017\", \"value\": 0.9120725235849056}, {\"state\": \"Delaware\", \"variable\": \"pct_2017\", \"value\": 0.9348980162056441}, {\"state\": \"District of Columbia\", \"variable\": \"pct_2017\", \"value\": 0.9207815275310834}, {\"state\": \"Florida\", \"variable\": \"pct_2017\", \"value\": 0.9198829648894669}, {\"state\": \"Georgia\", \"variable\": \"pct_2017\", \"value\": 0.9086539745267149}, {\"state\": \"Hawaii\", \"variable\": \"pct_2017\", \"value\": 0.9098450120061122}, {\"state\": \"Idaho\", \"variable\": \"pct_2017\", \"value\": 0.9110542313229884}, {\"state\": \"Illinois\", \"variable\": \"pct_2017\", \"value\": 0.9031754944163704}, {\"state\": \"Indiana\", \"variable\": \"pct_2017\", \"value\": 0.8893755132366168}, {\"state\": \"Iowa\", \"variable\": \"pct_2017\", \"value\": 0.9003578528827038}, {\"state\": \"Kansas\", \"variable\": \"pct_2017\", \"value\": 0.9085916740478299}, {\"state\": \"Kentucky\", \"variable\": \"pct_2017\", \"value\": 0.8616811594202899}, {\"state\": \"Louisiana\", \"variable\": \"pct_2017\", \"value\": 0.8593057394508088}, {\"state\": \"Maine\", \"variable\": \"pct_2017\", \"value\": 0.8968576709796673}, {\"state\": \"Maryland\", \"variable\": \"pct_2017\", \"value\": 0.9308657636025914}, {\"state\": \"Massachusetts\", \"variable\": \"pct_2017\", \"value\": 0.9141650671785029}, {\"state\": \"Michigan\", \"variable\": \"pct_2017\", \"value\": 0.8995419847328244}, {\"state\": \"Minnesota\", \"variable\": \"pct_2017\", \"value\": 0.9209138840070299}, {\"state\": \"Mississippi\", \"variable\": \"pct_2017\", \"value\": 0.844047619047619}, {\"state\": \"Missouri\", \"variable\": \"pct_2017\", \"value\": 0.8976562827554401}, {\"state\": \"Montana\", \"variable\": \"pct_2017\", \"value\": 0.8761522098794611}, {\"state\": \"Nebraska\", \"variable\": \"pct_2017\", \"value\": 0.912259774685222}, {\"state\": \"Nevada\", \"variable\": \"pct_2017\", \"value\": 0.9322126804312078}, {\"state\": \"New Hampshire\", \"variable\": \"pct_2017\", \"value\": 0.9398524683185171}, {\"state\": \"New Jersey\", \"variable\": \"pct_2017\", \"value\": 0.925686591276252}, {\"state\": \"New Mexico\", \"variable\": \"pct_2017\", \"value\": 0.8581477139507621}, {\"state\": \"New York\", \"variable\": \"pct_2017\", \"value\": 0.9006338731979793}, {\"state\": \"North Carolina\", \"variable\": \"pct_2017\", \"value\": 0.8954008748198529}, {\"state\": \"North Dakota\", \"variable\": \"pct_2017\", \"value\": 0.9035725576983876}, {\"state\": \"Ohio\", \"variable\": \"pct_2017\", \"value\": 0.8961261570106274}, {\"state\": \"Oklahoma\", \"variable\": \"pct_2017\", \"value\": 0.8941784548422198}, {\"state\": \"Oregon\", \"variable\": \"pct_2017\", \"value\": 0.9322773759042156}, {\"state\": \"Pennsylvania\", \"variable\": \"pct_2017\", \"value\": 0.8798913911515732}, {\"state\": \"Rhode Island\", \"variable\": \"pct_2017\", \"value\": 0.8970156555772995}, {\"state\": \"South Carolina\", \"variable\": \"pct_2017\", \"value\": 0.8853078578552307}, {\"state\": \"South Dakota\", \"variable\": \"pct_2017\", \"value\": 0.8759802497821667}, {\"state\": \"Tennessee\", \"variable\": \"pct_2017\", \"value\": 0.8759995364468652}, {\"state\": \"Texas\", \"variable\": \"pct_2017\", \"value\": 0.9176217541745031}, {\"state\": \"Utah\", \"variable\": \"pct_2017\", \"value\": 0.9558129997949559}, {\"state\": \"Vermont\", \"variable\": \"pct_2017\", \"value\": 0.8897116134060795}, {\"state\": \"Virginia\", \"variable\": \"pct_2017\", \"value\": 0.9167227402351885}, {\"state\": \"Washington\", \"variable\": \"pct_2017\", \"value\": 0.9420152091254753}, {\"state\": \"West Virginia\", \"variable\": \"pct_2017\", \"value\": 0.8474765832517824}, {\"state\": \"Wisconsin\", \"variable\": \"pct_2017\", \"value\": 0.8931200272305663}, {\"state\": \"Wyoming\", \"variable\": \"pct_2017\", \"value\": 0.9140832595217007}]}}, {\"mode\": \"vega-lite\"});\n",
       "</script>"
      ],
      "text/plain": [
       "alt.Chart(...)"
      ]
     },
     "execution_count": 58,
     "metadata": {},
     "output_type": "execute_result"
    }
   ],
   "source": [
    "alt.Chart(nces_household_wide).mark_circle().encode(\n",
    "    x=alt.X(\"value:Q\", scale=alt.Scale(domain=[0.75, 1])),\n",
    "    y=alt.Y(\"state:N\", sort=\"-x\"),\n",
    "    color=alt.Color(\"variable\")\n",
    ")\n",
    "\n",
    "## can plot this on a map to see the geographical distribution\n",
    "## or we can make this chart interactive by sorting the y-axis on different years"
   ]
  },
  {
   "cell_type": "markdown",
   "metadata": {},
   "source": [
    "### By income\n",
    "\n",
    "Table 702.35"
   ]
  },
  {
   "cell_type": "code",
   "execution_count": 59,
   "metadata": {},
   "outputs": [],
   "source": [
    "income_sub_wide1 = nces_income[[\"income\", \"dial_up_2010\", \"high_speed_int_2010\", \"mobile_int_2010\", \"sate_int_2010\"]]\n",
    "income_sub_wide1 = pd.melt(income_sub_wide1, id_vars=[\"income\"], value_vars=[\"dial_up_2010\", \"high_speed_int_2010\", \"mobile_int_2010\", \"sate_int_2010\"])\n",
    "income_sub_wide2 = nces_income[[\"income\", \"dial_up_2017\", \"high_speed_int_2017\", \"mobile_int_2017\", \"sate_int_2017\"]]\n",
    "income_sub_wide2 = pd.melt(income_sub_wide2, id_vars=[\"income\"], value_vars=[\"dial_up_2017\", \"high_speed_int_2017\", \"mobile_int_2017\", \"sate_int_2017\"])\n",
    "# income_sub_wide2"
   ]
  },
  {
   "cell_type": "code",
   "execution_count": 60,
   "metadata": {},
   "outputs": [
    {
     "data": {
      "text/html": [
       "\n",
       "<div id=\"altair-viz-4fb03bf1912649b29409d80a28b5e393\"></div>\n",
       "<script type=\"text/javascript\">\n",
       "  (function(spec, embedOpt){\n",
       "    const outputDiv = document.getElementById(\"altair-viz-4fb03bf1912649b29409d80a28b5e393\");\n",
       "    const paths = {\n",
       "      \"vega\": \"https://cdn.jsdelivr.net/npm//vega@5?noext\",\n",
       "      \"vega-lib\": \"https://cdn.jsdelivr.net/npm//vega-lib?noext\",\n",
       "      \"vega-lite\": \"https://cdn.jsdelivr.net/npm//vega-lite@4.0.2?noext\",\n",
       "      \"vega-embed\": \"https://cdn.jsdelivr.net/npm//vega-embed@6?noext\",\n",
       "    };\n",
       "\n",
       "    function loadScript(lib) {\n",
       "      return new Promise(function(resolve, reject) {\n",
       "        var s = document.createElement('script');\n",
       "        s.src = paths[lib];\n",
       "        s.async = true;\n",
       "        s.onload = () => resolve(paths[lib]);\n",
       "        s.onerror = () => reject(`Error loading script: ${paths[lib]}`);\n",
       "        document.getElementsByTagName(\"head\")[0].appendChild(s);\n",
       "      });\n",
       "    }\n",
       "\n",
       "    function showError(err) {\n",
       "      outputDiv.innerHTML = `<div class=\"error\" style=\"color:red;\">${err}</div>`;\n",
       "      throw err;\n",
       "    }\n",
       "\n",
       "    function displayChart(vegaEmbed) {\n",
       "      vegaEmbed(outputDiv, spec, embedOpt)\n",
       "        .catch(err => showError(`Javascript Error: ${err.message}<br>This usually means there's a typo in your chart specification. See the javascript console for the full traceback.`));\n",
       "    }\n",
       "\n",
       "    if(typeof define === \"function\" && define.amd) {\n",
       "      requirejs.config({paths});\n",
       "      require([\"vega-embed\"], displayChart, err => showError(`Error loading script: ${err.message}`));\n",
       "    } else if (typeof vegaEmbed === \"function\") {\n",
       "      displayChart(vegaEmbed);\n",
       "    } else {\n",
       "      loadScript(\"vega\")\n",
       "        .then(() => loadScript(\"vega-lite\"))\n",
       "        .then(() => loadScript(\"vega-embed\"))\n",
       "        .catch(showError)\n",
       "        .then(() => displayChart(vegaEmbed));\n",
       "    }\n",
       "  })({\"config\": {\"view\": {\"continuousWidth\": 400, \"continuousHeight\": 300}}, \"hconcat\": [{\"data\": {\"name\": \"data-cd20c91157f4a91b0a6f6133b2182024\"}, \"mark\": \"bar\", \"encoding\": {\"color\": {\"type\": \"nominal\", \"field\": \"variable\"}, \"order\": {\"type\": \"nominal\", \"field\": \"variable\", \"sort\": \"ascending\"}, \"x\": {\"type\": \"nominal\", \"field\": \"income\", \"sort\": \"-y\"}, \"y\": {\"type\": \"quantitative\", \"field\": \"value\"}}}, {\"data\": {\"name\": \"data-82e36985ad7189fbbfc8f7e19155e788\"}, \"mark\": \"bar\", \"encoding\": {\"color\": {\"type\": \"nominal\", \"field\": \"variable\"}, \"order\": {\"type\": \"nominal\", \"field\": \"variable\", \"sort\": \"ascending\"}, \"x\": {\"type\": \"nominal\", \"field\": \"income\", \"sort\": \"-y\"}, \"y\": {\"type\": \"quantitative\", \"field\": \"value\"}}}], \"$schema\": \"https://vega.github.io/schema/vega-lite/v4.0.2.json\", \"datasets\": {\"data-cd20c91157f4a91b0a6f6133b2182024\": [{\"income\": \"Less than 10k\", \"variable\": \"dial_up_2010\", \"value\": 5.474397}, {\"income\": \"10-19k\", \"variable\": \"dial_up_2010\", \"value\": 6.385029}, {\"income\": \"20-29k\", \"variable\": \"dial_up_2010\", \"value\": 5.295396}, {\"income\": \"30-39k\", \"variable\": \"dial_up_2010\", \"value\": 4.754989}, {\"income\": \"40-49k\", \"variable\": \"dial_up_2010\", \"value\": 4.426353}, {\"income\": \"50-74k\", \"variable\": \"dial_up_2010\", \"value\": 3.258702}, {\"income\": \"75-99k\", \"variable\": \"dial_up_2010\", \"value\": 2.599761}, {\"income\": \"100k or more\", \"variable\": \"dial_up_2010\", \"value\": 1.6709880000000001}, {\"income\": \"Less than 10k\", \"variable\": \"high_speed_int_2010\", \"value\": 84.768608}, {\"income\": \"10-19k\", \"variable\": \"high_speed_int_2010\", \"value\": 83.2612}, {\"income\": \"20-29k\", \"variable\": \"high_speed_int_2010\", \"value\": 84.30169000000001}, {\"income\": \"30-39k\", \"variable\": \"high_speed_int_2010\", \"value\": 85.231332}, {\"income\": \"40-49k\", \"variable\": \"high_speed_int_2010\", \"value\": 85.939363}, {\"income\": \"50-74k\", \"variable\": \"high_speed_int_2010\", \"value\": 88.51193599999999}, {\"income\": \"75-99k\", \"variable\": \"high_speed_int_2010\", \"value\": 89.290285}, {\"income\": \"100k or more\", \"variable\": \"high_speed_int_2010\", \"value\": 91.366097}, {\"income\": \"Less than 10k\", \"variable\": \"mobile_int_2010\", \"value\": 9.313022}, {\"income\": \"10-19k\", \"variable\": \"mobile_int_2010\", \"value\": 8.729896}, {\"income\": \"20-29k\", \"variable\": \"mobile_int_2010\", \"value\": 8.505384}, {\"income\": \"30-39k\", \"variable\": \"mobile_int_2010\", \"value\": 8.47984}, {\"income\": \"40-49k\", \"variable\": \"mobile_int_2010\", \"value\": 8.881208}, {\"income\": \"50-74k\", \"variable\": \"mobile_int_2010\", \"value\": 8.21687}, {\"income\": \"75-99k\", \"variable\": \"mobile_int_2010\", \"value\": 9.085901}, {\"income\": \"100k or more\", \"variable\": \"mobile_int_2010\", \"value\": 9.814952}, {\"income\": \"Less than 10k\", \"variable\": \"sate_int_2010\", \"value\": 1.891732}, {\"income\": \"10-19k\", \"variable\": \"sate_int_2010\", \"value\": 2.275609}, {\"income\": \"20-29k\", \"variable\": \"sate_int_2010\", \"value\": 2.5350029999999997}, {\"income\": \"30-39k\", \"variable\": \"sate_int_2010\", \"value\": 2.841575}, {\"income\": \"40-49k\", \"variable\": \"sate_int_2010\", \"value\": 2.833189}, {\"income\": \"50-74k\", \"variable\": \"sate_int_2010\", \"value\": 2.904913}, {\"income\": \"75-99k\", \"variable\": \"sate_int_2010\", \"value\": 2.611026}, {\"income\": \"100k or more\", \"variable\": \"sate_int_2010\", \"value\": 2.721578}], \"data-82e36985ad7189fbbfc8f7e19155e788\": [{\"income\": \"Less than 10k\", \"variable\": \"dial_up_2017\", \"value\": 1.314908}, {\"income\": \"10-19k\", \"variable\": \"dial_up_2017\", \"value\": 1.7626979999999999}, {\"income\": \"20-29k\", \"variable\": \"dial_up_2017\", \"value\": 1.187514}, {\"income\": \"30-39k\", \"variable\": \"dial_up_2017\", \"value\": 0.889943}, {\"income\": \"40-49k\", \"variable\": \"dial_up_2017\", \"value\": 0.8363520000000001}, {\"income\": \"50-74k\", \"variable\": \"dial_up_2017\", \"value\": 0.862775}, {\"income\": \"75-99k\", \"variable\": \"dial_up_2017\", \"value\": 0.49610600000000005}, {\"income\": \"100k or more\", \"variable\": \"dial_up_2017\", \"value\": 0.528145}, {\"income\": \"Less than 10k\", \"variable\": \"high_speed_int_2017\", \"value\": 73.36745400000001}, {\"income\": \"10-19k\", \"variable\": \"high_speed_int_2017\", \"value\": 77.03240799999999}, {\"income\": \"20-29k\", \"variable\": \"high_speed_int_2017\", \"value\": 80.001276}, {\"income\": \"30-39k\", \"variable\": \"high_speed_int_2017\", \"value\": 81.084499}, {\"income\": \"40-49k\", \"variable\": \"high_speed_int_2017\", \"value\": 84.183538}, {\"income\": \"50-74k\", \"variable\": \"high_speed_int_2017\", \"value\": 88.406297}, {\"income\": \"75-99k\", \"variable\": \"high_speed_int_2017\", \"value\": 90.93732299999999}, {\"income\": \"100k or more\", \"variable\": \"high_speed_int_2017\", \"value\": 93.067167}, {\"income\": \"Less than 10k\", \"variable\": \"mobile_int_2017\", \"value\": 83.993252}, {\"income\": \"10-19k\", \"variable\": \"mobile_int_2017\", \"value\": 81.849613}, {\"income\": \"20-29k\", \"variable\": \"mobile_int_2017\", \"value\": 82.73902}, {\"income\": \"30-39k\", \"variable\": \"mobile_int_2017\", \"value\": 82.51961}, {\"income\": \"40-49k\", \"variable\": \"mobile_int_2017\", \"value\": 87.68782900000001}, {\"income\": \"50-74k\", \"variable\": \"mobile_int_2017\", \"value\": 88.671448}, {\"income\": \"75-99k\", \"variable\": \"mobile_int_2017\", \"value\": 90.681379}, {\"income\": \"100k or more\", \"variable\": \"mobile_int_2017\", \"value\": 92.6636}, {\"income\": \"Less than 10k\", \"variable\": \"sate_int_2017\", \"value\": 3.7260660000000003}, {\"income\": \"10-19k\", \"variable\": \"sate_int_2017\", \"value\": 3.979481}, {\"income\": \"20-29k\", \"variable\": \"sate_int_2017\", \"value\": 4.648892}, {\"income\": \"30-39k\", \"variable\": \"sate_int_2017\", \"value\": 5.595035}, {\"income\": \"40-49k\", \"variable\": \"sate_int_2017\", \"value\": 5.519191}, {\"income\": \"50-74k\", \"variable\": \"sate_int_2017\", \"value\": 5.146343}, {\"income\": \"75-99k\", \"variable\": \"sate_int_2017\", \"value\": 5.299296}, {\"income\": \"100k or more\", \"variable\": \"sate_int_2017\", \"value\": 4.18649}]}}, {\"mode\": \"vega-lite\"});\n",
       "</script>"
      ],
      "text/plain": [
       "alt.HConcatChart(...)"
      ]
     },
     "execution_count": 60,
     "metadata": {},
     "output_type": "execute_result"
    }
   ],
   "source": [
    "bar1 = alt.Chart(income_sub_wide1).mark_bar().encode(\n",
    "    x=alt.X(\"income:N\", sort=\"-y\"),\n",
    "    y=alt.Y(\"value:Q\"),\n",
    "    color=\"variable\",\n",
    "    order=alt.Order(\"variable\", sort=\"ascending\")\n",
    ")\n",
    "\n",
    "bar2 = alt.Chart(income_sub_wide2).mark_bar().encode(\n",
    "    x=alt.X(\"income:N\", sort=\"-y\"),\n",
    "    y=alt.Y(\"value:Q\"),\n",
    "    color=\"variable\",\n",
    "    order=alt.Order(\"variable\", sort=\"ascending\")\n",
    ")\n",
    "\n",
    "bar1|bar2\n",
    "\n",
    "## the significant change in the access to mobile internet\n",
    "## a higher level of inequality"
   ]
  },
  {
   "cell_type": "markdown",
   "metadata": {},
   "source": [
    "### Reasons\n",
    "\n",
    "Table 702.40 & 702.10"
   ]
  },
  {
   "cell_type": "code",
   "execution_count": 61,
   "metadata": {},
   "outputs": [],
   "source": [
    "# reasons_doc[reasons_doc[\"reason_id\"]==1][\"reason\"].values[0]"
   ]
  },
  {
   "cell_type": "code",
   "execution_count": 62,
   "metadata": {},
   "outputs": [],
   "source": [
    "def annotate_reason(text):\n",
    "    reason_id = int(text[-1])\n",
    "    reason = reasons_doc[reasons_doc[\"reason_id\"]==reason_id][\"reason\"].values[0]\n",
    "    return reason"
   ]
  },
  {
   "cell_type": "code",
   "execution_count": 63,
   "metadata": {},
   "outputs": [
    {
     "data": {
      "text/html": [
       "<div>\n",
       "<style scoped>\n",
       "    .dataframe tbody tr th:only-of-type {\n",
       "        vertical-align: middle;\n",
       "    }\n",
       "\n",
       "    .dataframe tbody tr th {\n",
       "        vertical-align: top;\n",
       "    }\n",
       "\n",
       "    .dataframe thead th {\n",
       "        text-align: right;\n",
       "    }\n",
       "</style>\n",
       "<table border=\"1\" class=\"dataframe\">\n",
       "  <thead>\n",
       "    <tr style=\"text-align: right;\">\n",
       "      <th></th>\n",
       "      <th>income</th>\n",
       "      <th>variable</th>\n",
       "      <th>value</th>\n",
       "      <th>reason_text</th>\n",
       "      <th>year</th>\n",
       "    </tr>\n",
       "  </thead>\n",
       "  <tbody>\n",
       "    <tr>\n",
       "      <th>0</th>\n",
       "      <td>Less than 10k</td>\n",
       "      <td>2010_1</td>\n",
       "      <td>55.901513</td>\n",
       "      <td>Don’t need it (not interested)</td>\n",
       "      <td>2010</td>\n",
       "    </tr>\n",
       "    <tr>\n",
       "      <th>1</th>\n",
       "      <td>10-19k</td>\n",
       "      <td>2010_1</td>\n",
       "      <td>49.661223</td>\n",
       "      <td>Don’t need it (not interested)</td>\n",
       "      <td>2010</td>\n",
       "    </tr>\n",
       "    <tr>\n",
       "      <th>2</th>\n",
       "      <td>20-29k</td>\n",
       "      <td>2010_1</td>\n",
       "      <td>39.724911</td>\n",
       "      <td>Don’t need it (not interested)</td>\n",
       "      <td>2010</td>\n",
       "    </tr>\n",
       "    <tr>\n",
       "      <th>3</th>\n",
       "      <td>30-39k</td>\n",
       "      <td>2010_1</td>\n",
       "      <td>28.927634</td>\n",
       "      <td>Don’t need it (not interested)</td>\n",
       "      <td>2010</td>\n",
       "    </tr>\n",
       "    <tr>\n",
       "      <th>4</th>\n",
       "      <td>40-49k</td>\n",
       "      <td>2010_1</td>\n",
       "      <td>18.764369</td>\n",
       "      <td>Don’t need it (not interested)</td>\n",
       "      <td>2010</td>\n",
       "    </tr>\n",
       "    <tr>\n",
       "      <th>5</th>\n",
       "      <td>50-74k</td>\n",
       "      <td>2010_1</td>\n",
       "      <td>14.451187</td>\n",
       "      <td>Don’t need it (not interested)</td>\n",
       "      <td>2010</td>\n",
       "    </tr>\n",
       "    <tr>\n",
       "      <th>6</th>\n",
       "      <td>75-99k</td>\n",
       "      <td>2010_1</td>\n",
       "      <td>8.731860</td>\n",
       "      <td>Don’t need it (not interested)</td>\n",
       "      <td>2010</td>\n",
       "    </tr>\n",
       "    <tr>\n",
       "      <th>7</th>\n",
       "      <td>100k or more</td>\n",
       "      <td>2010_1</td>\n",
       "      <td>4.761172</td>\n",
       "      <td>Don’t need it (not interested)</td>\n",
       "      <td>2010</td>\n",
       "    </tr>\n",
       "    <tr>\n",
       "      <th>8</th>\n",
       "      <td>Less than 10k</td>\n",
       "      <td>2010_2</td>\n",
       "      <td>30.862084</td>\n",
       "      <td>Too expensive</td>\n",
       "      <td>2010</td>\n",
       "    </tr>\n",
       "    <tr>\n",
       "      <th>9</th>\n",
       "      <td>10-19k</td>\n",
       "      <td>2010_2</td>\n",
       "      <td>41.329476</td>\n",
       "      <td>Too expensive</td>\n",
       "      <td>2010</td>\n",
       "    </tr>\n",
       "    <tr>\n",
       "      <th>10</th>\n",
       "      <td>20-29k</td>\n",
       "      <td>2010_2</td>\n",
       "      <td>40.457514</td>\n",
       "      <td>Too expensive</td>\n",
       "      <td>2010</td>\n",
       "    </tr>\n",
       "    <tr>\n",
       "      <th>11</th>\n",
       "      <td>30-39k</td>\n",
       "      <td>2010_2</td>\n",
       "      <td>42.668520</td>\n",
       "      <td>Too expensive</td>\n",
       "      <td>2010</td>\n",
       "    </tr>\n",
       "    <tr>\n",
       "      <th>12</th>\n",
       "      <td>40-49k</td>\n",
       "      <td>2010_2</td>\n",
       "      <td>41.510531</td>\n",
       "      <td>Too expensive</td>\n",
       "      <td>2010</td>\n",
       "    </tr>\n",
       "    <tr>\n",
       "      <th>13</th>\n",
       "      <td>50-74k</td>\n",
       "      <td>2010_2</td>\n",
       "      <td>42.708921</td>\n",
       "      <td>Too expensive</td>\n",
       "      <td>2010</td>\n",
       "    </tr>\n",
       "    <tr>\n",
       "      <th>14</th>\n",
       "      <td>75-99k</td>\n",
       "      <td>2010_2</td>\n",
       "      <td>43.704048</td>\n",
       "      <td>Too expensive</td>\n",
       "      <td>2010</td>\n",
       "    </tr>\n",
       "    <tr>\n",
       "      <th>15</th>\n",
       "      <td>100k or more</td>\n",
       "      <td>2010_2</td>\n",
       "      <td>44.098169</td>\n",
       "      <td>Too expensive</td>\n",
       "      <td>2010</td>\n",
       "    </tr>\n",
       "    <tr>\n",
       "      <th>16</th>\n",
       "      <td>Less than 10k</td>\n",
       "      <td>2010_3</td>\n",
       "      <td>39.890187</td>\n",
       "      <td>Can use it somewhere else</td>\n",
       "      <td>2010</td>\n",
       "    </tr>\n",
       "    <tr>\n",
       "      <th>17</th>\n",
       "      <td>10-19k</td>\n",
       "      <td>2010_3</td>\n",
       "      <td>31.307251</td>\n",
       "      <td>Can use it somewhere else</td>\n",
       "      <td>2010</td>\n",
       "    </tr>\n",
       "    <tr>\n",
       "      <th>18</th>\n",
       "      <td>20-29k</td>\n",
       "      <td>2010_3</td>\n",
       "      <td>32.267537</td>\n",
       "      <td>Can use it somewhere else</td>\n",
       "      <td>2010</td>\n",
       "    </tr>\n",
       "    <tr>\n",
       "      <th>19</th>\n",
       "      <td>30-39k</td>\n",
       "      <td>2010_3</td>\n",
       "      <td>28.798315</td>\n",
       "      <td>Can use it somewhere else</td>\n",
       "      <td>2010</td>\n",
       "    </tr>\n",
       "    <tr>\n",
       "      <th>20</th>\n",
       "      <td>40-49k</td>\n",
       "      <td>2010_3</td>\n",
       "      <td>26.626469</td>\n",
       "      <td>Can use it somewhere else</td>\n",
       "      <td>2010</td>\n",
       "    </tr>\n",
       "    <tr>\n",
       "      <th>21</th>\n",
       "      <td>50-74k</td>\n",
       "      <td>2010_3</td>\n",
       "      <td>22.594138</td>\n",
       "      <td>Can use it somewhere else</td>\n",
       "      <td>2010</td>\n",
       "    </tr>\n",
       "    <tr>\n",
       "      <th>22</th>\n",
       "      <td>75-99k</td>\n",
       "      <td>2010_3</td>\n",
       "      <td>20.812962</td>\n",
       "      <td>Can use it somewhere else</td>\n",
       "      <td>2010</td>\n",
       "    </tr>\n",
       "    <tr>\n",
       "      <th>23</th>\n",
       "      <td>100k or more</td>\n",
       "      <td>2010_3</td>\n",
       "      <td>20.798393</td>\n",
       "      <td>Can use it somewhere else</td>\n",
       "      <td>2010</td>\n",
       "    </tr>\n",
       "    <tr>\n",
       "      <th>24</th>\n",
       "      <td>Less than 10k</td>\n",
       "      <td>2010_4</td>\n",
       "      <td>4.158728</td>\n",
       "      <td>Not available in area</td>\n",
       "      <td>2010</td>\n",
       "    </tr>\n",
       "    <tr>\n",
       "      <th>25</th>\n",
       "      <td>10-19k</td>\n",
       "      <td>2010_4</td>\n",
       "      <td>3.527130</td>\n",
       "      <td>Not available in area</td>\n",
       "      <td>2010</td>\n",
       "    </tr>\n",
       "    <tr>\n",
       "      <th>26</th>\n",
       "      <td>20-29k</td>\n",
       "      <td>2010_4</td>\n",
       "      <td>4.064113</td>\n",
       "      <td>Not available in area</td>\n",
       "      <td>2010</td>\n",
       "    </tr>\n",
       "    <tr>\n",
       "      <th>27</th>\n",
       "      <td>30-39k</td>\n",
       "      <td>2010_4</td>\n",
       "      <td>5.944933</td>\n",
       "      <td>Not available in area</td>\n",
       "      <td>2010</td>\n",
       "    </tr>\n",
       "    <tr>\n",
       "      <th>28</th>\n",
       "      <td>40-49k</td>\n",
       "      <td>2010_4</td>\n",
       "      <td>6.368174</td>\n",
       "      <td>Not available in area</td>\n",
       "      <td>2010</td>\n",
       "    </tr>\n",
       "    <tr>\n",
       "      <th>29</th>\n",
       "      <td>50-74k</td>\n",
       "      <td>2010_4</td>\n",
       "      <td>8.819823</td>\n",
       "      <td>Not available in area</td>\n",
       "      <td>2010</td>\n",
       "    </tr>\n",
       "    <tr>\n",
       "      <th>...</th>\n",
       "      <td>...</td>\n",
       "      <td>...</td>\n",
       "      <td>...</td>\n",
       "      <td>...</td>\n",
       "      <td>...</td>\n",
       "    </tr>\n",
       "    <tr>\n",
       "      <th>186</th>\n",
       "      <td>20-29k</td>\n",
       "      <td>2017_4</td>\n",
       "      <td>1.917567</td>\n",
       "      <td>Not available in area</td>\n",
       "      <td>2017</td>\n",
       "    </tr>\n",
       "    <tr>\n",
       "      <th>187</th>\n",
       "      <td>30-39k</td>\n",
       "      <td>2017_4</td>\n",
       "      <td>1.791520</td>\n",
       "      <td>Not available in area</td>\n",
       "      <td>2017</td>\n",
       "    </tr>\n",
       "    <tr>\n",
       "      <th>188</th>\n",
       "      <td>40-49k</td>\n",
       "      <td>2017_4</td>\n",
       "      <td>3.867258</td>\n",
       "      <td>Not available in area</td>\n",
       "      <td>2017</td>\n",
       "    </tr>\n",
       "    <tr>\n",
       "      <th>189</th>\n",
       "      <td>50-74k</td>\n",
       "      <td>2017_4</td>\n",
       "      <td>3.435687</td>\n",
       "      <td>Not available in area</td>\n",
       "      <td>2017</td>\n",
       "    </tr>\n",
       "    <tr>\n",
       "      <th>190</th>\n",
       "      <td>75-99k</td>\n",
       "      <td>2017_4</td>\n",
       "      <td>5.370255</td>\n",
       "      <td>Not available in area</td>\n",
       "      <td>2017</td>\n",
       "    </tr>\n",
       "    <tr>\n",
       "      <th>191</th>\n",
       "      <td>100k or more</td>\n",
       "      <td>2017_4</td>\n",
       "      <td>4.339618</td>\n",
       "      <td>Not available in area</td>\n",
       "      <td>2017</td>\n",
       "    </tr>\n",
       "    <tr>\n",
       "      <th>192</th>\n",
       "      <td>Less than 10k</td>\n",
       "      <td>2017_5</td>\n",
       "      <td>3.752142</td>\n",
       "      <td>No computer or computer inadequate</td>\n",
       "      <td>2017</td>\n",
       "    </tr>\n",
       "    <tr>\n",
       "      <th>193</th>\n",
       "      <td>10-19k</td>\n",
       "      <td>2017_5</td>\n",
       "      <td>3.315675</td>\n",
       "      <td>No computer or computer inadequate</td>\n",
       "      <td>2017</td>\n",
       "    </tr>\n",
       "    <tr>\n",
       "      <th>194</th>\n",
       "      <td>20-29k</td>\n",
       "      <td>2017_5</td>\n",
       "      <td>4.707232</td>\n",
       "      <td>No computer or computer inadequate</td>\n",
       "      <td>2017</td>\n",
       "    </tr>\n",
       "    <tr>\n",
       "      <th>195</th>\n",
       "      <td>30-39k</td>\n",
       "      <td>2017_5</td>\n",
       "      <td>5.475669</td>\n",
       "      <td>No computer or computer inadequate</td>\n",
       "      <td>2017</td>\n",
       "    </tr>\n",
       "    <tr>\n",
       "      <th>196</th>\n",
       "      <td>40-49k</td>\n",
       "      <td>2017_5</td>\n",
       "      <td>3.383165</td>\n",
       "      <td>No computer or computer inadequate</td>\n",
       "      <td>2017</td>\n",
       "    </tr>\n",
       "    <tr>\n",
       "      <th>197</th>\n",
       "      <td>50-74k</td>\n",
       "      <td>2017_5</td>\n",
       "      <td>3.632886</td>\n",
       "      <td>No computer or computer inadequate</td>\n",
       "      <td>2017</td>\n",
       "    </tr>\n",
       "    <tr>\n",
       "      <th>198</th>\n",
       "      <td>75-99k</td>\n",
       "      <td>2017_5</td>\n",
       "      <td>5.474264</td>\n",
       "      <td>No computer or computer inadequate</td>\n",
       "      <td>2017</td>\n",
       "    </tr>\n",
       "    <tr>\n",
       "      <th>199</th>\n",
       "      <td>100k or more</td>\n",
       "      <td>2017_5</td>\n",
       "      <td>5.127794</td>\n",
       "      <td>No computer or computer inadequate</td>\n",
       "      <td>2017</td>\n",
       "    </tr>\n",
       "    <tr>\n",
       "      <th>200</th>\n",
       "      <td>Less than 10k</td>\n",
       "      <td>2017_6</td>\n",
       "      <td>0.997027</td>\n",
       "      <td>Privacy or security concerns</td>\n",
       "      <td>2017</td>\n",
       "    </tr>\n",
       "    <tr>\n",
       "      <th>201</th>\n",
       "      <td>10-19k</td>\n",
       "      <td>2017_6</td>\n",
       "      <td>1.305426</td>\n",
       "      <td>Privacy or security concerns</td>\n",
       "      <td>2017</td>\n",
       "    </tr>\n",
       "    <tr>\n",
       "      <th>202</th>\n",
       "      <td>20-29k</td>\n",
       "      <td>2017_6</td>\n",
       "      <td>1.344324</td>\n",
       "      <td>Privacy or security concerns</td>\n",
       "      <td>2017</td>\n",
       "    </tr>\n",
       "    <tr>\n",
       "      <th>203</th>\n",
       "      <td>30-39k</td>\n",
       "      <td>2017_6</td>\n",
       "      <td>0.985614</td>\n",
       "      <td>Privacy or security concerns</td>\n",
       "      <td>2017</td>\n",
       "    </tr>\n",
       "    <tr>\n",
       "      <th>204</th>\n",
       "      <td>40-49k</td>\n",
       "      <td>2017_6</td>\n",
       "      <td>2.320273</td>\n",
       "      <td>Privacy or security concerns</td>\n",
       "      <td>2017</td>\n",
       "    </tr>\n",
       "    <tr>\n",
       "      <th>205</th>\n",
       "      <td>50-74k</td>\n",
       "      <td>2017_6</td>\n",
       "      <td>2.009183</td>\n",
       "      <td>Privacy or security concerns</td>\n",
       "      <td>2017</td>\n",
       "    </tr>\n",
       "    <tr>\n",
       "      <th>206</th>\n",
       "      <td>75-99k</td>\n",
       "      <td>2017_6</td>\n",
       "      <td>1.333780</td>\n",
       "      <td>Privacy or security concerns</td>\n",
       "      <td>2017</td>\n",
       "    </tr>\n",
       "    <tr>\n",
       "      <th>207</th>\n",
       "      <td>100k or more</td>\n",
       "      <td>2017_6</td>\n",
       "      <td>3.479052</td>\n",
       "      <td>Privacy or security concerns</td>\n",
       "      <td>2017</td>\n",
       "    </tr>\n",
       "    <tr>\n",
       "      <th>208</th>\n",
       "      <td>Less than 10k</td>\n",
       "      <td>2017_7</td>\n",
       "      <td>9.826626</td>\n",
       "      <td>Other reasons</td>\n",
       "      <td>2017</td>\n",
       "    </tr>\n",
       "    <tr>\n",
       "      <th>209</th>\n",
       "      <td>10-19k</td>\n",
       "      <td>2017_7</td>\n",
       "      <td>10.881489</td>\n",
       "      <td>Other reasons</td>\n",
       "      <td>2017</td>\n",
       "    </tr>\n",
       "    <tr>\n",
       "      <th>210</th>\n",
       "      <td>20-29k</td>\n",
       "      <td>2017_7</td>\n",
       "      <td>8.094928</td>\n",
       "      <td>Other reasons</td>\n",
       "      <td>2017</td>\n",
       "    </tr>\n",
       "    <tr>\n",
       "      <th>211</th>\n",
       "      <td>30-39k</td>\n",
       "      <td>2017_7</td>\n",
       "      <td>9.122306</td>\n",
       "      <td>Other reasons</td>\n",
       "      <td>2017</td>\n",
       "    </tr>\n",
       "    <tr>\n",
       "      <th>212</th>\n",
       "      <td>40-49k</td>\n",
       "      <td>2017_7</td>\n",
       "      <td>8.006254</td>\n",
       "      <td>Other reasons</td>\n",
       "      <td>2017</td>\n",
       "    </tr>\n",
       "    <tr>\n",
       "      <th>213</th>\n",
       "      <td>50-74k</td>\n",
       "      <td>2017_7</td>\n",
       "      <td>8.766039</td>\n",
       "      <td>Other reasons</td>\n",
       "      <td>2017</td>\n",
       "    </tr>\n",
       "    <tr>\n",
       "      <th>214</th>\n",
       "      <td>75-99k</td>\n",
       "      <td>2017_7</td>\n",
       "      <td>10.812828</td>\n",
       "      <td>Other reasons</td>\n",
       "      <td>2017</td>\n",
       "    </tr>\n",
       "    <tr>\n",
       "      <th>215</th>\n",
       "      <td>100k or more</td>\n",
       "      <td>2017_7</td>\n",
       "      <td>14.197451</td>\n",
       "      <td>Other reasons</td>\n",
       "      <td>2017</td>\n",
       "    </tr>\n",
       "  </tbody>\n",
       "</table>\n",
       "<p>216 rows × 5 columns</p>\n",
       "</div>"
      ],
      "text/plain": [
       "            income variable      value                         reason_text  \\\n",
       "0    Less than 10k   2010_1  55.901513      Don’t need it (not interested)   \n",
       "1           10-19k   2010_1  49.661223      Don’t need it (not interested)   \n",
       "2           20-29k   2010_1  39.724911      Don’t need it (not interested)   \n",
       "3           30-39k   2010_1  28.927634      Don’t need it (not interested)   \n",
       "4           40-49k   2010_1  18.764369      Don’t need it (not interested)   \n",
       "5           50-74k   2010_1  14.451187      Don’t need it (not interested)   \n",
       "6           75-99k   2010_1   8.731860      Don’t need it (not interested)   \n",
       "7     100k or more   2010_1   4.761172      Don’t need it (not interested)   \n",
       "8    Less than 10k   2010_2  30.862084                       Too expensive   \n",
       "9           10-19k   2010_2  41.329476                       Too expensive   \n",
       "10          20-29k   2010_2  40.457514                       Too expensive   \n",
       "11          30-39k   2010_2  42.668520                       Too expensive   \n",
       "12          40-49k   2010_2  41.510531                       Too expensive   \n",
       "13          50-74k   2010_2  42.708921                       Too expensive   \n",
       "14          75-99k   2010_2  43.704048                       Too expensive   \n",
       "15    100k or more   2010_2  44.098169                       Too expensive   \n",
       "16   Less than 10k   2010_3  39.890187           Can use it somewhere else   \n",
       "17          10-19k   2010_3  31.307251           Can use it somewhere else   \n",
       "18          20-29k   2010_3  32.267537           Can use it somewhere else   \n",
       "19          30-39k   2010_3  28.798315           Can use it somewhere else   \n",
       "20          40-49k   2010_3  26.626469           Can use it somewhere else   \n",
       "21          50-74k   2010_3  22.594138           Can use it somewhere else   \n",
       "22          75-99k   2010_3  20.812962           Can use it somewhere else   \n",
       "23    100k or more   2010_3  20.798393           Can use it somewhere else   \n",
       "24   Less than 10k   2010_4   4.158728               Not available in area   \n",
       "25          10-19k   2010_4   3.527130               Not available in area   \n",
       "26          20-29k   2010_4   4.064113               Not available in area   \n",
       "27          30-39k   2010_4   5.944933               Not available in area   \n",
       "28          40-49k   2010_4   6.368174               Not available in area   \n",
       "29          50-74k   2010_4   8.819823               Not available in area   \n",
       "..             ...      ...        ...                                 ...   \n",
       "186         20-29k   2017_4   1.917567               Not available in area   \n",
       "187         30-39k   2017_4   1.791520               Not available in area   \n",
       "188         40-49k   2017_4   3.867258               Not available in area   \n",
       "189         50-74k   2017_4   3.435687               Not available in area   \n",
       "190         75-99k   2017_4   5.370255               Not available in area   \n",
       "191   100k or more   2017_4   4.339618               Not available in area   \n",
       "192  Less than 10k   2017_5   3.752142  No computer or computer inadequate   \n",
       "193         10-19k   2017_5   3.315675  No computer or computer inadequate   \n",
       "194         20-29k   2017_5   4.707232  No computer or computer inadequate   \n",
       "195         30-39k   2017_5   5.475669  No computer or computer inadequate   \n",
       "196         40-49k   2017_5   3.383165  No computer or computer inadequate   \n",
       "197         50-74k   2017_5   3.632886  No computer or computer inadequate   \n",
       "198         75-99k   2017_5   5.474264  No computer or computer inadequate   \n",
       "199   100k or more   2017_5   5.127794  No computer or computer inadequate   \n",
       "200  Less than 10k   2017_6   0.997027        Privacy or security concerns   \n",
       "201         10-19k   2017_6   1.305426        Privacy or security concerns   \n",
       "202         20-29k   2017_6   1.344324        Privacy or security concerns   \n",
       "203         30-39k   2017_6   0.985614        Privacy or security concerns   \n",
       "204         40-49k   2017_6   2.320273        Privacy or security concerns   \n",
       "205         50-74k   2017_6   2.009183        Privacy or security concerns   \n",
       "206         75-99k   2017_6   1.333780        Privacy or security concerns   \n",
       "207   100k or more   2017_6   3.479052        Privacy or security concerns   \n",
       "208  Less than 10k   2017_7   9.826626                       Other reasons   \n",
       "209         10-19k   2017_7  10.881489                       Other reasons   \n",
       "210         20-29k   2017_7   8.094928                       Other reasons   \n",
       "211         30-39k   2017_7   9.122306                       Other reasons   \n",
       "212         40-49k   2017_7   8.006254                       Other reasons   \n",
       "213         50-74k   2017_7   8.766039                       Other reasons   \n",
       "214         75-99k   2017_7  10.812828                       Other reasons   \n",
       "215   100k or more   2017_7  14.197451                       Other reasons   \n",
       "\n",
       "     year  \n",
       "0    2010  \n",
       "1    2010  \n",
       "2    2010  \n",
       "3    2010  \n",
       "4    2010  \n",
       "5    2010  \n",
       "6    2010  \n",
       "7    2010  \n",
       "8    2010  \n",
       "9    2010  \n",
       "10   2010  \n",
       "11   2010  \n",
       "12   2010  \n",
       "13   2010  \n",
       "14   2010  \n",
       "15   2010  \n",
       "16   2010  \n",
       "17   2010  \n",
       "18   2010  \n",
       "19   2010  \n",
       "20   2010  \n",
       "21   2010  \n",
       "22   2010  \n",
       "23   2010  \n",
       "24   2010  \n",
       "25   2010  \n",
       "26   2010  \n",
       "27   2010  \n",
       "28   2010  \n",
       "29   2010  \n",
       "..    ...  \n",
       "186  2017  \n",
       "187  2017  \n",
       "188  2017  \n",
       "189  2017  \n",
       "190  2017  \n",
       "191  2017  \n",
       "192  2017  \n",
       "193  2017  \n",
       "194  2017  \n",
       "195  2017  \n",
       "196  2017  \n",
       "197  2017  \n",
       "198  2017  \n",
       "199  2017  \n",
       "200  2017  \n",
       "201  2017  \n",
       "202  2017  \n",
       "203  2017  \n",
       "204  2017  \n",
       "205  2017  \n",
       "206  2017  \n",
       "207  2017  \n",
       "208  2017  \n",
       "209  2017  \n",
       "210  2017  \n",
       "211  2017  \n",
       "212  2017  \n",
       "213  2017  \n",
       "214  2017  \n",
       "215  2017  \n",
       "\n",
       "[216 rows x 5 columns]"
      ]
     },
     "execution_count": 63,
     "metadata": {},
     "output_type": "execute_result"
    }
   ],
   "source": [
    "reasons_wide = pd.melt(nces_reasons, id_vars=[\"income\"])\n",
    "reasons_wide[\"reason_text\"] = reasons_wide[\"variable\"].map(lambda x: annotate_reason(x))\n",
    "reasons_wide[\"year\"] = reasons_wide[\"variable\"].map(lambda x: x[0:4])\n",
    "reasons_wide"
   ]
  },
  {
   "cell_type": "code",
   "execution_count": 64,
   "metadata": {},
   "outputs": [],
   "source": [
    "# alt.Chart(reasons_wide).mark_point().encode(\n",
    "#     x=\"year:O\",\n",
    "#     y=\"value\",\n",
    "#     color=\"reason_text\"\n",
    "# ).transform_filter(\n",
    "#     alt.datum.income == \"10-19k\"\n",
    "# )"
   ]
  },
  {
   "cell_type": "code",
   "execution_count": 92,
   "metadata": {},
   "outputs": [
    {
     "data": {
      "text/html": [
       "\n",
       "<div id=\"altair-viz-8f10a17187074051b1d69525d5e311ad\"></div>\n",
       "<script type=\"text/javascript\">\n",
       "  (function(spec, embedOpt){\n",
       "    const outputDiv = document.getElementById(\"altair-viz-8f10a17187074051b1d69525d5e311ad\");\n",
       "    const paths = {\n",
       "      \"vega\": \"https://cdn.jsdelivr.net/npm//vega@5?noext\",\n",
       "      \"vega-lib\": \"https://cdn.jsdelivr.net/npm//vega-lib?noext\",\n",
       "      \"vega-lite\": \"https://cdn.jsdelivr.net/npm//vega-lite@4.0.2?noext\",\n",
       "      \"vega-embed\": \"https://cdn.jsdelivr.net/npm//vega-embed@6?noext\",\n",
       "    };\n",
       "\n",
       "    function loadScript(lib) {\n",
       "      return new Promise(function(resolve, reject) {\n",
       "        var s = document.createElement('script');\n",
       "        s.src = paths[lib];\n",
       "        s.async = true;\n",
       "        s.onload = () => resolve(paths[lib]);\n",
       "        s.onerror = () => reject(`Error loading script: ${paths[lib]}`);\n",
       "        document.getElementsByTagName(\"head\")[0].appendChild(s);\n",
       "      });\n",
       "    }\n",
       "\n",
       "    function showError(err) {\n",
       "      outputDiv.innerHTML = `<div class=\"error\" style=\"color:red;\">${err}</div>`;\n",
       "      throw err;\n",
       "    }\n",
       "\n",
       "    function displayChart(vegaEmbed) {\n",
       "      vegaEmbed(outputDiv, spec, embedOpt)\n",
       "        .catch(err => showError(`Javascript Error: ${err.message}<br>This usually means there's a typo in your chart specification. See the javascript console for the full traceback.`));\n",
       "    }\n",
       "\n",
       "    if(typeof define === \"function\" && define.amd) {\n",
       "      requirejs.config({paths});\n",
       "      require([\"vega-embed\"], displayChart, err => showError(`Error loading script: ${err.message}`));\n",
       "    } else if (typeof vegaEmbed === \"function\") {\n",
       "      displayChart(vegaEmbed);\n",
       "    } else {\n",
       "      loadScript(\"vega\")\n",
       "        .then(() => loadScript(\"vega-lite\"))\n",
       "        .then(() => loadScript(\"vega-embed\"))\n",
       "        .catch(showError)\n",
       "        .then(() => displayChart(vegaEmbed));\n",
       "    }\n",
       "  })({\"config\": {\"view\": {\"continuousWidth\": 400, \"continuousHeight\": 300}}, \"data\": {\"name\": \"data-d2f92d7ef63a91bbaed8e96cf51c080e\"}, \"mark\": \"rect\", \"encoding\": {\"color\": {\"type\": \"quantitative\", \"field\": \"value\"}, \"x\": {\"type\": \"nominal\", \"field\": \"income\"}, \"y\": {\"type\": \"nominal\", \"field\": \"reason_text\"}}, \"transform\": [{\"filter\": \"(datum.year === '2017')\"}], \"$schema\": \"https://vega.github.io/schema/vega-lite/v4.0.2.json\", \"datasets\": {\"data-d2f92d7ef63a91bbaed8e96cf51c080e\": [{\"income\": \"Less than 10k\", \"variable\": \"2010_1\", \"value\": 55.901513, \"reason_text\": \"Don\\u2019t need it (not interested)\", \"year\": \"2010\"}, {\"income\": \"10-19k\", \"variable\": \"2010_1\", \"value\": 49.661223, \"reason_text\": \"Don\\u2019t need it (not interested)\", \"year\": \"2010\"}, {\"income\": \"20-29k\", \"variable\": \"2010_1\", \"value\": 39.724911, \"reason_text\": \"Don\\u2019t need it (not interested)\", \"year\": \"2010\"}, {\"income\": \"30-39k\", \"variable\": \"2010_1\", \"value\": 28.927634, \"reason_text\": \"Don\\u2019t need it (not interested)\", \"year\": \"2010\"}, {\"income\": \"40-49k\", \"variable\": \"2010_1\", \"value\": 18.764369, \"reason_text\": \"Don\\u2019t need it (not interested)\", \"year\": \"2010\"}, {\"income\": \"50-74k\", \"variable\": \"2010_1\", \"value\": 14.451187, \"reason_text\": \"Don\\u2019t need it (not interested)\", \"year\": \"2010\"}, {\"income\": \"75-99k\", \"variable\": \"2010_1\", \"value\": 8.731860000000001, \"reason_text\": \"Don\\u2019t need it (not interested)\", \"year\": \"2010\"}, {\"income\": \"100k or more\", \"variable\": \"2010_1\", \"value\": 4.761172, \"reason_text\": \"Don\\u2019t need it (not interested)\", \"year\": \"2010\"}, {\"income\": \"Less than 10k\", \"variable\": \"2010_2\", \"value\": 30.862084000000003, \"reason_text\": \"Too expensive\", \"year\": \"2010\"}, {\"income\": \"10-19k\", \"variable\": \"2010_2\", \"value\": 41.329476, \"reason_text\": \"Too expensive\", \"year\": \"2010\"}, {\"income\": \"20-29k\", \"variable\": \"2010_2\", \"value\": 40.457514, \"reason_text\": \"Too expensive\", \"year\": \"2010\"}, {\"income\": \"30-39k\", \"variable\": \"2010_2\", \"value\": 42.66852, \"reason_text\": \"Too expensive\", \"year\": \"2010\"}, {\"income\": \"40-49k\", \"variable\": \"2010_2\", \"value\": 41.510531, \"reason_text\": \"Too expensive\", \"year\": \"2010\"}, {\"income\": \"50-74k\", \"variable\": \"2010_2\", \"value\": 42.708921000000004, \"reason_text\": \"Too expensive\", \"year\": \"2010\"}, {\"income\": \"75-99k\", \"variable\": \"2010_2\", \"value\": 43.704048, \"reason_text\": \"Too expensive\", \"year\": \"2010\"}, {\"income\": \"100k or more\", \"variable\": \"2010_2\", \"value\": 44.098169, \"reason_text\": \"Too expensive\", \"year\": \"2010\"}, {\"income\": \"Less than 10k\", \"variable\": \"2010_3\", \"value\": 39.890187, \"reason_text\": \"Can use it somewhere else\", \"year\": \"2010\"}, {\"income\": \"10-19k\", \"variable\": \"2010_3\", \"value\": 31.307251, \"reason_text\": \"Can use it somewhere else\", \"year\": \"2010\"}, {\"income\": \"20-29k\", \"variable\": \"2010_3\", \"value\": 32.267537, \"reason_text\": \"Can use it somewhere else\", \"year\": \"2010\"}, {\"income\": \"30-39k\", \"variable\": \"2010_3\", \"value\": 28.798315000000002, \"reason_text\": \"Can use it somewhere else\", \"year\": \"2010\"}, {\"income\": \"40-49k\", \"variable\": \"2010_3\", \"value\": 26.626469, \"reason_text\": \"Can use it somewhere else\", \"year\": \"2010\"}, {\"income\": \"50-74k\", \"variable\": \"2010_3\", \"value\": 22.594138, \"reason_text\": \"Can use it somewhere else\", \"year\": \"2010\"}, {\"income\": \"75-99k\", \"variable\": \"2010_3\", \"value\": 20.812962, \"reason_text\": \"Can use it somewhere else\", \"year\": \"2010\"}, {\"income\": \"100k or more\", \"variable\": \"2010_3\", \"value\": 20.798393, \"reason_text\": \"Can use it somewhere else\", \"year\": \"2010\"}, {\"income\": \"Less than 10k\", \"variable\": \"2010_4\", \"value\": 4.158728, \"reason_text\": \"Not available in area\", \"year\": \"2010\"}, {\"income\": \"10-19k\", \"variable\": \"2010_4\", \"value\": 3.52713, \"reason_text\": \"Not available in area\", \"year\": \"2010\"}, {\"income\": \"20-29k\", \"variable\": \"2010_4\", \"value\": 4.064113, \"reason_text\": \"Not available in area\", \"year\": \"2010\"}, {\"income\": \"30-39k\", \"variable\": \"2010_4\", \"value\": 5.944933, \"reason_text\": \"Not available in area\", \"year\": \"2010\"}, {\"income\": \"40-49k\", \"variable\": \"2010_4\", \"value\": 6.368174, \"reason_text\": \"Not available in area\", \"year\": \"2010\"}, {\"income\": \"50-74k\", \"variable\": \"2010_4\", \"value\": 8.819823, \"reason_text\": \"Not available in area\", \"year\": \"2010\"}, {\"income\": \"75-99k\", \"variable\": \"2010_4\", \"value\": 9.562407, \"reason_text\": \"Not available in area\", \"year\": \"2010\"}, {\"income\": \"100k or more\", \"variable\": \"2010_4\", \"value\": 10.511052000000001, \"reason_text\": \"Not available in area\", \"year\": \"2010\"}, {\"income\": \"Less than 10k\", \"variable\": \"2010_5\", \"value\": 0.604355, \"reason_text\": \"No computer or computer inadequate\", \"year\": \"2010\"}, {\"income\": \"10-19k\", \"variable\": \"2010_5\", \"value\": 0.455517, \"reason_text\": \"No computer or computer inadequate\", \"year\": \"2010\"}, {\"income\": \"20-29k\", \"variable\": \"2010_5\", \"value\": 1.0299530000000001, \"reason_text\": \"No computer or computer inadequate\", \"year\": \"2010\"}, {\"income\": \"30-39k\", \"variable\": \"2010_5\", \"value\": 0.949274, \"reason_text\": \"No computer or computer inadequate\", \"year\": \"2010\"}, {\"income\": \"40-49k\", \"variable\": \"2010_5\", \"value\": 1.350076, \"reason_text\": \"No computer or computer inadequate\", \"year\": \"2010\"}, {\"income\": \"50-74k\", \"variable\": \"2010_5\", \"value\": 1.533167, \"reason_text\": \"No computer or computer inadequate\", \"year\": \"2010\"}, {\"income\": \"75-99k\", \"variable\": \"2010_5\", \"value\": 2.9355450000000003, \"reason_text\": \"No computer or computer inadequate\", \"year\": \"2010\"}, {\"income\": \"100k or more\", \"variable\": \"2010_5\", \"value\": 3.484479, \"reason_text\": \"No computer or computer inadequate\", \"year\": \"2010\"}, {\"income\": \"Less than 10k\", \"variable\": \"2010_6\", \"value\": 18.682666, \"reason_text\": \"Privacy or security concerns\", \"year\": \"2010\"}, {\"income\": \"10-19k\", \"variable\": \"2010_6\", \"value\": 17.191437, \"reason_text\": \"Privacy or security concerns\", \"year\": \"2010\"}, {\"income\": \"20-29k\", \"variable\": \"2010_6\", \"value\": 14.897673999999999, \"reason_text\": \"Privacy or security concerns\", \"year\": \"2010\"}, {\"income\": \"30-39k\", \"variable\": \"2010_6\", \"value\": 14.280978, \"reason_text\": \"Privacy or security concerns\", \"year\": \"2010\"}, {\"income\": \"40-49k\", \"variable\": \"2010_6\", \"value\": 15.412085000000001, \"reason_text\": \"Privacy or security concerns\", \"year\": \"2010\"}, {\"income\": \"50-74k\", \"variable\": \"2010_6\", \"value\": 15.013166, \"reason_text\": \"Privacy or security concerns\", \"year\": \"2010\"}, {\"income\": \"75-99k\", \"variable\": \"2010_6\", \"value\": 13.888330999999999, \"reason_text\": \"Privacy or security concerns\", \"year\": \"2010\"}, {\"income\": \"100k or more\", \"variable\": \"2010_6\", \"value\": 9.517083, \"reason_text\": \"Privacy or security concerns\", \"year\": \"2010\"}, {\"income\": \"Less than 10k\", \"variable\": \"2010_7\", \"value\": 5.80198, \"reason_text\": \"Other reasons\", \"year\": \"2010\"}, {\"income\": \"10-19k\", \"variable\": \"2010_7\", \"value\": 6.189189, \"reason_text\": \"Other reasons\", \"year\": \"2010\"}, {\"income\": \"20-29k\", \"variable\": \"2010_7\", \"value\": 7.283208, \"reason_text\": \"Other reasons\", \"year\": \"2010\"}, {\"income\": \"30-39k\", \"variable\": \"2010_7\", \"value\": 7.357981, \"reason_text\": \"Other reasons\", \"year\": \"2010\"}, {\"income\": \"40-49k\", \"variable\": \"2010_7\", \"value\": 8.732664999999999, \"reason_text\": \"Other reasons\", \"year\": \"2010\"}, {\"income\": \"50-74k\", \"variable\": \"2010_7\", \"value\": 9.330786, \"reason_text\": \"Other reasons\", \"year\": \"2010\"}, {\"income\": \"75-99k\", \"variable\": \"2010_7\", \"value\": 9.096706, \"reason_text\": \"Other reasons\", \"year\": \"2010\"}, {\"income\": \"100k or more\", \"variable\": \"2010_7\", \"value\": 11.590825, \"reason_text\": \"Other reasons\", \"year\": \"2010\"}, {\"income\": \"Less than 10k\", \"variable\": \"2013_1\", \"value\": 32.303000000000004, \"reason_text\": \"Don\\u2019t need it (not interested)\", \"year\": \"2013\"}, {\"income\": \"10-19k\", \"variable\": \"2013_1\", \"value\": 41.9542, \"reason_text\": \"Don\\u2019t need it (not interested)\", \"year\": \"2013\"}, {\"income\": \"20-29k\", \"variable\": \"2013_1\", \"value\": 43.1331, \"reason_text\": \"Don\\u2019t need it (not interested)\", \"year\": \"2013\"}, {\"income\": \"30-39k\", \"variable\": \"2013_1\", \"value\": 42.8311, \"reason_text\": \"Don\\u2019t need it (not interested)\", \"year\": \"2013\"}, {\"income\": \"40-49k\", \"variable\": \"2013_1\", \"value\": 44.5498, \"reason_text\": \"Don\\u2019t need it (not interested)\", \"year\": \"2013\"}, {\"income\": \"50-74k\", \"variable\": \"2013_1\", \"value\": 40.6559, \"reason_text\": \"Don\\u2019t need it (not interested)\", \"year\": \"2013\"}, {\"income\": \"75-99k\", \"variable\": \"2013_1\", \"value\": 44.3455, \"reason_text\": \"Don\\u2019t need it (not interested)\", \"year\": \"2013\"}, {\"income\": \"100k or more\", \"variable\": \"2013_1\", \"value\": 46.6715, \"reason_text\": \"Don\\u2019t need it (not interested)\", \"year\": \"2013\"}, {\"income\": \"Less than 10k\", \"variable\": \"2013_2\", \"value\": 45.1196, \"reason_text\": \"Too expensive\", \"year\": \"2013\"}, {\"income\": \"10-19k\", \"variable\": \"2013_2\", \"value\": 34.8852, \"reason_text\": \"Too expensive\", \"year\": \"2013\"}, {\"income\": \"20-29k\", \"variable\": \"2013_2\", \"value\": 33.82, \"reason_text\": \"Too expensive\", \"year\": \"2013\"}, {\"income\": \"30-39k\", \"variable\": \"2013_2\", \"value\": 31.6946, \"reason_text\": \"Too expensive\", \"year\": \"2013\"}, {\"income\": \"40-49k\", \"variable\": \"2013_2\", \"value\": 29.3782, \"reason_text\": \"Too expensive\", \"year\": \"2013\"}, {\"income\": \"50-74k\", \"variable\": \"2013_2\", \"value\": 28.4161, \"reason_text\": \"Too expensive\", \"year\": \"2013\"}, {\"income\": \"75-99k\", \"variable\": \"2013_2\", \"value\": 25.9287, \"reason_text\": \"Too expensive\", \"year\": \"2013\"}, {\"income\": \"100k or more\", \"variable\": \"2013_2\", \"value\": 20.0409, \"reason_text\": \"Too expensive\", \"year\": \"2013\"}, {\"income\": \"Less than 10k\", \"variable\": \"2013_3\", \"value\": 2.2452, \"reason_text\": \"Can use it somewhere else\", \"year\": \"2013\"}, {\"income\": \"10-19k\", \"variable\": \"2013_3\", \"value\": 1.5423, \"reason_text\": \"Can use it somewhere else\", \"year\": \"2013\"}, {\"income\": \"20-29k\", \"variable\": \"2013_3\", \"value\": 2.4808, \"reason_text\": \"Can use it somewhere else\", \"year\": \"2013\"}, {\"income\": \"30-39k\", \"variable\": \"2013_3\", \"value\": 2.9534, \"reason_text\": \"Can use it somewhere else\", \"year\": \"2013\"}, {\"income\": \"40-49k\", \"variable\": \"2013_3\", \"value\": 2.8346, \"reason_text\": \"Can use it somewhere else\", \"year\": \"2013\"}, {\"income\": \"50-74k\", \"variable\": \"2013_3\", \"value\": 6.402, \"reason_text\": \"Can use it somewhere else\", \"year\": \"2013\"}, {\"income\": \"75-99k\", \"variable\": \"2013_3\", \"value\": 7.3189, \"reason_text\": \"Can use it somewhere else\", \"year\": \"2013\"}, {\"income\": \"100k or more\", \"variable\": \"2013_3\", \"value\": 6.4615, \"reason_text\": \"Can use it somewhere else\", \"year\": \"2013\"}, {\"income\": \"Less than 10k\", \"variable\": \"2013_4\", \"value\": 1.4889, \"reason_text\": \"Not available in area\", \"year\": \"2013\"}, {\"income\": \"10-19k\", \"variable\": \"2013_4\", \"value\": 1.3504, \"reason_text\": \"Not available in area\", \"year\": \"2013\"}, {\"income\": \"20-29k\", \"variable\": \"2013_4\", \"value\": 1.4259, \"reason_text\": \"Not available in area\", \"year\": \"2013\"}, {\"income\": \"30-39k\", \"variable\": \"2013_4\", \"value\": 1.9486, \"reason_text\": \"Not available in area\", \"year\": \"2013\"}, {\"income\": \"40-49k\", \"variable\": \"2013_4\", \"value\": 1.9580000000000002, \"reason_text\": \"Not available in area\", \"year\": \"2013\"}, {\"income\": \"50-74k\", \"variable\": \"2013_4\", \"value\": 4.2503, \"reason_text\": \"Not available in area\", \"year\": \"2013\"}, {\"income\": \"75-99k\", \"variable\": \"2013_4\", \"value\": 6.9672, \"reason_text\": \"Not available in area\", \"year\": \"2013\"}, {\"income\": \"100k or more\", \"variable\": \"2013_4\", \"value\": 5.0654, \"reason_text\": \"Not available in area\", \"year\": \"2013\"}, {\"income\": \"Less than 10k\", \"variable\": \"2013_5\", \"value\": 12.0846, \"reason_text\": \"No computer or computer inadequate\", \"year\": \"2013\"}, {\"income\": \"10-19k\", \"variable\": \"2013_5\", \"value\": 12.3138, \"reason_text\": \"No computer or computer inadequate\", \"year\": \"2013\"}, {\"income\": \"20-29k\", \"variable\": \"2013_5\", \"value\": 12.5266, \"reason_text\": \"No computer or computer inadequate\", \"year\": \"2013\"}, {\"income\": \"30-39k\", \"variable\": \"2013_5\", \"value\": 12.2838, \"reason_text\": \"No computer or computer inadequate\", \"year\": \"2013\"}, {\"income\": \"40-49k\", \"variable\": \"2013_5\", \"value\": 12.5607, \"reason_text\": \"No computer or computer inadequate\", \"year\": \"2013\"}, {\"income\": \"50-74k\", \"variable\": \"2013_5\", \"value\": 11.4668, \"reason_text\": \"No computer or computer inadequate\", \"year\": \"2013\"}, {\"income\": \"75-99k\", \"variable\": \"2013_5\", \"value\": 6.66, \"reason_text\": \"No computer or computer inadequate\", \"year\": \"2013\"}, {\"income\": \"100k or more\", \"variable\": \"2013_5\", \"value\": 9.9939, \"reason_text\": \"No computer or computer inadequate\", \"year\": \"2013\"}, {\"income\": \"Less than 10k\", \"variable\": \"2013_7\", \"value\": 6.7586, \"reason_text\": \"Other reasons\", \"year\": \"2013\"}, {\"income\": \"10-19k\", \"variable\": \"2013_7\", \"value\": 7.9541, \"reason_text\": \"Other reasons\", \"year\": \"2013\"}, {\"income\": \"20-29k\", \"variable\": \"2013_7\", \"value\": 6.6136, \"reason_text\": \"Other reasons\", \"year\": \"2013\"}, {\"income\": \"30-39k\", \"variable\": \"2013_7\", \"value\": 8.2885, \"reason_text\": \"Other reasons\", \"year\": \"2013\"}, {\"income\": \"40-49k\", \"variable\": \"2013_7\", \"value\": 8.7186, \"reason_text\": \"Other reasons\", \"year\": \"2013\"}, {\"income\": \"50-74k\", \"variable\": \"2013_7\", \"value\": 8.8091, \"reason_text\": \"Other reasons\", \"year\": \"2013\"}, {\"income\": \"75-99k\", \"variable\": \"2013_7\", \"value\": 8.7797, \"reason_text\": \"Other reasons\", \"year\": \"2013\"}, {\"income\": \"100k or more\", \"variable\": \"2013_7\", \"value\": 11.7668, \"reason_text\": \"Other reasons\", \"year\": \"2013\"}, {\"income\": \"Less than 10k\", \"variable\": \"2015_1\", \"value\": 41.282306, \"reason_text\": \"Don\\u2019t need it (not interested)\", \"year\": \"2015\"}, {\"income\": \"10-19k\", \"variable\": \"2015_1\", \"value\": 48.304867, \"reason_text\": \"Don\\u2019t need it (not interested)\", \"year\": \"2015\"}, {\"income\": \"20-29k\", \"variable\": \"2015_1\", \"value\": 48.81847, \"reason_text\": \"Don\\u2019t need it (not interested)\", \"year\": \"2015\"}, {\"income\": \"30-39k\", \"variable\": \"2015_1\", \"value\": 50.066734999999994, \"reason_text\": \"Don\\u2019t need it (not interested)\", \"year\": \"2015\"}, {\"income\": \"40-49k\", \"variable\": \"2015_1\", \"value\": 52.745429, \"reason_text\": \"Don\\u2019t need it (not interested)\", \"year\": \"2015\"}, {\"income\": \"50-74k\", \"variable\": \"2015_1\", \"value\": 60.514928000000005, \"reason_text\": \"Don\\u2019t need it (not interested)\", \"year\": \"2015\"}, {\"income\": \"75-99k\", \"variable\": \"2015_1\", \"value\": 58.325192, \"reason_text\": \"Don\\u2019t need it (not interested)\", \"year\": \"2015\"}, {\"income\": \"100k or more\", \"variable\": \"2015_1\", \"value\": 56.986048, \"reason_text\": \"Don\\u2019t need it (not interested)\", \"year\": \"2015\"}, {\"income\": \"Less than 10k\", \"variable\": \"2015_2\", \"value\": 40.895604, \"reason_text\": \"Too expensive\", \"year\": \"2015\"}, {\"income\": \"10-19k\", \"variable\": \"2015_2\", \"value\": 31.863561999999998, \"reason_text\": \"Too expensive\", \"year\": \"2015\"}, {\"income\": \"20-29k\", \"variable\": \"2015_2\", \"value\": 29.707318, \"reason_text\": \"Too expensive\", \"year\": \"2015\"}, {\"income\": \"30-39k\", \"variable\": \"2015_2\", \"value\": 28.581809000000003, \"reason_text\": \"Too expensive\", \"year\": \"2015\"}, {\"income\": \"40-49k\", \"variable\": \"2015_2\", \"value\": 24.180625, \"reason_text\": \"Too expensive\", \"year\": \"2015\"}, {\"income\": \"50-74k\", \"variable\": \"2015_2\", \"value\": 16.759539, \"reason_text\": \"Too expensive\", \"year\": \"2015\"}, {\"income\": \"75-99k\", \"variable\": \"2015_2\", \"value\": 16.156847, \"reason_text\": \"Too expensive\", \"year\": \"2015\"}, {\"income\": \"100k or more\", \"variable\": \"2015_2\", \"value\": 15.709495, \"reason_text\": \"Too expensive\", \"year\": \"2015\"}, {\"income\": \"Less than 10k\", \"variable\": \"2015_3\", \"value\": 1.269475, \"reason_text\": \"Can use it somewhere else\", \"year\": \"2015\"}, {\"income\": \"10-19k\", \"variable\": \"2015_3\", \"value\": 1.0332379999999999, \"reason_text\": \"Can use it somewhere else\", \"year\": \"2015\"}, {\"income\": \"20-29k\", \"variable\": \"2015_3\", \"value\": 1.304302, \"reason_text\": \"Can use it somewhere else\", \"year\": \"2015\"}, {\"income\": \"30-39k\", \"variable\": \"2015_3\", \"value\": 1.6904919999999999, \"reason_text\": \"Can use it somewhere else\", \"year\": \"2015\"}, {\"income\": \"40-49k\", \"variable\": \"2015_3\", \"value\": 3.248859, \"reason_text\": \"Can use it somewhere else\", \"year\": \"2015\"}, {\"income\": \"50-74k\", \"variable\": \"2015_3\", \"value\": 2.983978, \"reason_text\": \"Can use it somewhere else\", \"year\": \"2015\"}, {\"income\": \"75-99k\", \"variable\": \"2015_3\", \"value\": 5.176594000000001, \"reason_text\": \"Can use it somewhere else\", \"year\": \"2015\"}, {\"income\": \"100k or more\", \"variable\": \"2015_3\", \"value\": 3.687158, \"reason_text\": \"Can use it somewhere else\", \"year\": \"2015\"}, {\"income\": \"Less than 10k\", \"variable\": \"2015_4\", \"value\": 1.205087, \"reason_text\": \"Not available in area\", \"year\": \"2015\"}, {\"income\": \"10-19k\", \"variable\": \"2015_4\", \"value\": 1.523601, \"reason_text\": \"Not available in area\", \"year\": \"2015\"}, {\"income\": \"20-29k\", \"variable\": \"2015_4\", \"value\": 1.247515, \"reason_text\": \"Not available in area\", \"year\": \"2015\"}, {\"income\": \"30-39k\", \"variable\": \"2015_4\", \"value\": 2.1188990000000003, \"reason_text\": \"Not available in area\", \"year\": \"2015\"}, {\"income\": \"40-49k\", \"variable\": \"2015_4\", \"value\": 4.048188, \"reason_text\": \"Not available in area\", \"year\": \"2015\"}, {\"income\": \"50-74k\", \"variable\": \"2015_4\", \"value\": 5.903886, \"reason_text\": \"Not available in area\", \"year\": \"2015\"}, {\"income\": \"75-99k\", \"variable\": \"2015_4\", \"value\": 4.617361, \"reason_text\": \"Not available in area\", \"year\": \"2015\"}, {\"income\": \"100k or more\", \"variable\": \"2015_4\", \"value\": 6.333241, \"reason_text\": \"Not available in area\", \"year\": \"2015\"}, {\"income\": \"Less than 10k\", \"variable\": \"2015_5\", \"value\": 8.402742, \"reason_text\": \"No computer or computer inadequate\", \"year\": \"2015\"}, {\"income\": \"10-19k\", \"variable\": \"2015_5\", \"value\": 9.403751, \"reason_text\": \"No computer or computer inadequate\", \"year\": \"2015\"}, {\"income\": \"20-29k\", \"variable\": \"2015_5\", \"value\": 8.482689, \"reason_text\": \"No computer or computer inadequate\", \"year\": \"2015\"}, {\"income\": \"30-39k\", \"variable\": \"2015_5\", \"value\": 9.249542, \"reason_text\": \"No computer or computer inadequate\", \"year\": \"2015\"}, {\"income\": \"40-49k\", \"variable\": \"2015_5\", \"value\": 6.68001, \"reason_text\": \"No computer or computer inadequate\", \"year\": \"2015\"}, {\"income\": \"50-74k\", \"variable\": \"2015_5\", \"value\": 5.562901, \"reason_text\": \"No computer or computer inadequate\", \"year\": \"2015\"}, {\"income\": \"75-99k\", \"variable\": \"2015_5\", \"value\": 5.106726999999999, \"reason_text\": \"No computer or computer inadequate\", \"year\": \"2015\"}, {\"income\": \"100k or more\", \"variable\": \"2015_5\", \"value\": 5.063466, \"reason_text\": \"No computer or computer inadequate\", \"year\": \"2015\"}, {\"income\": \"Less than 10k\", \"variable\": \"2015_6\", \"value\": 0.738135, \"reason_text\": \"Privacy or security concerns\", \"year\": \"2015\"}, {\"income\": \"10-19k\", \"variable\": \"2015_6\", \"value\": 1.042608, \"reason_text\": \"Privacy or security concerns\", \"year\": \"2015\"}, {\"income\": \"20-29k\", \"variable\": \"2015_6\", \"value\": 1.258063, \"reason_text\": \"Privacy or security concerns\", \"year\": \"2015\"}, {\"income\": \"30-39k\", \"variable\": \"2015_6\", \"value\": 1.032163, \"reason_text\": \"Privacy or security concerns\", \"year\": \"2015\"}, {\"income\": \"40-49k\", \"variable\": \"2015_6\", \"value\": 1.838689, \"reason_text\": \"Privacy or security concerns\", \"year\": \"2015\"}, {\"income\": \"50-74k\", \"variable\": \"2015_6\", \"value\": 1.330905, \"reason_text\": \"Privacy or security concerns\", \"year\": \"2015\"}, {\"income\": \"75-99k\", \"variable\": \"2015_6\", \"value\": 1.87035, \"reason_text\": \"Privacy or security concerns\", \"year\": \"2015\"}, {\"income\": \"100k or more\", \"variable\": \"2015_6\", \"value\": 3.262312, \"reason_text\": \"Privacy or security concerns\", \"year\": \"2015\"}, {\"income\": \"Less than 10k\", \"variable\": \"2015_7\", \"value\": 6.206651, \"reason_text\": \"Other reasons\", \"year\": \"2015\"}, {\"income\": \"10-19k\", \"variable\": \"2015_7\", \"value\": 6.828373, \"reason_text\": \"Other reasons\", \"year\": \"2015\"}, {\"income\": \"20-29k\", \"variable\": \"2015_7\", \"value\": 9.181644, \"reason_text\": \"Other reasons\", \"year\": \"2015\"}, {\"income\": \"30-39k\", \"variable\": \"2015_7\", \"value\": 7.260361, \"reason_text\": \"Other reasons\", \"year\": \"2015\"}, {\"income\": \"40-49k\", \"variable\": \"2015_7\", \"value\": 7.258199, \"reason_text\": \"Other reasons\", \"year\": \"2015\"}, {\"income\": \"50-74k\", \"variable\": \"2015_7\", \"value\": 6.943861999999999, \"reason_text\": \"Other reasons\", \"year\": \"2015\"}, {\"income\": \"75-99k\", \"variable\": \"2015_7\", \"value\": 8.746927000000001, \"reason_text\": \"Other reasons\", \"year\": \"2015\"}, {\"income\": \"100k or more\", \"variable\": \"2015_7\", \"value\": 8.958279, \"reason_text\": \"Other reasons\", \"year\": \"2015\"}, {\"income\": \"Less than 10k\", \"variable\": \"2017_1\", \"value\": 47.319783, \"reason_text\": \"Don\\u2019t need it (not interested)\", \"year\": \"2017\"}, {\"income\": \"10-19k\", \"variable\": \"2017_1\", \"value\": 52.970725, \"reason_text\": \"Don\\u2019t need it (not interested)\", \"year\": \"2017\"}, {\"income\": \"20-29k\", \"variable\": \"2017_1\", \"value\": 54.934676, \"reason_text\": \"Don\\u2019t need it (not interested)\", \"year\": \"2017\"}, {\"income\": \"30-39k\", \"variable\": \"2017_1\", \"value\": 58.094151000000004, \"reason_text\": \"Don\\u2019t need it (not interested)\", \"year\": \"2017\"}, {\"income\": \"40-49k\", \"variable\": \"2017_1\", \"value\": 59.172401, \"reason_text\": \"Don\\u2019t need it (not interested)\", \"year\": \"2017\"}, {\"income\": \"50-74k\", \"variable\": \"2017_1\", \"value\": 60.108092000000006, \"reason_text\": \"Don\\u2019t need it (not interested)\", \"year\": \"2017\"}, {\"income\": \"75-99k\", \"variable\": \"2017_1\", \"value\": 56.766845999999994, \"reason_text\": \"Don\\u2019t need it (not interested)\", \"year\": \"2017\"}, {\"income\": \"100k or more\", \"variable\": \"2017_1\", \"value\": 51.105795, \"reason_text\": \"Don\\u2019t need it (not interested)\", \"year\": \"2017\"}, {\"income\": \"Less than 10k\", \"variable\": \"2017_2\", \"value\": 34.227615, \"reason_text\": \"Too expensive\", \"year\": \"2017\"}, {\"income\": \"10-19k\", \"variable\": \"2017_2\", \"value\": 28.529874, \"reason_text\": \"Too expensive\", \"year\": \"2017\"}, {\"income\": \"20-29k\", \"variable\": \"2017_2\", \"value\": 27.780963, \"reason_text\": \"Too expensive\", \"year\": \"2017\"}, {\"income\": \"30-39k\", \"variable\": \"2017_2\", \"value\": 22.417845, \"reason_text\": \"Too expensive\", \"year\": \"2017\"}, {\"income\": \"40-49k\", \"variable\": \"2017_2\", \"value\": 21.558393, \"reason_text\": \"Too expensive\", \"year\": \"2017\"}, {\"income\": \"50-74k\", \"variable\": \"2017_2\", \"value\": 18.449859, \"reason_text\": \"Too expensive\", \"year\": \"2017\"}, {\"income\": \"75-99k\", \"variable\": \"2017_2\", \"value\": 16.307082, \"reason_text\": \"Too expensive\", \"year\": \"2017\"}, {\"income\": \"100k or more\", \"variable\": \"2017_2\", \"value\": 17.521627, \"reason_text\": \"Too expensive\", \"year\": \"2017\"}, {\"income\": \"Less than 10k\", \"variable\": \"2017_3\", \"value\": 2.221476, \"reason_text\": \"Can use it somewhere else\", \"year\": \"2017\"}, {\"income\": \"10-19k\", \"variable\": \"2017_3\", \"value\": 1.2374040000000002, \"reason_text\": \"Can use it somewhere else\", \"year\": \"2017\"}, {\"income\": \"20-29k\", \"variable\": \"2017_3\", \"value\": 1.2203110000000001, \"reason_text\": \"Can use it somewhere else\", \"year\": \"2017\"}, {\"income\": \"30-39k\", \"variable\": \"2017_3\", \"value\": 2.112894, \"reason_text\": \"Can use it somewhere else\", \"year\": \"2017\"}, {\"income\": \"40-49k\", \"variable\": \"2017_3\", \"value\": 1.6922560000000002, \"reason_text\": \"Can use it somewhere else\", \"year\": \"2017\"}, {\"income\": \"50-74k\", \"variable\": \"2017_3\", \"value\": 3.5982550000000004, \"reason_text\": \"Can use it somewhere else\", \"year\": \"2017\"}, {\"income\": \"75-99k\", \"variable\": \"2017_3\", \"value\": 3.934945, \"reason_text\": \"Can use it somewhere else\", \"year\": \"2017\"}, {\"income\": \"100k or more\", \"variable\": \"2017_3\", \"value\": 4.228662, \"reason_text\": \"Can use it somewhere else\", \"year\": \"2017\"}, {\"income\": \"Less than 10k\", \"variable\": \"2017_4\", \"value\": 1.65533, \"reason_text\": \"Not available in area\", \"year\": \"2017\"}, {\"income\": \"10-19k\", \"variable\": \"2017_4\", \"value\": 1.759408, \"reason_text\": \"Not available in area\", \"year\": \"2017\"}, {\"income\": \"20-29k\", \"variable\": \"2017_4\", \"value\": 1.9175669999999998, \"reason_text\": \"Not available in area\", \"year\": \"2017\"}, {\"income\": \"30-39k\", \"variable\": \"2017_4\", \"value\": 1.79152, \"reason_text\": \"Not available in area\", \"year\": \"2017\"}, {\"income\": \"40-49k\", \"variable\": \"2017_4\", \"value\": 3.867258, \"reason_text\": \"Not available in area\", \"year\": \"2017\"}, {\"income\": \"50-74k\", \"variable\": \"2017_4\", \"value\": 3.435687, \"reason_text\": \"Not available in area\", \"year\": \"2017\"}, {\"income\": \"75-99k\", \"variable\": \"2017_4\", \"value\": 5.370255, \"reason_text\": \"Not available in area\", \"year\": \"2017\"}, {\"income\": \"100k or more\", \"variable\": \"2017_4\", \"value\": 4.339618, \"reason_text\": \"Not available in area\", \"year\": \"2017\"}, {\"income\": \"Less than 10k\", \"variable\": \"2017_5\", \"value\": 3.7521419999999996, \"reason_text\": \"No computer or computer inadequate\", \"year\": \"2017\"}, {\"income\": \"10-19k\", \"variable\": \"2017_5\", \"value\": 3.315675, \"reason_text\": \"No computer or computer inadequate\", \"year\": \"2017\"}, {\"income\": \"20-29k\", \"variable\": \"2017_5\", \"value\": 4.707232, \"reason_text\": \"No computer or computer inadequate\", \"year\": \"2017\"}, {\"income\": \"30-39k\", \"variable\": \"2017_5\", \"value\": 5.475669, \"reason_text\": \"No computer or computer inadequate\", \"year\": \"2017\"}, {\"income\": \"40-49k\", \"variable\": \"2017_5\", \"value\": 3.383165, \"reason_text\": \"No computer or computer inadequate\", \"year\": \"2017\"}, {\"income\": \"50-74k\", \"variable\": \"2017_5\", \"value\": 3.632886, \"reason_text\": \"No computer or computer inadequate\", \"year\": \"2017\"}, {\"income\": \"75-99k\", \"variable\": \"2017_5\", \"value\": 5.474264, \"reason_text\": \"No computer or computer inadequate\", \"year\": \"2017\"}, {\"income\": \"100k or more\", \"variable\": \"2017_5\", \"value\": 5.127794000000001, \"reason_text\": \"No computer or computer inadequate\", \"year\": \"2017\"}, {\"income\": \"Less than 10k\", \"variable\": \"2017_6\", \"value\": 0.997027, \"reason_text\": \"Privacy or security concerns\", \"year\": \"2017\"}, {\"income\": \"10-19k\", \"variable\": \"2017_6\", \"value\": 1.305426, \"reason_text\": \"Privacy or security concerns\", \"year\": \"2017\"}, {\"income\": \"20-29k\", \"variable\": \"2017_6\", \"value\": 1.344324, \"reason_text\": \"Privacy or security concerns\", \"year\": \"2017\"}, {\"income\": \"30-39k\", \"variable\": \"2017_6\", \"value\": 0.985614, \"reason_text\": \"Privacy or security concerns\", \"year\": \"2017\"}, {\"income\": \"40-49k\", \"variable\": \"2017_6\", \"value\": 2.320273, \"reason_text\": \"Privacy or security concerns\", \"year\": \"2017\"}, {\"income\": \"50-74k\", \"variable\": \"2017_6\", \"value\": 2.009183, \"reason_text\": \"Privacy or security concerns\", \"year\": \"2017\"}, {\"income\": \"75-99k\", \"variable\": \"2017_6\", \"value\": 1.33378, \"reason_text\": \"Privacy or security concerns\", \"year\": \"2017\"}, {\"income\": \"100k or more\", \"variable\": \"2017_6\", \"value\": 3.479052, \"reason_text\": \"Privacy or security concerns\", \"year\": \"2017\"}, {\"income\": \"Less than 10k\", \"variable\": \"2017_7\", \"value\": 9.826626, \"reason_text\": \"Other reasons\", \"year\": \"2017\"}, {\"income\": \"10-19k\", \"variable\": \"2017_7\", \"value\": 10.881489, \"reason_text\": \"Other reasons\", \"year\": \"2017\"}, {\"income\": \"20-29k\", \"variable\": \"2017_7\", \"value\": 8.094928, \"reason_text\": \"Other reasons\", \"year\": \"2017\"}, {\"income\": \"30-39k\", \"variable\": \"2017_7\", \"value\": 9.122306, \"reason_text\": \"Other reasons\", \"year\": \"2017\"}, {\"income\": \"40-49k\", \"variable\": \"2017_7\", \"value\": 8.006254, \"reason_text\": \"Other reasons\", \"year\": \"2017\"}, {\"income\": \"50-74k\", \"variable\": \"2017_7\", \"value\": 8.766039, \"reason_text\": \"Other reasons\", \"year\": \"2017\"}, {\"income\": \"75-99k\", \"variable\": \"2017_7\", \"value\": 10.812828, \"reason_text\": \"Other reasons\", \"year\": \"2017\"}, {\"income\": \"100k or more\", \"variable\": \"2017_7\", \"value\": 14.197451000000001, \"reason_text\": \"Other reasons\", \"year\": \"2017\"}]}}, {\"mode\": \"vega-lite\"});\n",
       "</script>"
      ],
      "text/plain": [
       "alt.Chart(...)"
      ]
     },
     "execution_count": 92,
     "metadata": {},
     "output_type": "execute_result"
    }
   ],
   "source": [
    "alt.Chart(reasons_wide).mark_rect().encode(\n",
    "    x=alt.X(\"income:N\"),\n",
    "    y=alt.Y(\"reason_text:N\"),\n",
    "    color=alt.Color(\"value:Q\")\n",
    ").transform_filter(\n",
    "    alt.datum.year == \"2017\"\n",
    ")\n",
    "\n",
    "## can add a slider to see how the distributions of reasons change over time"
   ]
  },
  {
   "cell_type": "code",
   "execution_count": 93,
   "metadata": {},
   "outputs": [
    {
     "data": {
      "text/html": [
       "<div>\n",
       "<style scoped>\n",
       "    .dataframe tbody tr th:only-of-type {\n",
       "        vertical-align: middle;\n",
       "    }\n",
       "\n",
       "    .dataframe tbody tr th {\n",
       "        vertical-align: top;\n",
       "    }\n",
       "\n",
       "    .dataframe thead th {\n",
       "        text-align: right;\n",
       "    }\n",
       "</style>\n",
       "<table border=\"1\" class=\"dataframe\">\n",
       "  <thead>\n",
       "    <tr style=\"text-align: right;\">\n",
       "      <th></th>\n",
       "      <th>year</th>\n",
       "      <th>qtr</th>\n",
       "      <th>state_fips</th>\n",
       "      <th>low</th>\n",
       "      <th>high</th>\n",
       "    </tr>\n",
       "  </thead>\n",
       "  <tbody>\n",
       "    <tr>\n",
       "      <th>0</th>\n",
       "      <td>1999</td>\n",
       "      <td>1</td>\n",
       "      <td>1</td>\n",
       "      <td>1.09</td>\n",
       "      <td>1.24</td>\n",
       "    </tr>\n",
       "    <tr>\n",
       "      <th>1</th>\n",
       "      <td>1999</td>\n",
       "      <td>1</td>\n",
       "      <td>2</td>\n",
       "      <td>1.33</td>\n",
       "      <td>1.41</td>\n",
       "    </tr>\n",
       "    <tr>\n",
       "      <th>2</th>\n",
       "      <td>1999</td>\n",
       "      <td>1</td>\n",
       "      <td>4</td>\n",
       "      <td>1.33</td>\n",
       "      <td>1.41</td>\n",
       "    </tr>\n",
       "    <tr>\n",
       "      <th>3</th>\n",
       "      <td>1999</td>\n",
       "      <td>1</td>\n",
       "      <td>5</td>\n",
       "      <td>0.39</td>\n",
       "      <td>1.09</td>\n",
       "    </tr>\n",
       "    <tr>\n",
       "      <th>4</th>\n",
       "      <td>1999</td>\n",
       "      <td>1</td>\n",
       "      <td>6</td>\n",
       "      <td>1.62</td>\n",
       "      <td>1.75</td>\n",
       "    </tr>\n",
       "  </tbody>\n",
       "</table>\n",
       "</div>"
      ],
      "text/plain": [
       "   year  qtr  state_fips   low  high\n",
       "0  1999    1           1  1.09  1.24\n",
       "1  1999    1           2  1.33  1.41\n",
       "2  1999    1           4  1.33  1.41\n",
       "3  1999    1           5  0.39  1.09\n",
       "4  1999    1           6  1.62  1.75"
      ]
     },
     "execution_count": 93,
     "metadata": {},
     "output_type": "execute_result"
    }
   ],
   "source": [
    "household_debt = pd.read_csv(\"data/household-debt-by-state.csv\")\n",
    "household_debt.head()\n",
    "## variables in this dataset are year, quarter (accting), state #, and lower and upper estimates of consumer debt to income ratio"
   ]
  },
  {
   "cell_type": "code",
   "execution_count": 67,
   "metadata": {},
   "outputs": [],
   "source": [
    "def map_state_fips(fips_int):\n",
    "    fips = str(fips_int)\n",
    "    if fips_int < 10:\n",
    "        fips = '0' + fips\n",
    "    return us.states.lookup(fips).abbr\n",
    "\n",
    "household_debt['state'] = household_debt['state_fips'].map(map_state_fips)\n"
   ]
  },
  {
   "cell_type": "code",
   "execution_count": 68,
   "metadata": {},
   "outputs": [],
   "source": [
    "household_debt_subset = household_debt.loc[household_debt['year'].isin([2015, 2016, 2017])]"
   ]
  },
  {
   "cell_type": "code",
   "execution_count": 69,
   "metadata": {},
   "outputs": [],
   "source": [
    "household_debt_subset = household_debt_subset[['year','state','low','high']].groupby(['year','state']).mean().reset_index()"
   ]
  },
  {
   "cell_type": "code",
   "execution_count": 70,
   "metadata": {},
   "outputs": [
    {
     "data": {
      "application/vnd.plotly.v1+json": {
       "config": {
        "plotlyServerURL": "https://plot.ly"
       },
       "data": [
        {
         "coloraxis": "coloraxis",
         "geo": "geo",
         "hoverlabel": {
          "namelength": 0
         },
         "hovertemplate": "state=%{location}<br>low=%{z}",
         "locationmode": "USA-states",
         "locations": [
          "AK",
          "AL",
          "AR",
          "AZ",
          "CA",
          "CO",
          "CT",
          "DC",
          "DE",
          "FL",
          "GA",
          "HI",
          "IA",
          "ID",
          "IL",
          "IN",
          "KS",
          "KY",
          "LA",
          "MA",
          "MD",
          "ME",
          "MI",
          "MN",
          "MO",
          "MS",
          "MT",
          "NC",
          "ND",
          "NE",
          "NH",
          "NJ",
          "NM",
          "NV",
          "NY",
          "OH",
          "OK",
          "OR",
          "PA",
          "RI",
          "SC",
          "SD",
          "TN",
          "TX",
          "UT",
          "VA",
          "VT",
          "WA",
          "WI",
          "WV",
          "WY"
         ],
         "name": "",
         "type": "choropleth",
         "z": [
          1.565,
          1.39,
          1.225,
          1.7525,
          1.7874999999999999,
          1.685,
          1.4475,
          0.39,
          1.54,
          1.69,
          1.46,
          2.07,
          1.09,
          1.855,
          1.2475,
          1.2025,
          1.09,
          1.165,
          1.2025,
          1.2475,
          2.01,
          1.6575,
          1.2025,
          1.325,
          1.225,
          1.39,
          1.685,
          1.565,
          0.39,
          1.09,
          1.5675000000000001,
          1.5725,
          1.5925,
          1.625,
          0.7400000000000001,
          1.165,
          1.165,
          1.685,
          1.225,
          1.54,
          1.69,
          1.2025,
          1.3275000000000001,
          0.7400000000000001,
          1.5925,
          1.855,
          1.44,
          1.685,
          1.165,
          1.2625,
          1.37
         ]
        }
       ],
       "layout": {
        "coloraxis": {
         "colorbar": {
          "title": {
           "text": "low"
          }
         },
         "colorscale": [
          [
           0,
           "#0d0887"
          ],
          [
           0.1111111111111111,
           "#46039f"
          ],
          [
           0.2222222222222222,
           "#7201a8"
          ],
          [
           0.3333333333333333,
           "#9c179e"
          ],
          [
           0.4444444444444444,
           "#bd3786"
          ],
          [
           0.5555555555555556,
           "#d8576b"
          ],
          [
           0.6666666666666666,
           "#ed7953"
          ],
          [
           0.7777777777777778,
           "#fb9f3a"
          ],
          [
           0.8888888888888888,
           "#fdca26"
          ],
          [
           1,
           "#f0f921"
          ]
         ]
        },
        "geo": {
         "center": {},
         "domain": {
          "x": [
           0,
           1
          ],
          "y": [
           0,
           1
          ]
         },
         "scope": "usa"
        },
        "legend": {
         "tracegroupgap": 0
        },
        "margin": {
         "t": 60
        },
        "template": {
         "data": {
          "bar": [
           {
            "error_x": {
             "color": "#2a3f5f"
            },
            "error_y": {
             "color": "#2a3f5f"
            },
            "marker": {
             "line": {
              "color": "#E5ECF6",
              "width": 0.5
             }
            },
            "type": "bar"
           }
          ],
          "barpolar": [
           {
            "marker": {
             "line": {
              "color": "#E5ECF6",
              "width": 0.5
             }
            },
            "type": "barpolar"
           }
          ],
          "carpet": [
           {
            "aaxis": {
             "endlinecolor": "#2a3f5f",
             "gridcolor": "white",
             "linecolor": "white",
             "minorgridcolor": "white",
             "startlinecolor": "#2a3f5f"
            },
            "baxis": {
             "endlinecolor": "#2a3f5f",
             "gridcolor": "white",
             "linecolor": "white",
             "minorgridcolor": "white",
             "startlinecolor": "#2a3f5f"
            },
            "type": "carpet"
           }
          ],
          "choropleth": [
           {
            "colorbar": {
             "outlinewidth": 0,
             "ticks": ""
            },
            "type": "choropleth"
           }
          ],
          "contour": [
           {
            "colorbar": {
             "outlinewidth": 0,
             "ticks": ""
            },
            "colorscale": [
             [
              0,
              "#0d0887"
             ],
             [
              0.1111111111111111,
              "#46039f"
             ],
             [
              0.2222222222222222,
              "#7201a8"
             ],
             [
              0.3333333333333333,
              "#9c179e"
             ],
             [
              0.4444444444444444,
              "#bd3786"
             ],
             [
              0.5555555555555556,
              "#d8576b"
             ],
             [
              0.6666666666666666,
              "#ed7953"
             ],
             [
              0.7777777777777778,
              "#fb9f3a"
             ],
             [
              0.8888888888888888,
              "#fdca26"
             ],
             [
              1,
              "#f0f921"
             ]
            ],
            "type": "contour"
           }
          ],
          "contourcarpet": [
           {
            "colorbar": {
             "outlinewidth": 0,
             "ticks": ""
            },
            "type": "contourcarpet"
           }
          ],
          "heatmap": [
           {
            "colorbar": {
             "outlinewidth": 0,
             "ticks": ""
            },
            "colorscale": [
             [
              0,
              "#0d0887"
             ],
             [
              0.1111111111111111,
              "#46039f"
             ],
             [
              0.2222222222222222,
              "#7201a8"
             ],
             [
              0.3333333333333333,
              "#9c179e"
             ],
             [
              0.4444444444444444,
              "#bd3786"
             ],
             [
              0.5555555555555556,
              "#d8576b"
             ],
             [
              0.6666666666666666,
              "#ed7953"
             ],
             [
              0.7777777777777778,
              "#fb9f3a"
             ],
             [
              0.8888888888888888,
              "#fdca26"
             ],
             [
              1,
              "#f0f921"
             ]
            ],
            "type": "heatmap"
           }
          ],
          "heatmapgl": [
           {
            "colorbar": {
             "outlinewidth": 0,
             "ticks": ""
            },
            "colorscale": [
             [
              0,
              "#0d0887"
             ],
             [
              0.1111111111111111,
              "#46039f"
             ],
             [
              0.2222222222222222,
              "#7201a8"
             ],
             [
              0.3333333333333333,
              "#9c179e"
             ],
             [
              0.4444444444444444,
              "#bd3786"
             ],
             [
              0.5555555555555556,
              "#d8576b"
             ],
             [
              0.6666666666666666,
              "#ed7953"
             ],
             [
              0.7777777777777778,
              "#fb9f3a"
             ],
             [
              0.8888888888888888,
              "#fdca26"
             ],
             [
              1,
              "#f0f921"
             ]
            ],
            "type": "heatmapgl"
           }
          ],
          "histogram": [
           {
            "marker": {
             "colorbar": {
              "outlinewidth": 0,
              "ticks": ""
             }
            },
            "type": "histogram"
           }
          ],
          "histogram2d": [
           {
            "colorbar": {
             "outlinewidth": 0,
             "ticks": ""
            },
            "colorscale": [
             [
              0,
              "#0d0887"
             ],
             [
              0.1111111111111111,
              "#46039f"
             ],
             [
              0.2222222222222222,
              "#7201a8"
             ],
             [
              0.3333333333333333,
              "#9c179e"
             ],
             [
              0.4444444444444444,
              "#bd3786"
             ],
             [
              0.5555555555555556,
              "#d8576b"
             ],
             [
              0.6666666666666666,
              "#ed7953"
             ],
             [
              0.7777777777777778,
              "#fb9f3a"
             ],
             [
              0.8888888888888888,
              "#fdca26"
             ],
             [
              1,
              "#f0f921"
             ]
            ],
            "type": "histogram2d"
           }
          ],
          "histogram2dcontour": [
           {
            "colorbar": {
             "outlinewidth": 0,
             "ticks": ""
            },
            "colorscale": [
             [
              0,
              "#0d0887"
             ],
             [
              0.1111111111111111,
              "#46039f"
             ],
             [
              0.2222222222222222,
              "#7201a8"
             ],
             [
              0.3333333333333333,
              "#9c179e"
             ],
             [
              0.4444444444444444,
              "#bd3786"
             ],
             [
              0.5555555555555556,
              "#d8576b"
             ],
             [
              0.6666666666666666,
              "#ed7953"
             ],
             [
              0.7777777777777778,
              "#fb9f3a"
             ],
             [
              0.8888888888888888,
              "#fdca26"
             ],
             [
              1,
              "#f0f921"
             ]
            ],
            "type": "histogram2dcontour"
           }
          ],
          "mesh3d": [
           {
            "colorbar": {
             "outlinewidth": 0,
             "ticks": ""
            },
            "type": "mesh3d"
           }
          ],
          "parcoords": [
           {
            "line": {
             "colorbar": {
              "outlinewidth": 0,
              "ticks": ""
             }
            },
            "type": "parcoords"
           }
          ],
          "pie": [
           {
            "automargin": true,
            "type": "pie"
           }
          ],
          "scatter": [
           {
            "marker": {
             "colorbar": {
              "outlinewidth": 0,
              "ticks": ""
             }
            },
            "type": "scatter"
           }
          ],
          "scatter3d": [
           {
            "line": {
             "colorbar": {
              "outlinewidth": 0,
              "ticks": ""
             }
            },
            "marker": {
             "colorbar": {
              "outlinewidth": 0,
              "ticks": ""
             }
            },
            "type": "scatter3d"
           }
          ],
          "scattercarpet": [
           {
            "marker": {
             "colorbar": {
              "outlinewidth": 0,
              "ticks": ""
             }
            },
            "type": "scattercarpet"
           }
          ],
          "scattergeo": [
           {
            "marker": {
             "colorbar": {
              "outlinewidth": 0,
              "ticks": ""
             }
            },
            "type": "scattergeo"
           }
          ],
          "scattergl": [
           {
            "marker": {
             "colorbar": {
              "outlinewidth": 0,
              "ticks": ""
             }
            },
            "type": "scattergl"
           }
          ],
          "scattermapbox": [
           {
            "marker": {
             "colorbar": {
              "outlinewidth": 0,
              "ticks": ""
             }
            },
            "type": "scattermapbox"
           }
          ],
          "scatterpolar": [
           {
            "marker": {
             "colorbar": {
              "outlinewidth": 0,
              "ticks": ""
             }
            },
            "type": "scatterpolar"
           }
          ],
          "scatterpolargl": [
           {
            "marker": {
             "colorbar": {
              "outlinewidth": 0,
              "ticks": ""
             }
            },
            "type": "scatterpolargl"
           }
          ],
          "scatterternary": [
           {
            "marker": {
             "colorbar": {
              "outlinewidth": 0,
              "ticks": ""
             }
            },
            "type": "scatterternary"
           }
          ],
          "surface": [
           {
            "colorbar": {
             "outlinewidth": 0,
             "ticks": ""
            },
            "colorscale": [
             [
              0,
              "#0d0887"
             ],
             [
              0.1111111111111111,
              "#46039f"
             ],
             [
              0.2222222222222222,
              "#7201a8"
             ],
             [
              0.3333333333333333,
              "#9c179e"
             ],
             [
              0.4444444444444444,
              "#bd3786"
             ],
             [
              0.5555555555555556,
              "#d8576b"
             ],
             [
              0.6666666666666666,
              "#ed7953"
             ],
             [
              0.7777777777777778,
              "#fb9f3a"
             ],
             [
              0.8888888888888888,
              "#fdca26"
             ],
             [
              1,
              "#f0f921"
             ]
            ],
            "type": "surface"
           }
          ],
          "table": [
           {
            "cells": {
             "fill": {
              "color": "#EBF0F8"
             },
             "line": {
              "color": "white"
             }
            },
            "header": {
             "fill": {
              "color": "#C8D4E3"
             },
             "line": {
              "color": "white"
             }
            },
            "type": "table"
           }
          ]
         },
         "layout": {
          "annotationdefaults": {
           "arrowcolor": "#2a3f5f",
           "arrowhead": 0,
           "arrowwidth": 1
          },
          "coloraxis": {
           "colorbar": {
            "outlinewidth": 0,
            "ticks": ""
           }
          },
          "colorscale": {
           "diverging": [
            [
             0,
             "#8e0152"
            ],
            [
             0.1,
             "#c51b7d"
            ],
            [
             0.2,
             "#de77ae"
            ],
            [
             0.3,
             "#f1b6da"
            ],
            [
             0.4,
             "#fde0ef"
            ],
            [
             0.5,
             "#f7f7f7"
            ],
            [
             0.6,
             "#e6f5d0"
            ],
            [
             0.7,
             "#b8e186"
            ],
            [
             0.8,
             "#7fbc41"
            ],
            [
             0.9,
             "#4d9221"
            ],
            [
             1,
             "#276419"
            ]
           ],
           "sequential": [
            [
             0,
             "#0d0887"
            ],
            [
             0.1111111111111111,
             "#46039f"
            ],
            [
             0.2222222222222222,
             "#7201a8"
            ],
            [
             0.3333333333333333,
             "#9c179e"
            ],
            [
             0.4444444444444444,
             "#bd3786"
            ],
            [
             0.5555555555555556,
             "#d8576b"
            ],
            [
             0.6666666666666666,
             "#ed7953"
            ],
            [
             0.7777777777777778,
             "#fb9f3a"
            ],
            [
             0.8888888888888888,
             "#fdca26"
            ],
            [
             1,
             "#f0f921"
            ]
           ],
           "sequentialminus": [
            [
             0,
             "#0d0887"
            ],
            [
             0.1111111111111111,
             "#46039f"
            ],
            [
             0.2222222222222222,
             "#7201a8"
            ],
            [
             0.3333333333333333,
             "#9c179e"
            ],
            [
             0.4444444444444444,
             "#bd3786"
            ],
            [
             0.5555555555555556,
             "#d8576b"
            ],
            [
             0.6666666666666666,
             "#ed7953"
            ],
            [
             0.7777777777777778,
             "#fb9f3a"
            ],
            [
             0.8888888888888888,
             "#fdca26"
            ],
            [
             1,
             "#f0f921"
            ]
           ]
          },
          "colorway": [
           "#636efa",
           "#EF553B",
           "#00cc96",
           "#ab63fa",
           "#FFA15A",
           "#19d3f3",
           "#FF6692",
           "#B6E880",
           "#FF97FF",
           "#FECB52"
          ],
          "font": {
           "color": "#2a3f5f"
          },
          "geo": {
           "bgcolor": "white",
           "lakecolor": "white",
           "landcolor": "#E5ECF6",
           "showlakes": true,
           "showland": true,
           "subunitcolor": "white"
          },
          "hoverlabel": {
           "align": "left"
          },
          "hovermode": "closest",
          "mapbox": {
           "style": "light"
          },
          "paper_bgcolor": "white",
          "plot_bgcolor": "#E5ECF6",
          "polar": {
           "angularaxis": {
            "gridcolor": "white",
            "linecolor": "white",
            "ticks": ""
           },
           "bgcolor": "#E5ECF6",
           "radialaxis": {
            "gridcolor": "white",
            "linecolor": "white",
            "ticks": ""
           }
          },
          "scene": {
           "xaxis": {
            "backgroundcolor": "#E5ECF6",
            "gridcolor": "white",
            "gridwidth": 2,
            "linecolor": "white",
            "showbackground": true,
            "ticks": "",
            "zerolinecolor": "white"
           },
           "yaxis": {
            "backgroundcolor": "#E5ECF6",
            "gridcolor": "white",
            "gridwidth": 2,
            "linecolor": "white",
            "showbackground": true,
            "ticks": "",
            "zerolinecolor": "white"
           },
           "zaxis": {
            "backgroundcolor": "#E5ECF6",
            "gridcolor": "white",
            "gridwidth": 2,
            "linecolor": "white",
            "showbackground": true,
            "ticks": "",
            "zerolinecolor": "white"
           }
          },
          "shapedefaults": {
           "line": {
            "color": "#2a3f5f"
           }
          },
          "ternary": {
           "aaxis": {
            "gridcolor": "white",
            "linecolor": "white",
            "ticks": ""
           },
           "baxis": {
            "gridcolor": "white",
            "linecolor": "white",
            "ticks": ""
           },
           "bgcolor": "#E5ECF6",
           "caxis": {
            "gridcolor": "white",
            "linecolor": "white",
            "ticks": ""
           }
          },
          "title": {
           "x": 0.05
          },
          "xaxis": {
           "automargin": true,
           "gridcolor": "white",
           "linecolor": "white",
           "ticks": "",
           "title": {
            "standoff": 15
           },
           "zerolinecolor": "white",
           "zerolinewidth": 2
          },
          "yaxis": {
           "automargin": true,
           "gridcolor": "white",
           "linecolor": "white",
           "ticks": "",
           "title": {
            "standoff": 15
           },
           "zerolinecolor": "white",
           "zerolinewidth": 2
          }
         }
        },
        "title": {
         "text": "2015 State Rankings"
        }
       }
      },
      "text/html": [
       "<div>\n",
       "        \n",
       "        \n",
       "            <div id=\"6393d30e-83be-4e0f-8bf9-82ba1cab0be3\" class=\"plotly-graph-div\" style=\"height:525px; width:100%;\"></div>\n",
       "            <script type=\"text/javascript\">\n",
       "                require([\"plotly\"], function(Plotly) {\n",
       "                    window.PLOTLYENV=window.PLOTLYENV || {};\n",
       "                    \n",
       "                if (document.getElementById(\"6393d30e-83be-4e0f-8bf9-82ba1cab0be3\")) {\n",
       "                    Plotly.newPlot(\n",
       "                        '6393d30e-83be-4e0f-8bf9-82ba1cab0be3',\n",
       "                        [{\"coloraxis\": \"coloraxis\", \"geo\": \"geo\", \"hoverlabel\": {\"namelength\": 0}, \"hovertemplate\": \"state=%{location}<br>low=%{z}\", \"locationmode\": \"USA-states\", \"locations\": [\"AK\", \"AL\", \"AR\", \"AZ\", \"CA\", \"CO\", \"CT\", \"DC\", \"DE\", \"FL\", \"GA\", \"HI\", \"IA\", \"ID\", \"IL\", \"IN\", \"KS\", \"KY\", \"LA\", \"MA\", \"MD\", \"ME\", \"MI\", \"MN\", \"MO\", \"MS\", \"MT\", \"NC\", \"ND\", \"NE\", \"NH\", \"NJ\", \"NM\", \"NV\", \"NY\", \"OH\", \"OK\", \"OR\", \"PA\", \"RI\", \"SC\", \"SD\", \"TN\", \"TX\", \"UT\", \"VA\", \"VT\", \"WA\", \"WI\", \"WV\", \"WY\"], \"name\": \"\", \"type\": \"choropleth\", \"z\": [1.565, 1.39, 1.225, 1.7525, 1.7874999999999999, 1.685, 1.4475, 0.39, 1.54, 1.69, 1.46, 2.07, 1.09, 1.855, 1.2475, 1.2025, 1.09, 1.165, 1.2025, 1.2475, 2.01, 1.6575, 1.2025, 1.325, 1.225, 1.39, 1.685, 1.565, 0.39, 1.09, 1.5675000000000001, 1.5725, 1.5925, 1.625, 0.7400000000000001, 1.165, 1.165, 1.685, 1.225, 1.54, 1.69, 1.2025, 1.3275000000000001, 0.7400000000000001, 1.5925, 1.855, 1.44, 1.685, 1.165, 1.2625, 1.37]}],\n",
       "                        {\"coloraxis\": {\"colorbar\": {\"title\": {\"text\": \"low\"}}, \"colorscale\": [[0.0, \"#0d0887\"], [0.1111111111111111, \"#46039f\"], [0.2222222222222222, \"#7201a8\"], [0.3333333333333333, \"#9c179e\"], [0.4444444444444444, \"#bd3786\"], [0.5555555555555556, \"#d8576b\"], [0.6666666666666666, \"#ed7953\"], [0.7777777777777778, \"#fb9f3a\"], [0.8888888888888888, \"#fdca26\"], [1.0, \"#f0f921\"]]}, \"geo\": {\"center\": {}, \"domain\": {\"x\": [0.0, 1.0], \"y\": [0.0, 1.0]}, \"scope\": \"usa\"}, \"legend\": {\"tracegroupgap\": 0}, \"margin\": {\"t\": 60}, \"template\": {\"data\": {\"bar\": [{\"error_x\": {\"color\": \"#2a3f5f\"}, \"error_y\": {\"color\": \"#2a3f5f\"}, \"marker\": {\"line\": {\"color\": \"#E5ECF6\", \"width\": 0.5}}, \"type\": \"bar\"}], \"barpolar\": [{\"marker\": {\"line\": {\"color\": \"#E5ECF6\", \"width\": 0.5}}, \"type\": \"barpolar\"}], \"carpet\": [{\"aaxis\": {\"endlinecolor\": \"#2a3f5f\", \"gridcolor\": \"white\", \"linecolor\": \"white\", \"minorgridcolor\": \"white\", \"startlinecolor\": \"#2a3f5f\"}, \"baxis\": {\"endlinecolor\": \"#2a3f5f\", \"gridcolor\": \"white\", \"linecolor\": \"white\", \"minorgridcolor\": \"white\", \"startlinecolor\": \"#2a3f5f\"}, \"type\": \"carpet\"}], \"choropleth\": [{\"colorbar\": {\"outlinewidth\": 0, \"ticks\": \"\"}, \"type\": \"choropleth\"}], \"contour\": [{\"colorbar\": {\"outlinewidth\": 0, \"ticks\": \"\"}, \"colorscale\": [[0.0, \"#0d0887\"], [0.1111111111111111, \"#46039f\"], [0.2222222222222222, \"#7201a8\"], [0.3333333333333333, \"#9c179e\"], [0.4444444444444444, \"#bd3786\"], [0.5555555555555556, \"#d8576b\"], [0.6666666666666666, \"#ed7953\"], [0.7777777777777778, \"#fb9f3a\"], [0.8888888888888888, \"#fdca26\"], [1.0, \"#f0f921\"]], \"type\": \"contour\"}], \"contourcarpet\": [{\"colorbar\": {\"outlinewidth\": 0, \"ticks\": \"\"}, \"type\": \"contourcarpet\"}], \"heatmap\": [{\"colorbar\": {\"outlinewidth\": 0, \"ticks\": \"\"}, \"colorscale\": [[0.0, \"#0d0887\"], [0.1111111111111111, \"#46039f\"], [0.2222222222222222, \"#7201a8\"], [0.3333333333333333, \"#9c179e\"], [0.4444444444444444, \"#bd3786\"], [0.5555555555555556, \"#d8576b\"], [0.6666666666666666, \"#ed7953\"], [0.7777777777777778, \"#fb9f3a\"], [0.8888888888888888, \"#fdca26\"], [1.0, \"#f0f921\"]], \"type\": \"heatmap\"}], \"heatmapgl\": [{\"colorbar\": {\"outlinewidth\": 0, \"ticks\": \"\"}, \"colorscale\": [[0.0, \"#0d0887\"], [0.1111111111111111, \"#46039f\"], [0.2222222222222222, \"#7201a8\"], [0.3333333333333333, \"#9c179e\"], [0.4444444444444444, \"#bd3786\"], [0.5555555555555556, \"#d8576b\"], [0.6666666666666666, \"#ed7953\"], [0.7777777777777778, \"#fb9f3a\"], [0.8888888888888888, \"#fdca26\"], [1.0, \"#f0f921\"]], \"type\": \"heatmapgl\"}], \"histogram\": [{\"marker\": {\"colorbar\": {\"outlinewidth\": 0, \"ticks\": \"\"}}, \"type\": \"histogram\"}], \"histogram2d\": [{\"colorbar\": {\"outlinewidth\": 0, \"ticks\": \"\"}, \"colorscale\": [[0.0, \"#0d0887\"], [0.1111111111111111, \"#46039f\"], [0.2222222222222222, \"#7201a8\"], [0.3333333333333333, \"#9c179e\"], [0.4444444444444444, \"#bd3786\"], [0.5555555555555556, \"#d8576b\"], [0.6666666666666666, \"#ed7953\"], [0.7777777777777778, \"#fb9f3a\"], [0.8888888888888888, \"#fdca26\"], [1.0, \"#f0f921\"]], \"type\": \"histogram2d\"}], \"histogram2dcontour\": [{\"colorbar\": {\"outlinewidth\": 0, \"ticks\": \"\"}, \"colorscale\": [[0.0, \"#0d0887\"], [0.1111111111111111, \"#46039f\"], [0.2222222222222222, \"#7201a8\"], [0.3333333333333333, \"#9c179e\"], [0.4444444444444444, \"#bd3786\"], [0.5555555555555556, \"#d8576b\"], [0.6666666666666666, \"#ed7953\"], [0.7777777777777778, \"#fb9f3a\"], [0.8888888888888888, \"#fdca26\"], [1.0, \"#f0f921\"]], \"type\": \"histogram2dcontour\"}], \"mesh3d\": [{\"colorbar\": {\"outlinewidth\": 0, \"ticks\": \"\"}, \"type\": \"mesh3d\"}], \"parcoords\": [{\"line\": {\"colorbar\": {\"outlinewidth\": 0, \"ticks\": \"\"}}, \"type\": \"parcoords\"}], \"pie\": [{\"automargin\": true, \"type\": \"pie\"}], \"scatter\": [{\"marker\": {\"colorbar\": {\"outlinewidth\": 0, \"ticks\": \"\"}}, \"type\": \"scatter\"}], \"scatter3d\": [{\"line\": {\"colorbar\": {\"outlinewidth\": 0, \"ticks\": \"\"}}, \"marker\": {\"colorbar\": {\"outlinewidth\": 0, \"ticks\": \"\"}}, \"type\": \"scatter3d\"}], \"scattercarpet\": [{\"marker\": {\"colorbar\": {\"outlinewidth\": 0, \"ticks\": \"\"}}, \"type\": \"scattercarpet\"}], \"scattergeo\": [{\"marker\": {\"colorbar\": {\"outlinewidth\": 0, \"ticks\": \"\"}}, \"type\": \"scattergeo\"}], \"scattergl\": [{\"marker\": {\"colorbar\": {\"outlinewidth\": 0, \"ticks\": \"\"}}, \"type\": \"scattergl\"}], \"scattermapbox\": [{\"marker\": {\"colorbar\": {\"outlinewidth\": 0, \"ticks\": \"\"}}, \"type\": \"scattermapbox\"}], \"scatterpolar\": [{\"marker\": {\"colorbar\": {\"outlinewidth\": 0, \"ticks\": \"\"}}, \"type\": \"scatterpolar\"}], \"scatterpolargl\": [{\"marker\": {\"colorbar\": {\"outlinewidth\": 0, \"ticks\": \"\"}}, \"type\": \"scatterpolargl\"}], \"scatterternary\": [{\"marker\": {\"colorbar\": {\"outlinewidth\": 0, \"ticks\": \"\"}}, \"type\": \"scatterternary\"}], \"surface\": [{\"colorbar\": {\"outlinewidth\": 0, \"ticks\": \"\"}, \"colorscale\": [[0.0, \"#0d0887\"], [0.1111111111111111, \"#46039f\"], [0.2222222222222222, \"#7201a8\"], [0.3333333333333333, \"#9c179e\"], [0.4444444444444444, \"#bd3786\"], [0.5555555555555556, \"#d8576b\"], [0.6666666666666666, \"#ed7953\"], [0.7777777777777778, \"#fb9f3a\"], [0.8888888888888888, \"#fdca26\"], [1.0, \"#f0f921\"]], \"type\": \"surface\"}], \"table\": [{\"cells\": {\"fill\": {\"color\": \"#EBF0F8\"}, \"line\": {\"color\": \"white\"}}, \"header\": {\"fill\": {\"color\": \"#C8D4E3\"}, \"line\": {\"color\": \"white\"}}, \"type\": \"table\"}]}, \"layout\": {\"annotationdefaults\": {\"arrowcolor\": \"#2a3f5f\", \"arrowhead\": 0, \"arrowwidth\": 1}, \"coloraxis\": {\"colorbar\": {\"outlinewidth\": 0, \"ticks\": \"\"}}, \"colorscale\": {\"diverging\": [[0, \"#8e0152\"], [0.1, \"#c51b7d\"], [0.2, \"#de77ae\"], [0.3, \"#f1b6da\"], [0.4, \"#fde0ef\"], [0.5, \"#f7f7f7\"], [0.6, \"#e6f5d0\"], [0.7, \"#b8e186\"], [0.8, \"#7fbc41\"], [0.9, \"#4d9221\"], [1, \"#276419\"]], \"sequential\": [[0.0, \"#0d0887\"], [0.1111111111111111, \"#46039f\"], [0.2222222222222222, \"#7201a8\"], [0.3333333333333333, \"#9c179e\"], [0.4444444444444444, \"#bd3786\"], [0.5555555555555556, \"#d8576b\"], [0.6666666666666666, \"#ed7953\"], [0.7777777777777778, \"#fb9f3a\"], [0.8888888888888888, \"#fdca26\"], [1.0, \"#f0f921\"]], \"sequentialminus\": [[0.0, \"#0d0887\"], [0.1111111111111111, \"#46039f\"], [0.2222222222222222, \"#7201a8\"], [0.3333333333333333, \"#9c179e\"], [0.4444444444444444, \"#bd3786\"], [0.5555555555555556, \"#d8576b\"], [0.6666666666666666, \"#ed7953\"], [0.7777777777777778, \"#fb9f3a\"], [0.8888888888888888, \"#fdca26\"], [1.0, \"#f0f921\"]]}, \"colorway\": [\"#636efa\", \"#EF553B\", \"#00cc96\", \"#ab63fa\", \"#FFA15A\", \"#19d3f3\", \"#FF6692\", \"#B6E880\", \"#FF97FF\", \"#FECB52\"], \"font\": {\"color\": \"#2a3f5f\"}, \"geo\": {\"bgcolor\": \"white\", \"lakecolor\": \"white\", \"landcolor\": \"#E5ECF6\", \"showlakes\": true, \"showland\": true, \"subunitcolor\": \"white\"}, \"hoverlabel\": {\"align\": \"left\"}, \"hovermode\": \"closest\", \"mapbox\": {\"style\": \"light\"}, \"paper_bgcolor\": \"white\", \"plot_bgcolor\": \"#E5ECF6\", \"polar\": {\"angularaxis\": {\"gridcolor\": \"white\", \"linecolor\": \"white\", \"ticks\": \"\"}, \"bgcolor\": \"#E5ECF6\", \"radialaxis\": {\"gridcolor\": \"white\", \"linecolor\": \"white\", \"ticks\": \"\"}}, \"scene\": {\"xaxis\": {\"backgroundcolor\": \"#E5ECF6\", \"gridcolor\": \"white\", \"gridwidth\": 2, \"linecolor\": \"white\", \"showbackground\": true, \"ticks\": \"\", \"zerolinecolor\": \"white\"}, \"yaxis\": {\"backgroundcolor\": \"#E5ECF6\", \"gridcolor\": \"white\", \"gridwidth\": 2, \"linecolor\": \"white\", \"showbackground\": true, \"ticks\": \"\", \"zerolinecolor\": \"white\"}, \"zaxis\": {\"backgroundcolor\": \"#E5ECF6\", \"gridcolor\": \"white\", \"gridwidth\": 2, \"linecolor\": \"white\", \"showbackground\": true, \"ticks\": \"\", \"zerolinecolor\": \"white\"}}, \"shapedefaults\": {\"line\": {\"color\": \"#2a3f5f\"}}, \"ternary\": {\"aaxis\": {\"gridcolor\": \"white\", \"linecolor\": \"white\", \"ticks\": \"\"}, \"baxis\": {\"gridcolor\": \"white\", \"linecolor\": \"white\", \"ticks\": \"\"}, \"bgcolor\": \"#E5ECF6\", \"caxis\": {\"gridcolor\": \"white\", \"linecolor\": \"white\", \"ticks\": \"\"}}, \"title\": {\"x\": 0.05}, \"xaxis\": {\"automargin\": true, \"gridcolor\": \"white\", \"linecolor\": \"white\", \"ticks\": \"\", \"title\": {\"standoff\": 15}, \"zerolinecolor\": \"white\", \"zerolinewidth\": 2}, \"yaxis\": {\"automargin\": true, \"gridcolor\": \"white\", \"linecolor\": \"white\", \"ticks\": \"\", \"title\": {\"standoff\": 15}, \"zerolinecolor\": \"white\", \"zerolinewidth\": 2}}}, \"title\": {\"text\": \"2015 State Rankings\"}},\n",
       "                        {\"responsive\": true}\n",
       "                    ).then(function(){\n",
       "                            \n",
       "var gd = document.getElementById('6393d30e-83be-4e0f-8bf9-82ba1cab0be3');\n",
       "var x = new MutationObserver(function (mutations, observer) {{\n",
       "        var display = window.getComputedStyle(gd).display;\n",
       "        if (!display || display === 'none') {{\n",
       "            console.log([gd, 'removed!']);\n",
       "            Plotly.purge(gd);\n",
       "            observer.disconnect();\n",
       "        }}\n",
       "}});\n",
       "\n",
       "// Listen for the removal of the full notebook cells\n",
       "var notebookContainer = gd.closest('#notebook-container');\n",
       "if (notebookContainer) {{\n",
       "    x.observe(notebookContainer, {childList: true});\n",
       "}}\n",
       "\n",
       "// Listen for the clearing of the current output cell\n",
       "var outputEl = gd.closest('.output');\n",
       "if (outputEl) {{\n",
       "    x.observe(outputEl, {childList: true});\n",
       "}}\n",
       "\n",
       "                        })\n",
       "                };\n",
       "                });\n",
       "            </script>\n",
       "        </div>"
      ]
     },
     "metadata": {},
     "output_type": "display_data"
    }
   ],
   "source": [
    "fig = px.choropleth(household_debt_subset.loc[household_debt_subset['year'] == 2015],  # Input Pandas DataFrame\n",
    "                    locations=\"state\",  # DataFrame column with locations # DataFrame column with color values\n",
    "                    color='low',\n",
    "                    locationmode = 'USA-states') # Set to plot as US States\n",
    "fig.update_layout(\n",
    "    title_text = '2015 State Rankings', # Create a Title\n",
    "    geo_scope='usa',  # Plot only the USA instead of globe\n",
    ")\n",
    "fig.show()"
   ]
  },
  {
   "cell_type": "code",
   "execution_count": 71,
   "metadata": {},
   "outputs": [
    {
     "data": {
      "application/vnd.plotly.v1+json": {
       "config": {
        "plotlyServerURL": "https://plot.ly"
       },
       "data": [
        {
         "coloraxis": "coloraxis",
         "geo": "geo",
         "hoverlabel": {
          "namelength": 0
         },
         "hovertemplate": "state=%{location}<br>high=%{z}",
         "locationmode": "USA-states",
         "locations": [
          "AK",
          "AL",
          "AR",
          "AZ",
          "CA",
          "CO",
          "CT",
          "DC",
          "DE",
          "FL",
          "GA",
          "HI",
          "IA",
          "ID",
          "IL",
          "IN",
          "KS",
          "KY",
          "LA",
          "MA",
          "MD",
          "ME",
          "MI",
          "MN",
          "MO",
          "MS",
          "MT",
          "NC",
          "ND",
          "NE",
          "NH",
          "NJ",
          "NM",
          "NV",
          "NY",
          "OH",
          "OK",
          "OR",
          "PA",
          "RI",
          "SC",
          "SD",
          "TN",
          "TX",
          "UT",
          "VA",
          "VT",
          "WA",
          "WI",
          "WV",
          "WY"
         ],
         "name": "",
         "type": "choropleth",
         "z": [
          1.685,
          1.485,
          1.3275000000000001,
          1.915,
          1.9749999999999999,
          1.8199999999999998,
          1.5475,
          1.09,
          1.6575,
          1.8225,
          1.565,
          2.13,
          1.24,
          2.07,
          1.3475000000000001,
          1.3075,
          1.24,
          1.2850000000000001,
          1.3075,
          1.3475000000000001,
          2.13,
          1.7874999999999999,
          1.3075,
          1.42,
          1.3275000000000001,
          1.485,
          1.8199999999999998,
          1.685,
          1.09,
          1.24,
          1.69,
          1.6925,
          1.7175,
          1.7525,
          1.165,
          1.2850000000000001,
          1.2850000000000001,
          1.8199999999999998,
          1.3275000000000001,
          1.6575,
          1.8225,
          1.3075,
          1.415,
          1.165,
          1.7175,
          2.07,
          1.54,
          1.8199999999999998,
          1.2850000000000001,
          1.35,
          1.46
         ]
        }
       ],
       "layout": {
        "coloraxis": {
         "colorbar": {
          "title": {
           "text": "high"
          }
         },
         "colorscale": [
          [
           0,
           "#0d0887"
          ],
          [
           0.1111111111111111,
           "#46039f"
          ],
          [
           0.2222222222222222,
           "#7201a8"
          ],
          [
           0.3333333333333333,
           "#9c179e"
          ],
          [
           0.4444444444444444,
           "#bd3786"
          ],
          [
           0.5555555555555556,
           "#d8576b"
          ],
          [
           0.6666666666666666,
           "#ed7953"
          ],
          [
           0.7777777777777778,
           "#fb9f3a"
          ],
          [
           0.8888888888888888,
           "#fdca26"
          ],
          [
           1,
           "#f0f921"
          ]
         ]
        },
        "geo": {
         "center": {},
         "domain": {
          "x": [
           0,
           1
          ],
          "y": [
           0,
           1
          ]
         },
         "scope": "usa"
        },
        "legend": {
         "tracegroupgap": 0
        },
        "margin": {
         "t": 60
        },
        "template": {
         "data": {
          "bar": [
           {
            "error_x": {
             "color": "#2a3f5f"
            },
            "error_y": {
             "color": "#2a3f5f"
            },
            "marker": {
             "line": {
              "color": "#E5ECF6",
              "width": 0.5
             }
            },
            "type": "bar"
           }
          ],
          "barpolar": [
           {
            "marker": {
             "line": {
              "color": "#E5ECF6",
              "width": 0.5
             }
            },
            "type": "barpolar"
           }
          ],
          "carpet": [
           {
            "aaxis": {
             "endlinecolor": "#2a3f5f",
             "gridcolor": "white",
             "linecolor": "white",
             "minorgridcolor": "white",
             "startlinecolor": "#2a3f5f"
            },
            "baxis": {
             "endlinecolor": "#2a3f5f",
             "gridcolor": "white",
             "linecolor": "white",
             "minorgridcolor": "white",
             "startlinecolor": "#2a3f5f"
            },
            "type": "carpet"
           }
          ],
          "choropleth": [
           {
            "colorbar": {
             "outlinewidth": 0,
             "ticks": ""
            },
            "type": "choropleth"
           }
          ],
          "contour": [
           {
            "colorbar": {
             "outlinewidth": 0,
             "ticks": ""
            },
            "colorscale": [
             [
              0,
              "#0d0887"
             ],
             [
              0.1111111111111111,
              "#46039f"
             ],
             [
              0.2222222222222222,
              "#7201a8"
             ],
             [
              0.3333333333333333,
              "#9c179e"
             ],
             [
              0.4444444444444444,
              "#bd3786"
             ],
             [
              0.5555555555555556,
              "#d8576b"
             ],
             [
              0.6666666666666666,
              "#ed7953"
             ],
             [
              0.7777777777777778,
              "#fb9f3a"
             ],
             [
              0.8888888888888888,
              "#fdca26"
             ],
             [
              1,
              "#f0f921"
             ]
            ],
            "type": "contour"
           }
          ],
          "contourcarpet": [
           {
            "colorbar": {
             "outlinewidth": 0,
             "ticks": ""
            },
            "type": "contourcarpet"
           }
          ],
          "heatmap": [
           {
            "colorbar": {
             "outlinewidth": 0,
             "ticks": ""
            },
            "colorscale": [
             [
              0,
              "#0d0887"
             ],
             [
              0.1111111111111111,
              "#46039f"
             ],
             [
              0.2222222222222222,
              "#7201a8"
             ],
             [
              0.3333333333333333,
              "#9c179e"
             ],
             [
              0.4444444444444444,
              "#bd3786"
             ],
             [
              0.5555555555555556,
              "#d8576b"
             ],
             [
              0.6666666666666666,
              "#ed7953"
             ],
             [
              0.7777777777777778,
              "#fb9f3a"
             ],
             [
              0.8888888888888888,
              "#fdca26"
             ],
             [
              1,
              "#f0f921"
             ]
            ],
            "type": "heatmap"
           }
          ],
          "heatmapgl": [
           {
            "colorbar": {
             "outlinewidth": 0,
             "ticks": ""
            },
            "colorscale": [
             [
              0,
              "#0d0887"
             ],
             [
              0.1111111111111111,
              "#46039f"
             ],
             [
              0.2222222222222222,
              "#7201a8"
             ],
             [
              0.3333333333333333,
              "#9c179e"
             ],
             [
              0.4444444444444444,
              "#bd3786"
             ],
             [
              0.5555555555555556,
              "#d8576b"
             ],
             [
              0.6666666666666666,
              "#ed7953"
             ],
             [
              0.7777777777777778,
              "#fb9f3a"
             ],
             [
              0.8888888888888888,
              "#fdca26"
             ],
             [
              1,
              "#f0f921"
             ]
            ],
            "type": "heatmapgl"
           }
          ],
          "histogram": [
           {
            "marker": {
             "colorbar": {
              "outlinewidth": 0,
              "ticks": ""
             }
            },
            "type": "histogram"
           }
          ],
          "histogram2d": [
           {
            "colorbar": {
             "outlinewidth": 0,
             "ticks": ""
            },
            "colorscale": [
             [
              0,
              "#0d0887"
             ],
             [
              0.1111111111111111,
              "#46039f"
             ],
             [
              0.2222222222222222,
              "#7201a8"
             ],
             [
              0.3333333333333333,
              "#9c179e"
             ],
             [
              0.4444444444444444,
              "#bd3786"
             ],
             [
              0.5555555555555556,
              "#d8576b"
             ],
             [
              0.6666666666666666,
              "#ed7953"
             ],
             [
              0.7777777777777778,
              "#fb9f3a"
             ],
             [
              0.8888888888888888,
              "#fdca26"
             ],
             [
              1,
              "#f0f921"
             ]
            ],
            "type": "histogram2d"
           }
          ],
          "histogram2dcontour": [
           {
            "colorbar": {
             "outlinewidth": 0,
             "ticks": ""
            },
            "colorscale": [
             [
              0,
              "#0d0887"
             ],
             [
              0.1111111111111111,
              "#46039f"
             ],
             [
              0.2222222222222222,
              "#7201a8"
             ],
             [
              0.3333333333333333,
              "#9c179e"
             ],
             [
              0.4444444444444444,
              "#bd3786"
             ],
             [
              0.5555555555555556,
              "#d8576b"
             ],
             [
              0.6666666666666666,
              "#ed7953"
             ],
             [
              0.7777777777777778,
              "#fb9f3a"
             ],
             [
              0.8888888888888888,
              "#fdca26"
             ],
             [
              1,
              "#f0f921"
             ]
            ],
            "type": "histogram2dcontour"
           }
          ],
          "mesh3d": [
           {
            "colorbar": {
             "outlinewidth": 0,
             "ticks": ""
            },
            "type": "mesh3d"
           }
          ],
          "parcoords": [
           {
            "line": {
             "colorbar": {
              "outlinewidth": 0,
              "ticks": ""
             }
            },
            "type": "parcoords"
           }
          ],
          "pie": [
           {
            "automargin": true,
            "type": "pie"
           }
          ],
          "scatter": [
           {
            "marker": {
             "colorbar": {
              "outlinewidth": 0,
              "ticks": ""
             }
            },
            "type": "scatter"
           }
          ],
          "scatter3d": [
           {
            "line": {
             "colorbar": {
              "outlinewidth": 0,
              "ticks": ""
             }
            },
            "marker": {
             "colorbar": {
              "outlinewidth": 0,
              "ticks": ""
             }
            },
            "type": "scatter3d"
           }
          ],
          "scattercarpet": [
           {
            "marker": {
             "colorbar": {
              "outlinewidth": 0,
              "ticks": ""
             }
            },
            "type": "scattercarpet"
           }
          ],
          "scattergeo": [
           {
            "marker": {
             "colorbar": {
              "outlinewidth": 0,
              "ticks": ""
             }
            },
            "type": "scattergeo"
           }
          ],
          "scattergl": [
           {
            "marker": {
             "colorbar": {
              "outlinewidth": 0,
              "ticks": ""
             }
            },
            "type": "scattergl"
           }
          ],
          "scattermapbox": [
           {
            "marker": {
             "colorbar": {
              "outlinewidth": 0,
              "ticks": ""
             }
            },
            "type": "scattermapbox"
           }
          ],
          "scatterpolar": [
           {
            "marker": {
             "colorbar": {
              "outlinewidth": 0,
              "ticks": ""
             }
            },
            "type": "scatterpolar"
           }
          ],
          "scatterpolargl": [
           {
            "marker": {
             "colorbar": {
              "outlinewidth": 0,
              "ticks": ""
             }
            },
            "type": "scatterpolargl"
           }
          ],
          "scatterternary": [
           {
            "marker": {
             "colorbar": {
              "outlinewidth": 0,
              "ticks": ""
             }
            },
            "type": "scatterternary"
           }
          ],
          "surface": [
           {
            "colorbar": {
             "outlinewidth": 0,
             "ticks": ""
            },
            "colorscale": [
             [
              0,
              "#0d0887"
             ],
             [
              0.1111111111111111,
              "#46039f"
             ],
             [
              0.2222222222222222,
              "#7201a8"
             ],
             [
              0.3333333333333333,
              "#9c179e"
             ],
             [
              0.4444444444444444,
              "#bd3786"
             ],
             [
              0.5555555555555556,
              "#d8576b"
             ],
             [
              0.6666666666666666,
              "#ed7953"
             ],
             [
              0.7777777777777778,
              "#fb9f3a"
             ],
             [
              0.8888888888888888,
              "#fdca26"
             ],
             [
              1,
              "#f0f921"
             ]
            ],
            "type": "surface"
           }
          ],
          "table": [
           {
            "cells": {
             "fill": {
              "color": "#EBF0F8"
             },
             "line": {
              "color": "white"
             }
            },
            "header": {
             "fill": {
              "color": "#C8D4E3"
             },
             "line": {
              "color": "white"
             }
            },
            "type": "table"
           }
          ]
         },
         "layout": {
          "annotationdefaults": {
           "arrowcolor": "#2a3f5f",
           "arrowhead": 0,
           "arrowwidth": 1
          },
          "coloraxis": {
           "colorbar": {
            "outlinewidth": 0,
            "ticks": ""
           }
          },
          "colorscale": {
           "diverging": [
            [
             0,
             "#8e0152"
            ],
            [
             0.1,
             "#c51b7d"
            ],
            [
             0.2,
             "#de77ae"
            ],
            [
             0.3,
             "#f1b6da"
            ],
            [
             0.4,
             "#fde0ef"
            ],
            [
             0.5,
             "#f7f7f7"
            ],
            [
             0.6,
             "#e6f5d0"
            ],
            [
             0.7,
             "#b8e186"
            ],
            [
             0.8,
             "#7fbc41"
            ],
            [
             0.9,
             "#4d9221"
            ],
            [
             1,
             "#276419"
            ]
           ],
           "sequential": [
            [
             0,
             "#0d0887"
            ],
            [
             0.1111111111111111,
             "#46039f"
            ],
            [
             0.2222222222222222,
             "#7201a8"
            ],
            [
             0.3333333333333333,
             "#9c179e"
            ],
            [
             0.4444444444444444,
             "#bd3786"
            ],
            [
             0.5555555555555556,
             "#d8576b"
            ],
            [
             0.6666666666666666,
             "#ed7953"
            ],
            [
             0.7777777777777778,
             "#fb9f3a"
            ],
            [
             0.8888888888888888,
             "#fdca26"
            ],
            [
             1,
             "#f0f921"
            ]
           ],
           "sequentialminus": [
            [
             0,
             "#0d0887"
            ],
            [
             0.1111111111111111,
             "#46039f"
            ],
            [
             0.2222222222222222,
             "#7201a8"
            ],
            [
             0.3333333333333333,
             "#9c179e"
            ],
            [
             0.4444444444444444,
             "#bd3786"
            ],
            [
             0.5555555555555556,
             "#d8576b"
            ],
            [
             0.6666666666666666,
             "#ed7953"
            ],
            [
             0.7777777777777778,
             "#fb9f3a"
            ],
            [
             0.8888888888888888,
             "#fdca26"
            ],
            [
             1,
             "#f0f921"
            ]
           ]
          },
          "colorway": [
           "#636efa",
           "#EF553B",
           "#00cc96",
           "#ab63fa",
           "#FFA15A",
           "#19d3f3",
           "#FF6692",
           "#B6E880",
           "#FF97FF",
           "#FECB52"
          ],
          "font": {
           "color": "#2a3f5f"
          },
          "geo": {
           "bgcolor": "white",
           "lakecolor": "white",
           "landcolor": "#E5ECF6",
           "showlakes": true,
           "showland": true,
           "subunitcolor": "white"
          },
          "hoverlabel": {
           "align": "left"
          },
          "hovermode": "closest",
          "mapbox": {
           "style": "light"
          },
          "paper_bgcolor": "white",
          "plot_bgcolor": "#E5ECF6",
          "polar": {
           "angularaxis": {
            "gridcolor": "white",
            "linecolor": "white",
            "ticks": ""
           },
           "bgcolor": "#E5ECF6",
           "radialaxis": {
            "gridcolor": "white",
            "linecolor": "white",
            "ticks": ""
           }
          },
          "scene": {
           "xaxis": {
            "backgroundcolor": "#E5ECF6",
            "gridcolor": "white",
            "gridwidth": 2,
            "linecolor": "white",
            "showbackground": true,
            "ticks": "",
            "zerolinecolor": "white"
           },
           "yaxis": {
            "backgroundcolor": "#E5ECF6",
            "gridcolor": "white",
            "gridwidth": 2,
            "linecolor": "white",
            "showbackground": true,
            "ticks": "",
            "zerolinecolor": "white"
           },
           "zaxis": {
            "backgroundcolor": "#E5ECF6",
            "gridcolor": "white",
            "gridwidth": 2,
            "linecolor": "white",
            "showbackground": true,
            "ticks": "",
            "zerolinecolor": "white"
           }
          },
          "shapedefaults": {
           "line": {
            "color": "#2a3f5f"
           }
          },
          "ternary": {
           "aaxis": {
            "gridcolor": "white",
            "linecolor": "white",
            "ticks": ""
           },
           "baxis": {
            "gridcolor": "white",
            "linecolor": "white",
            "ticks": ""
           },
           "bgcolor": "#E5ECF6",
           "caxis": {
            "gridcolor": "white",
            "linecolor": "white",
            "ticks": ""
           }
          },
          "title": {
           "x": 0.05
          },
          "xaxis": {
           "automargin": true,
           "gridcolor": "white",
           "linecolor": "white",
           "ticks": "",
           "title": {
            "standoff": 15
           },
           "zerolinecolor": "white",
           "zerolinewidth": 2
          },
          "yaxis": {
           "automargin": true,
           "gridcolor": "white",
           "linecolor": "white",
           "ticks": "",
           "title": {
            "standoff": 15
           },
           "zerolinecolor": "white",
           "zerolinewidth": 2
          }
         }
        },
        "title": {
         "text": "2015 Upper Estimates of Consumer Debt-to-Income"
        }
       }
      },
      "text/html": [
       "<div>\n",
       "        \n",
       "        \n",
       "            <div id=\"fa4f9e25-f30d-4c95-96f9-74d8b976f9d2\" class=\"plotly-graph-div\" style=\"height:525px; width:100%;\"></div>\n",
       "            <script type=\"text/javascript\">\n",
       "                require([\"plotly\"], function(Plotly) {\n",
       "                    window.PLOTLYENV=window.PLOTLYENV || {};\n",
       "                    \n",
       "                if (document.getElementById(\"fa4f9e25-f30d-4c95-96f9-74d8b976f9d2\")) {\n",
       "                    Plotly.newPlot(\n",
       "                        'fa4f9e25-f30d-4c95-96f9-74d8b976f9d2',\n",
       "                        [{\"coloraxis\": \"coloraxis\", \"geo\": \"geo\", \"hoverlabel\": {\"namelength\": 0}, \"hovertemplate\": \"state=%{location}<br>high=%{z}\", \"locationmode\": \"USA-states\", \"locations\": [\"AK\", \"AL\", \"AR\", \"AZ\", \"CA\", \"CO\", \"CT\", \"DC\", \"DE\", \"FL\", \"GA\", \"HI\", \"IA\", \"ID\", \"IL\", \"IN\", \"KS\", \"KY\", \"LA\", \"MA\", \"MD\", \"ME\", \"MI\", \"MN\", \"MO\", \"MS\", \"MT\", \"NC\", \"ND\", \"NE\", \"NH\", \"NJ\", \"NM\", \"NV\", \"NY\", \"OH\", \"OK\", \"OR\", \"PA\", \"RI\", \"SC\", \"SD\", \"TN\", \"TX\", \"UT\", \"VA\", \"VT\", \"WA\", \"WI\", \"WV\", \"WY\"], \"name\": \"\", \"type\": \"choropleth\", \"z\": [1.685, 1.485, 1.3275000000000001, 1.915, 1.9749999999999999, 1.8199999999999998, 1.5475, 1.09, 1.6575, 1.8225, 1.565, 2.13, 1.24, 2.07, 1.3475000000000001, 1.3075, 1.24, 1.2850000000000001, 1.3075, 1.3475000000000001, 2.13, 1.7874999999999999, 1.3075, 1.42, 1.3275000000000001, 1.485, 1.8199999999999998, 1.685, 1.09, 1.24, 1.69, 1.6925, 1.7175, 1.7525, 1.165, 1.2850000000000001, 1.2850000000000001, 1.8199999999999998, 1.3275000000000001, 1.6575, 1.8225, 1.3075, 1.415, 1.165, 1.7175, 2.07, 1.54, 1.8199999999999998, 1.2850000000000001, 1.35, 1.46]}],\n",
       "                        {\"coloraxis\": {\"colorbar\": {\"title\": {\"text\": \"high\"}}, \"colorscale\": [[0.0, \"#0d0887\"], [0.1111111111111111, \"#46039f\"], [0.2222222222222222, \"#7201a8\"], [0.3333333333333333, \"#9c179e\"], [0.4444444444444444, \"#bd3786\"], [0.5555555555555556, \"#d8576b\"], [0.6666666666666666, \"#ed7953\"], [0.7777777777777778, \"#fb9f3a\"], [0.8888888888888888, \"#fdca26\"], [1.0, \"#f0f921\"]]}, \"geo\": {\"center\": {}, \"domain\": {\"x\": [0.0, 1.0], \"y\": [0.0, 1.0]}, \"scope\": \"usa\"}, \"legend\": {\"tracegroupgap\": 0}, \"margin\": {\"t\": 60}, \"template\": {\"data\": {\"bar\": [{\"error_x\": {\"color\": \"#2a3f5f\"}, \"error_y\": {\"color\": \"#2a3f5f\"}, \"marker\": {\"line\": {\"color\": \"#E5ECF6\", \"width\": 0.5}}, \"type\": \"bar\"}], \"barpolar\": [{\"marker\": {\"line\": {\"color\": \"#E5ECF6\", \"width\": 0.5}}, \"type\": \"barpolar\"}], \"carpet\": [{\"aaxis\": {\"endlinecolor\": \"#2a3f5f\", \"gridcolor\": \"white\", \"linecolor\": \"white\", \"minorgridcolor\": \"white\", \"startlinecolor\": \"#2a3f5f\"}, \"baxis\": {\"endlinecolor\": \"#2a3f5f\", \"gridcolor\": \"white\", \"linecolor\": \"white\", \"minorgridcolor\": \"white\", \"startlinecolor\": \"#2a3f5f\"}, \"type\": \"carpet\"}], \"choropleth\": [{\"colorbar\": {\"outlinewidth\": 0, \"ticks\": \"\"}, \"type\": \"choropleth\"}], \"contour\": [{\"colorbar\": {\"outlinewidth\": 0, \"ticks\": \"\"}, \"colorscale\": [[0.0, \"#0d0887\"], [0.1111111111111111, \"#46039f\"], [0.2222222222222222, \"#7201a8\"], [0.3333333333333333, \"#9c179e\"], [0.4444444444444444, \"#bd3786\"], [0.5555555555555556, \"#d8576b\"], [0.6666666666666666, \"#ed7953\"], [0.7777777777777778, \"#fb9f3a\"], [0.8888888888888888, \"#fdca26\"], [1.0, \"#f0f921\"]], \"type\": \"contour\"}], \"contourcarpet\": [{\"colorbar\": {\"outlinewidth\": 0, \"ticks\": \"\"}, \"type\": \"contourcarpet\"}], \"heatmap\": [{\"colorbar\": {\"outlinewidth\": 0, \"ticks\": \"\"}, \"colorscale\": [[0.0, \"#0d0887\"], [0.1111111111111111, \"#46039f\"], [0.2222222222222222, \"#7201a8\"], [0.3333333333333333, \"#9c179e\"], [0.4444444444444444, \"#bd3786\"], [0.5555555555555556, \"#d8576b\"], [0.6666666666666666, \"#ed7953\"], [0.7777777777777778, \"#fb9f3a\"], [0.8888888888888888, \"#fdca26\"], [1.0, \"#f0f921\"]], \"type\": \"heatmap\"}], \"heatmapgl\": [{\"colorbar\": {\"outlinewidth\": 0, \"ticks\": \"\"}, \"colorscale\": [[0.0, \"#0d0887\"], [0.1111111111111111, \"#46039f\"], [0.2222222222222222, \"#7201a8\"], [0.3333333333333333, \"#9c179e\"], [0.4444444444444444, \"#bd3786\"], [0.5555555555555556, \"#d8576b\"], [0.6666666666666666, \"#ed7953\"], [0.7777777777777778, \"#fb9f3a\"], [0.8888888888888888, \"#fdca26\"], [1.0, \"#f0f921\"]], \"type\": \"heatmapgl\"}], \"histogram\": [{\"marker\": {\"colorbar\": {\"outlinewidth\": 0, \"ticks\": \"\"}}, \"type\": \"histogram\"}], \"histogram2d\": [{\"colorbar\": {\"outlinewidth\": 0, \"ticks\": \"\"}, \"colorscale\": [[0.0, \"#0d0887\"], [0.1111111111111111, \"#46039f\"], [0.2222222222222222, \"#7201a8\"], [0.3333333333333333, \"#9c179e\"], [0.4444444444444444, \"#bd3786\"], [0.5555555555555556, \"#d8576b\"], [0.6666666666666666, \"#ed7953\"], [0.7777777777777778, \"#fb9f3a\"], [0.8888888888888888, \"#fdca26\"], [1.0, \"#f0f921\"]], \"type\": \"histogram2d\"}], \"histogram2dcontour\": [{\"colorbar\": {\"outlinewidth\": 0, \"ticks\": \"\"}, \"colorscale\": [[0.0, \"#0d0887\"], [0.1111111111111111, \"#46039f\"], [0.2222222222222222, \"#7201a8\"], [0.3333333333333333, \"#9c179e\"], [0.4444444444444444, \"#bd3786\"], [0.5555555555555556, \"#d8576b\"], [0.6666666666666666, \"#ed7953\"], [0.7777777777777778, \"#fb9f3a\"], [0.8888888888888888, \"#fdca26\"], [1.0, \"#f0f921\"]], \"type\": \"histogram2dcontour\"}], \"mesh3d\": [{\"colorbar\": {\"outlinewidth\": 0, \"ticks\": \"\"}, \"type\": \"mesh3d\"}], \"parcoords\": [{\"line\": {\"colorbar\": {\"outlinewidth\": 0, \"ticks\": \"\"}}, \"type\": \"parcoords\"}], \"pie\": [{\"automargin\": true, \"type\": \"pie\"}], \"scatter\": [{\"marker\": {\"colorbar\": {\"outlinewidth\": 0, \"ticks\": \"\"}}, \"type\": \"scatter\"}], \"scatter3d\": [{\"line\": {\"colorbar\": {\"outlinewidth\": 0, \"ticks\": \"\"}}, \"marker\": {\"colorbar\": {\"outlinewidth\": 0, \"ticks\": \"\"}}, \"type\": \"scatter3d\"}], \"scattercarpet\": [{\"marker\": {\"colorbar\": {\"outlinewidth\": 0, \"ticks\": \"\"}}, \"type\": \"scattercarpet\"}], \"scattergeo\": [{\"marker\": {\"colorbar\": {\"outlinewidth\": 0, \"ticks\": \"\"}}, \"type\": \"scattergeo\"}], \"scattergl\": [{\"marker\": {\"colorbar\": {\"outlinewidth\": 0, \"ticks\": \"\"}}, \"type\": \"scattergl\"}], \"scattermapbox\": [{\"marker\": {\"colorbar\": {\"outlinewidth\": 0, \"ticks\": \"\"}}, \"type\": \"scattermapbox\"}], \"scatterpolar\": [{\"marker\": {\"colorbar\": {\"outlinewidth\": 0, \"ticks\": \"\"}}, \"type\": \"scatterpolar\"}], \"scatterpolargl\": [{\"marker\": {\"colorbar\": {\"outlinewidth\": 0, \"ticks\": \"\"}}, \"type\": \"scatterpolargl\"}], \"scatterternary\": [{\"marker\": {\"colorbar\": {\"outlinewidth\": 0, \"ticks\": \"\"}}, \"type\": \"scatterternary\"}], \"surface\": [{\"colorbar\": {\"outlinewidth\": 0, \"ticks\": \"\"}, \"colorscale\": [[0.0, \"#0d0887\"], [0.1111111111111111, \"#46039f\"], [0.2222222222222222, \"#7201a8\"], [0.3333333333333333, \"#9c179e\"], [0.4444444444444444, \"#bd3786\"], [0.5555555555555556, \"#d8576b\"], [0.6666666666666666, \"#ed7953\"], [0.7777777777777778, \"#fb9f3a\"], [0.8888888888888888, \"#fdca26\"], [1.0, \"#f0f921\"]], \"type\": \"surface\"}], \"table\": [{\"cells\": {\"fill\": {\"color\": \"#EBF0F8\"}, \"line\": {\"color\": \"white\"}}, \"header\": {\"fill\": {\"color\": \"#C8D4E3\"}, \"line\": {\"color\": \"white\"}}, \"type\": \"table\"}]}, \"layout\": {\"annotationdefaults\": {\"arrowcolor\": \"#2a3f5f\", \"arrowhead\": 0, \"arrowwidth\": 1}, \"coloraxis\": {\"colorbar\": {\"outlinewidth\": 0, \"ticks\": \"\"}}, \"colorscale\": {\"diverging\": [[0, \"#8e0152\"], [0.1, \"#c51b7d\"], [0.2, \"#de77ae\"], [0.3, \"#f1b6da\"], [0.4, \"#fde0ef\"], [0.5, \"#f7f7f7\"], [0.6, \"#e6f5d0\"], [0.7, \"#b8e186\"], [0.8, \"#7fbc41\"], [0.9, \"#4d9221\"], [1, \"#276419\"]], \"sequential\": [[0.0, \"#0d0887\"], [0.1111111111111111, \"#46039f\"], [0.2222222222222222, \"#7201a8\"], [0.3333333333333333, \"#9c179e\"], [0.4444444444444444, \"#bd3786\"], [0.5555555555555556, \"#d8576b\"], [0.6666666666666666, \"#ed7953\"], [0.7777777777777778, \"#fb9f3a\"], [0.8888888888888888, \"#fdca26\"], [1.0, \"#f0f921\"]], \"sequentialminus\": [[0.0, \"#0d0887\"], [0.1111111111111111, \"#46039f\"], [0.2222222222222222, \"#7201a8\"], [0.3333333333333333, \"#9c179e\"], [0.4444444444444444, \"#bd3786\"], [0.5555555555555556, \"#d8576b\"], [0.6666666666666666, \"#ed7953\"], [0.7777777777777778, \"#fb9f3a\"], [0.8888888888888888, \"#fdca26\"], [1.0, \"#f0f921\"]]}, \"colorway\": [\"#636efa\", \"#EF553B\", \"#00cc96\", \"#ab63fa\", \"#FFA15A\", \"#19d3f3\", \"#FF6692\", \"#B6E880\", \"#FF97FF\", \"#FECB52\"], \"font\": {\"color\": \"#2a3f5f\"}, \"geo\": {\"bgcolor\": \"white\", \"lakecolor\": \"white\", \"landcolor\": \"#E5ECF6\", \"showlakes\": true, \"showland\": true, \"subunitcolor\": \"white\"}, \"hoverlabel\": {\"align\": \"left\"}, \"hovermode\": \"closest\", \"mapbox\": {\"style\": \"light\"}, \"paper_bgcolor\": \"white\", \"plot_bgcolor\": \"#E5ECF6\", \"polar\": {\"angularaxis\": {\"gridcolor\": \"white\", \"linecolor\": \"white\", \"ticks\": \"\"}, \"bgcolor\": \"#E5ECF6\", \"radialaxis\": {\"gridcolor\": \"white\", \"linecolor\": \"white\", \"ticks\": \"\"}}, \"scene\": {\"xaxis\": {\"backgroundcolor\": \"#E5ECF6\", \"gridcolor\": \"white\", \"gridwidth\": 2, \"linecolor\": \"white\", \"showbackground\": true, \"ticks\": \"\", \"zerolinecolor\": \"white\"}, \"yaxis\": {\"backgroundcolor\": \"#E5ECF6\", \"gridcolor\": \"white\", \"gridwidth\": 2, \"linecolor\": \"white\", \"showbackground\": true, \"ticks\": \"\", \"zerolinecolor\": \"white\"}, \"zaxis\": {\"backgroundcolor\": \"#E5ECF6\", \"gridcolor\": \"white\", \"gridwidth\": 2, \"linecolor\": \"white\", \"showbackground\": true, \"ticks\": \"\", \"zerolinecolor\": \"white\"}}, \"shapedefaults\": {\"line\": {\"color\": \"#2a3f5f\"}}, \"ternary\": {\"aaxis\": {\"gridcolor\": \"white\", \"linecolor\": \"white\", \"ticks\": \"\"}, \"baxis\": {\"gridcolor\": \"white\", \"linecolor\": \"white\", \"ticks\": \"\"}, \"bgcolor\": \"#E5ECF6\", \"caxis\": {\"gridcolor\": \"white\", \"linecolor\": \"white\", \"ticks\": \"\"}}, \"title\": {\"x\": 0.05}, \"xaxis\": {\"automargin\": true, \"gridcolor\": \"white\", \"linecolor\": \"white\", \"ticks\": \"\", \"title\": {\"standoff\": 15}, \"zerolinecolor\": \"white\", \"zerolinewidth\": 2}, \"yaxis\": {\"automargin\": true, \"gridcolor\": \"white\", \"linecolor\": \"white\", \"ticks\": \"\", \"title\": {\"standoff\": 15}, \"zerolinecolor\": \"white\", \"zerolinewidth\": 2}}}, \"title\": {\"text\": \"2015 Upper Estimates of Consumer Debt-to-Income\"}},\n",
       "                        {\"responsive\": true}\n",
       "                    ).then(function(){\n",
       "                            \n",
       "var gd = document.getElementById('fa4f9e25-f30d-4c95-96f9-74d8b976f9d2');\n",
       "var x = new MutationObserver(function (mutations, observer) {{\n",
       "        var display = window.getComputedStyle(gd).display;\n",
       "        if (!display || display === 'none') {{\n",
       "            console.log([gd, 'removed!']);\n",
       "            Plotly.purge(gd);\n",
       "            observer.disconnect();\n",
       "        }}\n",
       "}});\n",
       "\n",
       "// Listen for the removal of the full notebook cells\n",
       "var notebookContainer = gd.closest('#notebook-container');\n",
       "if (notebookContainer) {{\n",
       "    x.observe(notebookContainer, {childList: true});\n",
       "}}\n",
       "\n",
       "// Listen for the clearing of the current output cell\n",
       "var outputEl = gd.closest('.output');\n",
       "if (outputEl) {{\n",
       "    x.observe(outputEl, {childList: true});\n",
       "}}\n",
       "\n",
       "                        })\n",
       "                };\n",
       "                });\n",
       "            </script>\n",
       "        </div>"
      ]
     },
     "metadata": {},
     "output_type": "display_data"
    }
   ],
   "source": [
    "fig2 = px.choropleth(household_debt_subset.loc[household_debt_subset['year'] == 2015],  # Input Pandas DataFrame\n",
    "                    locations=\"state\",  # DataFrame column with locations\n",
    "                    color=\"high\",  # DataFrame column with color values\n",
    "                    locationmode = 'USA-states') # Set to plot as US States\n",
    "fig2.update_layout(\n",
    "    title_text = '2015 Upper Estimates of Consumer Debt-to-Income', # Create a Title\n",
    "    geo_scope='usa',  # Plot only the USA instead of globe\n",
    ")\n",
    "\n",
    "fig2.show()\n"
   ]
  },
  {
   "cell_type": "code",
   "execution_count": 72,
   "metadata": {},
   "outputs": [
    {
     "data": {
      "application/vnd.plotly.v1+json": {
       "config": {
        "plotlyServerURL": "https://plot.ly"
       },
       "data": [
        {
         "coloraxis": "coloraxis",
         "geo": "geo",
         "hoverlabel": {
          "namelength": 0
         },
         "hovertemplate": "state=%{location}<br>high=%{z}",
         "locationmode": "USA-states",
         "locations": [
          "AK",
          "AL",
          "AR",
          "AZ",
          "CA",
          "CO",
          "CT",
          "DC",
          "DE",
          "FL",
          "GA",
          "HI",
          "IA",
          "ID",
          "IL",
          "IN",
          "KS",
          "KY",
          "LA",
          "MA",
          "MD",
          "ME",
          "MI",
          "MN",
          "MO",
          "MS",
          "MT",
          "NC",
          "ND",
          "NE",
          "NH",
          "NJ",
          "NM",
          "NV",
          "NY",
          "OH",
          "OK",
          "OR",
          "PA",
          "RI",
          "SC",
          "SD",
          "TN",
          "TX",
          "UT",
          "VA",
          "VT",
          "WA",
          "WI",
          "WV",
          "WY"
         ],
         "name": "",
         "type": "choropleth",
         "z": [
          1.7874999999999999,
          1.485,
          1.35,
          1.89,
          2.01,
          1.89,
          1.54,
          1.09,
          1.6525,
          1.75,
          1.5374999999999999,
          null,
          1.24,
          2.01,
          1.3275000000000001,
          1.33,
          1.24,
          1.2850000000000001,
          1.39,
          1.35,
          2.13,
          1.7525,
          1.3075,
          1.435,
          1.33,
          1.46,
          1.89,
          1.6525,
          1.09,
          1.24,
          1.7175,
          1.685,
          1.75,
          1.7525,
          1.165,
          1.2850000000000001,
          1.33,
          1.785,
          1.33,
          1.685,
          1.785,
          1.2850000000000001,
          1.415,
          1.24,
          1.75,
          2.07,
          1.565,
          1.8199999999999998,
          1.2850000000000001,
          1.35,
          1.6525
         ]
        }
       ],
       "layout": {
        "coloraxis": {
         "colorbar": {
          "title": {
           "text": "high"
          }
         },
         "colorscale": [
          [
           0,
           "#0d0887"
          ],
          [
           0.1111111111111111,
           "#46039f"
          ],
          [
           0.2222222222222222,
           "#7201a8"
          ],
          [
           0.3333333333333333,
           "#9c179e"
          ],
          [
           0.4444444444444444,
           "#bd3786"
          ],
          [
           0.5555555555555556,
           "#d8576b"
          ],
          [
           0.6666666666666666,
           "#ed7953"
          ],
          [
           0.7777777777777778,
           "#fb9f3a"
          ],
          [
           0.8888888888888888,
           "#fdca26"
          ],
          [
           1,
           "#f0f921"
          ]
         ]
        },
        "geo": {
         "center": {},
         "domain": {
          "x": [
           0,
           1
          ],
          "y": [
           0,
           1
          ]
         },
         "scope": "usa"
        },
        "legend": {
         "tracegroupgap": 0
        },
        "margin": {
         "t": 60
        },
        "template": {
         "data": {
          "bar": [
           {
            "error_x": {
             "color": "#2a3f5f"
            },
            "error_y": {
             "color": "#2a3f5f"
            },
            "marker": {
             "line": {
              "color": "#E5ECF6",
              "width": 0.5
             }
            },
            "type": "bar"
           }
          ],
          "barpolar": [
           {
            "marker": {
             "line": {
              "color": "#E5ECF6",
              "width": 0.5
             }
            },
            "type": "barpolar"
           }
          ],
          "carpet": [
           {
            "aaxis": {
             "endlinecolor": "#2a3f5f",
             "gridcolor": "white",
             "linecolor": "white",
             "minorgridcolor": "white",
             "startlinecolor": "#2a3f5f"
            },
            "baxis": {
             "endlinecolor": "#2a3f5f",
             "gridcolor": "white",
             "linecolor": "white",
             "minorgridcolor": "white",
             "startlinecolor": "#2a3f5f"
            },
            "type": "carpet"
           }
          ],
          "choropleth": [
           {
            "colorbar": {
             "outlinewidth": 0,
             "ticks": ""
            },
            "type": "choropleth"
           }
          ],
          "contour": [
           {
            "colorbar": {
             "outlinewidth": 0,
             "ticks": ""
            },
            "colorscale": [
             [
              0,
              "#0d0887"
             ],
             [
              0.1111111111111111,
              "#46039f"
             ],
             [
              0.2222222222222222,
              "#7201a8"
             ],
             [
              0.3333333333333333,
              "#9c179e"
             ],
             [
              0.4444444444444444,
              "#bd3786"
             ],
             [
              0.5555555555555556,
              "#d8576b"
             ],
             [
              0.6666666666666666,
              "#ed7953"
             ],
             [
              0.7777777777777778,
              "#fb9f3a"
             ],
             [
              0.8888888888888888,
              "#fdca26"
             ],
             [
              1,
              "#f0f921"
             ]
            ],
            "type": "contour"
           }
          ],
          "contourcarpet": [
           {
            "colorbar": {
             "outlinewidth": 0,
             "ticks": ""
            },
            "type": "contourcarpet"
           }
          ],
          "heatmap": [
           {
            "colorbar": {
             "outlinewidth": 0,
             "ticks": ""
            },
            "colorscale": [
             [
              0,
              "#0d0887"
             ],
             [
              0.1111111111111111,
              "#46039f"
             ],
             [
              0.2222222222222222,
              "#7201a8"
             ],
             [
              0.3333333333333333,
              "#9c179e"
             ],
             [
              0.4444444444444444,
              "#bd3786"
             ],
             [
              0.5555555555555556,
              "#d8576b"
             ],
             [
              0.6666666666666666,
              "#ed7953"
             ],
             [
              0.7777777777777778,
              "#fb9f3a"
             ],
             [
              0.8888888888888888,
              "#fdca26"
             ],
             [
              1,
              "#f0f921"
             ]
            ],
            "type": "heatmap"
           }
          ],
          "heatmapgl": [
           {
            "colorbar": {
             "outlinewidth": 0,
             "ticks": ""
            },
            "colorscale": [
             [
              0,
              "#0d0887"
             ],
             [
              0.1111111111111111,
              "#46039f"
             ],
             [
              0.2222222222222222,
              "#7201a8"
             ],
             [
              0.3333333333333333,
              "#9c179e"
             ],
             [
              0.4444444444444444,
              "#bd3786"
             ],
             [
              0.5555555555555556,
              "#d8576b"
             ],
             [
              0.6666666666666666,
              "#ed7953"
             ],
             [
              0.7777777777777778,
              "#fb9f3a"
             ],
             [
              0.8888888888888888,
              "#fdca26"
             ],
             [
              1,
              "#f0f921"
             ]
            ],
            "type": "heatmapgl"
           }
          ],
          "histogram": [
           {
            "marker": {
             "colorbar": {
              "outlinewidth": 0,
              "ticks": ""
             }
            },
            "type": "histogram"
           }
          ],
          "histogram2d": [
           {
            "colorbar": {
             "outlinewidth": 0,
             "ticks": ""
            },
            "colorscale": [
             [
              0,
              "#0d0887"
             ],
             [
              0.1111111111111111,
              "#46039f"
             ],
             [
              0.2222222222222222,
              "#7201a8"
             ],
             [
              0.3333333333333333,
              "#9c179e"
             ],
             [
              0.4444444444444444,
              "#bd3786"
             ],
             [
              0.5555555555555556,
              "#d8576b"
             ],
             [
              0.6666666666666666,
              "#ed7953"
             ],
             [
              0.7777777777777778,
              "#fb9f3a"
             ],
             [
              0.8888888888888888,
              "#fdca26"
             ],
             [
              1,
              "#f0f921"
             ]
            ],
            "type": "histogram2d"
           }
          ],
          "histogram2dcontour": [
           {
            "colorbar": {
             "outlinewidth": 0,
             "ticks": ""
            },
            "colorscale": [
             [
              0,
              "#0d0887"
             ],
             [
              0.1111111111111111,
              "#46039f"
             ],
             [
              0.2222222222222222,
              "#7201a8"
             ],
             [
              0.3333333333333333,
              "#9c179e"
             ],
             [
              0.4444444444444444,
              "#bd3786"
             ],
             [
              0.5555555555555556,
              "#d8576b"
             ],
             [
              0.6666666666666666,
              "#ed7953"
             ],
             [
              0.7777777777777778,
              "#fb9f3a"
             ],
             [
              0.8888888888888888,
              "#fdca26"
             ],
             [
              1,
              "#f0f921"
             ]
            ],
            "type": "histogram2dcontour"
           }
          ],
          "mesh3d": [
           {
            "colorbar": {
             "outlinewidth": 0,
             "ticks": ""
            },
            "type": "mesh3d"
           }
          ],
          "parcoords": [
           {
            "line": {
             "colorbar": {
              "outlinewidth": 0,
              "ticks": ""
             }
            },
            "type": "parcoords"
           }
          ],
          "pie": [
           {
            "automargin": true,
            "type": "pie"
           }
          ],
          "scatter": [
           {
            "marker": {
             "colorbar": {
              "outlinewidth": 0,
              "ticks": ""
             }
            },
            "type": "scatter"
           }
          ],
          "scatter3d": [
           {
            "line": {
             "colorbar": {
              "outlinewidth": 0,
              "ticks": ""
             }
            },
            "marker": {
             "colorbar": {
              "outlinewidth": 0,
              "ticks": ""
             }
            },
            "type": "scatter3d"
           }
          ],
          "scattercarpet": [
           {
            "marker": {
             "colorbar": {
              "outlinewidth": 0,
              "ticks": ""
             }
            },
            "type": "scattercarpet"
           }
          ],
          "scattergeo": [
           {
            "marker": {
             "colorbar": {
              "outlinewidth": 0,
              "ticks": ""
             }
            },
            "type": "scattergeo"
           }
          ],
          "scattergl": [
           {
            "marker": {
             "colorbar": {
              "outlinewidth": 0,
              "ticks": ""
             }
            },
            "type": "scattergl"
           }
          ],
          "scattermapbox": [
           {
            "marker": {
             "colorbar": {
              "outlinewidth": 0,
              "ticks": ""
             }
            },
            "type": "scattermapbox"
           }
          ],
          "scatterpolar": [
           {
            "marker": {
             "colorbar": {
              "outlinewidth": 0,
              "ticks": ""
             }
            },
            "type": "scatterpolar"
           }
          ],
          "scatterpolargl": [
           {
            "marker": {
             "colorbar": {
              "outlinewidth": 0,
              "ticks": ""
             }
            },
            "type": "scatterpolargl"
           }
          ],
          "scatterternary": [
           {
            "marker": {
             "colorbar": {
              "outlinewidth": 0,
              "ticks": ""
             }
            },
            "type": "scatterternary"
           }
          ],
          "surface": [
           {
            "colorbar": {
             "outlinewidth": 0,
             "ticks": ""
            },
            "colorscale": [
             [
              0,
              "#0d0887"
             ],
             [
              0.1111111111111111,
              "#46039f"
             ],
             [
              0.2222222222222222,
              "#7201a8"
             ],
             [
              0.3333333333333333,
              "#9c179e"
             ],
             [
              0.4444444444444444,
              "#bd3786"
             ],
             [
              0.5555555555555556,
              "#d8576b"
             ],
             [
              0.6666666666666666,
              "#ed7953"
             ],
             [
              0.7777777777777778,
              "#fb9f3a"
             ],
             [
              0.8888888888888888,
              "#fdca26"
             ],
             [
              1,
              "#f0f921"
             ]
            ],
            "type": "surface"
           }
          ],
          "table": [
           {
            "cells": {
             "fill": {
              "color": "#EBF0F8"
             },
             "line": {
              "color": "white"
             }
            },
            "header": {
             "fill": {
              "color": "#C8D4E3"
             },
             "line": {
              "color": "white"
             }
            },
            "type": "table"
           }
          ]
         },
         "layout": {
          "annotationdefaults": {
           "arrowcolor": "#2a3f5f",
           "arrowhead": 0,
           "arrowwidth": 1
          },
          "coloraxis": {
           "colorbar": {
            "outlinewidth": 0,
            "ticks": ""
           }
          },
          "colorscale": {
           "diverging": [
            [
             0,
             "#8e0152"
            ],
            [
             0.1,
             "#c51b7d"
            ],
            [
             0.2,
             "#de77ae"
            ],
            [
             0.3,
             "#f1b6da"
            ],
            [
             0.4,
             "#fde0ef"
            ],
            [
             0.5,
             "#f7f7f7"
            ],
            [
             0.6,
             "#e6f5d0"
            ],
            [
             0.7,
             "#b8e186"
            ],
            [
             0.8,
             "#7fbc41"
            ],
            [
             0.9,
             "#4d9221"
            ],
            [
             1,
             "#276419"
            ]
           ],
           "sequential": [
            [
             0,
             "#0d0887"
            ],
            [
             0.1111111111111111,
             "#46039f"
            ],
            [
             0.2222222222222222,
             "#7201a8"
            ],
            [
             0.3333333333333333,
             "#9c179e"
            ],
            [
             0.4444444444444444,
             "#bd3786"
            ],
            [
             0.5555555555555556,
             "#d8576b"
            ],
            [
             0.6666666666666666,
             "#ed7953"
            ],
            [
             0.7777777777777778,
             "#fb9f3a"
            ],
            [
             0.8888888888888888,
             "#fdca26"
            ],
            [
             1,
             "#f0f921"
            ]
           ],
           "sequentialminus": [
            [
             0,
             "#0d0887"
            ],
            [
             0.1111111111111111,
             "#46039f"
            ],
            [
             0.2222222222222222,
             "#7201a8"
            ],
            [
             0.3333333333333333,
             "#9c179e"
            ],
            [
             0.4444444444444444,
             "#bd3786"
            ],
            [
             0.5555555555555556,
             "#d8576b"
            ],
            [
             0.6666666666666666,
             "#ed7953"
            ],
            [
             0.7777777777777778,
             "#fb9f3a"
            ],
            [
             0.8888888888888888,
             "#fdca26"
            ],
            [
             1,
             "#f0f921"
            ]
           ]
          },
          "colorway": [
           "#636efa",
           "#EF553B",
           "#00cc96",
           "#ab63fa",
           "#FFA15A",
           "#19d3f3",
           "#FF6692",
           "#B6E880",
           "#FF97FF",
           "#FECB52"
          ],
          "font": {
           "color": "#2a3f5f"
          },
          "geo": {
           "bgcolor": "white",
           "lakecolor": "white",
           "landcolor": "#E5ECF6",
           "showlakes": true,
           "showland": true,
           "subunitcolor": "white"
          },
          "hoverlabel": {
           "align": "left"
          },
          "hovermode": "closest",
          "mapbox": {
           "style": "light"
          },
          "paper_bgcolor": "white",
          "plot_bgcolor": "#E5ECF6",
          "polar": {
           "angularaxis": {
            "gridcolor": "white",
            "linecolor": "white",
            "ticks": ""
           },
           "bgcolor": "#E5ECF6",
           "radialaxis": {
            "gridcolor": "white",
            "linecolor": "white",
            "ticks": ""
           }
          },
          "scene": {
           "xaxis": {
            "backgroundcolor": "#E5ECF6",
            "gridcolor": "white",
            "gridwidth": 2,
            "linecolor": "white",
            "showbackground": true,
            "ticks": "",
            "zerolinecolor": "white"
           },
           "yaxis": {
            "backgroundcolor": "#E5ECF6",
            "gridcolor": "white",
            "gridwidth": 2,
            "linecolor": "white",
            "showbackground": true,
            "ticks": "",
            "zerolinecolor": "white"
           },
           "zaxis": {
            "backgroundcolor": "#E5ECF6",
            "gridcolor": "white",
            "gridwidth": 2,
            "linecolor": "white",
            "showbackground": true,
            "ticks": "",
            "zerolinecolor": "white"
           }
          },
          "shapedefaults": {
           "line": {
            "color": "#2a3f5f"
           }
          },
          "ternary": {
           "aaxis": {
            "gridcolor": "white",
            "linecolor": "white",
            "ticks": ""
           },
           "baxis": {
            "gridcolor": "white",
            "linecolor": "white",
            "ticks": ""
           },
           "bgcolor": "#E5ECF6",
           "caxis": {
            "gridcolor": "white",
            "linecolor": "white",
            "ticks": ""
           }
          },
          "title": {
           "x": 0.05
          },
          "xaxis": {
           "automargin": true,
           "gridcolor": "white",
           "linecolor": "white",
           "ticks": "",
           "title": {
            "standoff": 15
           },
           "zerolinecolor": "white",
           "zerolinewidth": 2
          },
          "yaxis": {
           "automargin": true,
           "gridcolor": "white",
           "linecolor": "white",
           "ticks": "",
           "title": {
            "standoff": 15
           },
           "zerolinecolor": "white",
           "zerolinewidth": 2
          }
         }
        },
        "title": {
         "text": "2016 Upper Estimates of Consumer Debt-to-Income"
        }
       }
      },
      "text/html": [
       "<div>\n",
       "        \n",
       "        \n",
       "            <div id=\"f9a06c0c-523a-4568-b33f-5337ffb4bb7a\" class=\"plotly-graph-div\" style=\"height:525px; width:100%;\"></div>\n",
       "            <script type=\"text/javascript\">\n",
       "                require([\"plotly\"], function(Plotly) {\n",
       "                    window.PLOTLYENV=window.PLOTLYENV || {};\n",
       "                    \n",
       "                if (document.getElementById(\"f9a06c0c-523a-4568-b33f-5337ffb4bb7a\")) {\n",
       "                    Plotly.newPlot(\n",
       "                        'f9a06c0c-523a-4568-b33f-5337ffb4bb7a',\n",
       "                        [{\"coloraxis\": \"coloraxis\", \"geo\": \"geo\", \"hoverlabel\": {\"namelength\": 0}, \"hovertemplate\": \"state=%{location}<br>high=%{z}\", \"locationmode\": \"USA-states\", \"locations\": [\"AK\", \"AL\", \"AR\", \"AZ\", \"CA\", \"CO\", \"CT\", \"DC\", \"DE\", \"FL\", \"GA\", \"HI\", \"IA\", \"ID\", \"IL\", \"IN\", \"KS\", \"KY\", \"LA\", \"MA\", \"MD\", \"ME\", \"MI\", \"MN\", \"MO\", \"MS\", \"MT\", \"NC\", \"ND\", \"NE\", \"NH\", \"NJ\", \"NM\", \"NV\", \"NY\", \"OH\", \"OK\", \"OR\", \"PA\", \"RI\", \"SC\", \"SD\", \"TN\", \"TX\", \"UT\", \"VA\", \"VT\", \"WA\", \"WI\", \"WV\", \"WY\"], \"name\": \"\", \"type\": \"choropleth\", \"z\": [1.7874999999999999, 1.485, 1.35, 1.89, 2.01, 1.89, 1.54, 1.09, 1.6525, 1.75, 1.5374999999999999, null, 1.24, 2.01, 1.3275000000000001, 1.33, 1.24, 1.2850000000000001, 1.39, 1.35, 2.13, 1.7525, 1.3075, 1.435, 1.33, 1.46, 1.89, 1.6525, 1.09, 1.24, 1.7175, 1.685, 1.75, 1.7525, 1.165, 1.2850000000000001, 1.33, 1.785, 1.33, 1.685, 1.785, 1.2850000000000001, 1.415, 1.24, 1.75, 2.07, 1.565, 1.8199999999999998, 1.2850000000000001, 1.35, 1.6525]}],\n",
       "                        {\"coloraxis\": {\"colorbar\": {\"title\": {\"text\": \"high\"}}, \"colorscale\": [[0.0, \"#0d0887\"], [0.1111111111111111, \"#46039f\"], [0.2222222222222222, \"#7201a8\"], [0.3333333333333333, \"#9c179e\"], [0.4444444444444444, \"#bd3786\"], [0.5555555555555556, \"#d8576b\"], [0.6666666666666666, \"#ed7953\"], [0.7777777777777778, \"#fb9f3a\"], [0.8888888888888888, \"#fdca26\"], [1.0, \"#f0f921\"]]}, \"geo\": {\"center\": {}, \"domain\": {\"x\": [0.0, 1.0], \"y\": [0.0, 1.0]}, \"scope\": \"usa\"}, \"legend\": {\"tracegroupgap\": 0}, \"margin\": {\"t\": 60}, \"template\": {\"data\": {\"bar\": [{\"error_x\": {\"color\": \"#2a3f5f\"}, \"error_y\": {\"color\": \"#2a3f5f\"}, \"marker\": {\"line\": {\"color\": \"#E5ECF6\", \"width\": 0.5}}, \"type\": \"bar\"}], \"barpolar\": [{\"marker\": {\"line\": {\"color\": \"#E5ECF6\", \"width\": 0.5}}, \"type\": \"barpolar\"}], \"carpet\": [{\"aaxis\": {\"endlinecolor\": \"#2a3f5f\", \"gridcolor\": \"white\", \"linecolor\": \"white\", \"minorgridcolor\": \"white\", \"startlinecolor\": \"#2a3f5f\"}, \"baxis\": {\"endlinecolor\": \"#2a3f5f\", \"gridcolor\": \"white\", \"linecolor\": \"white\", \"minorgridcolor\": \"white\", \"startlinecolor\": \"#2a3f5f\"}, \"type\": \"carpet\"}], \"choropleth\": [{\"colorbar\": {\"outlinewidth\": 0, \"ticks\": \"\"}, \"type\": \"choropleth\"}], \"contour\": [{\"colorbar\": {\"outlinewidth\": 0, \"ticks\": \"\"}, \"colorscale\": [[0.0, \"#0d0887\"], [0.1111111111111111, \"#46039f\"], [0.2222222222222222, \"#7201a8\"], [0.3333333333333333, \"#9c179e\"], [0.4444444444444444, \"#bd3786\"], [0.5555555555555556, \"#d8576b\"], [0.6666666666666666, \"#ed7953\"], [0.7777777777777778, \"#fb9f3a\"], [0.8888888888888888, \"#fdca26\"], [1.0, \"#f0f921\"]], \"type\": \"contour\"}], \"contourcarpet\": [{\"colorbar\": {\"outlinewidth\": 0, \"ticks\": \"\"}, \"type\": \"contourcarpet\"}], \"heatmap\": [{\"colorbar\": {\"outlinewidth\": 0, \"ticks\": \"\"}, \"colorscale\": [[0.0, \"#0d0887\"], [0.1111111111111111, \"#46039f\"], [0.2222222222222222, \"#7201a8\"], [0.3333333333333333, \"#9c179e\"], [0.4444444444444444, \"#bd3786\"], [0.5555555555555556, \"#d8576b\"], [0.6666666666666666, \"#ed7953\"], [0.7777777777777778, \"#fb9f3a\"], [0.8888888888888888, \"#fdca26\"], [1.0, \"#f0f921\"]], \"type\": \"heatmap\"}], \"heatmapgl\": [{\"colorbar\": {\"outlinewidth\": 0, \"ticks\": \"\"}, \"colorscale\": [[0.0, \"#0d0887\"], [0.1111111111111111, \"#46039f\"], [0.2222222222222222, \"#7201a8\"], [0.3333333333333333, \"#9c179e\"], [0.4444444444444444, \"#bd3786\"], [0.5555555555555556, \"#d8576b\"], [0.6666666666666666, \"#ed7953\"], [0.7777777777777778, \"#fb9f3a\"], [0.8888888888888888, \"#fdca26\"], [1.0, \"#f0f921\"]], \"type\": \"heatmapgl\"}], \"histogram\": [{\"marker\": {\"colorbar\": {\"outlinewidth\": 0, \"ticks\": \"\"}}, \"type\": \"histogram\"}], \"histogram2d\": [{\"colorbar\": {\"outlinewidth\": 0, \"ticks\": \"\"}, \"colorscale\": [[0.0, \"#0d0887\"], [0.1111111111111111, \"#46039f\"], [0.2222222222222222, \"#7201a8\"], [0.3333333333333333, \"#9c179e\"], [0.4444444444444444, \"#bd3786\"], [0.5555555555555556, \"#d8576b\"], [0.6666666666666666, \"#ed7953\"], [0.7777777777777778, \"#fb9f3a\"], [0.8888888888888888, \"#fdca26\"], [1.0, \"#f0f921\"]], \"type\": \"histogram2d\"}], \"histogram2dcontour\": [{\"colorbar\": {\"outlinewidth\": 0, \"ticks\": \"\"}, \"colorscale\": [[0.0, \"#0d0887\"], [0.1111111111111111, \"#46039f\"], [0.2222222222222222, \"#7201a8\"], [0.3333333333333333, \"#9c179e\"], [0.4444444444444444, \"#bd3786\"], [0.5555555555555556, \"#d8576b\"], [0.6666666666666666, \"#ed7953\"], [0.7777777777777778, \"#fb9f3a\"], [0.8888888888888888, \"#fdca26\"], [1.0, \"#f0f921\"]], \"type\": \"histogram2dcontour\"}], \"mesh3d\": [{\"colorbar\": {\"outlinewidth\": 0, \"ticks\": \"\"}, \"type\": \"mesh3d\"}], \"parcoords\": [{\"line\": {\"colorbar\": {\"outlinewidth\": 0, \"ticks\": \"\"}}, \"type\": \"parcoords\"}], \"pie\": [{\"automargin\": true, \"type\": \"pie\"}], \"scatter\": [{\"marker\": {\"colorbar\": {\"outlinewidth\": 0, \"ticks\": \"\"}}, \"type\": \"scatter\"}], \"scatter3d\": [{\"line\": {\"colorbar\": {\"outlinewidth\": 0, \"ticks\": \"\"}}, \"marker\": {\"colorbar\": {\"outlinewidth\": 0, \"ticks\": \"\"}}, \"type\": \"scatter3d\"}], \"scattercarpet\": [{\"marker\": {\"colorbar\": {\"outlinewidth\": 0, \"ticks\": \"\"}}, \"type\": \"scattercarpet\"}], \"scattergeo\": [{\"marker\": {\"colorbar\": {\"outlinewidth\": 0, \"ticks\": \"\"}}, \"type\": \"scattergeo\"}], \"scattergl\": [{\"marker\": {\"colorbar\": {\"outlinewidth\": 0, \"ticks\": \"\"}}, \"type\": \"scattergl\"}], \"scattermapbox\": [{\"marker\": {\"colorbar\": {\"outlinewidth\": 0, \"ticks\": \"\"}}, \"type\": \"scattermapbox\"}], \"scatterpolar\": [{\"marker\": {\"colorbar\": {\"outlinewidth\": 0, \"ticks\": \"\"}}, \"type\": \"scatterpolar\"}], \"scatterpolargl\": [{\"marker\": {\"colorbar\": {\"outlinewidth\": 0, \"ticks\": \"\"}}, \"type\": \"scatterpolargl\"}], \"scatterternary\": [{\"marker\": {\"colorbar\": {\"outlinewidth\": 0, \"ticks\": \"\"}}, \"type\": \"scatterternary\"}], \"surface\": [{\"colorbar\": {\"outlinewidth\": 0, \"ticks\": \"\"}, \"colorscale\": [[0.0, \"#0d0887\"], [0.1111111111111111, \"#46039f\"], [0.2222222222222222, \"#7201a8\"], [0.3333333333333333, \"#9c179e\"], [0.4444444444444444, \"#bd3786\"], [0.5555555555555556, \"#d8576b\"], [0.6666666666666666, \"#ed7953\"], [0.7777777777777778, \"#fb9f3a\"], [0.8888888888888888, \"#fdca26\"], [1.0, \"#f0f921\"]], \"type\": \"surface\"}], \"table\": [{\"cells\": {\"fill\": {\"color\": \"#EBF0F8\"}, \"line\": {\"color\": \"white\"}}, \"header\": {\"fill\": {\"color\": \"#C8D4E3\"}, \"line\": {\"color\": \"white\"}}, \"type\": \"table\"}]}, \"layout\": {\"annotationdefaults\": {\"arrowcolor\": \"#2a3f5f\", \"arrowhead\": 0, \"arrowwidth\": 1}, \"coloraxis\": {\"colorbar\": {\"outlinewidth\": 0, \"ticks\": \"\"}}, \"colorscale\": {\"diverging\": [[0, \"#8e0152\"], [0.1, \"#c51b7d\"], [0.2, \"#de77ae\"], [0.3, \"#f1b6da\"], [0.4, \"#fde0ef\"], [0.5, \"#f7f7f7\"], [0.6, \"#e6f5d0\"], [0.7, \"#b8e186\"], [0.8, \"#7fbc41\"], [0.9, \"#4d9221\"], [1, \"#276419\"]], \"sequential\": [[0.0, \"#0d0887\"], [0.1111111111111111, \"#46039f\"], [0.2222222222222222, \"#7201a8\"], [0.3333333333333333, \"#9c179e\"], [0.4444444444444444, \"#bd3786\"], [0.5555555555555556, \"#d8576b\"], [0.6666666666666666, \"#ed7953\"], [0.7777777777777778, \"#fb9f3a\"], [0.8888888888888888, \"#fdca26\"], [1.0, \"#f0f921\"]], \"sequentialminus\": [[0.0, \"#0d0887\"], [0.1111111111111111, \"#46039f\"], [0.2222222222222222, \"#7201a8\"], [0.3333333333333333, \"#9c179e\"], [0.4444444444444444, \"#bd3786\"], [0.5555555555555556, \"#d8576b\"], [0.6666666666666666, \"#ed7953\"], [0.7777777777777778, \"#fb9f3a\"], [0.8888888888888888, \"#fdca26\"], [1.0, \"#f0f921\"]]}, \"colorway\": [\"#636efa\", \"#EF553B\", \"#00cc96\", \"#ab63fa\", \"#FFA15A\", \"#19d3f3\", \"#FF6692\", \"#B6E880\", \"#FF97FF\", \"#FECB52\"], \"font\": {\"color\": \"#2a3f5f\"}, \"geo\": {\"bgcolor\": \"white\", \"lakecolor\": \"white\", \"landcolor\": \"#E5ECF6\", \"showlakes\": true, \"showland\": true, \"subunitcolor\": \"white\"}, \"hoverlabel\": {\"align\": \"left\"}, \"hovermode\": \"closest\", \"mapbox\": {\"style\": \"light\"}, \"paper_bgcolor\": \"white\", \"plot_bgcolor\": \"#E5ECF6\", \"polar\": {\"angularaxis\": {\"gridcolor\": \"white\", \"linecolor\": \"white\", \"ticks\": \"\"}, \"bgcolor\": \"#E5ECF6\", \"radialaxis\": {\"gridcolor\": \"white\", \"linecolor\": \"white\", \"ticks\": \"\"}}, \"scene\": {\"xaxis\": {\"backgroundcolor\": \"#E5ECF6\", \"gridcolor\": \"white\", \"gridwidth\": 2, \"linecolor\": \"white\", \"showbackground\": true, \"ticks\": \"\", \"zerolinecolor\": \"white\"}, \"yaxis\": {\"backgroundcolor\": \"#E5ECF6\", \"gridcolor\": \"white\", \"gridwidth\": 2, \"linecolor\": \"white\", \"showbackground\": true, \"ticks\": \"\", \"zerolinecolor\": \"white\"}, \"zaxis\": {\"backgroundcolor\": \"#E5ECF6\", \"gridcolor\": \"white\", \"gridwidth\": 2, \"linecolor\": \"white\", \"showbackground\": true, \"ticks\": \"\", \"zerolinecolor\": \"white\"}}, \"shapedefaults\": {\"line\": {\"color\": \"#2a3f5f\"}}, \"ternary\": {\"aaxis\": {\"gridcolor\": \"white\", \"linecolor\": \"white\", \"ticks\": \"\"}, \"baxis\": {\"gridcolor\": \"white\", \"linecolor\": \"white\", \"ticks\": \"\"}, \"bgcolor\": \"#E5ECF6\", \"caxis\": {\"gridcolor\": \"white\", \"linecolor\": \"white\", \"ticks\": \"\"}}, \"title\": {\"x\": 0.05}, \"xaxis\": {\"automargin\": true, \"gridcolor\": \"white\", \"linecolor\": \"white\", \"ticks\": \"\", \"title\": {\"standoff\": 15}, \"zerolinecolor\": \"white\", \"zerolinewidth\": 2}, \"yaxis\": {\"automargin\": true, \"gridcolor\": \"white\", \"linecolor\": \"white\", \"ticks\": \"\", \"title\": {\"standoff\": 15}, \"zerolinecolor\": \"white\", \"zerolinewidth\": 2}}}, \"title\": {\"text\": \"2016 Upper Estimates of Consumer Debt-to-Income\"}},\n",
       "                        {\"responsive\": true}\n",
       "                    ).then(function(){\n",
       "                            \n",
       "var gd = document.getElementById('f9a06c0c-523a-4568-b33f-5337ffb4bb7a');\n",
       "var x = new MutationObserver(function (mutations, observer) {{\n",
       "        var display = window.getComputedStyle(gd).display;\n",
       "        if (!display || display === 'none') {{\n",
       "            console.log([gd, 'removed!']);\n",
       "            Plotly.purge(gd);\n",
       "            observer.disconnect();\n",
       "        }}\n",
       "}});\n",
       "\n",
       "// Listen for the removal of the full notebook cells\n",
       "var notebookContainer = gd.closest('#notebook-container');\n",
       "if (notebookContainer) {{\n",
       "    x.observe(notebookContainer, {childList: true});\n",
       "}}\n",
       "\n",
       "// Listen for the clearing of the current output cell\n",
       "var outputEl = gd.closest('.output');\n",
       "if (outputEl) {{\n",
       "    x.observe(outputEl, {childList: true});\n",
       "}}\n",
       "\n",
       "                        })\n",
       "                };\n",
       "                });\n",
       "            </script>\n",
       "        </div>"
      ]
     },
     "metadata": {},
     "output_type": "display_data"
    }
   ],
   "source": [
    "fig3 = px.choropleth(household_debt_subset.loc[household_debt_subset['year'] == 2016],  # Input Pandas DataFrame\n",
    "                    locations=\"state\",  # DataFrame column with locations\n",
    "                    color=\"high\",  # DataFrame column with color values\n",
    "                    locationmode = 'USA-states') # Set to plot as US States\n",
    "fig3.update_layout(\n",
    "    title_text = '2016 Upper Estimates of Consumer Debt-to-Income', # Create a Title\n",
    "    geo_scope='usa',  # Plot only the USA instead of globe\n",
    ")\n",
    "\n",
    "fig3.show()"
   ]
  },
  {
   "cell_type": "code",
   "execution_count": 73,
   "metadata": {},
   "outputs": [
    {
     "data": {
      "application/vnd.plotly.v1+json": {
       "config": {
        "plotlyServerURL": "https://plot.ly"
       },
       "data": [
        {
         "coloraxis": "coloraxis",
         "geo": "geo",
         "hoverlabel": {
          "namelength": 0
         },
         "hovertemplate": "state=%{location}<br>high=%{z}",
         "locationmode": "USA-states",
         "locations": [
          "AK",
          "AL",
          "AR",
          "AZ",
          "CA",
          "CO",
          "CT",
          "DC",
          "DE",
          "FL",
          "GA",
          "HI",
          "IA",
          "ID",
          "IL",
          "IN",
          "KS",
          "KY",
          "LA",
          "MA",
          "MD",
          "ME",
          "MI",
          "MN",
          "MO",
          "MS",
          "MT",
          "NC",
          "ND",
          "NE",
          "NH",
          "NJ",
          "NM",
          "NV",
          "NY",
          "OH",
          "OK",
          "OR",
          "PA",
          "RI",
          "SC",
          "SD",
          "TN",
          "TX",
          "UT",
          "VA",
          "VT",
          "WA",
          "WI",
          "WV",
          "WY"
         ],
         "name": "",
         "type": "choropleth",
         "z": [
          1.785,
          1.485,
          1.35,
          1.9149999999999998,
          1.915,
          1.9149999999999998,
          1.54,
          1.09,
          1.6575,
          1.8199999999999998,
          1.54,
          null,
          1.2850000000000001,
          2.07,
          1.2850000000000001,
          1.2850000000000001,
          1.2625,
          1.2625,
          1.435,
          1.325,
          2.13,
          1.7175,
          1.2850000000000001,
          1.37,
          1.35,
          1.485,
          1.89,
          1.6575,
          1.09,
          1.24,
          1.7175,
          1.6575,
          1.7175,
          1.785,
          1.165,
          1.24,
          1.35,
          1.75,
          1.3075,
          1.685,
          1.785,
          1.3075,
          1.415,
          1.24,
          1.75,
          2.01,
          1.5375,
          1.785,
          1.2850000000000001,
          1.35,
          1.6525
         ]
        }
       ],
       "layout": {
        "coloraxis": {
         "colorbar": {
          "title": {
           "text": "high"
          }
         },
         "colorscale": [
          [
           0,
           "#0d0887"
          ],
          [
           0.1111111111111111,
           "#46039f"
          ],
          [
           0.2222222222222222,
           "#7201a8"
          ],
          [
           0.3333333333333333,
           "#9c179e"
          ],
          [
           0.4444444444444444,
           "#bd3786"
          ],
          [
           0.5555555555555556,
           "#d8576b"
          ],
          [
           0.6666666666666666,
           "#ed7953"
          ],
          [
           0.7777777777777778,
           "#fb9f3a"
          ],
          [
           0.8888888888888888,
           "#fdca26"
          ],
          [
           1,
           "#f0f921"
          ]
         ]
        },
        "geo": {
         "center": {},
         "domain": {
          "x": [
           0,
           1
          ],
          "y": [
           0,
           1
          ]
         },
         "scope": "usa"
        },
        "legend": {
         "tracegroupgap": 0
        },
        "margin": {
         "t": 60
        },
        "template": {
         "data": {
          "bar": [
           {
            "error_x": {
             "color": "#2a3f5f"
            },
            "error_y": {
             "color": "#2a3f5f"
            },
            "marker": {
             "line": {
              "color": "#E5ECF6",
              "width": 0.5
             }
            },
            "type": "bar"
           }
          ],
          "barpolar": [
           {
            "marker": {
             "line": {
              "color": "#E5ECF6",
              "width": 0.5
             }
            },
            "type": "barpolar"
           }
          ],
          "carpet": [
           {
            "aaxis": {
             "endlinecolor": "#2a3f5f",
             "gridcolor": "white",
             "linecolor": "white",
             "minorgridcolor": "white",
             "startlinecolor": "#2a3f5f"
            },
            "baxis": {
             "endlinecolor": "#2a3f5f",
             "gridcolor": "white",
             "linecolor": "white",
             "minorgridcolor": "white",
             "startlinecolor": "#2a3f5f"
            },
            "type": "carpet"
           }
          ],
          "choropleth": [
           {
            "colorbar": {
             "outlinewidth": 0,
             "ticks": ""
            },
            "type": "choropleth"
           }
          ],
          "contour": [
           {
            "colorbar": {
             "outlinewidth": 0,
             "ticks": ""
            },
            "colorscale": [
             [
              0,
              "#0d0887"
             ],
             [
              0.1111111111111111,
              "#46039f"
             ],
             [
              0.2222222222222222,
              "#7201a8"
             ],
             [
              0.3333333333333333,
              "#9c179e"
             ],
             [
              0.4444444444444444,
              "#bd3786"
             ],
             [
              0.5555555555555556,
              "#d8576b"
             ],
             [
              0.6666666666666666,
              "#ed7953"
             ],
             [
              0.7777777777777778,
              "#fb9f3a"
             ],
             [
              0.8888888888888888,
              "#fdca26"
             ],
             [
              1,
              "#f0f921"
             ]
            ],
            "type": "contour"
           }
          ],
          "contourcarpet": [
           {
            "colorbar": {
             "outlinewidth": 0,
             "ticks": ""
            },
            "type": "contourcarpet"
           }
          ],
          "heatmap": [
           {
            "colorbar": {
             "outlinewidth": 0,
             "ticks": ""
            },
            "colorscale": [
             [
              0,
              "#0d0887"
             ],
             [
              0.1111111111111111,
              "#46039f"
             ],
             [
              0.2222222222222222,
              "#7201a8"
             ],
             [
              0.3333333333333333,
              "#9c179e"
             ],
             [
              0.4444444444444444,
              "#bd3786"
             ],
             [
              0.5555555555555556,
              "#d8576b"
             ],
             [
              0.6666666666666666,
              "#ed7953"
             ],
             [
              0.7777777777777778,
              "#fb9f3a"
             ],
             [
              0.8888888888888888,
              "#fdca26"
             ],
             [
              1,
              "#f0f921"
             ]
            ],
            "type": "heatmap"
           }
          ],
          "heatmapgl": [
           {
            "colorbar": {
             "outlinewidth": 0,
             "ticks": ""
            },
            "colorscale": [
             [
              0,
              "#0d0887"
             ],
             [
              0.1111111111111111,
              "#46039f"
             ],
             [
              0.2222222222222222,
              "#7201a8"
             ],
             [
              0.3333333333333333,
              "#9c179e"
             ],
             [
              0.4444444444444444,
              "#bd3786"
             ],
             [
              0.5555555555555556,
              "#d8576b"
             ],
             [
              0.6666666666666666,
              "#ed7953"
             ],
             [
              0.7777777777777778,
              "#fb9f3a"
             ],
             [
              0.8888888888888888,
              "#fdca26"
             ],
             [
              1,
              "#f0f921"
             ]
            ],
            "type": "heatmapgl"
           }
          ],
          "histogram": [
           {
            "marker": {
             "colorbar": {
              "outlinewidth": 0,
              "ticks": ""
             }
            },
            "type": "histogram"
           }
          ],
          "histogram2d": [
           {
            "colorbar": {
             "outlinewidth": 0,
             "ticks": ""
            },
            "colorscale": [
             [
              0,
              "#0d0887"
             ],
             [
              0.1111111111111111,
              "#46039f"
             ],
             [
              0.2222222222222222,
              "#7201a8"
             ],
             [
              0.3333333333333333,
              "#9c179e"
             ],
             [
              0.4444444444444444,
              "#bd3786"
             ],
             [
              0.5555555555555556,
              "#d8576b"
             ],
             [
              0.6666666666666666,
              "#ed7953"
             ],
             [
              0.7777777777777778,
              "#fb9f3a"
             ],
             [
              0.8888888888888888,
              "#fdca26"
             ],
             [
              1,
              "#f0f921"
             ]
            ],
            "type": "histogram2d"
           }
          ],
          "histogram2dcontour": [
           {
            "colorbar": {
             "outlinewidth": 0,
             "ticks": ""
            },
            "colorscale": [
             [
              0,
              "#0d0887"
             ],
             [
              0.1111111111111111,
              "#46039f"
             ],
             [
              0.2222222222222222,
              "#7201a8"
             ],
             [
              0.3333333333333333,
              "#9c179e"
             ],
             [
              0.4444444444444444,
              "#bd3786"
             ],
             [
              0.5555555555555556,
              "#d8576b"
             ],
             [
              0.6666666666666666,
              "#ed7953"
             ],
             [
              0.7777777777777778,
              "#fb9f3a"
             ],
             [
              0.8888888888888888,
              "#fdca26"
             ],
             [
              1,
              "#f0f921"
             ]
            ],
            "type": "histogram2dcontour"
           }
          ],
          "mesh3d": [
           {
            "colorbar": {
             "outlinewidth": 0,
             "ticks": ""
            },
            "type": "mesh3d"
           }
          ],
          "parcoords": [
           {
            "line": {
             "colorbar": {
              "outlinewidth": 0,
              "ticks": ""
             }
            },
            "type": "parcoords"
           }
          ],
          "pie": [
           {
            "automargin": true,
            "type": "pie"
           }
          ],
          "scatter": [
           {
            "marker": {
             "colorbar": {
              "outlinewidth": 0,
              "ticks": ""
             }
            },
            "type": "scatter"
           }
          ],
          "scatter3d": [
           {
            "line": {
             "colorbar": {
              "outlinewidth": 0,
              "ticks": ""
             }
            },
            "marker": {
             "colorbar": {
              "outlinewidth": 0,
              "ticks": ""
             }
            },
            "type": "scatter3d"
           }
          ],
          "scattercarpet": [
           {
            "marker": {
             "colorbar": {
              "outlinewidth": 0,
              "ticks": ""
             }
            },
            "type": "scattercarpet"
           }
          ],
          "scattergeo": [
           {
            "marker": {
             "colorbar": {
              "outlinewidth": 0,
              "ticks": ""
             }
            },
            "type": "scattergeo"
           }
          ],
          "scattergl": [
           {
            "marker": {
             "colorbar": {
              "outlinewidth": 0,
              "ticks": ""
             }
            },
            "type": "scattergl"
           }
          ],
          "scattermapbox": [
           {
            "marker": {
             "colorbar": {
              "outlinewidth": 0,
              "ticks": ""
             }
            },
            "type": "scattermapbox"
           }
          ],
          "scatterpolar": [
           {
            "marker": {
             "colorbar": {
              "outlinewidth": 0,
              "ticks": ""
             }
            },
            "type": "scatterpolar"
           }
          ],
          "scatterpolargl": [
           {
            "marker": {
             "colorbar": {
              "outlinewidth": 0,
              "ticks": ""
             }
            },
            "type": "scatterpolargl"
           }
          ],
          "scatterternary": [
           {
            "marker": {
             "colorbar": {
              "outlinewidth": 0,
              "ticks": ""
             }
            },
            "type": "scatterternary"
           }
          ],
          "surface": [
           {
            "colorbar": {
             "outlinewidth": 0,
             "ticks": ""
            },
            "colorscale": [
             [
              0,
              "#0d0887"
             ],
             [
              0.1111111111111111,
              "#46039f"
             ],
             [
              0.2222222222222222,
              "#7201a8"
             ],
             [
              0.3333333333333333,
              "#9c179e"
             ],
             [
              0.4444444444444444,
              "#bd3786"
             ],
             [
              0.5555555555555556,
              "#d8576b"
             ],
             [
              0.6666666666666666,
              "#ed7953"
             ],
             [
              0.7777777777777778,
              "#fb9f3a"
             ],
             [
              0.8888888888888888,
              "#fdca26"
             ],
             [
              1,
              "#f0f921"
             ]
            ],
            "type": "surface"
           }
          ],
          "table": [
           {
            "cells": {
             "fill": {
              "color": "#EBF0F8"
             },
             "line": {
              "color": "white"
             }
            },
            "header": {
             "fill": {
              "color": "#C8D4E3"
             },
             "line": {
              "color": "white"
             }
            },
            "type": "table"
           }
          ]
         },
         "layout": {
          "annotationdefaults": {
           "arrowcolor": "#2a3f5f",
           "arrowhead": 0,
           "arrowwidth": 1
          },
          "coloraxis": {
           "colorbar": {
            "outlinewidth": 0,
            "ticks": ""
           }
          },
          "colorscale": {
           "diverging": [
            [
             0,
             "#8e0152"
            ],
            [
             0.1,
             "#c51b7d"
            ],
            [
             0.2,
             "#de77ae"
            ],
            [
             0.3,
             "#f1b6da"
            ],
            [
             0.4,
             "#fde0ef"
            ],
            [
             0.5,
             "#f7f7f7"
            ],
            [
             0.6,
             "#e6f5d0"
            ],
            [
             0.7,
             "#b8e186"
            ],
            [
             0.8,
             "#7fbc41"
            ],
            [
             0.9,
             "#4d9221"
            ],
            [
             1,
             "#276419"
            ]
           ],
           "sequential": [
            [
             0,
             "#0d0887"
            ],
            [
             0.1111111111111111,
             "#46039f"
            ],
            [
             0.2222222222222222,
             "#7201a8"
            ],
            [
             0.3333333333333333,
             "#9c179e"
            ],
            [
             0.4444444444444444,
             "#bd3786"
            ],
            [
             0.5555555555555556,
             "#d8576b"
            ],
            [
             0.6666666666666666,
             "#ed7953"
            ],
            [
             0.7777777777777778,
             "#fb9f3a"
            ],
            [
             0.8888888888888888,
             "#fdca26"
            ],
            [
             1,
             "#f0f921"
            ]
           ],
           "sequentialminus": [
            [
             0,
             "#0d0887"
            ],
            [
             0.1111111111111111,
             "#46039f"
            ],
            [
             0.2222222222222222,
             "#7201a8"
            ],
            [
             0.3333333333333333,
             "#9c179e"
            ],
            [
             0.4444444444444444,
             "#bd3786"
            ],
            [
             0.5555555555555556,
             "#d8576b"
            ],
            [
             0.6666666666666666,
             "#ed7953"
            ],
            [
             0.7777777777777778,
             "#fb9f3a"
            ],
            [
             0.8888888888888888,
             "#fdca26"
            ],
            [
             1,
             "#f0f921"
            ]
           ]
          },
          "colorway": [
           "#636efa",
           "#EF553B",
           "#00cc96",
           "#ab63fa",
           "#FFA15A",
           "#19d3f3",
           "#FF6692",
           "#B6E880",
           "#FF97FF",
           "#FECB52"
          ],
          "font": {
           "color": "#2a3f5f"
          },
          "geo": {
           "bgcolor": "white",
           "lakecolor": "white",
           "landcolor": "#E5ECF6",
           "showlakes": true,
           "showland": true,
           "subunitcolor": "white"
          },
          "hoverlabel": {
           "align": "left"
          },
          "hovermode": "closest",
          "mapbox": {
           "style": "light"
          },
          "paper_bgcolor": "white",
          "plot_bgcolor": "#E5ECF6",
          "polar": {
           "angularaxis": {
            "gridcolor": "white",
            "linecolor": "white",
            "ticks": ""
           },
           "bgcolor": "#E5ECF6",
           "radialaxis": {
            "gridcolor": "white",
            "linecolor": "white",
            "ticks": ""
           }
          },
          "scene": {
           "xaxis": {
            "backgroundcolor": "#E5ECF6",
            "gridcolor": "white",
            "gridwidth": 2,
            "linecolor": "white",
            "showbackground": true,
            "ticks": "",
            "zerolinecolor": "white"
           },
           "yaxis": {
            "backgroundcolor": "#E5ECF6",
            "gridcolor": "white",
            "gridwidth": 2,
            "linecolor": "white",
            "showbackground": true,
            "ticks": "",
            "zerolinecolor": "white"
           },
           "zaxis": {
            "backgroundcolor": "#E5ECF6",
            "gridcolor": "white",
            "gridwidth": 2,
            "linecolor": "white",
            "showbackground": true,
            "ticks": "",
            "zerolinecolor": "white"
           }
          },
          "shapedefaults": {
           "line": {
            "color": "#2a3f5f"
           }
          },
          "ternary": {
           "aaxis": {
            "gridcolor": "white",
            "linecolor": "white",
            "ticks": ""
           },
           "baxis": {
            "gridcolor": "white",
            "linecolor": "white",
            "ticks": ""
           },
           "bgcolor": "#E5ECF6",
           "caxis": {
            "gridcolor": "white",
            "linecolor": "white",
            "ticks": ""
           }
          },
          "title": {
           "x": 0.05
          },
          "xaxis": {
           "automargin": true,
           "gridcolor": "white",
           "linecolor": "white",
           "ticks": "",
           "title": {
            "standoff": 15
           },
           "zerolinecolor": "white",
           "zerolinewidth": 2
          },
          "yaxis": {
           "automargin": true,
           "gridcolor": "white",
           "linecolor": "white",
           "ticks": "",
           "title": {
            "standoff": 15
           },
           "zerolinecolor": "white",
           "zerolinewidth": 2
          }
         }
        },
        "title": {
         "text": "2017 Upper Estimates of Consumer Debt-to-Income"
        }
       }
      },
      "text/html": [
       "<div>\n",
       "        \n",
       "        \n",
       "            <div id=\"09fb1455-bc04-4e5d-8004-35ae3f54f9ff\" class=\"plotly-graph-div\" style=\"height:525px; width:100%;\"></div>\n",
       "            <script type=\"text/javascript\">\n",
       "                require([\"plotly\"], function(Plotly) {\n",
       "                    window.PLOTLYENV=window.PLOTLYENV || {};\n",
       "                    \n",
       "                if (document.getElementById(\"09fb1455-bc04-4e5d-8004-35ae3f54f9ff\")) {\n",
       "                    Plotly.newPlot(\n",
       "                        '09fb1455-bc04-4e5d-8004-35ae3f54f9ff',\n",
       "                        [{\"coloraxis\": \"coloraxis\", \"geo\": \"geo\", \"hoverlabel\": {\"namelength\": 0}, \"hovertemplate\": \"state=%{location}<br>high=%{z}\", \"locationmode\": \"USA-states\", \"locations\": [\"AK\", \"AL\", \"AR\", \"AZ\", \"CA\", \"CO\", \"CT\", \"DC\", \"DE\", \"FL\", \"GA\", \"HI\", \"IA\", \"ID\", \"IL\", \"IN\", \"KS\", \"KY\", \"LA\", \"MA\", \"MD\", \"ME\", \"MI\", \"MN\", \"MO\", \"MS\", \"MT\", \"NC\", \"ND\", \"NE\", \"NH\", \"NJ\", \"NM\", \"NV\", \"NY\", \"OH\", \"OK\", \"OR\", \"PA\", \"RI\", \"SC\", \"SD\", \"TN\", \"TX\", \"UT\", \"VA\", \"VT\", \"WA\", \"WI\", \"WV\", \"WY\"], \"name\": \"\", \"type\": \"choropleth\", \"z\": [1.785, 1.485, 1.35, 1.9149999999999998, 1.915, 1.9149999999999998, 1.54, 1.09, 1.6575, 1.8199999999999998, 1.54, null, 1.2850000000000001, 2.07, 1.2850000000000001, 1.2850000000000001, 1.2625, 1.2625, 1.435, 1.325, 2.13, 1.7175, 1.2850000000000001, 1.37, 1.35, 1.485, 1.89, 1.6575, 1.09, 1.24, 1.7175, 1.6575, 1.7175, 1.785, 1.165, 1.24, 1.35, 1.75, 1.3075, 1.685, 1.785, 1.3075, 1.415, 1.24, 1.75, 2.01, 1.5375, 1.785, 1.2850000000000001, 1.35, 1.6525]}],\n",
       "                        {\"coloraxis\": {\"colorbar\": {\"title\": {\"text\": \"high\"}}, \"colorscale\": [[0.0, \"#0d0887\"], [0.1111111111111111, \"#46039f\"], [0.2222222222222222, \"#7201a8\"], [0.3333333333333333, \"#9c179e\"], [0.4444444444444444, \"#bd3786\"], [0.5555555555555556, \"#d8576b\"], [0.6666666666666666, \"#ed7953\"], [0.7777777777777778, \"#fb9f3a\"], [0.8888888888888888, \"#fdca26\"], [1.0, \"#f0f921\"]]}, \"geo\": {\"center\": {}, \"domain\": {\"x\": [0.0, 1.0], \"y\": [0.0, 1.0]}, \"scope\": \"usa\"}, \"legend\": {\"tracegroupgap\": 0}, \"margin\": {\"t\": 60}, \"template\": {\"data\": {\"bar\": [{\"error_x\": {\"color\": \"#2a3f5f\"}, \"error_y\": {\"color\": \"#2a3f5f\"}, \"marker\": {\"line\": {\"color\": \"#E5ECF6\", \"width\": 0.5}}, \"type\": \"bar\"}], \"barpolar\": [{\"marker\": {\"line\": {\"color\": \"#E5ECF6\", \"width\": 0.5}}, \"type\": \"barpolar\"}], \"carpet\": [{\"aaxis\": {\"endlinecolor\": \"#2a3f5f\", \"gridcolor\": \"white\", \"linecolor\": \"white\", \"minorgridcolor\": \"white\", \"startlinecolor\": \"#2a3f5f\"}, \"baxis\": {\"endlinecolor\": \"#2a3f5f\", \"gridcolor\": \"white\", \"linecolor\": \"white\", \"minorgridcolor\": \"white\", \"startlinecolor\": \"#2a3f5f\"}, \"type\": \"carpet\"}], \"choropleth\": [{\"colorbar\": {\"outlinewidth\": 0, \"ticks\": \"\"}, \"type\": \"choropleth\"}], \"contour\": [{\"colorbar\": {\"outlinewidth\": 0, \"ticks\": \"\"}, \"colorscale\": [[0.0, \"#0d0887\"], [0.1111111111111111, \"#46039f\"], [0.2222222222222222, \"#7201a8\"], [0.3333333333333333, \"#9c179e\"], [0.4444444444444444, \"#bd3786\"], [0.5555555555555556, \"#d8576b\"], [0.6666666666666666, \"#ed7953\"], [0.7777777777777778, \"#fb9f3a\"], [0.8888888888888888, \"#fdca26\"], [1.0, \"#f0f921\"]], \"type\": \"contour\"}], \"contourcarpet\": [{\"colorbar\": {\"outlinewidth\": 0, \"ticks\": \"\"}, \"type\": \"contourcarpet\"}], \"heatmap\": [{\"colorbar\": {\"outlinewidth\": 0, \"ticks\": \"\"}, \"colorscale\": [[0.0, \"#0d0887\"], [0.1111111111111111, \"#46039f\"], [0.2222222222222222, \"#7201a8\"], [0.3333333333333333, \"#9c179e\"], [0.4444444444444444, \"#bd3786\"], [0.5555555555555556, \"#d8576b\"], [0.6666666666666666, \"#ed7953\"], [0.7777777777777778, \"#fb9f3a\"], [0.8888888888888888, \"#fdca26\"], [1.0, \"#f0f921\"]], \"type\": \"heatmap\"}], \"heatmapgl\": [{\"colorbar\": {\"outlinewidth\": 0, \"ticks\": \"\"}, \"colorscale\": [[0.0, \"#0d0887\"], [0.1111111111111111, \"#46039f\"], [0.2222222222222222, \"#7201a8\"], [0.3333333333333333, \"#9c179e\"], [0.4444444444444444, \"#bd3786\"], [0.5555555555555556, \"#d8576b\"], [0.6666666666666666, \"#ed7953\"], [0.7777777777777778, \"#fb9f3a\"], [0.8888888888888888, \"#fdca26\"], [1.0, \"#f0f921\"]], \"type\": \"heatmapgl\"}], \"histogram\": [{\"marker\": {\"colorbar\": {\"outlinewidth\": 0, \"ticks\": \"\"}}, \"type\": \"histogram\"}], \"histogram2d\": [{\"colorbar\": {\"outlinewidth\": 0, \"ticks\": \"\"}, \"colorscale\": [[0.0, \"#0d0887\"], [0.1111111111111111, \"#46039f\"], [0.2222222222222222, \"#7201a8\"], [0.3333333333333333, \"#9c179e\"], [0.4444444444444444, \"#bd3786\"], [0.5555555555555556, \"#d8576b\"], [0.6666666666666666, \"#ed7953\"], [0.7777777777777778, \"#fb9f3a\"], [0.8888888888888888, \"#fdca26\"], [1.0, \"#f0f921\"]], \"type\": \"histogram2d\"}], \"histogram2dcontour\": [{\"colorbar\": {\"outlinewidth\": 0, \"ticks\": \"\"}, \"colorscale\": [[0.0, \"#0d0887\"], [0.1111111111111111, \"#46039f\"], [0.2222222222222222, \"#7201a8\"], [0.3333333333333333, \"#9c179e\"], [0.4444444444444444, \"#bd3786\"], [0.5555555555555556, \"#d8576b\"], [0.6666666666666666, \"#ed7953\"], [0.7777777777777778, \"#fb9f3a\"], [0.8888888888888888, \"#fdca26\"], [1.0, \"#f0f921\"]], \"type\": \"histogram2dcontour\"}], \"mesh3d\": [{\"colorbar\": {\"outlinewidth\": 0, \"ticks\": \"\"}, \"type\": \"mesh3d\"}], \"parcoords\": [{\"line\": {\"colorbar\": {\"outlinewidth\": 0, \"ticks\": \"\"}}, \"type\": \"parcoords\"}], \"pie\": [{\"automargin\": true, \"type\": \"pie\"}], \"scatter\": [{\"marker\": {\"colorbar\": {\"outlinewidth\": 0, \"ticks\": \"\"}}, \"type\": \"scatter\"}], \"scatter3d\": [{\"line\": {\"colorbar\": {\"outlinewidth\": 0, \"ticks\": \"\"}}, \"marker\": {\"colorbar\": {\"outlinewidth\": 0, \"ticks\": \"\"}}, \"type\": \"scatter3d\"}], \"scattercarpet\": [{\"marker\": {\"colorbar\": {\"outlinewidth\": 0, \"ticks\": \"\"}}, \"type\": \"scattercarpet\"}], \"scattergeo\": [{\"marker\": {\"colorbar\": {\"outlinewidth\": 0, \"ticks\": \"\"}}, \"type\": \"scattergeo\"}], \"scattergl\": [{\"marker\": {\"colorbar\": {\"outlinewidth\": 0, \"ticks\": \"\"}}, \"type\": \"scattergl\"}], \"scattermapbox\": [{\"marker\": {\"colorbar\": {\"outlinewidth\": 0, \"ticks\": \"\"}}, \"type\": \"scattermapbox\"}], \"scatterpolar\": [{\"marker\": {\"colorbar\": {\"outlinewidth\": 0, \"ticks\": \"\"}}, \"type\": \"scatterpolar\"}], \"scatterpolargl\": [{\"marker\": {\"colorbar\": {\"outlinewidth\": 0, \"ticks\": \"\"}}, \"type\": \"scatterpolargl\"}], \"scatterternary\": [{\"marker\": {\"colorbar\": {\"outlinewidth\": 0, \"ticks\": \"\"}}, \"type\": \"scatterternary\"}], \"surface\": [{\"colorbar\": {\"outlinewidth\": 0, \"ticks\": \"\"}, \"colorscale\": [[0.0, \"#0d0887\"], [0.1111111111111111, \"#46039f\"], [0.2222222222222222, \"#7201a8\"], [0.3333333333333333, \"#9c179e\"], [0.4444444444444444, \"#bd3786\"], [0.5555555555555556, \"#d8576b\"], [0.6666666666666666, \"#ed7953\"], [0.7777777777777778, \"#fb9f3a\"], [0.8888888888888888, \"#fdca26\"], [1.0, \"#f0f921\"]], \"type\": \"surface\"}], \"table\": [{\"cells\": {\"fill\": {\"color\": \"#EBF0F8\"}, \"line\": {\"color\": \"white\"}}, \"header\": {\"fill\": {\"color\": \"#C8D4E3\"}, \"line\": {\"color\": \"white\"}}, \"type\": \"table\"}]}, \"layout\": {\"annotationdefaults\": {\"arrowcolor\": \"#2a3f5f\", \"arrowhead\": 0, \"arrowwidth\": 1}, \"coloraxis\": {\"colorbar\": {\"outlinewidth\": 0, \"ticks\": \"\"}}, \"colorscale\": {\"diverging\": [[0, \"#8e0152\"], [0.1, \"#c51b7d\"], [0.2, \"#de77ae\"], [0.3, \"#f1b6da\"], [0.4, \"#fde0ef\"], [0.5, \"#f7f7f7\"], [0.6, \"#e6f5d0\"], [0.7, \"#b8e186\"], [0.8, \"#7fbc41\"], [0.9, \"#4d9221\"], [1, \"#276419\"]], \"sequential\": [[0.0, \"#0d0887\"], [0.1111111111111111, \"#46039f\"], [0.2222222222222222, \"#7201a8\"], [0.3333333333333333, \"#9c179e\"], [0.4444444444444444, \"#bd3786\"], [0.5555555555555556, \"#d8576b\"], [0.6666666666666666, \"#ed7953\"], [0.7777777777777778, \"#fb9f3a\"], [0.8888888888888888, \"#fdca26\"], [1.0, \"#f0f921\"]], \"sequentialminus\": [[0.0, \"#0d0887\"], [0.1111111111111111, \"#46039f\"], [0.2222222222222222, \"#7201a8\"], [0.3333333333333333, \"#9c179e\"], [0.4444444444444444, \"#bd3786\"], [0.5555555555555556, \"#d8576b\"], [0.6666666666666666, \"#ed7953\"], [0.7777777777777778, \"#fb9f3a\"], [0.8888888888888888, \"#fdca26\"], [1.0, \"#f0f921\"]]}, \"colorway\": [\"#636efa\", \"#EF553B\", \"#00cc96\", \"#ab63fa\", \"#FFA15A\", \"#19d3f3\", \"#FF6692\", \"#B6E880\", \"#FF97FF\", \"#FECB52\"], \"font\": {\"color\": \"#2a3f5f\"}, \"geo\": {\"bgcolor\": \"white\", \"lakecolor\": \"white\", \"landcolor\": \"#E5ECF6\", \"showlakes\": true, \"showland\": true, \"subunitcolor\": \"white\"}, \"hoverlabel\": {\"align\": \"left\"}, \"hovermode\": \"closest\", \"mapbox\": {\"style\": \"light\"}, \"paper_bgcolor\": \"white\", \"plot_bgcolor\": \"#E5ECF6\", \"polar\": {\"angularaxis\": {\"gridcolor\": \"white\", \"linecolor\": \"white\", \"ticks\": \"\"}, \"bgcolor\": \"#E5ECF6\", \"radialaxis\": {\"gridcolor\": \"white\", \"linecolor\": \"white\", \"ticks\": \"\"}}, \"scene\": {\"xaxis\": {\"backgroundcolor\": \"#E5ECF6\", \"gridcolor\": \"white\", \"gridwidth\": 2, \"linecolor\": \"white\", \"showbackground\": true, \"ticks\": \"\", \"zerolinecolor\": \"white\"}, \"yaxis\": {\"backgroundcolor\": \"#E5ECF6\", \"gridcolor\": \"white\", \"gridwidth\": 2, \"linecolor\": \"white\", \"showbackground\": true, \"ticks\": \"\", \"zerolinecolor\": \"white\"}, \"zaxis\": {\"backgroundcolor\": \"#E5ECF6\", \"gridcolor\": \"white\", \"gridwidth\": 2, \"linecolor\": \"white\", \"showbackground\": true, \"ticks\": \"\", \"zerolinecolor\": \"white\"}}, \"shapedefaults\": {\"line\": {\"color\": \"#2a3f5f\"}}, \"ternary\": {\"aaxis\": {\"gridcolor\": \"white\", \"linecolor\": \"white\", \"ticks\": \"\"}, \"baxis\": {\"gridcolor\": \"white\", \"linecolor\": \"white\", \"ticks\": \"\"}, \"bgcolor\": \"#E5ECF6\", \"caxis\": {\"gridcolor\": \"white\", \"linecolor\": \"white\", \"ticks\": \"\"}}, \"title\": {\"x\": 0.05}, \"xaxis\": {\"automargin\": true, \"gridcolor\": \"white\", \"linecolor\": \"white\", \"ticks\": \"\", \"title\": {\"standoff\": 15}, \"zerolinecolor\": \"white\", \"zerolinewidth\": 2}, \"yaxis\": {\"automargin\": true, \"gridcolor\": \"white\", \"linecolor\": \"white\", \"ticks\": \"\", \"title\": {\"standoff\": 15}, \"zerolinecolor\": \"white\", \"zerolinewidth\": 2}}}, \"title\": {\"text\": \"2017 Upper Estimates of Consumer Debt-to-Income\"}},\n",
       "                        {\"responsive\": true}\n",
       "                    ).then(function(){\n",
       "                            \n",
       "var gd = document.getElementById('09fb1455-bc04-4e5d-8004-35ae3f54f9ff');\n",
       "var x = new MutationObserver(function (mutations, observer) {{\n",
       "        var display = window.getComputedStyle(gd).display;\n",
       "        if (!display || display === 'none') {{\n",
       "            console.log([gd, 'removed!']);\n",
       "            Plotly.purge(gd);\n",
       "            observer.disconnect();\n",
       "        }}\n",
       "}});\n",
       "\n",
       "// Listen for the removal of the full notebook cells\n",
       "var notebookContainer = gd.closest('#notebook-container');\n",
       "if (notebookContainer) {{\n",
       "    x.observe(notebookContainer, {childList: true});\n",
       "}}\n",
       "\n",
       "// Listen for the clearing of the current output cell\n",
       "var outputEl = gd.closest('.output');\n",
       "if (outputEl) {{\n",
       "    x.observe(outputEl, {childList: true});\n",
       "}}\n",
       "\n",
       "                        })\n",
       "                };\n",
       "                });\n",
       "            </script>\n",
       "        </div>"
      ]
     },
     "metadata": {},
     "output_type": "display_data"
    }
   ],
   "source": [
    "fig4 = px.choropleth(household_debt_subset.loc[household_debt_subset['year'] == 2017],  # Input Pandas DataFrame\n",
    "                    locations=\"state\",  # DataFrame column with locations\n",
    "                    color=\"high\",  # DataFrame column with color values\n",
    "                    locationmode = 'USA-states') # Set to plot as US States\n",
    "fig4.update_layout(\n",
    "    title_text = '2017 Upper Estimates of Consumer Debt-to-Income', # Create a Title\n",
    "    geo_scope='usa',  # Plot only the USA instead of globe\n",
    ")\n",
    "\n",
    "fig4.show()"
   ]
  },
  {
   "cell_type": "code",
   "execution_count": 74,
   "metadata": {},
   "outputs": [],
   "source": [
    "debt_melt = pd.melt(household_debt_subset, id_vars=['state','year'], value_vars=['low', 'high'],\n",
    "                   var_name='estimate_type', value_name='average_estimate')\n",
    "debt_melt.head(10)\n",
    "## small multiples:\n",
    "sm_multiples = px.line(debt_melt, x=\"year\", y=\"average_estimate\",\n",
    "               color='estimate_type',\n",
    "               facet_col='state',facet_col_wrap=8)\n",
    "\n"
   ]
  },
  {
   "cell_type": "code",
   "execution_count": 75,
   "metadata": {},
   "outputs": [
    {
     "data": {
      "application/vnd.plotly.v1+json": {
       "config": {
        "plotlyServerURL": "https://plot.ly"
       },
       "data": [
        {
         "hoverlabel": {
          "namelength": 0
         },
         "hovertemplate": "estimate_type=low<br>state=AK<br>year=%{x}<br>average_estimate=%{y}",
         "legendgroup": "low",
         "line": {
          "color": "#636efa",
          "dash": "solid"
         },
         "mode": "lines",
         "name": "low",
         "showlegend": true,
         "type": "scatter",
         "x": [
          2015,
          2016,
          2017
         ],
         "xaxis": "x49",
         "y": [
          1.565,
          1.6575,
          1.6525
         ],
         "yaxis": "y49"
        },
        {
         "hoverlabel": {
          "namelength": 0
         },
         "hovertemplate": "estimate_type=low<br>state=AL<br>year=%{x}<br>average_estimate=%{y}",
         "legendgroup": "low",
         "line": {
          "color": "#636efa",
          "dash": "solid"
         },
         "mode": "lines",
         "name": "low",
         "showlegend": false,
         "type": "scatter",
         "x": [
          2015,
          2016,
          2017
         ],
         "xaxis": "x50",
         "y": [
          1.39,
          1.39,
          1.39
         ],
         "yaxis": "y50"
        },
        {
         "hoverlabel": {
          "namelength": 0
         },
         "hovertemplate": "estimate_type=low<br>state=AR<br>year=%{x}<br>average_estimate=%{y}",
         "legendgroup": "low",
         "line": {
          "color": "#636efa",
          "dash": "solid"
         },
         "mode": "lines",
         "name": "low",
         "showlegend": false,
         "type": "scatter",
         "x": [
          2015,
          2016,
          2017
         ],
         "xaxis": "x51",
         "y": [
          1.225,
          1.2625,
          1.2625
         ],
         "yaxis": "y51"
        },
        {
         "hoverlabel": {
          "namelength": 0
         },
         "hovertemplate": "estimate_type=low<br>state=AZ<br>year=%{x}<br>average_estimate=%{y}",
         "legendgroup": "low",
         "line": {
          "color": "#636efa",
          "dash": "solid"
         },
         "mode": "lines",
         "name": "low",
         "showlegend": false,
         "type": "scatter",
         "x": [
          2015,
          2016,
          2017
         ],
         "xaxis": "x52",
         "y": [
          1.7525,
          1.75,
          1.7525
         ],
         "yaxis": "y52"
        },
        {
         "hoverlabel": {
          "namelength": 0
         },
         "hovertemplate": "estimate_type=low<br>state=CA<br>year=%{x}<br>average_estimate=%{y}",
         "legendgroup": "low",
         "line": {
          "color": "#636efa",
          "dash": "solid"
         },
         "mode": "lines",
         "name": "low",
         "showlegend": false,
         "type": "scatter",
         "x": [
          2015,
          2016,
          2017
         ],
         "xaxis": "x53",
         "y": [
          1.7874999999999999,
          1.8199999999999998,
          1.7525
         ],
         "yaxis": "y53"
        },
        {
         "hoverlabel": {
          "namelength": 0
         },
         "hovertemplate": "estimate_type=low<br>state=CO<br>year=%{x}<br>average_estimate=%{y}",
         "legendgroup": "low",
         "line": {
          "color": "#636efa",
          "dash": "solid"
         },
         "mode": "lines",
         "name": "low",
         "showlegend": false,
         "type": "scatter",
         "x": [
          2015,
          2016,
          2017
         ],
         "xaxis": "x54",
         "y": [
          1.685,
          1.75,
          1.7525
         ],
         "yaxis": "y54"
        },
        {
         "hoverlabel": {
          "namelength": 0
         },
         "hovertemplate": "estimate_type=low<br>state=CT<br>year=%{x}<br>average_estimate=%{y}",
         "legendgroup": "low",
         "line": {
          "color": "#636efa",
          "dash": "solid"
         },
         "mode": "lines",
         "name": "low",
         "showlegend": false,
         "type": "scatter",
         "x": [
          2015,
          2016,
          2017
         ],
         "xaxis": "x55",
         "y": [
          1.4475,
          1.44,
          1.44
         ],
         "yaxis": "y55"
        },
        {
         "hoverlabel": {
          "namelength": 0
         },
         "hovertemplate": "estimate_type=low<br>state=DC<br>year=%{x}<br>average_estimate=%{y}",
         "legendgroup": "low",
         "line": {
          "color": "#636efa",
          "dash": "solid"
         },
         "mode": "lines",
         "name": "low",
         "showlegend": false,
         "type": "scatter",
         "x": [
          2015,
          2016,
          2017
         ],
         "xaxis": "x56",
         "y": [
          0.39,
          0.39,
          0.39
         ],
         "yaxis": "y56"
        },
        {
         "hoverlabel": {
          "namelength": 0
         },
         "hovertemplate": "estimate_type=low<br>state=DE<br>year=%{x}<br>average_estimate=%{y}",
         "legendgroup": "low",
         "line": {
          "color": "#636efa",
          "dash": "solid"
         },
         "mode": "lines",
         "name": "low",
         "showlegend": false,
         "type": "scatter",
         "x": [
          2015,
          2016,
          2017
         ],
         "xaxis": "x41",
         "y": [
          1.54,
          1.5374999999999999,
          1.54
         ],
         "yaxis": "y41"
        },
        {
         "hoverlabel": {
          "namelength": 0
         },
         "hovertemplate": "estimate_type=low<br>state=FL<br>year=%{x}<br>average_estimate=%{y}",
         "legendgroup": "low",
         "line": {
          "color": "#636efa",
          "dash": "solid"
         },
         "mode": "lines",
         "name": "low",
         "showlegend": false,
         "type": "scatter",
         "x": [
          2015,
          2016,
          2017
         ],
         "xaxis": "x42",
         "y": [
          1.69,
          1.62,
          1.685
         ],
         "yaxis": "y42"
        },
        {
         "hoverlabel": {
          "namelength": 0
         },
         "hovertemplate": "estimate_type=low<br>state=GA<br>year=%{x}<br>average_estimate=%{y}",
         "legendgroup": "low",
         "line": {
          "color": "#636efa",
          "dash": "solid"
         },
         "mode": "lines",
         "name": "low",
         "showlegend": false,
         "type": "scatter",
         "x": [
          2015,
          2016,
          2017
         ],
         "xaxis": "x43",
         "y": [
          1.46,
          1.435,
          1.44
         ],
         "yaxis": "y43"
        },
        {
         "hoverlabel": {
          "namelength": 0
         },
         "hovertemplate": "estimate_type=low<br>state=HI<br>year=%{x}<br>average_estimate=%{y}",
         "legendgroup": "low",
         "line": {
          "color": "#636efa",
          "dash": "solid"
         },
         "mode": "lines",
         "name": "low",
         "showlegend": false,
         "type": "scatter",
         "x": [
          2015,
          2016,
          2017
         ],
         "xaxis": "x44",
         "y": [
          2.07,
          2.13,
          2.13
         ],
         "yaxis": "y44"
        },
        {
         "hoverlabel": {
          "namelength": 0
         },
         "hovertemplate": "estimate_type=low<br>state=IA<br>year=%{x}<br>average_estimate=%{y}",
         "legendgroup": "low",
         "line": {
          "color": "#636efa",
          "dash": "solid"
         },
         "mode": "lines",
         "name": "low",
         "showlegend": false,
         "type": "scatter",
         "x": [
          2015,
          2016,
          2017
         ],
         "xaxis": "x45",
         "y": [
          1.09,
          1.09,
          1.165
         ],
         "yaxis": "y45"
        },
        {
         "hoverlabel": {
          "namelength": 0
         },
         "hovertemplate": "estimate_type=low<br>state=ID<br>year=%{x}<br>average_estimate=%{y}",
         "legendgroup": "low",
         "line": {
          "color": "#636efa",
          "dash": "solid"
         },
         "mode": "lines",
         "name": "low",
         "showlegend": false,
         "type": "scatter",
         "x": [
          2015,
          2016,
          2017
         ],
         "xaxis": "x46",
         "y": [
          1.855,
          1.8199999999999998,
          1.855
         ],
         "yaxis": "y46"
        },
        {
         "hoverlabel": {
          "namelength": 0
         },
         "hovertemplate": "estimate_type=low<br>state=IL<br>year=%{x}<br>average_estimate=%{y}",
         "legendgroup": "low",
         "line": {
          "color": "#636efa",
          "dash": "solid"
         },
         "mode": "lines",
         "name": "low",
         "showlegend": false,
         "type": "scatter",
         "x": [
          2015,
          2016,
          2017
         ],
         "xaxis": "x47",
         "y": [
          1.2475,
          1.225,
          1.165
         ],
         "yaxis": "y47"
        },
        {
         "hoverlabel": {
          "namelength": 0
         },
         "hovertemplate": "estimate_type=low<br>state=IN<br>year=%{x}<br>average_estimate=%{y}",
         "legendgroup": "low",
         "line": {
          "color": "#636efa",
          "dash": "solid"
         },
         "mode": "lines",
         "name": "low",
         "showlegend": false,
         "type": "scatter",
         "x": [
          2015,
          2016,
          2017
         ],
         "xaxis": "x48",
         "y": [
          1.2025,
          1.24,
          1.165
         ],
         "yaxis": "y48"
        },
        {
         "hoverlabel": {
          "namelength": 0
         },
         "hovertemplate": "estimate_type=low<br>state=KS<br>year=%{x}<br>average_estimate=%{y}",
         "legendgroup": "low",
         "line": {
          "color": "#636efa",
          "dash": "solid"
         },
         "mode": "lines",
         "name": "low",
         "showlegend": false,
         "type": "scatter",
         "x": [
          2015,
          2016,
          2017
         ],
         "xaxis": "x33",
         "y": [
          1.09,
          1.09,
          1.1275
         ],
         "yaxis": "y33"
        },
        {
         "hoverlabel": {
          "namelength": 0
         },
         "hovertemplate": "estimate_type=low<br>state=KY<br>year=%{x}<br>average_estimate=%{y}",
         "legendgroup": "low",
         "line": {
          "color": "#636efa",
          "dash": "solid"
         },
         "mode": "lines",
         "name": "low",
         "showlegend": false,
         "type": "scatter",
         "x": [
          2015,
          2016,
          2017
         ],
         "xaxis": "x34",
         "y": [
          1.165,
          1.165,
          1.1275
         ],
         "yaxis": "y34"
        },
        {
         "hoverlabel": {
          "namelength": 0
         },
         "hovertemplate": "estimate_type=low<br>state=LA<br>year=%{x}<br>average_estimate=%{y}",
         "legendgroup": "low",
         "line": {
          "color": "#636efa",
          "dash": "solid"
         },
         "mode": "lines",
         "name": "low",
         "showlegend": false,
         "type": "scatter",
         "x": [
          2015,
          2016,
          2017
         ],
         "xaxis": "x35",
         "y": [
          1.2025,
          1.3075,
          1.35
         ],
         "yaxis": "y35"
        },
        {
         "hoverlabel": {
          "namelength": 0
         },
         "hovertemplate": "estimate_type=low<br>state=MA<br>year=%{x}<br>average_estimate=%{y}",
         "legendgroup": "low",
         "line": {
          "color": "#636efa",
          "dash": "solid"
         },
         "mode": "lines",
         "name": "low",
         "showlegend": false,
         "type": "scatter",
         "x": [
          2015,
          2016,
          2017
         ],
         "xaxis": "x36",
         "y": [
          1.2475,
          1.2625000000000002,
          1.21
         ],
         "yaxis": "y36"
        },
        {
         "hoverlabel": {
          "namelength": 0
         },
         "hovertemplate": "estimate_type=low<br>state=MD<br>year=%{x}<br>average_estimate=%{y}",
         "legendgroup": "low",
         "line": {
          "color": "#636efa",
          "dash": "solid"
         },
         "mode": "lines",
         "name": "low",
         "showlegend": false,
         "type": "scatter",
         "x": [
          2015,
          2016,
          2017
         ],
         "xaxis": "x37",
         "y": [
          2.01,
          1.89,
          1.89
         ],
         "yaxis": "y37"
        },
        {
         "hoverlabel": {
          "namelength": 0
         },
         "hovertemplate": "estimate_type=low<br>state=ME<br>year=%{x}<br>average_estimate=%{y}",
         "legendgroup": "low",
         "line": {
          "color": "#636efa",
          "dash": "solid"
         },
         "mode": "lines",
         "name": "low",
         "showlegend": false,
         "type": "scatter",
         "x": [
          2015,
          2016,
          2017
         ],
         "xaxis": "x38",
         "y": [
          1.6575,
          1.625,
          1.5925
         ],
         "yaxis": "y38"
        },
        {
         "hoverlabel": {
          "namelength": 0
         },
         "hovertemplate": "estimate_type=low<br>state=MI<br>year=%{x}<br>average_estimate=%{y}",
         "legendgroup": "low",
         "line": {
          "color": "#636efa",
          "dash": "solid"
         },
         "mode": "lines",
         "name": "low",
         "showlegend": false,
         "type": "scatter",
         "x": [
          2015,
          2016,
          2017
         ],
         "xaxis": "x39",
         "y": [
          1.2025,
          1.2025,
          1.165
         ],
         "yaxis": "y39"
        },
        {
         "hoverlabel": {
          "namelength": 0
         },
         "hovertemplate": "estimate_type=low<br>state=MN<br>year=%{x}<br>average_estimate=%{y}",
         "legendgroup": "low",
         "line": {
          "color": "#636efa",
          "dash": "solid"
         },
         "mode": "lines",
         "name": "low",
         "showlegend": false,
         "type": "scatter",
         "x": [
          2015,
          2016,
          2017
         ],
         "xaxis": "x40",
         "y": [
          1.325,
          1.35,
          1.2850000000000001
         ],
         "yaxis": "y40"
        },
        {
         "hoverlabel": {
          "namelength": 0
         },
         "hovertemplate": "estimate_type=low<br>state=MO<br>year=%{x}<br>average_estimate=%{y}",
         "legendgroup": "low",
         "line": {
          "color": "#636efa",
          "dash": "solid"
         },
         "mode": "lines",
         "name": "low",
         "showlegend": false,
         "type": "scatter",
         "x": [
          2015,
          2016,
          2017
         ],
         "xaxis": "x25",
         "y": [
          1.225,
          1.24,
          1.2625
         ],
         "yaxis": "y25"
        },
        {
         "hoverlabel": {
          "namelength": 0
         },
         "hovertemplate": "estimate_type=low<br>state=MS<br>year=%{x}<br>average_estimate=%{y}",
         "legendgroup": "low",
         "line": {
          "color": "#636efa",
          "dash": "solid"
         },
         "mode": "lines",
         "name": "low",
         "showlegend": false,
         "type": "scatter",
         "x": [
          2015,
          2016,
          2017
         ],
         "xaxis": "x26",
         "y": [
          1.39,
          1.37,
          1.39
         ],
         "yaxis": "y26"
        },
        {
         "hoverlabel": {
          "namelength": 0
         },
         "hovertemplate": "estimate_type=low<br>state=MT<br>year=%{x}<br>average_estimate=%{y}",
         "legendgroup": "low",
         "line": {
          "color": "#636efa",
          "dash": "solid"
         },
         "mode": "lines",
         "name": "low",
         "showlegend": false,
         "type": "scatter",
         "x": [
          2015,
          2016,
          2017
         ],
         "xaxis": "x27",
         "y": [
          1.685,
          1.75,
          1.75
         ],
         "yaxis": "y27"
        },
        {
         "hoverlabel": {
          "namelength": 0
         },
         "hovertemplate": "estimate_type=low<br>state=NC<br>year=%{x}<br>average_estimate=%{y}",
         "legendgroup": "low",
         "line": {
          "color": "#636efa",
          "dash": "solid"
         },
         "mode": "lines",
         "name": "low",
         "showlegend": false,
         "type": "scatter",
         "x": [
          2015,
          2016,
          2017
         ],
         "xaxis": "x28",
         "y": [
          1.565,
          1.5374999999999999,
          1.54
         ],
         "yaxis": "y28"
        },
        {
         "hoverlabel": {
          "namelength": 0
         },
         "hovertemplate": "estimate_type=low<br>state=ND<br>year=%{x}<br>average_estimate=%{y}",
         "legendgroup": "low",
         "line": {
          "color": "#636efa",
          "dash": "solid"
         },
         "mode": "lines",
         "name": "low",
         "showlegend": false,
         "type": "scatter",
         "x": [
          2015,
          2016,
          2017
         ],
         "xaxis": "x29",
         "y": [
          0.39,
          0.39,
          0.39
         ],
         "yaxis": "y29"
        },
        {
         "hoverlabel": {
          "namelength": 0
         },
         "hovertemplate": "estimate_type=low<br>state=NE<br>year=%{x}<br>average_estimate=%{y}",
         "legendgroup": "low",
         "line": {
          "color": "#636efa",
          "dash": "solid"
         },
         "mode": "lines",
         "name": "low",
         "showlegend": false,
         "type": "scatter",
         "x": [
          2015,
          2016,
          2017
         ],
         "xaxis": "x30",
         "y": [
          1.09,
          1.09,
          1.09
         ],
         "yaxis": "y30"
        },
        {
         "hoverlabel": {
          "namelength": 0
         },
         "hovertemplate": "estimate_type=low<br>state=NH<br>year=%{x}<br>average_estimate=%{y}",
         "legendgroup": "low",
         "line": {
          "color": "#636efa",
          "dash": "solid"
         },
         "mode": "lines",
         "name": "low",
         "showlegend": false,
         "type": "scatter",
         "x": [
          2015,
          2016,
          2017
         ],
         "xaxis": "x31",
         "y": [
          1.5675000000000001,
          1.5925,
          1.5925
         ],
         "yaxis": "y31"
        },
        {
         "hoverlabel": {
          "namelength": 0
         },
         "hovertemplate": "estimate_type=low<br>state=NJ<br>year=%{x}<br>average_estimate=%{y}",
         "legendgroup": "low",
         "line": {
          "color": "#636efa",
          "dash": "solid"
         },
         "mode": "lines",
         "name": "low",
         "showlegend": false,
         "type": "scatter",
         "x": [
          2015,
          2016,
          2017
         ],
         "xaxis": "x32",
         "y": [
          1.5725,
          1.565,
          1.54
         ],
         "yaxis": "y32"
        },
        {
         "hoverlabel": {
          "namelength": 0
         },
         "hovertemplate": "estimate_type=low<br>state=NM<br>year=%{x}<br>average_estimate=%{y}",
         "legendgroup": "low",
         "line": {
          "color": "#636efa",
          "dash": "solid"
         },
         "mode": "lines",
         "name": "low",
         "showlegend": false,
         "type": "scatter",
         "x": [
          2015,
          2016,
          2017
         ],
         "xaxis": "x17",
         "y": [
          1.5925,
          1.62,
          1.5925
         ],
         "yaxis": "y17"
        },
        {
         "hoverlabel": {
          "namelength": 0
         },
         "hovertemplate": "estimate_type=low<br>state=NV<br>year=%{x}<br>average_estimate=%{y}",
         "legendgroup": "low",
         "line": {
          "color": "#636efa",
          "dash": "solid"
         },
         "mode": "lines",
         "name": "low",
         "showlegend": false,
         "type": "scatter",
         "x": [
          2015,
          2016,
          2017
         ],
         "xaxis": "x18",
         "y": [
          1.625,
          1.625,
          1.6525
         ],
         "yaxis": "y18"
        },
        {
         "hoverlabel": {
          "namelength": 0
         },
         "hovertemplate": "estimate_type=low<br>state=NY<br>year=%{x}<br>average_estimate=%{y}",
         "legendgroup": "low",
         "line": {
          "color": "#636efa",
          "dash": "solid"
         },
         "mode": "lines",
         "name": "low",
         "showlegend": false,
         "type": "scatter",
         "x": [
          2015,
          2016,
          2017
         ],
         "xaxis": "x19",
         "y": [
          0.7400000000000001,
          0.7400000000000001,
          0.7400000000000001
         ],
         "yaxis": "y19"
        },
        {
         "hoverlabel": {
          "namelength": 0
         },
         "hovertemplate": "estimate_type=low<br>state=OH<br>year=%{x}<br>average_estimate=%{y}",
         "legendgroup": "low",
         "line": {
          "color": "#636efa",
          "dash": "solid"
         },
         "mode": "lines",
         "name": "low",
         "showlegend": false,
         "type": "scatter",
         "x": [
          2015,
          2016,
          2017
         ],
         "xaxis": "x20",
         "y": [
          1.165,
          1.165,
          1.09
         ],
         "yaxis": "y20"
        },
        {
         "hoverlabel": {
          "namelength": 0
         },
         "hovertemplate": "estimate_type=low<br>state=OK<br>year=%{x}<br>average_estimate=%{y}",
         "legendgroup": "low",
         "line": {
          "color": "#636efa",
          "dash": "solid"
         },
         "mode": "lines",
         "name": "low",
         "showlegend": false,
         "type": "scatter",
         "x": [
          2015,
          2016,
          2017
         ],
         "xaxis": "x21",
         "y": [
          1.165,
          1.24,
          1.2625
         ],
         "yaxis": "y21"
        },
        {
         "hoverlabel": {
          "namelength": 0
         },
         "hovertemplate": "estimate_type=low<br>state=OR<br>year=%{x}<br>average_estimate=%{y}",
         "legendgroup": "low",
         "line": {
          "color": "#636efa",
          "dash": "solid"
         },
         "mode": "lines",
         "name": "low",
         "showlegend": false,
         "type": "scatter",
         "x": [
          2015,
          2016,
          2017
         ],
         "xaxis": "x22",
         "y": [
          1.685,
          1.6525,
          1.62
         ],
         "yaxis": "y22"
        },
        {
         "hoverlabel": {
          "namelength": 0
         },
         "hovertemplate": "estimate_type=low<br>state=PA<br>year=%{x}<br>average_estimate=%{y}",
         "legendgroup": "low",
         "line": {
          "color": "#636efa",
          "dash": "solid"
         },
         "mode": "lines",
         "name": "low",
         "showlegend": false,
         "type": "scatter",
         "x": [
          2015,
          2016,
          2017
         ],
         "xaxis": "x23",
         "y": [
          1.225,
          1.24,
          1.2025000000000001
         ],
         "yaxis": "y23"
        },
        {
         "hoverlabel": {
          "namelength": 0
         },
         "hovertemplate": "estimate_type=low<br>state=RI<br>year=%{x}<br>average_estimate=%{y}",
         "legendgroup": "low",
         "line": {
          "color": "#636efa",
          "dash": "solid"
         },
         "mode": "lines",
         "name": "low",
         "showlegend": false,
         "type": "scatter",
         "x": [
          2015,
          2016,
          2017
         ],
         "xaxis": "x24",
         "y": [
          1.54,
          1.565,
          1.565
         ],
         "yaxis": "y24"
        },
        {
         "hoverlabel": {
          "namelength": 0
         },
         "hovertemplate": "estimate_type=low<br>state=SC<br>year=%{x}<br>average_estimate=%{y}",
         "legendgroup": "low",
         "line": {
          "color": "#636efa",
          "dash": "solid"
         },
         "mode": "lines",
         "name": "low",
         "showlegend": false,
         "type": "scatter",
         "x": [
          2015,
          2016,
          2017
         ],
         "xaxis": "x9",
         "y": [
          1.69,
          1.6525,
          1.6525
         ],
         "yaxis": "y9"
        },
        {
         "hoverlabel": {
          "namelength": 0
         },
         "hovertemplate": "estimate_type=low<br>state=SD<br>year=%{x}<br>average_estimate=%{y}",
         "legendgroup": "low",
         "line": {
          "color": "#636efa",
          "dash": "solid"
         },
         "mode": "lines",
         "name": "low",
         "showlegend": false,
         "type": "scatter",
         "x": [
          2015,
          2016,
          2017
         ],
         "xaxis": "x10",
         "y": [
          1.2025,
          1.165,
          1.2025
         ],
         "yaxis": "y10"
        },
        {
         "hoverlabel": {
          "namelength": 0
         },
         "hovertemplate": "estimate_type=low<br>state=TN<br>year=%{x}<br>average_estimate=%{y}",
         "legendgroup": "low",
         "line": {
          "color": "#636efa",
          "dash": "solid"
         },
         "mode": "lines",
         "name": "low",
         "showlegend": false,
         "type": "scatter",
         "x": [
          2015,
          2016,
          2017
         ],
         "xaxis": "x11",
         "y": [
          1.3275000000000001,
          1.3275000000000001,
          1.3275000000000001
         ],
         "yaxis": "y11"
        },
        {
         "hoverlabel": {
          "namelength": 0
         },
         "hovertemplate": "estimate_type=low<br>state=TX<br>year=%{x}<br>average_estimate=%{y}",
         "legendgroup": "low",
         "line": {
          "color": "#636efa",
          "dash": "solid"
         },
         "mode": "lines",
         "name": "low",
         "showlegend": false,
         "type": "scatter",
         "x": [
          2015,
          2016,
          2017
         ],
         "xaxis": "x12",
         "y": [
          0.7400000000000001,
          1.09,
          1.09
         ],
         "yaxis": "y12"
        },
        {
         "hoverlabel": {
          "namelength": 0
         },
         "hovertemplate": "estimate_type=low<br>state=UT<br>year=%{x}<br>average_estimate=%{y}",
         "legendgroup": "low",
         "line": {
          "color": "#636efa",
          "dash": "solid"
         },
         "mode": "lines",
         "name": "low",
         "showlegend": false,
         "type": "scatter",
         "x": [
          2015,
          2016,
          2017
         ],
         "xaxis": "x13",
         "y": [
          1.5925,
          1.62,
          1.62
         ],
         "yaxis": "y13"
        },
        {
         "hoverlabel": {
          "namelength": 0
         },
         "hovertemplate": "estimate_type=low<br>state=VA<br>year=%{x}<br>average_estimate=%{y}",
         "legendgroup": "low",
         "line": {
          "color": "#636efa",
          "dash": "solid"
         },
         "mode": "lines",
         "name": "low",
         "showlegend": false,
         "type": "scatter",
         "x": [
          2015,
          2016,
          2017
         ],
         "xaxis": "x14",
         "y": [
          1.855,
          1.855,
          1.8199999999999998
         ],
         "yaxis": "y14"
        },
        {
         "hoverlabel": {
          "namelength": 0
         },
         "hovertemplate": "estimate_type=low<br>state=VT<br>year=%{x}<br>average_estimate=%{y}",
         "legendgroup": "low",
         "line": {
          "color": "#636efa",
          "dash": "solid"
         },
         "mode": "lines",
         "name": "low",
         "showlegend": false,
         "type": "scatter",
         "x": [
          2015,
          2016,
          2017
         ],
         "xaxis": "x15",
         "y": [
          1.44,
          1.46,
          1.435
         ],
         "yaxis": "y15"
        },
        {
         "hoverlabel": {
          "namelength": 0
         },
         "hovertemplate": "estimate_type=low<br>state=WA<br>year=%{x}<br>average_estimate=%{y}",
         "legendgroup": "low",
         "line": {
          "color": "#636efa",
          "dash": "solid"
         },
         "mode": "lines",
         "name": "low",
         "showlegend": false,
         "type": "scatter",
         "x": [
          2015,
          2016,
          2017
         ],
         "xaxis": "x16",
         "y": [
          1.685,
          1.685,
          1.6525
         ],
         "yaxis": "y16"
        },
        {
         "hoverlabel": {
          "namelength": 0
         },
         "hovertemplate": "estimate_type=low<br>state=WI<br>year=%{x}<br>average_estimate=%{y}",
         "legendgroup": "low",
         "line": {
          "color": "#636efa",
          "dash": "solid"
         },
         "mode": "lines",
         "name": "low",
         "showlegend": false,
         "type": "scatter",
         "x": [
          2015,
          2016,
          2017
         ],
         "xaxis": "x",
         "y": [
          1.165,
          1.165,
          1.165
         ],
         "yaxis": "y"
        },
        {
         "hoverlabel": {
          "namelength": 0
         },
         "hovertemplate": "estimate_type=low<br>state=WV<br>year=%{x}<br>average_estimate=%{y}",
         "legendgroup": "low",
         "line": {
          "color": "#636efa",
          "dash": "solid"
         },
         "mode": "lines",
         "name": "low",
         "showlegend": false,
         "type": "scatter",
         "x": [
          2015,
          2016,
          2017
         ],
         "xaxis": "x2",
         "y": [
          1.2625,
          1.2625000000000002,
          1.2625
         ],
         "yaxis": "y2"
        },
        {
         "hoverlabel": {
          "namelength": 0
         },
         "hovertemplate": "estimate_type=low<br>state=WY<br>year=%{x}<br>average_estimate=%{y}",
         "legendgroup": "low",
         "line": {
          "color": "#636efa",
          "dash": "solid"
         },
         "mode": "lines",
         "name": "low",
         "showlegend": false,
         "type": "scatter",
         "x": [
          2015,
          2016,
          2017
         ],
         "xaxis": "x3",
         "y": [
          1.37,
          1.5374999999999999,
          1.5374999999999999
         ],
         "yaxis": "y3"
        },
        {
         "hoverlabel": {
          "namelength": 0
         },
         "hovertemplate": "estimate_type=high<br>state=AK<br>year=%{x}<br>average_estimate=%{y}",
         "legendgroup": "high",
         "line": {
          "color": "#EF553B",
          "dash": "solid"
         },
         "mode": "lines",
         "name": "high",
         "showlegend": true,
         "type": "scatter",
         "x": [
          2015,
          2016,
          2017
         ],
         "xaxis": "x49",
         "y": [
          1.685,
          1.7874999999999999,
          1.785
         ],
         "yaxis": "y49"
        },
        {
         "hoverlabel": {
          "namelength": 0
         },
         "hovertemplate": "estimate_type=high<br>state=AL<br>year=%{x}<br>average_estimate=%{y}",
         "legendgroup": "high",
         "line": {
          "color": "#EF553B",
          "dash": "solid"
         },
         "mode": "lines",
         "name": "high",
         "showlegend": false,
         "type": "scatter",
         "x": [
          2015,
          2016,
          2017
         ],
         "xaxis": "x50",
         "y": [
          1.485,
          1.485,
          1.485
         ],
         "yaxis": "y50"
        },
        {
         "hoverlabel": {
          "namelength": 0
         },
         "hovertemplate": "estimate_type=high<br>state=AR<br>year=%{x}<br>average_estimate=%{y}",
         "legendgroup": "high",
         "line": {
          "color": "#EF553B",
          "dash": "solid"
         },
         "mode": "lines",
         "name": "high",
         "showlegend": false,
         "type": "scatter",
         "x": [
          2015,
          2016,
          2017
         ],
         "xaxis": "x51",
         "y": [
          1.3275000000000001,
          1.35,
          1.35
         ],
         "yaxis": "y51"
        },
        {
         "hoverlabel": {
          "namelength": 0
         },
         "hovertemplate": "estimate_type=high<br>state=AZ<br>year=%{x}<br>average_estimate=%{y}",
         "legendgroup": "high",
         "line": {
          "color": "#EF553B",
          "dash": "solid"
         },
         "mode": "lines",
         "name": "high",
         "showlegend": false,
         "type": "scatter",
         "x": [
          2015,
          2016,
          2017
         ],
         "xaxis": "x52",
         "y": [
          1.915,
          1.89,
          1.9149999999999998
         ],
         "yaxis": "y52"
        },
        {
         "hoverlabel": {
          "namelength": 0
         },
         "hovertemplate": "estimate_type=high<br>state=CA<br>year=%{x}<br>average_estimate=%{y}",
         "legendgroup": "high",
         "line": {
          "color": "#EF553B",
          "dash": "solid"
         },
         "mode": "lines",
         "name": "high",
         "showlegend": false,
         "type": "scatter",
         "x": [
          2015,
          2016,
          2017
         ],
         "xaxis": "x53",
         "y": [
          1.9749999999999999,
          2.01,
          1.915
         ],
         "yaxis": "y53"
        },
        {
         "hoverlabel": {
          "namelength": 0
         },
         "hovertemplate": "estimate_type=high<br>state=CO<br>year=%{x}<br>average_estimate=%{y}",
         "legendgroup": "high",
         "line": {
          "color": "#EF553B",
          "dash": "solid"
         },
         "mode": "lines",
         "name": "high",
         "showlegend": false,
         "type": "scatter",
         "x": [
          2015,
          2016,
          2017
         ],
         "xaxis": "x54",
         "y": [
          1.8199999999999998,
          1.89,
          1.9149999999999998
         ],
         "yaxis": "y54"
        },
        {
         "hoverlabel": {
          "namelength": 0
         },
         "hovertemplate": "estimate_type=high<br>state=CT<br>year=%{x}<br>average_estimate=%{y}",
         "legendgroup": "high",
         "line": {
          "color": "#EF553B",
          "dash": "solid"
         },
         "mode": "lines",
         "name": "high",
         "showlegend": false,
         "type": "scatter",
         "x": [
          2015,
          2016,
          2017
         ],
         "xaxis": "x55",
         "y": [
          1.5475,
          1.54,
          1.54
         ],
         "yaxis": "y55"
        },
        {
         "hoverlabel": {
          "namelength": 0
         },
         "hovertemplate": "estimate_type=high<br>state=DC<br>year=%{x}<br>average_estimate=%{y}",
         "legendgroup": "high",
         "line": {
          "color": "#EF553B",
          "dash": "solid"
         },
         "mode": "lines",
         "name": "high",
         "showlegend": false,
         "type": "scatter",
         "x": [
          2015,
          2016,
          2017
         ],
         "xaxis": "x56",
         "y": [
          1.09,
          1.09,
          1.09
         ],
         "yaxis": "y56"
        },
        {
         "hoverlabel": {
          "namelength": 0
         },
         "hovertemplate": "estimate_type=high<br>state=DE<br>year=%{x}<br>average_estimate=%{y}",
         "legendgroup": "high",
         "line": {
          "color": "#EF553B",
          "dash": "solid"
         },
         "mode": "lines",
         "name": "high",
         "showlegend": false,
         "type": "scatter",
         "x": [
          2015,
          2016,
          2017
         ],
         "xaxis": "x41",
         "y": [
          1.6575,
          1.6525,
          1.6575
         ],
         "yaxis": "y41"
        },
        {
         "hoverlabel": {
          "namelength": 0
         },
         "hovertemplate": "estimate_type=high<br>state=FL<br>year=%{x}<br>average_estimate=%{y}",
         "legendgroup": "high",
         "line": {
          "color": "#EF553B",
          "dash": "solid"
         },
         "mode": "lines",
         "name": "high",
         "showlegend": false,
         "type": "scatter",
         "x": [
          2015,
          2016,
          2017
         ],
         "xaxis": "x42",
         "y": [
          1.8225,
          1.75,
          1.8199999999999998
         ],
         "yaxis": "y42"
        },
        {
         "hoverlabel": {
          "namelength": 0
         },
         "hovertemplate": "estimate_type=high<br>state=GA<br>year=%{x}<br>average_estimate=%{y}",
         "legendgroup": "high",
         "line": {
          "color": "#EF553B",
          "dash": "solid"
         },
         "mode": "lines",
         "name": "high",
         "showlegend": false,
         "type": "scatter",
         "x": [
          2015,
          2016,
          2017
         ],
         "xaxis": "x43",
         "y": [
          1.565,
          1.5374999999999999,
          1.54
         ],
         "yaxis": "y43"
        },
        {
         "hoverlabel": {
          "namelength": 0
         },
         "hovertemplate": "estimate_type=high<br>state=HI<br>year=%{x}<br>average_estimate=%{y}",
         "legendgroup": "high",
         "line": {
          "color": "#EF553B",
          "dash": "solid"
         },
         "mode": "lines",
         "name": "high",
         "showlegend": false,
         "type": "scatter",
         "x": [
          2015,
          2016,
          2017
         ],
         "xaxis": "x44",
         "y": [
          2.13,
          null,
          null
         ],
         "yaxis": "y44"
        },
        {
         "hoverlabel": {
          "namelength": 0
         },
         "hovertemplate": "estimate_type=high<br>state=IA<br>year=%{x}<br>average_estimate=%{y}",
         "legendgroup": "high",
         "line": {
          "color": "#EF553B",
          "dash": "solid"
         },
         "mode": "lines",
         "name": "high",
         "showlegend": false,
         "type": "scatter",
         "x": [
          2015,
          2016,
          2017
         ],
         "xaxis": "x45",
         "y": [
          1.24,
          1.24,
          1.2850000000000001
         ],
         "yaxis": "y45"
        },
        {
         "hoverlabel": {
          "namelength": 0
         },
         "hovertemplate": "estimate_type=high<br>state=ID<br>year=%{x}<br>average_estimate=%{y}",
         "legendgroup": "high",
         "line": {
          "color": "#EF553B",
          "dash": "solid"
         },
         "mode": "lines",
         "name": "high",
         "showlegend": false,
         "type": "scatter",
         "x": [
          2015,
          2016,
          2017
         ],
         "xaxis": "x46",
         "y": [
          2.07,
          2.01,
          2.07
         ],
         "yaxis": "y46"
        },
        {
         "hoverlabel": {
          "namelength": 0
         },
         "hovertemplate": "estimate_type=high<br>state=IL<br>year=%{x}<br>average_estimate=%{y}",
         "legendgroup": "high",
         "line": {
          "color": "#EF553B",
          "dash": "solid"
         },
         "mode": "lines",
         "name": "high",
         "showlegend": false,
         "type": "scatter",
         "x": [
          2015,
          2016,
          2017
         ],
         "xaxis": "x47",
         "y": [
          1.3475000000000001,
          1.3275000000000001,
          1.2850000000000001
         ],
         "yaxis": "y47"
        },
        {
         "hoverlabel": {
          "namelength": 0
         },
         "hovertemplate": "estimate_type=high<br>state=IN<br>year=%{x}<br>average_estimate=%{y}",
         "legendgroup": "high",
         "line": {
          "color": "#EF553B",
          "dash": "solid"
         },
         "mode": "lines",
         "name": "high",
         "showlegend": false,
         "type": "scatter",
         "x": [
          2015,
          2016,
          2017
         ],
         "xaxis": "x48",
         "y": [
          1.3075,
          1.33,
          1.2850000000000001
         ],
         "yaxis": "y48"
        },
        {
         "hoverlabel": {
          "namelength": 0
         },
         "hovertemplate": "estimate_type=high<br>state=KS<br>year=%{x}<br>average_estimate=%{y}",
         "legendgroup": "high",
         "line": {
          "color": "#EF553B",
          "dash": "solid"
         },
         "mode": "lines",
         "name": "high",
         "showlegend": false,
         "type": "scatter",
         "x": [
          2015,
          2016,
          2017
         ],
         "xaxis": "x33",
         "y": [
          1.24,
          1.24,
          1.2625
         ],
         "yaxis": "y33"
        },
        {
         "hoverlabel": {
          "namelength": 0
         },
         "hovertemplate": "estimate_type=high<br>state=KY<br>year=%{x}<br>average_estimate=%{y}",
         "legendgroup": "high",
         "line": {
          "color": "#EF553B",
          "dash": "solid"
         },
         "mode": "lines",
         "name": "high",
         "showlegend": false,
         "type": "scatter",
         "x": [
          2015,
          2016,
          2017
         ],
         "xaxis": "x34",
         "y": [
          1.2850000000000001,
          1.2850000000000001,
          1.2625
         ],
         "yaxis": "y34"
        },
        {
         "hoverlabel": {
          "namelength": 0
         },
         "hovertemplate": "estimate_type=high<br>state=LA<br>year=%{x}<br>average_estimate=%{y}",
         "legendgroup": "high",
         "line": {
          "color": "#EF553B",
          "dash": "solid"
         },
         "mode": "lines",
         "name": "high",
         "showlegend": false,
         "type": "scatter",
         "x": [
          2015,
          2016,
          2017
         ],
         "xaxis": "x35",
         "y": [
          1.3075,
          1.39,
          1.435
         ],
         "yaxis": "y35"
        },
        {
         "hoverlabel": {
          "namelength": 0
         },
         "hovertemplate": "estimate_type=high<br>state=MA<br>year=%{x}<br>average_estimate=%{y}",
         "legendgroup": "high",
         "line": {
          "color": "#EF553B",
          "dash": "solid"
         },
         "mode": "lines",
         "name": "high",
         "showlegend": false,
         "type": "scatter",
         "x": [
          2015,
          2016,
          2017
         ],
         "xaxis": "x36",
         "y": [
          1.3475000000000001,
          1.35,
          1.325
         ],
         "yaxis": "y36"
        },
        {
         "hoverlabel": {
          "namelength": 0
         },
         "hovertemplate": "estimate_type=high<br>state=MD<br>year=%{x}<br>average_estimate=%{y}",
         "legendgroup": "high",
         "line": {
          "color": "#EF553B",
          "dash": "solid"
         },
         "mode": "lines",
         "name": "high",
         "showlegend": false,
         "type": "scatter",
         "x": [
          2015,
          2016,
          2017
         ],
         "xaxis": "x37",
         "y": [
          2.13,
          2.13,
          2.13
         ],
         "yaxis": "y37"
        },
        {
         "hoverlabel": {
          "namelength": 0
         },
         "hovertemplate": "estimate_type=high<br>state=ME<br>year=%{x}<br>average_estimate=%{y}",
         "legendgroup": "high",
         "line": {
          "color": "#EF553B",
          "dash": "solid"
         },
         "mode": "lines",
         "name": "high",
         "showlegend": false,
         "type": "scatter",
         "x": [
          2015,
          2016,
          2017
         ],
         "xaxis": "x38",
         "y": [
          1.7874999999999999,
          1.7525,
          1.7175
         ],
         "yaxis": "y38"
        },
        {
         "hoverlabel": {
          "namelength": 0
         },
         "hovertemplate": "estimate_type=high<br>state=MI<br>year=%{x}<br>average_estimate=%{y}",
         "legendgroup": "high",
         "line": {
          "color": "#EF553B",
          "dash": "solid"
         },
         "mode": "lines",
         "name": "high",
         "showlegend": false,
         "type": "scatter",
         "x": [
          2015,
          2016,
          2017
         ],
         "xaxis": "x39",
         "y": [
          1.3075,
          1.3075,
          1.2850000000000001
         ],
         "yaxis": "y39"
        },
        {
         "hoverlabel": {
          "namelength": 0
         },
         "hovertemplate": "estimate_type=high<br>state=MN<br>year=%{x}<br>average_estimate=%{y}",
         "legendgroup": "high",
         "line": {
          "color": "#EF553B",
          "dash": "solid"
         },
         "mode": "lines",
         "name": "high",
         "showlegend": false,
         "type": "scatter",
         "x": [
          2015,
          2016,
          2017
         ],
         "xaxis": "x40",
         "y": [
          1.42,
          1.435,
          1.37
         ],
         "yaxis": "y40"
        },
        {
         "hoverlabel": {
          "namelength": 0
         },
         "hovertemplate": "estimate_type=high<br>state=MO<br>year=%{x}<br>average_estimate=%{y}",
         "legendgroup": "high",
         "line": {
          "color": "#EF553B",
          "dash": "solid"
         },
         "mode": "lines",
         "name": "high",
         "showlegend": false,
         "type": "scatter",
         "x": [
          2015,
          2016,
          2017
         ],
         "xaxis": "x25",
         "y": [
          1.3275000000000001,
          1.33,
          1.35
         ],
         "yaxis": "y25"
        },
        {
         "hoverlabel": {
          "namelength": 0
         },
         "hovertemplate": "estimate_type=high<br>state=MS<br>year=%{x}<br>average_estimate=%{y}",
         "legendgroup": "high",
         "line": {
          "color": "#EF553B",
          "dash": "solid"
         },
         "mode": "lines",
         "name": "high",
         "showlegend": false,
         "type": "scatter",
         "x": [
          2015,
          2016,
          2017
         ],
         "xaxis": "x26",
         "y": [
          1.485,
          1.46,
          1.485
         ],
         "yaxis": "y26"
        },
        {
         "hoverlabel": {
          "namelength": 0
         },
         "hovertemplate": "estimate_type=high<br>state=MT<br>year=%{x}<br>average_estimate=%{y}",
         "legendgroup": "high",
         "line": {
          "color": "#EF553B",
          "dash": "solid"
         },
         "mode": "lines",
         "name": "high",
         "showlegend": false,
         "type": "scatter",
         "x": [
          2015,
          2016,
          2017
         ],
         "xaxis": "x27",
         "y": [
          1.8199999999999998,
          1.89,
          1.89
         ],
         "yaxis": "y27"
        },
        {
         "hoverlabel": {
          "namelength": 0
         },
         "hovertemplate": "estimate_type=high<br>state=NC<br>year=%{x}<br>average_estimate=%{y}",
         "legendgroup": "high",
         "line": {
          "color": "#EF553B",
          "dash": "solid"
         },
         "mode": "lines",
         "name": "high",
         "showlegend": false,
         "type": "scatter",
         "x": [
          2015,
          2016,
          2017
         ],
         "xaxis": "x28",
         "y": [
          1.685,
          1.6525,
          1.6575
         ],
         "yaxis": "y28"
        },
        {
         "hoverlabel": {
          "namelength": 0
         },
         "hovertemplate": "estimate_type=high<br>state=ND<br>year=%{x}<br>average_estimate=%{y}",
         "legendgroup": "high",
         "line": {
          "color": "#EF553B",
          "dash": "solid"
         },
         "mode": "lines",
         "name": "high",
         "showlegend": false,
         "type": "scatter",
         "x": [
          2015,
          2016,
          2017
         ],
         "xaxis": "x29",
         "y": [
          1.09,
          1.09,
          1.09
         ],
         "yaxis": "y29"
        },
        {
         "hoverlabel": {
          "namelength": 0
         },
         "hovertemplate": "estimate_type=high<br>state=NE<br>year=%{x}<br>average_estimate=%{y}",
         "legendgroup": "high",
         "line": {
          "color": "#EF553B",
          "dash": "solid"
         },
         "mode": "lines",
         "name": "high",
         "showlegend": false,
         "type": "scatter",
         "x": [
          2015,
          2016,
          2017
         ],
         "xaxis": "x30",
         "y": [
          1.24,
          1.24,
          1.24
         ],
         "yaxis": "y30"
        },
        {
         "hoverlabel": {
          "namelength": 0
         },
         "hovertemplate": "estimate_type=high<br>state=NH<br>year=%{x}<br>average_estimate=%{y}",
         "legendgroup": "high",
         "line": {
          "color": "#EF553B",
          "dash": "solid"
         },
         "mode": "lines",
         "name": "high",
         "showlegend": false,
         "type": "scatter",
         "x": [
          2015,
          2016,
          2017
         ],
         "xaxis": "x31",
         "y": [
          1.69,
          1.7175,
          1.7175
         ],
         "yaxis": "y31"
        },
        {
         "hoverlabel": {
          "namelength": 0
         },
         "hovertemplate": "estimate_type=high<br>state=NJ<br>year=%{x}<br>average_estimate=%{y}",
         "legendgroup": "high",
         "line": {
          "color": "#EF553B",
          "dash": "solid"
         },
         "mode": "lines",
         "name": "high",
         "showlegend": false,
         "type": "scatter",
         "x": [
          2015,
          2016,
          2017
         ],
         "xaxis": "x32",
         "y": [
          1.6925,
          1.685,
          1.6575
         ],
         "yaxis": "y32"
        },
        {
         "hoverlabel": {
          "namelength": 0
         },
         "hovertemplate": "estimate_type=high<br>state=NM<br>year=%{x}<br>average_estimate=%{y}",
         "legendgroup": "high",
         "line": {
          "color": "#EF553B",
          "dash": "solid"
         },
         "mode": "lines",
         "name": "high",
         "showlegend": false,
         "type": "scatter",
         "x": [
          2015,
          2016,
          2017
         ],
         "xaxis": "x17",
         "y": [
          1.7175,
          1.75,
          1.7175
         ],
         "yaxis": "y17"
        },
        {
         "hoverlabel": {
          "namelength": 0
         },
         "hovertemplate": "estimate_type=high<br>state=NV<br>year=%{x}<br>average_estimate=%{y}",
         "legendgroup": "high",
         "line": {
          "color": "#EF553B",
          "dash": "solid"
         },
         "mode": "lines",
         "name": "high",
         "showlegend": false,
         "type": "scatter",
         "x": [
          2015,
          2016,
          2017
         ],
         "xaxis": "x18",
         "y": [
          1.7525,
          1.7525,
          1.785
         ],
         "yaxis": "y18"
        },
        {
         "hoverlabel": {
          "namelength": 0
         },
         "hovertemplate": "estimate_type=high<br>state=NY<br>year=%{x}<br>average_estimate=%{y}",
         "legendgroup": "high",
         "line": {
          "color": "#EF553B",
          "dash": "solid"
         },
         "mode": "lines",
         "name": "high",
         "showlegend": false,
         "type": "scatter",
         "x": [
          2015,
          2016,
          2017
         ],
         "xaxis": "x19",
         "y": [
          1.165,
          1.165,
          1.165
         ],
         "yaxis": "y19"
        },
        {
         "hoverlabel": {
          "namelength": 0
         },
         "hovertemplate": "estimate_type=high<br>state=OH<br>year=%{x}<br>average_estimate=%{y}",
         "legendgroup": "high",
         "line": {
          "color": "#EF553B",
          "dash": "solid"
         },
         "mode": "lines",
         "name": "high",
         "showlegend": false,
         "type": "scatter",
         "x": [
          2015,
          2016,
          2017
         ],
         "xaxis": "x20",
         "y": [
          1.2850000000000001,
          1.2850000000000001,
          1.24
         ],
         "yaxis": "y20"
        },
        {
         "hoverlabel": {
          "namelength": 0
         },
         "hovertemplate": "estimate_type=high<br>state=OK<br>year=%{x}<br>average_estimate=%{y}",
         "legendgroup": "high",
         "line": {
          "color": "#EF553B",
          "dash": "solid"
         },
         "mode": "lines",
         "name": "high",
         "showlegend": false,
         "type": "scatter",
         "x": [
          2015,
          2016,
          2017
         ],
         "xaxis": "x21",
         "y": [
          1.2850000000000001,
          1.33,
          1.35
         ],
         "yaxis": "y21"
        },
        {
         "hoverlabel": {
          "namelength": 0
         },
         "hovertemplate": "estimate_type=high<br>state=OR<br>year=%{x}<br>average_estimate=%{y}",
         "legendgroup": "high",
         "line": {
          "color": "#EF553B",
          "dash": "solid"
         },
         "mode": "lines",
         "name": "high",
         "showlegend": false,
         "type": "scatter",
         "x": [
          2015,
          2016,
          2017
         ],
         "xaxis": "x22",
         "y": [
          1.8199999999999998,
          1.785,
          1.75
         ],
         "yaxis": "y22"
        },
        {
         "hoverlabel": {
          "namelength": 0
         },
         "hovertemplate": "estimate_type=high<br>state=PA<br>year=%{x}<br>average_estimate=%{y}",
         "legendgroup": "high",
         "line": {
          "color": "#EF553B",
          "dash": "solid"
         },
         "mode": "lines",
         "name": "high",
         "showlegend": false,
         "type": "scatter",
         "x": [
          2015,
          2016,
          2017
         ],
         "xaxis": "x23",
         "y": [
          1.3275000000000001,
          1.33,
          1.3075
         ],
         "yaxis": "y23"
        },
        {
         "hoverlabel": {
          "namelength": 0
         },
         "hovertemplate": "estimate_type=high<br>state=RI<br>year=%{x}<br>average_estimate=%{y}",
         "legendgroup": "high",
         "line": {
          "color": "#EF553B",
          "dash": "solid"
         },
         "mode": "lines",
         "name": "high",
         "showlegend": false,
         "type": "scatter",
         "x": [
          2015,
          2016,
          2017
         ],
         "xaxis": "x24",
         "y": [
          1.6575,
          1.685,
          1.685
         ],
         "yaxis": "y24"
        },
        {
         "hoverlabel": {
          "namelength": 0
         },
         "hovertemplate": "estimate_type=high<br>state=SC<br>year=%{x}<br>average_estimate=%{y}",
         "legendgroup": "high",
         "line": {
          "color": "#EF553B",
          "dash": "solid"
         },
         "mode": "lines",
         "name": "high",
         "showlegend": false,
         "type": "scatter",
         "x": [
          2015,
          2016,
          2017
         ],
         "xaxis": "x9",
         "y": [
          1.8225,
          1.785,
          1.785
         ],
         "yaxis": "y9"
        },
        {
         "hoverlabel": {
          "namelength": 0
         },
         "hovertemplate": "estimate_type=high<br>state=SD<br>year=%{x}<br>average_estimate=%{y}",
         "legendgroup": "high",
         "line": {
          "color": "#EF553B",
          "dash": "solid"
         },
         "mode": "lines",
         "name": "high",
         "showlegend": false,
         "type": "scatter",
         "x": [
          2015,
          2016,
          2017
         ],
         "xaxis": "x10",
         "y": [
          1.3075,
          1.2850000000000001,
          1.3075
         ],
         "yaxis": "y10"
        },
        {
         "hoverlabel": {
          "namelength": 0
         },
         "hovertemplate": "estimate_type=high<br>state=TN<br>year=%{x}<br>average_estimate=%{y}",
         "legendgroup": "high",
         "line": {
          "color": "#EF553B",
          "dash": "solid"
         },
         "mode": "lines",
         "name": "high",
         "showlegend": false,
         "type": "scatter",
         "x": [
          2015,
          2016,
          2017
         ],
         "xaxis": "x11",
         "y": [
          1.415,
          1.415,
          1.415
         ],
         "yaxis": "y11"
        },
        {
         "hoverlabel": {
          "namelength": 0
         },
         "hovertemplate": "estimate_type=high<br>state=TX<br>year=%{x}<br>average_estimate=%{y}",
         "legendgroup": "high",
         "line": {
          "color": "#EF553B",
          "dash": "solid"
         },
         "mode": "lines",
         "name": "high",
         "showlegend": false,
         "type": "scatter",
         "x": [
          2015,
          2016,
          2017
         ],
         "xaxis": "x12",
         "y": [
          1.165,
          1.24,
          1.24
         ],
         "yaxis": "y12"
        },
        {
         "hoverlabel": {
          "namelength": 0
         },
         "hovertemplate": "estimate_type=high<br>state=UT<br>year=%{x}<br>average_estimate=%{y}",
         "legendgroup": "high",
         "line": {
          "color": "#EF553B",
          "dash": "solid"
         },
         "mode": "lines",
         "name": "high",
         "showlegend": false,
         "type": "scatter",
         "x": [
          2015,
          2016,
          2017
         ],
         "xaxis": "x13",
         "y": [
          1.7175,
          1.75,
          1.75
         ],
         "yaxis": "y13"
        },
        {
         "hoverlabel": {
          "namelength": 0
         },
         "hovertemplate": "estimate_type=high<br>state=VA<br>year=%{x}<br>average_estimate=%{y}",
         "legendgroup": "high",
         "line": {
          "color": "#EF553B",
          "dash": "solid"
         },
         "mode": "lines",
         "name": "high",
         "showlegend": false,
         "type": "scatter",
         "x": [
          2015,
          2016,
          2017
         ],
         "xaxis": "x14",
         "y": [
          2.07,
          2.07,
          2.01
         ],
         "yaxis": "y14"
        },
        {
         "hoverlabel": {
          "namelength": 0
         },
         "hovertemplate": "estimate_type=high<br>state=VT<br>year=%{x}<br>average_estimate=%{y}",
         "legendgroup": "high",
         "line": {
          "color": "#EF553B",
          "dash": "solid"
         },
         "mode": "lines",
         "name": "high",
         "showlegend": false,
         "type": "scatter",
         "x": [
          2015,
          2016,
          2017
         ],
         "xaxis": "x15",
         "y": [
          1.54,
          1.565,
          1.5375
         ],
         "yaxis": "y15"
        },
        {
         "hoverlabel": {
          "namelength": 0
         },
         "hovertemplate": "estimate_type=high<br>state=WA<br>year=%{x}<br>average_estimate=%{y}",
         "legendgroup": "high",
         "line": {
          "color": "#EF553B",
          "dash": "solid"
         },
         "mode": "lines",
         "name": "high",
         "showlegend": false,
         "type": "scatter",
         "x": [
          2015,
          2016,
          2017
         ],
         "xaxis": "x16",
         "y": [
          1.8199999999999998,
          1.8199999999999998,
          1.785
         ],
         "yaxis": "y16"
        },
        {
         "hoverlabel": {
          "namelength": 0
         },
         "hovertemplate": "estimate_type=high<br>state=WI<br>year=%{x}<br>average_estimate=%{y}",
         "legendgroup": "high",
         "line": {
          "color": "#EF553B",
          "dash": "solid"
         },
         "mode": "lines",
         "name": "high",
         "showlegend": false,
         "type": "scatter",
         "x": [
          2015,
          2016,
          2017
         ],
         "xaxis": "x",
         "y": [
          1.2850000000000001,
          1.2850000000000001,
          1.2850000000000001
         ],
         "yaxis": "y"
        },
        {
         "hoverlabel": {
          "namelength": 0
         },
         "hovertemplate": "estimate_type=high<br>state=WV<br>year=%{x}<br>average_estimate=%{y}",
         "legendgroup": "high",
         "line": {
          "color": "#EF553B",
          "dash": "solid"
         },
         "mode": "lines",
         "name": "high",
         "showlegend": false,
         "type": "scatter",
         "x": [
          2015,
          2016,
          2017
         ],
         "xaxis": "x2",
         "y": [
          1.35,
          1.35,
          1.35
         ],
         "yaxis": "y2"
        },
        {
         "hoverlabel": {
          "namelength": 0
         },
         "hovertemplate": "estimate_type=high<br>state=WY<br>year=%{x}<br>average_estimate=%{y}",
         "legendgroup": "high",
         "line": {
          "color": "#EF553B",
          "dash": "solid"
         },
         "mode": "lines",
         "name": "high",
         "showlegend": false,
         "type": "scatter",
         "x": [
          2015,
          2016,
          2017
         ],
         "xaxis": "x3",
         "y": [
          1.46,
          1.6525,
          1.6525
         ],
         "yaxis": "y3"
        }
       ],
       "layout": {
        "annotations": [
         {
          "font": {},
          "showarrow": false,
          "text": "state=WI",
          "x": 0.05375,
          "xanchor": "center",
          "xref": "paper",
          "y": 0.08285714285714285,
          "yanchor": "bottom",
          "yref": "paper"
         },
         {
          "font": {},
          "showarrow": false,
          "text": "state=WV",
          "x": 0.18125,
          "xanchor": "center",
          "xref": "paper",
          "y": 0.08285714285714285,
          "yanchor": "bottom",
          "yref": "paper"
         },
         {
          "font": {},
          "showarrow": false,
          "text": "state=WY",
          "x": 0.30874999999999997,
          "xanchor": "center",
          "xref": "paper",
          "y": 0.08285714285714285,
          "yanchor": "bottom",
          "yref": "paper"
         },
         {
          "font": {},
          "showarrow": false,
          "text": "state=SC",
          "x": 0.05375,
          "xanchor": "center",
          "xref": "paper",
          "y": 0.2357142857142857,
          "yanchor": "bottom",
          "yref": "paper"
         },
         {
          "font": {},
          "showarrow": false,
          "text": "state=SD",
          "x": 0.18125,
          "xanchor": "center",
          "xref": "paper",
          "y": 0.2357142857142857,
          "yanchor": "bottom",
          "yref": "paper"
         },
         {
          "font": {},
          "showarrow": false,
          "text": "state=TN",
          "x": 0.30874999999999997,
          "xanchor": "center",
          "xref": "paper",
          "y": 0.2357142857142857,
          "yanchor": "bottom",
          "yref": "paper"
         },
         {
          "font": {},
          "showarrow": false,
          "text": "state=TX",
          "x": 0.43625,
          "xanchor": "center",
          "xref": "paper",
          "y": 0.2357142857142857,
          "yanchor": "bottom",
          "yref": "paper"
         },
         {
          "font": {},
          "showarrow": false,
          "text": "state=UT",
          "x": 0.56375,
          "xanchor": "center",
          "xref": "paper",
          "y": 0.2357142857142857,
          "yanchor": "bottom",
          "yref": "paper"
         },
         {
          "font": {},
          "showarrow": false,
          "text": "state=VA",
          "x": 0.6912499999999999,
          "xanchor": "center",
          "xref": "paper",
          "y": 0.2357142857142857,
          "yanchor": "bottom",
          "yref": "paper"
         },
         {
          "font": {},
          "showarrow": false,
          "text": "state=VT",
          "x": 0.8187500000000001,
          "xanchor": "center",
          "xref": "paper",
          "y": 0.2357142857142857,
          "yanchor": "bottom",
          "yref": "paper"
         },
         {
          "font": {},
          "showarrow": false,
          "text": "state=WA",
          "x": 0.94625,
          "xanchor": "center",
          "xref": "paper",
          "y": 0.2357142857142857,
          "yanchor": "bottom",
          "yref": "paper"
         },
         {
          "font": {},
          "showarrow": false,
          "text": "state=NM",
          "x": 0.05375,
          "xanchor": "center",
          "xref": "paper",
          "y": 0.38857142857142857,
          "yanchor": "bottom",
          "yref": "paper"
         },
         {
          "font": {},
          "showarrow": false,
          "text": "state=NV",
          "x": 0.18125,
          "xanchor": "center",
          "xref": "paper",
          "y": 0.38857142857142857,
          "yanchor": "bottom",
          "yref": "paper"
         },
         {
          "font": {},
          "showarrow": false,
          "text": "state=NY",
          "x": 0.30874999999999997,
          "xanchor": "center",
          "xref": "paper",
          "y": 0.38857142857142857,
          "yanchor": "bottom",
          "yref": "paper"
         },
         {
          "font": {},
          "showarrow": false,
          "text": "state=OH",
          "x": 0.43625,
          "xanchor": "center",
          "xref": "paper",
          "y": 0.38857142857142857,
          "yanchor": "bottom",
          "yref": "paper"
         },
         {
          "font": {},
          "showarrow": false,
          "text": "state=OK",
          "x": 0.56375,
          "xanchor": "center",
          "xref": "paper",
          "y": 0.38857142857142857,
          "yanchor": "bottom",
          "yref": "paper"
         },
         {
          "font": {},
          "showarrow": false,
          "text": "state=OR",
          "x": 0.6912499999999999,
          "xanchor": "center",
          "xref": "paper",
          "y": 0.38857142857142857,
          "yanchor": "bottom",
          "yref": "paper"
         },
         {
          "font": {},
          "showarrow": false,
          "text": "state=PA",
          "x": 0.8187500000000001,
          "xanchor": "center",
          "xref": "paper",
          "y": 0.38857142857142857,
          "yanchor": "bottom",
          "yref": "paper"
         },
         {
          "font": {},
          "showarrow": false,
          "text": "state=RI",
          "x": 0.94625,
          "xanchor": "center",
          "xref": "paper",
          "y": 0.38857142857142857,
          "yanchor": "bottom",
          "yref": "paper"
         },
         {
          "font": {},
          "showarrow": false,
          "text": "state=MO",
          "x": 0.05375,
          "xanchor": "center",
          "xref": "paper",
          "y": 0.5414285714285714,
          "yanchor": "bottom",
          "yref": "paper"
         },
         {
          "font": {},
          "showarrow": false,
          "text": "state=MS",
          "x": 0.18125,
          "xanchor": "center",
          "xref": "paper",
          "y": 0.5414285714285714,
          "yanchor": "bottom",
          "yref": "paper"
         },
         {
          "font": {},
          "showarrow": false,
          "text": "state=MT",
          "x": 0.30874999999999997,
          "xanchor": "center",
          "xref": "paper",
          "y": 0.5414285714285714,
          "yanchor": "bottom",
          "yref": "paper"
         },
         {
          "font": {},
          "showarrow": false,
          "text": "state=NC",
          "x": 0.43625,
          "xanchor": "center",
          "xref": "paper",
          "y": 0.5414285714285714,
          "yanchor": "bottom",
          "yref": "paper"
         },
         {
          "font": {},
          "showarrow": false,
          "text": "state=ND",
          "x": 0.56375,
          "xanchor": "center",
          "xref": "paper",
          "y": 0.5414285714285714,
          "yanchor": "bottom",
          "yref": "paper"
         },
         {
          "font": {},
          "showarrow": false,
          "text": "state=NE",
          "x": 0.6912499999999999,
          "xanchor": "center",
          "xref": "paper",
          "y": 0.5414285714285714,
          "yanchor": "bottom",
          "yref": "paper"
         },
         {
          "font": {},
          "showarrow": false,
          "text": "state=NH",
          "x": 0.8187500000000001,
          "xanchor": "center",
          "xref": "paper",
          "y": 0.5414285714285714,
          "yanchor": "bottom",
          "yref": "paper"
         },
         {
          "font": {},
          "showarrow": false,
          "text": "state=NJ",
          "x": 0.94625,
          "xanchor": "center",
          "xref": "paper",
          "y": 0.5414285714285714,
          "yanchor": "bottom",
          "yref": "paper"
         },
         {
          "font": {},
          "showarrow": false,
          "text": "state=KS",
          "x": 0.05375,
          "xanchor": "center",
          "xref": "paper",
          "y": 0.6942857142857143,
          "yanchor": "bottom",
          "yref": "paper"
         },
         {
          "font": {},
          "showarrow": false,
          "text": "state=KY",
          "x": 0.18125,
          "xanchor": "center",
          "xref": "paper",
          "y": 0.6942857142857143,
          "yanchor": "bottom",
          "yref": "paper"
         },
         {
          "font": {},
          "showarrow": false,
          "text": "state=LA",
          "x": 0.30874999999999997,
          "xanchor": "center",
          "xref": "paper",
          "y": 0.6942857142857143,
          "yanchor": "bottom",
          "yref": "paper"
         },
         {
          "font": {},
          "showarrow": false,
          "text": "state=MA",
          "x": 0.43625,
          "xanchor": "center",
          "xref": "paper",
          "y": 0.6942857142857143,
          "yanchor": "bottom",
          "yref": "paper"
         },
         {
          "font": {},
          "showarrow": false,
          "text": "state=MD",
          "x": 0.56375,
          "xanchor": "center",
          "xref": "paper",
          "y": 0.6942857142857143,
          "yanchor": "bottom",
          "yref": "paper"
         },
         {
          "font": {},
          "showarrow": false,
          "text": "state=ME",
          "x": 0.6912499999999999,
          "xanchor": "center",
          "xref": "paper",
          "y": 0.6942857142857143,
          "yanchor": "bottom",
          "yref": "paper"
         },
         {
          "font": {},
          "showarrow": false,
          "text": "state=MI",
          "x": 0.8187500000000001,
          "xanchor": "center",
          "xref": "paper",
          "y": 0.6942857142857143,
          "yanchor": "bottom",
          "yref": "paper"
         },
         {
          "font": {},
          "showarrow": false,
          "text": "state=MN",
          "x": 0.94625,
          "xanchor": "center",
          "xref": "paper",
          "y": 0.6942857142857143,
          "yanchor": "bottom",
          "yref": "paper"
         },
         {
          "font": {},
          "showarrow": false,
          "text": "state=DE",
          "x": 0.05375,
          "xanchor": "center",
          "xref": "paper",
          "y": 0.8471428571428571,
          "yanchor": "bottom",
          "yref": "paper"
         },
         {
          "font": {},
          "showarrow": false,
          "text": "state=FL",
          "x": 0.18125,
          "xanchor": "center",
          "xref": "paper",
          "y": 0.8471428571428571,
          "yanchor": "bottom",
          "yref": "paper"
         },
         {
          "font": {},
          "showarrow": false,
          "text": "state=GA",
          "x": 0.30874999999999997,
          "xanchor": "center",
          "xref": "paper",
          "y": 0.8471428571428571,
          "yanchor": "bottom",
          "yref": "paper"
         },
         {
          "font": {},
          "showarrow": false,
          "text": "state=HI",
          "x": 0.43625,
          "xanchor": "center",
          "xref": "paper",
          "y": 0.8471428571428571,
          "yanchor": "bottom",
          "yref": "paper"
         },
         {
          "font": {},
          "showarrow": false,
          "text": "state=IA",
          "x": 0.56375,
          "xanchor": "center",
          "xref": "paper",
          "y": 0.8471428571428571,
          "yanchor": "bottom",
          "yref": "paper"
         },
         {
          "font": {},
          "showarrow": false,
          "text": "state=ID",
          "x": 0.6912499999999999,
          "xanchor": "center",
          "xref": "paper",
          "y": 0.8471428571428571,
          "yanchor": "bottom",
          "yref": "paper"
         },
         {
          "font": {},
          "showarrow": false,
          "text": "state=IL",
          "x": 0.8187500000000001,
          "xanchor": "center",
          "xref": "paper",
          "y": 0.8471428571428571,
          "yanchor": "bottom",
          "yref": "paper"
         },
         {
          "font": {},
          "showarrow": false,
          "text": "state=IN",
          "x": 0.94625,
          "xanchor": "center",
          "xref": "paper",
          "y": 0.8471428571428571,
          "yanchor": "bottom",
          "yref": "paper"
         },
         {
          "font": {},
          "showarrow": false,
          "text": "state=AK",
          "x": 0.05375,
          "xanchor": "center",
          "xref": "paper",
          "y": 1,
          "yanchor": "bottom",
          "yref": "paper"
         },
         {
          "font": {},
          "showarrow": false,
          "text": "state=AL",
          "x": 0.18125,
          "xanchor": "center",
          "xref": "paper",
          "y": 1,
          "yanchor": "bottom",
          "yref": "paper"
         },
         {
          "font": {},
          "showarrow": false,
          "text": "state=AR",
          "x": 0.30874999999999997,
          "xanchor": "center",
          "xref": "paper",
          "y": 1,
          "yanchor": "bottom",
          "yref": "paper"
         },
         {
          "font": {},
          "showarrow": false,
          "text": "state=AZ",
          "x": 0.43625,
          "xanchor": "center",
          "xref": "paper",
          "y": 1,
          "yanchor": "bottom",
          "yref": "paper"
         },
         {
          "font": {},
          "showarrow": false,
          "text": "state=CA",
          "x": 0.56375,
          "xanchor": "center",
          "xref": "paper",
          "y": 1,
          "yanchor": "bottom",
          "yref": "paper"
         },
         {
          "font": {},
          "showarrow": false,
          "text": "state=CO",
          "x": 0.6912499999999999,
          "xanchor": "center",
          "xref": "paper",
          "y": 1,
          "yanchor": "bottom",
          "yref": "paper"
         },
         {
          "font": {},
          "showarrow": false,
          "text": "state=CT",
          "x": 0.8187500000000001,
          "xanchor": "center",
          "xref": "paper",
          "y": 1,
          "yanchor": "bottom",
          "yref": "paper"
         },
         {
          "font": {},
          "showarrow": false,
          "text": "state=DC",
          "x": 0.94625,
          "xanchor": "center",
          "xref": "paper",
          "y": 1,
          "yanchor": "bottom",
          "yref": "paper"
         }
        ],
        "legend": {
         "title": {
          "text": "estimate_type"
         },
         "tracegroupgap": 0
        },
        "margin": {
         "t": 60
        },
        "template": {
         "data": {
          "bar": [
           {
            "error_x": {
             "color": "#2a3f5f"
            },
            "error_y": {
             "color": "#2a3f5f"
            },
            "marker": {
             "line": {
              "color": "#E5ECF6",
              "width": 0.5
             }
            },
            "type": "bar"
           }
          ],
          "barpolar": [
           {
            "marker": {
             "line": {
              "color": "#E5ECF6",
              "width": 0.5
             }
            },
            "type": "barpolar"
           }
          ],
          "carpet": [
           {
            "aaxis": {
             "endlinecolor": "#2a3f5f",
             "gridcolor": "white",
             "linecolor": "white",
             "minorgridcolor": "white",
             "startlinecolor": "#2a3f5f"
            },
            "baxis": {
             "endlinecolor": "#2a3f5f",
             "gridcolor": "white",
             "linecolor": "white",
             "minorgridcolor": "white",
             "startlinecolor": "#2a3f5f"
            },
            "type": "carpet"
           }
          ],
          "choropleth": [
           {
            "colorbar": {
             "outlinewidth": 0,
             "ticks": ""
            },
            "type": "choropleth"
           }
          ],
          "contour": [
           {
            "colorbar": {
             "outlinewidth": 0,
             "ticks": ""
            },
            "colorscale": [
             [
              0,
              "#0d0887"
             ],
             [
              0.1111111111111111,
              "#46039f"
             ],
             [
              0.2222222222222222,
              "#7201a8"
             ],
             [
              0.3333333333333333,
              "#9c179e"
             ],
             [
              0.4444444444444444,
              "#bd3786"
             ],
             [
              0.5555555555555556,
              "#d8576b"
             ],
             [
              0.6666666666666666,
              "#ed7953"
             ],
             [
              0.7777777777777778,
              "#fb9f3a"
             ],
             [
              0.8888888888888888,
              "#fdca26"
             ],
             [
              1,
              "#f0f921"
             ]
            ],
            "type": "contour"
           }
          ],
          "contourcarpet": [
           {
            "colorbar": {
             "outlinewidth": 0,
             "ticks": ""
            },
            "type": "contourcarpet"
           }
          ],
          "heatmap": [
           {
            "colorbar": {
             "outlinewidth": 0,
             "ticks": ""
            },
            "colorscale": [
             [
              0,
              "#0d0887"
             ],
             [
              0.1111111111111111,
              "#46039f"
             ],
             [
              0.2222222222222222,
              "#7201a8"
             ],
             [
              0.3333333333333333,
              "#9c179e"
             ],
             [
              0.4444444444444444,
              "#bd3786"
             ],
             [
              0.5555555555555556,
              "#d8576b"
             ],
             [
              0.6666666666666666,
              "#ed7953"
             ],
             [
              0.7777777777777778,
              "#fb9f3a"
             ],
             [
              0.8888888888888888,
              "#fdca26"
             ],
             [
              1,
              "#f0f921"
             ]
            ],
            "type": "heatmap"
           }
          ],
          "heatmapgl": [
           {
            "colorbar": {
             "outlinewidth": 0,
             "ticks": ""
            },
            "colorscale": [
             [
              0,
              "#0d0887"
             ],
             [
              0.1111111111111111,
              "#46039f"
             ],
             [
              0.2222222222222222,
              "#7201a8"
             ],
             [
              0.3333333333333333,
              "#9c179e"
             ],
             [
              0.4444444444444444,
              "#bd3786"
             ],
             [
              0.5555555555555556,
              "#d8576b"
             ],
             [
              0.6666666666666666,
              "#ed7953"
             ],
             [
              0.7777777777777778,
              "#fb9f3a"
             ],
             [
              0.8888888888888888,
              "#fdca26"
             ],
             [
              1,
              "#f0f921"
             ]
            ],
            "type": "heatmapgl"
           }
          ],
          "histogram": [
           {
            "marker": {
             "colorbar": {
              "outlinewidth": 0,
              "ticks": ""
             }
            },
            "type": "histogram"
           }
          ],
          "histogram2d": [
           {
            "colorbar": {
             "outlinewidth": 0,
             "ticks": ""
            },
            "colorscale": [
             [
              0,
              "#0d0887"
             ],
             [
              0.1111111111111111,
              "#46039f"
             ],
             [
              0.2222222222222222,
              "#7201a8"
             ],
             [
              0.3333333333333333,
              "#9c179e"
             ],
             [
              0.4444444444444444,
              "#bd3786"
             ],
             [
              0.5555555555555556,
              "#d8576b"
             ],
             [
              0.6666666666666666,
              "#ed7953"
             ],
             [
              0.7777777777777778,
              "#fb9f3a"
             ],
             [
              0.8888888888888888,
              "#fdca26"
             ],
             [
              1,
              "#f0f921"
             ]
            ],
            "type": "histogram2d"
           }
          ],
          "histogram2dcontour": [
           {
            "colorbar": {
             "outlinewidth": 0,
             "ticks": ""
            },
            "colorscale": [
             [
              0,
              "#0d0887"
             ],
             [
              0.1111111111111111,
              "#46039f"
             ],
             [
              0.2222222222222222,
              "#7201a8"
             ],
             [
              0.3333333333333333,
              "#9c179e"
             ],
             [
              0.4444444444444444,
              "#bd3786"
             ],
             [
              0.5555555555555556,
              "#d8576b"
             ],
             [
              0.6666666666666666,
              "#ed7953"
             ],
             [
              0.7777777777777778,
              "#fb9f3a"
             ],
             [
              0.8888888888888888,
              "#fdca26"
             ],
             [
              1,
              "#f0f921"
             ]
            ],
            "type": "histogram2dcontour"
           }
          ],
          "mesh3d": [
           {
            "colorbar": {
             "outlinewidth": 0,
             "ticks": ""
            },
            "type": "mesh3d"
           }
          ],
          "parcoords": [
           {
            "line": {
             "colorbar": {
              "outlinewidth": 0,
              "ticks": ""
             }
            },
            "type": "parcoords"
           }
          ],
          "pie": [
           {
            "automargin": true,
            "type": "pie"
           }
          ],
          "scatter": [
           {
            "marker": {
             "colorbar": {
              "outlinewidth": 0,
              "ticks": ""
             }
            },
            "type": "scatter"
           }
          ],
          "scatter3d": [
           {
            "line": {
             "colorbar": {
              "outlinewidth": 0,
              "ticks": ""
             }
            },
            "marker": {
             "colorbar": {
              "outlinewidth": 0,
              "ticks": ""
             }
            },
            "type": "scatter3d"
           }
          ],
          "scattercarpet": [
           {
            "marker": {
             "colorbar": {
              "outlinewidth": 0,
              "ticks": ""
             }
            },
            "type": "scattercarpet"
           }
          ],
          "scattergeo": [
           {
            "marker": {
             "colorbar": {
              "outlinewidth": 0,
              "ticks": ""
             }
            },
            "type": "scattergeo"
           }
          ],
          "scattergl": [
           {
            "marker": {
             "colorbar": {
              "outlinewidth": 0,
              "ticks": ""
             }
            },
            "type": "scattergl"
           }
          ],
          "scattermapbox": [
           {
            "marker": {
             "colorbar": {
              "outlinewidth": 0,
              "ticks": ""
             }
            },
            "type": "scattermapbox"
           }
          ],
          "scatterpolar": [
           {
            "marker": {
             "colorbar": {
              "outlinewidth": 0,
              "ticks": ""
             }
            },
            "type": "scatterpolar"
           }
          ],
          "scatterpolargl": [
           {
            "marker": {
             "colorbar": {
              "outlinewidth": 0,
              "ticks": ""
             }
            },
            "type": "scatterpolargl"
           }
          ],
          "scatterternary": [
           {
            "marker": {
             "colorbar": {
              "outlinewidth": 0,
              "ticks": ""
             }
            },
            "type": "scatterternary"
           }
          ],
          "surface": [
           {
            "colorbar": {
             "outlinewidth": 0,
             "ticks": ""
            },
            "colorscale": [
             [
              0,
              "#0d0887"
             ],
             [
              0.1111111111111111,
              "#46039f"
             ],
             [
              0.2222222222222222,
              "#7201a8"
             ],
             [
              0.3333333333333333,
              "#9c179e"
             ],
             [
              0.4444444444444444,
              "#bd3786"
             ],
             [
              0.5555555555555556,
              "#d8576b"
             ],
             [
              0.6666666666666666,
              "#ed7953"
             ],
             [
              0.7777777777777778,
              "#fb9f3a"
             ],
             [
              0.8888888888888888,
              "#fdca26"
             ],
             [
              1,
              "#f0f921"
             ]
            ],
            "type": "surface"
           }
          ],
          "table": [
           {
            "cells": {
             "fill": {
              "color": "#EBF0F8"
             },
             "line": {
              "color": "white"
             }
            },
            "header": {
             "fill": {
              "color": "#C8D4E3"
             },
             "line": {
              "color": "white"
             }
            },
            "type": "table"
           }
          ]
         },
         "layout": {
          "annotationdefaults": {
           "arrowcolor": "#2a3f5f",
           "arrowhead": 0,
           "arrowwidth": 1
          },
          "coloraxis": {
           "colorbar": {
            "outlinewidth": 0,
            "ticks": ""
           }
          },
          "colorscale": {
           "diverging": [
            [
             0,
             "#8e0152"
            ],
            [
             0.1,
             "#c51b7d"
            ],
            [
             0.2,
             "#de77ae"
            ],
            [
             0.3,
             "#f1b6da"
            ],
            [
             0.4,
             "#fde0ef"
            ],
            [
             0.5,
             "#f7f7f7"
            ],
            [
             0.6,
             "#e6f5d0"
            ],
            [
             0.7,
             "#b8e186"
            ],
            [
             0.8,
             "#7fbc41"
            ],
            [
             0.9,
             "#4d9221"
            ],
            [
             1,
             "#276419"
            ]
           ],
           "sequential": [
            [
             0,
             "#0d0887"
            ],
            [
             0.1111111111111111,
             "#46039f"
            ],
            [
             0.2222222222222222,
             "#7201a8"
            ],
            [
             0.3333333333333333,
             "#9c179e"
            ],
            [
             0.4444444444444444,
             "#bd3786"
            ],
            [
             0.5555555555555556,
             "#d8576b"
            ],
            [
             0.6666666666666666,
             "#ed7953"
            ],
            [
             0.7777777777777778,
             "#fb9f3a"
            ],
            [
             0.8888888888888888,
             "#fdca26"
            ],
            [
             1,
             "#f0f921"
            ]
           ],
           "sequentialminus": [
            [
             0,
             "#0d0887"
            ],
            [
             0.1111111111111111,
             "#46039f"
            ],
            [
             0.2222222222222222,
             "#7201a8"
            ],
            [
             0.3333333333333333,
             "#9c179e"
            ],
            [
             0.4444444444444444,
             "#bd3786"
            ],
            [
             0.5555555555555556,
             "#d8576b"
            ],
            [
             0.6666666666666666,
             "#ed7953"
            ],
            [
             0.7777777777777778,
             "#fb9f3a"
            ],
            [
             0.8888888888888888,
             "#fdca26"
            ],
            [
             1,
             "#f0f921"
            ]
           ]
          },
          "colorway": [
           "#636efa",
           "#EF553B",
           "#00cc96",
           "#ab63fa",
           "#FFA15A",
           "#19d3f3",
           "#FF6692",
           "#B6E880",
           "#FF97FF",
           "#FECB52"
          ],
          "font": {
           "color": "#2a3f5f"
          },
          "geo": {
           "bgcolor": "white",
           "lakecolor": "white",
           "landcolor": "#E5ECF6",
           "showlakes": true,
           "showland": true,
           "subunitcolor": "white"
          },
          "hoverlabel": {
           "align": "left"
          },
          "hovermode": "closest",
          "mapbox": {
           "style": "light"
          },
          "paper_bgcolor": "white",
          "plot_bgcolor": "#E5ECF6",
          "polar": {
           "angularaxis": {
            "gridcolor": "white",
            "linecolor": "white",
            "ticks": ""
           },
           "bgcolor": "#E5ECF6",
           "radialaxis": {
            "gridcolor": "white",
            "linecolor": "white",
            "ticks": ""
           }
          },
          "scene": {
           "xaxis": {
            "backgroundcolor": "#E5ECF6",
            "gridcolor": "white",
            "gridwidth": 2,
            "linecolor": "white",
            "showbackground": true,
            "ticks": "",
            "zerolinecolor": "white"
           },
           "yaxis": {
            "backgroundcolor": "#E5ECF6",
            "gridcolor": "white",
            "gridwidth": 2,
            "linecolor": "white",
            "showbackground": true,
            "ticks": "",
            "zerolinecolor": "white"
           },
           "zaxis": {
            "backgroundcolor": "#E5ECF6",
            "gridcolor": "white",
            "gridwidth": 2,
            "linecolor": "white",
            "showbackground": true,
            "ticks": "",
            "zerolinecolor": "white"
           }
          },
          "shapedefaults": {
           "line": {
            "color": "#2a3f5f"
           }
          },
          "ternary": {
           "aaxis": {
            "gridcolor": "white",
            "linecolor": "white",
            "ticks": ""
           },
           "baxis": {
            "gridcolor": "white",
            "linecolor": "white",
            "ticks": ""
           },
           "bgcolor": "#E5ECF6",
           "caxis": {
            "gridcolor": "white",
            "linecolor": "white",
            "ticks": ""
           }
          },
          "title": {
           "x": 0.05
          },
          "xaxis": {
           "automargin": true,
           "gridcolor": "white",
           "linecolor": "white",
           "ticks": "",
           "title": {
            "standoff": 15
           },
           "zerolinecolor": "white",
           "zerolinewidth": 2
          },
          "yaxis": {
           "automargin": true,
           "gridcolor": "white",
           "linecolor": "white",
           "ticks": "",
           "title": {
            "standoff": 15
           },
           "zerolinecolor": "white",
           "zerolinewidth": 2
          }
         }
        },
        "title": {
         "text": "State Estimates of Consumer Debt-to-Income"
        },
        "xaxis": {
         "anchor": "y",
         "domain": [
          0,
          0.1075
         ],
         "title": {
          "text": "year"
         }
        },
        "xaxis10": {
         "anchor": "y10",
         "domain": [
          0.1275,
          0.235
         ],
         "matches": "x",
         "showticklabels": false
        },
        "xaxis11": {
         "anchor": "y11",
         "domain": [
          0.255,
          0.3625
         ],
         "matches": "x",
         "showticklabels": false
        },
        "xaxis12": {
         "anchor": "y12",
         "domain": [
          0.3825,
          0.49
         ],
         "matches": "x",
         "showticklabels": false
        },
        "xaxis13": {
         "anchor": "y13",
         "domain": [
          0.51,
          0.6175
         ],
         "matches": "x",
         "showticklabels": false
        },
        "xaxis14": {
         "anchor": "y14",
         "domain": [
          0.6375,
          0.745
         ],
         "matches": "x",
         "showticklabels": false
        },
        "xaxis15": {
         "anchor": "y15",
         "domain": [
          0.765,
          0.8725
         ],
         "matches": "x",
         "showticklabels": false
        },
        "xaxis16": {
         "anchor": "y16",
         "domain": [
          0.8925000000000001,
          1
         ],
         "matches": "x",
         "showticklabels": false
        },
        "xaxis17": {
         "anchor": "y17",
         "domain": [
          0,
          0.1075
         ],
         "matches": "x",
         "showticklabels": false
        },
        "xaxis18": {
         "anchor": "y18",
         "domain": [
          0.1275,
          0.235
         ],
         "matches": "x",
         "showticklabels": false
        },
        "xaxis19": {
         "anchor": "y19",
         "domain": [
          0.255,
          0.3625
         ],
         "matches": "x",
         "showticklabels": false
        },
        "xaxis2": {
         "anchor": "y2",
         "domain": [
          0.1275,
          0.235
         ],
         "matches": "x",
         "title": {
          "text": "year"
         }
        },
        "xaxis20": {
         "anchor": "y20",
         "domain": [
          0.3825,
          0.49
         ],
         "matches": "x",
         "showticklabels": false
        },
        "xaxis21": {
         "anchor": "y21",
         "domain": [
          0.51,
          0.6175
         ],
         "matches": "x",
         "showticklabels": false
        },
        "xaxis22": {
         "anchor": "y22",
         "domain": [
          0.6375,
          0.745
         ],
         "matches": "x",
         "showticklabels": false
        },
        "xaxis23": {
         "anchor": "y23",
         "domain": [
          0.765,
          0.8725
         ],
         "matches": "x",
         "showticklabels": false
        },
        "xaxis24": {
         "anchor": "y24",
         "domain": [
          0.8925000000000001,
          1
         ],
         "matches": "x",
         "showticklabels": false
        },
        "xaxis25": {
         "anchor": "y25",
         "domain": [
          0,
          0.1075
         ],
         "matches": "x",
         "showticklabels": false
        },
        "xaxis26": {
         "anchor": "y26",
         "domain": [
          0.1275,
          0.235
         ],
         "matches": "x",
         "showticklabels": false
        },
        "xaxis27": {
         "anchor": "y27",
         "domain": [
          0.255,
          0.3625
         ],
         "matches": "x",
         "showticklabels": false
        },
        "xaxis28": {
         "anchor": "y28",
         "domain": [
          0.3825,
          0.49
         ],
         "matches": "x",
         "showticklabels": false
        },
        "xaxis29": {
         "anchor": "y29",
         "domain": [
          0.51,
          0.6175
         ],
         "matches": "x",
         "showticklabels": false
        },
        "xaxis3": {
         "anchor": "y3",
         "domain": [
          0.255,
          0.3625
         ],
         "matches": "x",
         "title": {
          "text": "year"
         }
        },
        "xaxis30": {
         "anchor": "y30",
         "domain": [
          0.6375,
          0.745
         ],
         "matches": "x",
         "showticklabels": false
        },
        "xaxis31": {
         "anchor": "y31",
         "domain": [
          0.765,
          0.8725
         ],
         "matches": "x",
         "showticklabels": false
        },
        "xaxis32": {
         "anchor": "y32",
         "domain": [
          0.8925000000000001,
          1
         ],
         "matches": "x",
         "showticklabels": false
        },
        "xaxis33": {
         "anchor": "y33",
         "domain": [
          0,
          0.1075
         ],
         "matches": "x",
         "showticklabels": false
        },
        "xaxis34": {
         "anchor": "y34",
         "domain": [
          0.1275,
          0.235
         ],
         "matches": "x",
         "showticklabels": false
        },
        "xaxis35": {
         "anchor": "y35",
         "domain": [
          0.255,
          0.3625
         ],
         "matches": "x",
         "showticklabels": false
        },
        "xaxis36": {
         "anchor": "y36",
         "domain": [
          0.3825,
          0.49
         ],
         "matches": "x",
         "showticklabels": false
        },
        "xaxis37": {
         "anchor": "y37",
         "domain": [
          0.51,
          0.6175
         ],
         "matches": "x",
         "showticklabels": false
        },
        "xaxis38": {
         "anchor": "y38",
         "domain": [
          0.6375,
          0.745
         ],
         "matches": "x",
         "showticklabels": false
        },
        "xaxis39": {
         "anchor": "y39",
         "domain": [
          0.765,
          0.8725
         ],
         "matches": "x",
         "showticklabels": false
        },
        "xaxis4": {
         "anchor": "y4",
         "domain": [
          0.3825,
          0.49
         ],
         "matches": "x",
         "title": {
          "text": "year"
         }
        },
        "xaxis40": {
         "anchor": "y40",
         "domain": [
          0.8925000000000001,
          1
         ],
         "matches": "x",
         "showticklabels": false
        },
        "xaxis41": {
         "anchor": "y41",
         "domain": [
          0,
          0.1075
         ],
         "matches": "x",
         "showticklabels": false
        },
        "xaxis42": {
         "anchor": "y42",
         "domain": [
          0.1275,
          0.235
         ],
         "matches": "x",
         "showticklabels": false
        },
        "xaxis43": {
         "anchor": "y43",
         "domain": [
          0.255,
          0.3625
         ],
         "matches": "x",
         "showticklabels": false
        },
        "xaxis44": {
         "anchor": "y44",
         "domain": [
          0.3825,
          0.49
         ],
         "matches": "x",
         "showticklabels": false
        },
        "xaxis45": {
         "anchor": "y45",
         "domain": [
          0.51,
          0.6175
         ],
         "matches": "x",
         "showticklabels": false
        },
        "xaxis46": {
         "anchor": "y46",
         "domain": [
          0.6375,
          0.745
         ],
         "matches": "x",
         "showticklabels": false
        },
        "xaxis47": {
         "anchor": "y47",
         "domain": [
          0.765,
          0.8725
         ],
         "matches": "x",
         "showticklabels": false
        },
        "xaxis48": {
         "anchor": "y48",
         "domain": [
          0.8925000000000001,
          1
         ],
         "matches": "x",
         "showticklabels": false
        },
        "xaxis49": {
         "anchor": "y49",
         "domain": [
          0,
          0.1075
         ],
         "matches": "x",
         "showticklabels": false
        },
        "xaxis5": {
         "anchor": "y5",
         "domain": [
          0.51,
          0.6175
         ],
         "matches": "x",
         "title": {
          "text": "year"
         }
        },
        "xaxis50": {
         "anchor": "y50",
         "domain": [
          0.1275,
          0.235
         ],
         "matches": "x",
         "showticklabels": false
        },
        "xaxis51": {
         "anchor": "y51",
         "domain": [
          0.255,
          0.3625
         ],
         "matches": "x",
         "showticklabels": false
        },
        "xaxis52": {
         "anchor": "y52",
         "domain": [
          0.3825,
          0.49
         ],
         "matches": "x",
         "showticklabels": false
        },
        "xaxis53": {
         "anchor": "y53",
         "domain": [
          0.51,
          0.6175
         ],
         "matches": "x",
         "showticklabels": false
        },
        "xaxis54": {
         "anchor": "y54",
         "domain": [
          0.6375,
          0.745
         ],
         "matches": "x",
         "showticklabels": false
        },
        "xaxis55": {
         "anchor": "y55",
         "domain": [
          0.765,
          0.8725
         ],
         "matches": "x",
         "showticklabels": false
        },
        "xaxis56": {
         "anchor": "y56",
         "domain": [
          0.8925000000000001,
          1
         ],
         "matches": "x",
         "showticklabels": false
        },
        "xaxis6": {
         "anchor": "y6",
         "domain": [
          0.6375,
          0.745
         ],
         "matches": "x",
         "title": {
          "text": "year"
         }
        },
        "xaxis7": {
         "anchor": "y7",
         "domain": [
          0.765,
          0.8725
         ],
         "matches": "x",
         "title": {
          "text": "year"
         }
        },
        "xaxis8": {
         "anchor": "y8",
         "domain": [
          0.8925000000000001,
          1
         ],
         "matches": "x",
         "title": {
          "text": "year"
         }
        },
        "xaxis9": {
         "anchor": "y9",
         "domain": [
          0,
          0.1075
         ],
         "matches": "x",
         "showticklabels": false
        },
        "yaxis": {
         "anchor": "x",
         "domain": [
          0,
          0.08285714285714285
         ],
         "title": {
          "text": "average_estimate"
         }
        },
        "yaxis10": {
         "anchor": "x10",
         "domain": [
          0.15285714285714286,
          0.2357142857142857
         ],
         "matches": "y",
         "showticklabels": false
        },
        "yaxis11": {
         "anchor": "x11",
         "domain": [
          0.15285714285714286,
          0.2357142857142857
         ],
         "matches": "y",
         "showticklabels": false
        },
        "yaxis12": {
         "anchor": "x12",
         "domain": [
          0.15285714285714286,
          0.2357142857142857
         ],
         "matches": "y",
         "showticklabels": false
        },
        "yaxis13": {
         "anchor": "x13",
         "domain": [
          0.15285714285714286,
          0.2357142857142857
         ],
         "matches": "y",
         "showticklabels": false
        },
        "yaxis14": {
         "anchor": "x14",
         "domain": [
          0.15285714285714286,
          0.2357142857142857
         ],
         "matches": "y",
         "showticklabels": false
        },
        "yaxis15": {
         "anchor": "x15",
         "domain": [
          0.15285714285714286,
          0.2357142857142857
         ],
         "matches": "y",
         "showticklabels": false
        },
        "yaxis16": {
         "anchor": "x16",
         "domain": [
          0.15285714285714286,
          0.2357142857142857
         ],
         "matches": "y",
         "showticklabels": false
        },
        "yaxis17": {
         "anchor": "x17",
         "domain": [
          0.3057142857142857,
          0.38857142857142857
         ],
         "matches": "y",
         "title": {
          "text": "average_estimate"
         }
        },
        "yaxis18": {
         "anchor": "x18",
         "domain": [
          0.3057142857142857,
          0.38857142857142857
         ],
         "matches": "y",
         "showticklabels": false
        },
        "yaxis19": {
         "anchor": "x19",
         "domain": [
          0.3057142857142857,
          0.38857142857142857
         ],
         "matches": "y",
         "showticklabels": false
        },
        "yaxis2": {
         "anchor": "x2",
         "domain": [
          0,
          0.08285714285714285
         ],
         "matches": "y",
         "showticklabels": false
        },
        "yaxis20": {
         "anchor": "x20",
         "domain": [
          0.3057142857142857,
          0.38857142857142857
         ],
         "matches": "y",
         "showticklabels": false
        },
        "yaxis21": {
         "anchor": "x21",
         "domain": [
          0.3057142857142857,
          0.38857142857142857
         ],
         "matches": "y",
         "showticklabels": false
        },
        "yaxis22": {
         "anchor": "x22",
         "domain": [
          0.3057142857142857,
          0.38857142857142857
         ],
         "matches": "y",
         "showticklabels": false
        },
        "yaxis23": {
         "anchor": "x23",
         "domain": [
          0.3057142857142857,
          0.38857142857142857
         ],
         "matches": "y",
         "showticklabels": false
        },
        "yaxis24": {
         "anchor": "x24",
         "domain": [
          0.3057142857142857,
          0.38857142857142857
         ],
         "matches": "y",
         "showticklabels": false
        },
        "yaxis25": {
         "anchor": "x25",
         "domain": [
          0.4585714285714286,
          0.5414285714285714
         ],
         "matches": "y",
         "title": {
          "text": "average_estimate"
         }
        },
        "yaxis26": {
         "anchor": "x26",
         "domain": [
          0.4585714285714286,
          0.5414285714285714
         ],
         "matches": "y",
         "showticklabels": false
        },
        "yaxis27": {
         "anchor": "x27",
         "domain": [
          0.4585714285714286,
          0.5414285714285714
         ],
         "matches": "y",
         "showticklabels": false
        },
        "yaxis28": {
         "anchor": "x28",
         "domain": [
          0.4585714285714286,
          0.5414285714285714
         ],
         "matches": "y",
         "showticklabels": false
        },
        "yaxis29": {
         "anchor": "x29",
         "domain": [
          0.4585714285714286,
          0.5414285714285714
         ],
         "matches": "y",
         "showticklabels": false
        },
        "yaxis3": {
         "anchor": "x3",
         "domain": [
          0,
          0.08285714285714285
         ],
         "matches": "y",
         "showticklabels": false
        },
        "yaxis30": {
         "anchor": "x30",
         "domain": [
          0.4585714285714286,
          0.5414285714285714
         ],
         "matches": "y",
         "showticklabels": false
        },
        "yaxis31": {
         "anchor": "x31",
         "domain": [
          0.4585714285714286,
          0.5414285714285714
         ],
         "matches": "y",
         "showticklabels": false
        },
        "yaxis32": {
         "anchor": "x32",
         "domain": [
          0.4585714285714286,
          0.5414285714285714
         ],
         "matches": "y",
         "showticklabels": false
        },
        "yaxis33": {
         "anchor": "x33",
         "domain": [
          0.6114285714285714,
          0.6942857142857143
         ],
         "matches": "y",
         "title": {
          "text": "average_estimate"
         }
        },
        "yaxis34": {
         "anchor": "x34",
         "domain": [
          0.6114285714285714,
          0.6942857142857143
         ],
         "matches": "y",
         "showticklabels": false
        },
        "yaxis35": {
         "anchor": "x35",
         "domain": [
          0.6114285714285714,
          0.6942857142857143
         ],
         "matches": "y",
         "showticklabels": false
        },
        "yaxis36": {
         "anchor": "x36",
         "domain": [
          0.6114285714285714,
          0.6942857142857143
         ],
         "matches": "y",
         "showticklabels": false
        },
        "yaxis37": {
         "anchor": "x37",
         "domain": [
          0.6114285714285714,
          0.6942857142857143
         ],
         "matches": "y",
         "showticklabels": false
        },
        "yaxis38": {
         "anchor": "x38",
         "domain": [
          0.6114285714285714,
          0.6942857142857143
         ],
         "matches": "y",
         "showticklabels": false
        },
        "yaxis39": {
         "anchor": "x39",
         "domain": [
          0.6114285714285714,
          0.6942857142857143
         ],
         "matches": "y",
         "showticklabels": false
        },
        "yaxis4": {
         "anchor": "x4",
         "domain": [
          0,
          0.08285714285714285
         ],
         "matches": "y",
         "showticklabels": false
        },
        "yaxis40": {
         "anchor": "x40",
         "domain": [
          0.6114285714285714,
          0.6942857142857143
         ],
         "matches": "y",
         "showticklabels": false
        },
        "yaxis41": {
         "anchor": "x41",
         "domain": [
          0.7642857142857142,
          0.8471428571428571
         ],
         "matches": "y",
         "title": {
          "text": "average_estimate"
         }
        },
        "yaxis42": {
         "anchor": "x42",
         "domain": [
          0.7642857142857142,
          0.8471428571428571
         ],
         "matches": "y",
         "showticklabels": false
        },
        "yaxis43": {
         "anchor": "x43",
         "domain": [
          0.7642857142857142,
          0.8471428571428571
         ],
         "matches": "y",
         "showticklabels": false
        },
        "yaxis44": {
         "anchor": "x44",
         "domain": [
          0.7642857142857142,
          0.8471428571428571
         ],
         "matches": "y",
         "showticklabels": false
        },
        "yaxis45": {
         "anchor": "x45",
         "domain": [
          0.7642857142857142,
          0.8471428571428571
         ],
         "matches": "y",
         "showticklabels": false
        },
        "yaxis46": {
         "anchor": "x46",
         "domain": [
          0.7642857142857142,
          0.8471428571428571
         ],
         "matches": "y",
         "showticklabels": false
        },
        "yaxis47": {
         "anchor": "x47",
         "domain": [
          0.7642857142857142,
          0.8471428571428571
         ],
         "matches": "y",
         "showticklabels": false
        },
        "yaxis48": {
         "anchor": "x48",
         "domain": [
          0.7642857142857142,
          0.8471428571428571
         ],
         "matches": "y",
         "showticklabels": false
        },
        "yaxis49": {
         "anchor": "x49",
         "domain": [
          0.9171428571428571,
          1
         ],
         "matches": "y",
         "title": {
          "text": "average_estimate"
         }
        },
        "yaxis5": {
         "anchor": "x5",
         "domain": [
          0,
          0.08285714285714285
         ],
         "matches": "y",
         "showticklabels": false
        },
        "yaxis50": {
         "anchor": "x50",
         "domain": [
          0.9171428571428571,
          1
         ],
         "matches": "y",
         "showticklabels": false
        },
        "yaxis51": {
         "anchor": "x51",
         "domain": [
          0.9171428571428571,
          1
         ],
         "matches": "y",
         "showticklabels": false
        },
        "yaxis52": {
         "anchor": "x52",
         "domain": [
          0.9171428571428571,
          1
         ],
         "matches": "y",
         "showticklabels": false
        },
        "yaxis53": {
         "anchor": "x53",
         "domain": [
          0.9171428571428571,
          1
         ],
         "matches": "y",
         "showticklabels": false
        },
        "yaxis54": {
         "anchor": "x54",
         "domain": [
          0.9171428571428571,
          1
         ],
         "matches": "y",
         "showticklabels": false
        },
        "yaxis55": {
         "anchor": "x55",
         "domain": [
          0.9171428571428571,
          1
         ],
         "matches": "y",
         "showticklabels": false
        },
        "yaxis56": {
         "anchor": "x56",
         "domain": [
          0.9171428571428571,
          1
         ],
         "matches": "y",
         "showticklabels": false
        },
        "yaxis6": {
         "anchor": "x6",
         "domain": [
          0,
          0.08285714285714285
         ],
         "matches": "y",
         "showticklabels": false
        },
        "yaxis7": {
         "anchor": "x7",
         "domain": [
          0,
          0.08285714285714285
         ],
         "matches": "y",
         "showticklabels": false
        },
        "yaxis8": {
         "anchor": "x8",
         "domain": [
          0,
          0.08285714285714285
         ],
         "matches": "y",
         "showticklabels": false
        },
        "yaxis9": {
         "anchor": "x9",
         "domain": [
          0.15285714285714286,
          0.2357142857142857
         ],
         "matches": "y",
         "title": {
          "text": "average_estimate"
         }
        }
       }
      },
      "text/html": [
       "<div>\n",
       "        \n",
       "        \n",
       "            <div id=\"a42ebe4e-9c3c-45ec-9dda-aaae664cbef8\" class=\"plotly-graph-div\" style=\"height:525px; width:100%;\"></div>\n",
       "            <script type=\"text/javascript\">\n",
       "                require([\"plotly\"], function(Plotly) {\n",
       "                    window.PLOTLYENV=window.PLOTLYENV || {};\n",
       "                    \n",
       "                if (document.getElementById(\"a42ebe4e-9c3c-45ec-9dda-aaae664cbef8\")) {\n",
       "                    Plotly.newPlot(\n",
       "                        'a42ebe4e-9c3c-45ec-9dda-aaae664cbef8',\n",
       "                        [{\"hoverlabel\": {\"namelength\": 0}, \"hovertemplate\": \"estimate_type=low<br>state=AK<br>year=%{x}<br>average_estimate=%{y}\", \"legendgroup\": \"low\", \"line\": {\"color\": \"#636efa\", \"dash\": \"solid\"}, \"mode\": \"lines\", \"name\": \"low\", \"showlegend\": true, \"type\": \"scatter\", \"x\": [2015, 2016, 2017], \"xaxis\": \"x49\", \"y\": [1.565, 1.6575, 1.6525], \"yaxis\": \"y49\"}, {\"hoverlabel\": {\"namelength\": 0}, \"hovertemplate\": \"estimate_type=low<br>state=AL<br>year=%{x}<br>average_estimate=%{y}\", \"legendgroup\": \"low\", \"line\": {\"color\": \"#636efa\", \"dash\": \"solid\"}, \"mode\": \"lines\", \"name\": \"low\", \"showlegend\": false, \"type\": \"scatter\", \"x\": [2015, 2016, 2017], \"xaxis\": \"x50\", \"y\": [1.39, 1.39, 1.39], \"yaxis\": \"y50\"}, {\"hoverlabel\": {\"namelength\": 0}, \"hovertemplate\": \"estimate_type=low<br>state=AR<br>year=%{x}<br>average_estimate=%{y}\", \"legendgroup\": \"low\", \"line\": {\"color\": \"#636efa\", \"dash\": \"solid\"}, \"mode\": \"lines\", \"name\": \"low\", \"showlegend\": false, \"type\": \"scatter\", \"x\": [2015, 2016, 2017], \"xaxis\": \"x51\", \"y\": [1.225, 1.2625, 1.2625], \"yaxis\": \"y51\"}, {\"hoverlabel\": {\"namelength\": 0}, \"hovertemplate\": \"estimate_type=low<br>state=AZ<br>year=%{x}<br>average_estimate=%{y}\", \"legendgroup\": \"low\", \"line\": {\"color\": \"#636efa\", \"dash\": \"solid\"}, \"mode\": \"lines\", \"name\": \"low\", \"showlegend\": false, \"type\": \"scatter\", \"x\": [2015, 2016, 2017], \"xaxis\": \"x52\", \"y\": [1.7525, 1.75, 1.7525], \"yaxis\": \"y52\"}, {\"hoverlabel\": {\"namelength\": 0}, \"hovertemplate\": \"estimate_type=low<br>state=CA<br>year=%{x}<br>average_estimate=%{y}\", \"legendgroup\": \"low\", \"line\": {\"color\": \"#636efa\", \"dash\": \"solid\"}, \"mode\": \"lines\", \"name\": \"low\", \"showlegend\": false, \"type\": \"scatter\", \"x\": [2015, 2016, 2017], \"xaxis\": \"x53\", \"y\": [1.7874999999999999, 1.8199999999999998, 1.7525], \"yaxis\": \"y53\"}, {\"hoverlabel\": {\"namelength\": 0}, \"hovertemplate\": \"estimate_type=low<br>state=CO<br>year=%{x}<br>average_estimate=%{y}\", \"legendgroup\": \"low\", \"line\": {\"color\": \"#636efa\", \"dash\": \"solid\"}, \"mode\": \"lines\", \"name\": \"low\", \"showlegend\": false, \"type\": \"scatter\", \"x\": [2015, 2016, 2017], \"xaxis\": \"x54\", \"y\": [1.685, 1.75, 1.7525], \"yaxis\": \"y54\"}, {\"hoverlabel\": {\"namelength\": 0}, \"hovertemplate\": \"estimate_type=low<br>state=CT<br>year=%{x}<br>average_estimate=%{y}\", \"legendgroup\": \"low\", \"line\": {\"color\": \"#636efa\", \"dash\": \"solid\"}, \"mode\": \"lines\", \"name\": \"low\", \"showlegend\": false, \"type\": \"scatter\", \"x\": [2015, 2016, 2017], \"xaxis\": \"x55\", \"y\": [1.4475, 1.44, 1.44], \"yaxis\": \"y55\"}, {\"hoverlabel\": {\"namelength\": 0}, \"hovertemplate\": \"estimate_type=low<br>state=DC<br>year=%{x}<br>average_estimate=%{y}\", \"legendgroup\": \"low\", \"line\": {\"color\": \"#636efa\", \"dash\": \"solid\"}, \"mode\": \"lines\", \"name\": \"low\", \"showlegend\": false, \"type\": \"scatter\", \"x\": [2015, 2016, 2017], \"xaxis\": \"x56\", \"y\": [0.39, 0.39, 0.39], \"yaxis\": \"y56\"}, {\"hoverlabel\": {\"namelength\": 0}, \"hovertemplate\": \"estimate_type=low<br>state=DE<br>year=%{x}<br>average_estimate=%{y}\", \"legendgroup\": \"low\", \"line\": {\"color\": \"#636efa\", \"dash\": \"solid\"}, \"mode\": \"lines\", \"name\": \"low\", \"showlegend\": false, \"type\": \"scatter\", \"x\": [2015, 2016, 2017], \"xaxis\": \"x41\", \"y\": [1.54, 1.5374999999999999, 1.54], \"yaxis\": \"y41\"}, {\"hoverlabel\": {\"namelength\": 0}, \"hovertemplate\": \"estimate_type=low<br>state=FL<br>year=%{x}<br>average_estimate=%{y}\", \"legendgroup\": \"low\", \"line\": {\"color\": \"#636efa\", \"dash\": \"solid\"}, \"mode\": \"lines\", \"name\": \"low\", \"showlegend\": false, \"type\": \"scatter\", \"x\": [2015, 2016, 2017], \"xaxis\": \"x42\", \"y\": [1.69, 1.62, 1.685], \"yaxis\": \"y42\"}, {\"hoverlabel\": {\"namelength\": 0}, \"hovertemplate\": \"estimate_type=low<br>state=GA<br>year=%{x}<br>average_estimate=%{y}\", \"legendgroup\": \"low\", \"line\": {\"color\": \"#636efa\", \"dash\": \"solid\"}, \"mode\": \"lines\", \"name\": \"low\", \"showlegend\": false, \"type\": \"scatter\", \"x\": [2015, 2016, 2017], \"xaxis\": \"x43\", \"y\": [1.46, 1.435, 1.44], \"yaxis\": \"y43\"}, {\"hoverlabel\": {\"namelength\": 0}, \"hovertemplate\": \"estimate_type=low<br>state=HI<br>year=%{x}<br>average_estimate=%{y}\", \"legendgroup\": \"low\", \"line\": {\"color\": \"#636efa\", \"dash\": \"solid\"}, \"mode\": \"lines\", \"name\": \"low\", \"showlegend\": false, \"type\": \"scatter\", \"x\": [2015, 2016, 2017], \"xaxis\": \"x44\", \"y\": [2.07, 2.13, 2.13], \"yaxis\": \"y44\"}, {\"hoverlabel\": {\"namelength\": 0}, \"hovertemplate\": \"estimate_type=low<br>state=IA<br>year=%{x}<br>average_estimate=%{y}\", \"legendgroup\": \"low\", \"line\": {\"color\": \"#636efa\", \"dash\": \"solid\"}, \"mode\": \"lines\", \"name\": \"low\", \"showlegend\": false, \"type\": \"scatter\", \"x\": [2015, 2016, 2017], \"xaxis\": \"x45\", \"y\": [1.09, 1.09, 1.165], \"yaxis\": \"y45\"}, {\"hoverlabel\": {\"namelength\": 0}, \"hovertemplate\": \"estimate_type=low<br>state=ID<br>year=%{x}<br>average_estimate=%{y}\", \"legendgroup\": \"low\", \"line\": {\"color\": \"#636efa\", \"dash\": \"solid\"}, \"mode\": \"lines\", \"name\": \"low\", \"showlegend\": false, \"type\": \"scatter\", \"x\": [2015, 2016, 2017], \"xaxis\": \"x46\", \"y\": [1.855, 1.8199999999999998, 1.855], \"yaxis\": \"y46\"}, {\"hoverlabel\": {\"namelength\": 0}, \"hovertemplate\": \"estimate_type=low<br>state=IL<br>year=%{x}<br>average_estimate=%{y}\", \"legendgroup\": \"low\", \"line\": {\"color\": \"#636efa\", \"dash\": \"solid\"}, \"mode\": \"lines\", \"name\": \"low\", \"showlegend\": false, \"type\": \"scatter\", \"x\": [2015, 2016, 2017], \"xaxis\": \"x47\", \"y\": [1.2475, 1.225, 1.165], \"yaxis\": \"y47\"}, {\"hoverlabel\": {\"namelength\": 0}, \"hovertemplate\": \"estimate_type=low<br>state=IN<br>year=%{x}<br>average_estimate=%{y}\", \"legendgroup\": \"low\", \"line\": {\"color\": \"#636efa\", \"dash\": \"solid\"}, \"mode\": \"lines\", \"name\": \"low\", \"showlegend\": false, \"type\": \"scatter\", \"x\": [2015, 2016, 2017], \"xaxis\": \"x48\", \"y\": [1.2025, 1.24, 1.165], \"yaxis\": \"y48\"}, {\"hoverlabel\": {\"namelength\": 0}, \"hovertemplate\": \"estimate_type=low<br>state=KS<br>year=%{x}<br>average_estimate=%{y}\", \"legendgroup\": \"low\", \"line\": {\"color\": \"#636efa\", \"dash\": \"solid\"}, \"mode\": \"lines\", \"name\": \"low\", \"showlegend\": false, \"type\": \"scatter\", \"x\": [2015, 2016, 2017], \"xaxis\": \"x33\", \"y\": [1.09, 1.09, 1.1275], \"yaxis\": \"y33\"}, {\"hoverlabel\": {\"namelength\": 0}, \"hovertemplate\": \"estimate_type=low<br>state=KY<br>year=%{x}<br>average_estimate=%{y}\", \"legendgroup\": \"low\", \"line\": {\"color\": \"#636efa\", \"dash\": \"solid\"}, \"mode\": \"lines\", \"name\": \"low\", \"showlegend\": false, \"type\": \"scatter\", \"x\": [2015, 2016, 2017], \"xaxis\": \"x34\", \"y\": [1.165, 1.165, 1.1275], \"yaxis\": \"y34\"}, {\"hoverlabel\": {\"namelength\": 0}, \"hovertemplate\": \"estimate_type=low<br>state=LA<br>year=%{x}<br>average_estimate=%{y}\", \"legendgroup\": \"low\", \"line\": {\"color\": \"#636efa\", \"dash\": \"solid\"}, \"mode\": \"lines\", \"name\": \"low\", \"showlegend\": false, \"type\": \"scatter\", \"x\": [2015, 2016, 2017], \"xaxis\": \"x35\", \"y\": [1.2025, 1.3075, 1.35], \"yaxis\": \"y35\"}, {\"hoverlabel\": {\"namelength\": 0}, \"hovertemplate\": \"estimate_type=low<br>state=MA<br>year=%{x}<br>average_estimate=%{y}\", \"legendgroup\": \"low\", \"line\": {\"color\": \"#636efa\", \"dash\": \"solid\"}, \"mode\": \"lines\", \"name\": \"low\", \"showlegend\": false, \"type\": \"scatter\", \"x\": [2015, 2016, 2017], \"xaxis\": \"x36\", \"y\": [1.2475, 1.2625000000000002, 1.21], \"yaxis\": \"y36\"}, {\"hoverlabel\": {\"namelength\": 0}, \"hovertemplate\": \"estimate_type=low<br>state=MD<br>year=%{x}<br>average_estimate=%{y}\", \"legendgroup\": \"low\", \"line\": {\"color\": \"#636efa\", \"dash\": \"solid\"}, \"mode\": \"lines\", \"name\": \"low\", \"showlegend\": false, \"type\": \"scatter\", \"x\": [2015, 2016, 2017], \"xaxis\": \"x37\", \"y\": [2.01, 1.89, 1.89], \"yaxis\": \"y37\"}, {\"hoverlabel\": {\"namelength\": 0}, \"hovertemplate\": \"estimate_type=low<br>state=ME<br>year=%{x}<br>average_estimate=%{y}\", \"legendgroup\": \"low\", \"line\": {\"color\": \"#636efa\", \"dash\": \"solid\"}, \"mode\": \"lines\", \"name\": \"low\", \"showlegend\": false, \"type\": \"scatter\", \"x\": [2015, 2016, 2017], \"xaxis\": \"x38\", \"y\": [1.6575, 1.625, 1.5925], \"yaxis\": \"y38\"}, {\"hoverlabel\": {\"namelength\": 0}, \"hovertemplate\": \"estimate_type=low<br>state=MI<br>year=%{x}<br>average_estimate=%{y}\", \"legendgroup\": \"low\", \"line\": {\"color\": \"#636efa\", \"dash\": \"solid\"}, \"mode\": \"lines\", \"name\": \"low\", \"showlegend\": false, \"type\": \"scatter\", \"x\": [2015, 2016, 2017], \"xaxis\": \"x39\", \"y\": [1.2025, 1.2025, 1.165], \"yaxis\": \"y39\"}, {\"hoverlabel\": {\"namelength\": 0}, \"hovertemplate\": \"estimate_type=low<br>state=MN<br>year=%{x}<br>average_estimate=%{y}\", \"legendgroup\": \"low\", \"line\": {\"color\": \"#636efa\", \"dash\": \"solid\"}, \"mode\": \"lines\", \"name\": \"low\", \"showlegend\": false, \"type\": \"scatter\", \"x\": [2015, 2016, 2017], \"xaxis\": \"x40\", \"y\": [1.325, 1.35, 1.2850000000000001], \"yaxis\": \"y40\"}, {\"hoverlabel\": {\"namelength\": 0}, \"hovertemplate\": \"estimate_type=low<br>state=MO<br>year=%{x}<br>average_estimate=%{y}\", \"legendgroup\": \"low\", \"line\": {\"color\": \"#636efa\", \"dash\": \"solid\"}, \"mode\": \"lines\", \"name\": \"low\", \"showlegend\": false, \"type\": \"scatter\", \"x\": [2015, 2016, 2017], \"xaxis\": \"x25\", \"y\": [1.225, 1.24, 1.2625], \"yaxis\": \"y25\"}, {\"hoverlabel\": {\"namelength\": 0}, \"hovertemplate\": \"estimate_type=low<br>state=MS<br>year=%{x}<br>average_estimate=%{y}\", \"legendgroup\": \"low\", \"line\": {\"color\": \"#636efa\", \"dash\": \"solid\"}, \"mode\": \"lines\", \"name\": \"low\", \"showlegend\": false, \"type\": \"scatter\", \"x\": [2015, 2016, 2017], \"xaxis\": \"x26\", \"y\": [1.39, 1.37, 1.39], \"yaxis\": \"y26\"}, {\"hoverlabel\": {\"namelength\": 0}, \"hovertemplate\": \"estimate_type=low<br>state=MT<br>year=%{x}<br>average_estimate=%{y}\", \"legendgroup\": \"low\", \"line\": {\"color\": \"#636efa\", \"dash\": \"solid\"}, \"mode\": \"lines\", \"name\": \"low\", \"showlegend\": false, \"type\": \"scatter\", \"x\": [2015, 2016, 2017], \"xaxis\": \"x27\", \"y\": [1.685, 1.75, 1.75], \"yaxis\": \"y27\"}, {\"hoverlabel\": {\"namelength\": 0}, \"hovertemplate\": \"estimate_type=low<br>state=NC<br>year=%{x}<br>average_estimate=%{y}\", \"legendgroup\": \"low\", \"line\": {\"color\": \"#636efa\", \"dash\": \"solid\"}, \"mode\": \"lines\", \"name\": \"low\", \"showlegend\": false, \"type\": \"scatter\", \"x\": [2015, 2016, 2017], \"xaxis\": \"x28\", \"y\": [1.565, 1.5374999999999999, 1.54], \"yaxis\": \"y28\"}, {\"hoverlabel\": {\"namelength\": 0}, \"hovertemplate\": \"estimate_type=low<br>state=ND<br>year=%{x}<br>average_estimate=%{y}\", \"legendgroup\": \"low\", \"line\": {\"color\": \"#636efa\", \"dash\": \"solid\"}, \"mode\": \"lines\", \"name\": \"low\", \"showlegend\": false, \"type\": \"scatter\", \"x\": [2015, 2016, 2017], \"xaxis\": \"x29\", \"y\": [0.39, 0.39, 0.39], \"yaxis\": \"y29\"}, {\"hoverlabel\": {\"namelength\": 0}, \"hovertemplate\": \"estimate_type=low<br>state=NE<br>year=%{x}<br>average_estimate=%{y}\", \"legendgroup\": \"low\", \"line\": {\"color\": \"#636efa\", \"dash\": \"solid\"}, \"mode\": \"lines\", \"name\": \"low\", \"showlegend\": false, \"type\": \"scatter\", \"x\": [2015, 2016, 2017], \"xaxis\": \"x30\", \"y\": [1.09, 1.09, 1.09], \"yaxis\": \"y30\"}, {\"hoverlabel\": {\"namelength\": 0}, \"hovertemplate\": \"estimate_type=low<br>state=NH<br>year=%{x}<br>average_estimate=%{y}\", \"legendgroup\": \"low\", \"line\": {\"color\": \"#636efa\", \"dash\": \"solid\"}, \"mode\": \"lines\", \"name\": \"low\", \"showlegend\": false, \"type\": \"scatter\", \"x\": [2015, 2016, 2017], \"xaxis\": \"x31\", \"y\": [1.5675000000000001, 1.5925, 1.5925], \"yaxis\": \"y31\"}, {\"hoverlabel\": {\"namelength\": 0}, \"hovertemplate\": \"estimate_type=low<br>state=NJ<br>year=%{x}<br>average_estimate=%{y}\", \"legendgroup\": \"low\", \"line\": {\"color\": \"#636efa\", \"dash\": \"solid\"}, \"mode\": \"lines\", \"name\": \"low\", \"showlegend\": false, \"type\": \"scatter\", \"x\": [2015, 2016, 2017], \"xaxis\": \"x32\", \"y\": [1.5725, 1.565, 1.54], \"yaxis\": \"y32\"}, {\"hoverlabel\": {\"namelength\": 0}, \"hovertemplate\": \"estimate_type=low<br>state=NM<br>year=%{x}<br>average_estimate=%{y}\", \"legendgroup\": \"low\", \"line\": {\"color\": \"#636efa\", \"dash\": \"solid\"}, \"mode\": \"lines\", \"name\": \"low\", \"showlegend\": false, \"type\": \"scatter\", \"x\": [2015, 2016, 2017], \"xaxis\": \"x17\", \"y\": [1.5925, 1.62, 1.5925], \"yaxis\": \"y17\"}, {\"hoverlabel\": {\"namelength\": 0}, \"hovertemplate\": \"estimate_type=low<br>state=NV<br>year=%{x}<br>average_estimate=%{y}\", \"legendgroup\": \"low\", \"line\": {\"color\": \"#636efa\", \"dash\": \"solid\"}, \"mode\": \"lines\", \"name\": \"low\", \"showlegend\": false, \"type\": \"scatter\", \"x\": [2015, 2016, 2017], \"xaxis\": \"x18\", \"y\": [1.625, 1.625, 1.6525], \"yaxis\": \"y18\"}, {\"hoverlabel\": {\"namelength\": 0}, \"hovertemplate\": \"estimate_type=low<br>state=NY<br>year=%{x}<br>average_estimate=%{y}\", \"legendgroup\": \"low\", \"line\": {\"color\": \"#636efa\", \"dash\": \"solid\"}, \"mode\": \"lines\", \"name\": \"low\", \"showlegend\": false, \"type\": \"scatter\", \"x\": [2015, 2016, 2017], \"xaxis\": \"x19\", \"y\": [0.7400000000000001, 0.7400000000000001, 0.7400000000000001], \"yaxis\": \"y19\"}, {\"hoverlabel\": {\"namelength\": 0}, \"hovertemplate\": \"estimate_type=low<br>state=OH<br>year=%{x}<br>average_estimate=%{y}\", \"legendgroup\": \"low\", \"line\": {\"color\": \"#636efa\", \"dash\": \"solid\"}, \"mode\": \"lines\", \"name\": \"low\", \"showlegend\": false, \"type\": \"scatter\", \"x\": [2015, 2016, 2017], \"xaxis\": \"x20\", \"y\": [1.165, 1.165, 1.09], \"yaxis\": \"y20\"}, {\"hoverlabel\": {\"namelength\": 0}, \"hovertemplate\": \"estimate_type=low<br>state=OK<br>year=%{x}<br>average_estimate=%{y}\", \"legendgroup\": \"low\", \"line\": {\"color\": \"#636efa\", \"dash\": \"solid\"}, \"mode\": \"lines\", \"name\": \"low\", \"showlegend\": false, \"type\": \"scatter\", \"x\": [2015, 2016, 2017], \"xaxis\": \"x21\", \"y\": [1.165, 1.24, 1.2625], \"yaxis\": \"y21\"}, {\"hoverlabel\": {\"namelength\": 0}, \"hovertemplate\": \"estimate_type=low<br>state=OR<br>year=%{x}<br>average_estimate=%{y}\", \"legendgroup\": \"low\", \"line\": {\"color\": \"#636efa\", \"dash\": \"solid\"}, \"mode\": \"lines\", \"name\": \"low\", \"showlegend\": false, \"type\": \"scatter\", \"x\": [2015, 2016, 2017], \"xaxis\": \"x22\", \"y\": [1.685, 1.6525, 1.62], \"yaxis\": \"y22\"}, {\"hoverlabel\": {\"namelength\": 0}, \"hovertemplate\": \"estimate_type=low<br>state=PA<br>year=%{x}<br>average_estimate=%{y}\", \"legendgroup\": \"low\", \"line\": {\"color\": \"#636efa\", \"dash\": \"solid\"}, \"mode\": \"lines\", \"name\": \"low\", \"showlegend\": false, \"type\": \"scatter\", \"x\": [2015, 2016, 2017], \"xaxis\": \"x23\", \"y\": [1.225, 1.24, 1.2025000000000001], \"yaxis\": \"y23\"}, {\"hoverlabel\": {\"namelength\": 0}, \"hovertemplate\": \"estimate_type=low<br>state=RI<br>year=%{x}<br>average_estimate=%{y}\", \"legendgroup\": \"low\", \"line\": {\"color\": \"#636efa\", \"dash\": \"solid\"}, \"mode\": \"lines\", \"name\": \"low\", \"showlegend\": false, \"type\": \"scatter\", \"x\": [2015, 2016, 2017], \"xaxis\": \"x24\", \"y\": [1.54, 1.565, 1.565], \"yaxis\": \"y24\"}, {\"hoverlabel\": {\"namelength\": 0}, \"hovertemplate\": \"estimate_type=low<br>state=SC<br>year=%{x}<br>average_estimate=%{y}\", \"legendgroup\": \"low\", \"line\": {\"color\": \"#636efa\", \"dash\": \"solid\"}, \"mode\": \"lines\", \"name\": \"low\", \"showlegend\": false, \"type\": \"scatter\", \"x\": [2015, 2016, 2017], \"xaxis\": \"x9\", \"y\": [1.69, 1.6525, 1.6525], \"yaxis\": \"y9\"}, {\"hoverlabel\": {\"namelength\": 0}, \"hovertemplate\": \"estimate_type=low<br>state=SD<br>year=%{x}<br>average_estimate=%{y}\", \"legendgroup\": \"low\", \"line\": {\"color\": \"#636efa\", \"dash\": \"solid\"}, \"mode\": \"lines\", \"name\": \"low\", \"showlegend\": false, \"type\": \"scatter\", \"x\": [2015, 2016, 2017], \"xaxis\": \"x10\", \"y\": [1.2025, 1.165, 1.2025], \"yaxis\": \"y10\"}, {\"hoverlabel\": {\"namelength\": 0}, \"hovertemplate\": \"estimate_type=low<br>state=TN<br>year=%{x}<br>average_estimate=%{y}\", \"legendgroup\": \"low\", \"line\": {\"color\": \"#636efa\", \"dash\": \"solid\"}, \"mode\": \"lines\", \"name\": \"low\", \"showlegend\": false, \"type\": \"scatter\", \"x\": [2015, 2016, 2017], \"xaxis\": \"x11\", \"y\": [1.3275000000000001, 1.3275000000000001, 1.3275000000000001], \"yaxis\": \"y11\"}, {\"hoverlabel\": {\"namelength\": 0}, \"hovertemplate\": \"estimate_type=low<br>state=TX<br>year=%{x}<br>average_estimate=%{y}\", \"legendgroup\": \"low\", \"line\": {\"color\": \"#636efa\", \"dash\": \"solid\"}, \"mode\": \"lines\", \"name\": \"low\", \"showlegend\": false, \"type\": \"scatter\", \"x\": [2015, 2016, 2017], \"xaxis\": \"x12\", \"y\": [0.7400000000000001, 1.09, 1.09], \"yaxis\": \"y12\"}, {\"hoverlabel\": {\"namelength\": 0}, \"hovertemplate\": \"estimate_type=low<br>state=UT<br>year=%{x}<br>average_estimate=%{y}\", \"legendgroup\": \"low\", \"line\": {\"color\": \"#636efa\", \"dash\": \"solid\"}, \"mode\": \"lines\", \"name\": \"low\", \"showlegend\": false, \"type\": \"scatter\", \"x\": [2015, 2016, 2017], \"xaxis\": \"x13\", \"y\": [1.5925, 1.62, 1.62], \"yaxis\": \"y13\"}, {\"hoverlabel\": {\"namelength\": 0}, \"hovertemplate\": \"estimate_type=low<br>state=VA<br>year=%{x}<br>average_estimate=%{y}\", \"legendgroup\": \"low\", \"line\": {\"color\": \"#636efa\", \"dash\": \"solid\"}, \"mode\": \"lines\", \"name\": \"low\", \"showlegend\": false, \"type\": \"scatter\", \"x\": [2015, 2016, 2017], \"xaxis\": \"x14\", \"y\": [1.855, 1.855, 1.8199999999999998], \"yaxis\": \"y14\"}, {\"hoverlabel\": {\"namelength\": 0}, \"hovertemplate\": \"estimate_type=low<br>state=VT<br>year=%{x}<br>average_estimate=%{y}\", \"legendgroup\": \"low\", \"line\": {\"color\": \"#636efa\", \"dash\": \"solid\"}, \"mode\": \"lines\", \"name\": \"low\", \"showlegend\": false, \"type\": \"scatter\", \"x\": [2015, 2016, 2017], \"xaxis\": \"x15\", \"y\": [1.44, 1.46, 1.435], \"yaxis\": \"y15\"}, {\"hoverlabel\": {\"namelength\": 0}, \"hovertemplate\": \"estimate_type=low<br>state=WA<br>year=%{x}<br>average_estimate=%{y}\", \"legendgroup\": \"low\", \"line\": {\"color\": \"#636efa\", \"dash\": \"solid\"}, \"mode\": \"lines\", \"name\": \"low\", \"showlegend\": false, \"type\": \"scatter\", \"x\": [2015, 2016, 2017], \"xaxis\": \"x16\", \"y\": [1.685, 1.685, 1.6525], \"yaxis\": \"y16\"}, {\"hoverlabel\": {\"namelength\": 0}, \"hovertemplate\": \"estimate_type=low<br>state=WI<br>year=%{x}<br>average_estimate=%{y}\", \"legendgroup\": \"low\", \"line\": {\"color\": \"#636efa\", \"dash\": \"solid\"}, \"mode\": \"lines\", \"name\": \"low\", \"showlegend\": false, \"type\": \"scatter\", \"x\": [2015, 2016, 2017], \"xaxis\": \"x\", \"y\": [1.165, 1.165, 1.165], \"yaxis\": \"y\"}, {\"hoverlabel\": {\"namelength\": 0}, \"hovertemplate\": \"estimate_type=low<br>state=WV<br>year=%{x}<br>average_estimate=%{y}\", \"legendgroup\": \"low\", \"line\": {\"color\": \"#636efa\", \"dash\": \"solid\"}, \"mode\": \"lines\", \"name\": \"low\", \"showlegend\": false, \"type\": \"scatter\", \"x\": [2015, 2016, 2017], \"xaxis\": \"x2\", \"y\": [1.2625, 1.2625000000000002, 1.2625], \"yaxis\": \"y2\"}, {\"hoverlabel\": {\"namelength\": 0}, \"hovertemplate\": \"estimate_type=low<br>state=WY<br>year=%{x}<br>average_estimate=%{y}\", \"legendgroup\": \"low\", \"line\": {\"color\": \"#636efa\", \"dash\": \"solid\"}, \"mode\": \"lines\", \"name\": \"low\", \"showlegend\": false, \"type\": \"scatter\", \"x\": [2015, 2016, 2017], \"xaxis\": \"x3\", \"y\": [1.37, 1.5374999999999999, 1.5374999999999999], \"yaxis\": \"y3\"}, {\"hoverlabel\": {\"namelength\": 0}, \"hovertemplate\": \"estimate_type=high<br>state=AK<br>year=%{x}<br>average_estimate=%{y}\", \"legendgroup\": \"high\", \"line\": {\"color\": \"#EF553B\", \"dash\": \"solid\"}, \"mode\": \"lines\", \"name\": \"high\", \"showlegend\": true, \"type\": \"scatter\", \"x\": [2015, 2016, 2017], \"xaxis\": \"x49\", \"y\": [1.685, 1.7874999999999999, 1.785], \"yaxis\": \"y49\"}, {\"hoverlabel\": {\"namelength\": 0}, \"hovertemplate\": \"estimate_type=high<br>state=AL<br>year=%{x}<br>average_estimate=%{y}\", \"legendgroup\": \"high\", \"line\": {\"color\": \"#EF553B\", \"dash\": \"solid\"}, \"mode\": \"lines\", \"name\": \"high\", \"showlegend\": false, \"type\": \"scatter\", \"x\": [2015, 2016, 2017], \"xaxis\": \"x50\", \"y\": [1.485, 1.485, 1.485], \"yaxis\": \"y50\"}, {\"hoverlabel\": {\"namelength\": 0}, \"hovertemplate\": \"estimate_type=high<br>state=AR<br>year=%{x}<br>average_estimate=%{y}\", \"legendgroup\": \"high\", \"line\": {\"color\": \"#EF553B\", \"dash\": \"solid\"}, \"mode\": \"lines\", \"name\": \"high\", \"showlegend\": false, \"type\": \"scatter\", \"x\": [2015, 2016, 2017], \"xaxis\": \"x51\", \"y\": [1.3275000000000001, 1.35, 1.35], \"yaxis\": \"y51\"}, {\"hoverlabel\": {\"namelength\": 0}, \"hovertemplate\": \"estimate_type=high<br>state=AZ<br>year=%{x}<br>average_estimate=%{y}\", \"legendgroup\": \"high\", \"line\": {\"color\": \"#EF553B\", \"dash\": \"solid\"}, \"mode\": \"lines\", \"name\": \"high\", \"showlegend\": false, \"type\": \"scatter\", \"x\": [2015, 2016, 2017], \"xaxis\": \"x52\", \"y\": [1.915, 1.89, 1.9149999999999998], \"yaxis\": \"y52\"}, {\"hoverlabel\": {\"namelength\": 0}, \"hovertemplate\": \"estimate_type=high<br>state=CA<br>year=%{x}<br>average_estimate=%{y}\", \"legendgroup\": \"high\", \"line\": {\"color\": \"#EF553B\", \"dash\": \"solid\"}, \"mode\": \"lines\", \"name\": \"high\", \"showlegend\": false, \"type\": \"scatter\", \"x\": [2015, 2016, 2017], \"xaxis\": \"x53\", \"y\": [1.9749999999999999, 2.01, 1.915], \"yaxis\": \"y53\"}, {\"hoverlabel\": {\"namelength\": 0}, \"hovertemplate\": \"estimate_type=high<br>state=CO<br>year=%{x}<br>average_estimate=%{y}\", \"legendgroup\": \"high\", \"line\": {\"color\": \"#EF553B\", \"dash\": \"solid\"}, \"mode\": \"lines\", \"name\": \"high\", \"showlegend\": false, \"type\": \"scatter\", \"x\": [2015, 2016, 2017], \"xaxis\": \"x54\", \"y\": [1.8199999999999998, 1.89, 1.9149999999999998], \"yaxis\": \"y54\"}, {\"hoverlabel\": {\"namelength\": 0}, \"hovertemplate\": \"estimate_type=high<br>state=CT<br>year=%{x}<br>average_estimate=%{y}\", \"legendgroup\": \"high\", \"line\": {\"color\": \"#EF553B\", \"dash\": \"solid\"}, \"mode\": \"lines\", \"name\": \"high\", \"showlegend\": false, \"type\": \"scatter\", \"x\": [2015, 2016, 2017], \"xaxis\": \"x55\", \"y\": [1.5475, 1.54, 1.54], \"yaxis\": \"y55\"}, {\"hoverlabel\": {\"namelength\": 0}, \"hovertemplate\": \"estimate_type=high<br>state=DC<br>year=%{x}<br>average_estimate=%{y}\", \"legendgroup\": \"high\", \"line\": {\"color\": \"#EF553B\", \"dash\": \"solid\"}, \"mode\": \"lines\", \"name\": \"high\", \"showlegend\": false, \"type\": \"scatter\", \"x\": [2015, 2016, 2017], \"xaxis\": \"x56\", \"y\": [1.09, 1.09, 1.09], \"yaxis\": \"y56\"}, {\"hoverlabel\": {\"namelength\": 0}, \"hovertemplate\": \"estimate_type=high<br>state=DE<br>year=%{x}<br>average_estimate=%{y}\", \"legendgroup\": \"high\", \"line\": {\"color\": \"#EF553B\", \"dash\": \"solid\"}, \"mode\": \"lines\", \"name\": \"high\", \"showlegend\": false, \"type\": \"scatter\", \"x\": [2015, 2016, 2017], \"xaxis\": \"x41\", \"y\": [1.6575, 1.6525, 1.6575], \"yaxis\": \"y41\"}, {\"hoverlabel\": {\"namelength\": 0}, \"hovertemplate\": \"estimate_type=high<br>state=FL<br>year=%{x}<br>average_estimate=%{y}\", \"legendgroup\": \"high\", \"line\": {\"color\": \"#EF553B\", \"dash\": \"solid\"}, \"mode\": \"lines\", \"name\": \"high\", \"showlegend\": false, \"type\": \"scatter\", \"x\": [2015, 2016, 2017], \"xaxis\": \"x42\", \"y\": [1.8225, 1.75, 1.8199999999999998], \"yaxis\": \"y42\"}, {\"hoverlabel\": {\"namelength\": 0}, \"hovertemplate\": \"estimate_type=high<br>state=GA<br>year=%{x}<br>average_estimate=%{y}\", \"legendgroup\": \"high\", \"line\": {\"color\": \"#EF553B\", \"dash\": \"solid\"}, \"mode\": \"lines\", \"name\": \"high\", \"showlegend\": false, \"type\": \"scatter\", \"x\": [2015, 2016, 2017], \"xaxis\": \"x43\", \"y\": [1.565, 1.5374999999999999, 1.54], \"yaxis\": \"y43\"}, {\"hoverlabel\": {\"namelength\": 0}, \"hovertemplate\": \"estimate_type=high<br>state=HI<br>year=%{x}<br>average_estimate=%{y}\", \"legendgroup\": \"high\", \"line\": {\"color\": \"#EF553B\", \"dash\": \"solid\"}, \"mode\": \"lines\", \"name\": \"high\", \"showlegend\": false, \"type\": \"scatter\", \"x\": [2015, 2016, 2017], \"xaxis\": \"x44\", \"y\": [2.13, null, null], \"yaxis\": \"y44\"}, {\"hoverlabel\": {\"namelength\": 0}, \"hovertemplate\": \"estimate_type=high<br>state=IA<br>year=%{x}<br>average_estimate=%{y}\", \"legendgroup\": \"high\", \"line\": {\"color\": \"#EF553B\", \"dash\": \"solid\"}, \"mode\": \"lines\", \"name\": \"high\", \"showlegend\": false, \"type\": \"scatter\", \"x\": [2015, 2016, 2017], \"xaxis\": \"x45\", \"y\": [1.24, 1.24, 1.2850000000000001], \"yaxis\": \"y45\"}, {\"hoverlabel\": {\"namelength\": 0}, \"hovertemplate\": \"estimate_type=high<br>state=ID<br>year=%{x}<br>average_estimate=%{y}\", \"legendgroup\": \"high\", \"line\": {\"color\": \"#EF553B\", \"dash\": \"solid\"}, \"mode\": \"lines\", \"name\": \"high\", \"showlegend\": false, \"type\": \"scatter\", \"x\": [2015, 2016, 2017], \"xaxis\": \"x46\", \"y\": [2.07, 2.01, 2.07], \"yaxis\": \"y46\"}, {\"hoverlabel\": {\"namelength\": 0}, \"hovertemplate\": \"estimate_type=high<br>state=IL<br>year=%{x}<br>average_estimate=%{y}\", \"legendgroup\": \"high\", \"line\": {\"color\": \"#EF553B\", \"dash\": \"solid\"}, \"mode\": \"lines\", \"name\": \"high\", \"showlegend\": false, \"type\": \"scatter\", \"x\": [2015, 2016, 2017], \"xaxis\": \"x47\", \"y\": [1.3475000000000001, 1.3275000000000001, 1.2850000000000001], \"yaxis\": \"y47\"}, {\"hoverlabel\": {\"namelength\": 0}, \"hovertemplate\": \"estimate_type=high<br>state=IN<br>year=%{x}<br>average_estimate=%{y}\", \"legendgroup\": \"high\", \"line\": {\"color\": \"#EF553B\", \"dash\": \"solid\"}, \"mode\": \"lines\", \"name\": \"high\", \"showlegend\": false, \"type\": \"scatter\", \"x\": [2015, 2016, 2017], \"xaxis\": \"x48\", \"y\": [1.3075, 1.33, 1.2850000000000001], \"yaxis\": \"y48\"}, {\"hoverlabel\": {\"namelength\": 0}, \"hovertemplate\": \"estimate_type=high<br>state=KS<br>year=%{x}<br>average_estimate=%{y}\", \"legendgroup\": \"high\", \"line\": {\"color\": \"#EF553B\", \"dash\": \"solid\"}, \"mode\": \"lines\", \"name\": \"high\", \"showlegend\": false, \"type\": \"scatter\", \"x\": [2015, 2016, 2017], \"xaxis\": \"x33\", \"y\": [1.24, 1.24, 1.2625], \"yaxis\": \"y33\"}, {\"hoverlabel\": {\"namelength\": 0}, \"hovertemplate\": \"estimate_type=high<br>state=KY<br>year=%{x}<br>average_estimate=%{y}\", \"legendgroup\": \"high\", \"line\": {\"color\": \"#EF553B\", \"dash\": \"solid\"}, \"mode\": \"lines\", \"name\": \"high\", \"showlegend\": false, \"type\": \"scatter\", \"x\": [2015, 2016, 2017], \"xaxis\": \"x34\", \"y\": [1.2850000000000001, 1.2850000000000001, 1.2625], \"yaxis\": \"y34\"}, {\"hoverlabel\": {\"namelength\": 0}, \"hovertemplate\": \"estimate_type=high<br>state=LA<br>year=%{x}<br>average_estimate=%{y}\", \"legendgroup\": \"high\", \"line\": {\"color\": \"#EF553B\", \"dash\": \"solid\"}, \"mode\": \"lines\", \"name\": \"high\", \"showlegend\": false, \"type\": \"scatter\", \"x\": [2015, 2016, 2017], \"xaxis\": \"x35\", \"y\": [1.3075, 1.39, 1.435], \"yaxis\": \"y35\"}, {\"hoverlabel\": {\"namelength\": 0}, \"hovertemplate\": \"estimate_type=high<br>state=MA<br>year=%{x}<br>average_estimate=%{y}\", \"legendgroup\": \"high\", \"line\": {\"color\": \"#EF553B\", \"dash\": \"solid\"}, \"mode\": \"lines\", \"name\": \"high\", \"showlegend\": false, \"type\": \"scatter\", \"x\": [2015, 2016, 2017], \"xaxis\": \"x36\", \"y\": [1.3475000000000001, 1.35, 1.325], \"yaxis\": \"y36\"}, {\"hoverlabel\": {\"namelength\": 0}, \"hovertemplate\": \"estimate_type=high<br>state=MD<br>year=%{x}<br>average_estimate=%{y}\", \"legendgroup\": \"high\", \"line\": {\"color\": \"#EF553B\", \"dash\": \"solid\"}, \"mode\": \"lines\", \"name\": \"high\", \"showlegend\": false, \"type\": \"scatter\", \"x\": [2015, 2016, 2017], \"xaxis\": \"x37\", \"y\": [2.13, 2.13, 2.13], \"yaxis\": \"y37\"}, {\"hoverlabel\": {\"namelength\": 0}, \"hovertemplate\": \"estimate_type=high<br>state=ME<br>year=%{x}<br>average_estimate=%{y}\", \"legendgroup\": \"high\", \"line\": {\"color\": \"#EF553B\", \"dash\": \"solid\"}, \"mode\": \"lines\", \"name\": \"high\", \"showlegend\": false, \"type\": \"scatter\", \"x\": [2015, 2016, 2017], \"xaxis\": \"x38\", \"y\": [1.7874999999999999, 1.7525, 1.7175], \"yaxis\": \"y38\"}, {\"hoverlabel\": {\"namelength\": 0}, \"hovertemplate\": \"estimate_type=high<br>state=MI<br>year=%{x}<br>average_estimate=%{y}\", \"legendgroup\": \"high\", \"line\": {\"color\": \"#EF553B\", \"dash\": \"solid\"}, \"mode\": \"lines\", \"name\": \"high\", \"showlegend\": false, \"type\": \"scatter\", \"x\": [2015, 2016, 2017], \"xaxis\": \"x39\", \"y\": [1.3075, 1.3075, 1.2850000000000001], \"yaxis\": \"y39\"}, {\"hoverlabel\": {\"namelength\": 0}, \"hovertemplate\": \"estimate_type=high<br>state=MN<br>year=%{x}<br>average_estimate=%{y}\", \"legendgroup\": \"high\", \"line\": {\"color\": \"#EF553B\", \"dash\": \"solid\"}, \"mode\": \"lines\", \"name\": \"high\", \"showlegend\": false, \"type\": \"scatter\", \"x\": [2015, 2016, 2017], \"xaxis\": \"x40\", \"y\": [1.42, 1.435, 1.37], \"yaxis\": \"y40\"}, {\"hoverlabel\": {\"namelength\": 0}, \"hovertemplate\": \"estimate_type=high<br>state=MO<br>year=%{x}<br>average_estimate=%{y}\", \"legendgroup\": \"high\", \"line\": {\"color\": \"#EF553B\", \"dash\": \"solid\"}, \"mode\": \"lines\", \"name\": \"high\", \"showlegend\": false, \"type\": \"scatter\", \"x\": [2015, 2016, 2017], \"xaxis\": \"x25\", \"y\": [1.3275000000000001, 1.33, 1.35], \"yaxis\": \"y25\"}, {\"hoverlabel\": {\"namelength\": 0}, \"hovertemplate\": \"estimate_type=high<br>state=MS<br>year=%{x}<br>average_estimate=%{y}\", \"legendgroup\": \"high\", \"line\": {\"color\": \"#EF553B\", \"dash\": \"solid\"}, \"mode\": \"lines\", \"name\": \"high\", \"showlegend\": false, \"type\": \"scatter\", \"x\": [2015, 2016, 2017], \"xaxis\": \"x26\", \"y\": [1.485, 1.46, 1.485], \"yaxis\": \"y26\"}, {\"hoverlabel\": {\"namelength\": 0}, \"hovertemplate\": \"estimate_type=high<br>state=MT<br>year=%{x}<br>average_estimate=%{y}\", \"legendgroup\": \"high\", \"line\": {\"color\": \"#EF553B\", \"dash\": \"solid\"}, \"mode\": \"lines\", \"name\": \"high\", \"showlegend\": false, \"type\": \"scatter\", \"x\": [2015, 2016, 2017], \"xaxis\": \"x27\", \"y\": [1.8199999999999998, 1.89, 1.89], \"yaxis\": \"y27\"}, {\"hoverlabel\": {\"namelength\": 0}, \"hovertemplate\": \"estimate_type=high<br>state=NC<br>year=%{x}<br>average_estimate=%{y}\", \"legendgroup\": \"high\", \"line\": {\"color\": \"#EF553B\", \"dash\": \"solid\"}, \"mode\": \"lines\", \"name\": \"high\", \"showlegend\": false, \"type\": \"scatter\", \"x\": [2015, 2016, 2017], \"xaxis\": \"x28\", \"y\": [1.685, 1.6525, 1.6575], \"yaxis\": \"y28\"}, {\"hoverlabel\": {\"namelength\": 0}, \"hovertemplate\": \"estimate_type=high<br>state=ND<br>year=%{x}<br>average_estimate=%{y}\", \"legendgroup\": \"high\", \"line\": {\"color\": \"#EF553B\", \"dash\": \"solid\"}, \"mode\": \"lines\", \"name\": \"high\", \"showlegend\": false, \"type\": \"scatter\", \"x\": [2015, 2016, 2017], \"xaxis\": \"x29\", \"y\": [1.09, 1.09, 1.09], \"yaxis\": \"y29\"}, {\"hoverlabel\": {\"namelength\": 0}, \"hovertemplate\": \"estimate_type=high<br>state=NE<br>year=%{x}<br>average_estimate=%{y}\", \"legendgroup\": \"high\", \"line\": {\"color\": \"#EF553B\", \"dash\": \"solid\"}, \"mode\": \"lines\", \"name\": \"high\", \"showlegend\": false, \"type\": \"scatter\", \"x\": [2015, 2016, 2017], \"xaxis\": \"x30\", \"y\": [1.24, 1.24, 1.24], \"yaxis\": \"y30\"}, {\"hoverlabel\": {\"namelength\": 0}, \"hovertemplate\": \"estimate_type=high<br>state=NH<br>year=%{x}<br>average_estimate=%{y}\", \"legendgroup\": \"high\", \"line\": {\"color\": \"#EF553B\", \"dash\": \"solid\"}, \"mode\": \"lines\", \"name\": \"high\", \"showlegend\": false, \"type\": \"scatter\", \"x\": [2015, 2016, 2017], \"xaxis\": \"x31\", \"y\": [1.69, 1.7175, 1.7175], \"yaxis\": \"y31\"}, {\"hoverlabel\": {\"namelength\": 0}, \"hovertemplate\": \"estimate_type=high<br>state=NJ<br>year=%{x}<br>average_estimate=%{y}\", \"legendgroup\": \"high\", \"line\": {\"color\": \"#EF553B\", \"dash\": \"solid\"}, \"mode\": \"lines\", \"name\": \"high\", \"showlegend\": false, \"type\": \"scatter\", \"x\": [2015, 2016, 2017], \"xaxis\": \"x32\", \"y\": [1.6925, 1.685, 1.6575], \"yaxis\": \"y32\"}, {\"hoverlabel\": {\"namelength\": 0}, \"hovertemplate\": \"estimate_type=high<br>state=NM<br>year=%{x}<br>average_estimate=%{y}\", \"legendgroup\": \"high\", \"line\": {\"color\": \"#EF553B\", \"dash\": \"solid\"}, \"mode\": \"lines\", \"name\": \"high\", \"showlegend\": false, \"type\": \"scatter\", \"x\": [2015, 2016, 2017], \"xaxis\": \"x17\", \"y\": [1.7175, 1.75, 1.7175], \"yaxis\": \"y17\"}, {\"hoverlabel\": {\"namelength\": 0}, \"hovertemplate\": \"estimate_type=high<br>state=NV<br>year=%{x}<br>average_estimate=%{y}\", \"legendgroup\": \"high\", \"line\": {\"color\": \"#EF553B\", \"dash\": \"solid\"}, \"mode\": \"lines\", \"name\": \"high\", \"showlegend\": false, \"type\": \"scatter\", \"x\": [2015, 2016, 2017], \"xaxis\": \"x18\", \"y\": [1.7525, 1.7525, 1.785], \"yaxis\": \"y18\"}, {\"hoverlabel\": {\"namelength\": 0}, \"hovertemplate\": \"estimate_type=high<br>state=NY<br>year=%{x}<br>average_estimate=%{y}\", \"legendgroup\": \"high\", \"line\": {\"color\": \"#EF553B\", \"dash\": \"solid\"}, \"mode\": \"lines\", \"name\": \"high\", \"showlegend\": false, \"type\": \"scatter\", \"x\": [2015, 2016, 2017], \"xaxis\": \"x19\", \"y\": [1.165, 1.165, 1.165], \"yaxis\": \"y19\"}, {\"hoverlabel\": {\"namelength\": 0}, \"hovertemplate\": \"estimate_type=high<br>state=OH<br>year=%{x}<br>average_estimate=%{y}\", \"legendgroup\": \"high\", \"line\": {\"color\": \"#EF553B\", \"dash\": \"solid\"}, \"mode\": \"lines\", \"name\": \"high\", \"showlegend\": false, \"type\": \"scatter\", \"x\": [2015, 2016, 2017], \"xaxis\": \"x20\", \"y\": [1.2850000000000001, 1.2850000000000001, 1.24], \"yaxis\": \"y20\"}, {\"hoverlabel\": {\"namelength\": 0}, \"hovertemplate\": \"estimate_type=high<br>state=OK<br>year=%{x}<br>average_estimate=%{y}\", \"legendgroup\": \"high\", \"line\": {\"color\": \"#EF553B\", \"dash\": \"solid\"}, \"mode\": \"lines\", \"name\": \"high\", \"showlegend\": false, \"type\": \"scatter\", \"x\": [2015, 2016, 2017], \"xaxis\": \"x21\", \"y\": [1.2850000000000001, 1.33, 1.35], \"yaxis\": \"y21\"}, {\"hoverlabel\": {\"namelength\": 0}, \"hovertemplate\": \"estimate_type=high<br>state=OR<br>year=%{x}<br>average_estimate=%{y}\", \"legendgroup\": \"high\", \"line\": {\"color\": \"#EF553B\", \"dash\": \"solid\"}, \"mode\": \"lines\", \"name\": \"high\", \"showlegend\": false, \"type\": \"scatter\", \"x\": [2015, 2016, 2017], \"xaxis\": \"x22\", \"y\": [1.8199999999999998, 1.785, 1.75], \"yaxis\": \"y22\"}, {\"hoverlabel\": {\"namelength\": 0}, \"hovertemplate\": \"estimate_type=high<br>state=PA<br>year=%{x}<br>average_estimate=%{y}\", \"legendgroup\": \"high\", \"line\": {\"color\": \"#EF553B\", \"dash\": \"solid\"}, \"mode\": \"lines\", \"name\": \"high\", \"showlegend\": false, \"type\": \"scatter\", \"x\": [2015, 2016, 2017], \"xaxis\": \"x23\", \"y\": [1.3275000000000001, 1.33, 1.3075], \"yaxis\": \"y23\"}, {\"hoverlabel\": {\"namelength\": 0}, \"hovertemplate\": \"estimate_type=high<br>state=RI<br>year=%{x}<br>average_estimate=%{y}\", \"legendgroup\": \"high\", \"line\": {\"color\": \"#EF553B\", \"dash\": \"solid\"}, \"mode\": \"lines\", \"name\": \"high\", \"showlegend\": false, \"type\": \"scatter\", \"x\": [2015, 2016, 2017], \"xaxis\": \"x24\", \"y\": [1.6575, 1.685, 1.685], \"yaxis\": \"y24\"}, {\"hoverlabel\": {\"namelength\": 0}, \"hovertemplate\": \"estimate_type=high<br>state=SC<br>year=%{x}<br>average_estimate=%{y}\", \"legendgroup\": \"high\", \"line\": {\"color\": \"#EF553B\", \"dash\": \"solid\"}, \"mode\": \"lines\", \"name\": \"high\", \"showlegend\": false, \"type\": \"scatter\", \"x\": [2015, 2016, 2017], \"xaxis\": \"x9\", \"y\": [1.8225, 1.785, 1.785], \"yaxis\": \"y9\"}, {\"hoverlabel\": {\"namelength\": 0}, \"hovertemplate\": \"estimate_type=high<br>state=SD<br>year=%{x}<br>average_estimate=%{y}\", \"legendgroup\": \"high\", \"line\": {\"color\": \"#EF553B\", \"dash\": \"solid\"}, \"mode\": \"lines\", \"name\": \"high\", \"showlegend\": false, \"type\": \"scatter\", \"x\": [2015, 2016, 2017], \"xaxis\": \"x10\", \"y\": [1.3075, 1.2850000000000001, 1.3075], \"yaxis\": \"y10\"}, {\"hoverlabel\": {\"namelength\": 0}, \"hovertemplate\": \"estimate_type=high<br>state=TN<br>year=%{x}<br>average_estimate=%{y}\", \"legendgroup\": \"high\", \"line\": {\"color\": \"#EF553B\", \"dash\": \"solid\"}, \"mode\": \"lines\", \"name\": \"high\", \"showlegend\": false, \"type\": \"scatter\", \"x\": [2015, 2016, 2017], \"xaxis\": \"x11\", \"y\": [1.415, 1.415, 1.415], \"yaxis\": \"y11\"}, {\"hoverlabel\": {\"namelength\": 0}, \"hovertemplate\": \"estimate_type=high<br>state=TX<br>year=%{x}<br>average_estimate=%{y}\", \"legendgroup\": \"high\", \"line\": {\"color\": \"#EF553B\", \"dash\": \"solid\"}, \"mode\": \"lines\", \"name\": \"high\", \"showlegend\": false, \"type\": \"scatter\", \"x\": [2015, 2016, 2017], \"xaxis\": \"x12\", \"y\": [1.165, 1.24, 1.24], \"yaxis\": \"y12\"}, {\"hoverlabel\": {\"namelength\": 0}, \"hovertemplate\": \"estimate_type=high<br>state=UT<br>year=%{x}<br>average_estimate=%{y}\", \"legendgroup\": \"high\", \"line\": {\"color\": \"#EF553B\", \"dash\": \"solid\"}, \"mode\": \"lines\", \"name\": \"high\", \"showlegend\": false, \"type\": \"scatter\", \"x\": [2015, 2016, 2017], \"xaxis\": \"x13\", \"y\": [1.7175, 1.75, 1.75], \"yaxis\": \"y13\"}, {\"hoverlabel\": {\"namelength\": 0}, \"hovertemplate\": \"estimate_type=high<br>state=VA<br>year=%{x}<br>average_estimate=%{y}\", \"legendgroup\": \"high\", \"line\": {\"color\": \"#EF553B\", \"dash\": \"solid\"}, \"mode\": \"lines\", \"name\": \"high\", \"showlegend\": false, \"type\": \"scatter\", \"x\": [2015, 2016, 2017], \"xaxis\": \"x14\", \"y\": [2.07, 2.07, 2.01], \"yaxis\": \"y14\"}, {\"hoverlabel\": {\"namelength\": 0}, \"hovertemplate\": \"estimate_type=high<br>state=VT<br>year=%{x}<br>average_estimate=%{y}\", \"legendgroup\": \"high\", \"line\": {\"color\": \"#EF553B\", \"dash\": \"solid\"}, \"mode\": \"lines\", \"name\": \"high\", \"showlegend\": false, \"type\": \"scatter\", \"x\": [2015, 2016, 2017], \"xaxis\": \"x15\", \"y\": [1.54, 1.565, 1.5375], \"yaxis\": \"y15\"}, {\"hoverlabel\": {\"namelength\": 0}, \"hovertemplate\": \"estimate_type=high<br>state=WA<br>year=%{x}<br>average_estimate=%{y}\", \"legendgroup\": \"high\", \"line\": {\"color\": \"#EF553B\", \"dash\": \"solid\"}, \"mode\": \"lines\", \"name\": \"high\", \"showlegend\": false, \"type\": \"scatter\", \"x\": [2015, 2016, 2017], \"xaxis\": \"x16\", \"y\": [1.8199999999999998, 1.8199999999999998, 1.785], \"yaxis\": \"y16\"}, {\"hoverlabel\": {\"namelength\": 0}, \"hovertemplate\": \"estimate_type=high<br>state=WI<br>year=%{x}<br>average_estimate=%{y}\", \"legendgroup\": \"high\", \"line\": {\"color\": \"#EF553B\", \"dash\": \"solid\"}, \"mode\": \"lines\", \"name\": \"high\", \"showlegend\": false, \"type\": \"scatter\", \"x\": [2015, 2016, 2017], \"xaxis\": \"x\", \"y\": [1.2850000000000001, 1.2850000000000001, 1.2850000000000001], \"yaxis\": \"y\"}, {\"hoverlabel\": {\"namelength\": 0}, \"hovertemplate\": \"estimate_type=high<br>state=WV<br>year=%{x}<br>average_estimate=%{y}\", \"legendgroup\": \"high\", \"line\": {\"color\": \"#EF553B\", \"dash\": \"solid\"}, \"mode\": \"lines\", \"name\": \"high\", \"showlegend\": false, \"type\": \"scatter\", \"x\": [2015, 2016, 2017], \"xaxis\": \"x2\", \"y\": [1.35, 1.35, 1.35], \"yaxis\": \"y2\"}, {\"hoverlabel\": {\"namelength\": 0}, \"hovertemplate\": \"estimate_type=high<br>state=WY<br>year=%{x}<br>average_estimate=%{y}\", \"legendgroup\": \"high\", \"line\": {\"color\": \"#EF553B\", \"dash\": \"solid\"}, \"mode\": \"lines\", \"name\": \"high\", \"showlegend\": false, \"type\": \"scatter\", \"x\": [2015, 2016, 2017], \"xaxis\": \"x3\", \"y\": [1.46, 1.6525, 1.6525], \"yaxis\": \"y3\"}],\n",
       "                        {\"annotations\": [{\"font\": {}, \"showarrow\": false, \"text\": \"state=WI\", \"x\": 0.05375, \"xanchor\": \"center\", \"xref\": \"paper\", \"y\": 0.08285714285714285, \"yanchor\": \"bottom\", \"yref\": \"paper\"}, {\"font\": {}, \"showarrow\": false, \"text\": \"state=WV\", \"x\": 0.18125, \"xanchor\": \"center\", \"xref\": \"paper\", \"y\": 0.08285714285714285, \"yanchor\": \"bottom\", \"yref\": \"paper\"}, {\"font\": {}, \"showarrow\": false, \"text\": \"state=WY\", \"x\": 0.30874999999999997, \"xanchor\": \"center\", \"xref\": \"paper\", \"y\": 0.08285714285714285, \"yanchor\": \"bottom\", \"yref\": \"paper\"}, {\"font\": {}, \"showarrow\": false, \"text\": \"state=SC\", \"x\": 0.05375, \"xanchor\": \"center\", \"xref\": \"paper\", \"y\": 0.2357142857142857, \"yanchor\": \"bottom\", \"yref\": \"paper\"}, {\"font\": {}, \"showarrow\": false, \"text\": \"state=SD\", \"x\": 0.18125, \"xanchor\": \"center\", \"xref\": \"paper\", \"y\": 0.2357142857142857, \"yanchor\": \"bottom\", \"yref\": \"paper\"}, {\"font\": {}, \"showarrow\": false, \"text\": \"state=TN\", \"x\": 0.30874999999999997, \"xanchor\": \"center\", \"xref\": \"paper\", \"y\": 0.2357142857142857, \"yanchor\": \"bottom\", \"yref\": \"paper\"}, {\"font\": {}, \"showarrow\": false, \"text\": \"state=TX\", \"x\": 0.43625, \"xanchor\": \"center\", \"xref\": \"paper\", \"y\": 0.2357142857142857, \"yanchor\": \"bottom\", \"yref\": \"paper\"}, {\"font\": {}, \"showarrow\": false, \"text\": \"state=UT\", \"x\": 0.56375, \"xanchor\": \"center\", \"xref\": \"paper\", \"y\": 0.2357142857142857, \"yanchor\": \"bottom\", \"yref\": \"paper\"}, {\"font\": {}, \"showarrow\": false, \"text\": \"state=VA\", \"x\": 0.6912499999999999, \"xanchor\": \"center\", \"xref\": \"paper\", \"y\": 0.2357142857142857, \"yanchor\": \"bottom\", \"yref\": \"paper\"}, {\"font\": {}, \"showarrow\": false, \"text\": \"state=VT\", \"x\": 0.8187500000000001, \"xanchor\": \"center\", \"xref\": \"paper\", \"y\": 0.2357142857142857, \"yanchor\": \"bottom\", \"yref\": \"paper\"}, {\"font\": {}, \"showarrow\": false, \"text\": \"state=WA\", \"x\": 0.94625, \"xanchor\": \"center\", \"xref\": \"paper\", \"y\": 0.2357142857142857, \"yanchor\": \"bottom\", \"yref\": \"paper\"}, {\"font\": {}, \"showarrow\": false, \"text\": \"state=NM\", \"x\": 0.05375, \"xanchor\": \"center\", \"xref\": \"paper\", \"y\": 0.38857142857142857, \"yanchor\": \"bottom\", \"yref\": \"paper\"}, {\"font\": {}, \"showarrow\": false, \"text\": \"state=NV\", \"x\": 0.18125, \"xanchor\": \"center\", \"xref\": \"paper\", \"y\": 0.38857142857142857, \"yanchor\": \"bottom\", \"yref\": \"paper\"}, {\"font\": {}, \"showarrow\": false, \"text\": \"state=NY\", \"x\": 0.30874999999999997, \"xanchor\": \"center\", \"xref\": \"paper\", \"y\": 0.38857142857142857, \"yanchor\": \"bottom\", \"yref\": \"paper\"}, {\"font\": {}, \"showarrow\": false, \"text\": \"state=OH\", \"x\": 0.43625, \"xanchor\": \"center\", \"xref\": \"paper\", \"y\": 0.38857142857142857, \"yanchor\": \"bottom\", \"yref\": \"paper\"}, {\"font\": {}, \"showarrow\": false, \"text\": \"state=OK\", \"x\": 0.56375, \"xanchor\": \"center\", \"xref\": \"paper\", \"y\": 0.38857142857142857, \"yanchor\": \"bottom\", \"yref\": \"paper\"}, {\"font\": {}, \"showarrow\": false, \"text\": \"state=OR\", \"x\": 0.6912499999999999, \"xanchor\": \"center\", \"xref\": \"paper\", \"y\": 0.38857142857142857, \"yanchor\": \"bottom\", \"yref\": \"paper\"}, {\"font\": {}, \"showarrow\": false, \"text\": \"state=PA\", \"x\": 0.8187500000000001, \"xanchor\": \"center\", \"xref\": \"paper\", \"y\": 0.38857142857142857, \"yanchor\": \"bottom\", \"yref\": \"paper\"}, {\"font\": {}, \"showarrow\": false, \"text\": \"state=RI\", \"x\": 0.94625, \"xanchor\": \"center\", \"xref\": \"paper\", \"y\": 0.38857142857142857, \"yanchor\": \"bottom\", \"yref\": \"paper\"}, {\"font\": {}, \"showarrow\": false, \"text\": \"state=MO\", \"x\": 0.05375, \"xanchor\": \"center\", \"xref\": \"paper\", \"y\": 0.5414285714285714, \"yanchor\": \"bottom\", \"yref\": \"paper\"}, {\"font\": {}, \"showarrow\": false, \"text\": \"state=MS\", \"x\": 0.18125, \"xanchor\": \"center\", \"xref\": \"paper\", \"y\": 0.5414285714285714, \"yanchor\": \"bottom\", \"yref\": \"paper\"}, {\"font\": {}, \"showarrow\": false, \"text\": \"state=MT\", \"x\": 0.30874999999999997, \"xanchor\": \"center\", \"xref\": \"paper\", \"y\": 0.5414285714285714, \"yanchor\": \"bottom\", \"yref\": \"paper\"}, {\"font\": {}, \"showarrow\": false, \"text\": \"state=NC\", \"x\": 0.43625, \"xanchor\": \"center\", \"xref\": \"paper\", \"y\": 0.5414285714285714, \"yanchor\": \"bottom\", \"yref\": \"paper\"}, {\"font\": {}, \"showarrow\": false, \"text\": \"state=ND\", \"x\": 0.56375, \"xanchor\": \"center\", \"xref\": \"paper\", \"y\": 0.5414285714285714, \"yanchor\": \"bottom\", \"yref\": \"paper\"}, {\"font\": {}, \"showarrow\": false, \"text\": \"state=NE\", \"x\": 0.6912499999999999, \"xanchor\": \"center\", \"xref\": \"paper\", \"y\": 0.5414285714285714, \"yanchor\": \"bottom\", \"yref\": \"paper\"}, {\"font\": {}, \"showarrow\": false, \"text\": \"state=NH\", \"x\": 0.8187500000000001, \"xanchor\": \"center\", \"xref\": \"paper\", \"y\": 0.5414285714285714, \"yanchor\": \"bottom\", \"yref\": \"paper\"}, {\"font\": {}, \"showarrow\": false, \"text\": \"state=NJ\", \"x\": 0.94625, \"xanchor\": \"center\", \"xref\": \"paper\", \"y\": 0.5414285714285714, \"yanchor\": \"bottom\", \"yref\": \"paper\"}, {\"font\": {}, \"showarrow\": false, \"text\": \"state=KS\", \"x\": 0.05375, \"xanchor\": \"center\", \"xref\": \"paper\", \"y\": 0.6942857142857143, \"yanchor\": \"bottom\", \"yref\": \"paper\"}, {\"font\": {}, \"showarrow\": false, \"text\": \"state=KY\", \"x\": 0.18125, \"xanchor\": \"center\", \"xref\": \"paper\", \"y\": 0.6942857142857143, \"yanchor\": \"bottom\", \"yref\": \"paper\"}, {\"font\": {}, \"showarrow\": false, \"text\": \"state=LA\", \"x\": 0.30874999999999997, \"xanchor\": \"center\", \"xref\": \"paper\", \"y\": 0.6942857142857143, \"yanchor\": \"bottom\", \"yref\": \"paper\"}, {\"font\": {}, \"showarrow\": false, \"text\": \"state=MA\", \"x\": 0.43625, \"xanchor\": \"center\", \"xref\": \"paper\", \"y\": 0.6942857142857143, \"yanchor\": \"bottom\", \"yref\": \"paper\"}, {\"font\": {}, \"showarrow\": false, \"text\": \"state=MD\", \"x\": 0.56375, \"xanchor\": \"center\", \"xref\": \"paper\", \"y\": 0.6942857142857143, \"yanchor\": \"bottom\", \"yref\": \"paper\"}, {\"font\": {}, \"showarrow\": false, \"text\": \"state=ME\", \"x\": 0.6912499999999999, \"xanchor\": \"center\", \"xref\": \"paper\", \"y\": 0.6942857142857143, \"yanchor\": \"bottom\", \"yref\": \"paper\"}, {\"font\": {}, \"showarrow\": false, \"text\": \"state=MI\", \"x\": 0.8187500000000001, \"xanchor\": \"center\", \"xref\": \"paper\", \"y\": 0.6942857142857143, \"yanchor\": \"bottom\", \"yref\": \"paper\"}, {\"font\": {}, \"showarrow\": false, \"text\": \"state=MN\", \"x\": 0.94625, \"xanchor\": \"center\", \"xref\": \"paper\", \"y\": 0.6942857142857143, \"yanchor\": \"bottom\", \"yref\": \"paper\"}, {\"font\": {}, \"showarrow\": false, \"text\": \"state=DE\", \"x\": 0.05375, \"xanchor\": \"center\", \"xref\": \"paper\", \"y\": 0.8471428571428571, \"yanchor\": \"bottom\", \"yref\": \"paper\"}, {\"font\": {}, \"showarrow\": false, \"text\": \"state=FL\", \"x\": 0.18125, \"xanchor\": \"center\", \"xref\": \"paper\", \"y\": 0.8471428571428571, \"yanchor\": \"bottom\", \"yref\": \"paper\"}, {\"font\": {}, \"showarrow\": false, \"text\": \"state=GA\", \"x\": 0.30874999999999997, \"xanchor\": \"center\", \"xref\": \"paper\", \"y\": 0.8471428571428571, \"yanchor\": \"bottom\", \"yref\": \"paper\"}, {\"font\": {}, \"showarrow\": false, \"text\": \"state=HI\", \"x\": 0.43625, \"xanchor\": \"center\", \"xref\": \"paper\", \"y\": 0.8471428571428571, \"yanchor\": \"bottom\", \"yref\": \"paper\"}, {\"font\": {}, \"showarrow\": false, \"text\": \"state=IA\", \"x\": 0.56375, \"xanchor\": \"center\", \"xref\": \"paper\", \"y\": 0.8471428571428571, \"yanchor\": \"bottom\", \"yref\": \"paper\"}, {\"font\": {}, \"showarrow\": false, \"text\": \"state=ID\", \"x\": 0.6912499999999999, \"xanchor\": \"center\", \"xref\": \"paper\", \"y\": 0.8471428571428571, \"yanchor\": \"bottom\", \"yref\": \"paper\"}, {\"font\": {}, \"showarrow\": false, \"text\": \"state=IL\", \"x\": 0.8187500000000001, \"xanchor\": \"center\", \"xref\": \"paper\", \"y\": 0.8471428571428571, \"yanchor\": \"bottom\", \"yref\": \"paper\"}, {\"font\": {}, \"showarrow\": false, \"text\": \"state=IN\", \"x\": 0.94625, \"xanchor\": \"center\", \"xref\": \"paper\", \"y\": 0.8471428571428571, \"yanchor\": \"bottom\", \"yref\": \"paper\"}, {\"font\": {}, \"showarrow\": false, \"text\": \"state=AK\", \"x\": 0.05375, \"xanchor\": \"center\", \"xref\": \"paper\", \"y\": 1.0, \"yanchor\": \"bottom\", \"yref\": \"paper\"}, {\"font\": {}, \"showarrow\": false, \"text\": \"state=AL\", \"x\": 0.18125, \"xanchor\": \"center\", \"xref\": \"paper\", \"y\": 1.0, \"yanchor\": \"bottom\", \"yref\": \"paper\"}, {\"font\": {}, \"showarrow\": false, \"text\": \"state=AR\", \"x\": 0.30874999999999997, \"xanchor\": \"center\", \"xref\": \"paper\", \"y\": 1.0, \"yanchor\": \"bottom\", \"yref\": \"paper\"}, {\"font\": {}, \"showarrow\": false, \"text\": \"state=AZ\", \"x\": 0.43625, \"xanchor\": \"center\", \"xref\": \"paper\", \"y\": 1.0, \"yanchor\": \"bottom\", \"yref\": \"paper\"}, {\"font\": {}, \"showarrow\": false, \"text\": \"state=CA\", \"x\": 0.56375, \"xanchor\": \"center\", \"xref\": \"paper\", \"y\": 1.0, \"yanchor\": \"bottom\", \"yref\": \"paper\"}, {\"font\": {}, \"showarrow\": false, \"text\": \"state=CO\", \"x\": 0.6912499999999999, \"xanchor\": \"center\", \"xref\": \"paper\", \"y\": 1.0, \"yanchor\": \"bottom\", \"yref\": \"paper\"}, {\"font\": {}, \"showarrow\": false, \"text\": \"state=CT\", \"x\": 0.8187500000000001, \"xanchor\": \"center\", \"xref\": \"paper\", \"y\": 1.0, \"yanchor\": \"bottom\", \"yref\": \"paper\"}, {\"font\": {}, \"showarrow\": false, \"text\": \"state=DC\", \"x\": 0.94625, \"xanchor\": \"center\", \"xref\": \"paper\", \"y\": 1.0, \"yanchor\": \"bottom\", \"yref\": \"paper\"}], \"legend\": {\"title\": {\"text\": \"estimate_type\"}, \"tracegroupgap\": 0}, \"margin\": {\"t\": 60}, \"template\": {\"data\": {\"bar\": [{\"error_x\": {\"color\": \"#2a3f5f\"}, \"error_y\": {\"color\": \"#2a3f5f\"}, \"marker\": {\"line\": {\"color\": \"#E5ECF6\", \"width\": 0.5}}, \"type\": \"bar\"}], \"barpolar\": [{\"marker\": {\"line\": {\"color\": \"#E5ECF6\", \"width\": 0.5}}, \"type\": \"barpolar\"}], \"carpet\": [{\"aaxis\": {\"endlinecolor\": \"#2a3f5f\", \"gridcolor\": \"white\", \"linecolor\": \"white\", \"minorgridcolor\": \"white\", \"startlinecolor\": \"#2a3f5f\"}, \"baxis\": {\"endlinecolor\": \"#2a3f5f\", \"gridcolor\": \"white\", \"linecolor\": \"white\", \"minorgridcolor\": \"white\", \"startlinecolor\": \"#2a3f5f\"}, \"type\": \"carpet\"}], \"choropleth\": [{\"colorbar\": {\"outlinewidth\": 0, \"ticks\": \"\"}, \"type\": \"choropleth\"}], \"contour\": [{\"colorbar\": {\"outlinewidth\": 0, \"ticks\": \"\"}, \"colorscale\": [[0.0, \"#0d0887\"], [0.1111111111111111, \"#46039f\"], [0.2222222222222222, \"#7201a8\"], [0.3333333333333333, \"#9c179e\"], [0.4444444444444444, \"#bd3786\"], [0.5555555555555556, \"#d8576b\"], [0.6666666666666666, \"#ed7953\"], [0.7777777777777778, \"#fb9f3a\"], [0.8888888888888888, \"#fdca26\"], [1.0, \"#f0f921\"]], \"type\": \"contour\"}], \"contourcarpet\": [{\"colorbar\": {\"outlinewidth\": 0, \"ticks\": \"\"}, \"type\": \"contourcarpet\"}], \"heatmap\": [{\"colorbar\": {\"outlinewidth\": 0, \"ticks\": \"\"}, \"colorscale\": [[0.0, \"#0d0887\"], [0.1111111111111111, \"#46039f\"], [0.2222222222222222, \"#7201a8\"], [0.3333333333333333, \"#9c179e\"], [0.4444444444444444, \"#bd3786\"], [0.5555555555555556, \"#d8576b\"], [0.6666666666666666, \"#ed7953\"], [0.7777777777777778, \"#fb9f3a\"], [0.8888888888888888, \"#fdca26\"], [1.0, \"#f0f921\"]], \"type\": \"heatmap\"}], \"heatmapgl\": [{\"colorbar\": {\"outlinewidth\": 0, \"ticks\": \"\"}, \"colorscale\": [[0.0, \"#0d0887\"], [0.1111111111111111, \"#46039f\"], [0.2222222222222222, \"#7201a8\"], [0.3333333333333333, \"#9c179e\"], [0.4444444444444444, \"#bd3786\"], [0.5555555555555556, \"#d8576b\"], [0.6666666666666666, \"#ed7953\"], [0.7777777777777778, \"#fb9f3a\"], [0.8888888888888888, \"#fdca26\"], [1.0, \"#f0f921\"]], \"type\": \"heatmapgl\"}], \"histogram\": [{\"marker\": {\"colorbar\": {\"outlinewidth\": 0, \"ticks\": \"\"}}, \"type\": \"histogram\"}], \"histogram2d\": [{\"colorbar\": {\"outlinewidth\": 0, \"ticks\": \"\"}, \"colorscale\": [[0.0, \"#0d0887\"], [0.1111111111111111, \"#46039f\"], [0.2222222222222222, \"#7201a8\"], [0.3333333333333333, \"#9c179e\"], [0.4444444444444444, \"#bd3786\"], [0.5555555555555556, \"#d8576b\"], [0.6666666666666666, \"#ed7953\"], [0.7777777777777778, \"#fb9f3a\"], [0.8888888888888888, \"#fdca26\"], [1.0, \"#f0f921\"]], \"type\": \"histogram2d\"}], \"histogram2dcontour\": [{\"colorbar\": {\"outlinewidth\": 0, \"ticks\": \"\"}, \"colorscale\": [[0.0, \"#0d0887\"], [0.1111111111111111, \"#46039f\"], [0.2222222222222222, \"#7201a8\"], [0.3333333333333333, \"#9c179e\"], [0.4444444444444444, \"#bd3786\"], [0.5555555555555556, \"#d8576b\"], [0.6666666666666666, \"#ed7953\"], [0.7777777777777778, \"#fb9f3a\"], [0.8888888888888888, \"#fdca26\"], [1.0, \"#f0f921\"]], \"type\": \"histogram2dcontour\"}], \"mesh3d\": [{\"colorbar\": {\"outlinewidth\": 0, \"ticks\": \"\"}, \"type\": \"mesh3d\"}], \"parcoords\": [{\"line\": {\"colorbar\": {\"outlinewidth\": 0, \"ticks\": \"\"}}, \"type\": \"parcoords\"}], \"pie\": [{\"automargin\": true, \"type\": \"pie\"}], \"scatter\": [{\"marker\": {\"colorbar\": {\"outlinewidth\": 0, \"ticks\": \"\"}}, \"type\": \"scatter\"}], \"scatter3d\": [{\"line\": {\"colorbar\": {\"outlinewidth\": 0, \"ticks\": \"\"}}, \"marker\": {\"colorbar\": {\"outlinewidth\": 0, \"ticks\": \"\"}}, \"type\": \"scatter3d\"}], \"scattercarpet\": [{\"marker\": {\"colorbar\": {\"outlinewidth\": 0, \"ticks\": \"\"}}, \"type\": \"scattercarpet\"}], \"scattergeo\": [{\"marker\": {\"colorbar\": {\"outlinewidth\": 0, \"ticks\": \"\"}}, \"type\": \"scattergeo\"}], \"scattergl\": [{\"marker\": {\"colorbar\": {\"outlinewidth\": 0, \"ticks\": \"\"}}, \"type\": \"scattergl\"}], \"scattermapbox\": [{\"marker\": {\"colorbar\": {\"outlinewidth\": 0, \"ticks\": \"\"}}, \"type\": \"scattermapbox\"}], \"scatterpolar\": [{\"marker\": {\"colorbar\": {\"outlinewidth\": 0, \"ticks\": \"\"}}, \"type\": \"scatterpolar\"}], \"scatterpolargl\": [{\"marker\": {\"colorbar\": {\"outlinewidth\": 0, \"ticks\": \"\"}}, \"type\": \"scatterpolargl\"}], \"scatterternary\": [{\"marker\": {\"colorbar\": {\"outlinewidth\": 0, \"ticks\": \"\"}}, \"type\": \"scatterternary\"}], \"surface\": [{\"colorbar\": {\"outlinewidth\": 0, \"ticks\": \"\"}, \"colorscale\": [[0.0, \"#0d0887\"], [0.1111111111111111, \"#46039f\"], [0.2222222222222222, \"#7201a8\"], [0.3333333333333333, \"#9c179e\"], [0.4444444444444444, \"#bd3786\"], [0.5555555555555556, \"#d8576b\"], [0.6666666666666666, \"#ed7953\"], [0.7777777777777778, \"#fb9f3a\"], [0.8888888888888888, \"#fdca26\"], [1.0, \"#f0f921\"]], \"type\": \"surface\"}], \"table\": [{\"cells\": {\"fill\": {\"color\": \"#EBF0F8\"}, \"line\": {\"color\": \"white\"}}, \"header\": {\"fill\": {\"color\": \"#C8D4E3\"}, \"line\": {\"color\": \"white\"}}, \"type\": \"table\"}]}, \"layout\": {\"annotationdefaults\": {\"arrowcolor\": \"#2a3f5f\", \"arrowhead\": 0, \"arrowwidth\": 1}, \"coloraxis\": {\"colorbar\": {\"outlinewidth\": 0, \"ticks\": \"\"}}, \"colorscale\": {\"diverging\": [[0, \"#8e0152\"], [0.1, \"#c51b7d\"], [0.2, \"#de77ae\"], [0.3, \"#f1b6da\"], [0.4, \"#fde0ef\"], [0.5, \"#f7f7f7\"], [0.6, \"#e6f5d0\"], [0.7, \"#b8e186\"], [0.8, \"#7fbc41\"], [0.9, \"#4d9221\"], [1, \"#276419\"]], \"sequential\": [[0.0, \"#0d0887\"], [0.1111111111111111, \"#46039f\"], [0.2222222222222222, \"#7201a8\"], [0.3333333333333333, \"#9c179e\"], [0.4444444444444444, \"#bd3786\"], [0.5555555555555556, \"#d8576b\"], [0.6666666666666666, \"#ed7953\"], [0.7777777777777778, \"#fb9f3a\"], [0.8888888888888888, \"#fdca26\"], [1.0, \"#f0f921\"]], \"sequentialminus\": [[0.0, \"#0d0887\"], [0.1111111111111111, \"#46039f\"], [0.2222222222222222, \"#7201a8\"], [0.3333333333333333, \"#9c179e\"], [0.4444444444444444, \"#bd3786\"], [0.5555555555555556, \"#d8576b\"], [0.6666666666666666, \"#ed7953\"], [0.7777777777777778, \"#fb9f3a\"], [0.8888888888888888, \"#fdca26\"], [1.0, \"#f0f921\"]]}, \"colorway\": [\"#636efa\", \"#EF553B\", \"#00cc96\", \"#ab63fa\", \"#FFA15A\", \"#19d3f3\", \"#FF6692\", \"#B6E880\", \"#FF97FF\", \"#FECB52\"], \"font\": {\"color\": \"#2a3f5f\"}, \"geo\": {\"bgcolor\": \"white\", \"lakecolor\": \"white\", \"landcolor\": \"#E5ECF6\", \"showlakes\": true, \"showland\": true, \"subunitcolor\": \"white\"}, \"hoverlabel\": {\"align\": \"left\"}, \"hovermode\": \"closest\", \"mapbox\": {\"style\": \"light\"}, \"paper_bgcolor\": \"white\", \"plot_bgcolor\": \"#E5ECF6\", \"polar\": {\"angularaxis\": {\"gridcolor\": \"white\", \"linecolor\": \"white\", \"ticks\": \"\"}, \"bgcolor\": \"#E5ECF6\", \"radialaxis\": {\"gridcolor\": \"white\", \"linecolor\": \"white\", \"ticks\": \"\"}}, \"scene\": {\"xaxis\": {\"backgroundcolor\": \"#E5ECF6\", \"gridcolor\": \"white\", \"gridwidth\": 2, \"linecolor\": \"white\", \"showbackground\": true, \"ticks\": \"\", \"zerolinecolor\": \"white\"}, \"yaxis\": {\"backgroundcolor\": \"#E5ECF6\", \"gridcolor\": \"white\", \"gridwidth\": 2, \"linecolor\": \"white\", \"showbackground\": true, \"ticks\": \"\", \"zerolinecolor\": \"white\"}, \"zaxis\": {\"backgroundcolor\": \"#E5ECF6\", \"gridcolor\": \"white\", \"gridwidth\": 2, \"linecolor\": \"white\", \"showbackground\": true, \"ticks\": \"\", \"zerolinecolor\": \"white\"}}, \"shapedefaults\": {\"line\": {\"color\": \"#2a3f5f\"}}, \"ternary\": {\"aaxis\": {\"gridcolor\": \"white\", \"linecolor\": \"white\", \"ticks\": \"\"}, \"baxis\": {\"gridcolor\": \"white\", \"linecolor\": \"white\", \"ticks\": \"\"}, \"bgcolor\": \"#E5ECF6\", \"caxis\": {\"gridcolor\": \"white\", \"linecolor\": \"white\", \"ticks\": \"\"}}, \"title\": {\"x\": 0.05}, \"xaxis\": {\"automargin\": true, \"gridcolor\": \"white\", \"linecolor\": \"white\", \"ticks\": \"\", \"title\": {\"standoff\": 15}, \"zerolinecolor\": \"white\", \"zerolinewidth\": 2}, \"yaxis\": {\"automargin\": true, \"gridcolor\": \"white\", \"linecolor\": \"white\", \"ticks\": \"\", \"title\": {\"standoff\": 15}, \"zerolinecolor\": \"white\", \"zerolinewidth\": 2}}}, \"title\": {\"text\": \"State Estimates of Consumer Debt-to-Income\"}, \"xaxis\": {\"anchor\": \"y\", \"domain\": [0.0, 0.1075], \"title\": {\"text\": \"year\"}}, \"xaxis10\": {\"anchor\": \"y10\", \"domain\": [0.1275, 0.235], \"matches\": \"x\", \"showticklabels\": false}, \"xaxis11\": {\"anchor\": \"y11\", \"domain\": [0.255, 0.3625], \"matches\": \"x\", \"showticklabels\": false}, \"xaxis12\": {\"anchor\": \"y12\", \"domain\": [0.3825, 0.49], \"matches\": \"x\", \"showticklabels\": false}, \"xaxis13\": {\"anchor\": \"y13\", \"domain\": [0.51, 0.6175], \"matches\": \"x\", \"showticklabels\": false}, \"xaxis14\": {\"anchor\": \"y14\", \"domain\": [0.6375, 0.745], \"matches\": \"x\", \"showticklabels\": false}, \"xaxis15\": {\"anchor\": \"y15\", \"domain\": [0.765, 0.8725], \"matches\": \"x\", \"showticklabels\": false}, \"xaxis16\": {\"anchor\": \"y16\", \"domain\": [0.8925000000000001, 1.0], \"matches\": \"x\", \"showticklabels\": false}, \"xaxis17\": {\"anchor\": \"y17\", \"domain\": [0.0, 0.1075], \"matches\": \"x\", \"showticklabels\": false}, \"xaxis18\": {\"anchor\": \"y18\", \"domain\": [0.1275, 0.235], \"matches\": \"x\", \"showticklabels\": false}, \"xaxis19\": {\"anchor\": \"y19\", \"domain\": [0.255, 0.3625], \"matches\": \"x\", \"showticklabels\": false}, \"xaxis2\": {\"anchor\": \"y2\", \"domain\": [0.1275, 0.235], \"matches\": \"x\", \"title\": {\"text\": \"year\"}}, \"xaxis20\": {\"anchor\": \"y20\", \"domain\": [0.3825, 0.49], \"matches\": \"x\", \"showticklabels\": false}, \"xaxis21\": {\"anchor\": \"y21\", \"domain\": [0.51, 0.6175], \"matches\": \"x\", \"showticklabels\": false}, \"xaxis22\": {\"anchor\": \"y22\", \"domain\": [0.6375, 0.745], \"matches\": \"x\", \"showticklabels\": false}, \"xaxis23\": {\"anchor\": \"y23\", \"domain\": [0.765, 0.8725], \"matches\": \"x\", \"showticklabels\": false}, \"xaxis24\": {\"anchor\": \"y24\", \"domain\": [0.8925000000000001, 1.0], \"matches\": \"x\", \"showticklabels\": false}, \"xaxis25\": {\"anchor\": \"y25\", \"domain\": [0.0, 0.1075], \"matches\": \"x\", \"showticklabels\": false}, \"xaxis26\": {\"anchor\": \"y26\", \"domain\": [0.1275, 0.235], \"matches\": \"x\", \"showticklabels\": false}, \"xaxis27\": {\"anchor\": \"y27\", \"domain\": [0.255, 0.3625], \"matches\": \"x\", \"showticklabels\": false}, \"xaxis28\": {\"anchor\": \"y28\", \"domain\": [0.3825, 0.49], \"matches\": \"x\", \"showticklabels\": false}, \"xaxis29\": {\"anchor\": \"y29\", \"domain\": [0.51, 0.6175], \"matches\": \"x\", \"showticklabels\": false}, \"xaxis3\": {\"anchor\": \"y3\", \"domain\": [0.255, 0.3625], \"matches\": \"x\", \"title\": {\"text\": \"year\"}}, \"xaxis30\": {\"anchor\": \"y30\", \"domain\": [0.6375, 0.745], \"matches\": \"x\", \"showticklabels\": false}, \"xaxis31\": {\"anchor\": \"y31\", \"domain\": [0.765, 0.8725], \"matches\": \"x\", \"showticklabels\": false}, \"xaxis32\": {\"anchor\": \"y32\", \"domain\": [0.8925000000000001, 1.0], \"matches\": \"x\", \"showticklabels\": false}, \"xaxis33\": {\"anchor\": \"y33\", \"domain\": [0.0, 0.1075], \"matches\": \"x\", \"showticklabels\": false}, \"xaxis34\": {\"anchor\": \"y34\", \"domain\": [0.1275, 0.235], \"matches\": \"x\", \"showticklabels\": false}, \"xaxis35\": {\"anchor\": \"y35\", \"domain\": [0.255, 0.3625], \"matches\": \"x\", \"showticklabels\": false}, \"xaxis36\": {\"anchor\": \"y36\", \"domain\": [0.3825, 0.49], \"matches\": \"x\", \"showticklabels\": false}, \"xaxis37\": {\"anchor\": \"y37\", \"domain\": [0.51, 0.6175], \"matches\": \"x\", \"showticklabels\": false}, \"xaxis38\": {\"anchor\": \"y38\", \"domain\": [0.6375, 0.745], \"matches\": \"x\", \"showticklabels\": false}, \"xaxis39\": {\"anchor\": \"y39\", \"domain\": [0.765, 0.8725], \"matches\": \"x\", \"showticklabels\": false}, \"xaxis4\": {\"anchor\": \"y4\", \"domain\": [0.3825, 0.49], \"matches\": \"x\", \"title\": {\"text\": \"year\"}}, \"xaxis40\": {\"anchor\": \"y40\", \"domain\": [0.8925000000000001, 1.0], \"matches\": \"x\", \"showticklabels\": false}, \"xaxis41\": {\"anchor\": \"y41\", \"domain\": [0.0, 0.1075], \"matches\": \"x\", \"showticklabels\": false}, \"xaxis42\": {\"anchor\": \"y42\", \"domain\": [0.1275, 0.235], \"matches\": \"x\", \"showticklabels\": false}, \"xaxis43\": {\"anchor\": \"y43\", \"domain\": [0.255, 0.3625], \"matches\": \"x\", \"showticklabels\": false}, \"xaxis44\": {\"anchor\": \"y44\", \"domain\": [0.3825, 0.49], \"matches\": \"x\", \"showticklabels\": false}, \"xaxis45\": {\"anchor\": \"y45\", \"domain\": [0.51, 0.6175], \"matches\": \"x\", \"showticklabels\": false}, \"xaxis46\": {\"anchor\": \"y46\", \"domain\": [0.6375, 0.745], \"matches\": \"x\", \"showticklabels\": false}, \"xaxis47\": {\"anchor\": \"y47\", \"domain\": [0.765, 0.8725], \"matches\": \"x\", \"showticklabels\": false}, \"xaxis48\": {\"anchor\": \"y48\", \"domain\": [0.8925000000000001, 1.0], \"matches\": \"x\", \"showticklabels\": false}, \"xaxis49\": {\"anchor\": \"y49\", \"domain\": [0.0, 0.1075], \"matches\": \"x\", \"showticklabels\": false}, \"xaxis5\": {\"anchor\": \"y5\", \"domain\": [0.51, 0.6175], \"matches\": \"x\", \"title\": {\"text\": \"year\"}}, \"xaxis50\": {\"anchor\": \"y50\", \"domain\": [0.1275, 0.235], \"matches\": \"x\", \"showticklabels\": false}, \"xaxis51\": {\"anchor\": \"y51\", \"domain\": [0.255, 0.3625], \"matches\": \"x\", \"showticklabels\": false}, \"xaxis52\": {\"anchor\": \"y52\", \"domain\": [0.3825, 0.49], \"matches\": \"x\", \"showticklabels\": false}, \"xaxis53\": {\"anchor\": \"y53\", \"domain\": [0.51, 0.6175], \"matches\": \"x\", \"showticklabels\": false}, \"xaxis54\": {\"anchor\": \"y54\", \"domain\": [0.6375, 0.745], \"matches\": \"x\", \"showticklabels\": false}, \"xaxis55\": {\"anchor\": \"y55\", \"domain\": [0.765, 0.8725], \"matches\": \"x\", \"showticklabels\": false}, \"xaxis56\": {\"anchor\": \"y56\", \"domain\": [0.8925000000000001, 1.0], \"matches\": \"x\", \"showticklabels\": false}, \"xaxis6\": {\"anchor\": \"y6\", \"domain\": [0.6375, 0.745], \"matches\": \"x\", \"title\": {\"text\": \"year\"}}, \"xaxis7\": {\"anchor\": \"y7\", \"domain\": [0.765, 0.8725], \"matches\": \"x\", \"title\": {\"text\": \"year\"}}, \"xaxis8\": {\"anchor\": \"y8\", \"domain\": [0.8925000000000001, 1.0], \"matches\": \"x\", \"title\": {\"text\": \"year\"}}, \"xaxis9\": {\"anchor\": \"y9\", \"domain\": [0.0, 0.1075], \"matches\": \"x\", \"showticklabels\": false}, \"yaxis\": {\"anchor\": \"x\", \"domain\": [0.0, 0.08285714285714285], \"title\": {\"text\": \"average_estimate\"}}, \"yaxis10\": {\"anchor\": \"x10\", \"domain\": [0.15285714285714286, 0.2357142857142857], \"matches\": \"y\", \"showticklabels\": false}, \"yaxis11\": {\"anchor\": \"x11\", \"domain\": [0.15285714285714286, 0.2357142857142857], \"matches\": \"y\", \"showticklabels\": false}, \"yaxis12\": {\"anchor\": \"x12\", \"domain\": [0.15285714285714286, 0.2357142857142857], \"matches\": \"y\", \"showticklabels\": false}, \"yaxis13\": {\"anchor\": \"x13\", \"domain\": [0.15285714285714286, 0.2357142857142857], \"matches\": \"y\", \"showticklabels\": false}, \"yaxis14\": {\"anchor\": \"x14\", \"domain\": [0.15285714285714286, 0.2357142857142857], \"matches\": \"y\", \"showticklabels\": false}, \"yaxis15\": {\"anchor\": \"x15\", \"domain\": [0.15285714285714286, 0.2357142857142857], \"matches\": \"y\", \"showticklabels\": false}, \"yaxis16\": {\"anchor\": \"x16\", \"domain\": [0.15285714285714286, 0.2357142857142857], \"matches\": \"y\", \"showticklabels\": false}, \"yaxis17\": {\"anchor\": \"x17\", \"domain\": [0.3057142857142857, 0.38857142857142857], \"matches\": \"y\", \"title\": {\"text\": \"average_estimate\"}}, \"yaxis18\": {\"anchor\": \"x18\", \"domain\": [0.3057142857142857, 0.38857142857142857], \"matches\": \"y\", \"showticklabels\": false}, \"yaxis19\": {\"anchor\": \"x19\", \"domain\": [0.3057142857142857, 0.38857142857142857], \"matches\": \"y\", \"showticklabels\": false}, \"yaxis2\": {\"anchor\": \"x2\", \"domain\": [0.0, 0.08285714285714285], \"matches\": \"y\", \"showticklabels\": false}, \"yaxis20\": {\"anchor\": \"x20\", \"domain\": [0.3057142857142857, 0.38857142857142857], \"matches\": \"y\", \"showticklabels\": false}, \"yaxis21\": {\"anchor\": \"x21\", \"domain\": [0.3057142857142857, 0.38857142857142857], \"matches\": \"y\", \"showticklabels\": false}, \"yaxis22\": {\"anchor\": \"x22\", \"domain\": [0.3057142857142857, 0.38857142857142857], \"matches\": \"y\", \"showticklabels\": false}, \"yaxis23\": {\"anchor\": \"x23\", \"domain\": [0.3057142857142857, 0.38857142857142857], \"matches\": \"y\", \"showticklabels\": false}, \"yaxis24\": {\"anchor\": \"x24\", \"domain\": [0.3057142857142857, 0.38857142857142857], \"matches\": \"y\", \"showticklabels\": false}, \"yaxis25\": {\"anchor\": \"x25\", \"domain\": [0.4585714285714286, 0.5414285714285714], \"matches\": \"y\", \"title\": {\"text\": \"average_estimate\"}}, \"yaxis26\": {\"anchor\": \"x26\", \"domain\": [0.4585714285714286, 0.5414285714285714], \"matches\": \"y\", \"showticklabels\": false}, \"yaxis27\": {\"anchor\": \"x27\", \"domain\": [0.4585714285714286, 0.5414285714285714], \"matches\": \"y\", \"showticklabels\": false}, \"yaxis28\": {\"anchor\": \"x28\", \"domain\": [0.4585714285714286, 0.5414285714285714], \"matches\": \"y\", \"showticklabels\": false}, \"yaxis29\": {\"anchor\": \"x29\", \"domain\": [0.4585714285714286, 0.5414285714285714], \"matches\": \"y\", \"showticklabels\": false}, \"yaxis3\": {\"anchor\": \"x3\", \"domain\": [0.0, 0.08285714285714285], \"matches\": \"y\", \"showticklabels\": false}, \"yaxis30\": {\"anchor\": \"x30\", \"domain\": [0.4585714285714286, 0.5414285714285714], \"matches\": \"y\", \"showticklabels\": false}, \"yaxis31\": {\"anchor\": \"x31\", \"domain\": [0.4585714285714286, 0.5414285714285714], \"matches\": \"y\", \"showticklabels\": false}, \"yaxis32\": {\"anchor\": \"x32\", \"domain\": [0.4585714285714286, 0.5414285714285714], \"matches\": \"y\", \"showticklabels\": false}, \"yaxis33\": {\"anchor\": \"x33\", \"domain\": [0.6114285714285714, 0.6942857142857143], \"matches\": \"y\", \"title\": {\"text\": \"average_estimate\"}}, \"yaxis34\": {\"anchor\": \"x34\", \"domain\": [0.6114285714285714, 0.6942857142857143], \"matches\": \"y\", \"showticklabels\": false}, \"yaxis35\": {\"anchor\": \"x35\", \"domain\": [0.6114285714285714, 0.6942857142857143], \"matches\": \"y\", \"showticklabels\": false}, \"yaxis36\": {\"anchor\": \"x36\", \"domain\": [0.6114285714285714, 0.6942857142857143], \"matches\": \"y\", \"showticklabels\": false}, \"yaxis37\": {\"anchor\": \"x37\", \"domain\": [0.6114285714285714, 0.6942857142857143], \"matches\": \"y\", \"showticklabels\": false}, \"yaxis38\": {\"anchor\": \"x38\", \"domain\": [0.6114285714285714, 0.6942857142857143], \"matches\": \"y\", \"showticklabels\": false}, \"yaxis39\": {\"anchor\": \"x39\", \"domain\": [0.6114285714285714, 0.6942857142857143], \"matches\": \"y\", \"showticklabels\": false}, \"yaxis4\": {\"anchor\": \"x4\", \"domain\": [0.0, 0.08285714285714285], \"matches\": \"y\", \"showticklabels\": false}, \"yaxis40\": {\"anchor\": \"x40\", \"domain\": [0.6114285714285714, 0.6942857142857143], \"matches\": \"y\", \"showticklabels\": false}, \"yaxis41\": {\"anchor\": \"x41\", \"domain\": [0.7642857142857142, 0.8471428571428571], \"matches\": \"y\", \"title\": {\"text\": \"average_estimate\"}}, \"yaxis42\": {\"anchor\": \"x42\", \"domain\": [0.7642857142857142, 0.8471428571428571], \"matches\": \"y\", \"showticklabels\": false}, \"yaxis43\": {\"anchor\": \"x43\", \"domain\": [0.7642857142857142, 0.8471428571428571], \"matches\": \"y\", \"showticklabels\": false}, \"yaxis44\": {\"anchor\": \"x44\", \"domain\": [0.7642857142857142, 0.8471428571428571], \"matches\": \"y\", \"showticklabels\": false}, \"yaxis45\": {\"anchor\": \"x45\", \"domain\": [0.7642857142857142, 0.8471428571428571], \"matches\": \"y\", \"showticklabels\": false}, \"yaxis46\": {\"anchor\": \"x46\", \"domain\": [0.7642857142857142, 0.8471428571428571], \"matches\": \"y\", \"showticklabels\": false}, \"yaxis47\": {\"anchor\": \"x47\", \"domain\": [0.7642857142857142, 0.8471428571428571], \"matches\": \"y\", \"showticklabels\": false}, \"yaxis48\": {\"anchor\": \"x48\", \"domain\": [0.7642857142857142, 0.8471428571428571], \"matches\": \"y\", \"showticklabels\": false}, \"yaxis49\": {\"anchor\": \"x49\", \"domain\": [0.9171428571428571, 1.0], \"matches\": \"y\", \"title\": {\"text\": \"average_estimate\"}}, \"yaxis5\": {\"anchor\": \"x5\", \"domain\": [0.0, 0.08285714285714285], \"matches\": \"y\", \"showticklabels\": false}, \"yaxis50\": {\"anchor\": \"x50\", \"domain\": [0.9171428571428571, 1.0], \"matches\": \"y\", \"showticklabels\": false}, \"yaxis51\": {\"anchor\": \"x51\", \"domain\": [0.9171428571428571, 1.0], \"matches\": \"y\", \"showticklabels\": false}, \"yaxis52\": {\"anchor\": \"x52\", \"domain\": [0.9171428571428571, 1.0], \"matches\": \"y\", \"showticklabels\": false}, \"yaxis53\": {\"anchor\": \"x53\", \"domain\": [0.9171428571428571, 1.0], \"matches\": \"y\", \"showticklabels\": false}, \"yaxis54\": {\"anchor\": \"x54\", \"domain\": [0.9171428571428571, 1.0], \"matches\": \"y\", \"showticklabels\": false}, \"yaxis55\": {\"anchor\": \"x55\", \"domain\": [0.9171428571428571, 1.0], \"matches\": \"y\", \"showticklabels\": false}, \"yaxis56\": {\"anchor\": \"x56\", \"domain\": [0.9171428571428571, 1.0], \"matches\": \"y\", \"showticklabels\": false}, \"yaxis6\": {\"anchor\": \"x6\", \"domain\": [0.0, 0.08285714285714285], \"matches\": \"y\", \"showticklabels\": false}, \"yaxis7\": {\"anchor\": \"x7\", \"domain\": [0.0, 0.08285714285714285], \"matches\": \"y\", \"showticklabels\": false}, \"yaxis8\": {\"anchor\": \"x8\", \"domain\": [0.0, 0.08285714285714285], \"matches\": \"y\", \"showticklabels\": false}, \"yaxis9\": {\"anchor\": \"x9\", \"domain\": [0.15285714285714286, 0.2357142857142857], \"matches\": \"y\", \"title\": {\"text\": \"average_estimate\"}}},\n",
       "                        {\"responsive\": true}\n",
       "                    ).then(function(){\n",
       "                            \n",
       "var gd = document.getElementById('a42ebe4e-9c3c-45ec-9dda-aaae664cbef8');\n",
       "var x = new MutationObserver(function (mutations, observer) {{\n",
       "        var display = window.getComputedStyle(gd).display;\n",
       "        if (!display || display === 'none') {{\n",
       "            console.log([gd, 'removed!']);\n",
       "            Plotly.purge(gd);\n",
       "            observer.disconnect();\n",
       "        }}\n",
       "}});\n",
       "\n",
       "// Listen for the removal of the full notebook cells\n",
       "var notebookContainer = gd.closest('#notebook-container');\n",
       "if (notebookContainer) {{\n",
       "    x.observe(notebookContainer, {childList: true});\n",
       "}}\n",
       "\n",
       "// Listen for the clearing of the current output cell\n",
       "var outputEl = gd.closest('.output');\n",
       "if (outputEl) {{\n",
       "    x.observe(outputEl, {childList: true});\n",
       "}}\n",
       "\n",
       "                        })\n",
       "                };\n",
       "                });\n",
       "            </script>\n",
       "        </div>"
      ]
     },
     "metadata": {},
     "output_type": "display_data"
    }
   ],
   "source": [
    "sm_multiples.update_layout(\n",
    "    title_text = 'State Estimates of Consumer Debt-to-Income', # Create a Title\n",
    ")\n",
    "\n",
    "sm_multiples.show()"
   ]
  },
  {
   "cell_type": "code",
   "execution_count": 76,
   "metadata": {},
   "outputs": [],
   "source": [
    "nces_household_wide['state_abbr'] = nces_household_wide['state'].map(lambda x: us.states.lookup(x).abbr)"
   ]
  },
  {
   "cell_type": "code",
   "execution_count": 77,
   "metadata": {},
   "outputs": [],
   "source": [
    "### correlation matrix: \n",
    "\n",
    "del nces_household_wide['state']\n"
   ]
  },
  {
   "cell_type": "code",
   "execution_count": 78,
   "metadata": {},
   "outputs": [],
   "source": [
    "nces_household_wide = nces_household_wide.rename(\n",
    "    {'variable': 'pct_year', 'value': 'internet_pct'}, axis=1)"
   ]
  },
  {
   "cell_type": "code",
   "execution_count": 79,
   "metadata": {},
   "outputs": [
    {
     "data": {
      "text/html": [
       "<div>\n",
       "<style scoped>\n",
       "    .dataframe tbody tr th:only-of-type {\n",
       "        vertical-align: middle;\n",
       "    }\n",
       "\n",
       "    .dataframe tbody tr th {\n",
       "        vertical-align: top;\n",
       "    }\n",
       "\n",
       "    .dataframe thead th {\n",
       "        text-align: right;\n",
       "    }\n",
       "</style>\n",
       "<table border=\"1\" class=\"dataframe\">\n",
       "  <thead>\n",
       "    <tr style=\"text-align: right;\">\n",
       "      <th></th>\n",
       "      <th>pct_year</th>\n",
       "      <th>internet_pct</th>\n",
       "      <th>state_abbr</th>\n",
       "    </tr>\n",
       "  </thead>\n",
       "  <tbody>\n",
       "    <tr>\n",
       "      <th>0</th>\n",
       "      <td>pct_2015</td>\n",
       "      <td>0.807355</td>\n",
       "      <td>AL</td>\n",
       "    </tr>\n",
       "    <tr>\n",
       "      <th>1</th>\n",
       "      <td>pct_2015</td>\n",
       "      <td>0.919265</td>\n",
       "      <td>AK</td>\n",
       "    </tr>\n",
       "    <tr>\n",
       "      <th>2</th>\n",
       "      <td>pct_2015</td>\n",
       "      <td>0.876411</td>\n",
       "      <td>AZ</td>\n",
       "    </tr>\n",
       "    <tr>\n",
       "      <th>3</th>\n",
       "      <td>pct_2015</td>\n",
       "      <td>0.817245</td>\n",
       "      <td>AR</td>\n",
       "    </tr>\n",
       "    <tr>\n",
       "      <th>4</th>\n",
       "      <td>pct_2015</td>\n",
       "      <td>0.897699</td>\n",
       "      <td>CA</td>\n",
       "    </tr>\n",
       "    <tr>\n",
       "      <th>5</th>\n",
       "      <td>pct_2015</td>\n",
       "      <td>0.912517</td>\n",
       "      <td>CO</td>\n",
       "    </tr>\n",
       "    <tr>\n",
       "      <th>6</th>\n",
       "      <td>pct_2015</td>\n",
       "      <td>0.883754</td>\n",
       "      <td>CT</td>\n",
       "    </tr>\n",
       "    <tr>\n",
       "      <th>7</th>\n",
       "      <td>pct_2015</td>\n",
       "      <td>0.874929</td>\n",
       "      <td>DE</td>\n",
       "    </tr>\n",
       "    <tr>\n",
       "      <th>8</th>\n",
       "      <td>pct_2015</td>\n",
       "      <td>0.893542</td>\n",
       "      <td>DC</td>\n",
       "    </tr>\n",
       "    <tr>\n",
       "      <th>9</th>\n",
       "      <td>pct_2015</td>\n",
       "      <td>0.874853</td>\n",
       "      <td>FL</td>\n",
       "    </tr>\n",
       "    <tr>\n",
       "      <th>10</th>\n",
       "      <td>pct_2015</td>\n",
       "      <td>0.868176</td>\n",
       "      <td>GA</td>\n",
       "    </tr>\n",
       "    <tr>\n",
       "      <th>11</th>\n",
       "      <td>pct_2015</td>\n",
       "      <td>0.891904</td>\n",
       "      <td>HI</td>\n",
       "    </tr>\n",
       "    <tr>\n",
       "      <th>12</th>\n",
       "      <td>pct_2015</td>\n",
       "      <td>0.888517</td>\n",
       "      <td>ID</td>\n",
       "    </tr>\n",
       "    <tr>\n",
       "      <th>13</th>\n",
       "      <td>pct_2015</td>\n",
       "      <td>0.863865</td>\n",
       "      <td>IL</td>\n",
       "    </tr>\n",
       "    <tr>\n",
       "      <th>14</th>\n",
       "      <td>pct_2015</td>\n",
       "      <td>0.850264</td>\n",
       "      <td>IN</td>\n",
       "    </tr>\n",
       "    <tr>\n",
       "      <th>15</th>\n",
       "      <td>pct_2015</td>\n",
       "      <td>0.854634</td>\n",
       "      <td>IA</td>\n",
       "    </tr>\n",
       "    <tr>\n",
       "      <th>16</th>\n",
       "      <td>pct_2015</td>\n",
       "      <td>0.859392</td>\n",
       "      <td>KS</td>\n",
       "    </tr>\n",
       "    <tr>\n",
       "      <th>17</th>\n",
       "      <td>pct_2015</td>\n",
       "      <td>0.819951</td>\n",
       "      <td>KY</td>\n",
       "    </tr>\n",
       "    <tr>\n",
       "      <th>18</th>\n",
       "      <td>pct_2015</td>\n",
       "      <td>0.808677</td>\n",
       "      <td>LA</td>\n",
       "    </tr>\n",
       "    <tr>\n",
       "      <th>19</th>\n",
       "      <td>pct_2015</td>\n",
       "      <td>0.864637</td>\n",
       "      <td>ME</td>\n",
       "    </tr>\n",
       "    <tr>\n",
       "      <th>20</th>\n",
       "      <td>pct_2015</td>\n",
       "      <td>0.900776</td>\n",
       "      <td>MD</td>\n",
       "    </tr>\n",
       "    <tr>\n",
       "      <th>21</th>\n",
       "      <td>pct_2015</td>\n",
       "      <td>0.893242</td>\n",
       "      <td>MA</td>\n",
       "    </tr>\n",
       "    <tr>\n",
       "      <th>22</th>\n",
       "      <td>pct_2015</td>\n",
       "      <td>0.861682</td>\n",
       "      <td>MI</td>\n",
       "    </tr>\n",
       "    <tr>\n",
       "      <th>23</th>\n",
       "      <td>pct_2015</td>\n",
       "      <td>0.892516</td>\n",
       "      <td>MN</td>\n",
       "    </tr>\n",
       "    <tr>\n",
       "      <th>24</th>\n",
       "      <td>pct_2015</td>\n",
       "      <td>0.788120</td>\n",
       "      <td>MS</td>\n",
       "    </tr>\n",
       "    <tr>\n",
       "      <th>25</th>\n",
       "      <td>pct_2015</td>\n",
       "      <td>0.855278</td>\n",
       "      <td>MO</td>\n",
       "    </tr>\n",
       "    <tr>\n",
       "      <th>26</th>\n",
       "      <td>pct_2015</td>\n",
       "      <td>0.855593</td>\n",
       "      <td>MT</td>\n",
       "    </tr>\n",
       "    <tr>\n",
       "      <th>27</th>\n",
       "      <td>pct_2015</td>\n",
       "      <td>0.872481</td>\n",
       "      <td>NE</td>\n",
       "    </tr>\n",
       "    <tr>\n",
       "      <th>28</th>\n",
       "      <td>pct_2015</td>\n",
       "      <td>0.895499</td>\n",
       "      <td>NV</td>\n",
       "    </tr>\n",
       "    <tr>\n",
       "      <th>29</th>\n",
       "      <td>pct_2015</td>\n",
       "      <td>0.910162</td>\n",
       "      <td>NH</td>\n",
       "    </tr>\n",
       "    <tr>\n",
       "      <th>...</th>\n",
       "      <td>...</td>\n",
       "      <td>...</td>\n",
       "      <td>...</td>\n",
       "    </tr>\n",
       "    <tr>\n",
       "      <th>123</th>\n",
       "      <td>pct_2017</td>\n",
       "      <td>0.914165</td>\n",
       "      <td>MA</td>\n",
       "    </tr>\n",
       "    <tr>\n",
       "      <th>124</th>\n",
       "      <td>pct_2017</td>\n",
       "      <td>0.899542</td>\n",
       "      <td>MI</td>\n",
       "    </tr>\n",
       "    <tr>\n",
       "      <th>125</th>\n",
       "      <td>pct_2017</td>\n",
       "      <td>0.920914</td>\n",
       "      <td>MN</td>\n",
       "    </tr>\n",
       "    <tr>\n",
       "      <th>126</th>\n",
       "      <td>pct_2017</td>\n",
       "      <td>0.844048</td>\n",
       "      <td>MS</td>\n",
       "    </tr>\n",
       "    <tr>\n",
       "      <th>127</th>\n",
       "      <td>pct_2017</td>\n",
       "      <td>0.897656</td>\n",
       "      <td>MO</td>\n",
       "    </tr>\n",
       "    <tr>\n",
       "      <th>128</th>\n",
       "      <td>pct_2017</td>\n",
       "      <td>0.876152</td>\n",
       "      <td>MT</td>\n",
       "    </tr>\n",
       "    <tr>\n",
       "      <th>129</th>\n",
       "      <td>pct_2017</td>\n",
       "      <td>0.912260</td>\n",
       "      <td>NE</td>\n",
       "    </tr>\n",
       "    <tr>\n",
       "      <th>130</th>\n",
       "      <td>pct_2017</td>\n",
       "      <td>0.932213</td>\n",
       "      <td>NV</td>\n",
       "    </tr>\n",
       "    <tr>\n",
       "      <th>131</th>\n",
       "      <td>pct_2017</td>\n",
       "      <td>0.939852</td>\n",
       "      <td>NH</td>\n",
       "    </tr>\n",
       "    <tr>\n",
       "      <th>132</th>\n",
       "      <td>pct_2017</td>\n",
       "      <td>0.925687</td>\n",
       "      <td>NJ</td>\n",
       "    </tr>\n",
       "    <tr>\n",
       "      <th>133</th>\n",
       "      <td>pct_2017</td>\n",
       "      <td>0.858148</td>\n",
       "      <td>NM</td>\n",
       "    </tr>\n",
       "    <tr>\n",
       "      <th>134</th>\n",
       "      <td>pct_2017</td>\n",
       "      <td>0.900634</td>\n",
       "      <td>NY</td>\n",
       "    </tr>\n",
       "    <tr>\n",
       "      <th>135</th>\n",
       "      <td>pct_2017</td>\n",
       "      <td>0.895401</td>\n",
       "      <td>NC</td>\n",
       "    </tr>\n",
       "    <tr>\n",
       "      <th>136</th>\n",
       "      <td>pct_2017</td>\n",
       "      <td>0.903573</td>\n",
       "      <td>ND</td>\n",
       "    </tr>\n",
       "    <tr>\n",
       "      <th>137</th>\n",
       "      <td>pct_2017</td>\n",
       "      <td>0.896126</td>\n",
       "      <td>OH</td>\n",
       "    </tr>\n",
       "    <tr>\n",
       "      <th>138</th>\n",
       "      <td>pct_2017</td>\n",
       "      <td>0.894178</td>\n",
       "      <td>OK</td>\n",
       "    </tr>\n",
       "    <tr>\n",
       "      <th>139</th>\n",
       "      <td>pct_2017</td>\n",
       "      <td>0.932277</td>\n",
       "      <td>OR</td>\n",
       "    </tr>\n",
       "    <tr>\n",
       "      <th>140</th>\n",
       "      <td>pct_2017</td>\n",
       "      <td>0.879891</td>\n",
       "      <td>PA</td>\n",
       "    </tr>\n",
       "    <tr>\n",
       "      <th>141</th>\n",
       "      <td>pct_2017</td>\n",
       "      <td>0.897016</td>\n",
       "      <td>RI</td>\n",
       "    </tr>\n",
       "    <tr>\n",
       "      <th>142</th>\n",
       "      <td>pct_2017</td>\n",
       "      <td>0.885308</td>\n",
       "      <td>SC</td>\n",
       "    </tr>\n",
       "    <tr>\n",
       "      <th>143</th>\n",
       "      <td>pct_2017</td>\n",
       "      <td>0.875980</td>\n",
       "      <td>SD</td>\n",
       "    </tr>\n",
       "    <tr>\n",
       "      <th>144</th>\n",
       "      <td>pct_2017</td>\n",
       "      <td>0.876000</td>\n",
       "      <td>TN</td>\n",
       "    </tr>\n",
       "    <tr>\n",
       "      <th>145</th>\n",
       "      <td>pct_2017</td>\n",
       "      <td>0.917622</td>\n",
       "      <td>TX</td>\n",
       "    </tr>\n",
       "    <tr>\n",
       "      <th>146</th>\n",
       "      <td>pct_2017</td>\n",
       "      <td>0.955813</td>\n",
       "      <td>UT</td>\n",
       "    </tr>\n",
       "    <tr>\n",
       "      <th>147</th>\n",
       "      <td>pct_2017</td>\n",
       "      <td>0.889712</td>\n",
       "      <td>VT</td>\n",
       "    </tr>\n",
       "    <tr>\n",
       "      <th>148</th>\n",
       "      <td>pct_2017</td>\n",
       "      <td>0.916723</td>\n",
       "      <td>VA</td>\n",
       "    </tr>\n",
       "    <tr>\n",
       "      <th>149</th>\n",
       "      <td>pct_2017</td>\n",
       "      <td>0.942015</td>\n",
       "      <td>WA</td>\n",
       "    </tr>\n",
       "    <tr>\n",
       "      <th>150</th>\n",
       "      <td>pct_2017</td>\n",
       "      <td>0.847477</td>\n",
       "      <td>WV</td>\n",
       "    </tr>\n",
       "    <tr>\n",
       "      <th>151</th>\n",
       "      <td>pct_2017</td>\n",
       "      <td>0.893120</td>\n",
       "      <td>WI</td>\n",
       "    </tr>\n",
       "    <tr>\n",
       "      <th>152</th>\n",
       "      <td>pct_2017</td>\n",
       "      <td>0.914083</td>\n",
       "      <td>WY</td>\n",
       "    </tr>\n",
       "  </tbody>\n",
       "</table>\n",
       "<p>153 rows × 3 columns</p>\n",
       "</div>"
      ],
      "text/plain": [
       "     pct_year  internet_pct state_abbr\n",
       "0    pct_2015      0.807355         AL\n",
       "1    pct_2015      0.919265         AK\n",
       "2    pct_2015      0.876411         AZ\n",
       "3    pct_2015      0.817245         AR\n",
       "4    pct_2015      0.897699         CA\n",
       "5    pct_2015      0.912517         CO\n",
       "6    pct_2015      0.883754         CT\n",
       "7    pct_2015      0.874929         DE\n",
       "8    pct_2015      0.893542         DC\n",
       "9    pct_2015      0.874853         FL\n",
       "10   pct_2015      0.868176         GA\n",
       "11   pct_2015      0.891904         HI\n",
       "12   pct_2015      0.888517         ID\n",
       "13   pct_2015      0.863865         IL\n",
       "14   pct_2015      0.850264         IN\n",
       "15   pct_2015      0.854634         IA\n",
       "16   pct_2015      0.859392         KS\n",
       "17   pct_2015      0.819951         KY\n",
       "18   pct_2015      0.808677         LA\n",
       "19   pct_2015      0.864637         ME\n",
       "20   pct_2015      0.900776         MD\n",
       "21   pct_2015      0.893242         MA\n",
       "22   pct_2015      0.861682         MI\n",
       "23   pct_2015      0.892516         MN\n",
       "24   pct_2015      0.788120         MS\n",
       "25   pct_2015      0.855278         MO\n",
       "26   pct_2015      0.855593         MT\n",
       "27   pct_2015      0.872481         NE\n",
       "28   pct_2015      0.895499         NV\n",
       "29   pct_2015      0.910162         NH\n",
       "..        ...           ...        ...\n",
       "123  pct_2017      0.914165         MA\n",
       "124  pct_2017      0.899542         MI\n",
       "125  pct_2017      0.920914         MN\n",
       "126  pct_2017      0.844048         MS\n",
       "127  pct_2017      0.897656         MO\n",
       "128  pct_2017      0.876152         MT\n",
       "129  pct_2017      0.912260         NE\n",
       "130  pct_2017      0.932213         NV\n",
       "131  pct_2017      0.939852         NH\n",
       "132  pct_2017      0.925687         NJ\n",
       "133  pct_2017      0.858148         NM\n",
       "134  pct_2017      0.900634         NY\n",
       "135  pct_2017      0.895401         NC\n",
       "136  pct_2017      0.903573         ND\n",
       "137  pct_2017      0.896126         OH\n",
       "138  pct_2017      0.894178         OK\n",
       "139  pct_2017      0.932277         OR\n",
       "140  pct_2017      0.879891         PA\n",
       "141  pct_2017      0.897016         RI\n",
       "142  pct_2017      0.885308         SC\n",
       "143  pct_2017      0.875980         SD\n",
       "144  pct_2017      0.876000         TN\n",
       "145  pct_2017      0.917622         TX\n",
       "146  pct_2017      0.955813         UT\n",
       "147  pct_2017      0.889712         VT\n",
       "148  pct_2017      0.916723         VA\n",
       "149  pct_2017      0.942015         WA\n",
       "150  pct_2017      0.847477         WV\n",
       "151  pct_2017      0.893120         WI\n",
       "152  pct_2017      0.914083         WY\n",
       "\n",
       "[153 rows x 3 columns]"
      ]
     },
     "execution_count": 79,
     "metadata": {},
     "output_type": "execute_result"
    }
   ],
   "source": [
    "nces_household_wide"
   ]
  },
  {
   "cell_type": "code",
   "execution_count": 80,
   "metadata": {},
   "outputs": [],
   "source": [
    "totalData = household_debt_subset.merge(nces_household_wide, left_on='state',\n",
    "                                       right_on='state_abbr')"
   ]
  },
  {
   "cell_type": "code",
   "execution_count": 81,
   "metadata": {},
   "outputs": [
    {
     "data": {
      "image/png": "[encoded data removed]",
      "text/plain": [
       "<Figure size 432x288 with 2 Axes>"
      ]
     },
     "metadata": {},
     "output_type": "display_data"
    }
   ],
   "source": [
    "\n",
    "corr = totalData[['internet_pct', 'high']].corr()\n",
    "ax = sns.heatmap(\n",
    "    corr, \n",
    "    vmin=-1, vmax=1, center=0,\n",
    "    cmap=sns.diverging_palette(20, 220, n=200),\n",
    "    square=True\n",
    ")\n",
    "ax.set_xticklabels(\n",
    "    ax.get_xticklabels(),\n",
    "    rotation=45,\n",
    "    horizontalalignment='right'\n",
    ");"
   ]
  },
  {
   "cell_type": "code",
   "execution_count": 82,
   "metadata": {},
   "outputs": [],
   "source": [
    "corrData = totalData[['state','high','internet_pct']].groupby(['state']).corr().reset_index()"
   ]
  },
  {
   "cell_type": "code",
   "execution_count": 83,
   "metadata": {},
   "outputs": [],
   "source": [
    "corrData = corrData[corrData['level_1']=='high'][['internet_pct', 'state']]"
   ]
  },
  {
   "cell_type": "code",
   "execution_count": 84,
   "metadata": {},
   "outputs": [
    {
     "data": {
      "application/vnd.plotly.v1+json": {
       "config": {
        "plotlyServerURL": "https://plot.ly"
       },
       "data": [
        {
         "coloraxis": "coloraxis",
         "geo": "geo",
         "hoverlabel": {
          "namelength": 0
         },
         "hovertemplate": "state=%{location}<br>internet_pct=%{z}",
         "locationmode": "USA-states",
         "locations": [
          "AK",
          "AL",
          "AR",
          "AZ",
          "CA",
          "CO",
          "CT",
          "DC",
          "DE",
          "FL",
          "GA",
          "HI",
          "IA",
          "ID",
          "IL",
          "IN",
          "KS",
          "KY",
          "LA",
          "MA",
          "MD",
          "ME",
          "MI",
          "MN",
          "MO",
          "MS",
          "MT",
          "NC",
          "ND",
          "NE",
          "NH",
          "NJ",
          "NM",
          "NV",
          "NY",
          "OH",
          "OK",
          "OR",
          "PA",
          "RI",
          "SC",
          "SD",
          "TN",
          "TX",
          "UT",
          "VA",
          "VT",
          "WA",
          "WI",
          "WV",
          "WY"
         ],
         "name": "",
         "type": "choropleth",
         "z": [
          1.077211576296606e-17,
          5.157179508424869e-15,
          0,
          0,
          -1.991575680996706e-17,
          -2.3593568168662906e-17,
          0,
          null,
          0,
          -9.69698663154474e-18,
          -2.89282909555929e-17,
          null,
          3.040089069319823e-17,
          0,
          -2.8226352944552556e-17,
          0,
          -2.8254551893587963e-17,
          -3.2525144162594395e-17,
          2.1432275178461042e-17,
          3.121170683743719e-17,
          -3.0112217887864145e-15,
          -3.02387700738544e-17,
          0,
          -3.7054432492673586e-17,
          0,
          -1.110076143017802e-17,
          1.790192681017602e-17,
          4.527337715832768e-17,
          null,
          null,
          3.7369844682320765e-17,
          -2.234517669572833e-17,
          -8.915307659599327e-18,
          0,
          null,
          -3.4077240627204806e-17,
          -3.734837934377874e-17,
          2.1372077398034075e-17,
          2.100617881571305e-17,
          0,
          0,
          1.3006164360863253e-17,
          null,
          0,
          0,
          -2.944620404532739e-17,
          0,
          0,
          null,
          1.852220040671206e-15,
          0
         ]
        }
       ],
       "layout": {
        "coloraxis": {
         "colorbar": {
          "title": {
           "text": "internet_pct"
          }
         },
         "colorscale": [
          [
           0,
           "#0d0887"
          ],
          [
           0.1111111111111111,
           "#46039f"
          ],
          [
           0.2222222222222222,
           "#7201a8"
          ],
          [
           0.3333333333333333,
           "#9c179e"
          ],
          [
           0.4444444444444444,
           "#bd3786"
          ],
          [
           0.5555555555555556,
           "#d8576b"
          ],
          [
           0.6666666666666666,
           "#ed7953"
          ],
          [
           0.7777777777777778,
           "#fb9f3a"
          ],
          [
           0.8888888888888888,
           "#fdca26"
          ],
          [
           1,
           "#f0f921"
          ]
         ]
        },
        "geo": {
         "center": {},
         "domain": {
          "x": [
           0,
           1
          ],
          "y": [
           0,
           1
          ]
         },
         "scope": "usa"
        },
        "legend": {
         "tracegroupgap": 0
        },
        "margin": {
         "t": 60
        },
        "template": {
         "data": {
          "bar": [
           {
            "error_x": {
             "color": "#2a3f5f"
            },
            "error_y": {
             "color": "#2a3f5f"
            },
            "marker": {
             "line": {
              "color": "#E5ECF6",
              "width": 0.5
             }
            },
            "type": "bar"
           }
          ],
          "barpolar": [
           {
            "marker": {
             "line": {
              "color": "#E5ECF6",
              "width": 0.5
             }
            },
            "type": "barpolar"
           }
          ],
          "carpet": [
           {
            "aaxis": {
             "endlinecolor": "#2a3f5f",
             "gridcolor": "white",
             "linecolor": "white",
             "minorgridcolor": "white",
             "startlinecolor": "#2a3f5f"
            },
            "baxis": {
             "endlinecolor": "#2a3f5f",
             "gridcolor": "white",
             "linecolor": "white",
             "minorgridcolor": "white",
             "startlinecolor": "#2a3f5f"
            },
            "type": "carpet"
           }
          ],
          "choropleth": [
           {
            "colorbar": {
             "outlinewidth": 0,
             "ticks": ""
            },
            "type": "choropleth"
           }
          ],
          "contour": [
           {
            "colorbar": {
             "outlinewidth": 0,
             "ticks": ""
            },
            "colorscale": [
             [
              0,
              "#0d0887"
             ],
             [
              0.1111111111111111,
              "#46039f"
             ],
             [
              0.2222222222222222,
              "#7201a8"
             ],
             [
              0.3333333333333333,
              "#9c179e"
             ],
             [
              0.4444444444444444,
              "#bd3786"
             ],
             [
              0.5555555555555556,
              "#d8576b"
             ],
             [
              0.6666666666666666,
              "#ed7953"
             ],
             [
              0.7777777777777778,
              "#fb9f3a"
             ],
             [
              0.8888888888888888,
              "#fdca26"
             ],
             [
              1,
              "#f0f921"
             ]
            ],
            "type": "contour"
           }
          ],
          "contourcarpet": [
           {
            "colorbar": {
             "outlinewidth": 0,
             "ticks": ""
            },
            "type": "contourcarpet"
           }
          ],
          "heatmap": [
           {
            "colorbar": {
             "outlinewidth": 0,
             "ticks": ""
            },
            "colorscale": [
             [
              0,
              "#0d0887"
             ],
             [
              0.1111111111111111,
              "#46039f"
             ],
             [
              0.2222222222222222,
              "#7201a8"
             ],
             [
              0.3333333333333333,
              "#9c179e"
             ],
             [
              0.4444444444444444,
              "#bd3786"
             ],
             [
              0.5555555555555556,
              "#d8576b"
             ],
             [
              0.6666666666666666,
              "#ed7953"
             ],
             [
              0.7777777777777778,
              "#fb9f3a"
             ],
             [
              0.8888888888888888,
              "#fdca26"
             ],
             [
              1,
              "#f0f921"
             ]
            ],
            "type": "heatmap"
           }
          ],
          "heatmapgl": [
           {
            "colorbar": {
             "outlinewidth": 0,
             "ticks": ""
            },
            "colorscale": [
             [
              0,
              "#0d0887"
             ],
             [
              0.1111111111111111,
              "#46039f"
             ],
             [
              0.2222222222222222,
              "#7201a8"
             ],
             [
              0.3333333333333333,
              "#9c179e"
             ],
             [
              0.4444444444444444,
              "#bd3786"
             ],
             [
              0.5555555555555556,
              "#d8576b"
             ],
             [
              0.6666666666666666,
              "#ed7953"
             ],
             [
              0.7777777777777778,
              "#fb9f3a"
             ],
             [
              0.8888888888888888,
              "#fdca26"
             ],
             [
              1,
              "#f0f921"
             ]
            ],
            "type": "heatmapgl"
           }
          ],
          "histogram": [
           {
            "marker": {
             "colorbar": {
              "outlinewidth": 0,
              "ticks": ""
             }
            },
            "type": "histogram"
           }
          ],
          "histogram2d": [
           {
            "colorbar": {
             "outlinewidth": 0,
             "ticks": ""
            },
            "colorscale": [
             [
              0,
              "#0d0887"
             ],
             [
              0.1111111111111111,
              "#46039f"
             ],
             [
              0.2222222222222222,
              "#7201a8"
             ],
             [
              0.3333333333333333,
              "#9c179e"
             ],
             [
              0.4444444444444444,
              "#bd3786"
             ],
             [
              0.5555555555555556,
              "#d8576b"
             ],
             [
              0.6666666666666666,
              "#ed7953"
             ],
             [
              0.7777777777777778,
              "#fb9f3a"
             ],
             [
              0.8888888888888888,
              "#fdca26"
             ],
             [
              1,
              "#f0f921"
             ]
            ],
            "type": "histogram2d"
           }
          ],
          "histogram2dcontour": [
           {
            "colorbar": {
             "outlinewidth": 0,
             "ticks": ""
            },
            "colorscale": [
             [
              0,
              "#0d0887"
             ],
             [
              0.1111111111111111,
              "#46039f"
             ],
             [
              0.2222222222222222,
              "#7201a8"
             ],
             [
              0.3333333333333333,
              "#9c179e"
             ],
             [
              0.4444444444444444,
              "#bd3786"
             ],
             [
              0.5555555555555556,
              "#d8576b"
             ],
             [
              0.6666666666666666,
              "#ed7953"
             ],
             [
              0.7777777777777778,
              "#fb9f3a"
             ],
             [
              0.8888888888888888,
              "#fdca26"
             ],
             [
              1,
              "#f0f921"
             ]
            ],
            "type": "histogram2dcontour"
           }
          ],
          "mesh3d": [
           {
            "colorbar": {
             "outlinewidth": 0,
             "ticks": ""
            },
            "type": "mesh3d"
           }
          ],
          "parcoords": [
           {
            "line": {
             "colorbar": {
              "outlinewidth": 0,
              "ticks": ""
             }
            },
            "type": "parcoords"
           }
          ],
          "pie": [
           {
            "automargin": true,
            "type": "pie"
           }
          ],
          "scatter": [
           {
            "marker": {
             "colorbar": {
              "outlinewidth": 0,
              "ticks": ""
             }
            },
            "type": "scatter"
           }
          ],
          "scatter3d": [
           {
            "line": {
             "colorbar": {
              "outlinewidth": 0,
              "ticks": ""
             }
            },
            "marker": {
             "colorbar": {
              "outlinewidth": 0,
              "ticks": ""
             }
            },
            "type": "scatter3d"
           }
          ],
          "scattercarpet": [
           {
            "marker": {
             "colorbar": {
              "outlinewidth": 0,
              "ticks": ""
             }
            },
            "type": "scattercarpet"
           }
          ],
          "scattergeo": [
           {
            "marker": {
             "colorbar": {
              "outlinewidth": 0,
              "ticks": ""
             }
            },
            "type": "scattergeo"
           }
          ],
          "scattergl": [
           {
            "marker": {
             "colorbar": {
              "outlinewidth": 0,
              "ticks": ""
             }
            },
            "type": "scattergl"
           }
          ],
          "scattermapbox": [
           {
            "marker": {
             "colorbar": {
              "outlinewidth": 0,
              "ticks": ""
             }
            },
            "type": "scattermapbox"
           }
          ],
          "scatterpolar": [
           {
            "marker": {
             "colorbar": {
              "outlinewidth": 0,
              "ticks": ""
             }
            },
            "type": "scatterpolar"
           }
          ],
          "scatterpolargl": [
           {
            "marker": {
             "colorbar": {
              "outlinewidth": 0,
              "ticks": ""
             }
            },
            "type": "scatterpolargl"
           }
          ],
          "scatterternary": [
           {
            "marker": {
             "colorbar": {
              "outlinewidth": 0,
              "ticks": ""
             }
            },
            "type": "scatterternary"
           }
          ],
          "surface": [
           {
            "colorbar": {
             "outlinewidth": 0,
             "ticks": ""
            },
            "colorscale": [
             [
              0,
              "#0d0887"
             ],
             [
              0.1111111111111111,
              "#46039f"
             ],
             [
              0.2222222222222222,
              "#7201a8"
             ],
             [
              0.3333333333333333,
              "#9c179e"
             ],
             [
              0.4444444444444444,
              "#bd3786"
             ],
             [
              0.5555555555555556,
              "#d8576b"
             ],
             [
              0.6666666666666666,
              "#ed7953"
             ],
             [
              0.7777777777777778,
              "#fb9f3a"
             ],
             [
              0.8888888888888888,
              "#fdca26"
             ],
             [
              1,
              "#f0f921"
             ]
            ],
            "type": "surface"
           }
          ],
          "table": [
           {
            "cells": {
             "fill": {
              "color": "#EBF0F8"
             },
             "line": {
              "color": "white"
             }
            },
            "header": {
             "fill": {
              "color": "#C8D4E3"
             },
             "line": {
              "color": "white"
             }
            },
            "type": "table"
           }
          ]
         },
         "layout": {
          "annotationdefaults": {
           "arrowcolor": "#2a3f5f",
           "arrowhead": 0,
           "arrowwidth": 1
          },
          "coloraxis": {
           "colorbar": {
            "outlinewidth": 0,
            "ticks": ""
           }
          },
          "colorscale": {
           "diverging": [
            [
             0,
             "#8e0152"
            ],
            [
             0.1,
             "#c51b7d"
            ],
            [
             0.2,
             "#de77ae"
            ],
            [
             0.3,
             "#f1b6da"
            ],
            [
             0.4,
             "#fde0ef"
            ],
            [
             0.5,
             "#f7f7f7"
            ],
            [
             0.6,
             "#e6f5d0"
            ],
            [
             0.7,
             "#b8e186"
            ],
            [
             0.8,
             "#7fbc41"
            ],
            [
             0.9,
             "#4d9221"
            ],
            [
             1,
             "#276419"
            ]
           ],
           "sequential": [
            [
             0,
             "#0d0887"
            ],
            [
             0.1111111111111111,
             "#46039f"
            ],
            [
             0.2222222222222222,
             "#7201a8"
            ],
            [
             0.3333333333333333,
             "#9c179e"
            ],
            [
             0.4444444444444444,
             "#bd3786"
            ],
            [
             0.5555555555555556,
             "#d8576b"
            ],
            [
             0.6666666666666666,
             "#ed7953"
            ],
            [
             0.7777777777777778,
             "#fb9f3a"
            ],
            [
             0.8888888888888888,
             "#fdca26"
            ],
            [
             1,
             "#f0f921"
            ]
           ],
           "sequentialminus": [
            [
             0,
             "#0d0887"
            ],
            [
             0.1111111111111111,
             "#46039f"
            ],
            [
             0.2222222222222222,
             "#7201a8"
            ],
            [
             0.3333333333333333,
             "#9c179e"
            ],
            [
             0.4444444444444444,
             "#bd3786"
            ],
            [
             0.5555555555555556,
             "#d8576b"
            ],
            [
             0.6666666666666666,
             "#ed7953"
            ],
            [
             0.7777777777777778,
             "#fb9f3a"
            ],
            [
             0.8888888888888888,
             "#fdca26"
            ],
            [
             1,
             "#f0f921"
            ]
           ]
          },
          "colorway": [
           "#636efa",
           "#EF553B",
           "#00cc96",
           "#ab63fa",
           "#FFA15A",
           "#19d3f3",
           "#FF6692",
           "#B6E880",
           "#FF97FF",
           "#FECB52"
          ],
          "font": {
           "color": "#2a3f5f"
          },
          "geo": {
           "bgcolor": "white",
           "lakecolor": "white",
           "landcolor": "#E5ECF6",
           "showlakes": true,
           "showland": true,
           "subunitcolor": "white"
          },
          "hoverlabel": {
           "align": "left"
          },
          "hovermode": "closest",
          "mapbox": {
           "style": "light"
          },
          "paper_bgcolor": "white",
          "plot_bgcolor": "#E5ECF6",
          "polar": {
           "angularaxis": {
            "gridcolor": "white",
            "linecolor": "white",
            "ticks": ""
           },
           "bgcolor": "#E5ECF6",
           "radialaxis": {
            "gridcolor": "white",
            "linecolor": "white",
            "ticks": ""
           }
          },
          "scene": {
           "xaxis": {
            "backgroundcolor": "#E5ECF6",
            "gridcolor": "white",
            "gridwidth": 2,
            "linecolor": "white",
            "showbackground": true,
            "ticks": "",
            "zerolinecolor": "white"
           },
           "yaxis": {
            "backgroundcolor": "#E5ECF6",
            "gridcolor": "white",
            "gridwidth": 2,
            "linecolor": "white",
            "showbackground": true,
            "ticks": "",
            "zerolinecolor": "white"
           },
           "zaxis": {
            "backgroundcolor": "#E5ECF6",
            "gridcolor": "white",
            "gridwidth": 2,
            "linecolor": "white",
            "showbackground": true,
            "ticks": "",
            "zerolinecolor": "white"
           }
          },
          "shapedefaults": {
           "line": {
            "color": "#2a3f5f"
           }
          },
          "ternary": {
           "aaxis": {
            "gridcolor": "white",
            "linecolor": "white",
            "ticks": ""
           },
           "baxis": {
            "gridcolor": "white",
            "linecolor": "white",
            "ticks": ""
           },
           "bgcolor": "#E5ECF6",
           "caxis": {
            "gridcolor": "white",
            "linecolor": "white",
            "ticks": ""
           }
          },
          "title": {
           "x": 0.05
          },
          "xaxis": {
           "automargin": true,
           "gridcolor": "white",
           "linecolor": "white",
           "ticks": "",
           "title": {
            "standoff": 15
           },
           "zerolinecolor": "white",
           "zerolinewidth": 2
          },
          "yaxis": {
           "automargin": true,
           "gridcolor": "white",
           "linecolor": "white",
           "ticks": "",
           "title": {
            "standoff": 15
           },
           "zerolinecolor": "white",
           "zerolinewidth": 2
          }
         }
        },
        "title": {
         "text": "Correlation Estimates of Consumer Debt-to-Income and Internet Usage"
        }
       }
      },
      "text/html": [
       "<div>\n",
       "        \n",
       "        \n",
       "            <div id=\"f2fe8a71-add3-45f2-9764-2b5070f0f2f0\" class=\"plotly-graph-div\" style=\"height:525px; width:100%;\"></div>\n",
       "            <script type=\"text/javascript\">\n",
       "                require([\"plotly\"], function(Plotly) {\n",
       "                    window.PLOTLYENV=window.PLOTLYENV || {};\n",
       "                    \n",
       "                if (document.getElementById(\"f2fe8a71-add3-45f2-9764-2b5070f0f2f0\")) {\n",
       "                    Plotly.newPlot(\n",
       "                        'f2fe8a71-add3-45f2-9764-2b5070f0f2f0',\n",
       "                        [{\"coloraxis\": \"coloraxis\", \"geo\": \"geo\", \"hoverlabel\": {\"namelength\": 0}, \"hovertemplate\": \"state=%{location}<br>internet_pct=%{z}\", \"locationmode\": \"USA-states\", \"locations\": [\"AK\", \"AL\", \"AR\", \"AZ\", \"CA\", \"CO\", \"CT\", \"DC\", \"DE\", \"FL\", \"GA\", \"HI\", \"IA\", \"ID\", \"IL\", \"IN\", \"KS\", \"KY\", \"LA\", \"MA\", \"MD\", \"ME\", \"MI\", \"MN\", \"MO\", \"MS\", \"MT\", \"NC\", \"ND\", \"NE\", \"NH\", \"NJ\", \"NM\", \"NV\", \"NY\", \"OH\", \"OK\", \"OR\", \"PA\", \"RI\", \"SC\", \"SD\", \"TN\", \"TX\", \"UT\", \"VA\", \"VT\", \"WA\", \"WI\", \"WV\", \"WY\"], \"name\": \"\", \"type\": \"choropleth\", \"z\": [1.077211576296606e-17, 5.157179508424869e-15, 0.0, 0.0, -1.991575680996706e-17, -2.3593568168662906e-17, 0.0, null, 0.0, -9.69698663154474e-18, -2.89282909555929e-17, null, 3.040089069319823e-17, 0.0, -2.8226352944552556e-17, 0.0, -2.8254551893587963e-17, -3.2525144162594395e-17, 2.1432275178461042e-17, 3.121170683743719e-17, -3.0112217887864145e-15, -3.02387700738544e-17, 0.0, -3.7054432492673586e-17, 0.0, -1.110076143017802e-17, 1.790192681017602e-17, 4.527337715832768e-17, null, null, 3.7369844682320765e-17, -2.234517669572833e-17, -8.915307659599327e-18, 0.0, null, -3.4077240627204806e-17, -3.734837934377874e-17, 2.1372077398034075e-17, 2.100617881571305e-17, 0.0, 0.0, 1.3006164360863253e-17, null, 0.0, 0.0, -2.944620404532739e-17, 0.0, 0.0, null, 1.852220040671206e-15, 0.0]}],\n",
       "                        {\"coloraxis\": {\"colorbar\": {\"title\": {\"text\": \"internet_pct\"}}, \"colorscale\": [[0.0, \"#0d0887\"], [0.1111111111111111, \"#46039f\"], [0.2222222222222222, \"#7201a8\"], [0.3333333333333333, \"#9c179e\"], [0.4444444444444444, \"#bd3786\"], [0.5555555555555556, \"#d8576b\"], [0.6666666666666666, \"#ed7953\"], [0.7777777777777778, \"#fb9f3a\"], [0.8888888888888888, \"#fdca26\"], [1.0, \"#f0f921\"]]}, \"geo\": {\"center\": {}, \"domain\": {\"x\": [0.0, 1.0], \"y\": [0.0, 1.0]}, \"scope\": \"usa\"}, \"legend\": {\"tracegroupgap\": 0}, \"margin\": {\"t\": 60}, \"template\": {\"data\": {\"bar\": [{\"error_x\": {\"color\": \"#2a3f5f\"}, \"error_y\": {\"color\": \"#2a3f5f\"}, \"marker\": {\"line\": {\"color\": \"#E5ECF6\", \"width\": 0.5}}, \"type\": \"bar\"}], \"barpolar\": [{\"marker\": {\"line\": {\"color\": \"#E5ECF6\", \"width\": 0.5}}, \"type\": \"barpolar\"}], \"carpet\": [{\"aaxis\": {\"endlinecolor\": \"#2a3f5f\", \"gridcolor\": \"white\", \"linecolor\": \"white\", \"minorgridcolor\": \"white\", \"startlinecolor\": \"#2a3f5f\"}, \"baxis\": {\"endlinecolor\": \"#2a3f5f\", \"gridcolor\": \"white\", \"linecolor\": \"white\", \"minorgridcolor\": \"white\", \"startlinecolor\": \"#2a3f5f\"}, \"type\": \"carpet\"}], \"choropleth\": [{\"colorbar\": {\"outlinewidth\": 0, \"ticks\": \"\"}, \"type\": \"choropleth\"}], \"contour\": [{\"colorbar\": {\"outlinewidth\": 0, \"ticks\": \"\"}, \"colorscale\": [[0.0, \"#0d0887\"], [0.1111111111111111, \"#46039f\"], [0.2222222222222222, \"#7201a8\"], [0.3333333333333333, \"#9c179e\"], [0.4444444444444444, \"#bd3786\"], [0.5555555555555556, \"#d8576b\"], [0.6666666666666666, \"#ed7953\"], [0.7777777777777778, \"#fb9f3a\"], [0.8888888888888888, \"#fdca26\"], [1.0, \"#f0f921\"]], \"type\": \"contour\"}], \"contourcarpet\": [{\"colorbar\": {\"outlinewidth\": 0, \"ticks\": \"\"}, \"type\": \"contourcarpet\"}], \"heatmap\": [{\"colorbar\": {\"outlinewidth\": 0, \"ticks\": \"\"}, \"colorscale\": [[0.0, \"#0d0887\"], [0.1111111111111111, \"#46039f\"], [0.2222222222222222, \"#7201a8\"], [0.3333333333333333, \"#9c179e\"], [0.4444444444444444, \"#bd3786\"], [0.5555555555555556, \"#d8576b\"], [0.6666666666666666, \"#ed7953\"], [0.7777777777777778, \"#fb9f3a\"], [0.8888888888888888, \"#fdca26\"], [1.0, \"#f0f921\"]], \"type\": \"heatmap\"}], \"heatmapgl\": [{\"colorbar\": {\"outlinewidth\": 0, \"ticks\": \"\"}, \"colorscale\": [[0.0, \"#0d0887\"], [0.1111111111111111, \"#46039f\"], [0.2222222222222222, \"#7201a8\"], [0.3333333333333333, \"#9c179e\"], [0.4444444444444444, \"#bd3786\"], [0.5555555555555556, \"#d8576b\"], [0.6666666666666666, \"#ed7953\"], [0.7777777777777778, \"#fb9f3a\"], [0.8888888888888888, \"#fdca26\"], [1.0, \"#f0f921\"]], \"type\": \"heatmapgl\"}], \"histogram\": [{\"marker\": {\"colorbar\": {\"outlinewidth\": 0, \"ticks\": \"\"}}, \"type\": \"histogram\"}], \"histogram2d\": [{\"colorbar\": {\"outlinewidth\": 0, \"ticks\": \"\"}, \"colorscale\": [[0.0, \"#0d0887\"], [0.1111111111111111, \"#46039f\"], [0.2222222222222222, \"#7201a8\"], [0.3333333333333333, \"#9c179e\"], [0.4444444444444444, \"#bd3786\"], [0.5555555555555556, \"#d8576b\"], [0.6666666666666666, \"#ed7953\"], [0.7777777777777778, \"#fb9f3a\"], [0.8888888888888888, \"#fdca26\"], [1.0, \"#f0f921\"]], \"type\": \"histogram2d\"}], \"histogram2dcontour\": [{\"colorbar\": {\"outlinewidth\": 0, \"ticks\": \"\"}, \"colorscale\": [[0.0, \"#0d0887\"], [0.1111111111111111, \"#46039f\"], [0.2222222222222222, \"#7201a8\"], [0.3333333333333333, \"#9c179e\"], [0.4444444444444444, \"#bd3786\"], [0.5555555555555556, \"#d8576b\"], [0.6666666666666666, \"#ed7953\"], [0.7777777777777778, \"#fb9f3a\"], [0.8888888888888888, \"#fdca26\"], [1.0, \"#f0f921\"]], \"type\": \"histogram2dcontour\"}], \"mesh3d\": [{\"colorbar\": {\"outlinewidth\": 0, \"ticks\": \"\"}, \"type\": \"mesh3d\"}], \"parcoords\": [{\"line\": {\"colorbar\": {\"outlinewidth\": 0, \"ticks\": \"\"}}, \"type\": \"parcoords\"}], \"pie\": [{\"automargin\": true, \"type\": \"pie\"}], \"scatter\": [{\"marker\": {\"colorbar\": {\"outlinewidth\": 0, \"ticks\": \"\"}}, \"type\": \"scatter\"}], \"scatter3d\": [{\"line\": {\"colorbar\": {\"outlinewidth\": 0, \"ticks\": \"\"}}, \"marker\": {\"colorbar\": {\"outlinewidth\": 0, \"ticks\": \"\"}}, \"type\": \"scatter3d\"}], \"scattercarpet\": [{\"marker\": {\"colorbar\": {\"outlinewidth\": 0, \"ticks\": \"\"}}, \"type\": \"scattercarpet\"}], \"scattergeo\": [{\"marker\": {\"colorbar\": {\"outlinewidth\": 0, \"ticks\": \"\"}}, \"type\": \"scattergeo\"}], \"scattergl\": [{\"marker\": {\"colorbar\": {\"outlinewidth\": 0, \"ticks\": \"\"}}, \"type\": \"scattergl\"}], \"scattermapbox\": [{\"marker\": {\"colorbar\": {\"outlinewidth\": 0, \"ticks\": \"\"}}, \"type\": \"scattermapbox\"}], \"scatterpolar\": [{\"marker\": {\"colorbar\": {\"outlinewidth\": 0, \"ticks\": \"\"}}, \"type\": \"scatterpolar\"}], \"scatterpolargl\": [{\"marker\": {\"colorbar\": {\"outlinewidth\": 0, \"ticks\": \"\"}}, \"type\": \"scatterpolargl\"}], \"scatterternary\": [{\"marker\": {\"colorbar\": {\"outlinewidth\": 0, \"ticks\": \"\"}}, \"type\": \"scatterternary\"}], \"surface\": [{\"colorbar\": {\"outlinewidth\": 0, \"ticks\": \"\"}, \"colorscale\": [[0.0, \"#0d0887\"], [0.1111111111111111, \"#46039f\"], [0.2222222222222222, \"#7201a8\"], [0.3333333333333333, \"#9c179e\"], [0.4444444444444444, \"#bd3786\"], [0.5555555555555556, \"#d8576b\"], [0.6666666666666666, \"#ed7953\"], [0.7777777777777778, \"#fb9f3a\"], [0.8888888888888888, \"#fdca26\"], [1.0, \"#f0f921\"]], \"type\": \"surface\"}], \"table\": [{\"cells\": {\"fill\": {\"color\": \"#EBF0F8\"}, \"line\": {\"color\": \"white\"}}, \"header\": {\"fill\": {\"color\": \"#C8D4E3\"}, \"line\": {\"color\": \"white\"}}, \"type\": \"table\"}]}, \"layout\": {\"annotationdefaults\": {\"arrowcolor\": \"#2a3f5f\", \"arrowhead\": 0, \"arrowwidth\": 1}, \"coloraxis\": {\"colorbar\": {\"outlinewidth\": 0, \"ticks\": \"\"}}, \"colorscale\": {\"diverging\": [[0, \"#8e0152\"], [0.1, \"#c51b7d\"], [0.2, \"#de77ae\"], [0.3, \"#f1b6da\"], [0.4, \"#fde0ef\"], [0.5, \"#f7f7f7\"], [0.6, \"#e6f5d0\"], [0.7, \"#b8e186\"], [0.8, \"#7fbc41\"], [0.9, \"#4d9221\"], [1, \"#276419\"]], \"sequential\": [[0.0, \"#0d0887\"], [0.1111111111111111, \"#46039f\"], [0.2222222222222222, \"#7201a8\"], [0.3333333333333333, \"#9c179e\"], [0.4444444444444444, \"#bd3786\"], [0.5555555555555556, \"#d8576b\"], [0.6666666666666666, \"#ed7953\"], [0.7777777777777778, \"#fb9f3a\"], [0.8888888888888888, \"#fdca26\"], [1.0, \"#f0f921\"]], \"sequentialminus\": [[0.0, \"#0d0887\"], [0.1111111111111111, \"#46039f\"], [0.2222222222222222, \"#7201a8\"], [0.3333333333333333, \"#9c179e\"], [0.4444444444444444, \"#bd3786\"], [0.5555555555555556, \"#d8576b\"], [0.6666666666666666, \"#ed7953\"], [0.7777777777777778, \"#fb9f3a\"], [0.8888888888888888, \"#fdca26\"], [1.0, \"#f0f921\"]]}, \"colorway\": [\"#636efa\", \"#EF553B\", \"#00cc96\", \"#ab63fa\", \"#FFA15A\", \"#19d3f3\", \"#FF6692\", \"#B6E880\", \"#FF97FF\", \"#FECB52\"], \"font\": {\"color\": \"#2a3f5f\"}, \"geo\": {\"bgcolor\": \"white\", \"lakecolor\": \"white\", \"landcolor\": \"#E5ECF6\", \"showlakes\": true, \"showland\": true, \"subunitcolor\": \"white\"}, \"hoverlabel\": {\"align\": \"left\"}, \"hovermode\": \"closest\", \"mapbox\": {\"style\": \"light\"}, \"paper_bgcolor\": \"white\", \"plot_bgcolor\": \"#E5ECF6\", \"polar\": {\"angularaxis\": {\"gridcolor\": \"white\", \"linecolor\": \"white\", \"ticks\": \"\"}, \"bgcolor\": \"#E5ECF6\", \"radialaxis\": {\"gridcolor\": \"white\", \"linecolor\": \"white\", \"ticks\": \"\"}}, \"scene\": {\"xaxis\": {\"backgroundcolor\": \"#E5ECF6\", \"gridcolor\": \"white\", \"gridwidth\": 2, \"linecolor\": \"white\", \"showbackground\": true, \"ticks\": \"\", \"zerolinecolor\": \"white\"}, \"yaxis\": {\"backgroundcolor\": \"#E5ECF6\", \"gridcolor\": \"white\", \"gridwidth\": 2, \"linecolor\": \"white\", \"showbackground\": true, \"ticks\": \"\", \"zerolinecolor\": \"white\"}, \"zaxis\": {\"backgroundcolor\": \"#E5ECF6\", \"gridcolor\": \"white\", \"gridwidth\": 2, \"linecolor\": \"white\", \"showbackground\": true, \"ticks\": \"\", \"zerolinecolor\": \"white\"}}, \"shapedefaults\": {\"line\": {\"color\": \"#2a3f5f\"}}, \"ternary\": {\"aaxis\": {\"gridcolor\": \"white\", \"linecolor\": \"white\", \"ticks\": \"\"}, \"baxis\": {\"gridcolor\": \"white\", \"linecolor\": \"white\", \"ticks\": \"\"}, \"bgcolor\": \"#E5ECF6\", \"caxis\": {\"gridcolor\": \"white\", \"linecolor\": \"white\", \"ticks\": \"\"}}, \"title\": {\"x\": 0.05}, \"xaxis\": {\"automargin\": true, \"gridcolor\": \"white\", \"linecolor\": \"white\", \"ticks\": \"\", \"title\": {\"standoff\": 15}, \"zerolinecolor\": \"white\", \"zerolinewidth\": 2}, \"yaxis\": {\"automargin\": true, \"gridcolor\": \"white\", \"linecolor\": \"white\", \"ticks\": \"\", \"title\": {\"standoff\": 15}, \"zerolinecolor\": \"white\", \"zerolinewidth\": 2}}}, \"title\": {\"text\": \"Correlation Estimates of Consumer Debt-to-Income and Internet Usage\"}},\n",
       "                        {\"responsive\": true}\n",
       "                    ).then(function(){\n",
       "                            \n",
       "var gd = document.getElementById('f2fe8a71-add3-45f2-9764-2b5070f0f2f0');\n",
       "var x = new MutationObserver(function (mutations, observer) {{\n",
       "        var display = window.getComputedStyle(gd).display;\n",
       "        if (!display || display === 'none') {{\n",
       "            console.log([gd, 'removed!']);\n",
       "            Plotly.purge(gd);\n",
       "            observer.disconnect();\n",
       "        }}\n",
       "}});\n",
       "\n",
       "// Listen for the removal of the full notebook cells\n",
       "var notebookContainer = gd.closest('#notebook-container');\n",
       "if (notebookContainer) {{\n",
       "    x.observe(notebookContainer, {childList: true});\n",
       "}}\n",
       "\n",
       "// Listen for the clearing of the current output cell\n",
       "var outputEl = gd.closest('.output');\n",
       "if (outputEl) {{\n",
       "    x.observe(outputEl, {childList: true});\n",
       "}}\n",
       "\n",
       "                        })\n",
       "                };\n",
       "                });\n",
       "            </script>\n",
       "        </div>"
      ]
     },
     "metadata": {},
     "output_type": "display_data"
    }
   ],
   "source": [
    "corr_fig = px.choropleth(corrData,  # Input Pandas DataFrame\n",
    "                    locations=\"state\",  # DataFrame column with locations\n",
    "                    color=\"internet_pct\",  # DataFrame column with color values\n",
    "                    locationmode = 'USA-states') # Set to plot as US States\n",
    "corr_fig.update_layout(\n",
    "    title_text = 'Correlation Estimates of Consumer Debt-to-Income and Internet Usage', # Create a Title\n",
    "    geo_scope='usa',  # Plot only the USA instead of globe\n",
    ")\n",
    "\n",
    "corr_fig.show()"
   ]
  },
  {
   "cell_type": "code",
   "execution_count": 90,
   "metadata": {},
   "outputs": [
    {
     "data": {
      "application/vnd.plotly.v1+json": {
       "config": {
        "plotlyServerURL": "https://plot.ly"
       },
       "data": [
        {
         "hoverlabel": {
          "namelength": 0
         },
         "hovertemplate": "internet_pct=%{x}<br>low=%{y}",
         "legendgroup": "",
         "marker": {
          "color": "#636efa",
          "symbol": "circle"
         },
         "mode": "markers",
         "name": "",
         "showlegend": false,
         "type": "scatter",
         "x": [
          0.9192645883293366,
          0.9440643863179075,
          0.9441563621858795,
          0.9192645883293366,
          0.9440643863179075,
          0.9441563621858795,
          0.9192645883293366,
          0.9440643863179075,
          0.9441563621858795,
          0.8073548526863085,
          0.8390823211875843,
          0.8596948471520878,
          0.8073548526863085,
          0.8390823211875843,
          0.8596948471520878,
          0.8073548526863085,
          0.8390823211875843,
          0.8596948471520878,
          0.8172446929326461,
          0.8448411656602783,
          0.8608967132078744,
          0.8172446929326461,
          0.8448411656602783,
          0.8608967132078744,
          0.8172446929326461,
          0.8448411656602783,
          0.8608967132078744,
          0.8764108810393829,
          0.9104442062641419,
          0.9229533881707794,
          0.8764108810393829,
          0.9104442062641419,
          0.9229533881707794,
          0.8764108810393829,
          0.9104442062641419,
          0.9229533881707794,
          0.8976993401208099,
          0.9212002286738462,
          0.9350562471645739,
          0.8976993401208099,
          0.9212002286738462,
          0.9350562471645739,
          0.8976993401208099,
          0.9212002286738462,
          0.9350562471645739,
          0.912517472405649,
          0.9344238975817923,
          0.9425953627524308,
          0.912517472405649,
          0.9344238975817923,
          0.9425953627524308,
          0.912517472405649,
          0.9344238975817923,
          0.9425953627524308,
          0.8837538140954082,
          0.8946437780888529,
          0.9120725235849056,
          0.8837538140954082,
          0.8946437780888529,
          0.9120725235849056,
          0.8837538140954082,
          0.8946437780888529,
          0.9120725235849056,
          0.893541518807665,
          0.9018492176386913,
          0.9207815275310834,
          0.893541518807665,
          0.9018492176386913,
          0.9207815275310834,
          0.893541518807665,
          0.9018492176386913,
          0.9207815275310834,
          0.8749290981281905,
          0.9108516092281401,
          0.9348980162056441,
          0.8749290981281905,
          0.9108516092281401,
          0.9348980162056441,
          0.8749290981281905,
          0.9108516092281401,
          0.9348980162056441,
          0.8748526101404224,
          0.9014722387271407,
          0.9198829648894669,
          0.8748526101404224,
          0.9014722387271407,
          0.9198829648894669,
          0.8748526101404224,
          0.9014722387271407,
          0.9198829648894669,
          0.8681763483207526,
          0.8944684083448632,
          0.9086539745267149,
          0.8681763483207526,
          0.8944684083448632,
          0.9086539745267149,
          0.8681763483207526,
          0.8944684083448632,
          0.9086539745267149,
          0.8919040143529939,
          0.9127001535424435,
          0.9098450120061122,
          0.8919040143529939,
          0.9127001535424435,
          0.9098450120061122,
          0.8919040143529939,
          0.9127001535424435,
          0.9098450120061122,
          0.8546343810134702,
          0.8789967144803269,
          0.9003578528827038,
          0.8546343810134702,
          0.8789967144803269,
          0.9003578528827038,
          0.8546343810134702,
          0.8789967144803269,
          0.9003578528827038,
          0.8885169065952461,
          0.8909805205434604,
          0.9110542313229884,
          0.8885169065952461,
          0.8909805205434604,
          0.9110542313229884,
          0.8885169065952461,
          0.8909805205434604,
          0.9110542313229884,
          0.8638648451350506,
          0.8904396515968478,
          0.9031754944163704,
          0.8638648451350506,
          0.8904396515968478,
          0.9031754944163704,
          0.8638648451350506,
          0.8904396515968478,
          0.9031754944163704,
          0.8502644030058447,
          0.8781826076658903,
          0.8893755132366168,
          0.8502644030058447,
          0.8781826076658903,
          0.8893755132366168,
          0.8502644030058447,
          0.8781826076658903,
          0.8893755132366168,
          0.8593918675782656,
          0.8855367435158501,
          0.9085916740478299,
          0.8593918675782656,
          0.8855367435158501,
          0.9085916740478299,
          0.8593918675782656,
          0.8855367435158501,
          0.9085916740478299,
          0.8199510546556346,
          0.8489258892705361,
          0.8616811594202899,
          0.8199510546556346,
          0.8489258892705361,
          0.8616811594202899,
          0.8199510546556346,
          0.8489258892705361,
          0.8616811594202899,
          0.8086771390758962,
          0.844839609483961,
          0.8593057394508088,
          0.8086771390758962,
          0.844839609483961,
          0.8593057394508088,
          0.8086771390758962,
          0.844839609483961,
          0.8593057394508088,
          0.8932421875,
          0.9054855592169025,
          0.9141650671785029,
          0.8932421875,
          0.9054855592169025,
          0.9141650671785029,
          0.8932421875,
          0.9054855592169025,
          0.9141650671785029,
          0.9007759768584416,
          0.9166173053264683,
          0.9308657636025914,
          0.9007759768584416,
          0.9166173053264683,
          0.9308657636025914,
          0.9007759768584416,
          0.9166173053264683,
          0.9308657636025914,
          0.8646368305209098,
          0.8905397780703405,
          0.8968576709796673,
          0.8646368305209098,
          0.8905397780703405,
          0.8968576709796673,
          0.8646368305209098,
          0.8905397780703405,
          0.8968576709796673,
          0.8616820007775042,
          0.8831419597343082,
          0.8995419847328244,
          0.8616820007775042,
          0.8831419597343082,
          0.8995419847328244,
          0.8616820007775042,
          0.8831419597343082,
          0.8995419847328244,
          0.8925161831136776,
          0.9033834411504631,
          0.9209138840070299,
          0.8925161831136776,
          0.9033834411504631,
          0.9209138840070299,
          0.8925161831136776,
          0.9033834411504631,
          0.9209138840070299,
          0.855277567180524,
          0.8828513616052609,
          0.8976562827554401,
          0.855277567180524,
          0.8828513616052609,
          0.8976562827554401,
          0.855277567180524,
          0.8828513616052609,
          0.8976562827554401,
          0.7881202462875769,
          0.8223220012828736,
          0.844047619047619,
          0.7881202462875769,
          0.8223220012828736,
          0.844047619047619,
          0.7881202462875769,
          0.8223220012828736,
          0.844047619047619,
          0.8555930568948891,
          0.8781542898341744,
          0.8761522098794611,
          0.8555930568948891,
          0.8781542898341744,
          0.8761522098794611,
          0.8555930568948891,
          0.8781542898341744,
          0.8761522098794611,
          0.8505905614235912,
          0.8803832680815991,
          0.8954008748198529,
          0.8505905614235912,
          0.8803832680815991,
          0.8954008748198529,
          0.8505905614235912,
          0.8803832680815991,
          0.8954008748198529,
          0.8653907496012759,
          0.8955887019993652,
          0.9035725576983876,
          0.8653907496012759,
          0.8955887019993652,
          0.9035725576983876,
          0.8653907496012759,
          0.8955887019993652,
          0.9035725576983876,
          0.8724805159903252,
          0.8780096308186196,
          0.912259774685222,
          0.8724805159903252,
          0.8780096308186196,
          0.912259774685222,
          0.8724805159903252,
          0.8780096308186196,
          0.912259774685222,
          0.9101622874806801,
          0.919131771033423,
          0.9398524683185171,
          0.9101622874806801,
          0.919131771033423,
          0.9398524683185171,
          0.9101622874806801,
          0.919131771033423,
          0.9398524683185171,
          0.8818695106649937,
          0.9058694631397715,
          0.925686591276252,
          0.8818695106649937,
          0.9058694631397715,
          0.925686591276252,
          0.8818695106649937,
          0.9058694631397715,
          0.925686591276252,
          0.8071672354948806,
          0.8481012658227848,
          0.8581477139507621,
          0.8071672354948806,
          0.8481012658227848,
          0.8581477139507621,
          0.8071672354948806,
          0.8481012658227848,
          0.8581477139507621,
          0.8954994722195566,
          0.9117702805155421,
          0.9322126804312078,
          0.8954994722195566,
          0.9117702805155421,
          0.9322126804312078,
          0.8954994722195566,
          0.9117702805155421,
          0.9322126804312078,
          0.8642741612176341,
          0.8860452212512138,
          0.9006338731979793,
          0.8642741612176341,
          0.8860452212512138,
          0.9006338731979793,
          0.8642741612176341,
          0.8860452212512138,
          0.9006338731979793,
          0.8554713786441488,
          0.8789759335740697,
          0.8961261570106274,
          0.8554713786441488,
          0.8789759335740697,
          0.8961261570106274,
          0.8554713786441488,
          0.8789759335740697,
          0.8961261570106274,
          0.8365509243468177,
          0.8719798543524128,
          0.8941784548422198,
          0.8365509243468177,
          0.8719798543524128,
          0.8941784548422198,
          0.8365509243468177,
          0.8719798543524128,
          0.8941784548422198,
          0.9086402266288952,
          0.9161417573328243,
          0.9322773759042156,
          0.9086402266288952,
          0.9161417573328243,
          0.9322773759042156,
          0.9086402266288952,
          0.9161417573328243,
          0.9322773759042156,
          0.8455811138014527,
          0.8681599092713355,
          0.8798913911515732,
          0.8455811138014527,
          0.8681599092713355,
          0.8798913911515732,
          0.8455811138014527,
          0.8681599092713355,
          0.8798913911515732,
          0.8687116564417178,
          0.8806957373836355,
          0.8970156555772995,
          0.8687116564417178,
          0.8806957373836355,
          0.8970156555772995,
          0.8687116564417178,
          0.8806957373836355,
          0.8970156555772995,
          0.8339433738830875,
          0.8689493583257895,
          0.8853078578552307,
          0.8339433738830875,
          0.8689493583257895,
          0.8853078578552307,
          0.8339433738830875,
          0.8689493583257895,
          0.8853078578552307,
          0.8541543901001768,
          0.8784431137724551,
          0.8759802497821667,
          0.8541543901001768,
          0.8784431137724551,
          0.8759802497821667,
          0.8541543901001768,
          0.8784431137724551,
          0.8759802497821667,
          0.826739912263368,
          0.8555725071392246,
          0.8759995364468652,
          0.826739912263368,
          0.8555725071392246,
          0.8759995364468652,
          0.826739912263368,
          0.8555725071392246,
          0.8759995364468652,
          0.8666652514488292,
          0.8998594739712237,
          0.9176217541745031,
          0.8666652514488292,
          0.8998594739712237,
          0.9176217541745031,
          0.8666652514488292,
          0.8998594739712237,
          0.9176217541745031,
          0.9302900107411386,
          0.9421058212278656,
          0.9558129997949559,
          0.9302900107411386,
          0.9421058212278656,
          0.9558129997949559,
          0.9302900107411386,
          0.9421058212278656,
          0.9558129997949559,
          0.882294248286073,
          0.9067516903258884,
          0.9167227402351885,
          0.882294248286073,
          0.9067516903258884,
          0.9167227402351885,
          0.882294248286073,
          0.9067516903258884,
          0.9167227402351885,
          0.8783836798744605,
          0.8885400313971743,
          0.8897116134060795,
          0.8783836798744605,
          0.8885400313971743,
          0.8897116134060795,
          0.8783836798744605,
          0.8885400313971743,
          0.8897116134060795,
          0.9139485450414132,
          0.9296629457028287,
          0.9420152091254753,
          0.9139485450414132,
          0.9296629457028287,
          0.9420152091254753,
          0.9139485450414132,
          0.9296629457028287,
          0.9420152091254753,
          0.8629877128691529,
          0.8879243661366566,
          0.8931200272305663,
          0.8629877128691529,
          0.8879243661366566,
          0.8931200272305663,
          0.8629877128691529,
          0.8879243661366566,
          0.8931200272305663,
          0.7987746766507828,
          0.8273092369477911,
          0.8474765832517824,
          0.7987746766507828,
          0.8273092369477911,
          0.8474765832517824,
          0.7987746766507828,
          0.8273092369477911,
          0.8474765832517824,
          0.891218872870249,
          0.9038461538461539,
          0.9140832595217007,
          0.891218872870249,
          0.9038461538461539,
          0.9140832595217007,
          0.891218872870249,
          0.9038461538461539,
          0.9140832595217007
         ],
         "xaxis": "x",
         "y": [
          1.565,
          1.565,
          1.565,
          1.6575,
          1.6575,
          1.6575,
          1.6525,
          1.6525,
          1.6525,
          1.39,
          1.39,
          1.39,
          1.39,
          1.39,
          1.39,
          1.39,
          1.39,
          1.39,
          1.225,
          1.225,
          1.225,
          1.2625,
          1.2625,
          1.2625,
          1.2625,
          1.2625,
          1.2625,
          1.7525,
          1.7525,
          1.7525,
          1.75,
          1.75,
          1.75,
          1.7525,
          1.7525,
          1.7525,
          1.7874999999999999,
          1.7874999999999999,
          1.7874999999999999,
          1.8199999999999998,
          1.8199999999999998,
          1.8199999999999998,
          1.7525,
          1.7525,
          1.7525,
          1.685,
          1.685,
          1.685,
          1.75,
          1.75,
          1.75,
          1.7525,
          1.7525,
          1.7525,
          1.4475,
          1.4475,
          1.4475,
          1.44,
          1.44,
          1.44,
          1.44,
          1.44,
          1.44,
          0.39,
          0.39,
          0.39,
          0.39,
          0.39,
          0.39,
          0.39,
          0.39,
          0.39,
          1.54,
          1.54,
          1.54,
          1.5374999999999999,
          1.5374999999999999,
          1.5374999999999999,
          1.54,
          1.54,
          1.54,
          1.69,
          1.69,
          1.69,
          1.62,
          1.62,
          1.62,
          1.685,
          1.685,
          1.685,
          1.46,
          1.46,
          1.46,
          1.435,
          1.435,
          1.435,
          1.44,
          1.44,
          1.44,
          2.07,
          2.07,
          2.07,
          2.13,
          2.13,
          2.13,
          2.13,
          2.13,
          2.13,
          1.09,
          1.09,
          1.09,
          1.09,
          1.09,
          1.09,
          1.165,
          1.165,
          1.165,
          1.855,
          1.855,
          1.855,
          1.8199999999999998,
          1.8199999999999998,
          1.8199999999999998,
          1.855,
          1.855,
          1.855,
          1.2475,
          1.2475,
          1.2475,
          1.225,
          1.225,
          1.225,
          1.165,
          1.165,
          1.165,
          1.2025,
          1.2025,
          1.2025,
          1.24,
          1.24,
          1.24,
          1.165,
          1.165,
          1.165,
          1.09,
          1.09,
          1.09,
          1.09,
          1.09,
          1.09,
          1.1275,
          1.1275,
          1.1275,
          1.165,
          1.165,
          1.165,
          1.165,
          1.165,
          1.165,
          1.1275,
          1.1275,
          1.1275,
          1.2025,
          1.2025,
          1.2025,
          1.3075,
          1.3075,
          1.3075,
          1.35,
          1.35,
          1.35,
          1.2475,
          1.2475,
          1.2475,
          1.2625000000000002,
          1.2625000000000002,
          1.2625000000000002,
          1.21,
          1.21,
          1.21,
          2.01,
          2.01,
          2.01,
          1.89,
          1.89,
          1.89,
          1.89,
          1.89,
          1.89,
          1.6575,
          1.6575,
          1.6575,
          1.625,
          1.625,
          1.625,
          1.5925,
          1.5925,
          1.5925,
          1.2025,
          1.2025,
          1.2025,
          1.2025,
          1.2025,
          1.2025,
          1.165,
          1.165,
          1.165,
          1.325,
          1.325,
          1.325,
          1.35,
          1.35,
          1.35,
          1.2850000000000001,
          1.2850000000000001,
          1.2850000000000001,
          1.225,
          1.225,
          1.225,
          1.24,
          1.24,
          1.24,
          1.2625,
          1.2625,
          1.2625,
          1.39,
          1.39,
          1.39,
          1.37,
          1.37,
          1.37,
          1.39,
          1.39,
          1.39,
          1.685,
          1.685,
          1.685,
          1.75,
          1.75,
          1.75,
          1.75,
          1.75,
          1.75,
          1.565,
          1.565,
          1.565,
          1.5374999999999999,
          1.5374999999999999,
          1.5374999999999999,
          1.54,
          1.54,
          1.54,
          0.39,
          0.39,
          0.39,
          0.39,
          0.39,
          0.39,
          0.39,
          0.39,
          0.39,
          1.09,
          1.09,
          1.09,
          1.09,
          1.09,
          1.09,
          1.09,
          1.09,
          1.09,
          1.5675000000000001,
          1.5675000000000001,
          1.5675000000000001,
          1.5925,
          1.5925,
          1.5925,
          1.5925,
          1.5925,
          1.5925,
          1.5725,
          1.5725,
          1.5725,
          1.565,
          1.565,
          1.565,
          1.54,
          1.54,
          1.54,
          1.5925,
          1.5925,
          1.5925,
          1.62,
          1.62,
          1.62,
          1.5925,
          1.5925,
          1.5925,
          1.625,
          1.625,
          1.625,
          1.625,
          1.625,
          1.625,
          1.6525,
          1.6525,
          1.6525,
          0.7400000000000001,
          0.7400000000000001,
          0.7400000000000001,
          0.7400000000000001,
          0.7400000000000001,
          0.7400000000000001,
          0.7400000000000001,
          0.7400000000000001,
          0.7400000000000001,
          1.165,
          1.165,
          1.165,
          1.165,
          1.165,
          1.165,
          1.09,
          1.09,
          1.09,
          1.165,
          1.165,
          1.165,
          1.24,
          1.24,
          1.24,
          1.2625,
          1.2625,
          1.2625,
          1.685,
          1.685,
          1.685,
          1.6525,
          1.6525,
          1.6525,
          1.62,
          1.62,
          1.62,
          1.225,
          1.225,
          1.225,
          1.24,
          1.24,
          1.24,
          1.2025000000000001,
          1.2025000000000001,
          1.2025000000000001,
          1.54,
          1.54,
          1.54,
          1.565,
          1.565,
          1.565,
          1.565,
          1.565,
          1.565,
          1.69,
          1.69,
          1.69,
          1.6525,
          1.6525,
          1.6525,
          1.6525,
          1.6525,
          1.6525,
          1.2025,
          1.2025,
          1.2025,
          1.165,
          1.165,
          1.165,
          1.2025,
          1.2025,
          1.2025,
          1.3275000000000001,
          1.3275000000000001,
          1.3275000000000001,
          1.3275000000000001,
          1.3275000000000001,
          1.3275000000000001,
          1.3275000000000001,
          1.3275000000000001,
          1.3275000000000001,
          0.7400000000000001,
          0.7400000000000001,
          0.7400000000000001,
          1.09,
          1.09,
          1.09,
          1.09,
          1.09,
          1.09,
          1.5925,
          1.5925,
          1.5925,
          1.62,
          1.62,
          1.62,
          1.62,
          1.62,
          1.62,
          1.855,
          1.855,
          1.855,
          1.855,
          1.855,
          1.855,
          1.8199999999999998,
          1.8199999999999998,
          1.8199999999999998,
          1.44,
          1.44,
          1.44,
          1.46,
          1.46,
          1.46,
          1.435,
          1.435,
          1.435,
          1.685,
          1.685,
          1.685,
          1.685,
          1.685,
          1.685,
          1.6525,
          1.6525,
          1.6525,
          1.165,
          1.165,
          1.165,
          1.165,
          1.165,
          1.165,
          1.165,
          1.165,
          1.165,
          1.2625,
          1.2625,
          1.2625,
          1.2625000000000002,
          1.2625000000000002,
          1.2625000000000002,
          1.2625,
          1.2625,
          1.2625,
          1.37,
          1.37,
          1.37,
          1.5374999999999999,
          1.5374999999999999,
          1.5374999999999999,
          1.5374999999999999,
          1.5374999999999999,
          1.5374999999999999
         ],
         "yaxis": "y"
        }
       ],
       "layout": {
        "legend": {
         "tracegroupgap": 0
        },
        "margin": {
         "t": 60
        },
        "template": {
         "data": {
          "bar": [
           {
            "error_x": {
             "color": "#2a3f5f"
            },
            "error_y": {
             "color": "#2a3f5f"
            },
            "marker": {
             "line": {
              "color": "#E5ECF6",
              "width": 0.5
             }
            },
            "type": "bar"
           }
          ],
          "barpolar": [
           {
            "marker": {
             "line": {
              "color": "#E5ECF6",
              "width": 0.5
             }
            },
            "type": "barpolar"
           }
          ],
          "carpet": [
           {
            "aaxis": {
             "endlinecolor": "#2a3f5f",
             "gridcolor": "white",
             "linecolor": "white",
             "minorgridcolor": "white",
             "startlinecolor": "#2a3f5f"
            },
            "baxis": {
             "endlinecolor": "#2a3f5f",
             "gridcolor": "white",
             "linecolor": "white",
             "minorgridcolor": "white",
             "startlinecolor": "#2a3f5f"
            },
            "type": "carpet"
           }
          ],
          "choropleth": [
           {
            "colorbar": {
             "outlinewidth": 0,
             "ticks": ""
            },
            "type": "choropleth"
           }
          ],
          "contour": [
           {
            "colorbar": {
             "outlinewidth": 0,
             "ticks": ""
            },
            "colorscale": [
             [
              0,
              "#0d0887"
             ],
             [
              0.1111111111111111,
              "#46039f"
             ],
             [
              0.2222222222222222,
              "#7201a8"
             ],
             [
              0.3333333333333333,
              "#9c179e"
             ],
             [
              0.4444444444444444,
              "#bd3786"
             ],
             [
              0.5555555555555556,
              "#d8576b"
             ],
             [
              0.6666666666666666,
              "#ed7953"
             ],
             [
              0.7777777777777778,
              "#fb9f3a"
             ],
             [
              0.8888888888888888,
              "#fdca26"
             ],
             [
              1,
              "#f0f921"
             ]
            ],
            "type": "contour"
           }
          ],
          "contourcarpet": [
           {
            "colorbar": {
             "outlinewidth": 0,
             "ticks": ""
            },
            "type": "contourcarpet"
           }
          ],
          "heatmap": [
           {
            "colorbar": {
             "outlinewidth": 0,
             "ticks": ""
            },
            "colorscale": [
             [
              0,
              "#0d0887"
             ],
             [
              0.1111111111111111,
              "#46039f"
             ],
             [
              0.2222222222222222,
              "#7201a8"
             ],
             [
              0.3333333333333333,
              "#9c179e"
             ],
             [
              0.4444444444444444,
              "#bd3786"
             ],
             [
              0.5555555555555556,
              "#d8576b"
             ],
             [
              0.6666666666666666,
              "#ed7953"
             ],
             [
              0.7777777777777778,
              "#fb9f3a"
             ],
             [
              0.8888888888888888,
              "#fdca26"
             ],
             [
              1,
              "#f0f921"
             ]
            ],
            "type": "heatmap"
           }
          ],
          "heatmapgl": [
           {
            "colorbar": {
             "outlinewidth": 0,
             "ticks": ""
            },
            "colorscale": [
             [
              0,
              "#0d0887"
             ],
             [
              0.1111111111111111,
              "#46039f"
             ],
             [
              0.2222222222222222,
              "#7201a8"
             ],
             [
              0.3333333333333333,
              "#9c179e"
             ],
             [
              0.4444444444444444,
              "#bd3786"
             ],
             [
              0.5555555555555556,
              "#d8576b"
             ],
             [
              0.6666666666666666,
              "#ed7953"
             ],
             [
              0.7777777777777778,
              "#fb9f3a"
             ],
             [
              0.8888888888888888,
              "#fdca26"
             ],
             [
              1,
              "#f0f921"
             ]
            ],
            "type": "heatmapgl"
           }
          ],
          "histogram": [
           {
            "marker": {
             "colorbar": {
              "outlinewidth": 0,
              "ticks": ""
             }
            },
            "type": "histogram"
           }
          ],
          "histogram2d": [
           {
            "colorbar": {
             "outlinewidth": 0,
             "ticks": ""
            },
            "colorscale": [
             [
              0,
              "#0d0887"
             ],
             [
              0.1111111111111111,
              "#46039f"
             ],
             [
              0.2222222222222222,
              "#7201a8"
             ],
             [
              0.3333333333333333,
              "#9c179e"
             ],
             [
              0.4444444444444444,
              "#bd3786"
             ],
             [
              0.5555555555555556,
              "#d8576b"
             ],
             [
              0.6666666666666666,
              "#ed7953"
             ],
             [
              0.7777777777777778,
              "#fb9f3a"
             ],
             [
              0.8888888888888888,
              "#fdca26"
             ],
             [
              1,
              "#f0f921"
             ]
            ],
            "type": "histogram2d"
           }
          ],
          "histogram2dcontour": [
           {
            "colorbar": {
             "outlinewidth": 0,
             "ticks": ""
            },
            "colorscale": [
             [
              0,
              "#0d0887"
             ],
             [
              0.1111111111111111,
              "#46039f"
             ],
             [
              0.2222222222222222,
              "#7201a8"
             ],
             [
              0.3333333333333333,
              "#9c179e"
             ],
             [
              0.4444444444444444,
              "#bd3786"
             ],
             [
              0.5555555555555556,
              "#d8576b"
             ],
             [
              0.6666666666666666,
              "#ed7953"
             ],
             [
              0.7777777777777778,
              "#fb9f3a"
             ],
             [
              0.8888888888888888,
              "#fdca26"
             ],
             [
              1,
              "#f0f921"
             ]
            ],
            "type": "histogram2dcontour"
           }
          ],
          "mesh3d": [
           {
            "colorbar": {
             "outlinewidth": 0,
             "ticks": ""
            },
            "type": "mesh3d"
           }
          ],
          "parcoords": [
           {
            "line": {
             "colorbar": {
              "outlinewidth": 0,
              "ticks": ""
             }
            },
            "type": "parcoords"
           }
          ],
          "pie": [
           {
            "automargin": true,
            "type": "pie"
           }
          ],
          "scatter": [
           {
            "marker": {
             "colorbar": {
              "outlinewidth": 0,
              "ticks": ""
             }
            },
            "type": "scatter"
           }
          ],
          "scatter3d": [
           {
            "line": {
             "colorbar": {
              "outlinewidth": 0,
              "ticks": ""
             }
            },
            "marker": {
             "colorbar": {
              "outlinewidth": 0,
              "ticks": ""
             }
            },
            "type": "scatter3d"
           }
          ],
          "scattercarpet": [
           {
            "marker": {
             "colorbar": {
              "outlinewidth": 0,
              "ticks": ""
             }
            },
            "type": "scattercarpet"
           }
          ],
          "scattergeo": [
           {
            "marker": {
             "colorbar": {
              "outlinewidth": 0,
              "ticks": ""
             }
            },
            "type": "scattergeo"
           }
          ],
          "scattergl": [
           {
            "marker": {
             "colorbar": {
              "outlinewidth": 0,
              "ticks": ""
             }
            },
            "type": "scattergl"
           }
          ],
          "scattermapbox": [
           {
            "marker": {
             "colorbar": {
              "outlinewidth": 0,
              "ticks": ""
             }
            },
            "type": "scattermapbox"
           }
          ],
          "scatterpolar": [
           {
            "marker": {
             "colorbar": {
              "outlinewidth": 0,
              "ticks": ""
             }
            },
            "type": "scatterpolar"
           }
          ],
          "scatterpolargl": [
           {
            "marker": {
             "colorbar": {
              "outlinewidth": 0,
              "ticks": ""
             }
            },
            "type": "scatterpolargl"
           }
          ],
          "scatterternary": [
           {
            "marker": {
             "colorbar": {
              "outlinewidth": 0,
              "ticks": ""
             }
            },
            "type": "scatterternary"
           }
          ],
          "surface": [
           {
            "colorbar": {
             "outlinewidth": 0,
             "ticks": ""
            },
            "colorscale": [
             [
              0,
              "#0d0887"
             ],
             [
              0.1111111111111111,
              "#46039f"
             ],
             [
              0.2222222222222222,
              "#7201a8"
             ],
             [
              0.3333333333333333,
              "#9c179e"
             ],
             [
              0.4444444444444444,
              "#bd3786"
             ],
             [
              0.5555555555555556,
              "#d8576b"
             ],
             [
              0.6666666666666666,
              "#ed7953"
             ],
             [
              0.7777777777777778,
              "#fb9f3a"
             ],
             [
              0.8888888888888888,
              "#fdca26"
             ],
             [
              1,
              "#f0f921"
             ]
            ],
            "type": "surface"
           }
          ],
          "table": [
           {
            "cells": {
             "fill": {
              "color": "#EBF0F8"
             },
             "line": {
              "color": "white"
             }
            },
            "header": {
             "fill": {
              "color": "#C8D4E3"
             },
             "line": {
              "color": "white"
             }
            },
            "type": "table"
           }
          ]
         },
         "layout": {
          "annotationdefaults": {
           "arrowcolor": "#2a3f5f",
           "arrowhead": 0,
           "arrowwidth": 1
          },
          "coloraxis": {
           "colorbar": {
            "outlinewidth": 0,
            "ticks": ""
           }
          },
          "colorscale": {
           "diverging": [
            [
             0,
             "#8e0152"
            ],
            [
             0.1,
             "#c51b7d"
            ],
            [
             0.2,
             "#de77ae"
            ],
            [
             0.3,
             "#f1b6da"
            ],
            [
             0.4,
             "#fde0ef"
            ],
            [
             0.5,
             "#f7f7f7"
            ],
            [
             0.6,
             "#e6f5d0"
            ],
            [
             0.7,
             "#b8e186"
            ],
            [
             0.8,
             "#7fbc41"
            ],
            [
             0.9,
             "#4d9221"
            ],
            [
             1,
             "#276419"
            ]
           ],
           "sequential": [
            [
             0,
             "#0d0887"
            ],
            [
             0.1111111111111111,
             "#46039f"
            ],
            [
             0.2222222222222222,
             "#7201a8"
            ],
            [
             0.3333333333333333,
             "#9c179e"
            ],
            [
             0.4444444444444444,
             "#bd3786"
            ],
            [
             0.5555555555555556,
             "#d8576b"
            ],
            [
             0.6666666666666666,
             "#ed7953"
            ],
            [
             0.7777777777777778,
             "#fb9f3a"
            ],
            [
             0.8888888888888888,
             "#fdca26"
            ],
            [
             1,
             "#f0f921"
            ]
           ],
           "sequentialminus": [
            [
             0,
             "#0d0887"
            ],
            [
             0.1111111111111111,
             "#46039f"
            ],
            [
             0.2222222222222222,
             "#7201a8"
            ],
            [
             0.3333333333333333,
             "#9c179e"
            ],
            [
             0.4444444444444444,
             "#bd3786"
            ],
            [
             0.5555555555555556,
             "#d8576b"
            ],
            [
             0.6666666666666666,
             "#ed7953"
            ],
            [
             0.7777777777777778,
             "#fb9f3a"
            ],
            [
             0.8888888888888888,
             "#fdca26"
            ],
            [
             1,
             "#f0f921"
            ]
           ]
          },
          "colorway": [
           "#636efa",
           "#EF553B",
           "#00cc96",
           "#ab63fa",
           "#FFA15A",
           "#19d3f3",
           "#FF6692",
           "#B6E880",
           "#FF97FF",
           "#FECB52"
          ],
          "font": {
           "color": "#2a3f5f"
          },
          "geo": {
           "bgcolor": "white",
           "lakecolor": "white",
           "landcolor": "#E5ECF6",
           "showlakes": true,
           "showland": true,
           "subunitcolor": "white"
          },
          "hoverlabel": {
           "align": "left"
          },
          "hovermode": "closest",
          "mapbox": {
           "style": "light"
          },
          "paper_bgcolor": "white",
          "plot_bgcolor": "#E5ECF6",
          "polar": {
           "angularaxis": {
            "gridcolor": "white",
            "linecolor": "white",
            "ticks": ""
           },
           "bgcolor": "#E5ECF6",
           "radialaxis": {
            "gridcolor": "white",
            "linecolor": "white",
            "ticks": ""
           }
          },
          "scene": {
           "xaxis": {
            "backgroundcolor": "#E5ECF6",
            "gridcolor": "white",
            "gridwidth": 2,
            "linecolor": "white",
            "showbackground": true,
            "ticks": "",
            "zerolinecolor": "white"
           },
           "yaxis": {
            "backgroundcolor": "#E5ECF6",
            "gridcolor": "white",
            "gridwidth": 2,
            "linecolor": "white",
            "showbackground": true,
            "ticks": "",
            "zerolinecolor": "white"
           },
           "zaxis": {
            "backgroundcolor": "#E5ECF6",
            "gridcolor": "white",
            "gridwidth": 2,
            "linecolor": "white",
            "showbackground": true,
            "ticks": "",
            "zerolinecolor": "white"
           }
          },
          "shapedefaults": {
           "line": {
            "color": "#2a3f5f"
           }
          },
          "ternary": {
           "aaxis": {
            "gridcolor": "white",
            "linecolor": "white",
            "ticks": ""
           },
           "baxis": {
            "gridcolor": "white",
            "linecolor": "white",
            "ticks": ""
           },
           "bgcolor": "#E5ECF6",
           "caxis": {
            "gridcolor": "white",
            "linecolor": "white",
            "ticks": ""
           }
          },
          "title": {
           "x": 0.05
          },
          "xaxis": {
           "automargin": true,
           "gridcolor": "white",
           "linecolor": "white",
           "ticks": "",
           "title": {
            "standoff": 15
           },
           "zerolinecolor": "white",
           "zerolinewidth": 2
          },
          "yaxis": {
           "automargin": true,
           "gridcolor": "white",
           "linecolor": "white",
           "ticks": "",
           "title": {
            "standoff": 15
           },
           "zerolinecolor": "white",
           "zerolinewidth": 2
          }
         }
        },
        "title": {
         "text": "Scatterplot of Internet Usage and Debt-to-Income Ratio"
        },
        "xaxis": {
         "anchor": "y",
         "domain": [
          0,
          1
         ],
         "title": {
          "text": "internet_pct"
         }
        },
        "yaxis": {
         "anchor": "x",
         "domain": [
          0,
          1
         ],
         "title": {
          "text": "low"
         }
        }
       }
      },
      "text/html": [
       "<div>\n",
       "        \n",
       "        \n",
       "            <div id=\"ded7911d-de0f-42f6-b7e1-666b828b84b7\" class=\"plotly-graph-div\" style=\"height:525px; width:100%;\"></div>\n",
       "            <script type=\"text/javascript\">\n",
       "                require([\"plotly\"], function(Plotly) {\n",
       "                    window.PLOTLYENV=window.PLOTLYENV || {};\n",
       "                    \n",
       "                if (document.getElementById(\"ded7911d-de0f-42f6-b7e1-666b828b84b7\")) {\n",
       "                    Plotly.newPlot(\n",
       "                        'ded7911d-de0f-42f6-b7e1-666b828b84b7',\n",
       "                        [{\"hoverlabel\": {\"namelength\": 0}, \"hovertemplate\": \"internet_pct=%{x}<br>low=%{y}\", \"legendgroup\": \"\", \"marker\": {\"color\": \"#636efa\", \"symbol\": \"circle\"}, \"mode\": \"markers\", \"name\": \"\", \"showlegend\": false, \"type\": \"scatter\", \"x\": [0.9192645883293366, 0.9440643863179075, 0.9441563621858795, 0.9192645883293366, 0.9440643863179075, 0.9441563621858795, 0.9192645883293366, 0.9440643863179075, 0.9441563621858795, 0.8073548526863085, 0.8390823211875843, 0.8596948471520878, 0.8073548526863085, 0.8390823211875843, 0.8596948471520878, 0.8073548526863085, 0.8390823211875843, 0.8596948471520878, 0.8172446929326461, 0.8448411656602783, 0.8608967132078744, 0.8172446929326461, 0.8448411656602783, 0.8608967132078744, 0.8172446929326461, 0.8448411656602783, 0.8608967132078744, 0.8764108810393829, 0.9104442062641419, 0.9229533881707794, 0.8764108810393829, 0.9104442062641419, 0.9229533881707794, 0.8764108810393829, 0.9104442062641419, 0.9229533881707794, 0.8976993401208099, 0.9212002286738462, 0.9350562471645739, 0.8976993401208099, 0.9212002286738462, 0.9350562471645739, 0.8976993401208099, 0.9212002286738462, 0.9350562471645739, 0.912517472405649, 0.9344238975817923, 0.9425953627524308, 0.912517472405649, 0.9344238975817923, 0.9425953627524308, 0.912517472405649, 0.9344238975817923, 0.9425953627524308, 0.8837538140954082, 0.8946437780888529, 0.9120725235849056, 0.8837538140954082, 0.8946437780888529, 0.9120725235849056, 0.8837538140954082, 0.8946437780888529, 0.9120725235849056, 0.893541518807665, 0.9018492176386913, 0.9207815275310834, 0.893541518807665, 0.9018492176386913, 0.9207815275310834, 0.893541518807665, 0.9018492176386913, 0.9207815275310834, 0.8749290981281905, 0.9108516092281401, 0.9348980162056441, 0.8749290981281905, 0.9108516092281401, 0.9348980162056441, 0.8749290981281905, 0.9108516092281401, 0.9348980162056441, 0.8748526101404224, 0.9014722387271407, 0.9198829648894669, 0.8748526101404224, 0.9014722387271407, 0.9198829648894669, 0.8748526101404224, 0.9014722387271407, 0.9198829648894669, 0.8681763483207526, 0.8944684083448632, 0.9086539745267149, 0.8681763483207526, 0.8944684083448632, 0.9086539745267149, 0.8681763483207526, 0.8944684083448632, 0.9086539745267149, 0.8919040143529939, 0.9127001535424435, 0.9098450120061122, 0.8919040143529939, 0.9127001535424435, 0.9098450120061122, 0.8919040143529939, 0.9127001535424435, 0.9098450120061122, 0.8546343810134702, 0.8789967144803269, 0.9003578528827038, 0.8546343810134702, 0.8789967144803269, 0.9003578528827038, 0.8546343810134702, 0.8789967144803269, 0.9003578528827038, 0.8885169065952461, 0.8909805205434604, 0.9110542313229884, 0.8885169065952461, 0.8909805205434604, 0.9110542313229884, 0.8885169065952461, 0.8909805205434604, 0.9110542313229884, 0.8638648451350506, 0.8904396515968478, 0.9031754944163704, 0.8638648451350506, 0.8904396515968478, 0.9031754944163704, 0.8638648451350506, 0.8904396515968478, 0.9031754944163704, 0.8502644030058447, 0.8781826076658903, 0.8893755132366168, 0.8502644030058447, 0.8781826076658903, 0.8893755132366168, 0.8502644030058447, 0.8781826076658903, 0.8893755132366168, 0.8593918675782656, 0.8855367435158501, 0.9085916740478299, 0.8593918675782656, 0.8855367435158501, 0.9085916740478299, 0.8593918675782656, 0.8855367435158501, 0.9085916740478299, 0.8199510546556346, 0.8489258892705361, 0.8616811594202899, 0.8199510546556346, 0.8489258892705361, 0.8616811594202899, 0.8199510546556346, 0.8489258892705361, 0.8616811594202899, 0.8086771390758962, 0.844839609483961, 0.8593057394508088, 0.8086771390758962, 0.844839609483961, 0.8593057394508088, 0.8086771390758962, 0.844839609483961, 0.8593057394508088, 0.8932421875, 0.9054855592169025, 0.9141650671785029, 0.8932421875, 0.9054855592169025, 0.9141650671785029, 0.8932421875, 0.9054855592169025, 0.9141650671785029, 0.9007759768584416, 0.9166173053264683, 0.9308657636025914, 0.9007759768584416, 0.9166173053264683, 0.9308657636025914, 0.9007759768584416, 0.9166173053264683, 0.9308657636025914, 0.8646368305209098, 0.8905397780703405, 0.8968576709796673, 0.8646368305209098, 0.8905397780703405, 0.8968576709796673, 0.8646368305209098, 0.8905397780703405, 0.8968576709796673, 0.8616820007775042, 0.8831419597343082, 0.8995419847328244, 0.8616820007775042, 0.8831419597343082, 0.8995419847328244, 0.8616820007775042, 0.8831419597343082, 0.8995419847328244, 0.8925161831136776, 0.9033834411504631, 0.9209138840070299, 0.8925161831136776, 0.9033834411504631, 0.9209138840070299, 0.8925161831136776, 0.9033834411504631, 0.9209138840070299, 0.855277567180524, 0.8828513616052609, 0.8976562827554401, 0.855277567180524, 0.8828513616052609, 0.8976562827554401, 0.855277567180524, 0.8828513616052609, 0.8976562827554401, 0.7881202462875769, 0.8223220012828736, 0.844047619047619, 0.7881202462875769, 0.8223220012828736, 0.844047619047619, 0.7881202462875769, 0.8223220012828736, 0.844047619047619, 0.8555930568948891, 0.8781542898341744, 0.8761522098794611, 0.8555930568948891, 0.8781542898341744, 0.8761522098794611, 0.8555930568948891, 0.8781542898341744, 0.8761522098794611, 0.8505905614235912, 0.8803832680815991, 0.8954008748198529, 0.8505905614235912, 0.8803832680815991, 0.8954008748198529, 0.8505905614235912, 0.8803832680815991, 0.8954008748198529, 0.8653907496012759, 0.8955887019993652, 0.9035725576983876, 0.8653907496012759, 0.8955887019993652, 0.9035725576983876, 0.8653907496012759, 0.8955887019993652, 0.9035725576983876, 0.8724805159903252, 0.8780096308186196, 0.912259774685222, 0.8724805159903252, 0.8780096308186196, 0.912259774685222, 0.8724805159903252, 0.8780096308186196, 0.912259774685222, 0.9101622874806801, 0.919131771033423, 0.9398524683185171, 0.9101622874806801, 0.919131771033423, 0.9398524683185171, 0.9101622874806801, 0.919131771033423, 0.9398524683185171, 0.8818695106649937, 0.9058694631397715, 0.925686591276252, 0.8818695106649937, 0.9058694631397715, 0.925686591276252, 0.8818695106649937, 0.9058694631397715, 0.925686591276252, 0.8071672354948806, 0.8481012658227848, 0.8581477139507621, 0.8071672354948806, 0.8481012658227848, 0.8581477139507621, 0.8071672354948806, 0.8481012658227848, 0.8581477139507621, 0.8954994722195566, 0.9117702805155421, 0.9322126804312078, 0.8954994722195566, 0.9117702805155421, 0.9322126804312078, 0.8954994722195566, 0.9117702805155421, 0.9322126804312078, 0.8642741612176341, 0.8860452212512138, 0.9006338731979793, 0.8642741612176341, 0.8860452212512138, 0.9006338731979793, 0.8642741612176341, 0.8860452212512138, 0.9006338731979793, 0.8554713786441488, 0.8789759335740697, 0.8961261570106274, 0.8554713786441488, 0.8789759335740697, 0.8961261570106274, 0.8554713786441488, 0.8789759335740697, 0.8961261570106274, 0.8365509243468177, 0.8719798543524128, 0.8941784548422198, 0.8365509243468177, 0.8719798543524128, 0.8941784548422198, 0.8365509243468177, 0.8719798543524128, 0.8941784548422198, 0.9086402266288952, 0.9161417573328243, 0.9322773759042156, 0.9086402266288952, 0.9161417573328243, 0.9322773759042156, 0.9086402266288952, 0.9161417573328243, 0.9322773759042156, 0.8455811138014527, 0.8681599092713355, 0.8798913911515732, 0.8455811138014527, 0.8681599092713355, 0.8798913911515732, 0.8455811138014527, 0.8681599092713355, 0.8798913911515732, 0.8687116564417178, 0.8806957373836355, 0.8970156555772995, 0.8687116564417178, 0.8806957373836355, 0.8970156555772995, 0.8687116564417178, 0.8806957373836355, 0.8970156555772995, 0.8339433738830875, 0.8689493583257895, 0.8853078578552307, 0.8339433738830875, 0.8689493583257895, 0.8853078578552307, 0.8339433738830875, 0.8689493583257895, 0.8853078578552307, 0.8541543901001768, 0.8784431137724551, 0.8759802497821667, 0.8541543901001768, 0.8784431137724551, 0.8759802497821667, 0.8541543901001768, 0.8784431137724551, 0.8759802497821667, 0.826739912263368, 0.8555725071392246, 0.8759995364468652, 0.826739912263368, 0.8555725071392246, 0.8759995364468652, 0.826739912263368, 0.8555725071392246, 0.8759995364468652, 0.8666652514488292, 0.8998594739712237, 0.9176217541745031, 0.8666652514488292, 0.8998594739712237, 0.9176217541745031, 0.8666652514488292, 0.8998594739712237, 0.9176217541745031, 0.9302900107411386, 0.9421058212278656, 0.9558129997949559, 0.9302900107411386, 0.9421058212278656, 0.9558129997949559, 0.9302900107411386, 0.9421058212278656, 0.9558129997949559, 0.882294248286073, 0.9067516903258884, 0.9167227402351885, 0.882294248286073, 0.9067516903258884, 0.9167227402351885, 0.882294248286073, 0.9067516903258884, 0.9167227402351885, 0.8783836798744605, 0.8885400313971743, 0.8897116134060795, 0.8783836798744605, 0.8885400313971743, 0.8897116134060795, 0.8783836798744605, 0.8885400313971743, 0.8897116134060795, 0.9139485450414132, 0.9296629457028287, 0.9420152091254753, 0.9139485450414132, 0.9296629457028287, 0.9420152091254753, 0.9139485450414132, 0.9296629457028287, 0.9420152091254753, 0.8629877128691529, 0.8879243661366566, 0.8931200272305663, 0.8629877128691529, 0.8879243661366566, 0.8931200272305663, 0.8629877128691529, 0.8879243661366566, 0.8931200272305663, 0.7987746766507828, 0.8273092369477911, 0.8474765832517824, 0.7987746766507828, 0.8273092369477911, 0.8474765832517824, 0.7987746766507828, 0.8273092369477911, 0.8474765832517824, 0.891218872870249, 0.9038461538461539, 0.9140832595217007, 0.891218872870249, 0.9038461538461539, 0.9140832595217007, 0.891218872870249, 0.9038461538461539, 0.9140832595217007], \"xaxis\": \"x\", \"y\": [1.565, 1.565, 1.565, 1.6575, 1.6575, 1.6575, 1.6525, 1.6525, 1.6525, 1.39, 1.39, 1.39, 1.39, 1.39, 1.39, 1.39, 1.39, 1.39, 1.225, 1.225, 1.225, 1.2625, 1.2625, 1.2625, 1.2625, 1.2625, 1.2625, 1.7525, 1.7525, 1.7525, 1.75, 1.75, 1.75, 1.7525, 1.7525, 1.7525, 1.7874999999999999, 1.7874999999999999, 1.7874999999999999, 1.8199999999999998, 1.8199999999999998, 1.8199999999999998, 1.7525, 1.7525, 1.7525, 1.685, 1.685, 1.685, 1.75, 1.75, 1.75, 1.7525, 1.7525, 1.7525, 1.4475, 1.4475, 1.4475, 1.44, 1.44, 1.44, 1.44, 1.44, 1.44, 0.39, 0.39, 0.39, 0.39, 0.39, 0.39, 0.39, 0.39, 0.39, 1.54, 1.54, 1.54, 1.5374999999999999, 1.5374999999999999, 1.5374999999999999, 1.54, 1.54, 1.54, 1.69, 1.69, 1.69, 1.62, 1.62, 1.62, 1.685, 1.685, 1.685, 1.46, 1.46, 1.46, 1.435, 1.435, 1.435, 1.44, 1.44, 1.44, 2.07, 2.07, 2.07, 2.13, 2.13, 2.13, 2.13, 2.13, 2.13, 1.09, 1.09, 1.09, 1.09, 1.09, 1.09, 1.165, 1.165, 1.165, 1.855, 1.855, 1.855, 1.8199999999999998, 1.8199999999999998, 1.8199999999999998, 1.855, 1.855, 1.855, 1.2475, 1.2475, 1.2475, 1.225, 1.225, 1.225, 1.165, 1.165, 1.165, 1.2025, 1.2025, 1.2025, 1.24, 1.24, 1.24, 1.165, 1.165, 1.165, 1.09, 1.09, 1.09, 1.09, 1.09, 1.09, 1.1275, 1.1275, 1.1275, 1.165, 1.165, 1.165, 1.165, 1.165, 1.165, 1.1275, 1.1275, 1.1275, 1.2025, 1.2025, 1.2025, 1.3075, 1.3075, 1.3075, 1.35, 1.35, 1.35, 1.2475, 1.2475, 1.2475, 1.2625000000000002, 1.2625000000000002, 1.2625000000000002, 1.21, 1.21, 1.21, 2.01, 2.01, 2.01, 1.89, 1.89, 1.89, 1.89, 1.89, 1.89, 1.6575, 1.6575, 1.6575, 1.625, 1.625, 1.625, 1.5925, 1.5925, 1.5925, 1.2025, 1.2025, 1.2025, 1.2025, 1.2025, 1.2025, 1.165, 1.165, 1.165, 1.325, 1.325, 1.325, 1.35, 1.35, 1.35, 1.2850000000000001, 1.2850000000000001, 1.2850000000000001, 1.225, 1.225, 1.225, 1.24, 1.24, 1.24, 1.2625, 1.2625, 1.2625, 1.39, 1.39, 1.39, 1.37, 1.37, 1.37, 1.39, 1.39, 1.39, 1.685, 1.685, 1.685, 1.75, 1.75, 1.75, 1.75, 1.75, 1.75, 1.565, 1.565, 1.565, 1.5374999999999999, 1.5374999999999999, 1.5374999999999999, 1.54, 1.54, 1.54, 0.39, 0.39, 0.39, 0.39, 0.39, 0.39, 0.39, 0.39, 0.39, 1.09, 1.09, 1.09, 1.09, 1.09, 1.09, 1.09, 1.09, 1.09, 1.5675000000000001, 1.5675000000000001, 1.5675000000000001, 1.5925, 1.5925, 1.5925, 1.5925, 1.5925, 1.5925, 1.5725, 1.5725, 1.5725, 1.565, 1.565, 1.565, 1.54, 1.54, 1.54, 1.5925, 1.5925, 1.5925, 1.62, 1.62, 1.62, 1.5925, 1.5925, 1.5925, 1.625, 1.625, 1.625, 1.625, 1.625, 1.625, 1.6525, 1.6525, 1.6525, 0.7400000000000001, 0.7400000000000001, 0.7400000000000001, 0.7400000000000001, 0.7400000000000001, 0.7400000000000001, 0.7400000000000001, 0.7400000000000001, 0.7400000000000001, 1.165, 1.165, 1.165, 1.165, 1.165, 1.165, 1.09, 1.09, 1.09, 1.165, 1.165, 1.165, 1.24, 1.24, 1.24, 1.2625, 1.2625, 1.2625, 1.685, 1.685, 1.685, 1.6525, 1.6525, 1.6525, 1.62, 1.62, 1.62, 1.225, 1.225, 1.225, 1.24, 1.24, 1.24, 1.2025000000000001, 1.2025000000000001, 1.2025000000000001, 1.54, 1.54, 1.54, 1.565, 1.565, 1.565, 1.565, 1.565, 1.565, 1.69, 1.69, 1.69, 1.6525, 1.6525, 1.6525, 1.6525, 1.6525, 1.6525, 1.2025, 1.2025, 1.2025, 1.165, 1.165, 1.165, 1.2025, 1.2025, 1.2025, 1.3275000000000001, 1.3275000000000001, 1.3275000000000001, 1.3275000000000001, 1.3275000000000001, 1.3275000000000001, 1.3275000000000001, 1.3275000000000001, 1.3275000000000001, 0.7400000000000001, 0.7400000000000001, 0.7400000000000001, 1.09, 1.09, 1.09, 1.09, 1.09, 1.09, 1.5925, 1.5925, 1.5925, 1.62, 1.62, 1.62, 1.62, 1.62, 1.62, 1.855, 1.855, 1.855, 1.855, 1.855, 1.855, 1.8199999999999998, 1.8199999999999998, 1.8199999999999998, 1.44, 1.44, 1.44, 1.46, 1.46, 1.46, 1.435, 1.435, 1.435, 1.685, 1.685, 1.685, 1.685, 1.685, 1.685, 1.6525, 1.6525, 1.6525, 1.165, 1.165, 1.165, 1.165, 1.165, 1.165, 1.165, 1.165, 1.165, 1.2625, 1.2625, 1.2625, 1.2625000000000002, 1.2625000000000002, 1.2625000000000002, 1.2625, 1.2625, 1.2625, 1.37, 1.37, 1.37, 1.5374999999999999, 1.5374999999999999, 1.5374999999999999, 1.5374999999999999, 1.5374999999999999, 1.5374999999999999], \"yaxis\": \"y\"}],\n",
       "                        {\"legend\": {\"tracegroupgap\": 0}, \"margin\": {\"t\": 60}, \"template\": {\"data\": {\"bar\": [{\"error_x\": {\"color\": \"#2a3f5f\"}, \"error_y\": {\"color\": \"#2a3f5f\"}, \"marker\": {\"line\": {\"color\": \"#E5ECF6\", \"width\": 0.5}}, \"type\": \"bar\"}], \"barpolar\": [{\"marker\": {\"line\": {\"color\": \"#E5ECF6\", \"width\": 0.5}}, \"type\": \"barpolar\"}], \"carpet\": [{\"aaxis\": {\"endlinecolor\": \"#2a3f5f\", \"gridcolor\": \"white\", \"linecolor\": \"white\", \"minorgridcolor\": \"white\", \"startlinecolor\": \"#2a3f5f\"}, \"baxis\": {\"endlinecolor\": \"#2a3f5f\", \"gridcolor\": \"white\", \"linecolor\": \"white\", \"minorgridcolor\": \"white\", \"startlinecolor\": \"#2a3f5f\"}, \"type\": \"carpet\"}], \"choropleth\": [{\"colorbar\": {\"outlinewidth\": 0, \"ticks\": \"\"}, \"type\": \"choropleth\"}], \"contour\": [{\"colorbar\": {\"outlinewidth\": 0, \"ticks\": \"\"}, \"colorscale\": [[0.0, \"#0d0887\"], [0.1111111111111111, \"#46039f\"], [0.2222222222222222, \"#7201a8\"], [0.3333333333333333, \"#9c179e\"], [0.4444444444444444, \"#bd3786\"], [0.5555555555555556, \"#d8576b\"], [0.6666666666666666, \"#ed7953\"], [0.7777777777777778, \"#fb9f3a\"], [0.8888888888888888, \"#fdca26\"], [1.0, \"#f0f921\"]], \"type\": \"contour\"}], \"contourcarpet\": [{\"colorbar\": {\"outlinewidth\": 0, \"ticks\": \"\"}, \"type\": \"contourcarpet\"}], \"heatmap\": [{\"colorbar\": {\"outlinewidth\": 0, \"ticks\": \"\"}, \"colorscale\": [[0.0, \"#0d0887\"], [0.1111111111111111, \"#46039f\"], [0.2222222222222222, \"#7201a8\"], [0.3333333333333333, \"#9c179e\"], [0.4444444444444444, \"#bd3786\"], [0.5555555555555556, \"#d8576b\"], [0.6666666666666666, \"#ed7953\"], [0.7777777777777778, \"#fb9f3a\"], [0.8888888888888888, \"#fdca26\"], [1.0, \"#f0f921\"]], \"type\": \"heatmap\"}], \"heatmapgl\": [{\"colorbar\": {\"outlinewidth\": 0, \"ticks\": \"\"}, \"colorscale\": [[0.0, \"#0d0887\"], [0.1111111111111111, \"#46039f\"], [0.2222222222222222, \"#7201a8\"], [0.3333333333333333, \"#9c179e\"], [0.4444444444444444, \"#bd3786\"], [0.5555555555555556, \"#d8576b\"], [0.6666666666666666, \"#ed7953\"], [0.7777777777777778, \"#fb9f3a\"], [0.8888888888888888, \"#fdca26\"], [1.0, \"#f0f921\"]], \"type\": \"heatmapgl\"}], \"histogram\": [{\"marker\": {\"colorbar\": {\"outlinewidth\": 0, \"ticks\": \"\"}}, \"type\": \"histogram\"}], \"histogram2d\": [{\"colorbar\": {\"outlinewidth\": 0, \"ticks\": \"\"}, \"colorscale\": [[0.0, \"#0d0887\"], [0.1111111111111111, \"#46039f\"], [0.2222222222222222, \"#7201a8\"], [0.3333333333333333, \"#9c179e\"], [0.4444444444444444, \"#bd3786\"], [0.5555555555555556, \"#d8576b\"], [0.6666666666666666, \"#ed7953\"], [0.7777777777777778, \"#fb9f3a\"], [0.8888888888888888, \"#fdca26\"], [1.0, \"#f0f921\"]], \"type\": \"histogram2d\"}], \"histogram2dcontour\": [{\"colorbar\": {\"outlinewidth\": 0, \"ticks\": \"\"}, \"colorscale\": [[0.0, \"#0d0887\"], [0.1111111111111111, \"#46039f\"], [0.2222222222222222, \"#7201a8\"], [0.3333333333333333, \"#9c179e\"], [0.4444444444444444, \"#bd3786\"], [0.5555555555555556, \"#d8576b\"], [0.6666666666666666, \"#ed7953\"], [0.7777777777777778, \"#fb9f3a\"], [0.8888888888888888, \"#fdca26\"], [1.0, \"#f0f921\"]], \"type\": \"histogram2dcontour\"}], \"mesh3d\": [{\"colorbar\": {\"outlinewidth\": 0, \"ticks\": \"\"}, \"type\": \"mesh3d\"}], \"parcoords\": [{\"line\": {\"colorbar\": {\"outlinewidth\": 0, \"ticks\": \"\"}}, \"type\": \"parcoords\"}], \"pie\": [{\"automargin\": true, \"type\": \"pie\"}], \"scatter\": [{\"marker\": {\"colorbar\": {\"outlinewidth\": 0, \"ticks\": \"\"}}, \"type\": \"scatter\"}], \"scatter3d\": [{\"line\": {\"colorbar\": {\"outlinewidth\": 0, \"ticks\": \"\"}}, \"marker\": {\"colorbar\": {\"outlinewidth\": 0, \"ticks\": \"\"}}, \"type\": \"scatter3d\"}], \"scattercarpet\": [{\"marker\": {\"colorbar\": {\"outlinewidth\": 0, \"ticks\": \"\"}}, \"type\": \"scattercarpet\"}], \"scattergeo\": [{\"marker\": {\"colorbar\": {\"outlinewidth\": 0, \"ticks\": \"\"}}, \"type\": \"scattergeo\"}], \"scattergl\": [{\"marker\": {\"colorbar\": {\"outlinewidth\": 0, \"ticks\": \"\"}}, \"type\": \"scattergl\"}], \"scattermapbox\": [{\"marker\": {\"colorbar\": {\"outlinewidth\": 0, \"ticks\": \"\"}}, \"type\": \"scattermapbox\"}], \"scatterpolar\": [{\"marker\": {\"colorbar\": {\"outlinewidth\": 0, \"ticks\": \"\"}}, \"type\": \"scatterpolar\"}], \"scatterpolargl\": [{\"marker\": {\"colorbar\": {\"outlinewidth\": 0, \"ticks\": \"\"}}, \"type\": \"scatterpolargl\"}], \"scatterternary\": [{\"marker\": {\"colorbar\": {\"outlinewidth\": 0, \"ticks\": \"\"}}, \"type\": \"scatterternary\"}], \"surface\": [{\"colorbar\": {\"outlinewidth\": 0, \"ticks\": \"\"}, \"colorscale\": [[0.0, \"#0d0887\"], [0.1111111111111111, \"#46039f\"], [0.2222222222222222, \"#7201a8\"], [0.3333333333333333, \"#9c179e\"], [0.4444444444444444, \"#bd3786\"], [0.5555555555555556, \"#d8576b\"], [0.6666666666666666, \"#ed7953\"], [0.7777777777777778, \"#fb9f3a\"], [0.8888888888888888, \"#fdca26\"], [1.0, \"#f0f921\"]], \"type\": \"surface\"}], \"table\": [{\"cells\": {\"fill\": {\"color\": \"#EBF0F8\"}, \"line\": {\"color\": \"white\"}}, \"header\": {\"fill\": {\"color\": \"#C8D4E3\"}, \"line\": {\"color\": \"white\"}}, \"type\": \"table\"}]}, \"layout\": {\"annotationdefaults\": {\"arrowcolor\": \"#2a3f5f\", \"arrowhead\": 0, \"arrowwidth\": 1}, \"coloraxis\": {\"colorbar\": {\"outlinewidth\": 0, \"ticks\": \"\"}}, \"colorscale\": {\"diverging\": [[0, \"#8e0152\"], [0.1, \"#c51b7d\"], [0.2, \"#de77ae\"], [0.3, \"#f1b6da\"], [0.4, \"#fde0ef\"], [0.5, \"#f7f7f7\"], [0.6, \"#e6f5d0\"], [0.7, \"#b8e186\"], [0.8, \"#7fbc41\"], [0.9, \"#4d9221\"], [1, \"#276419\"]], \"sequential\": [[0.0, \"#0d0887\"], [0.1111111111111111, \"#46039f\"], [0.2222222222222222, \"#7201a8\"], [0.3333333333333333, \"#9c179e\"], [0.4444444444444444, \"#bd3786\"], [0.5555555555555556, \"#d8576b\"], [0.6666666666666666, \"#ed7953\"], [0.7777777777777778, \"#fb9f3a\"], [0.8888888888888888, \"#fdca26\"], [1.0, \"#f0f921\"]], \"sequentialminus\": [[0.0, \"#0d0887\"], [0.1111111111111111, \"#46039f\"], [0.2222222222222222, \"#7201a8\"], [0.3333333333333333, \"#9c179e\"], [0.4444444444444444, \"#bd3786\"], [0.5555555555555556, \"#d8576b\"], [0.6666666666666666, \"#ed7953\"], [0.7777777777777778, \"#fb9f3a\"], [0.8888888888888888, \"#fdca26\"], [1.0, \"#f0f921\"]]}, \"colorway\": [\"#636efa\", \"#EF553B\", \"#00cc96\", \"#ab63fa\", \"#FFA15A\", \"#19d3f3\", \"#FF6692\", \"#B6E880\", \"#FF97FF\", \"#FECB52\"], \"font\": {\"color\": \"#2a3f5f\"}, \"geo\": {\"bgcolor\": \"white\", \"lakecolor\": \"white\", \"landcolor\": \"#E5ECF6\", \"showlakes\": true, \"showland\": true, \"subunitcolor\": \"white\"}, \"hoverlabel\": {\"align\": \"left\"}, \"hovermode\": \"closest\", \"mapbox\": {\"style\": \"light\"}, \"paper_bgcolor\": \"white\", \"plot_bgcolor\": \"#E5ECF6\", \"polar\": {\"angularaxis\": {\"gridcolor\": \"white\", \"linecolor\": \"white\", \"ticks\": \"\"}, \"bgcolor\": \"#E5ECF6\", \"radialaxis\": {\"gridcolor\": \"white\", \"linecolor\": \"white\", \"ticks\": \"\"}}, \"scene\": {\"xaxis\": {\"backgroundcolor\": \"#E5ECF6\", \"gridcolor\": \"white\", \"gridwidth\": 2, \"linecolor\": \"white\", \"showbackground\": true, \"ticks\": \"\", \"zerolinecolor\": \"white\"}, \"yaxis\": {\"backgroundcolor\": \"#E5ECF6\", \"gridcolor\": \"white\", \"gridwidth\": 2, \"linecolor\": \"white\", \"showbackground\": true, \"ticks\": \"\", \"zerolinecolor\": \"white\"}, \"zaxis\": {\"backgroundcolor\": \"#E5ECF6\", \"gridcolor\": \"white\", \"gridwidth\": 2, \"linecolor\": \"white\", \"showbackground\": true, \"ticks\": \"\", \"zerolinecolor\": \"white\"}}, \"shapedefaults\": {\"line\": {\"color\": \"#2a3f5f\"}}, \"ternary\": {\"aaxis\": {\"gridcolor\": \"white\", \"linecolor\": \"white\", \"ticks\": \"\"}, \"baxis\": {\"gridcolor\": \"white\", \"linecolor\": \"white\", \"ticks\": \"\"}, \"bgcolor\": \"#E5ECF6\", \"caxis\": {\"gridcolor\": \"white\", \"linecolor\": \"white\", \"ticks\": \"\"}}, \"title\": {\"x\": 0.05}, \"xaxis\": {\"automargin\": true, \"gridcolor\": \"white\", \"linecolor\": \"white\", \"ticks\": \"\", \"title\": {\"standoff\": 15}, \"zerolinecolor\": \"white\", \"zerolinewidth\": 2}, \"yaxis\": {\"automargin\": true, \"gridcolor\": \"white\", \"linecolor\": \"white\", \"ticks\": \"\", \"title\": {\"standoff\": 15}, \"zerolinecolor\": \"white\", \"zerolinewidth\": 2}}}, \"title\": {\"text\": \"Scatterplot of Internet Usage and Debt-to-Income Ratio\"}, \"xaxis\": {\"anchor\": \"y\", \"domain\": [0.0, 1.0], \"title\": {\"text\": \"internet_pct\"}}, \"yaxis\": {\"anchor\": \"x\", \"domain\": [0.0, 1.0], \"title\": {\"text\": \"low\"}}},\n",
       "                        {\"responsive\": true}\n",
       "                    ).then(function(){\n",
       "                            \n",
       "var gd = document.getElementById('ded7911d-de0f-42f6-b7e1-666b828b84b7');\n",
       "var x = new MutationObserver(function (mutations, observer) {{\n",
       "        var display = window.getComputedStyle(gd).display;\n",
       "        if (!display || display === 'none') {{\n",
       "            console.log([gd, 'removed!']);\n",
       "            Plotly.purge(gd);\n",
       "            observer.disconnect();\n",
       "        }}\n",
       "}});\n",
       "\n",
       "// Listen for the removal of the full notebook cells\n",
       "var notebookContainer = gd.closest('#notebook-container');\n",
       "if (notebookContainer) {{\n",
       "    x.observe(notebookContainer, {childList: true});\n",
       "}}\n",
       "\n",
       "// Listen for the clearing of the current output cell\n",
       "var outputEl = gd.closest('.output');\n",
       "if (outputEl) {{\n",
       "    x.observe(outputEl, {childList: true});\n",
       "}}\n",
       "\n",
       "                        })\n",
       "                };\n",
       "                });\n",
       "            </script>\n",
       "        </div>"
      ]
     },
     "metadata": {},
     "output_type": "display_data"
    }
   ],
   "source": [
    "## plot lower estimates:\n",
    "scatter1 = px.scatter(totalData, x=\"internet_pct\", y=\"low\",facet_col_wrap=8)\n",
    "\n",
    "scatter1.update_layout(\n",
    "    title_text = 'Scatterplot of Internet Usage and Debt-to-Income Ratio', # Create a Title\n",
    ")\n",
    "\n",
    "\n",
    "scatter1.show()\n"
   ]
  },
  {
   "cell_type": "code",
   "execution_count": 91,
   "metadata": {},
   "outputs": [
    {
     "data": {
      "application/vnd.plotly.v1+json": {
       "config": {
        "plotlyServerURL": "https://plot.ly"
       },
       "data": [
        {
         "hoverlabel": {
          "namelength": 0
         },
         "hovertemplate": "internet_pct=%{x}<br>high=%{y}",
         "legendgroup": "",
         "marker": {
          "color": "#636efa",
          "symbol": "circle"
         },
         "mode": "markers",
         "name": "",
         "showlegend": false,
         "type": "scatter",
         "x": [
          0.9192645883293366,
          0.9440643863179075,
          0.9441563621858795,
          0.9192645883293366,
          0.9440643863179075,
          0.9441563621858795,
          0.9192645883293366,
          0.9440643863179075,
          0.9441563621858795,
          0.8073548526863085,
          0.8390823211875843,
          0.8596948471520878,
          0.8073548526863085,
          0.8390823211875843,
          0.8596948471520878,
          0.8073548526863085,
          0.8390823211875843,
          0.8596948471520878,
          0.8172446929326461,
          0.8448411656602783,
          0.8608967132078744,
          0.8172446929326461,
          0.8448411656602783,
          0.8608967132078744,
          0.8172446929326461,
          0.8448411656602783,
          0.8608967132078744,
          0.8764108810393829,
          0.9104442062641419,
          0.9229533881707794,
          0.8764108810393829,
          0.9104442062641419,
          0.9229533881707794,
          0.8764108810393829,
          0.9104442062641419,
          0.9229533881707794,
          0.8976993401208099,
          0.9212002286738462,
          0.9350562471645739,
          0.8976993401208099,
          0.9212002286738462,
          0.9350562471645739,
          0.8976993401208099,
          0.9212002286738462,
          0.9350562471645739,
          0.912517472405649,
          0.9344238975817923,
          0.9425953627524308,
          0.912517472405649,
          0.9344238975817923,
          0.9425953627524308,
          0.912517472405649,
          0.9344238975817923,
          0.9425953627524308,
          0.8837538140954082,
          0.8946437780888529,
          0.9120725235849056,
          0.8837538140954082,
          0.8946437780888529,
          0.9120725235849056,
          0.8837538140954082,
          0.8946437780888529,
          0.9120725235849056,
          0.893541518807665,
          0.9018492176386913,
          0.9207815275310834,
          0.893541518807665,
          0.9018492176386913,
          0.9207815275310834,
          0.893541518807665,
          0.9018492176386913,
          0.9207815275310834,
          0.8749290981281905,
          0.9108516092281401,
          0.9348980162056441,
          0.8749290981281905,
          0.9108516092281401,
          0.9348980162056441,
          0.8749290981281905,
          0.9108516092281401,
          0.9348980162056441,
          0.8748526101404224,
          0.9014722387271407,
          0.9198829648894669,
          0.8748526101404224,
          0.9014722387271407,
          0.9198829648894669,
          0.8748526101404224,
          0.9014722387271407,
          0.9198829648894669,
          0.8681763483207526,
          0.8944684083448632,
          0.9086539745267149,
          0.8681763483207526,
          0.8944684083448632,
          0.9086539745267149,
          0.8681763483207526,
          0.8944684083448632,
          0.9086539745267149,
          0.8919040143529939,
          0.9127001535424435,
          0.9098450120061122,
          0.8919040143529939,
          0.9127001535424435,
          0.9098450120061122,
          0.8919040143529939,
          0.9127001535424435,
          0.9098450120061122,
          0.8546343810134702,
          0.8789967144803269,
          0.9003578528827038,
          0.8546343810134702,
          0.8789967144803269,
          0.9003578528827038,
          0.8546343810134702,
          0.8789967144803269,
          0.9003578528827038,
          0.8885169065952461,
          0.8909805205434604,
          0.9110542313229884,
          0.8885169065952461,
          0.8909805205434604,
          0.9110542313229884,
          0.8885169065952461,
          0.8909805205434604,
          0.9110542313229884,
          0.8638648451350506,
          0.8904396515968478,
          0.9031754944163704,
          0.8638648451350506,
          0.8904396515968478,
          0.9031754944163704,
          0.8638648451350506,
          0.8904396515968478,
          0.9031754944163704,
          0.8502644030058447,
          0.8781826076658903,
          0.8893755132366168,
          0.8502644030058447,
          0.8781826076658903,
          0.8893755132366168,
          0.8502644030058447,
          0.8781826076658903,
          0.8893755132366168,
          0.8593918675782656,
          0.8855367435158501,
          0.9085916740478299,
          0.8593918675782656,
          0.8855367435158501,
          0.9085916740478299,
          0.8593918675782656,
          0.8855367435158501,
          0.9085916740478299,
          0.8199510546556346,
          0.8489258892705361,
          0.8616811594202899,
          0.8199510546556346,
          0.8489258892705361,
          0.8616811594202899,
          0.8199510546556346,
          0.8489258892705361,
          0.8616811594202899,
          0.8086771390758962,
          0.844839609483961,
          0.8593057394508088,
          0.8086771390758962,
          0.844839609483961,
          0.8593057394508088,
          0.8086771390758962,
          0.844839609483961,
          0.8593057394508088,
          0.8932421875,
          0.9054855592169025,
          0.9141650671785029,
          0.8932421875,
          0.9054855592169025,
          0.9141650671785029,
          0.8932421875,
          0.9054855592169025,
          0.9141650671785029,
          0.9007759768584416,
          0.9166173053264683,
          0.9308657636025914,
          0.9007759768584416,
          0.9166173053264683,
          0.9308657636025914,
          0.9007759768584416,
          0.9166173053264683,
          0.9308657636025914,
          0.8646368305209098,
          0.8905397780703405,
          0.8968576709796673,
          0.8646368305209098,
          0.8905397780703405,
          0.8968576709796673,
          0.8646368305209098,
          0.8905397780703405,
          0.8968576709796673,
          0.8616820007775042,
          0.8831419597343082,
          0.8995419847328244,
          0.8616820007775042,
          0.8831419597343082,
          0.8995419847328244,
          0.8616820007775042,
          0.8831419597343082,
          0.8995419847328244,
          0.8925161831136776,
          0.9033834411504631,
          0.9209138840070299,
          0.8925161831136776,
          0.9033834411504631,
          0.9209138840070299,
          0.8925161831136776,
          0.9033834411504631,
          0.9209138840070299,
          0.855277567180524,
          0.8828513616052609,
          0.8976562827554401,
          0.855277567180524,
          0.8828513616052609,
          0.8976562827554401,
          0.855277567180524,
          0.8828513616052609,
          0.8976562827554401,
          0.7881202462875769,
          0.8223220012828736,
          0.844047619047619,
          0.7881202462875769,
          0.8223220012828736,
          0.844047619047619,
          0.7881202462875769,
          0.8223220012828736,
          0.844047619047619,
          0.8555930568948891,
          0.8781542898341744,
          0.8761522098794611,
          0.8555930568948891,
          0.8781542898341744,
          0.8761522098794611,
          0.8555930568948891,
          0.8781542898341744,
          0.8761522098794611,
          0.8505905614235912,
          0.8803832680815991,
          0.8954008748198529,
          0.8505905614235912,
          0.8803832680815991,
          0.8954008748198529,
          0.8505905614235912,
          0.8803832680815991,
          0.8954008748198529,
          0.8653907496012759,
          0.8955887019993652,
          0.9035725576983876,
          0.8653907496012759,
          0.8955887019993652,
          0.9035725576983876,
          0.8653907496012759,
          0.8955887019993652,
          0.9035725576983876,
          0.8724805159903252,
          0.8780096308186196,
          0.912259774685222,
          0.8724805159903252,
          0.8780096308186196,
          0.912259774685222,
          0.8724805159903252,
          0.8780096308186196,
          0.912259774685222,
          0.9101622874806801,
          0.919131771033423,
          0.9398524683185171,
          0.9101622874806801,
          0.919131771033423,
          0.9398524683185171,
          0.9101622874806801,
          0.919131771033423,
          0.9398524683185171,
          0.8818695106649937,
          0.9058694631397715,
          0.925686591276252,
          0.8818695106649937,
          0.9058694631397715,
          0.925686591276252,
          0.8818695106649937,
          0.9058694631397715,
          0.925686591276252,
          0.8071672354948806,
          0.8481012658227848,
          0.8581477139507621,
          0.8071672354948806,
          0.8481012658227848,
          0.8581477139507621,
          0.8071672354948806,
          0.8481012658227848,
          0.8581477139507621,
          0.8954994722195566,
          0.9117702805155421,
          0.9322126804312078,
          0.8954994722195566,
          0.9117702805155421,
          0.9322126804312078,
          0.8954994722195566,
          0.9117702805155421,
          0.9322126804312078,
          0.8642741612176341,
          0.8860452212512138,
          0.9006338731979793,
          0.8642741612176341,
          0.8860452212512138,
          0.9006338731979793,
          0.8642741612176341,
          0.8860452212512138,
          0.9006338731979793,
          0.8554713786441488,
          0.8789759335740697,
          0.8961261570106274,
          0.8554713786441488,
          0.8789759335740697,
          0.8961261570106274,
          0.8554713786441488,
          0.8789759335740697,
          0.8961261570106274,
          0.8365509243468177,
          0.8719798543524128,
          0.8941784548422198,
          0.8365509243468177,
          0.8719798543524128,
          0.8941784548422198,
          0.8365509243468177,
          0.8719798543524128,
          0.8941784548422198,
          0.9086402266288952,
          0.9161417573328243,
          0.9322773759042156,
          0.9086402266288952,
          0.9161417573328243,
          0.9322773759042156,
          0.9086402266288952,
          0.9161417573328243,
          0.9322773759042156,
          0.8455811138014527,
          0.8681599092713355,
          0.8798913911515732,
          0.8455811138014527,
          0.8681599092713355,
          0.8798913911515732,
          0.8455811138014527,
          0.8681599092713355,
          0.8798913911515732,
          0.8687116564417178,
          0.8806957373836355,
          0.8970156555772995,
          0.8687116564417178,
          0.8806957373836355,
          0.8970156555772995,
          0.8687116564417178,
          0.8806957373836355,
          0.8970156555772995,
          0.8339433738830875,
          0.8689493583257895,
          0.8853078578552307,
          0.8339433738830875,
          0.8689493583257895,
          0.8853078578552307,
          0.8339433738830875,
          0.8689493583257895,
          0.8853078578552307,
          0.8541543901001768,
          0.8784431137724551,
          0.8759802497821667,
          0.8541543901001768,
          0.8784431137724551,
          0.8759802497821667,
          0.8541543901001768,
          0.8784431137724551,
          0.8759802497821667,
          0.826739912263368,
          0.8555725071392246,
          0.8759995364468652,
          0.826739912263368,
          0.8555725071392246,
          0.8759995364468652,
          0.826739912263368,
          0.8555725071392246,
          0.8759995364468652,
          0.8666652514488292,
          0.8998594739712237,
          0.9176217541745031,
          0.8666652514488292,
          0.8998594739712237,
          0.9176217541745031,
          0.8666652514488292,
          0.8998594739712237,
          0.9176217541745031,
          0.9302900107411386,
          0.9421058212278656,
          0.9558129997949559,
          0.9302900107411386,
          0.9421058212278656,
          0.9558129997949559,
          0.9302900107411386,
          0.9421058212278656,
          0.9558129997949559,
          0.882294248286073,
          0.9067516903258884,
          0.9167227402351885,
          0.882294248286073,
          0.9067516903258884,
          0.9167227402351885,
          0.882294248286073,
          0.9067516903258884,
          0.9167227402351885,
          0.8783836798744605,
          0.8885400313971743,
          0.8897116134060795,
          0.8783836798744605,
          0.8885400313971743,
          0.8897116134060795,
          0.8783836798744605,
          0.8885400313971743,
          0.8897116134060795,
          0.9139485450414132,
          0.9296629457028287,
          0.9420152091254753,
          0.9139485450414132,
          0.9296629457028287,
          0.9420152091254753,
          0.9139485450414132,
          0.9296629457028287,
          0.9420152091254753,
          0.8629877128691529,
          0.8879243661366566,
          0.8931200272305663,
          0.8629877128691529,
          0.8879243661366566,
          0.8931200272305663,
          0.8629877128691529,
          0.8879243661366566,
          0.8931200272305663,
          0.7987746766507828,
          0.8273092369477911,
          0.8474765832517824,
          0.7987746766507828,
          0.8273092369477911,
          0.8474765832517824,
          0.7987746766507828,
          0.8273092369477911,
          0.8474765832517824,
          0.891218872870249,
          0.9038461538461539,
          0.9140832595217007,
          0.891218872870249,
          0.9038461538461539,
          0.9140832595217007,
          0.891218872870249,
          0.9038461538461539,
          0.9140832595217007
         ],
         "xaxis": "x",
         "y": [
          1.685,
          1.685,
          1.685,
          1.7874999999999999,
          1.7874999999999999,
          1.7874999999999999,
          1.785,
          1.785,
          1.785,
          1.485,
          1.485,
          1.485,
          1.485,
          1.485,
          1.485,
          1.485,
          1.485,
          1.485,
          1.3275000000000001,
          1.3275000000000001,
          1.3275000000000001,
          1.35,
          1.35,
          1.35,
          1.35,
          1.35,
          1.35,
          1.915,
          1.915,
          1.915,
          1.89,
          1.89,
          1.89,
          1.9149999999999998,
          1.9149999999999998,
          1.9149999999999998,
          1.9749999999999999,
          1.9749999999999999,
          1.9749999999999999,
          2.01,
          2.01,
          2.01,
          1.915,
          1.915,
          1.915,
          1.8199999999999998,
          1.8199999999999998,
          1.8199999999999998,
          1.89,
          1.89,
          1.89,
          1.9149999999999998,
          1.9149999999999998,
          1.9149999999999998,
          1.5475,
          1.5475,
          1.5475,
          1.54,
          1.54,
          1.54,
          1.54,
          1.54,
          1.54,
          1.09,
          1.09,
          1.09,
          1.09,
          1.09,
          1.09,
          1.09,
          1.09,
          1.09,
          1.6575,
          1.6575,
          1.6575,
          1.6525,
          1.6525,
          1.6525,
          1.6575,
          1.6575,
          1.6575,
          1.8225,
          1.8225,
          1.8225,
          1.75,
          1.75,
          1.75,
          1.8199999999999998,
          1.8199999999999998,
          1.8199999999999998,
          1.565,
          1.565,
          1.565,
          1.5374999999999999,
          1.5374999999999999,
          1.5374999999999999,
          1.54,
          1.54,
          1.54,
          2.13,
          2.13,
          2.13,
          null,
          null,
          null,
          null,
          null,
          null,
          1.24,
          1.24,
          1.24,
          1.24,
          1.24,
          1.24,
          1.2850000000000001,
          1.2850000000000001,
          1.2850000000000001,
          2.07,
          2.07,
          2.07,
          2.01,
          2.01,
          2.01,
          2.07,
          2.07,
          2.07,
          1.3475000000000001,
          1.3475000000000001,
          1.3475000000000001,
          1.3275000000000001,
          1.3275000000000001,
          1.3275000000000001,
          1.2850000000000001,
          1.2850000000000001,
          1.2850000000000001,
          1.3075,
          1.3075,
          1.3075,
          1.33,
          1.33,
          1.33,
          1.2850000000000001,
          1.2850000000000001,
          1.2850000000000001,
          1.24,
          1.24,
          1.24,
          1.24,
          1.24,
          1.24,
          1.2625,
          1.2625,
          1.2625,
          1.2850000000000001,
          1.2850000000000001,
          1.2850000000000001,
          1.2850000000000001,
          1.2850000000000001,
          1.2850000000000001,
          1.2625,
          1.2625,
          1.2625,
          1.3075,
          1.3075,
          1.3075,
          1.39,
          1.39,
          1.39,
          1.435,
          1.435,
          1.435,
          1.3475000000000001,
          1.3475000000000001,
          1.3475000000000001,
          1.35,
          1.35,
          1.35,
          1.325,
          1.325,
          1.325,
          2.13,
          2.13,
          2.13,
          2.13,
          2.13,
          2.13,
          2.13,
          2.13,
          2.13,
          1.7874999999999999,
          1.7874999999999999,
          1.7874999999999999,
          1.7525,
          1.7525,
          1.7525,
          1.7175,
          1.7175,
          1.7175,
          1.3075,
          1.3075,
          1.3075,
          1.3075,
          1.3075,
          1.3075,
          1.2850000000000001,
          1.2850000000000001,
          1.2850000000000001,
          1.42,
          1.42,
          1.42,
          1.435,
          1.435,
          1.435,
          1.37,
          1.37,
          1.37,
          1.3275000000000001,
          1.3275000000000001,
          1.3275000000000001,
          1.33,
          1.33,
          1.33,
          1.35,
          1.35,
          1.35,
          1.485,
          1.485,
          1.485,
          1.46,
          1.46,
          1.46,
          1.485,
          1.485,
          1.485,
          1.8199999999999998,
          1.8199999999999998,
          1.8199999999999998,
          1.89,
          1.89,
          1.89,
          1.89,
          1.89,
          1.89,
          1.685,
          1.685,
          1.685,
          1.6525,
          1.6525,
          1.6525,
          1.6575,
          1.6575,
          1.6575,
          1.09,
          1.09,
          1.09,
          1.09,
          1.09,
          1.09,
          1.09,
          1.09,
          1.09,
          1.24,
          1.24,
          1.24,
          1.24,
          1.24,
          1.24,
          1.24,
          1.24,
          1.24,
          1.69,
          1.69,
          1.69,
          1.7175,
          1.7175,
          1.7175,
          1.7175,
          1.7175,
          1.7175,
          1.6925,
          1.6925,
          1.6925,
          1.685,
          1.685,
          1.685,
          1.6575,
          1.6575,
          1.6575,
          1.7175,
          1.7175,
          1.7175,
          1.75,
          1.75,
          1.75,
          1.7175,
          1.7175,
          1.7175,
          1.7525,
          1.7525,
          1.7525,
          1.7525,
          1.7525,
          1.7525,
          1.785,
          1.785,
          1.785,
          1.165,
          1.165,
          1.165,
          1.165,
          1.165,
          1.165,
          1.165,
          1.165,
          1.165,
          1.2850000000000001,
          1.2850000000000001,
          1.2850000000000001,
          1.2850000000000001,
          1.2850000000000001,
          1.2850000000000001,
          1.24,
          1.24,
          1.24,
          1.2850000000000001,
          1.2850000000000001,
          1.2850000000000001,
          1.33,
          1.33,
          1.33,
          1.35,
          1.35,
          1.35,
          1.8199999999999998,
          1.8199999999999998,
          1.8199999999999998,
          1.785,
          1.785,
          1.785,
          1.75,
          1.75,
          1.75,
          1.3275000000000001,
          1.3275000000000001,
          1.3275000000000001,
          1.33,
          1.33,
          1.33,
          1.3075,
          1.3075,
          1.3075,
          1.6575,
          1.6575,
          1.6575,
          1.685,
          1.685,
          1.685,
          1.685,
          1.685,
          1.685,
          1.8225,
          1.8225,
          1.8225,
          1.785,
          1.785,
          1.785,
          1.785,
          1.785,
          1.785,
          1.3075,
          1.3075,
          1.3075,
          1.2850000000000001,
          1.2850000000000001,
          1.2850000000000001,
          1.3075,
          1.3075,
          1.3075,
          1.415,
          1.415,
          1.415,
          1.415,
          1.415,
          1.415,
          1.415,
          1.415,
          1.415,
          1.165,
          1.165,
          1.165,
          1.24,
          1.24,
          1.24,
          1.24,
          1.24,
          1.24,
          1.7175,
          1.7175,
          1.7175,
          1.75,
          1.75,
          1.75,
          1.75,
          1.75,
          1.75,
          2.07,
          2.07,
          2.07,
          2.07,
          2.07,
          2.07,
          2.01,
          2.01,
          2.01,
          1.54,
          1.54,
          1.54,
          1.565,
          1.565,
          1.565,
          1.5375,
          1.5375,
          1.5375,
          1.8199999999999998,
          1.8199999999999998,
          1.8199999999999998,
          1.8199999999999998,
          1.8199999999999998,
          1.8199999999999998,
          1.785,
          1.785,
          1.785,
          1.2850000000000001,
          1.2850000000000001,
          1.2850000000000001,
          1.2850000000000001,
          1.2850000000000001,
          1.2850000000000001,
          1.2850000000000001,
          1.2850000000000001,
          1.2850000000000001,
          1.35,
          1.35,
          1.35,
          1.35,
          1.35,
          1.35,
          1.35,
          1.35,
          1.35,
          1.46,
          1.46,
          1.46,
          1.6525,
          1.6525,
          1.6525,
          1.6525,
          1.6525,
          1.6525
         ],
         "yaxis": "y"
        }
       ],
       "layout": {
        "legend": {
         "tracegroupgap": 0
        },
        "margin": {
         "t": 60
        },
        "template": {
         "data": {
          "bar": [
           {
            "error_x": {
             "color": "#2a3f5f"
            },
            "error_y": {
             "color": "#2a3f5f"
            },
            "marker": {
             "line": {
              "color": "#E5ECF6",
              "width": 0.5
             }
            },
            "type": "bar"
           }
          ],
          "barpolar": [
           {
            "marker": {
             "line": {
              "color": "#E5ECF6",
              "width": 0.5
             }
            },
            "type": "barpolar"
           }
          ],
          "carpet": [
           {
            "aaxis": {
             "endlinecolor": "#2a3f5f",
             "gridcolor": "white",
             "linecolor": "white",
             "minorgridcolor": "white",
             "startlinecolor": "#2a3f5f"
            },
            "baxis": {
             "endlinecolor": "#2a3f5f",
             "gridcolor": "white",
             "linecolor": "white",
             "minorgridcolor": "white",
             "startlinecolor": "#2a3f5f"
            },
            "type": "carpet"
           }
          ],
          "choropleth": [
           {
            "colorbar": {
             "outlinewidth": 0,
             "ticks": ""
            },
            "type": "choropleth"
           }
          ],
          "contour": [
           {
            "colorbar": {
             "outlinewidth": 0,
             "ticks": ""
            },
            "colorscale": [
             [
              0,
              "#0d0887"
             ],
             [
              0.1111111111111111,
              "#46039f"
             ],
             [
              0.2222222222222222,
              "#7201a8"
             ],
             [
              0.3333333333333333,
              "#9c179e"
             ],
             [
              0.4444444444444444,
              "#bd3786"
             ],
             [
              0.5555555555555556,
              "#d8576b"
             ],
             [
              0.6666666666666666,
              "#ed7953"
             ],
             [
              0.7777777777777778,
              "#fb9f3a"
             ],
             [
              0.8888888888888888,
              "#fdca26"
             ],
             [
              1,
              "#f0f921"
             ]
            ],
            "type": "contour"
           }
          ],
          "contourcarpet": [
           {
            "colorbar": {
             "outlinewidth": 0,
             "ticks": ""
            },
            "type": "contourcarpet"
           }
          ],
          "heatmap": [
           {
            "colorbar": {
             "outlinewidth": 0,
             "ticks": ""
            },
            "colorscale": [
             [
              0,
              "#0d0887"
             ],
             [
              0.1111111111111111,
              "#46039f"
             ],
             [
              0.2222222222222222,
              "#7201a8"
             ],
             [
              0.3333333333333333,
              "#9c179e"
             ],
             [
              0.4444444444444444,
              "#bd3786"
             ],
             [
              0.5555555555555556,
              "#d8576b"
             ],
             [
              0.6666666666666666,
              "#ed7953"
             ],
             [
              0.7777777777777778,
              "#fb9f3a"
             ],
             [
              0.8888888888888888,
              "#fdca26"
             ],
             [
              1,
              "#f0f921"
             ]
            ],
            "type": "heatmap"
           }
          ],
          "heatmapgl": [
           {
            "colorbar": {
             "outlinewidth": 0,
             "ticks": ""
            },
            "colorscale": [
             [
              0,
              "#0d0887"
             ],
             [
              0.1111111111111111,
              "#46039f"
             ],
             [
              0.2222222222222222,
              "#7201a8"
             ],
             [
              0.3333333333333333,
              "#9c179e"
             ],
             [
              0.4444444444444444,
              "#bd3786"
             ],
             [
              0.5555555555555556,
              "#d8576b"
             ],
             [
              0.6666666666666666,
              "#ed7953"
             ],
             [
              0.7777777777777778,
              "#fb9f3a"
             ],
             [
              0.8888888888888888,
              "#fdca26"
             ],
             [
              1,
              "#f0f921"
             ]
            ],
            "type": "heatmapgl"
           }
          ],
          "histogram": [
           {
            "marker": {
             "colorbar": {
              "outlinewidth": 0,
              "ticks": ""
             }
            },
            "type": "histogram"
           }
          ],
          "histogram2d": [
           {
            "colorbar": {
             "outlinewidth": 0,
             "ticks": ""
            },
            "colorscale": [
             [
              0,
              "#0d0887"
             ],
             [
              0.1111111111111111,
              "#46039f"
             ],
             [
              0.2222222222222222,
              "#7201a8"
             ],
             [
              0.3333333333333333,
              "#9c179e"
             ],
             [
              0.4444444444444444,
              "#bd3786"
             ],
             [
              0.5555555555555556,
              "#d8576b"
             ],
             [
              0.6666666666666666,
              "#ed7953"
             ],
             [
              0.7777777777777778,
              "#fb9f3a"
             ],
             [
              0.8888888888888888,
              "#fdca26"
             ],
             [
              1,
              "#f0f921"
             ]
            ],
            "type": "histogram2d"
           }
          ],
          "histogram2dcontour": [
           {
            "colorbar": {
             "outlinewidth": 0,
             "ticks": ""
            },
            "colorscale": [
             [
              0,
              "#0d0887"
             ],
             [
              0.1111111111111111,
              "#46039f"
             ],
             [
              0.2222222222222222,
              "#7201a8"
             ],
             [
              0.3333333333333333,
              "#9c179e"
             ],
             [
              0.4444444444444444,
              "#bd3786"
             ],
             [
              0.5555555555555556,
              "#d8576b"
             ],
             [
              0.6666666666666666,
              "#ed7953"
             ],
             [
              0.7777777777777778,
              "#fb9f3a"
             ],
             [
              0.8888888888888888,
              "#fdca26"
             ],
             [
              1,
              "#f0f921"
             ]
            ],
            "type": "histogram2dcontour"
           }
          ],
          "mesh3d": [
           {
            "colorbar": {
             "outlinewidth": 0,
             "ticks": ""
            },
            "type": "mesh3d"
           }
          ],
          "parcoords": [
           {
            "line": {
             "colorbar": {
              "outlinewidth": 0,
              "ticks": ""
             }
            },
            "type": "parcoords"
           }
          ],
          "pie": [
           {
            "automargin": true,
            "type": "pie"
           }
          ],
          "scatter": [
           {
            "marker": {
             "colorbar": {
              "outlinewidth": 0,
              "ticks": ""
             }
            },
            "type": "scatter"
           }
          ],
          "scatter3d": [
           {
            "line": {
             "colorbar": {
              "outlinewidth": 0,
              "ticks": ""
             }
            },
            "marker": {
             "colorbar": {
              "outlinewidth": 0,
              "ticks": ""
             }
            },
            "type": "scatter3d"
           }
          ],
          "scattercarpet": [
           {
            "marker": {
             "colorbar": {
              "outlinewidth": 0,
              "ticks": ""
             }
            },
            "type": "scattercarpet"
           }
          ],
          "scattergeo": [
           {
            "marker": {
             "colorbar": {
              "outlinewidth": 0,
              "ticks": ""
             }
            },
            "type": "scattergeo"
           }
          ],
          "scattergl": [
           {
            "marker": {
             "colorbar": {
              "outlinewidth": 0,
              "ticks": ""
             }
            },
            "type": "scattergl"
           }
          ],
          "scattermapbox": [
           {
            "marker": {
             "colorbar": {
              "outlinewidth": 0,
              "ticks": ""
             }
            },
            "type": "scattermapbox"
           }
          ],
          "scatterpolar": [
           {
            "marker": {
             "colorbar": {
              "outlinewidth": 0,
              "ticks": ""
             }
            },
            "type": "scatterpolar"
           }
          ],
          "scatterpolargl": [
           {
            "marker": {
             "colorbar": {
              "outlinewidth": 0,
              "ticks": ""
             }
            },
            "type": "scatterpolargl"
           }
          ],
          "scatterternary": [
           {
            "marker": {
             "colorbar": {
              "outlinewidth": 0,
              "ticks": ""
             }
            },
            "type": "scatterternary"
           }
          ],
          "surface": [
           {
            "colorbar": {
             "outlinewidth": 0,
             "ticks": ""
            },
            "colorscale": [
             [
              0,
              "#0d0887"
             ],
             [
              0.1111111111111111,
              "#46039f"
             ],
             [
              0.2222222222222222,
              "#7201a8"
             ],
             [
              0.3333333333333333,
              "#9c179e"
             ],
             [
              0.4444444444444444,
              "#bd3786"
             ],
             [
              0.5555555555555556,
              "#d8576b"
             ],
             [
              0.6666666666666666,
              "#ed7953"
             ],
             [
              0.7777777777777778,
              "#fb9f3a"
             ],
             [
              0.8888888888888888,
              "#fdca26"
             ],
             [
              1,
              "#f0f921"
             ]
            ],
            "type": "surface"
           }
          ],
          "table": [
           {
            "cells": {
             "fill": {
              "color": "#EBF0F8"
             },
             "line": {
              "color": "white"
             }
            },
            "header": {
             "fill": {
              "color": "#C8D4E3"
             },
             "line": {
              "color": "white"
             }
            },
            "type": "table"
           }
          ]
         },
         "layout": {
          "annotationdefaults": {
           "arrowcolor": "#2a3f5f",
           "arrowhead": 0,
           "arrowwidth": 1
          },
          "coloraxis": {
           "colorbar": {
            "outlinewidth": 0,
            "ticks": ""
           }
          },
          "colorscale": {
           "diverging": [
            [
             0,
             "#8e0152"
            ],
            [
             0.1,
             "#c51b7d"
            ],
            [
             0.2,
             "#de77ae"
            ],
            [
             0.3,
             "#f1b6da"
            ],
            [
             0.4,
             "#fde0ef"
            ],
            [
             0.5,
             "#f7f7f7"
            ],
            [
             0.6,
             "#e6f5d0"
            ],
            [
             0.7,
             "#b8e186"
            ],
            [
             0.8,
             "#7fbc41"
            ],
            [
             0.9,
             "#4d9221"
            ],
            [
             1,
             "#276419"
            ]
           ],
           "sequential": [
            [
             0,
             "#0d0887"
            ],
            [
             0.1111111111111111,
             "#46039f"
            ],
            [
             0.2222222222222222,
             "#7201a8"
            ],
            [
             0.3333333333333333,
             "#9c179e"
            ],
            [
             0.4444444444444444,
             "#bd3786"
            ],
            [
             0.5555555555555556,
             "#d8576b"
            ],
            [
             0.6666666666666666,
             "#ed7953"
            ],
            [
             0.7777777777777778,
             "#fb9f3a"
            ],
            [
             0.8888888888888888,
             "#fdca26"
            ],
            [
             1,
             "#f0f921"
            ]
           ],
           "sequentialminus": [
            [
             0,
             "#0d0887"
            ],
            [
             0.1111111111111111,
             "#46039f"
            ],
            [
             0.2222222222222222,
             "#7201a8"
            ],
            [
             0.3333333333333333,
             "#9c179e"
            ],
            [
             0.4444444444444444,
             "#bd3786"
            ],
            [
             0.5555555555555556,
             "#d8576b"
            ],
            [
             0.6666666666666666,
             "#ed7953"
            ],
            [
             0.7777777777777778,
             "#fb9f3a"
            ],
            [
             0.8888888888888888,
             "#fdca26"
            ],
            [
             1,
             "#f0f921"
            ]
           ]
          },
          "colorway": [
           "#636efa",
           "#EF553B",
           "#00cc96",
           "#ab63fa",
           "#FFA15A",
           "#19d3f3",
           "#FF6692",
           "#B6E880",
           "#FF97FF",
           "#FECB52"
          ],
          "font": {
           "color": "#2a3f5f"
          },
          "geo": {
           "bgcolor": "white",
           "lakecolor": "white",
           "landcolor": "#E5ECF6",
           "showlakes": true,
           "showland": true,
           "subunitcolor": "white"
          },
          "hoverlabel": {
           "align": "left"
          },
          "hovermode": "closest",
          "mapbox": {
           "style": "light"
          },
          "paper_bgcolor": "white",
          "plot_bgcolor": "#E5ECF6",
          "polar": {
           "angularaxis": {
            "gridcolor": "white",
            "linecolor": "white",
            "ticks": ""
           },
           "bgcolor": "#E5ECF6",
           "radialaxis": {
            "gridcolor": "white",
            "linecolor": "white",
            "ticks": ""
           }
          },
          "scene": {
           "xaxis": {
            "backgroundcolor": "#E5ECF6",
            "gridcolor": "white",
            "gridwidth": 2,
            "linecolor": "white",
            "showbackground": true,
            "ticks": "",
            "zerolinecolor": "white"
           },
           "yaxis": {
            "backgroundcolor": "#E5ECF6",
            "gridcolor": "white",
            "gridwidth": 2,
            "linecolor": "white",
            "showbackground": true,
            "ticks": "",
            "zerolinecolor": "white"
           },
           "zaxis": {
            "backgroundcolor": "#E5ECF6",
            "gridcolor": "white",
            "gridwidth": 2,
            "linecolor": "white",
            "showbackground": true,
            "ticks": "",
            "zerolinecolor": "white"
           }
          },
          "shapedefaults": {
           "line": {
            "color": "#2a3f5f"
           }
          },
          "ternary": {
           "aaxis": {
            "gridcolor": "white",
            "linecolor": "white",
            "ticks": ""
           },
           "baxis": {
            "gridcolor": "white",
            "linecolor": "white",
            "ticks": ""
           },
           "bgcolor": "#E5ECF6",
           "caxis": {
            "gridcolor": "white",
            "linecolor": "white",
            "ticks": ""
           }
          },
          "title": {
           "x": 0.05
          },
          "xaxis": {
           "automargin": true,
           "gridcolor": "white",
           "linecolor": "white",
           "ticks": "",
           "title": {
            "standoff": 15
           },
           "zerolinecolor": "white",
           "zerolinewidth": 2
          },
          "yaxis": {
           "automargin": true,
           "gridcolor": "white",
           "linecolor": "white",
           "ticks": "",
           "title": {
            "standoff": 15
           },
           "zerolinecolor": "white",
           "zerolinewidth": 2
          }
         }
        },
        "title": {
         "text": "Scatterplot of Internet Usage and Debt-to-Income Ratio"
        },
        "xaxis": {
         "anchor": "y",
         "domain": [
          0,
          1
         ],
         "title": {
          "text": "internet_pct"
         }
        },
        "yaxis": {
         "anchor": "x",
         "domain": [
          0,
          1
         ],
         "title": {
          "text": "high"
         }
        }
       }
      },
      "text/html": [
       "<div>\n",
       "        \n",
       "        \n",
       "            <div id=\"6a03ab7e-af77-4486-a56f-5505ab803859\" class=\"plotly-graph-div\" style=\"height:525px; width:100%;\"></div>\n",
       "            <script type=\"text/javascript\">\n",
       "                require([\"plotly\"], function(Plotly) {\n",
       "                    window.PLOTLYENV=window.PLOTLYENV || {};\n",
       "                    \n",
       "                if (document.getElementById(\"6a03ab7e-af77-4486-a56f-5505ab803859\")) {\n",
       "                    Plotly.newPlot(\n",
       "                        '6a03ab7e-af77-4486-a56f-5505ab803859',\n",
       "                        [{\"hoverlabel\": {\"namelength\": 0}, \"hovertemplate\": \"internet_pct=%{x}<br>high=%{y}\", \"legendgroup\": \"\", \"marker\": {\"color\": \"#636efa\", \"symbol\": \"circle\"}, \"mode\": \"markers\", \"name\": \"\", \"showlegend\": false, \"type\": \"scatter\", \"x\": [0.9192645883293366, 0.9440643863179075, 0.9441563621858795, 0.9192645883293366, 0.9440643863179075, 0.9441563621858795, 0.9192645883293366, 0.9440643863179075, 0.9441563621858795, 0.8073548526863085, 0.8390823211875843, 0.8596948471520878, 0.8073548526863085, 0.8390823211875843, 0.8596948471520878, 0.8073548526863085, 0.8390823211875843, 0.8596948471520878, 0.8172446929326461, 0.8448411656602783, 0.8608967132078744, 0.8172446929326461, 0.8448411656602783, 0.8608967132078744, 0.8172446929326461, 0.8448411656602783, 0.8608967132078744, 0.8764108810393829, 0.9104442062641419, 0.9229533881707794, 0.8764108810393829, 0.9104442062641419, 0.9229533881707794, 0.8764108810393829, 0.9104442062641419, 0.9229533881707794, 0.8976993401208099, 0.9212002286738462, 0.9350562471645739, 0.8976993401208099, 0.9212002286738462, 0.9350562471645739, 0.8976993401208099, 0.9212002286738462, 0.9350562471645739, 0.912517472405649, 0.9344238975817923, 0.9425953627524308, 0.912517472405649, 0.9344238975817923, 0.9425953627524308, 0.912517472405649, 0.9344238975817923, 0.9425953627524308, 0.8837538140954082, 0.8946437780888529, 0.9120725235849056, 0.8837538140954082, 0.8946437780888529, 0.9120725235849056, 0.8837538140954082, 0.8946437780888529, 0.9120725235849056, 0.893541518807665, 0.9018492176386913, 0.9207815275310834, 0.893541518807665, 0.9018492176386913, 0.9207815275310834, 0.893541518807665, 0.9018492176386913, 0.9207815275310834, 0.8749290981281905, 0.9108516092281401, 0.9348980162056441, 0.8749290981281905, 0.9108516092281401, 0.9348980162056441, 0.8749290981281905, 0.9108516092281401, 0.9348980162056441, 0.8748526101404224, 0.9014722387271407, 0.9198829648894669, 0.8748526101404224, 0.9014722387271407, 0.9198829648894669, 0.8748526101404224, 0.9014722387271407, 0.9198829648894669, 0.8681763483207526, 0.8944684083448632, 0.9086539745267149, 0.8681763483207526, 0.8944684083448632, 0.9086539745267149, 0.8681763483207526, 0.8944684083448632, 0.9086539745267149, 0.8919040143529939, 0.9127001535424435, 0.9098450120061122, 0.8919040143529939, 0.9127001535424435, 0.9098450120061122, 0.8919040143529939, 0.9127001535424435, 0.9098450120061122, 0.8546343810134702, 0.8789967144803269, 0.9003578528827038, 0.8546343810134702, 0.8789967144803269, 0.9003578528827038, 0.8546343810134702, 0.8789967144803269, 0.9003578528827038, 0.8885169065952461, 0.8909805205434604, 0.9110542313229884, 0.8885169065952461, 0.8909805205434604, 0.9110542313229884, 0.8885169065952461, 0.8909805205434604, 0.9110542313229884, 0.8638648451350506, 0.8904396515968478, 0.9031754944163704, 0.8638648451350506, 0.8904396515968478, 0.9031754944163704, 0.8638648451350506, 0.8904396515968478, 0.9031754944163704, 0.8502644030058447, 0.8781826076658903, 0.8893755132366168, 0.8502644030058447, 0.8781826076658903, 0.8893755132366168, 0.8502644030058447, 0.8781826076658903, 0.8893755132366168, 0.8593918675782656, 0.8855367435158501, 0.9085916740478299, 0.8593918675782656, 0.8855367435158501, 0.9085916740478299, 0.8593918675782656, 0.8855367435158501, 0.9085916740478299, 0.8199510546556346, 0.8489258892705361, 0.8616811594202899, 0.8199510546556346, 0.8489258892705361, 0.8616811594202899, 0.8199510546556346, 0.8489258892705361, 0.8616811594202899, 0.8086771390758962, 0.844839609483961, 0.8593057394508088, 0.8086771390758962, 0.844839609483961, 0.8593057394508088, 0.8086771390758962, 0.844839609483961, 0.8593057394508088, 0.8932421875, 0.9054855592169025, 0.9141650671785029, 0.8932421875, 0.9054855592169025, 0.9141650671785029, 0.8932421875, 0.9054855592169025, 0.9141650671785029, 0.9007759768584416, 0.9166173053264683, 0.9308657636025914, 0.9007759768584416, 0.9166173053264683, 0.9308657636025914, 0.9007759768584416, 0.9166173053264683, 0.9308657636025914, 0.8646368305209098, 0.8905397780703405, 0.8968576709796673, 0.8646368305209098, 0.8905397780703405, 0.8968576709796673, 0.8646368305209098, 0.8905397780703405, 0.8968576709796673, 0.8616820007775042, 0.8831419597343082, 0.8995419847328244, 0.8616820007775042, 0.8831419597343082, 0.8995419847328244, 0.8616820007775042, 0.8831419597343082, 0.8995419847328244, 0.8925161831136776, 0.9033834411504631, 0.9209138840070299, 0.8925161831136776, 0.9033834411504631, 0.9209138840070299, 0.8925161831136776, 0.9033834411504631, 0.9209138840070299, 0.855277567180524, 0.8828513616052609, 0.8976562827554401, 0.855277567180524, 0.8828513616052609, 0.8976562827554401, 0.855277567180524, 0.8828513616052609, 0.8976562827554401, 0.7881202462875769, 0.8223220012828736, 0.844047619047619, 0.7881202462875769, 0.8223220012828736, 0.844047619047619, 0.7881202462875769, 0.8223220012828736, 0.844047619047619, 0.8555930568948891, 0.8781542898341744, 0.8761522098794611, 0.8555930568948891, 0.8781542898341744, 0.8761522098794611, 0.8555930568948891, 0.8781542898341744, 0.8761522098794611, 0.8505905614235912, 0.8803832680815991, 0.8954008748198529, 0.8505905614235912, 0.8803832680815991, 0.8954008748198529, 0.8505905614235912, 0.8803832680815991, 0.8954008748198529, 0.8653907496012759, 0.8955887019993652, 0.9035725576983876, 0.8653907496012759, 0.8955887019993652, 0.9035725576983876, 0.8653907496012759, 0.8955887019993652, 0.9035725576983876, 0.8724805159903252, 0.8780096308186196, 0.912259774685222, 0.8724805159903252, 0.8780096308186196, 0.912259774685222, 0.8724805159903252, 0.8780096308186196, 0.912259774685222, 0.9101622874806801, 0.919131771033423, 0.9398524683185171, 0.9101622874806801, 0.919131771033423, 0.9398524683185171, 0.9101622874806801, 0.919131771033423, 0.9398524683185171, 0.8818695106649937, 0.9058694631397715, 0.925686591276252, 0.8818695106649937, 0.9058694631397715, 0.925686591276252, 0.8818695106649937, 0.9058694631397715, 0.925686591276252, 0.8071672354948806, 0.8481012658227848, 0.8581477139507621, 0.8071672354948806, 0.8481012658227848, 0.8581477139507621, 0.8071672354948806, 0.8481012658227848, 0.8581477139507621, 0.8954994722195566, 0.9117702805155421, 0.9322126804312078, 0.8954994722195566, 0.9117702805155421, 0.9322126804312078, 0.8954994722195566, 0.9117702805155421, 0.9322126804312078, 0.8642741612176341, 0.8860452212512138, 0.9006338731979793, 0.8642741612176341, 0.8860452212512138, 0.9006338731979793, 0.8642741612176341, 0.8860452212512138, 0.9006338731979793, 0.8554713786441488, 0.8789759335740697, 0.8961261570106274, 0.8554713786441488, 0.8789759335740697, 0.8961261570106274, 0.8554713786441488, 0.8789759335740697, 0.8961261570106274, 0.8365509243468177, 0.8719798543524128, 0.8941784548422198, 0.8365509243468177, 0.8719798543524128, 0.8941784548422198, 0.8365509243468177, 0.8719798543524128, 0.8941784548422198, 0.9086402266288952, 0.9161417573328243, 0.9322773759042156, 0.9086402266288952, 0.9161417573328243, 0.9322773759042156, 0.9086402266288952, 0.9161417573328243, 0.9322773759042156, 0.8455811138014527, 0.8681599092713355, 0.8798913911515732, 0.8455811138014527, 0.8681599092713355, 0.8798913911515732, 0.8455811138014527, 0.8681599092713355, 0.8798913911515732, 0.8687116564417178, 0.8806957373836355, 0.8970156555772995, 0.8687116564417178, 0.8806957373836355, 0.8970156555772995, 0.8687116564417178, 0.8806957373836355, 0.8970156555772995, 0.8339433738830875, 0.8689493583257895, 0.8853078578552307, 0.8339433738830875, 0.8689493583257895, 0.8853078578552307, 0.8339433738830875, 0.8689493583257895, 0.8853078578552307, 0.8541543901001768, 0.8784431137724551, 0.8759802497821667, 0.8541543901001768, 0.8784431137724551, 0.8759802497821667, 0.8541543901001768, 0.8784431137724551, 0.8759802497821667, 0.826739912263368, 0.8555725071392246, 0.8759995364468652, 0.826739912263368, 0.8555725071392246, 0.8759995364468652, 0.826739912263368, 0.8555725071392246, 0.8759995364468652, 0.8666652514488292, 0.8998594739712237, 0.9176217541745031, 0.8666652514488292, 0.8998594739712237, 0.9176217541745031, 0.8666652514488292, 0.8998594739712237, 0.9176217541745031, 0.9302900107411386, 0.9421058212278656, 0.9558129997949559, 0.9302900107411386, 0.9421058212278656, 0.9558129997949559, 0.9302900107411386, 0.9421058212278656, 0.9558129997949559, 0.882294248286073, 0.9067516903258884, 0.9167227402351885, 0.882294248286073, 0.9067516903258884, 0.9167227402351885, 0.882294248286073, 0.9067516903258884, 0.9167227402351885, 0.8783836798744605, 0.8885400313971743, 0.8897116134060795, 0.8783836798744605, 0.8885400313971743, 0.8897116134060795, 0.8783836798744605, 0.8885400313971743, 0.8897116134060795, 0.9139485450414132, 0.9296629457028287, 0.9420152091254753, 0.9139485450414132, 0.9296629457028287, 0.9420152091254753, 0.9139485450414132, 0.9296629457028287, 0.9420152091254753, 0.8629877128691529, 0.8879243661366566, 0.8931200272305663, 0.8629877128691529, 0.8879243661366566, 0.8931200272305663, 0.8629877128691529, 0.8879243661366566, 0.8931200272305663, 0.7987746766507828, 0.8273092369477911, 0.8474765832517824, 0.7987746766507828, 0.8273092369477911, 0.8474765832517824, 0.7987746766507828, 0.8273092369477911, 0.8474765832517824, 0.891218872870249, 0.9038461538461539, 0.9140832595217007, 0.891218872870249, 0.9038461538461539, 0.9140832595217007, 0.891218872870249, 0.9038461538461539, 0.9140832595217007], \"xaxis\": \"x\", \"y\": [1.685, 1.685, 1.685, 1.7874999999999999, 1.7874999999999999, 1.7874999999999999, 1.785, 1.785, 1.785, 1.485, 1.485, 1.485, 1.485, 1.485, 1.485, 1.485, 1.485, 1.485, 1.3275000000000001, 1.3275000000000001, 1.3275000000000001, 1.35, 1.35, 1.35, 1.35, 1.35, 1.35, 1.915, 1.915, 1.915, 1.89, 1.89, 1.89, 1.9149999999999998, 1.9149999999999998, 1.9149999999999998, 1.9749999999999999, 1.9749999999999999, 1.9749999999999999, 2.01, 2.01, 2.01, 1.915, 1.915, 1.915, 1.8199999999999998, 1.8199999999999998, 1.8199999999999998, 1.89, 1.89, 1.89, 1.9149999999999998, 1.9149999999999998, 1.9149999999999998, 1.5475, 1.5475, 1.5475, 1.54, 1.54, 1.54, 1.54, 1.54, 1.54, 1.09, 1.09, 1.09, 1.09, 1.09, 1.09, 1.09, 1.09, 1.09, 1.6575, 1.6575, 1.6575, 1.6525, 1.6525, 1.6525, 1.6575, 1.6575, 1.6575, 1.8225, 1.8225, 1.8225, 1.75, 1.75, 1.75, 1.8199999999999998, 1.8199999999999998, 1.8199999999999998, 1.565, 1.565, 1.565, 1.5374999999999999, 1.5374999999999999, 1.5374999999999999, 1.54, 1.54, 1.54, 2.13, 2.13, 2.13, null, null, null, null, null, null, 1.24, 1.24, 1.24, 1.24, 1.24, 1.24, 1.2850000000000001, 1.2850000000000001, 1.2850000000000001, 2.07, 2.07, 2.07, 2.01, 2.01, 2.01, 2.07, 2.07, 2.07, 1.3475000000000001, 1.3475000000000001, 1.3475000000000001, 1.3275000000000001, 1.3275000000000001, 1.3275000000000001, 1.2850000000000001, 1.2850000000000001, 1.2850000000000001, 1.3075, 1.3075, 1.3075, 1.33, 1.33, 1.33, 1.2850000000000001, 1.2850000000000001, 1.2850000000000001, 1.24, 1.24, 1.24, 1.24, 1.24, 1.24, 1.2625, 1.2625, 1.2625, 1.2850000000000001, 1.2850000000000001, 1.2850000000000001, 1.2850000000000001, 1.2850000000000001, 1.2850000000000001, 1.2625, 1.2625, 1.2625, 1.3075, 1.3075, 1.3075, 1.39, 1.39, 1.39, 1.435, 1.435, 1.435, 1.3475000000000001, 1.3475000000000001, 1.3475000000000001, 1.35, 1.35, 1.35, 1.325, 1.325, 1.325, 2.13, 2.13, 2.13, 2.13, 2.13, 2.13, 2.13, 2.13, 2.13, 1.7874999999999999, 1.7874999999999999, 1.7874999999999999, 1.7525, 1.7525, 1.7525, 1.7175, 1.7175, 1.7175, 1.3075, 1.3075, 1.3075, 1.3075, 1.3075, 1.3075, 1.2850000000000001, 1.2850000000000001, 1.2850000000000001, 1.42, 1.42, 1.42, 1.435, 1.435, 1.435, 1.37, 1.37, 1.37, 1.3275000000000001, 1.3275000000000001, 1.3275000000000001, 1.33, 1.33, 1.33, 1.35, 1.35, 1.35, 1.485, 1.485, 1.485, 1.46, 1.46, 1.46, 1.485, 1.485, 1.485, 1.8199999999999998, 1.8199999999999998, 1.8199999999999998, 1.89, 1.89, 1.89, 1.89, 1.89, 1.89, 1.685, 1.685, 1.685, 1.6525, 1.6525, 1.6525, 1.6575, 1.6575, 1.6575, 1.09, 1.09, 1.09, 1.09, 1.09, 1.09, 1.09, 1.09, 1.09, 1.24, 1.24, 1.24, 1.24, 1.24, 1.24, 1.24, 1.24, 1.24, 1.69, 1.69, 1.69, 1.7175, 1.7175, 1.7175, 1.7175, 1.7175, 1.7175, 1.6925, 1.6925, 1.6925, 1.685, 1.685, 1.685, 1.6575, 1.6575, 1.6575, 1.7175, 1.7175, 1.7175, 1.75, 1.75, 1.75, 1.7175, 1.7175, 1.7175, 1.7525, 1.7525, 1.7525, 1.7525, 1.7525, 1.7525, 1.785, 1.785, 1.785, 1.165, 1.165, 1.165, 1.165, 1.165, 1.165, 1.165, 1.165, 1.165, 1.2850000000000001, 1.2850000000000001, 1.2850000000000001, 1.2850000000000001, 1.2850000000000001, 1.2850000000000001, 1.24, 1.24, 1.24, 1.2850000000000001, 1.2850000000000001, 1.2850000000000001, 1.33, 1.33, 1.33, 1.35, 1.35, 1.35, 1.8199999999999998, 1.8199999999999998, 1.8199999999999998, 1.785, 1.785, 1.785, 1.75, 1.75, 1.75, 1.3275000000000001, 1.3275000000000001, 1.3275000000000001, 1.33, 1.33, 1.33, 1.3075, 1.3075, 1.3075, 1.6575, 1.6575, 1.6575, 1.685, 1.685, 1.685, 1.685, 1.685, 1.685, 1.8225, 1.8225, 1.8225, 1.785, 1.785, 1.785, 1.785, 1.785, 1.785, 1.3075, 1.3075, 1.3075, 1.2850000000000001, 1.2850000000000001, 1.2850000000000001, 1.3075, 1.3075, 1.3075, 1.415, 1.415, 1.415, 1.415, 1.415, 1.415, 1.415, 1.415, 1.415, 1.165, 1.165, 1.165, 1.24, 1.24, 1.24, 1.24, 1.24, 1.24, 1.7175, 1.7175, 1.7175, 1.75, 1.75, 1.75, 1.75, 1.75, 1.75, 2.07, 2.07, 2.07, 2.07, 2.07, 2.07, 2.01, 2.01, 2.01, 1.54, 1.54, 1.54, 1.565, 1.565, 1.565, 1.5375, 1.5375, 1.5375, 1.8199999999999998, 1.8199999999999998, 1.8199999999999998, 1.8199999999999998, 1.8199999999999998, 1.8199999999999998, 1.785, 1.785, 1.785, 1.2850000000000001, 1.2850000000000001, 1.2850000000000001, 1.2850000000000001, 1.2850000000000001, 1.2850000000000001, 1.2850000000000001, 1.2850000000000001, 1.2850000000000001, 1.35, 1.35, 1.35, 1.35, 1.35, 1.35, 1.35, 1.35, 1.35, 1.46, 1.46, 1.46, 1.6525, 1.6525, 1.6525, 1.6525, 1.6525, 1.6525], \"yaxis\": \"y\"}],\n",
       "                        {\"legend\": {\"tracegroupgap\": 0}, \"margin\": {\"t\": 60}, \"template\": {\"data\": {\"bar\": [{\"error_x\": {\"color\": \"#2a3f5f\"}, \"error_y\": {\"color\": \"#2a3f5f\"}, \"marker\": {\"line\": {\"color\": \"#E5ECF6\", \"width\": 0.5}}, \"type\": \"bar\"}], \"barpolar\": [{\"marker\": {\"line\": {\"color\": \"#E5ECF6\", \"width\": 0.5}}, \"type\": \"barpolar\"}], \"carpet\": [{\"aaxis\": {\"endlinecolor\": \"#2a3f5f\", \"gridcolor\": \"white\", \"linecolor\": \"white\", \"minorgridcolor\": \"white\", \"startlinecolor\": \"#2a3f5f\"}, \"baxis\": {\"endlinecolor\": \"#2a3f5f\", \"gridcolor\": \"white\", \"linecolor\": \"white\", \"minorgridcolor\": \"white\", \"startlinecolor\": \"#2a3f5f\"}, \"type\": \"carpet\"}], \"choropleth\": [{\"colorbar\": {\"outlinewidth\": 0, \"ticks\": \"\"}, \"type\": \"choropleth\"}], \"contour\": [{\"colorbar\": {\"outlinewidth\": 0, \"ticks\": \"\"}, \"colorscale\": [[0.0, \"#0d0887\"], [0.1111111111111111, \"#46039f\"], [0.2222222222222222, \"#7201a8\"], [0.3333333333333333, \"#9c179e\"], [0.4444444444444444, \"#bd3786\"], [0.5555555555555556, \"#d8576b\"], [0.6666666666666666, \"#ed7953\"], [0.7777777777777778, \"#fb9f3a\"], [0.8888888888888888, \"#fdca26\"], [1.0, \"#f0f921\"]], \"type\": \"contour\"}], \"contourcarpet\": [{\"colorbar\": {\"outlinewidth\": 0, \"ticks\": \"\"}, \"type\": \"contourcarpet\"}], \"heatmap\": [{\"colorbar\": {\"outlinewidth\": 0, \"ticks\": \"\"}, \"colorscale\": [[0.0, \"#0d0887\"], [0.1111111111111111, \"#46039f\"], [0.2222222222222222, \"#7201a8\"], [0.3333333333333333, \"#9c179e\"], [0.4444444444444444, \"#bd3786\"], [0.5555555555555556, \"#d8576b\"], [0.6666666666666666, \"#ed7953\"], [0.7777777777777778, \"#fb9f3a\"], [0.8888888888888888, \"#fdca26\"], [1.0, \"#f0f921\"]], \"type\": \"heatmap\"}], \"heatmapgl\": [{\"colorbar\": {\"outlinewidth\": 0, \"ticks\": \"\"}, \"colorscale\": [[0.0, \"#0d0887\"], [0.1111111111111111, \"#46039f\"], [0.2222222222222222, \"#7201a8\"], [0.3333333333333333, \"#9c179e\"], [0.4444444444444444, \"#bd3786\"], [0.5555555555555556, \"#d8576b\"], [0.6666666666666666, \"#ed7953\"], [0.7777777777777778, \"#fb9f3a\"], [0.8888888888888888, \"#fdca26\"], [1.0, \"#f0f921\"]], \"type\": \"heatmapgl\"}], \"histogram\": [{\"marker\": {\"colorbar\": {\"outlinewidth\": 0, \"ticks\": \"\"}}, \"type\": \"histogram\"}], \"histogram2d\": [{\"colorbar\": {\"outlinewidth\": 0, \"ticks\": \"\"}, \"colorscale\": [[0.0, \"#0d0887\"], [0.1111111111111111, \"#46039f\"], [0.2222222222222222, \"#7201a8\"], [0.3333333333333333, \"#9c179e\"], [0.4444444444444444, \"#bd3786\"], [0.5555555555555556, \"#d8576b\"], [0.6666666666666666, \"#ed7953\"], [0.7777777777777778, \"#fb9f3a\"], [0.8888888888888888, \"#fdca26\"], [1.0, \"#f0f921\"]], \"type\": \"histogram2d\"}], \"histogram2dcontour\": [{\"colorbar\": {\"outlinewidth\": 0, \"ticks\": \"\"}, \"colorscale\": [[0.0, \"#0d0887\"], [0.1111111111111111, \"#46039f\"], [0.2222222222222222, \"#7201a8\"], [0.3333333333333333, \"#9c179e\"], [0.4444444444444444, \"#bd3786\"], [0.5555555555555556, \"#d8576b\"], [0.6666666666666666, \"#ed7953\"], [0.7777777777777778, \"#fb9f3a\"], [0.8888888888888888, \"#fdca26\"], [1.0, \"#f0f921\"]], \"type\": \"histogram2dcontour\"}], \"mesh3d\": [{\"colorbar\": {\"outlinewidth\": 0, \"ticks\": \"\"}, \"type\": \"mesh3d\"}], \"parcoords\": [{\"line\": {\"colorbar\": {\"outlinewidth\": 0, \"ticks\": \"\"}}, \"type\": \"parcoords\"}], \"pie\": [{\"automargin\": true, \"type\": \"pie\"}], \"scatter\": [{\"marker\": {\"colorbar\": {\"outlinewidth\": 0, \"ticks\": \"\"}}, \"type\": \"scatter\"}], \"scatter3d\": [{\"line\": {\"colorbar\": {\"outlinewidth\": 0, \"ticks\": \"\"}}, \"marker\": {\"colorbar\": {\"outlinewidth\": 0, \"ticks\": \"\"}}, \"type\": \"scatter3d\"}], \"scattercarpet\": [{\"marker\": {\"colorbar\": {\"outlinewidth\": 0, \"ticks\": \"\"}}, \"type\": \"scattercarpet\"}], \"scattergeo\": [{\"marker\": {\"colorbar\": {\"outlinewidth\": 0, \"ticks\": \"\"}}, \"type\": \"scattergeo\"}], \"scattergl\": [{\"marker\": {\"colorbar\": {\"outlinewidth\": 0, \"ticks\": \"\"}}, \"type\": \"scattergl\"}], \"scattermapbox\": [{\"marker\": {\"colorbar\": {\"outlinewidth\": 0, \"ticks\": \"\"}}, \"type\": \"scattermapbox\"}], \"scatterpolar\": [{\"marker\": {\"colorbar\": {\"outlinewidth\": 0, \"ticks\": \"\"}}, \"type\": \"scatterpolar\"}], \"scatterpolargl\": [{\"marker\": {\"colorbar\": {\"outlinewidth\": 0, \"ticks\": \"\"}}, \"type\": \"scatterpolargl\"}], \"scatterternary\": [{\"marker\": {\"colorbar\": {\"outlinewidth\": 0, \"ticks\": \"\"}}, \"type\": \"scatterternary\"}], \"surface\": [{\"colorbar\": {\"outlinewidth\": 0, \"ticks\": \"\"}, \"colorscale\": [[0.0, \"#0d0887\"], [0.1111111111111111, \"#46039f\"], [0.2222222222222222, \"#7201a8\"], [0.3333333333333333, \"#9c179e\"], [0.4444444444444444, \"#bd3786\"], [0.5555555555555556, \"#d8576b\"], [0.6666666666666666, \"#ed7953\"], [0.7777777777777778, \"#fb9f3a\"], [0.8888888888888888, \"#fdca26\"], [1.0, \"#f0f921\"]], \"type\": \"surface\"}], \"table\": [{\"cells\": {\"fill\": {\"color\": \"#EBF0F8\"}, \"line\": {\"color\": \"white\"}}, \"header\": {\"fill\": {\"color\": \"#C8D4E3\"}, \"line\": {\"color\": \"white\"}}, \"type\": \"table\"}]}, \"layout\": {\"annotationdefaults\": {\"arrowcolor\": \"#2a3f5f\", \"arrowhead\": 0, \"arrowwidth\": 1}, \"coloraxis\": {\"colorbar\": {\"outlinewidth\": 0, \"ticks\": \"\"}}, \"colorscale\": {\"diverging\": [[0, \"#8e0152\"], [0.1, \"#c51b7d\"], [0.2, \"#de77ae\"], [0.3, \"#f1b6da\"], [0.4, \"#fde0ef\"], [0.5, \"#f7f7f7\"], [0.6, \"#e6f5d0\"], [0.7, \"#b8e186\"], [0.8, \"#7fbc41\"], [0.9, \"#4d9221\"], [1, \"#276419\"]], \"sequential\": [[0.0, \"#0d0887\"], [0.1111111111111111, \"#46039f\"], [0.2222222222222222, \"#7201a8\"], [0.3333333333333333, \"#9c179e\"], [0.4444444444444444, \"#bd3786\"], [0.5555555555555556, \"#d8576b\"], [0.6666666666666666, \"#ed7953\"], [0.7777777777777778, \"#fb9f3a\"], [0.8888888888888888, \"#fdca26\"], [1.0, \"#f0f921\"]], \"sequentialminus\": [[0.0, \"#0d0887\"], [0.1111111111111111, \"#46039f\"], [0.2222222222222222, \"#7201a8\"], [0.3333333333333333, \"#9c179e\"], [0.4444444444444444, \"#bd3786\"], [0.5555555555555556, \"#d8576b\"], [0.6666666666666666, \"#ed7953\"], [0.7777777777777778, \"#fb9f3a\"], [0.8888888888888888, \"#fdca26\"], [1.0, \"#f0f921\"]]}, \"colorway\": [\"#636efa\", \"#EF553B\", \"#00cc96\", \"#ab63fa\", \"#FFA15A\", \"#19d3f3\", \"#FF6692\", \"#B6E880\", \"#FF97FF\", \"#FECB52\"], \"font\": {\"color\": \"#2a3f5f\"}, \"geo\": {\"bgcolor\": \"white\", \"lakecolor\": \"white\", \"landcolor\": \"#E5ECF6\", \"showlakes\": true, \"showland\": true, \"subunitcolor\": \"white\"}, \"hoverlabel\": {\"align\": \"left\"}, \"hovermode\": \"closest\", \"mapbox\": {\"style\": \"light\"}, \"paper_bgcolor\": \"white\", \"plot_bgcolor\": \"#E5ECF6\", \"polar\": {\"angularaxis\": {\"gridcolor\": \"white\", \"linecolor\": \"white\", \"ticks\": \"\"}, \"bgcolor\": \"#E5ECF6\", \"radialaxis\": {\"gridcolor\": \"white\", \"linecolor\": \"white\", \"ticks\": \"\"}}, \"scene\": {\"xaxis\": {\"backgroundcolor\": \"#E5ECF6\", \"gridcolor\": \"white\", \"gridwidth\": 2, \"linecolor\": \"white\", \"showbackground\": true, \"ticks\": \"\", \"zerolinecolor\": \"white\"}, \"yaxis\": {\"backgroundcolor\": \"#E5ECF6\", \"gridcolor\": \"white\", \"gridwidth\": 2, \"linecolor\": \"white\", \"showbackground\": true, \"ticks\": \"\", \"zerolinecolor\": \"white\"}, \"zaxis\": {\"backgroundcolor\": \"#E5ECF6\", \"gridcolor\": \"white\", \"gridwidth\": 2, \"linecolor\": \"white\", \"showbackground\": true, \"ticks\": \"\", \"zerolinecolor\": \"white\"}}, \"shapedefaults\": {\"line\": {\"color\": \"#2a3f5f\"}}, \"ternary\": {\"aaxis\": {\"gridcolor\": \"white\", \"linecolor\": \"white\", \"ticks\": \"\"}, \"baxis\": {\"gridcolor\": \"white\", \"linecolor\": \"white\", \"ticks\": \"\"}, \"bgcolor\": \"#E5ECF6\", \"caxis\": {\"gridcolor\": \"white\", \"linecolor\": \"white\", \"ticks\": \"\"}}, \"title\": {\"x\": 0.05}, \"xaxis\": {\"automargin\": true, \"gridcolor\": \"white\", \"linecolor\": \"white\", \"ticks\": \"\", \"title\": {\"standoff\": 15}, \"zerolinecolor\": \"white\", \"zerolinewidth\": 2}, \"yaxis\": {\"automargin\": true, \"gridcolor\": \"white\", \"linecolor\": \"white\", \"ticks\": \"\", \"title\": {\"standoff\": 15}, \"zerolinecolor\": \"white\", \"zerolinewidth\": 2}}}, \"title\": {\"text\": \"Scatterplot of Internet Usage and Debt-to-Income Ratio\"}, \"xaxis\": {\"anchor\": \"y\", \"domain\": [0.0, 1.0], \"title\": {\"text\": \"internet_pct\"}}, \"yaxis\": {\"anchor\": \"x\", \"domain\": [0.0, 1.0], \"title\": {\"text\": \"high\"}}},\n",
       "                        {\"responsive\": true}\n",
       "                    ).then(function(){\n",
       "                            \n",
       "var gd = document.getElementById('6a03ab7e-af77-4486-a56f-5505ab803859');\n",
       "var x = new MutationObserver(function (mutations, observer) {{\n",
       "        var display = window.getComputedStyle(gd).display;\n",
       "        if (!display || display === 'none') {{\n",
       "            console.log([gd, 'removed!']);\n",
       "            Plotly.purge(gd);\n",
       "            observer.disconnect();\n",
       "        }}\n",
       "}});\n",
       "\n",
       "// Listen for the removal of the full notebook cells\n",
       "var notebookContainer = gd.closest('#notebook-container');\n",
       "if (notebookContainer) {{\n",
       "    x.observe(notebookContainer, {childList: true});\n",
       "}}\n",
       "\n",
       "// Listen for the clearing of the current output cell\n",
       "var outputEl = gd.closest('.output');\n",
       "if (outputEl) {{\n",
       "    x.observe(outputEl, {childList: true});\n",
       "}}\n",
       "\n",
       "                        })\n",
       "                };\n",
       "                });\n",
       "            </script>\n",
       "        </div>"
      ]
     },
     "metadata": {},
     "output_type": "display_data"
    }
   ],
   "source": [
    "## plot upper estimates \n",
    "scatter2 = px.scatter(totalData, x=\"internet_pct\", y=\"high\",facet_col_wrap=8)\n",
    "\n",
    "scatter2.update_layout(\n",
    "    title_text = 'Scatterplot of Internet Usage and Debt-to-Income Ratio', # Create a Title\n",
    ")\n",
    "\n",
    "\n",
    "scatter2.show()"
   ]
  },
  {
   "cell_type": "code",
   "execution_count": null,
   "metadata": {},
   "outputs": [],
   "source": []
  }
 ],
 "metadata": {
  "kernelspec": {
   "display_name": "Python 3",
   "language": "python",
   "name": "python3"
  },
  "language_info": {
   "codemirror_mode": {
    "name": "ipython",
    "version": 3
   },
   "file_extension": ".py",
   "mimetype": "text/x-python",
   "name": "python",
   "nbconvert_exporter": "python",
   "pygments_lexer": "ipython3",
   "version": "3.6.5"
  },
  "toc": {
   "base_numbering": 1,
   "nav_menu": {},
   "number_sections": true,
   "sideBar": true,
   "skip_h1_title": false,
   "title_cell": "Table of Contents",
   "title_sidebar": "Contents",
   "toc_cell": false,
   "toc_position": {},
   "toc_section_display": true,
   "toc_window_display": true
  }
 },
 "nbformat": 4,
 "nbformat_minor": 2
}
