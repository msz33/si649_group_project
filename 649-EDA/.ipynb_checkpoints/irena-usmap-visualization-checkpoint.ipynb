{
 "cells": [
  {
   "cell_type": "code",
   "execution_count": 8,
   "metadata": {},
   "outputs": [],
   "source": [
    "import pandas as pd\n",
    "import altair as alt\n",
    "import numpy as np\n",
    "import us\n",
    "%matplotlib notebook\n",
    "import plotly.express as px\n",
    "import seaborn as sns"
   ]
  },
  {
   "cell_type": "code",
   "execution_count": 9,
   "metadata": {},
   "outputs": [
    {
     "data": {
      "text/html": [
       "<div>\n",
       "<style scoped>\n",
       "    .dataframe tbody tr th:only-of-type {\n",
       "        vertical-align: middle;\n",
       "    }\n",
       "\n",
       "    .dataframe tbody tr th {\n",
       "        vertical-align: top;\n",
       "    }\n",
       "\n",
       "    .dataframe thead th {\n",
       "        text-align: right;\n",
       "    }\n",
       "</style>\n",
       "<table border=\"1\" class=\"dataframe\">\n",
       "  <thead>\n",
       "    <tr style=\"text-align: right;\">\n",
       "      <th></th>\n",
       "      <th>state</th>\n",
       "      <th>total_households_2015</th>\n",
       "      <th>with_computer_incl_cell_2015</th>\n",
       "      <th>total_households_2016</th>\n",
       "      <th>with_computer_incl_cell_2016</th>\n",
       "      <th>total_households_2017</th>\n",
       "      <th>with_computer_incl_cell_2017</th>\n",
       "    </tr>\n",
       "  </thead>\n",
       "  <tbody>\n",
       "    <tr>\n",
       "      <th>0</th>\n",
       "      <td>Alabama</td>\n",
       "      <td>1846400</td>\n",
       "      <td>1490700</td>\n",
       "      <td>1852500</td>\n",
       "      <td>1554400</td>\n",
       "      <td>1841700</td>\n",
       "      <td>1583300</td>\n",
       "    </tr>\n",
       "    <tr>\n",
       "      <th>1</th>\n",
       "      <td>Alaska</td>\n",
       "      <td>250200</td>\n",
       "      <td>230000</td>\n",
       "      <td>248500</td>\n",
       "      <td>234600</td>\n",
       "      <td>250700</td>\n",
       "      <td>236700</td>\n",
       "    </tr>\n",
       "    <tr>\n",
       "      <th>2</th>\n",
       "      <td>Arizona</td>\n",
       "      <td>2463000</td>\n",
       "      <td>2158600</td>\n",
       "      <td>2519100</td>\n",
       "      <td>2293500</td>\n",
       "      <td>2553000</td>\n",
       "      <td>2356300</td>\n",
       "    </tr>\n",
       "    <tr>\n",
       "      <th>3</th>\n",
       "      <td>Arkansas</td>\n",
       "      <td>1144700</td>\n",
       "      <td>935500</td>\n",
       "      <td>1142700</td>\n",
       "      <td>965400</td>\n",
       "      <td>1153100</td>\n",
       "      <td>992700</td>\n",
       "    </tr>\n",
       "    <tr>\n",
       "      <th>4</th>\n",
       "      <td>California</td>\n",
       "      <td>12896300</td>\n",
       "      <td>11577000</td>\n",
       "      <td>12944200</td>\n",
       "      <td>11924200</td>\n",
       "      <td>13005100</td>\n",
       "      <td>12160500</td>\n",
       "    </tr>\n",
       "    <tr>\n",
       "      <th>5</th>\n",
       "      <td>Colorado</td>\n",
       "      <td>2074700</td>\n",
       "      <td>1893200</td>\n",
       "      <td>2109000</td>\n",
       "      <td>1970700</td>\n",
       "      <td>2139200</td>\n",
       "      <td>2016400</td>\n",
       "    </tr>\n",
       "    <tr>\n",
       "      <th>6</th>\n",
       "      <td>Connecticut</td>\n",
       "      <td>1343700</td>\n",
       "      <td>1187500</td>\n",
       "      <td>1357300</td>\n",
       "      <td>1214300</td>\n",
       "      <td>1356800</td>\n",
       "      <td>1237500</td>\n",
       "    </tr>\n",
       "    <tr>\n",
       "      <th>7</th>\n",
       "      <td>Delaware</td>\n",
       "      <td>352600</td>\n",
       "      <td>308500</td>\n",
       "      <td>351100</td>\n",
       "      <td>319800</td>\n",
       "      <td>357900</td>\n",
       "      <td>334600</td>\n",
       "    </tr>\n",
       "    <tr>\n",
       "      <th>8</th>\n",
       "      <td>District of Columbia</td>\n",
       "      <td>281800</td>\n",
       "      <td>251800</td>\n",
       "      <td>281200</td>\n",
       "      <td>253600</td>\n",
       "      <td>281500</td>\n",
       "      <td>259200</td>\n",
       "    </tr>\n",
       "    <tr>\n",
       "      <th>9</th>\n",
       "      <td>Florida</td>\n",
       "      <td>7463200</td>\n",
       "      <td>6529200</td>\n",
       "      <td>7573500</td>\n",
       "      <td>6827300</td>\n",
       "      <td>7690000</td>\n",
       "      <td>7073900</td>\n",
       "    </tr>\n",
       "  </tbody>\n",
       "</table>\n",
       "</div>"
      ],
      "text/plain": [
       "                  state  total_households_2015  with_computer_incl_cell_2015  \\\n",
       "0               Alabama                1846400                       1490700   \n",
       "1                Alaska                 250200                        230000   \n",
       "2               Arizona                2463000                       2158600   \n",
       "3              Arkansas                1144700                        935500   \n",
       "4            California               12896300                      11577000   \n",
       "5              Colorado                2074700                       1893200   \n",
       "6           Connecticut                1343700                       1187500   \n",
       "7              Delaware                 352600                        308500   \n",
       "8  District of Columbia                 281800                        251800   \n",
       "9               Florida                7463200                       6529200   \n",
       "\n",
       "   total_households_2016  with_computer_incl_cell_2016  total_households_2017  \\\n",
       "0                1852500                       1554400                1841700   \n",
       "1                 248500                        234600                 250700   \n",
       "2                2519100                       2293500                2553000   \n",
       "3                1142700                        965400                1153100   \n",
       "4               12944200                      11924200               13005100   \n",
       "5                2109000                       1970700                2139200   \n",
       "6                1357300                       1214300                1356800   \n",
       "7                 351100                        319800                 357900   \n",
       "8                 281200                        253600                 281500   \n",
       "9                7573500                       6827300                7690000   \n",
       "\n",
       "   with_computer_incl_cell_2017  \n",
       "0                       1583300  \n",
       "1                        236700  \n",
       "2                       2356300  \n",
       "3                        992700  \n",
       "4                      12160500  \n",
       "5                       2016400  \n",
       "6                       1237500  \n",
       "7                        334600  \n",
       "8                        259200  \n",
       "9                       7073900  "
      ]
     },
     "execution_count": 9,
     "metadata": {},
     "output_type": "execute_result"
    }
   ],
   "source": [
    "## data with state level info \n",
    "nces_household = pd.read_csv(\"data/nces-household.csv\")\n",
    "nces_household.head(10)"
   ]
  },
  {
   "cell_type": "code",
   "execution_count": 10,
   "metadata": {},
   "outputs": [],
   "source": [
    "## calculate pct of households w/ computers\n",
    "nces_household[\"pct_2015\"] = nces_household[\"with_computer_incl_cell_2015\"]/nces_household[\"total_households_2015\"]\n",
    "nces_household[\"pct_2016\"] = nces_household[\"with_computer_incl_cell_2016\"]/nces_household[\"total_households_2016\"]\n",
    "nces_household[\"pct_2017\"] = nces_household[\"with_computer_incl_cell_2017\"]/nces_household[\"total_households_2017\"]\n",
    "\n",
    "\n",
    "## melt dataset to group households by state and year \n",
    "\n",
    "nces_household_long = nces_household[[\"state\", \"pct_2015\", \"pct_2016\", \"pct_2017\"]]\n",
    "nces_household_long = pd.melt(nces_household_long, id_vars=[\"state\"], value_vars=[\"pct_2015\", \"pct_2016\", \"pct_2017\"])\n",
    "nces_household_long[\"year\"] = nces_household_long[\"variable\"].map(lambda x: x[4:8])\n"
   ]
  },
  {
   "cell_type": "code",
   "execution_count": 11,
   "metadata": {},
   "outputs": [
    {
     "data": {
      "text/html": [
       "<div>\n",
       "<style scoped>\n",
       "    .dataframe tbody tr th:only-of-type {\n",
       "        vertical-align: middle;\n",
       "    }\n",
       "\n",
       "    .dataframe tbody tr th {\n",
       "        vertical-align: top;\n",
       "    }\n",
       "\n",
       "    .dataframe thead th {\n",
       "        text-align: right;\n",
       "    }\n",
       "</style>\n",
       "<table border=\"1\" class=\"dataframe\">\n",
       "  <thead>\n",
       "    <tr style=\"text-align: right;\">\n",
       "      <th></th>\n",
       "      <th>state</th>\n",
       "      <th>variable</th>\n",
       "      <th>value</th>\n",
       "      <th>year</th>\n",
       "      <th>nat_mean</th>\n",
       "    </tr>\n",
       "  </thead>\n",
       "  <tbody>\n",
       "    <tr>\n",
       "      <th>0</th>\n",
       "      <td>Alabama</td>\n",
       "      <td>pct_2015</td>\n",
       "      <td>0.807355</td>\n",
       "      <td>2015</td>\n",
       "      <td>0.866208</td>\n",
       "    </tr>\n",
       "    <tr>\n",
       "      <th>1</th>\n",
       "      <td>Alaska</td>\n",
       "      <td>pct_2015</td>\n",
       "      <td>0.919265</td>\n",
       "      <td>2015</td>\n",
       "      <td>0.866208</td>\n",
       "    </tr>\n",
       "    <tr>\n",
       "      <th>2</th>\n",
       "      <td>Arizona</td>\n",
       "      <td>pct_2015</td>\n",
       "      <td>0.876411</td>\n",
       "      <td>2015</td>\n",
       "      <td>0.866208</td>\n",
       "    </tr>\n",
       "    <tr>\n",
       "      <th>3</th>\n",
       "      <td>Arkansas</td>\n",
       "      <td>pct_2015</td>\n",
       "      <td>0.817245</td>\n",
       "      <td>2015</td>\n",
       "      <td>0.866208</td>\n",
       "    </tr>\n",
       "    <tr>\n",
       "      <th>4</th>\n",
       "      <td>California</td>\n",
       "      <td>pct_2015</td>\n",
       "      <td>0.897699</td>\n",
       "      <td>2015</td>\n",
       "      <td>0.866208</td>\n",
       "    </tr>\n",
       "    <tr>\n",
       "      <th>5</th>\n",
       "      <td>Colorado</td>\n",
       "      <td>pct_2015</td>\n",
       "      <td>0.912517</td>\n",
       "      <td>2015</td>\n",
       "      <td>0.866208</td>\n",
       "    </tr>\n",
       "    <tr>\n",
       "      <th>6</th>\n",
       "      <td>Connecticut</td>\n",
       "      <td>pct_2015</td>\n",
       "      <td>0.883754</td>\n",
       "      <td>2015</td>\n",
       "      <td>0.866208</td>\n",
       "    </tr>\n",
       "    <tr>\n",
       "      <th>7</th>\n",
       "      <td>Delaware</td>\n",
       "      <td>pct_2015</td>\n",
       "      <td>0.874929</td>\n",
       "      <td>2015</td>\n",
       "      <td>0.866208</td>\n",
       "    </tr>\n",
       "    <tr>\n",
       "      <th>8</th>\n",
       "      <td>District of Columbia</td>\n",
       "      <td>pct_2015</td>\n",
       "      <td>0.893542</td>\n",
       "      <td>2015</td>\n",
       "      <td>0.866208</td>\n",
       "    </tr>\n",
       "    <tr>\n",
       "      <th>9</th>\n",
       "      <td>Florida</td>\n",
       "      <td>pct_2015</td>\n",
       "      <td>0.874853</td>\n",
       "      <td>2015</td>\n",
       "      <td>0.866208</td>\n",
       "    </tr>\n",
       "  </tbody>\n",
       "</table>\n",
       "</div>"
      ],
      "text/plain": [
       "                  state  variable     value  year  nat_mean\n",
       "0               Alabama  pct_2015  0.807355  2015  0.866208\n",
       "1                Alaska  pct_2015  0.919265  2015  0.866208\n",
       "2               Arizona  pct_2015  0.876411  2015  0.866208\n",
       "3              Arkansas  pct_2015  0.817245  2015  0.866208\n",
       "4            California  pct_2015  0.897699  2015  0.866208\n",
       "5              Colorado  pct_2015  0.912517  2015  0.866208\n",
       "6           Connecticut  pct_2015  0.883754  2015  0.866208\n",
       "7              Delaware  pct_2015  0.874929  2015  0.866208\n",
       "8  District of Columbia  pct_2015  0.893542  2015  0.866208\n",
       "9               Florida  pct_2015  0.874853  2015  0.866208"
      ]
     },
     "execution_count": 11,
     "metadata": {},
     "output_type": "execute_result"
    }
   ],
   "source": [
    "## calculate the national average Internet access and subtract that from each state/year\n",
    "nces_household_long['nat_mean'] = nces_household_long.groupby(['year', 'variable']).transform('mean') \n",
    "nces_household_long.head(10)"
   ]
  },
  {
   "cell_type": "code",
   "execution_count": 17,
   "metadata": {},
   "outputs": [],
   "source": [
    "nces_household_long['pct_diff_from_mean'] = round(100*(nces_household_long['value'] - nces_household_long['nat_mean']),2)\n",
    "## map states to their abbreviations\n",
    "nces_household_long['state_abbr'] = nces_household_long['state'].map(lambda x: us.states.lookup(x).abbr)\n"
   ]
  },
  {
   "cell_type": "code",
   "execution_count": 30,
   "metadata": {},
   "outputs": [
    {
     "data": {
      "application/vnd.plotly.v1+json": {
       "config": {
        "plotlyServerURL": "https://plot.ly"
       },
       "data": [
        {
         "coloraxis": "coloraxis",
         "geo": "geo",
         "hoverlabel": {
          "namelength": 0
         },
         "hovertemplate": "state_abbr=%{location}<br>pct_diff_from_mean=%{z}",
         "locationmode": "USA-states",
         "locations": [
          "AL",
          "AK",
          "AZ",
          "AR",
          "CA",
          "CO",
          "CT",
          "DE",
          "DC",
          "FL",
          "GA",
          "HI",
          "ID",
          "IL",
          "IN",
          "IA",
          "KS",
          "KY",
          "LA",
          "ME",
          "MD",
          "MA",
          "MI",
          "MN",
          "MS",
          "MO",
          "MT",
          "NE",
          "NV",
          "NH",
          "NJ",
          "NM",
          "NY",
          "NC",
          "ND",
          "OH",
          "OK",
          "OR",
          "PA",
          "RI",
          "SC",
          "SD",
          "TN",
          "TX",
          "UT",
          "VT",
          "VA",
          "WA",
          "WV",
          "WI",
          "WY",
          "AL",
          "AK",
          "AZ",
          "AR",
          "CA",
          "CO",
          "CT",
          "DE",
          "DC",
          "FL",
          "GA",
          "HI",
          "ID",
          "IL",
          "IN",
          "IA",
          "KS",
          "KY",
          "LA",
          "ME",
          "MD",
          "MA",
          "MI",
          "MN",
          "MS",
          "MO",
          "MT",
          "NE",
          "NV",
          "NH",
          "NJ",
          "NM",
          "NY",
          "NC",
          "ND",
          "OH",
          "OK",
          "OR",
          "PA",
          "RI",
          "SC",
          "SD",
          "TN",
          "TX",
          "UT",
          "VT",
          "VA",
          "WA",
          "WV",
          "WI",
          "WY",
          "AL",
          "AK",
          "AZ",
          "AR",
          "CA",
          "CO",
          "CT",
          "DE",
          "DC",
          "FL",
          "GA",
          "HI",
          "ID",
          "IL",
          "IN",
          "IA",
          "KS",
          "KY",
          "LA",
          "ME",
          "MD",
          "MA",
          "MI",
          "MN",
          "MS",
          "MO",
          "MT",
          "NE",
          "NV",
          "NH",
          "NJ",
          "NM",
          "NY",
          "NC",
          "ND",
          "OH",
          "OK",
          "OR",
          "PA",
          "RI",
          "SC",
          "SD",
          "TN",
          "TX",
          "UT",
          "VT",
          "VA",
          "WA",
          "WV",
          "WI",
          "WY"
         ],
         "name": "",
         "type": "choropleth",
         "z": [
          -5.89,
          5.31,
          1.02,
          -4.9,
          3.15,
          4.63,
          1.75,
          0.87,
          2.73,
          0.86,
          0.2,
          2.57,
          2.23,
          -0.23,
          -1.59,
          -1.16,
          -0.68,
          -4.63,
          -5.75,
          -0.16,
          3.46,
          2.7,
          -0.45,
          2.63,
          -7.81,
          -1.09,
          -1.06,
          0.63,
          2.93,
          4.4,
          1.57,
          -5.9,
          -0.19,
          -1.56,
          -0.08,
          -1.07,
          -2.97,
          4.24,
          -2.06,
          0.25,
          -3.23,
          -1.21,
          -3.95,
          0.05,
          6.41,
          1.22,
          1.61,
          4.77,
          -6.74,
          -0.32,
          2.5,
          -4.99,
          5.5,
          2.14,
          -4.42,
          3.22,
          4.54,
          0.56,
          2.18,
          1.28,
          1.24,
          0.54,
          2.37,
          0.2,
          0.14,
          -1.08,
          -1,
          -0.35,
          -4.01,
          -4.42,
          0.15,
          2.76,
          1.65,
          -0.59,
          1.44,
          -6.67,
          -0.62,
          -1.09,
          -1.1,
          2.27,
          3.01,
          1.68,
          -4.09,
          -0.3,
          -0.86,
          0.66,
          -1,
          -1.7,
          2.71,
          -2.09,
          -0.83,
          -2.01,
          -1.06,
          -3.35,
          1.08,
          5.31,
          -0.05,
          1.77,
          4.06,
          -6.17,
          -0.11,
          1.48,
          -4.36,
          4.09,
          1.97,
          -4.24,
          3.18,
          3.93,
          0.88,
          3.16,
          1.75,
          1.66,
          0.54,
          0.66,
          0.78,
          -0.01,
          -1.39,
          -0.29,
          0.53,
          -4.16,
          -4.4,
          -0.64,
          2.76,
          1.09,
          -0.37,
          1.77,
          -5.92,
          -0.56,
          -2.71,
          0.9,
          2.9,
          3.66,
          2.24,
          -4.51,
          -0.26,
          -0.79,
          0.03,
          -0.71,
          -0.91,
          2.9,
          -2.34,
          -0.62,
          -1.8,
          -2.73,
          -2.73,
          1.44,
          5.26,
          -1.35,
          1.35,
          3.88,
          -5.58,
          -1.01,
          1.08
         ]
        }
       ],
       "layout": {
        "annotations": [
         {
          "showarrow": false,
          "text": "Selected Year:",
          "x": 0,
          "y": 1
         }
        ],
        "coloraxis": {
         "cmid": 0,
         "colorbar": {
          "title": {
           "text": "pct_diff_from_mean"
          }
         },
         "colorscale": [
          [
           0,
           "rgb(84,48,5)"
          ],
          [
           0.1,
           "rgb(140,81,10)"
          ],
          [
           0.2,
           "rgb(191,129,45)"
          ],
          [
           0.3,
           "rgb(223,194,125)"
          ],
          [
           0.4,
           "rgb(246,232,195)"
          ],
          [
           0.5,
           "rgb(245,245,245)"
          ],
          [
           0.6,
           "rgb(199,234,229)"
          ],
          [
           0.7,
           "rgb(128,205,193)"
          ],
          [
           0.8,
           "rgb(53,151,143)"
          ],
          [
           0.9,
           "rgb(1,102,94)"
          ],
          [
           1,
           "rgb(0,60,48)"
          ]
         ]
        },
        "geo": {
         "center": {},
         "domain": {
          "x": [
           0,
           1
          ],
          "y": [
           0,
           1
          ]
         },
         "scope": "usa"
        },
        "legend": {
         "title": {
          "text": "% Difference from National Average"
         },
         "tracegroupgap": 0
        },
        "margin": {
         "t": 60
        },
        "template": {
         "data": {
          "bar": [
           {
            "error_x": {
             "color": "#2a3f5f"
            },
            "error_y": {
             "color": "#2a3f5f"
            },
            "marker": {
             "line": {
              "color": "#E5ECF6",
              "width": 0.5
             }
            },
            "type": "bar"
           }
          ],
          "barpolar": [
           {
            "marker": {
             "line": {
              "color": "#E5ECF6",
              "width": 0.5
             }
            },
            "type": "barpolar"
           }
          ],
          "carpet": [
           {
            "aaxis": {
             "endlinecolor": "#2a3f5f",
             "gridcolor": "white",
             "linecolor": "white",
             "minorgridcolor": "white",
             "startlinecolor": "#2a3f5f"
            },
            "baxis": {
             "endlinecolor": "#2a3f5f",
             "gridcolor": "white",
             "linecolor": "white",
             "minorgridcolor": "white",
             "startlinecolor": "#2a3f5f"
            },
            "type": "carpet"
           }
          ],
          "choropleth": [
           {
            "colorbar": {
             "outlinewidth": 0,
             "ticks": ""
            },
            "type": "choropleth"
           }
          ],
          "contour": [
           {
            "colorbar": {
             "outlinewidth": 0,
             "ticks": ""
            },
            "colorscale": [
             [
              0,
              "#0d0887"
             ],
             [
              0.1111111111111111,
              "#46039f"
             ],
             [
              0.2222222222222222,
              "#7201a8"
             ],
             [
              0.3333333333333333,
              "#9c179e"
             ],
             [
              0.4444444444444444,
              "#bd3786"
             ],
             [
              0.5555555555555556,
              "#d8576b"
             ],
             [
              0.6666666666666666,
              "#ed7953"
             ],
             [
              0.7777777777777778,
              "#fb9f3a"
             ],
             [
              0.8888888888888888,
              "#fdca26"
             ],
             [
              1,
              "#f0f921"
             ]
            ],
            "type": "contour"
           }
          ],
          "contourcarpet": [
           {
            "colorbar": {
             "outlinewidth": 0,
             "ticks": ""
            },
            "type": "contourcarpet"
           }
          ],
          "heatmap": [
           {
            "colorbar": {
             "outlinewidth": 0,
             "ticks": ""
            },
            "colorscale": [
             [
              0,
              "#0d0887"
             ],
             [
              0.1111111111111111,
              "#46039f"
             ],
             [
              0.2222222222222222,
              "#7201a8"
             ],
             [
              0.3333333333333333,
              "#9c179e"
             ],
             [
              0.4444444444444444,
              "#bd3786"
             ],
             [
              0.5555555555555556,
              "#d8576b"
             ],
             [
              0.6666666666666666,
              "#ed7953"
             ],
             [
              0.7777777777777778,
              "#fb9f3a"
             ],
             [
              0.8888888888888888,
              "#fdca26"
             ],
             [
              1,
              "#f0f921"
             ]
            ],
            "type": "heatmap"
           }
          ],
          "heatmapgl": [
           {
            "colorbar": {
             "outlinewidth": 0,
             "ticks": ""
            },
            "colorscale": [
             [
              0,
              "#0d0887"
             ],
             [
              0.1111111111111111,
              "#46039f"
             ],
             [
              0.2222222222222222,
              "#7201a8"
             ],
             [
              0.3333333333333333,
              "#9c179e"
             ],
             [
              0.4444444444444444,
              "#bd3786"
             ],
             [
              0.5555555555555556,
              "#d8576b"
             ],
             [
              0.6666666666666666,
              "#ed7953"
             ],
             [
              0.7777777777777778,
              "#fb9f3a"
             ],
             [
              0.8888888888888888,
              "#fdca26"
             ],
             [
              1,
              "#f0f921"
             ]
            ],
            "type": "heatmapgl"
           }
          ],
          "histogram": [
           {
            "marker": {
             "colorbar": {
              "outlinewidth": 0,
              "ticks": ""
             }
            },
            "type": "histogram"
           }
          ],
          "histogram2d": [
           {
            "colorbar": {
             "outlinewidth": 0,
             "ticks": ""
            },
            "colorscale": [
             [
              0,
              "#0d0887"
             ],
             [
              0.1111111111111111,
              "#46039f"
             ],
             [
              0.2222222222222222,
              "#7201a8"
             ],
             [
              0.3333333333333333,
              "#9c179e"
             ],
             [
              0.4444444444444444,
              "#bd3786"
             ],
             [
              0.5555555555555556,
              "#d8576b"
             ],
             [
              0.6666666666666666,
              "#ed7953"
             ],
             [
              0.7777777777777778,
              "#fb9f3a"
             ],
             [
              0.8888888888888888,
              "#fdca26"
             ],
             [
              1,
              "#f0f921"
             ]
            ],
            "type": "histogram2d"
           }
          ],
          "histogram2dcontour": [
           {
            "colorbar": {
             "outlinewidth": 0,
             "ticks": ""
            },
            "colorscale": [
             [
              0,
              "#0d0887"
             ],
             [
              0.1111111111111111,
              "#46039f"
             ],
             [
              0.2222222222222222,
              "#7201a8"
             ],
             [
              0.3333333333333333,
              "#9c179e"
             ],
             [
              0.4444444444444444,
              "#bd3786"
             ],
             [
              0.5555555555555556,
              "#d8576b"
             ],
             [
              0.6666666666666666,
              "#ed7953"
             ],
             [
              0.7777777777777778,
              "#fb9f3a"
             ],
             [
              0.8888888888888888,
              "#fdca26"
             ],
             [
              1,
              "#f0f921"
             ]
            ],
            "type": "histogram2dcontour"
           }
          ],
          "mesh3d": [
           {
            "colorbar": {
             "outlinewidth": 0,
             "ticks": ""
            },
            "type": "mesh3d"
           }
          ],
          "parcoords": [
           {
            "line": {
             "colorbar": {
              "outlinewidth": 0,
              "ticks": ""
             }
            },
            "type": "parcoords"
           }
          ],
          "pie": [
           {
            "automargin": true,
            "type": "pie"
           }
          ],
          "scatter": [
           {
            "marker": {
             "colorbar": {
              "outlinewidth": 0,
              "ticks": ""
             }
            },
            "type": "scatter"
           }
          ],
          "scatter3d": [
           {
            "line": {
             "colorbar": {
              "outlinewidth": 0,
              "ticks": ""
             }
            },
            "marker": {
             "colorbar": {
              "outlinewidth": 0,
              "ticks": ""
             }
            },
            "type": "scatter3d"
           }
          ],
          "scattercarpet": [
           {
            "marker": {
             "colorbar": {
              "outlinewidth": 0,
              "ticks": ""
             }
            },
            "type": "scattercarpet"
           }
          ],
          "scattergeo": [
           {
            "marker": {
             "colorbar": {
              "outlinewidth": 0,
              "ticks": ""
             }
            },
            "type": "scattergeo"
           }
          ],
          "scattergl": [
           {
            "marker": {
             "colorbar": {
              "outlinewidth": 0,
              "ticks": ""
             }
            },
            "type": "scattergl"
           }
          ],
          "scattermapbox": [
           {
            "marker": {
             "colorbar": {
              "outlinewidth": 0,
              "ticks": ""
             }
            },
            "type": "scattermapbox"
           }
          ],
          "scatterpolar": [
           {
            "marker": {
             "colorbar": {
              "outlinewidth": 0,
              "ticks": ""
             }
            },
            "type": "scatterpolar"
           }
          ],
          "scatterpolargl": [
           {
            "marker": {
             "colorbar": {
              "outlinewidth": 0,
              "ticks": ""
             }
            },
            "type": "scatterpolargl"
           }
          ],
          "scatterternary": [
           {
            "marker": {
             "colorbar": {
              "outlinewidth": 0,
              "ticks": ""
             }
            },
            "type": "scatterternary"
           }
          ],
          "surface": [
           {
            "colorbar": {
             "outlinewidth": 0,
             "ticks": ""
            },
            "colorscale": [
             [
              0,
              "#0d0887"
             ],
             [
              0.1111111111111111,
              "#46039f"
             ],
             [
              0.2222222222222222,
              "#7201a8"
             ],
             [
              0.3333333333333333,
              "#9c179e"
             ],
             [
              0.4444444444444444,
              "#bd3786"
             ],
             [
              0.5555555555555556,
              "#d8576b"
             ],
             [
              0.6666666666666666,
              "#ed7953"
             ],
             [
              0.7777777777777778,
              "#fb9f3a"
             ],
             [
              0.8888888888888888,
              "#fdca26"
             ],
             [
              1,
              "#f0f921"
             ]
            ],
            "type": "surface"
           }
          ],
          "table": [
           {
            "cells": {
             "fill": {
              "color": "#EBF0F8"
             },
             "line": {
              "color": "white"
             }
            },
            "header": {
             "fill": {
              "color": "#C8D4E3"
             },
             "line": {
              "color": "white"
             }
            },
            "type": "table"
           }
          ]
         },
         "layout": {
          "annotationdefaults": {
           "arrowcolor": "#2a3f5f",
           "arrowhead": 0,
           "arrowwidth": 1
          },
          "coloraxis": {
           "colorbar": {
            "outlinewidth": 0,
            "ticks": ""
           }
          },
          "colorscale": {
           "diverging": [
            [
             0,
             "#8e0152"
            ],
            [
             0.1,
             "#c51b7d"
            ],
            [
             0.2,
             "#de77ae"
            ],
            [
             0.3,
             "#f1b6da"
            ],
            [
             0.4,
             "#fde0ef"
            ],
            [
             0.5,
             "#f7f7f7"
            ],
            [
             0.6,
             "#e6f5d0"
            ],
            [
             0.7,
             "#b8e186"
            ],
            [
             0.8,
             "#7fbc41"
            ],
            [
             0.9,
             "#4d9221"
            ],
            [
             1,
             "#276419"
            ]
           ],
           "sequential": [
            [
             0,
             "#0d0887"
            ],
            [
             0.1111111111111111,
             "#46039f"
            ],
            [
             0.2222222222222222,
             "#7201a8"
            ],
            [
             0.3333333333333333,
             "#9c179e"
            ],
            [
             0.4444444444444444,
             "#bd3786"
            ],
            [
             0.5555555555555556,
             "#d8576b"
            ],
            [
             0.6666666666666666,
             "#ed7953"
            ],
            [
             0.7777777777777778,
             "#fb9f3a"
            ],
            [
             0.8888888888888888,
             "#fdca26"
            ],
            [
             1,
             "#f0f921"
            ]
           ],
           "sequentialminus": [
            [
             0,
             "#0d0887"
            ],
            [
             0.1111111111111111,
             "#46039f"
            ],
            [
             0.2222222222222222,
             "#7201a8"
            ],
            [
             0.3333333333333333,
             "#9c179e"
            ],
            [
             0.4444444444444444,
             "#bd3786"
            ],
            [
             0.5555555555555556,
             "#d8576b"
            ],
            [
             0.6666666666666666,
             "#ed7953"
            ],
            [
             0.7777777777777778,
             "#fb9f3a"
            ],
            [
             0.8888888888888888,
             "#fdca26"
            ],
            [
             1,
             "#f0f921"
            ]
           ]
          },
          "colorway": [
           "#636efa",
           "#EF553B",
           "#00cc96",
           "#ab63fa",
           "#FFA15A",
           "#19d3f3",
           "#FF6692",
           "#B6E880",
           "#FF97FF",
           "#FECB52"
          ],
          "font": {
           "color": "#2a3f5f"
          },
          "geo": {
           "bgcolor": "white",
           "lakecolor": "white",
           "landcolor": "#E5ECF6",
           "showlakes": true,
           "showland": true,
           "subunitcolor": "white"
          },
          "hoverlabel": {
           "align": "left"
          },
          "hovermode": "closest",
          "mapbox": {
           "style": "light"
          },
          "paper_bgcolor": "white",
          "plot_bgcolor": "#E5ECF6",
          "polar": {
           "angularaxis": {
            "gridcolor": "white",
            "linecolor": "white",
            "ticks": ""
           },
           "bgcolor": "#E5ECF6",
           "radialaxis": {
            "gridcolor": "white",
            "linecolor": "white",
            "ticks": ""
           }
          },
          "scene": {
           "xaxis": {
            "backgroundcolor": "#E5ECF6",
            "gridcolor": "white",
            "gridwidth": 2,
            "linecolor": "white",
            "showbackground": true,
            "ticks": "",
            "zerolinecolor": "white"
           },
           "yaxis": {
            "backgroundcolor": "#E5ECF6",
            "gridcolor": "white",
            "gridwidth": 2,
            "linecolor": "white",
            "showbackground": true,
            "ticks": "",
            "zerolinecolor": "white"
           },
           "zaxis": {
            "backgroundcolor": "#E5ECF6",
            "gridcolor": "white",
            "gridwidth": 2,
            "linecolor": "white",
            "showbackground": true,
            "ticks": "",
            "zerolinecolor": "white"
           }
          },
          "shapedefaults": {
           "line": {
            "color": "#2a3f5f"
           }
          },
          "ternary": {
           "aaxis": {
            "gridcolor": "white",
            "linecolor": "white",
            "ticks": ""
           },
           "baxis": {
            "gridcolor": "white",
            "linecolor": "white",
            "ticks": ""
           },
           "bgcolor": "#E5ECF6",
           "caxis": {
            "gridcolor": "white",
            "linecolor": "white",
            "ticks": ""
           }
          },
          "title": {
           "x": 0.05
          },
          "xaxis": {
           "automargin": true,
           "gridcolor": "white",
           "linecolor": "white",
           "ticks": "",
           "title": {
            "standoff": 15
           },
           "zerolinecolor": "white",
           "zerolinewidth": 2
          },
          "yaxis": {
           "automargin": true,
           "gridcolor": "white",
           "linecolor": "white",
           "ticks": "",
           "title": {
            "standoff": 15
           },
           "zerolinecolor": "white",
           "zerolinewidth": 2
          }
         }
        },
        "title": {
         "text": "% of Households w/ Computer Access (incl. smartphones)"
        },
        "updatemenus": [
         {
          "buttons": [
           {
            "args": [
             "year",
             "2015"
            ],
            "label": "2015",
            "method": "restyle"
           },
           {
            "args": [
             "year",
             "2016"
            ],
            "label": "2016",
            "method": "restyle"
           },
           {
            "args": [
             "year",
             "2017"
            ],
            "label": "2017",
            "method": "restyle"
           }
          ],
          "showactive": true,
          "x": 0.1,
          "xanchor": "left",
          "y": 1.1,
          "yanchor": "top"
         }
        ]
       }
      },
      "text/html": [
       "<div>\n",
       "        \n",
       "        \n",
       "            <div id=\"db83c836-9974-49ed-9e3b-ee8288b99da7\" class=\"plotly-graph-div\" style=\"height:525px; width:100%;\"></div>\n",
       "            <script type=\"text/javascript\">\n",
       "                require([\"plotly\"], function(Plotly) {\n",
       "                    window.PLOTLYENV=window.PLOTLYENV || {};\n",
       "                    \n",
       "                if (document.getElementById(\"db83c836-9974-49ed-9e3b-ee8288b99da7\")) {\n",
       "                    Plotly.newPlot(\n",
       "                        'db83c836-9974-49ed-9e3b-ee8288b99da7',\n",
       "                        [{\"coloraxis\": \"coloraxis\", \"geo\": \"geo\", \"hoverlabel\": {\"namelength\": 0}, \"hovertemplate\": \"state_abbr=%{location}<br>pct_diff_from_mean=%{z}\", \"locationmode\": \"USA-states\", \"locations\": [\"AL\", \"AK\", \"AZ\", \"AR\", \"CA\", \"CO\", \"CT\", \"DE\", \"DC\", \"FL\", \"GA\", \"HI\", \"ID\", \"IL\", \"IN\", \"IA\", \"KS\", \"KY\", \"LA\", \"ME\", \"MD\", \"MA\", \"MI\", \"MN\", \"MS\", \"MO\", \"MT\", \"NE\", \"NV\", \"NH\", \"NJ\", \"NM\", \"NY\", \"NC\", \"ND\", \"OH\", \"OK\", \"OR\", \"PA\", \"RI\", \"SC\", \"SD\", \"TN\", \"TX\", \"UT\", \"VT\", \"VA\", \"WA\", \"WV\", \"WI\", \"WY\", \"AL\", \"AK\", \"AZ\", \"AR\", \"CA\", \"CO\", \"CT\", \"DE\", \"DC\", \"FL\", \"GA\", \"HI\", \"ID\", \"IL\", \"IN\", \"IA\", \"KS\", \"KY\", \"LA\", \"ME\", \"MD\", \"MA\", \"MI\", \"MN\", \"MS\", \"MO\", \"MT\", \"NE\", \"NV\", \"NH\", \"NJ\", \"NM\", \"NY\", \"NC\", \"ND\", \"OH\", \"OK\", \"OR\", \"PA\", \"RI\", \"SC\", \"SD\", \"TN\", \"TX\", \"UT\", \"VT\", \"VA\", \"WA\", \"WV\", \"WI\", \"WY\", \"AL\", \"AK\", \"AZ\", \"AR\", \"CA\", \"CO\", \"CT\", \"DE\", \"DC\", \"FL\", \"GA\", \"HI\", \"ID\", \"IL\", \"IN\", \"IA\", \"KS\", \"KY\", \"LA\", \"ME\", \"MD\", \"MA\", \"MI\", \"MN\", \"MS\", \"MO\", \"MT\", \"NE\", \"NV\", \"NH\", \"NJ\", \"NM\", \"NY\", \"NC\", \"ND\", \"OH\", \"OK\", \"OR\", \"PA\", \"RI\", \"SC\", \"SD\", \"TN\", \"TX\", \"UT\", \"VT\", \"VA\", \"WA\", \"WV\", \"WI\", \"WY\"], \"name\": \"\", \"type\": \"choropleth\", \"z\": [-5.89, 5.31, 1.02, -4.9, 3.15, 4.63, 1.75, 0.87, 2.73, 0.86, 0.2, 2.57, 2.23, -0.23, -1.59, -1.16, -0.68, -4.63, -5.75, -0.16, 3.46, 2.7, -0.45, 2.63, -7.81, -1.09, -1.06, 0.63, 2.93, 4.4, 1.57, -5.9, -0.19, -1.56, -0.08, -1.07, -2.97, 4.24, -2.06, 0.25, -3.23, -1.21, -3.95, 0.05, 6.41, 1.22, 1.61, 4.77, -6.74, -0.32, 2.5, -4.99, 5.5, 2.14, -4.42, 3.22, 4.54, 0.56, 2.18, 1.28, 1.24, 0.54, 2.37, 0.2, 0.14, -1.08, -1.0, -0.35, -4.01, -4.42, 0.15, 2.76, 1.65, -0.59, 1.44, -6.67, -0.62, -1.09, -1.1, 2.27, 3.01, 1.68, -4.09, -0.3, -0.86, 0.66, -1.0, -1.7, 2.71, -2.09, -0.83, -2.01, -1.06, -3.35, 1.08, 5.31, -0.05, 1.77, 4.06, -6.17, -0.11, 1.48, -4.36, 4.09, 1.97, -4.24, 3.18, 3.93, 0.88, 3.16, 1.75, 1.66, 0.54, 0.66, 0.78, -0.01, -1.39, -0.29, 0.53, -4.16, -4.4, -0.64, 2.76, 1.09, -0.37, 1.77, -5.92, -0.56, -2.71, 0.9, 2.9, 3.66, 2.24, -4.51, -0.26, -0.79, 0.03, -0.71, -0.91, 2.9, -2.34, -0.62, -1.8, -2.73, -2.73, 1.44, 5.26, -1.35, 1.35, 3.88, -5.58, -1.01, 1.08]}],\n",
       "                        {\"annotations\": [{\"showarrow\": false, \"text\": \"Selected Year:\", \"x\": 0, \"y\": 1}], \"coloraxis\": {\"cmid\": 0, \"colorbar\": {\"title\": {\"text\": \"pct_diff_from_mean\"}}, \"colorscale\": [[0.0, \"rgb(84,48,5)\"], [0.1, \"rgb(140,81,10)\"], [0.2, \"rgb(191,129,45)\"], [0.3, \"rgb(223,194,125)\"], [0.4, \"rgb(246,232,195)\"], [0.5, \"rgb(245,245,245)\"], [0.6, \"rgb(199,234,229)\"], [0.7, \"rgb(128,205,193)\"], [0.8, \"rgb(53,151,143)\"], [0.9, \"rgb(1,102,94)\"], [1.0, \"rgb(0,60,48)\"]]}, \"geo\": {\"center\": {}, \"domain\": {\"x\": [0.0, 1.0], \"y\": [0.0, 1.0]}, \"scope\": \"usa\"}, \"legend\": {\"title\": {\"text\": \"% Difference from National Average\"}, \"tracegroupgap\": 0}, \"margin\": {\"t\": 60}, \"template\": {\"data\": {\"bar\": [{\"error_x\": {\"color\": \"#2a3f5f\"}, \"error_y\": {\"color\": \"#2a3f5f\"}, \"marker\": {\"line\": {\"color\": \"#E5ECF6\", \"width\": 0.5}}, \"type\": \"bar\"}], \"barpolar\": [{\"marker\": {\"line\": {\"color\": \"#E5ECF6\", \"width\": 0.5}}, \"type\": \"barpolar\"}], \"carpet\": [{\"aaxis\": {\"endlinecolor\": \"#2a3f5f\", \"gridcolor\": \"white\", \"linecolor\": \"white\", \"minorgridcolor\": \"white\", \"startlinecolor\": \"#2a3f5f\"}, \"baxis\": {\"endlinecolor\": \"#2a3f5f\", \"gridcolor\": \"white\", \"linecolor\": \"white\", \"minorgridcolor\": \"white\", \"startlinecolor\": \"#2a3f5f\"}, \"type\": \"carpet\"}], \"choropleth\": [{\"colorbar\": {\"outlinewidth\": 0, \"ticks\": \"\"}, \"type\": \"choropleth\"}], \"contour\": [{\"colorbar\": {\"outlinewidth\": 0, \"ticks\": \"\"}, \"colorscale\": [[0.0, \"#0d0887\"], [0.1111111111111111, \"#46039f\"], [0.2222222222222222, \"#7201a8\"], [0.3333333333333333, \"#9c179e\"], [0.4444444444444444, \"#bd3786\"], [0.5555555555555556, \"#d8576b\"], [0.6666666666666666, \"#ed7953\"], [0.7777777777777778, \"#fb9f3a\"], [0.8888888888888888, \"#fdca26\"], [1.0, \"#f0f921\"]], \"type\": \"contour\"}], \"contourcarpet\": [{\"colorbar\": {\"outlinewidth\": 0, \"ticks\": \"\"}, \"type\": \"contourcarpet\"}], \"heatmap\": [{\"colorbar\": {\"outlinewidth\": 0, \"ticks\": \"\"}, \"colorscale\": [[0.0, \"#0d0887\"], [0.1111111111111111, \"#46039f\"], [0.2222222222222222, \"#7201a8\"], [0.3333333333333333, \"#9c179e\"], [0.4444444444444444, \"#bd3786\"], [0.5555555555555556, \"#d8576b\"], [0.6666666666666666, \"#ed7953\"], [0.7777777777777778, \"#fb9f3a\"], [0.8888888888888888, \"#fdca26\"], [1.0, \"#f0f921\"]], \"type\": \"heatmap\"}], \"heatmapgl\": [{\"colorbar\": {\"outlinewidth\": 0, \"ticks\": \"\"}, \"colorscale\": [[0.0, \"#0d0887\"], [0.1111111111111111, \"#46039f\"], [0.2222222222222222, \"#7201a8\"], [0.3333333333333333, \"#9c179e\"], [0.4444444444444444, \"#bd3786\"], [0.5555555555555556, \"#d8576b\"], [0.6666666666666666, \"#ed7953\"], [0.7777777777777778, \"#fb9f3a\"], [0.8888888888888888, \"#fdca26\"], [1.0, \"#f0f921\"]], \"type\": \"heatmapgl\"}], \"histogram\": [{\"marker\": {\"colorbar\": {\"outlinewidth\": 0, \"ticks\": \"\"}}, \"type\": \"histogram\"}], \"histogram2d\": [{\"colorbar\": {\"outlinewidth\": 0, \"ticks\": \"\"}, \"colorscale\": [[0.0, \"#0d0887\"], [0.1111111111111111, \"#46039f\"], [0.2222222222222222, \"#7201a8\"], [0.3333333333333333, \"#9c179e\"], [0.4444444444444444, \"#bd3786\"], [0.5555555555555556, \"#d8576b\"], [0.6666666666666666, \"#ed7953\"], [0.7777777777777778, \"#fb9f3a\"], [0.8888888888888888, \"#fdca26\"], [1.0, \"#f0f921\"]], \"type\": \"histogram2d\"}], \"histogram2dcontour\": [{\"colorbar\": {\"outlinewidth\": 0, \"ticks\": \"\"}, \"colorscale\": [[0.0, \"#0d0887\"], [0.1111111111111111, \"#46039f\"], [0.2222222222222222, \"#7201a8\"], [0.3333333333333333, \"#9c179e\"], [0.4444444444444444, \"#bd3786\"], [0.5555555555555556, \"#d8576b\"], [0.6666666666666666, \"#ed7953\"], [0.7777777777777778, \"#fb9f3a\"], [0.8888888888888888, \"#fdca26\"], [1.0, \"#f0f921\"]], \"type\": \"histogram2dcontour\"}], \"mesh3d\": [{\"colorbar\": {\"outlinewidth\": 0, \"ticks\": \"\"}, \"type\": \"mesh3d\"}], \"parcoords\": [{\"line\": {\"colorbar\": {\"outlinewidth\": 0, \"ticks\": \"\"}}, \"type\": \"parcoords\"}], \"pie\": [{\"automargin\": true, \"type\": \"pie\"}], \"scatter\": [{\"marker\": {\"colorbar\": {\"outlinewidth\": 0, \"ticks\": \"\"}}, \"type\": \"scatter\"}], \"scatter3d\": [{\"line\": {\"colorbar\": {\"outlinewidth\": 0, \"ticks\": \"\"}}, \"marker\": {\"colorbar\": {\"outlinewidth\": 0, \"ticks\": \"\"}}, \"type\": \"scatter3d\"}], \"scattercarpet\": [{\"marker\": {\"colorbar\": {\"outlinewidth\": 0, \"ticks\": \"\"}}, \"type\": \"scattercarpet\"}], \"scattergeo\": [{\"marker\": {\"colorbar\": {\"outlinewidth\": 0, \"ticks\": \"\"}}, \"type\": \"scattergeo\"}], \"scattergl\": [{\"marker\": {\"colorbar\": {\"outlinewidth\": 0, \"ticks\": \"\"}}, \"type\": \"scattergl\"}], \"scattermapbox\": [{\"marker\": {\"colorbar\": {\"outlinewidth\": 0, \"ticks\": \"\"}}, \"type\": \"scattermapbox\"}], \"scatterpolar\": [{\"marker\": {\"colorbar\": {\"outlinewidth\": 0, \"ticks\": \"\"}}, \"type\": \"scatterpolar\"}], \"scatterpolargl\": [{\"marker\": {\"colorbar\": {\"outlinewidth\": 0, \"ticks\": \"\"}}, \"type\": \"scatterpolargl\"}], \"scatterternary\": [{\"marker\": {\"colorbar\": {\"outlinewidth\": 0, \"ticks\": \"\"}}, \"type\": \"scatterternary\"}], \"surface\": [{\"colorbar\": {\"outlinewidth\": 0, \"ticks\": \"\"}, \"colorscale\": [[0.0, \"#0d0887\"], [0.1111111111111111, \"#46039f\"], [0.2222222222222222, \"#7201a8\"], [0.3333333333333333, \"#9c179e\"], [0.4444444444444444, \"#bd3786\"], [0.5555555555555556, \"#d8576b\"], [0.6666666666666666, \"#ed7953\"], [0.7777777777777778, \"#fb9f3a\"], [0.8888888888888888, \"#fdca26\"], [1.0, \"#f0f921\"]], \"type\": \"surface\"}], \"table\": [{\"cells\": {\"fill\": {\"color\": \"#EBF0F8\"}, \"line\": {\"color\": \"white\"}}, \"header\": {\"fill\": {\"color\": \"#C8D4E3\"}, \"line\": {\"color\": \"white\"}}, \"type\": \"table\"}]}, \"layout\": {\"annotationdefaults\": {\"arrowcolor\": \"#2a3f5f\", \"arrowhead\": 0, \"arrowwidth\": 1}, \"coloraxis\": {\"colorbar\": {\"outlinewidth\": 0, \"ticks\": \"\"}}, \"colorscale\": {\"diverging\": [[0, \"#8e0152\"], [0.1, \"#c51b7d\"], [0.2, \"#de77ae\"], [0.3, \"#f1b6da\"], [0.4, \"#fde0ef\"], [0.5, \"#f7f7f7\"], [0.6, \"#e6f5d0\"], [0.7, \"#b8e186\"], [0.8, \"#7fbc41\"], [0.9, \"#4d9221\"], [1, \"#276419\"]], \"sequential\": [[0.0, \"#0d0887\"], [0.1111111111111111, \"#46039f\"], [0.2222222222222222, \"#7201a8\"], [0.3333333333333333, \"#9c179e\"], [0.4444444444444444, \"#bd3786\"], [0.5555555555555556, \"#d8576b\"], [0.6666666666666666, \"#ed7953\"], [0.7777777777777778, \"#fb9f3a\"], [0.8888888888888888, \"#fdca26\"], [1.0, \"#f0f921\"]], \"sequentialminus\": [[0.0, \"#0d0887\"], [0.1111111111111111, \"#46039f\"], [0.2222222222222222, \"#7201a8\"], [0.3333333333333333, \"#9c179e\"], [0.4444444444444444, \"#bd3786\"], [0.5555555555555556, \"#d8576b\"], [0.6666666666666666, \"#ed7953\"], [0.7777777777777778, \"#fb9f3a\"], [0.8888888888888888, \"#fdca26\"], [1.0, \"#f0f921\"]]}, \"colorway\": [\"#636efa\", \"#EF553B\", \"#00cc96\", \"#ab63fa\", \"#FFA15A\", \"#19d3f3\", \"#FF6692\", \"#B6E880\", \"#FF97FF\", \"#FECB52\"], \"font\": {\"color\": \"#2a3f5f\"}, \"geo\": {\"bgcolor\": \"white\", \"lakecolor\": \"white\", \"landcolor\": \"#E5ECF6\", \"showlakes\": true, \"showland\": true, \"subunitcolor\": \"white\"}, \"hoverlabel\": {\"align\": \"left\"}, \"hovermode\": \"closest\", \"mapbox\": {\"style\": \"light\"}, \"paper_bgcolor\": \"white\", \"plot_bgcolor\": \"#E5ECF6\", \"polar\": {\"angularaxis\": {\"gridcolor\": \"white\", \"linecolor\": \"white\", \"ticks\": \"\"}, \"bgcolor\": \"#E5ECF6\", \"radialaxis\": {\"gridcolor\": \"white\", \"linecolor\": \"white\", \"ticks\": \"\"}}, \"scene\": {\"xaxis\": {\"backgroundcolor\": \"#E5ECF6\", \"gridcolor\": \"white\", \"gridwidth\": 2, \"linecolor\": \"white\", \"showbackground\": true, \"ticks\": \"\", \"zerolinecolor\": \"white\"}, \"yaxis\": {\"backgroundcolor\": \"#E5ECF6\", \"gridcolor\": \"white\", \"gridwidth\": 2, \"linecolor\": \"white\", \"showbackground\": true, \"ticks\": \"\", \"zerolinecolor\": \"white\"}, \"zaxis\": {\"backgroundcolor\": \"#E5ECF6\", \"gridcolor\": \"white\", \"gridwidth\": 2, \"linecolor\": \"white\", \"showbackground\": true, \"ticks\": \"\", \"zerolinecolor\": \"white\"}}, \"shapedefaults\": {\"line\": {\"color\": \"#2a3f5f\"}}, \"ternary\": {\"aaxis\": {\"gridcolor\": \"white\", \"linecolor\": \"white\", \"ticks\": \"\"}, \"baxis\": {\"gridcolor\": \"white\", \"linecolor\": \"white\", \"ticks\": \"\"}, \"bgcolor\": \"#E5ECF6\", \"caxis\": {\"gridcolor\": \"white\", \"linecolor\": \"white\", \"ticks\": \"\"}}, \"title\": {\"x\": 0.05}, \"xaxis\": {\"automargin\": true, \"gridcolor\": \"white\", \"linecolor\": \"white\", \"ticks\": \"\", \"title\": {\"standoff\": 15}, \"zerolinecolor\": \"white\", \"zerolinewidth\": 2}, \"yaxis\": {\"automargin\": true, \"gridcolor\": \"white\", \"linecolor\": \"white\", \"ticks\": \"\", \"title\": {\"standoff\": 15}, \"zerolinecolor\": \"white\", \"zerolinewidth\": 2}}}, \"title\": {\"text\": \"% of Households w/ Computer Access (incl. smartphones)\"}, \"updatemenus\": [{\"buttons\": [{\"args\": [\"year\", \"2015\"], \"label\": \"2015\", \"method\": \"restyle\"}, {\"args\": [\"year\", \"2016\"], \"label\": \"2016\", \"method\": \"restyle\"}, {\"args\": [\"year\", \"2017\"], \"label\": \"2017\", \"method\": \"restyle\"}], \"showactive\": true, \"x\": 0.1, \"xanchor\": \"left\", \"y\": 1.1, \"yanchor\": \"top\"}]},\n",
       "                        {\"responsive\": true}\n",
       "                    ).then(function(){\n",
       "                            \n",
       "var gd = document.getElementById('db83c836-9974-49ed-9e3b-ee8288b99da7');\n",
       "var x = new MutationObserver(function (mutations, observer) {{\n",
       "        var display = window.getComputedStyle(gd).display;\n",
       "        if (!display || display === 'none') {{\n",
       "            console.log([gd, 'removed!']);\n",
       "            Plotly.purge(gd);\n",
       "            observer.disconnect();\n",
       "        }}\n",
       "}});\n",
       "\n",
       "// Listen for the removal of the full notebook cells\n",
       "var notebookContainer = gd.closest('#notebook-container');\n",
       "if (notebookContainer) {{\n",
       "    x.observe(notebookContainer, {childList: true});\n",
       "}}\n",
       "\n",
       "// Listen for the clearing of the current output cell\n",
       "var outputEl = gd.closest('.output');\n",
       "if (outputEl) {{\n",
       "    x.observe(outputEl, {childList: true});\n",
       "}}\n",
       "\n",
       "                        })\n",
       "                };\n",
       "                });\n",
       "            </script>\n",
       "        </div>"
      ]
     },
     "metadata": {},
     "output_type": "display_data"
    }
   ],
   "source": [
    "## we can show one year \n",
    "fig = px.choropleth(nces_household_long,  # Input Pandas DataFrame\n",
    "                    locations=\"state_abbr\",  # DataFrame column with locations # DataFrame column with color values\n",
    "                    color=\"pct_diff_from_mean\",\n",
    "                    color_continuous_scale=px.colors.diverging.BrBG,\n",
    "                    color_continuous_midpoint=0,\n",
    "                    locationmode = 'USA-states') # Set to plot as US States\n",
    "\n",
    "\n",
    "\n",
    "\n",
    "# Add dropdown\n",
    "fig.update_layout(\n",
    "    updatemenus=[\n",
    "        dict(\n",
    "            buttons=list([\n",
    "                dict(\n",
    "                    args=[\"year\", \"2015\"],\n",
    "                    label=\"2015\",\n",
    "                    method=\"restyle\"\n",
    "                ),\n",
    "                dict(\n",
    "                    args=[\"year\", \"2016\"],\n",
    "                    label=\"2016\",\n",
    "                    method=\"restyle\"\n",
    "                ),\n",
    "                dict(\n",
    "                    args=[\"year\", \"2017\"],\n",
    "                    label=\"2017\",\n",
    "                    method=\"restyle\"\n",
    "                ),\n",
    "                \n",
    "            ]),\n",
    "            showactive=True,\n",
    "            x=0.1,\n",
    "            xanchor=\"left\",\n",
    "            y=1.1,\n",
    "            yanchor=\"top\"\n",
    "        ),\n",
    "    ]\n",
    ")\n",
    "\n",
    "fig.update_layout(\n",
    "    title_text = \"% of Households w/ Computer Access (incl. smartphones)\", # Create a Title,\n",
    "    legend_title = \"% Difference from National Average\",\n",
    "    geo_scope='usa',  # Plot only the USA instead of globe\n",
    "    annotations=[\n",
    "        dict(text=\"Selected Year:\", showarrow=False,\n",
    "        x=0, y=1)\n",
    "    ]\n",
    ")\n",
    "\n",
    "fig.show()"
   ]
  },
  {
   "cell_type": "code",
   "execution_count": null,
   "metadata": {},
   "outputs": [],
   "source": [
    "## TO DO \n",
    "\n",
    "## small multiples comparing computer access and internet access "
   ]
  },
  {
   "cell_type": "code",
   "execution_count": 39,
   "metadata": {},
   "outputs": [
    {
     "data": {
      "application/vnd.plotly.v1+json": {
       "config": {
        "plotlyServerURL": "https://plot.ly"
       },
       "data": [
        {
         "hoverlabel": {
          "namelength": 0
         },
         "hovertemplate": "variable=pct_2015<br>state_abbr=AL<br>year=%{x}<br>value=%{y}",
         "legendgroup": "pct_2015",
         "marker": {
          "color": "#636efa",
          "symbol": "circle"
         },
         "mode": "markers",
         "name": "pct_2015",
         "showlegend": true,
         "type": "scatter",
         "x": [
          "2015"
         ],
         "xaxis": "x51",
         "y": [
          0.8073548526863085
         ],
         "yaxis": "y51"
        },
        {
         "hoverlabel": {
          "namelength": 0
         },
         "hovertemplate": "variable=pct_2015<br>state_abbr=AK<br>year=%{x}<br>value=%{y}",
         "legendgroup": "pct_2015",
         "marker": {
          "color": "#636efa",
          "symbol": "circle"
         },
         "mode": "markers",
         "name": "pct_2015",
         "showlegend": false,
         "type": "scatter",
         "x": [
          "2015"
         ],
         "xaxis": "x52",
         "y": [
          0.9192645883293366
         ],
         "yaxis": "y52"
        },
        {
         "hoverlabel": {
          "namelength": 0
         },
         "hovertemplate": "variable=pct_2015<br>state_abbr=AZ<br>year=%{x}<br>value=%{y}",
         "legendgroup": "pct_2015",
         "marker": {
          "color": "#636efa",
          "symbol": "circle"
         },
         "mode": "markers",
         "name": "pct_2015",
         "showlegend": false,
         "type": "scatter",
         "x": [
          "2015"
         ],
         "xaxis": "x53",
         "y": [
          0.8764108810393829
         ],
         "yaxis": "y53"
        },
        {
         "hoverlabel": {
          "namelength": 0
         },
         "hovertemplate": "variable=pct_2015<br>state_abbr=AR<br>year=%{x}<br>value=%{y}",
         "legendgroup": "pct_2015",
         "marker": {
          "color": "#636efa",
          "symbol": "circle"
         },
         "mode": "markers",
         "name": "pct_2015",
         "showlegend": false,
         "type": "scatter",
         "x": [
          "2015"
         ],
         "xaxis": "x54",
         "y": [
          0.8172446929326461
         ],
         "yaxis": "y54"
        },
        {
         "hoverlabel": {
          "namelength": 0
         },
         "hovertemplate": "variable=pct_2015<br>state_abbr=CA<br>year=%{x}<br>value=%{y}",
         "legendgroup": "pct_2015",
         "marker": {
          "color": "#636efa",
          "symbol": "circle"
         },
         "mode": "markers",
         "name": "pct_2015",
         "showlegend": false,
         "type": "scatter",
         "x": [
          "2015"
         ],
         "xaxis": "x55",
         "y": [
          0.8976993401208099
         ],
         "yaxis": "y55"
        },
        {
         "hoverlabel": {
          "namelength": 0
         },
         "hovertemplate": "variable=pct_2015<br>state_abbr=CO<br>year=%{x}<br>value=%{y}",
         "legendgroup": "pct_2015",
         "marker": {
          "color": "#636efa",
          "symbol": "circle"
         },
         "mode": "markers",
         "name": "pct_2015",
         "showlegend": false,
         "type": "scatter",
         "x": [
          "2015"
         ],
         "xaxis": "x56",
         "y": [
          0.912517472405649
         ],
         "yaxis": "y56"
        },
        {
         "hoverlabel": {
          "namelength": 0
         },
         "hovertemplate": "variable=pct_2015<br>state_abbr=CT<br>year=%{x}<br>value=%{y}",
         "legendgroup": "pct_2015",
         "marker": {
          "color": "#636efa",
          "symbol": "circle"
         },
         "mode": "markers",
         "name": "pct_2015",
         "showlegend": false,
         "type": "scatter",
         "x": [
          "2015"
         ],
         "xaxis": "x57",
         "y": [
          0.8837538140954082
         ],
         "yaxis": "y57"
        },
        {
         "hoverlabel": {
          "namelength": 0
         },
         "hovertemplate": "variable=pct_2015<br>state_abbr=DE<br>year=%{x}<br>value=%{y}",
         "legendgroup": "pct_2015",
         "marker": {
          "color": "#636efa",
          "symbol": "circle"
         },
         "mode": "markers",
         "name": "pct_2015",
         "showlegend": false,
         "type": "scatter",
         "x": [
          "2015"
         ],
         "xaxis": "x58",
         "y": [
          0.8749290981281905
         ],
         "yaxis": "y58"
        },
        {
         "hoverlabel": {
          "namelength": 0
         },
         "hovertemplate": "variable=pct_2015<br>state_abbr=DC<br>year=%{x}<br>value=%{y}",
         "legendgroup": "pct_2015",
         "marker": {
          "color": "#636efa",
          "symbol": "circle"
         },
         "mode": "markers",
         "name": "pct_2015",
         "showlegend": false,
         "type": "scatter",
         "x": [
          "2015"
         ],
         "xaxis": "x59",
         "y": [
          0.893541518807665
         ],
         "yaxis": "y59"
        },
        {
         "hoverlabel": {
          "namelength": 0
         },
         "hovertemplate": "variable=pct_2015<br>state_abbr=FL<br>year=%{x}<br>value=%{y}",
         "legendgroup": "pct_2015",
         "marker": {
          "color": "#636efa",
          "symbol": "circle"
         },
         "mode": "markers",
         "name": "pct_2015",
         "showlegend": false,
         "type": "scatter",
         "x": [
          "2015"
         ],
         "xaxis": "x60",
         "y": [
          0.8748526101404224
         ],
         "yaxis": "y60"
        },
        {
         "hoverlabel": {
          "namelength": 0
         },
         "hovertemplate": "variable=pct_2015<br>state_abbr=GA<br>year=%{x}<br>value=%{y}",
         "legendgroup": "pct_2015",
         "marker": {
          "color": "#636efa",
          "symbol": "circle"
         },
         "mode": "markers",
         "name": "pct_2015",
         "showlegend": false,
         "type": "scatter",
         "x": [
          "2015"
         ],
         "xaxis": "x41",
         "y": [
          0.8681763483207526
         ],
         "yaxis": "y41"
        },
        {
         "hoverlabel": {
          "namelength": 0
         },
         "hovertemplate": "variable=pct_2015<br>state_abbr=HI<br>year=%{x}<br>value=%{y}",
         "legendgroup": "pct_2015",
         "marker": {
          "color": "#636efa",
          "symbol": "circle"
         },
         "mode": "markers",
         "name": "pct_2015",
         "showlegend": false,
         "type": "scatter",
         "x": [
          "2015"
         ],
         "xaxis": "x42",
         "y": [
          0.8919040143529939
         ],
         "yaxis": "y42"
        },
        {
         "hoverlabel": {
          "namelength": 0
         },
         "hovertemplate": "variable=pct_2015<br>state_abbr=ID<br>year=%{x}<br>value=%{y}",
         "legendgroup": "pct_2015",
         "marker": {
          "color": "#636efa",
          "symbol": "circle"
         },
         "mode": "markers",
         "name": "pct_2015",
         "showlegend": false,
         "type": "scatter",
         "x": [
          "2015"
         ],
         "xaxis": "x43",
         "y": [
          0.8885169065952461
         ],
         "yaxis": "y43"
        },
        {
         "hoverlabel": {
          "namelength": 0
         },
         "hovertemplate": "variable=pct_2015<br>state_abbr=IL<br>year=%{x}<br>value=%{y}",
         "legendgroup": "pct_2015",
         "marker": {
          "color": "#636efa",
          "symbol": "circle"
         },
         "mode": "markers",
         "name": "pct_2015",
         "showlegend": false,
         "type": "scatter",
         "x": [
          "2015"
         ],
         "xaxis": "x44",
         "y": [
          0.8638648451350506
         ],
         "yaxis": "y44"
        },
        {
         "hoverlabel": {
          "namelength": 0
         },
         "hovertemplate": "variable=pct_2015<br>state_abbr=IN<br>year=%{x}<br>value=%{y}",
         "legendgroup": "pct_2015",
         "marker": {
          "color": "#636efa",
          "symbol": "circle"
         },
         "mode": "markers",
         "name": "pct_2015",
         "showlegend": false,
         "type": "scatter",
         "x": [
          "2015"
         ],
         "xaxis": "x45",
         "y": [
          0.8502644030058447
         ],
         "yaxis": "y45"
        },
        {
         "hoverlabel": {
          "namelength": 0
         },
         "hovertemplate": "variable=pct_2015<br>state_abbr=IA<br>year=%{x}<br>value=%{y}",
         "legendgroup": "pct_2015",
         "marker": {
          "color": "#636efa",
          "symbol": "circle"
         },
         "mode": "markers",
         "name": "pct_2015",
         "showlegend": false,
         "type": "scatter",
         "x": [
          "2015"
         ],
         "xaxis": "x46",
         "y": [
          0.8546343810134702
         ],
         "yaxis": "y46"
        },
        {
         "hoverlabel": {
          "namelength": 0
         },
         "hovertemplate": "variable=pct_2015<br>state_abbr=KS<br>year=%{x}<br>value=%{y}",
         "legendgroup": "pct_2015",
         "marker": {
          "color": "#636efa",
          "symbol": "circle"
         },
         "mode": "markers",
         "name": "pct_2015",
         "showlegend": false,
         "type": "scatter",
         "x": [
          "2015"
         ],
         "xaxis": "x47",
         "y": [
          0.8593918675782656
         ],
         "yaxis": "y47"
        },
        {
         "hoverlabel": {
          "namelength": 0
         },
         "hovertemplate": "variable=pct_2015<br>state_abbr=KY<br>year=%{x}<br>value=%{y}",
         "legendgroup": "pct_2015",
         "marker": {
          "color": "#636efa",
          "symbol": "circle"
         },
         "mode": "markers",
         "name": "pct_2015",
         "showlegend": false,
         "type": "scatter",
         "x": [
          "2015"
         ],
         "xaxis": "x48",
         "y": [
          0.8199510546556346
         ],
         "yaxis": "y48"
        },
        {
         "hoverlabel": {
          "namelength": 0
         },
         "hovertemplate": "variable=pct_2015<br>state_abbr=LA<br>year=%{x}<br>value=%{y}",
         "legendgroup": "pct_2015",
         "marker": {
          "color": "#636efa",
          "symbol": "circle"
         },
         "mode": "markers",
         "name": "pct_2015",
         "showlegend": false,
         "type": "scatter",
         "x": [
          "2015"
         ],
         "xaxis": "x49",
         "y": [
          0.8086771390758962
         ],
         "yaxis": "y49"
        },
        {
         "hoverlabel": {
          "namelength": 0
         },
         "hovertemplate": "variable=pct_2015<br>state_abbr=ME<br>year=%{x}<br>value=%{y}",
         "legendgroup": "pct_2015",
         "marker": {
          "color": "#636efa",
          "symbol": "circle"
         },
         "mode": "markers",
         "name": "pct_2015",
         "showlegend": false,
         "type": "scatter",
         "x": [
          "2015"
         ],
         "xaxis": "x50",
         "y": [
          0.8646368305209098
         ],
         "yaxis": "y50"
        },
        {
         "hoverlabel": {
          "namelength": 0
         },
         "hovertemplate": "variable=pct_2015<br>state_abbr=MD<br>year=%{x}<br>value=%{y}",
         "legendgroup": "pct_2015",
         "marker": {
          "color": "#636efa",
          "symbol": "circle"
         },
         "mode": "markers",
         "name": "pct_2015",
         "showlegend": false,
         "type": "scatter",
         "x": [
          "2015"
         ],
         "xaxis": "x31",
         "y": [
          0.9007759768584416
         ],
         "yaxis": "y31"
        },
        {
         "hoverlabel": {
          "namelength": 0
         },
         "hovertemplate": "variable=pct_2015<br>state_abbr=MA<br>year=%{x}<br>value=%{y}",
         "legendgroup": "pct_2015",
         "marker": {
          "color": "#636efa",
          "symbol": "circle"
         },
         "mode": "markers",
         "name": "pct_2015",
         "showlegend": false,
         "type": "scatter",
         "x": [
          "2015"
         ],
         "xaxis": "x32",
         "y": [
          0.8932421875
         ],
         "yaxis": "y32"
        },
        {
         "hoverlabel": {
          "namelength": 0
         },
         "hovertemplate": "variable=pct_2015<br>state_abbr=MI<br>year=%{x}<br>value=%{y}",
         "legendgroup": "pct_2015",
         "marker": {
          "color": "#636efa",
          "symbol": "circle"
         },
         "mode": "markers",
         "name": "pct_2015",
         "showlegend": false,
         "type": "scatter",
         "x": [
          "2015"
         ],
         "xaxis": "x33",
         "y": [
          0.8616820007775042
         ],
         "yaxis": "y33"
        },
        {
         "hoverlabel": {
          "namelength": 0
         },
         "hovertemplate": "variable=pct_2015<br>state_abbr=MN<br>year=%{x}<br>value=%{y}",
         "legendgroup": "pct_2015",
         "marker": {
          "color": "#636efa",
          "symbol": "circle"
         },
         "mode": "markers",
         "name": "pct_2015",
         "showlegend": false,
         "type": "scatter",
         "x": [
          "2015"
         ],
         "xaxis": "x34",
         "y": [
          0.8925161831136776
         ],
         "yaxis": "y34"
        },
        {
         "hoverlabel": {
          "namelength": 0
         },
         "hovertemplate": "variable=pct_2015<br>state_abbr=MS<br>year=%{x}<br>value=%{y}",
         "legendgroup": "pct_2015",
         "marker": {
          "color": "#636efa",
          "symbol": "circle"
         },
         "mode": "markers",
         "name": "pct_2015",
         "showlegend": false,
         "type": "scatter",
         "x": [
          "2015"
         ],
         "xaxis": "x35",
         "y": [
          0.7881202462875769
         ],
         "yaxis": "y35"
        },
        {
         "hoverlabel": {
          "namelength": 0
         },
         "hovertemplate": "variable=pct_2015<br>state_abbr=MO<br>year=%{x}<br>value=%{y}",
         "legendgroup": "pct_2015",
         "marker": {
          "color": "#636efa",
          "symbol": "circle"
         },
         "mode": "markers",
         "name": "pct_2015",
         "showlegend": false,
         "type": "scatter",
         "x": [
          "2015"
         ],
         "xaxis": "x36",
         "y": [
          0.855277567180524
         ],
         "yaxis": "y36"
        },
        {
         "hoverlabel": {
          "namelength": 0
         },
         "hovertemplate": "variable=pct_2015<br>state_abbr=MT<br>year=%{x}<br>value=%{y}",
         "legendgroup": "pct_2015",
         "marker": {
          "color": "#636efa",
          "symbol": "circle"
         },
         "mode": "markers",
         "name": "pct_2015",
         "showlegend": false,
         "type": "scatter",
         "x": [
          "2015"
         ],
         "xaxis": "x37",
         "y": [
          0.8555930568948891
         ],
         "yaxis": "y37"
        },
        {
         "hoverlabel": {
          "namelength": 0
         },
         "hovertemplate": "variable=pct_2015<br>state_abbr=NE<br>year=%{x}<br>value=%{y}",
         "legendgroup": "pct_2015",
         "marker": {
          "color": "#636efa",
          "symbol": "circle"
         },
         "mode": "markers",
         "name": "pct_2015",
         "showlegend": false,
         "type": "scatter",
         "x": [
          "2015"
         ],
         "xaxis": "x38",
         "y": [
          0.8724805159903252
         ],
         "yaxis": "y38"
        },
        {
         "hoverlabel": {
          "namelength": 0
         },
         "hovertemplate": "variable=pct_2015<br>state_abbr=NV<br>year=%{x}<br>value=%{y}",
         "legendgroup": "pct_2015",
         "marker": {
          "color": "#636efa",
          "symbol": "circle"
         },
         "mode": "markers",
         "name": "pct_2015",
         "showlegend": false,
         "type": "scatter",
         "x": [
          "2015"
         ],
         "xaxis": "x39",
         "y": [
          0.8954994722195566
         ],
         "yaxis": "y39"
        },
        {
         "hoverlabel": {
          "namelength": 0
         },
         "hovertemplate": "variable=pct_2015<br>state_abbr=NH<br>year=%{x}<br>value=%{y}",
         "legendgroup": "pct_2015",
         "marker": {
          "color": "#636efa",
          "symbol": "circle"
         },
         "mode": "markers",
         "name": "pct_2015",
         "showlegend": false,
         "type": "scatter",
         "x": [
          "2015"
         ],
         "xaxis": "x40",
         "y": [
          0.9101622874806801
         ],
         "yaxis": "y40"
        },
        {
         "hoverlabel": {
          "namelength": 0
         },
         "hovertemplate": "variable=pct_2015<br>state_abbr=NJ<br>year=%{x}<br>value=%{y}",
         "legendgroup": "pct_2015",
         "marker": {
          "color": "#636efa",
          "symbol": "circle"
         },
         "mode": "markers",
         "name": "pct_2015",
         "showlegend": false,
         "type": "scatter",
         "x": [
          "2015"
         ],
         "xaxis": "x21",
         "y": [
          0.8818695106649937
         ],
         "yaxis": "y21"
        },
        {
         "hoverlabel": {
          "namelength": 0
         },
         "hovertemplate": "variable=pct_2015<br>state_abbr=NM<br>year=%{x}<br>value=%{y}",
         "legendgroup": "pct_2015",
         "marker": {
          "color": "#636efa",
          "symbol": "circle"
         },
         "mode": "markers",
         "name": "pct_2015",
         "showlegend": false,
         "type": "scatter",
         "x": [
          "2015"
         ],
         "xaxis": "x22",
         "y": [
          0.8071672354948806
         ],
         "yaxis": "y22"
        },
        {
         "hoverlabel": {
          "namelength": 0
         },
         "hovertemplate": "variable=pct_2015<br>state_abbr=NY<br>year=%{x}<br>value=%{y}",
         "legendgroup": "pct_2015",
         "marker": {
          "color": "#636efa",
          "symbol": "circle"
         },
         "mode": "markers",
         "name": "pct_2015",
         "showlegend": false,
         "type": "scatter",
         "x": [
          "2015"
         ],
         "xaxis": "x23",
         "y": [
          0.8642741612176341
         ],
         "yaxis": "y23"
        },
        {
         "hoverlabel": {
          "namelength": 0
         },
         "hovertemplate": "variable=pct_2015<br>state_abbr=NC<br>year=%{x}<br>value=%{y}",
         "legendgroup": "pct_2015",
         "marker": {
          "color": "#636efa",
          "symbol": "circle"
         },
         "mode": "markers",
         "name": "pct_2015",
         "showlegend": false,
         "type": "scatter",
         "x": [
          "2015"
         ],
         "xaxis": "x24",
         "y": [
          0.8505905614235912
         ],
         "yaxis": "y24"
        },
        {
         "hoverlabel": {
          "namelength": 0
         },
         "hovertemplate": "variable=pct_2015<br>state_abbr=ND<br>year=%{x}<br>value=%{y}",
         "legendgroup": "pct_2015",
         "marker": {
          "color": "#636efa",
          "symbol": "circle"
         },
         "mode": "markers",
         "name": "pct_2015",
         "showlegend": false,
         "type": "scatter",
         "x": [
          "2015"
         ],
         "xaxis": "x25",
         "y": [
          0.8653907496012759
         ],
         "yaxis": "y25"
        },
        {
         "hoverlabel": {
          "namelength": 0
         },
         "hovertemplate": "variable=pct_2015<br>state_abbr=OH<br>year=%{x}<br>value=%{y}",
         "legendgroup": "pct_2015",
         "marker": {
          "color": "#636efa",
          "symbol": "circle"
         },
         "mode": "markers",
         "name": "pct_2015",
         "showlegend": false,
         "type": "scatter",
         "x": [
          "2015"
         ],
         "xaxis": "x26",
         "y": [
          0.8554713786441488
         ],
         "yaxis": "y26"
        },
        {
         "hoverlabel": {
          "namelength": 0
         },
         "hovertemplate": "variable=pct_2015<br>state_abbr=OK<br>year=%{x}<br>value=%{y}",
         "legendgroup": "pct_2015",
         "marker": {
          "color": "#636efa",
          "symbol": "circle"
         },
         "mode": "markers",
         "name": "pct_2015",
         "showlegend": false,
         "type": "scatter",
         "x": [
          "2015"
         ],
         "xaxis": "x27",
         "y": [
          0.8365509243468177
         ],
         "yaxis": "y27"
        },
        {
         "hoverlabel": {
          "namelength": 0
         },
         "hovertemplate": "variable=pct_2015<br>state_abbr=OR<br>year=%{x}<br>value=%{y}",
         "legendgroup": "pct_2015",
         "marker": {
          "color": "#636efa",
          "symbol": "circle"
         },
         "mode": "markers",
         "name": "pct_2015",
         "showlegend": false,
         "type": "scatter",
         "x": [
          "2015"
         ],
         "xaxis": "x28",
         "y": [
          0.9086402266288952
         ],
         "yaxis": "y28"
        },
        {
         "hoverlabel": {
          "namelength": 0
         },
         "hovertemplate": "variable=pct_2015<br>state_abbr=PA<br>year=%{x}<br>value=%{y}",
         "legendgroup": "pct_2015",
         "marker": {
          "color": "#636efa",
          "symbol": "circle"
         },
         "mode": "markers",
         "name": "pct_2015",
         "showlegend": false,
         "type": "scatter",
         "x": [
          "2015"
         ],
         "xaxis": "x29",
         "y": [
          0.8455811138014527
         ],
         "yaxis": "y29"
        },
        {
         "hoverlabel": {
          "namelength": 0
         },
         "hovertemplate": "variable=pct_2015<br>state_abbr=RI<br>year=%{x}<br>value=%{y}",
         "legendgroup": "pct_2015",
         "marker": {
          "color": "#636efa",
          "symbol": "circle"
         },
         "mode": "markers",
         "name": "pct_2015",
         "showlegend": false,
         "type": "scatter",
         "x": [
          "2015"
         ],
         "xaxis": "x30",
         "y": [
          0.8687116564417178
         ],
         "yaxis": "y30"
        },
        {
         "hoverlabel": {
          "namelength": 0
         },
         "hovertemplate": "variable=pct_2015<br>state_abbr=SC<br>year=%{x}<br>value=%{y}",
         "legendgroup": "pct_2015",
         "marker": {
          "color": "#636efa",
          "symbol": "circle"
         },
         "mode": "markers",
         "name": "pct_2015",
         "showlegend": false,
         "type": "scatter",
         "x": [
          "2015"
         ],
         "xaxis": "x11",
         "y": [
          0.8339433738830875
         ],
         "yaxis": "y11"
        },
        {
         "hoverlabel": {
          "namelength": 0
         },
         "hovertemplate": "variable=pct_2015<br>state_abbr=SD<br>year=%{x}<br>value=%{y}",
         "legendgroup": "pct_2015",
         "marker": {
          "color": "#636efa",
          "symbol": "circle"
         },
         "mode": "markers",
         "name": "pct_2015",
         "showlegend": false,
         "type": "scatter",
         "x": [
          "2015"
         ],
         "xaxis": "x12",
         "y": [
          0.8541543901001768
         ],
         "yaxis": "y12"
        },
        {
         "hoverlabel": {
          "namelength": 0
         },
         "hovertemplate": "variable=pct_2015<br>state_abbr=TN<br>year=%{x}<br>value=%{y}",
         "legendgroup": "pct_2015",
         "marker": {
          "color": "#636efa",
          "symbol": "circle"
         },
         "mode": "markers",
         "name": "pct_2015",
         "showlegend": false,
         "type": "scatter",
         "x": [
          "2015"
         ],
         "xaxis": "x13",
         "y": [
          0.826739912263368
         ],
         "yaxis": "y13"
        },
        {
         "hoverlabel": {
          "namelength": 0
         },
         "hovertemplate": "variable=pct_2015<br>state_abbr=TX<br>year=%{x}<br>value=%{y}",
         "legendgroup": "pct_2015",
         "marker": {
          "color": "#636efa",
          "symbol": "circle"
         },
         "mode": "markers",
         "name": "pct_2015",
         "showlegend": false,
         "type": "scatter",
         "x": [
          "2015"
         ],
         "xaxis": "x14",
         "y": [
          0.8666652514488292
         ],
         "yaxis": "y14"
        },
        {
         "hoverlabel": {
          "namelength": 0
         },
         "hovertemplate": "variable=pct_2015<br>state_abbr=UT<br>year=%{x}<br>value=%{y}",
         "legendgroup": "pct_2015",
         "marker": {
          "color": "#636efa",
          "symbol": "circle"
         },
         "mode": "markers",
         "name": "pct_2015",
         "showlegend": false,
         "type": "scatter",
         "x": [
          "2015"
         ],
         "xaxis": "x15",
         "y": [
          0.9302900107411386
         ],
         "yaxis": "y15"
        },
        {
         "hoverlabel": {
          "namelength": 0
         },
         "hovertemplate": "variable=pct_2015<br>state_abbr=VT<br>year=%{x}<br>value=%{y}",
         "legendgroup": "pct_2015",
         "marker": {
          "color": "#636efa",
          "symbol": "circle"
         },
         "mode": "markers",
         "name": "pct_2015",
         "showlegend": false,
         "type": "scatter",
         "x": [
          "2015"
         ],
         "xaxis": "x16",
         "y": [
          0.8783836798744605
         ],
         "yaxis": "y16"
        },
        {
         "hoverlabel": {
          "namelength": 0
         },
         "hovertemplate": "variable=pct_2015<br>state_abbr=VA<br>year=%{x}<br>value=%{y}",
         "legendgroup": "pct_2015",
         "marker": {
          "color": "#636efa",
          "symbol": "circle"
         },
         "mode": "markers",
         "name": "pct_2015",
         "showlegend": false,
         "type": "scatter",
         "x": [
          "2015"
         ],
         "xaxis": "x17",
         "y": [
          0.882294248286073
         ],
         "yaxis": "y17"
        },
        {
         "hoverlabel": {
          "namelength": 0
         },
         "hovertemplate": "variable=pct_2015<br>state_abbr=WA<br>year=%{x}<br>value=%{y}",
         "legendgroup": "pct_2015",
         "marker": {
          "color": "#636efa",
          "symbol": "circle"
         },
         "mode": "markers",
         "name": "pct_2015",
         "showlegend": false,
         "type": "scatter",
         "x": [
          "2015"
         ],
         "xaxis": "x18",
         "y": [
          0.9139485450414132
         ],
         "yaxis": "y18"
        },
        {
         "hoverlabel": {
          "namelength": 0
         },
         "hovertemplate": "variable=pct_2015<br>state_abbr=WV<br>year=%{x}<br>value=%{y}",
         "legendgroup": "pct_2015",
         "marker": {
          "color": "#636efa",
          "symbol": "circle"
         },
         "mode": "markers",
         "name": "pct_2015",
         "showlegend": false,
         "type": "scatter",
         "x": [
          "2015"
         ],
         "xaxis": "x19",
         "y": [
          0.7987746766507828
         ],
         "yaxis": "y19"
        },
        {
         "hoverlabel": {
          "namelength": 0
         },
         "hovertemplate": "variable=pct_2015<br>state_abbr=WI<br>year=%{x}<br>value=%{y}",
         "legendgroup": "pct_2015",
         "marker": {
          "color": "#636efa",
          "symbol": "circle"
         },
         "mode": "markers",
         "name": "pct_2015",
         "showlegend": false,
         "type": "scatter",
         "x": [
          "2015"
         ],
         "xaxis": "x20",
         "y": [
          0.8629877128691529
         ],
         "yaxis": "y20"
        },
        {
         "hoverlabel": {
          "namelength": 0
         },
         "hovertemplate": "variable=pct_2015<br>state_abbr=WY<br>year=%{x}<br>value=%{y}",
         "legendgroup": "pct_2015",
         "marker": {
          "color": "#636efa",
          "symbol": "circle"
         },
         "mode": "markers",
         "name": "pct_2015",
         "showlegend": false,
         "type": "scatter",
         "x": [
          "2015"
         ],
         "xaxis": "x",
         "y": [
          0.891218872870249
         ],
         "yaxis": "y"
        },
        {
         "hoverlabel": {
          "namelength": 0
         },
         "hovertemplate": "variable=pct_2016<br>state_abbr=AL<br>year=%{x}<br>value=%{y}",
         "legendgroup": "pct_2016",
         "marker": {
          "color": "#EF553B",
          "symbol": "circle"
         },
         "mode": "markers",
         "name": "pct_2016",
         "showlegend": true,
         "type": "scatter",
         "x": [
          "2016"
         ],
         "xaxis": "x51",
         "y": [
          0.8390823211875843
         ],
         "yaxis": "y51"
        },
        {
         "hoverlabel": {
          "namelength": 0
         },
         "hovertemplate": "variable=pct_2016<br>state_abbr=AK<br>year=%{x}<br>value=%{y}",
         "legendgroup": "pct_2016",
         "marker": {
          "color": "#EF553B",
          "symbol": "circle"
         },
         "mode": "markers",
         "name": "pct_2016",
         "showlegend": false,
         "type": "scatter",
         "x": [
          "2016"
         ],
         "xaxis": "x52",
         "y": [
          0.9440643863179075
         ],
         "yaxis": "y52"
        },
        {
         "hoverlabel": {
          "namelength": 0
         },
         "hovertemplate": "variable=pct_2016<br>state_abbr=AZ<br>year=%{x}<br>value=%{y}",
         "legendgroup": "pct_2016",
         "marker": {
          "color": "#EF553B",
          "symbol": "circle"
         },
         "mode": "markers",
         "name": "pct_2016",
         "showlegend": false,
         "type": "scatter",
         "x": [
          "2016"
         ],
         "xaxis": "x53",
         "y": [
          0.9104442062641419
         ],
         "yaxis": "y53"
        },
        {
         "hoverlabel": {
          "namelength": 0
         },
         "hovertemplate": "variable=pct_2016<br>state_abbr=AR<br>year=%{x}<br>value=%{y}",
         "legendgroup": "pct_2016",
         "marker": {
          "color": "#EF553B",
          "symbol": "circle"
         },
         "mode": "markers",
         "name": "pct_2016",
         "showlegend": false,
         "type": "scatter",
         "x": [
          "2016"
         ],
         "xaxis": "x54",
         "y": [
          0.8448411656602783
         ],
         "yaxis": "y54"
        },
        {
         "hoverlabel": {
          "namelength": 0
         },
         "hovertemplate": "variable=pct_2016<br>state_abbr=CA<br>year=%{x}<br>value=%{y}",
         "legendgroup": "pct_2016",
         "marker": {
          "color": "#EF553B",
          "symbol": "circle"
         },
         "mode": "markers",
         "name": "pct_2016",
         "showlegend": false,
         "type": "scatter",
         "x": [
          "2016"
         ],
         "xaxis": "x55",
         "y": [
          0.9212002286738462
         ],
         "yaxis": "y55"
        },
        {
         "hoverlabel": {
          "namelength": 0
         },
         "hovertemplate": "variable=pct_2016<br>state_abbr=CO<br>year=%{x}<br>value=%{y}",
         "legendgroup": "pct_2016",
         "marker": {
          "color": "#EF553B",
          "symbol": "circle"
         },
         "mode": "markers",
         "name": "pct_2016",
         "showlegend": false,
         "type": "scatter",
         "x": [
          "2016"
         ],
         "xaxis": "x56",
         "y": [
          0.9344238975817923
         ],
         "yaxis": "y56"
        },
        {
         "hoverlabel": {
          "namelength": 0
         },
         "hovertemplate": "variable=pct_2016<br>state_abbr=CT<br>year=%{x}<br>value=%{y}",
         "legendgroup": "pct_2016",
         "marker": {
          "color": "#EF553B",
          "symbol": "circle"
         },
         "mode": "markers",
         "name": "pct_2016",
         "showlegend": false,
         "type": "scatter",
         "x": [
          "2016"
         ],
         "xaxis": "x57",
         "y": [
          0.8946437780888529
         ],
         "yaxis": "y57"
        },
        {
         "hoverlabel": {
          "namelength": 0
         },
         "hovertemplate": "variable=pct_2016<br>state_abbr=DE<br>year=%{x}<br>value=%{y}",
         "legendgroup": "pct_2016",
         "marker": {
          "color": "#EF553B",
          "symbol": "circle"
         },
         "mode": "markers",
         "name": "pct_2016",
         "showlegend": false,
         "type": "scatter",
         "x": [
          "2016"
         ],
         "xaxis": "x58",
         "y": [
          0.9108516092281401
         ],
         "yaxis": "y58"
        },
        {
         "hoverlabel": {
          "namelength": 0
         },
         "hovertemplate": "variable=pct_2016<br>state_abbr=DC<br>year=%{x}<br>value=%{y}",
         "legendgroup": "pct_2016",
         "marker": {
          "color": "#EF553B",
          "symbol": "circle"
         },
         "mode": "markers",
         "name": "pct_2016",
         "showlegend": false,
         "type": "scatter",
         "x": [
          "2016"
         ],
         "xaxis": "x59",
         "y": [
          0.9018492176386913
         ],
         "yaxis": "y59"
        },
        {
         "hoverlabel": {
          "namelength": 0
         },
         "hovertemplate": "variable=pct_2016<br>state_abbr=FL<br>year=%{x}<br>value=%{y}",
         "legendgroup": "pct_2016",
         "marker": {
          "color": "#EF553B",
          "symbol": "circle"
         },
         "mode": "markers",
         "name": "pct_2016",
         "showlegend": false,
         "type": "scatter",
         "x": [
          "2016"
         ],
         "xaxis": "x60",
         "y": [
          0.9014722387271407
         ],
         "yaxis": "y60"
        },
        {
         "hoverlabel": {
          "namelength": 0
         },
         "hovertemplate": "variable=pct_2016<br>state_abbr=GA<br>year=%{x}<br>value=%{y}",
         "legendgroup": "pct_2016",
         "marker": {
          "color": "#EF553B",
          "symbol": "circle"
         },
         "mode": "markers",
         "name": "pct_2016",
         "showlegend": false,
         "type": "scatter",
         "x": [
          "2016"
         ],
         "xaxis": "x41",
         "y": [
          0.8944684083448632
         ],
         "yaxis": "y41"
        },
        {
         "hoverlabel": {
          "namelength": 0
         },
         "hovertemplate": "variable=pct_2016<br>state_abbr=HI<br>year=%{x}<br>value=%{y}",
         "legendgroup": "pct_2016",
         "marker": {
          "color": "#EF553B",
          "symbol": "circle"
         },
         "mode": "markers",
         "name": "pct_2016",
         "showlegend": false,
         "type": "scatter",
         "x": [
          "2016"
         ],
         "xaxis": "x42",
         "y": [
          0.9127001535424435
         ],
         "yaxis": "y42"
        },
        {
         "hoverlabel": {
          "namelength": 0
         },
         "hovertemplate": "variable=pct_2016<br>state_abbr=ID<br>year=%{x}<br>value=%{y}",
         "legendgroup": "pct_2016",
         "marker": {
          "color": "#EF553B",
          "symbol": "circle"
         },
         "mode": "markers",
         "name": "pct_2016",
         "showlegend": false,
         "type": "scatter",
         "x": [
          "2016"
         ],
         "xaxis": "x43",
         "y": [
          0.8909805205434604
         ],
         "yaxis": "y43"
        },
        {
         "hoverlabel": {
          "namelength": 0
         },
         "hovertemplate": "variable=pct_2016<br>state_abbr=IL<br>year=%{x}<br>value=%{y}",
         "legendgroup": "pct_2016",
         "marker": {
          "color": "#EF553B",
          "symbol": "circle"
         },
         "mode": "markers",
         "name": "pct_2016",
         "showlegend": false,
         "type": "scatter",
         "x": [
          "2016"
         ],
         "xaxis": "x44",
         "y": [
          0.8904396515968478
         ],
         "yaxis": "y44"
        },
        {
         "hoverlabel": {
          "namelength": 0
         },
         "hovertemplate": "variable=pct_2016<br>state_abbr=IN<br>year=%{x}<br>value=%{y}",
         "legendgroup": "pct_2016",
         "marker": {
          "color": "#EF553B",
          "symbol": "circle"
         },
         "mode": "markers",
         "name": "pct_2016",
         "showlegend": false,
         "type": "scatter",
         "x": [
          "2016"
         ],
         "xaxis": "x45",
         "y": [
          0.8781826076658903
         ],
         "yaxis": "y45"
        },
        {
         "hoverlabel": {
          "namelength": 0
         },
         "hovertemplate": "variable=pct_2016<br>state_abbr=IA<br>year=%{x}<br>value=%{y}",
         "legendgroup": "pct_2016",
         "marker": {
          "color": "#EF553B",
          "symbol": "circle"
         },
         "mode": "markers",
         "name": "pct_2016",
         "showlegend": false,
         "type": "scatter",
         "x": [
          "2016"
         ],
         "xaxis": "x46",
         "y": [
          0.8789967144803269
         ],
         "yaxis": "y46"
        },
        {
         "hoverlabel": {
          "namelength": 0
         },
         "hovertemplate": "variable=pct_2016<br>state_abbr=KS<br>year=%{x}<br>value=%{y}",
         "legendgroup": "pct_2016",
         "marker": {
          "color": "#EF553B",
          "symbol": "circle"
         },
         "mode": "markers",
         "name": "pct_2016",
         "showlegend": false,
         "type": "scatter",
         "x": [
          "2016"
         ],
         "xaxis": "x47",
         "y": [
          0.8855367435158501
         ],
         "yaxis": "y47"
        },
        {
         "hoverlabel": {
          "namelength": 0
         },
         "hovertemplate": "variable=pct_2016<br>state_abbr=KY<br>year=%{x}<br>value=%{y}",
         "legendgroup": "pct_2016",
         "marker": {
          "color": "#EF553B",
          "symbol": "circle"
         },
         "mode": "markers",
         "name": "pct_2016",
         "showlegend": false,
         "type": "scatter",
         "x": [
          "2016"
         ],
         "xaxis": "x48",
         "y": [
          0.8489258892705361
         ],
         "yaxis": "y48"
        },
        {
         "hoverlabel": {
          "namelength": 0
         },
         "hovertemplate": "variable=pct_2016<br>state_abbr=LA<br>year=%{x}<br>value=%{y}",
         "legendgroup": "pct_2016",
         "marker": {
          "color": "#EF553B",
          "symbol": "circle"
         },
         "mode": "markers",
         "name": "pct_2016",
         "showlegend": false,
         "type": "scatter",
         "x": [
          "2016"
         ],
         "xaxis": "x49",
         "y": [
          0.844839609483961
         ],
         "yaxis": "y49"
        },
        {
         "hoverlabel": {
          "namelength": 0
         },
         "hovertemplate": "variable=pct_2016<br>state_abbr=ME<br>year=%{x}<br>value=%{y}",
         "legendgroup": "pct_2016",
         "marker": {
          "color": "#EF553B",
          "symbol": "circle"
         },
         "mode": "markers",
         "name": "pct_2016",
         "showlegend": false,
         "type": "scatter",
         "x": [
          "2016"
         ],
         "xaxis": "x50",
         "y": [
          0.8905397780703405
         ],
         "yaxis": "y50"
        },
        {
         "hoverlabel": {
          "namelength": 0
         },
         "hovertemplate": "variable=pct_2016<br>state_abbr=MD<br>year=%{x}<br>value=%{y}",
         "legendgroup": "pct_2016",
         "marker": {
          "color": "#EF553B",
          "symbol": "circle"
         },
         "mode": "markers",
         "name": "pct_2016",
         "showlegend": false,
         "type": "scatter",
         "x": [
          "2016"
         ],
         "xaxis": "x31",
         "y": [
          0.9166173053264683
         ],
         "yaxis": "y31"
        },
        {
         "hoverlabel": {
          "namelength": 0
         },
         "hovertemplate": "variable=pct_2016<br>state_abbr=MA<br>year=%{x}<br>value=%{y}",
         "legendgroup": "pct_2016",
         "marker": {
          "color": "#EF553B",
          "symbol": "circle"
         },
         "mode": "markers",
         "name": "pct_2016",
         "showlegend": false,
         "type": "scatter",
         "x": [
          "2016"
         ],
         "xaxis": "x32",
         "y": [
          0.9054855592169025
         ],
         "yaxis": "y32"
        },
        {
         "hoverlabel": {
          "namelength": 0
         },
         "hovertemplate": "variable=pct_2016<br>state_abbr=MI<br>year=%{x}<br>value=%{y}",
         "legendgroup": "pct_2016",
         "marker": {
          "color": "#EF553B",
          "symbol": "circle"
         },
         "mode": "markers",
         "name": "pct_2016",
         "showlegend": false,
         "type": "scatter",
         "x": [
          "2016"
         ],
         "xaxis": "x33",
         "y": [
          0.8831419597343082
         ],
         "yaxis": "y33"
        },
        {
         "hoverlabel": {
          "namelength": 0
         },
         "hovertemplate": "variable=pct_2016<br>state_abbr=MN<br>year=%{x}<br>value=%{y}",
         "legendgroup": "pct_2016",
         "marker": {
          "color": "#EF553B",
          "symbol": "circle"
         },
         "mode": "markers",
         "name": "pct_2016",
         "showlegend": false,
         "type": "scatter",
         "x": [
          "2016"
         ],
         "xaxis": "x34",
         "y": [
          0.9033834411504631
         ],
         "yaxis": "y34"
        },
        {
         "hoverlabel": {
          "namelength": 0
         },
         "hovertemplate": "variable=pct_2016<br>state_abbr=MS<br>year=%{x}<br>value=%{y}",
         "legendgroup": "pct_2016",
         "marker": {
          "color": "#EF553B",
          "symbol": "circle"
         },
         "mode": "markers",
         "name": "pct_2016",
         "showlegend": false,
         "type": "scatter",
         "x": [
          "2016"
         ],
         "xaxis": "x35",
         "y": [
          0.8223220012828736
         ],
         "yaxis": "y35"
        },
        {
         "hoverlabel": {
          "namelength": 0
         },
         "hovertemplate": "variable=pct_2016<br>state_abbr=MO<br>year=%{x}<br>value=%{y}",
         "legendgroup": "pct_2016",
         "marker": {
          "color": "#EF553B",
          "symbol": "circle"
         },
         "mode": "markers",
         "name": "pct_2016",
         "showlegend": false,
         "type": "scatter",
         "x": [
          "2016"
         ],
         "xaxis": "x36",
         "y": [
          0.8828513616052609
         ],
         "yaxis": "y36"
        },
        {
         "hoverlabel": {
          "namelength": 0
         },
         "hovertemplate": "variable=pct_2016<br>state_abbr=MT<br>year=%{x}<br>value=%{y}",
         "legendgroup": "pct_2016",
         "marker": {
          "color": "#EF553B",
          "symbol": "circle"
         },
         "mode": "markers",
         "name": "pct_2016",
         "showlegend": false,
         "type": "scatter",
         "x": [
          "2016"
         ],
         "xaxis": "x37",
         "y": [
          0.8781542898341744
         ],
         "yaxis": "y37"
        },
        {
         "hoverlabel": {
          "namelength": 0
         },
         "hovertemplate": "variable=pct_2016<br>state_abbr=NE<br>year=%{x}<br>value=%{y}",
         "legendgroup": "pct_2016",
         "marker": {
          "color": "#EF553B",
          "symbol": "circle"
         },
         "mode": "markers",
         "name": "pct_2016",
         "showlegend": false,
         "type": "scatter",
         "x": [
          "2016"
         ],
         "xaxis": "x38",
         "y": [
          0.8780096308186196
         ],
         "yaxis": "y38"
        },
        {
         "hoverlabel": {
          "namelength": 0
         },
         "hovertemplate": "variable=pct_2016<br>state_abbr=NV<br>year=%{x}<br>value=%{y}",
         "legendgroup": "pct_2016",
         "marker": {
          "color": "#EF553B",
          "symbol": "circle"
         },
         "mode": "markers",
         "name": "pct_2016",
         "showlegend": false,
         "type": "scatter",
         "x": [
          "2016"
         ],
         "xaxis": "x39",
         "y": [
          0.9117702805155421
         ],
         "yaxis": "y39"
        },
        {
         "hoverlabel": {
          "namelength": 0
         },
         "hovertemplate": "variable=pct_2016<br>state_abbr=NH<br>year=%{x}<br>value=%{y}",
         "legendgroup": "pct_2016",
         "marker": {
          "color": "#EF553B",
          "symbol": "circle"
         },
         "mode": "markers",
         "name": "pct_2016",
         "showlegend": false,
         "type": "scatter",
         "x": [
          "2016"
         ],
         "xaxis": "x40",
         "y": [
          0.919131771033423
         ],
         "yaxis": "y40"
        },
        {
         "hoverlabel": {
          "namelength": 0
         },
         "hovertemplate": "variable=pct_2016<br>state_abbr=NJ<br>year=%{x}<br>value=%{y}",
         "legendgroup": "pct_2016",
         "marker": {
          "color": "#EF553B",
          "symbol": "circle"
         },
         "mode": "markers",
         "name": "pct_2016",
         "showlegend": false,
         "type": "scatter",
         "x": [
          "2016"
         ],
         "xaxis": "x21",
         "y": [
          0.9058694631397715
         ],
         "yaxis": "y21"
        },
        {
         "hoverlabel": {
          "namelength": 0
         },
         "hovertemplate": "variable=pct_2016<br>state_abbr=NM<br>year=%{x}<br>value=%{y}",
         "legendgroup": "pct_2016",
         "marker": {
          "color": "#EF553B",
          "symbol": "circle"
         },
         "mode": "markers",
         "name": "pct_2016",
         "showlegend": false,
         "type": "scatter",
         "x": [
          "2016"
         ],
         "xaxis": "x22",
         "y": [
          0.8481012658227848
         ],
         "yaxis": "y22"
        },
        {
         "hoverlabel": {
          "namelength": 0
         },
         "hovertemplate": "variable=pct_2016<br>state_abbr=NY<br>year=%{x}<br>value=%{y}",
         "legendgroup": "pct_2016",
         "marker": {
          "color": "#EF553B",
          "symbol": "circle"
         },
         "mode": "markers",
         "name": "pct_2016",
         "showlegend": false,
         "type": "scatter",
         "x": [
          "2016"
         ],
         "xaxis": "x23",
         "y": [
          0.8860452212512138
         ],
         "yaxis": "y23"
        },
        {
         "hoverlabel": {
          "namelength": 0
         },
         "hovertemplate": "variable=pct_2016<br>state_abbr=NC<br>year=%{x}<br>value=%{y}",
         "legendgroup": "pct_2016",
         "marker": {
          "color": "#EF553B",
          "symbol": "circle"
         },
         "mode": "markers",
         "name": "pct_2016",
         "showlegend": false,
         "type": "scatter",
         "x": [
          "2016"
         ],
         "xaxis": "x24",
         "y": [
          0.8803832680815991
         ],
         "yaxis": "y24"
        },
        {
         "hoverlabel": {
          "namelength": 0
         },
         "hovertemplate": "variable=pct_2016<br>state_abbr=ND<br>year=%{x}<br>value=%{y}",
         "legendgroup": "pct_2016",
         "marker": {
          "color": "#EF553B",
          "symbol": "circle"
         },
         "mode": "markers",
         "name": "pct_2016",
         "showlegend": false,
         "type": "scatter",
         "x": [
          "2016"
         ],
         "xaxis": "x25",
         "y": [
          0.8955887019993652
         ],
         "yaxis": "y25"
        },
        {
         "hoverlabel": {
          "namelength": 0
         },
         "hovertemplate": "variable=pct_2016<br>state_abbr=OH<br>year=%{x}<br>value=%{y}",
         "legendgroup": "pct_2016",
         "marker": {
          "color": "#EF553B",
          "symbol": "circle"
         },
         "mode": "markers",
         "name": "pct_2016",
         "showlegend": false,
         "type": "scatter",
         "x": [
          "2016"
         ],
         "xaxis": "x26",
         "y": [
          0.8789759335740697
         ],
         "yaxis": "y26"
        },
        {
         "hoverlabel": {
          "namelength": 0
         },
         "hovertemplate": "variable=pct_2016<br>state_abbr=OK<br>year=%{x}<br>value=%{y}",
         "legendgroup": "pct_2016",
         "marker": {
          "color": "#EF553B",
          "symbol": "circle"
         },
         "mode": "markers",
         "name": "pct_2016",
         "showlegend": false,
         "type": "scatter",
         "x": [
          "2016"
         ],
         "xaxis": "x27",
         "y": [
          0.8719798543524128
         ],
         "yaxis": "y27"
        },
        {
         "hoverlabel": {
          "namelength": 0
         },
         "hovertemplate": "variable=pct_2016<br>state_abbr=OR<br>year=%{x}<br>value=%{y}",
         "legendgroup": "pct_2016",
         "marker": {
          "color": "#EF553B",
          "symbol": "circle"
         },
         "mode": "markers",
         "name": "pct_2016",
         "showlegend": false,
         "type": "scatter",
         "x": [
          "2016"
         ],
         "xaxis": "x28",
         "y": [
          0.9161417573328243
         ],
         "yaxis": "y28"
        },
        {
         "hoverlabel": {
          "namelength": 0
         },
         "hovertemplate": "variable=pct_2016<br>state_abbr=PA<br>year=%{x}<br>value=%{y}",
         "legendgroup": "pct_2016",
         "marker": {
          "color": "#EF553B",
          "symbol": "circle"
         },
         "mode": "markers",
         "name": "pct_2016",
         "showlegend": false,
         "type": "scatter",
         "x": [
          "2016"
         ],
         "xaxis": "x29",
         "y": [
          0.8681599092713355
         ],
         "yaxis": "y29"
        },
        {
         "hoverlabel": {
          "namelength": 0
         },
         "hovertemplate": "variable=pct_2016<br>state_abbr=RI<br>year=%{x}<br>value=%{y}",
         "legendgroup": "pct_2016",
         "marker": {
          "color": "#EF553B",
          "symbol": "circle"
         },
         "mode": "markers",
         "name": "pct_2016",
         "showlegend": false,
         "type": "scatter",
         "x": [
          "2016"
         ],
         "xaxis": "x30",
         "y": [
          0.8806957373836355
         ],
         "yaxis": "y30"
        },
        {
         "hoverlabel": {
          "namelength": 0
         },
         "hovertemplate": "variable=pct_2016<br>state_abbr=SC<br>year=%{x}<br>value=%{y}",
         "legendgroup": "pct_2016",
         "marker": {
          "color": "#EF553B",
          "symbol": "circle"
         },
         "mode": "markers",
         "name": "pct_2016",
         "showlegend": false,
         "type": "scatter",
         "x": [
          "2016"
         ],
         "xaxis": "x11",
         "y": [
          0.8689493583257895
         ],
         "yaxis": "y11"
        },
        {
         "hoverlabel": {
          "namelength": 0
         },
         "hovertemplate": "variable=pct_2016<br>state_abbr=SD<br>year=%{x}<br>value=%{y}",
         "legendgroup": "pct_2016",
         "marker": {
          "color": "#EF553B",
          "symbol": "circle"
         },
         "mode": "markers",
         "name": "pct_2016",
         "showlegend": false,
         "type": "scatter",
         "x": [
          "2016"
         ],
         "xaxis": "x12",
         "y": [
          0.8784431137724551
         ],
         "yaxis": "y12"
        },
        {
         "hoverlabel": {
          "namelength": 0
         },
         "hovertemplate": "variable=pct_2016<br>state_abbr=TN<br>year=%{x}<br>value=%{y}",
         "legendgroup": "pct_2016",
         "marker": {
          "color": "#EF553B",
          "symbol": "circle"
         },
         "mode": "markers",
         "name": "pct_2016",
         "showlegend": false,
         "type": "scatter",
         "x": [
          "2016"
         ],
         "xaxis": "x13",
         "y": [
          0.8555725071392246
         ],
         "yaxis": "y13"
        },
        {
         "hoverlabel": {
          "namelength": 0
         },
         "hovertemplate": "variable=pct_2016<br>state_abbr=TX<br>year=%{x}<br>value=%{y}",
         "legendgroup": "pct_2016",
         "marker": {
          "color": "#EF553B",
          "symbol": "circle"
         },
         "mode": "markers",
         "name": "pct_2016",
         "showlegend": false,
         "type": "scatter",
         "x": [
          "2016"
         ],
         "xaxis": "x14",
         "y": [
          0.8998594739712237
         ],
         "yaxis": "y14"
        },
        {
         "hoverlabel": {
          "namelength": 0
         },
         "hovertemplate": "variable=pct_2016<br>state_abbr=UT<br>year=%{x}<br>value=%{y}",
         "legendgroup": "pct_2016",
         "marker": {
          "color": "#EF553B",
          "symbol": "circle"
         },
         "mode": "markers",
         "name": "pct_2016",
         "showlegend": false,
         "type": "scatter",
         "x": [
          "2016"
         ],
         "xaxis": "x15",
         "y": [
          0.9421058212278656
         ],
         "yaxis": "y15"
        },
        {
         "hoverlabel": {
          "namelength": 0
         },
         "hovertemplate": "variable=pct_2016<br>state_abbr=VT<br>year=%{x}<br>value=%{y}",
         "legendgroup": "pct_2016",
         "marker": {
          "color": "#EF553B",
          "symbol": "circle"
         },
         "mode": "markers",
         "name": "pct_2016",
         "showlegend": false,
         "type": "scatter",
         "x": [
          "2016"
         ],
         "xaxis": "x16",
         "y": [
          0.8885400313971743
         ],
         "yaxis": "y16"
        },
        {
         "hoverlabel": {
          "namelength": 0
         },
         "hovertemplate": "variable=pct_2016<br>state_abbr=VA<br>year=%{x}<br>value=%{y}",
         "legendgroup": "pct_2016",
         "marker": {
          "color": "#EF553B",
          "symbol": "circle"
         },
         "mode": "markers",
         "name": "pct_2016",
         "showlegend": false,
         "type": "scatter",
         "x": [
          "2016"
         ],
         "xaxis": "x17",
         "y": [
          0.9067516903258884
         ],
         "yaxis": "y17"
        },
        {
         "hoverlabel": {
          "namelength": 0
         },
         "hovertemplate": "variable=pct_2016<br>state_abbr=WA<br>year=%{x}<br>value=%{y}",
         "legendgroup": "pct_2016",
         "marker": {
          "color": "#EF553B",
          "symbol": "circle"
         },
         "mode": "markers",
         "name": "pct_2016",
         "showlegend": false,
         "type": "scatter",
         "x": [
          "2016"
         ],
         "xaxis": "x18",
         "y": [
          0.9296629457028287
         ],
         "yaxis": "y18"
        },
        {
         "hoverlabel": {
          "namelength": 0
         },
         "hovertemplate": "variable=pct_2016<br>state_abbr=WV<br>year=%{x}<br>value=%{y}",
         "legendgroup": "pct_2016",
         "marker": {
          "color": "#EF553B",
          "symbol": "circle"
         },
         "mode": "markers",
         "name": "pct_2016",
         "showlegend": false,
         "type": "scatter",
         "x": [
          "2016"
         ],
         "xaxis": "x19",
         "y": [
          0.8273092369477911
         ],
         "yaxis": "y19"
        },
        {
         "hoverlabel": {
          "namelength": 0
         },
         "hovertemplate": "variable=pct_2016<br>state_abbr=WI<br>year=%{x}<br>value=%{y}",
         "legendgroup": "pct_2016",
         "marker": {
          "color": "#EF553B",
          "symbol": "circle"
         },
         "mode": "markers",
         "name": "pct_2016",
         "showlegend": false,
         "type": "scatter",
         "x": [
          "2016"
         ],
         "xaxis": "x20",
         "y": [
          0.8879243661366566
         ],
         "yaxis": "y20"
        },
        {
         "hoverlabel": {
          "namelength": 0
         },
         "hovertemplate": "variable=pct_2016<br>state_abbr=WY<br>year=%{x}<br>value=%{y}",
         "legendgroup": "pct_2016",
         "marker": {
          "color": "#EF553B",
          "symbol": "circle"
         },
         "mode": "markers",
         "name": "pct_2016",
         "showlegend": false,
         "type": "scatter",
         "x": [
          "2016"
         ],
         "xaxis": "x",
         "y": [
          0.9038461538461539
         ],
         "yaxis": "y"
        },
        {
         "hoverlabel": {
          "namelength": 0
         },
         "hovertemplate": "variable=pct_2017<br>state_abbr=AL<br>year=%{x}<br>value=%{y}",
         "legendgroup": "pct_2017",
         "marker": {
          "color": "#00cc96",
          "symbol": "circle"
         },
         "mode": "markers",
         "name": "pct_2017",
         "showlegend": true,
         "type": "scatter",
         "x": [
          "2017"
         ],
         "xaxis": "x51",
         "y": [
          0.8596948471520878
         ],
         "yaxis": "y51"
        },
        {
         "hoverlabel": {
          "namelength": 0
         },
         "hovertemplate": "variable=pct_2017<br>state_abbr=AK<br>year=%{x}<br>value=%{y}",
         "legendgroup": "pct_2017",
         "marker": {
          "color": "#00cc96",
          "symbol": "circle"
         },
         "mode": "markers",
         "name": "pct_2017",
         "showlegend": false,
         "type": "scatter",
         "x": [
          "2017"
         ],
         "xaxis": "x52",
         "y": [
          0.9441563621858795
         ],
         "yaxis": "y52"
        },
        {
         "hoverlabel": {
          "namelength": 0
         },
         "hovertemplate": "variable=pct_2017<br>state_abbr=AZ<br>year=%{x}<br>value=%{y}",
         "legendgroup": "pct_2017",
         "marker": {
          "color": "#00cc96",
          "symbol": "circle"
         },
         "mode": "markers",
         "name": "pct_2017",
         "showlegend": false,
         "type": "scatter",
         "x": [
          "2017"
         ],
         "xaxis": "x53",
         "y": [
          0.9229533881707794
         ],
         "yaxis": "y53"
        },
        {
         "hoverlabel": {
          "namelength": 0
         },
         "hovertemplate": "variable=pct_2017<br>state_abbr=AR<br>year=%{x}<br>value=%{y}",
         "legendgroup": "pct_2017",
         "marker": {
          "color": "#00cc96",
          "symbol": "circle"
         },
         "mode": "markers",
         "name": "pct_2017",
         "showlegend": false,
         "type": "scatter",
         "x": [
          "2017"
         ],
         "xaxis": "x54",
         "y": [
          0.8608967132078744
         ],
         "yaxis": "y54"
        },
        {
         "hoverlabel": {
          "namelength": 0
         },
         "hovertemplate": "variable=pct_2017<br>state_abbr=CA<br>year=%{x}<br>value=%{y}",
         "legendgroup": "pct_2017",
         "marker": {
          "color": "#00cc96",
          "symbol": "circle"
         },
         "mode": "markers",
         "name": "pct_2017",
         "showlegend": false,
         "type": "scatter",
         "x": [
          "2017"
         ],
         "xaxis": "x55",
         "y": [
          0.9350562471645739
         ],
         "yaxis": "y55"
        },
        {
         "hoverlabel": {
          "namelength": 0
         },
         "hovertemplate": "variable=pct_2017<br>state_abbr=CO<br>year=%{x}<br>value=%{y}",
         "legendgroup": "pct_2017",
         "marker": {
          "color": "#00cc96",
          "symbol": "circle"
         },
         "mode": "markers",
         "name": "pct_2017",
         "showlegend": false,
         "type": "scatter",
         "x": [
          "2017"
         ],
         "xaxis": "x56",
         "y": [
          0.9425953627524308
         ],
         "yaxis": "y56"
        },
        {
         "hoverlabel": {
          "namelength": 0
         },
         "hovertemplate": "variable=pct_2017<br>state_abbr=CT<br>year=%{x}<br>value=%{y}",
         "legendgroup": "pct_2017",
         "marker": {
          "color": "#00cc96",
          "symbol": "circle"
         },
         "mode": "markers",
         "name": "pct_2017",
         "showlegend": false,
         "type": "scatter",
         "x": [
          "2017"
         ],
         "xaxis": "x57",
         "y": [
          0.9120725235849056
         ],
         "yaxis": "y57"
        },
        {
         "hoverlabel": {
          "namelength": 0
         },
         "hovertemplate": "variable=pct_2017<br>state_abbr=DE<br>year=%{x}<br>value=%{y}",
         "legendgroup": "pct_2017",
         "marker": {
          "color": "#00cc96",
          "symbol": "circle"
         },
         "mode": "markers",
         "name": "pct_2017",
         "showlegend": false,
         "type": "scatter",
         "x": [
          "2017"
         ],
         "xaxis": "x58",
         "y": [
          0.9348980162056441
         ],
         "yaxis": "y58"
        },
        {
         "hoverlabel": {
          "namelength": 0
         },
         "hovertemplate": "variable=pct_2017<br>state_abbr=DC<br>year=%{x}<br>value=%{y}",
         "legendgroup": "pct_2017",
         "marker": {
          "color": "#00cc96",
          "symbol": "circle"
         },
         "mode": "markers",
         "name": "pct_2017",
         "showlegend": false,
         "type": "scatter",
         "x": [
          "2017"
         ],
         "xaxis": "x59",
         "y": [
          0.9207815275310834
         ],
         "yaxis": "y59"
        },
        {
         "hoverlabel": {
          "namelength": 0
         },
         "hovertemplate": "variable=pct_2017<br>state_abbr=FL<br>year=%{x}<br>value=%{y}",
         "legendgroup": "pct_2017",
         "marker": {
          "color": "#00cc96",
          "symbol": "circle"
         },
         "mode": "markers",
         "name": "pct_2017",
         "showlegend": false,
         "type": "scatter",
         "x": [
          "2017"
         ],
         "xaxis": "x60",
         "y": [
          0.9198829648894669
         ],
         "yaxis": "y60"
        },
        {
         "hoverlabel": {
          "namelength": 0
         },
         "hovertemplate": "variable=pct_2017<br>state_abbr=GA<br>year=%{x}<br>value=%{y}",
         "legendgroup": "pct_2017",
         "marker": {
          "color": "#00cc96",
          "symbol": "circle"
         },
         "mode": "markers",
         "name": "pct_2017",
         "showlegend": false,
         "type": "scatter",
         "x": [
          "2017"
         ],
         "xaxis": "x41",
         "y": [
          0.9086539745267149
         ],
         "yaxis": "y41"
        },
        {
         "hoverlabel": {
          "namelength": 0
         },
         "hovertemplate": "variable=pct_2017<br>state_abbr=HI<br>year=%{x}<br>value=%{y}",
         "legendgroup": "pct_2017",
         "marker": {
          "color": "#00cc96",
          "symbol": "circle"
         },
         "mode": "markers",
         "name": "pct_2017",
         "showlegend": false,
         "type": "scatter",
         "x": [
          "2017"
         ],
         "xaxis": "x42",
         "y": [
          0.9098450120061122
         ],
         "yaxis": "y42"
        },
        {
         "hoverlabel": {
          "namelength": 0
         },
         "hovertemplate": "variable=pct_2017<br>state_abbr=ID<br>year=%{x}<br>value=%{y}",
         "legendgroup": "pct_2017",
         "marker": {
          "color": "#00cc96",
          "symbol": "circle"
         },
         "mode": "markers",
         "name": "pct_2017",
         "showlegend": false,
         "type": "scatter",
         "x": [
          "2017"
         ],
         "xaxis": "x43",
         "y": [
          0.9110542313229884
         ],
         "yaxis": "y43"
        },
        {
         "hoverlabel": {
          "namelength": 0
         },
         "hovertemplate": "variable=pct_2017<br>state_abbr=IL<br>year=%{x}<br>value=%{y}",
         "legendgroup": "pct_2017",
         "marker": {
          "color": "#00cc96",
          "symbol": "circle"
         },
         "mode": "markers",
         "name": "pct_2017",
         "showlegend": false,
         "type": "scatter",
         "x": [
          "2017"
         ],
         "xaxis": "x44",
         "y": [
          0.9031754944163704
         ],
         "yaxis": "y44"
        },
        {
         "hoverlabel": {
          "namelength": 0
         },
         "hovertemplate": "variable=pct_2017<br>state_abbr=IN<br>year=%{x}<br>value=%{y}",
         "legendgroup": "pct_2017",
         "marker": {
          "color": "#00cc96",
          "symbol": "circle"
         },
         "mode": "markers",
         "name": "pct_2017",
         "showlegend": false,
         "type": "scatter",
         "x": [
          "2017"
         ],
         "xaxis": "x45",
         "y": [
          0.8893755132366168
         ],
         "yaxis": "y45"
        },
        {
         "hoverlabel": {
          "namelength": 0
         },
         "hovertemplate": "variable=pct_2017<br>state_abbr=IA<br>year=%{x}<br>value=%{y}",
         "legendgroup": "pct_2017",
         "marker": {
          "color": "#00cc96",
          "symbol": "circle"
         },
         "mode": "markers",
         "name": "pct_2017",
         "showlegend": false,
         "type": "scatter",
         "x": [
          "2017"
         ],
         "xaxis": "x46",
         "y": [
          0.9003578528827038
         ],
         "yaxis": "y46"
        },
        {
         "hoverlabel": {
          "namelength": 0
         },
         "hovertemplate": "variable=pct_2017<br>state_abbr=KS<br>year=%{x}<br>value=%{y}",
         "legendgroup": "pct_2017",
         "marker": {
          "color": "#00cc96",
          "symbol": "circle"
         },
         "mode": "markers",
         "name": "pct_2017",
         "showlegend": false,
         "type": "scatter",
         "x": [
          "2017"
         ],
         "xaxis": "x47",
         "y": [
          0.9085916740478299
         ],
         "yaxis": "y47"
        },
        {
         "hoverlabel": {
          "namelength": 0
         },
         "hovertemplate": "variable=pct_2017<br>state_abbr=KY<br>year=%{x}<br>value=%{y}",
         "legendgroup": "pct_2017",
         "marker": {
          "color": "#00cc96",
          "symbol": "circle"
         },
         "mode": "markers",
         "name": "pct_2017",
         "showlegend": false,
         "type": "scatter",
         "x": [
          "2017"
         ],
         "xaxis": "x48",
         "y": [
          0.8616811594202899
         ],
         "yaxis": "y48"
        },
        {
         "hoverlabel": {
          "namelength": 0
         },
         "hovertemplate": "variable=pct_2017<br>state_abbr=LA<br>year=%{x}<br>value=%{y}",
         "legendgroup": "pct_2017",
         "marker": {
          "color": "#00cc96",
          "symbol": "circle"
         },
         "mode": "markers",
         "name": "pct_2017",
         "showlegend": false,
         "type": "scatter",
         "x": [
          "2017"
         ],
         "xaxis": "x49",
         "y": [
          0.8593057394508088
         ],
         "yaxis": "y49"
        },
        {
         "hoverlabel": {
          "namelength": 0
         },
         "hovertemplate": "variable=pct_2017<br>state_abbr=ME<br>year=%{x}<br>value=%{y}",
         "legendgroup": "pct_2017",
         "marker": {
          "color": "#00cc96",
          "symbol": "circle"
         },
         "mode": "markers",
         "name": "pct_2017",
         "showlegend": false,
         "type": "scatter",
         "x": [
          "2017"
         ],
         "xaxis": "x50",
         "y": [
          0.8968576709796673
         ],
         "yaxis": "y50"
        },
        {
         "hoverlabel": {
          "namelength": 0
         },
         "hovertemplate": "variable=pct_2017<br>state_abbr=MD<br>year=%{x}<br>value=%{y}",
         "legendgroup": "pct_2017",
         "marker": {
          "color": "#00cc96",
          "symbol": "circle"
         },
         "mode": "markers",
         "name": "pct_2017",
         "showlegend": false,
         "type": "scatter",
         "x": [
          "2017"
         ],
         "xaxis": "x31",
         "y": [
          0.9308657636025914
         ],
         "yaxis": "y31"
        },
        {
         "hoverlabel": {
          "namelength": 0
         },
         "hovertemplate": "variable=pct_2017<br>state_abbr=MA<br>year=%{x}<br>value=%{y}",
         "legendgroup": "pct_2017",
         "marker": {
          "color": "#00cc96",
          "symbol": "circle"
         },
         "mode": "markers",
         "name": "pct_2017",
         "showlegend": false,
         "type": "scatter",
         "x": [
          "2017"
         ],
         "xaxis": "x32",
         "y": [
          0.9141650671785029
         ],
         "yaxis": "y32"
        },
        {
         "hoverlabel": {
          "namelength": 0
         },
         "hovertemplate": "variable=pct_2017<br>state_abbr=MI<br>year=%{x}<br>value=%{y}",
         "legendgroup": "pct_2017",
         "marker": {
          "color": "#00cc96",
          "symbol": "circle"
         },
         "mode": "markers",
         "name": "pct_2017",
         "showlegend": false,
         "type": "scatter",
         "x": [
          "2017"
         ],
         "xaxis": "x33",
         "y": [
          0.8995419847328244
         ],
         "yaxis": "y33"
        },
        {
         "hoverlabel": {
          "namelength": 0
         },
         "hovertemplate": "variable=pct_2017<br>state_abbr=MN<br>year=%{x}<br>value=%{y}",
         "legendgroup": "pct_2017",
         "marker": {
          "color": "#00cc96",
          "symbol": "circle"
         },
         "mode": "markers",
         "name": "pct_2017",
         "showlegend": false,
         "type": "scatter",
         "x": [
          "2017"
         ],
         "xaxis": "x34",
         "y": [
          0.9209138840070299
         ],
         "yaxis": "y34"
        },
        {
         "hoverlabel": {
          "namelength": 0
         },
         "hovertemplate": "variable=pct_2017<br>state_abbr=MS<br>year=%{x}<br>value=%{y}",
         "legendgroup": "pct_2017",
         "marker": {
          "color": "#00cc96",
          "symbol": "circle"
         },
         "mode": "markers",
         "name": "pct_2017",
         "showlegend": false,
         "type": "scatter",
         "x": [
          "2017"
         ],
         "xaxis": "x35",
         "y": [
          0.844047619047619
         ],
         "yaxis": "y35"
        },
        {
         "hoverlabel": {
          "namelength": 0
         },
         "hovertemplate": "variable=pct_2017<br>state_abbr=MO<br>year=%{x}<br>value=%{y}",
         "legendgroup": "pct_2017",
         "marker": {
          "color": "#00cc96",
          "symbol": "circle"
         },
         "mode": "markers",
         "name": "pct_2017",
         "showlegend": false,
         "type": "scatter",
         "x": [
          "2017"
         ],
         "xaxis": "x36",
         "y": [
          0.8976562827554401
         ],
         "yaxis": "y36"
        },
        {
         "hoverlabel": {
          "namelength": 0
         },
         "hovertemplate": "variable=pct_2017<br>state_abbr=MT<br>year=%{x}<br>value=%{y}",
         "legendgroup": "pct_2017",
         "marker": {
          "color": "#00cc96",
          "symbol": "circle"
         },
         "mode": "markers",
         "name": "pct_2017",
         "showlegend": false,
         "type": "scatter",
         "x": [
          "2017"
         ],
         "xaxis": "x37",
         "y": [
          0.8761522098794611
         ],
         "yaxis": "y37"
        },
        {
         "hoverlabel": {
          "namelength": 0
         },
         "hovertemplate": "variable=pct_2017<br>state_abbr=NE<br>year=%{x}<br>value=%{y}",
         "legendgroup": "pct_2017",
         "marker": {
          "color": "#00cc96",
          "symbol": "circle"
         },
         "mode": "markers",
         "name": "pct_2017",
         "showlegend": false,
         "type": "scatter",
         "x": [
          "2017"
         ],
         "xaxis": "x38",
         "y": [
          0.912259774685222
         ],
         "yaxis": "y38"
        },
        {
         "hoverlabel": {
          "namelength": 0
         },
         "hovertemplate": "variable=pct_2017<br>state_abbr=NV<br>year=%{x}<br>value=%{y}",
         "legendgroup": "pct_2017",
         "marker": {
          "color": "#00cc96",
          "symbol": "circle"
         },
         "mode": "markers",
         "name": "pct_2017",
         "showlegend": false,
         "type": "scatter",
         "x": [
          "2017"
         ],
         "xaxis": "x39",
         "y": [
          0.9322126804312078
         ],
         "yaxis": "y39"
        },
        {
         "hoverlabel": {
          "namelength": 0
         },
         "hovertemplate": "variable=pct_2017<br>state_abbr=NH<br>year=%{x}<br>value=%{y}",
         "legendgroup": "pct_2017",
         "marker": {
          "color": "#00cc96",
          "symbol": "circle"
         },
         "mode": "markers",
         "name": "pct_2017",
         "showlegend": false,
         "type": "scatter",
         "x": [
          "2017"
         ],
         "xaxis": "x40",
         "y": [
          0.9398524683185171
         ],
         "yaxis": "y40"
        },
        {
         "hoverlabel": {
          "namelength": 0
         },
         "hovertemplate": "variable=pct_2017<br>state_abbr=NJ<br>year=%{x}<br>value=%{y}",
         "legendgroup": "pct_2017",
         "marker": {
          "color": "#00cc96",
          "symbol": "circle"
         },
         "mode": "markers",
         "name": "pct_2017",
         "showlegend": false,
         "type": "scatter",
         "x": [
          "2017"
         ],
         "xaxis": "x21",
         "y": [
          0.925686591276252
         ],
         "yaxis": "y21"
        },
        {
         "hoverlabel": {
          "namelength": 0
         },
         "hovertemplate": "variable=pct_2017<br>state_abbr=NM<br>year=%{x}<br>value=%{y}",
         "legendgroup": "pct_2017",
         "marker": {
          "color": "#00cc96",
          "symbol": "circle"
         },
         "mode": "markers",
         "name": "pct_2017",
         "showlegend": false,
         "type": "scatter",
         "x": [
          "2017"
         ],
         "xaxis": "x22",
         "y": [
          0.8581477139507621
         ],
         "yaxis": "y22"
        },
        {
         "hoverlabel": {
          "namelength": 0
         },
         "hovertemplate": "variable=pct_2017<br>state_abbr=NY<br>year=%{x}<br>value=%{y}",
         "legendgroup": "pct_2017",
         "marker": {
          "color": "#00cc96",
          "symbol": "circle"
         },
         "mode": "markers",
         "name": "pct_2017",
         "showlegend": false,
         "type": "scatter",
         "x": [
          "2017"
         ],
         "xaxis": "x23",
         "y": [
          0.9006338731979793
         ],
         "yaxis": "y23"
        },
        {
         "hoverlabel": {
          "namelength": 0
         },
         "hovertemplate": "variable=pct_2017<br>state_abbr=NC<br>year=%{x}<br>value=%{y}",
         "legendgroup": "pct_2017",
         "marker": {
          "color": "#00cc96",
          "symbol": "circle"
         },
         "mode": "markers",
         "name": "pct_2017",
         "showlegend": false,
         "type": "scatter",
         "x": [
          "2017"
         ],
         "xaxis": "x24",
         "y": [
          0.8954008748198529
         ],
         "yaxis": "y24"
        },
        {
         "hoverlabel": {
          "namelength": 0
         },
         "hovertemplate": "variable=pct_2017<br>state_abbr=ND<br>year=%{x}<br>value=%{y}",
         "legendgroup": "pct_2017",
         "marker": {
          "color": "#00cc96",
          "symbol": "circle"
         },
         "mode": "markers",
         "name": "pct_2017",
         "showlegend": false,
         "type": "scatter",
         "x": [
          "2017"
         ],
         "xaxis": "x25",
         "y": [
          0.9035725576983876
         ],
         "yaxis": "y25"
        },
        {
         "hoverlabel": {
          "namelength": 0
         },
         "hovertemplate": "variable=pct_2017<br>state_abbr=OH<br>year=%{x}<br>value=%{y}",
         "legendgroup": "pct_2017",
         "marker": {
          "color": "#00cc96",
          "symbol": "circle"
         },
         "mode": "markers",
         "name": "pct_2017",
         "showlegend": false,
         "type": "scatter",
         "x": [
          "2017"
         ],
         "xaxis": "x26",
         "y": [
          0.8961261570106274
         ],
         "yaxis": "y26"
        },
        {
         "hoverlabel": {
          "namelength": 0
         },
         "hovertemplate": "variable=pct_2017<br>state_abbr=OK<br>year=%{x}<br>value=%{y}",
         "legendgroup": "pct_2017",
         "marker": {
          "color": "#00cc96",
          "symbol": "circle"
         },
         "mode": "markers",
         "name": "pct_2017",
         "showlegend": false,
         "type": "scatter",
         "x": [
          "2017"
         ],
         "xaxis": "x27",
         "y": [
          0.8941784548422198
         ],
         "yaxis": "y27"
        },
        {
         "hoverlabel": {
          "namelength": 0
         },
         "hovertemplate": "variable=pct_2017<br>state_abbr=OR<br>year=%{x}<br>value=%{y}",
         "legendgroup": "pct_2017",
         "marker": {
          "color": "#00cc96",
          "symbol": "circle"
         },
         "mode": "markers",
         "name": "pct_2017",
         "showlegend": false,
         "type": "scatter",
         "x": [
          "2017"
         ],
         "xaxis": "x28",
         "y": [
          0.9322773759042156
         ],
         "yaxis": "y28"
        },
        {
         "hoverlabel": {
          "namelength": 0
         },
         "hovertemplate": "variable=pct_2017<br>state_abbr=PA<br>year=%{x}<br>value=%{y}",
         "legendgroup": "pct_2017",
         "marker": {
          "color": "#00cc96",
          "symbol": "circle"
         },
         "mode": "markers",
         "name": "pct_2017",
         "showlegend": false,
         "type": "scatter",
         "x": [
          "2017"
         ],
         "xaxis": "x29",
         "y": [
          0.8798913911515732
         ],
         "yaxis": "y29"
        },
        {
         "hoverlabel": {
          "namelength": 0
         },
         "hovertemplate": "variable=pct_2017<br>state_abbr=RI<br>year=%{x}<br>value=%{y}",
         "legendgroup": "pct_2017",
         "marker": {
          "color": "#00cc96",
          "symbol": "circle"
         },
         "mode": "markers",
         "name": "pct_2017",
         "showlegend": false,
         "type": "scatter",
         "x": [
          "2017"
         ],
         "xaxis": "x30",
         "y": [
          0.8970156555772995
         ],
         "yaxis": "y30"
        },
        {
         "hoverlabel": {
          "namelength": 0
         },
         "hovertemplate": "variable=pct_2017<br>state_abbr=SC<br>year=%{x}<br>value=%{y}",
         "legendgroup": "pct_2017",
         "marker": {
          "color": "#00cc96",
          "symbol": "circle"
         },
         "mode": "markers",
         "name": "pct_2017",
         "showlegend": false,
         "type": "scatter",
         "x": [
          "2017"
         ],
         "xaxis": "x11",
         "y": [
          0.8853078578552307
         ],
         "yaxis": "y11"
        },
        {
         "hoverlabel": {
          "namelength": 0
         },
         "hovertemplate": "variable=pct_2017<br>state_abbr=SD<br>year=%{x}<br>value=%{y}",
         "legendgroup": "pct_2017",
         "marker": {
          "color": "#00cc96",
          "symbol": "circle"
         },
         "mode": "markers",
         "name": "pct_2017",
         "showlegend": false,
         "type": "scatter",
         "x": [
          "2017"
         ],
         "xaxis": "x12",
         "y": [
          0.8759802497821667
         ],
         "yaxis": "y12"
        },
        {
         "hoverlabel": {
          "namelength": 0
         },
         "hovertemplate": "variable=pct_2017<br>state_abbr=TN<br>year=%{x}<br>value=%{y}",
         "legendgroup": "pct_2017",
         "marker": {
          "color": "#00cc96",
          "symbol": "circle"
         },
         "mode": "markers",
         "name": "pct_2017",
         "showlegend": false,
         "type": "scatter",
         "x": [
          "2017"
         ],
         "xaxis": "x13",
         "y": [
          0.8759995364468652
         ],
         "yaxis": "y13"
        },
        {
         "hoverlabel": {
          "namelength": 0
         },
         "hovertemplate": "variable=pct_2017<br>state_abbr=TX<br>year=%{x}<br>value=%{y}",
         "legendgroup": "pct_2017",
         "marker": {
          "color": "#00cc96",
          "symbol": "circle"
         },
         "mode": "markers",
         "name": "pct_2017",
         "showlegend": false,
         "type": "scatter",
         "x": [
          "2017"
         ],
         "xaxis": "x14",
         "y": [
          0.9176217541745031
         ],
         "yaxis": "y14"
        },
        {
         "hoverlabel": {
          "namelength": 0
         },
         "hovertemplate": "variable=pct_2017<br>state_abbr=UT<br>year=%{x}<br>value=%{y}",
         "legendgroup": "pct_2017",
         "marker": {
          "color": "#00cc96",
          "symbol": "circle"
         },
         "mode": "markers",
         "name": "pct_2017",
         "showlegend": false,
         "type": "scatter",
         "x": [
          "2017"
         ],
         "xaxis": "x15",
         "y": [
          0.9558129997949559
         ],
         "yaxis": "y15"
        },
        {
         "hoverlabel": {
          "namelength": 0
         },
         "hovertemplate": "variable=pct_2017<br>state_abbr=VT<br>year=%{x}<br>value=%{y}",
         "legendgroup": "pct_2017",
         "marker": {
          "color": "#00cc96",
          "symbol": "circle"
         },
         "mode": "markers",
         "name": "pct_2017",
         "showlegend": false,
         "type": "scatter",
         "x": [
          "2017"
         ],
         "xaxis": "x16",
         "y": [
          0.8897116134060795
         ],
         "yaxis": "y16"
        },
        {
         "hoverlabel": {
          "namelength": 0
         },
         "hovertemplate": "variable=pct_2017<br>state_abbr=VA<br>year=%{x}<br>value=%{y}",
         "legendgroup": "pct_2017",
         "marker": {
          "color": "#00cc96",
          "symbol": "circle"
         },
         "mode": "markers",
         "name": "pct_2017",
         "showlegend": false,
         "type": "scatter",
         "x": [
          "2017"
         ],
         "xaxis": "x17",
         "y": [
          0.9167227402351885
         ],
         "yaxis": "y17"
        },
        {
         "hoverlabel": {
          "namelength": 0
         },
         "hovertemplate": "variable=pct_2017<br>state_abbr=WA<br>year=%{x}<br>value=%{y}",
         "legendgroup": "pct_2017",
         "marker": {
          "color": "#00cc96",
          "symbol": "circle"
         },
         "mode": "markers",
         "name": "pct_2017",
         "showlegend": false,
         "type": "scatter",
         "x": [
          "2017"
         ],
         "xaxis": "x18",
         "y": [
          0.9420152091254753
         ],
         "yaxis": "y18"
        },
        {
         "hoverlabel": {
          "namelength": 0
         },
         "hovertemplate": "variable=pct_2017<br>state_abbr=WV<br>year=%{x}<br>value=%{y}",
         "legendgroup": "pct_2017",
         "marker": {
          "color": "#00cc96",
          "symbol": "circle"
         },
         "mode": "markers",
         "name": "pct_2017",
         "showlegend": false,
         "type": "scatter",
         "x": [
          "2017"
         ],
         "xaxis": "x19",
         "y": [
          0.8474765832517824
         ],
         "yaxis": "y19"
        },
        {
         "hoverlabel": {
          "namelength": 0
         },
         "hovertemplate": "variable=pct_2017<br>state_abbr=WI<br>year=%{x}<br>value=%{y}",
         "legendgroup": "pct_2017",
         "marker": {
          "color": "#00cc96",
          "symbol": "circle"
         },
         "mode": "markers",
         "name": "pct_2017",
         "showlegend": false,
         "type": "scatter",
         "x": [
          "2017"
         ],
         "xaxis": "x20",
         "y": [
          0.8931200272305663
         ],
         "yaxis": "y20"
        },
        {
         "hoverlabel": {
          "namelength": 0
         },
         "hovertemplate": "variable=pct_2017<br>state_abbr=WY<br>year=%{x}<br>value=%{y}",
         "legendgroup": "pct_2017",
         "marker": {
          "color": "#00cc96",
          "symbol": "circle"
         },
         "mode": "markers",
         "name": "pct_2017",
         "showlegend": false,
         "type": "scatter",
         "x": [
          "2017"
         ],
         "xaxis": "x",
         "y": [
          0.9140832595217007
         ],
         "yaxis": "y"
        }
       ],
       "layout": {
        "annotations": [
         {
          "font": {},
          "showarrow": false,
          "text": "WY",
          "x": 0.04100000000000001,
          "xanchor": "center",
          "xref": "paper",
          "y": 0.10833333333333331,
          "yanchor": "bottom",
          "yref": "paper"
         },
         {
          "font": {},
          "showarrow": false,
          "text": "SC",
          "x": 0.04100000000000001,
          "xanchor": "center",
          "xref": "paper",
          "y": 0.2866666666666666,
          "yanchor": "bottom",
          "yref": "paper"
         },
         {
          "font": {},
          "showarrow": false,
          "text": "SD",
          "x": 0.14300000000000004,
          "xanchor": "center",
          "xref": "paper",
          "y": 0.2866666666666666,
          "yanchor": "bottom",
          "yref": "paper"
         },
         {
          "font": {},
          "showarrow": false,
          "text": "TN",
          "x": 0.24500000000000005,
          "xanchor": "center",
          "xref": "paper",
          "y": 0.2866666666666666,
          "yanchor": "bottom",
          "yref": "paper"
         },
         {
          "font": {},
          "showarrow": false,
          "text": "TX",
          "x": 0.3470000000000001,
          "xanchor": "center",
          "xref": "paper",
          "y": 0.2866666666666666,
          "yanchor": "bottom",
          "yref": "paper"
         },
         {
          "font": {},
          "showarrow": false,
          "text": "UT",
          "x": 0.44900000000000007,
          "xanchor": "center",
          "xref": "paper",
          "y": 0.2866666666666666,
          "yanchor": "bottom",
          "yref": "paper"
         },
         {
          "font": {},
          "showarrow": false,
          "text": "VT",
          "x": 0.5510000000000002,
          "xanchor": "center",
          "xref": "paper",
          "y": 0.2866666666666666,
          "yanchor": "bottom",
          "yref": "paper"
         },
         {
          "font": {},
          "showarrow": false,
          "text": "VA",
          "x": 0.6530000000000001,
          "xanchor": "center",
          "xref": "paper",
          "y": 0.2866666666666666,
          "yanchor": "bottom",
          "yref": "paper"
         },
         {
          "font": {},
          "showarrow": false,
          "text": "WA",
          "x": 0.7550000000000001,
          "xanchor": "center",
          "xref": "paper",
          "y": 0.2866666666666666,
          "yanchor": "bottom",
          "yref": "paper"
         },
         {
          "font": {},
          "showarrow": false,
          "text": "WV",
          "x": 0.8570000000000002,
          "xanchor": "center",
          "xref": "paper",
          "y": 0.2866666666666666,
          "yanchor": "bottom",
          "yref": "paper"
         },
         {
          "font": {},
          "showarrow": false,
          "text": "WI",
          "x": 0.9590000000000002,
          "xanchor": "center",
          "xref": "paper",
          "y": 0.2866666666666666,
          "yanchor": "bottom",
          "yref": "paper"
         },
         {
          "font": {},
          "showarrow": false,
          "text": "NJ",
          "x": 0.04100000000000001,
          "xanchor": "center",
          "xref": "paper",
          "y": 0.46499999999999997,
          "yanchor": "bottom",
          "yref": "paper"
         },
         {
          "font": {},
          "showarrow": false,
          "text": "NM",
          "x": 0.14300000000000004,
          "xanchor": "center",
          "xref": "paper",
          "y": 0.46499999999999997,
          "yanchor": "bottom",
          "yref": "paper"
         },
         {
          "font": {},
          "showarrow": false,
          "text": "NY",
          "x": 0.24500000000000005,
          "xanchor": "center",
          "xref": "paper",
          "y": 0.46499999999999997,
          "yanchor": "bottom",
          "yref": "paper"
         },
         {
          "font": {},
          "showarrow": false,
          "text": "NC",
          "x": 0.3470000000000001,
          "xanchor": "center",
          "xref": "paper",
          "y": 0.46499999999999997,
          "yanchor": "bottom",
          "yref": "paper"
         },
         {
          "font": {},
          "showarrow": false,
          "text": "ND",
          "x": 0.44900000000000007,
          "xanchor": "center",
          "xref": "paper",
          "y": 0.46499999999999997,
          "yanchor": "bottom",
          "yref": "paper"
         },
         {
          "font": {},
          "showarrow": false,
          "text": "OH",
          "x": 0.5510000000000002,
          "xanchor": "center",
          "xref": "paper",
          "y": 0.46499999999999997,
          "yanchor": "bottom",
          "yref": "paper"
         },
         {
          "font": {},
          "showarrow": false,
          "text": "OK",
          "x": 0.6530000000000001,
          "xanchor": "center",
          "xref": "paper",
          "y": 0.46499999999999997,
          "yanchor": "bottom",
          "yref": "paper"
         },
         {
          "font": {},
          "showarrow": false,
          "text": "OR",
          "x": 0.7550000000000001,
          "xanchor": "center",
          "xref": "paper",
          "y": 0.46499999999999997,
          "yanchor": "bottom",
          "yref": "paper"
         },
         {
          "font": {},
          "showarrow": false,
          "text": "PA",
          "x": 0.8570000000000002,
          "xanchor": "center",
          "xref": "paper",
          "y": 0.46499999999999997,
          "yanchor": "bottom",
          "yref": "paper"
         },
         {
          "font": {},
          "showarrow": false,
          "text": "RI",
          "x": 0.9590000000000002,
          "xanchor": "center",
          "xref": "paper",
          "y": 0.46499999999999997,
          "yanchor": "bottom",
          "yref": "paper"
         },
         {
          "font": {},
          "showarrow": false,
          "text": "MD",
          "x": 0.04100000000000001,
          "xanchor": "center",
          "xref": "paper",
          "y": 0.6433333333333332,
          "yanchor": "bottom",
          "yref": "paper"
         },
         {
          "font": {},
          "showarrow": false,
          "text": "MA",
          "x": 0.14300000000000004,
          "xanchor": "center",
          "xref": "paper",
          "y": 0.6433333333333332,
          "yanchor": "bottom",
          "yref": "paper"
         },
         {
          "font": {},
          "showarrow": false,
          "text": "MI",
          "x": 0.24500000000000005,
          "xanchor": "center",
          "xref": "paper",
          "y": 0.6433333333333332,
          "yanchor": "bottom",
          "yref": "paper"
         },
         {
          "font": {},
          "showarrow": false,
          "text": "MN",
          "x": 0.3470000000000001,
          "xanchor": "center",
          "xref": "paper",
          "y": 0.6433333333333332,
          "yanchor": "bottom",
          "yref": "paper"
         },
         {
          "font": {},
          "showarrow": false,
          "text": "MS",
          "x": 0.44900000000000007,
          "xanchor": "center",
          "xref": "paper",
          "y": 0.6433333333333332,
          "yanchor": "bottom",
          "yref": "paper"
         },
         {
          "font": {},
          "showarrow": false,
          "text": "MO",
          "x": 0.5510000000000002,
          "xanchor": "center",
          "xref": "paper",
          "y": 0.6433333333333332,
          "yanchor": "bottom",
          "yref": "paper"
         },
         {
          "font": {},
          "showarrow": false,
          "text": "MT",
          "x": 0.6530000000000001,
          "xanchor": "center",
          "xref": "paper",
          "y": 0.6433333333333332,
          "yanchor": "bottom",
          "yref": "paper"
         },
         {
          "font": {},
          "showarrow": false,
          "text": "NE",
          "x": 0.7550000000000001,
          "xanchor": "center",
          "xref": "paper",
          "y": 0.6433333333333332,
          "yanchor": "bottom",
          "yref": "paper"
         },
         {
          "font": {},
          "showarrow": false,
          "text": "NV",
          "x": 0.8570000000000002,
          "xanchor": "center",
          "xref": "paper",
          "y": 0.6433333333333332,
          "yanchor": "bottom",
          "yref": "paper"
         },
         {
          "font": {},
          "showarrow": false,
          "text": "NH",
          "x": 0.9590000000000002,
          "xanchor": "center",
          "xref": "paper",
          "y": 0.6433333333333332,
          "yanchor": "bottom",
          "yref": "paper"
         },
         {
          "font": {},
          "showarrow": false,
          "text": "GA",
          "x": 0.04100000000000001,
          "xanchor": "center",
          "xref": "paper",
          "y": 0.8216666666666665,
          "yanchor": "bottom",
          "yref": "paper"
         },
         {
          "font": {},
          "showarrow": false,
          "text": "HI",
          "x": 0.14300000000000004,
          "xanchor": "center",
          "xref": "paper",
          "y": 0.8216666666666665,
          "yanchor": "bottom",
          "yref": "paper"
         },
         {
          "font": {},
          "showarrow": false,
          "text": "ID",
          "x": 0.24500000000000005,
          "xanchor": "center",
          "xref": "paper",
          "y": 0.8216666666666665,
          "yanchor": "bottom",
          "yref": "paper"
         },
         {
          "font": {},
          "showarrow": false,
          "text": "IL",
          "x": 0.3470000000000001,
          "xanchor": "center",
          "xref": "paper",
          "y": 0.8216666666666665,
          "yanchor": "bottom",
          "yref": "paper"
         },
         {
          "font": {},
          "showarrow": false,
          "text": "IN",
          "x": 0.44900000000000007,
          "xanchor": "center",
          "xref": "paper",
          "y": 0.8216666666666665,
          "yanchor": "bottom",
          "yref": "paper"
         },
         {
          "font": {},
          "showarrow": false,
          "text": "IA",
          "x": 0.5510000000000002,
          "xanchor": "center",
          "xref": "paper",
          "y": 0.8216666666666665,
          "yanchor": "bottom",
          "yref": "paper"
         },
         {
          "font": {},
          "showarrow": false,
          "text": "KS",
          "x": 0.6530000000000001,
          "xanchor": "center",
          "xref": "paper",
          "y": 0.8216666666666665,
          "yanchor": "bottom",
          "yref": "paper"
         },
         {
          "font": {},
          "showarrow": false,
          "text": "KY",
          "x": 0.7550000000000001,
          "xanchor": "center",
          "xref": "paper",
          "y": 0.8216666666666665,
          "yanchor": "bottom",
          "yref": "paper"
         },
         {
          "font": {},
          "showarrow": false,
          "text": "LA",
          "x": 0.8570000000000002,
          "xanchor": "center",
          "xref": "paper",
          "y": 0.8216666666666665,
          "yanchor": "bottom",
          "yref": "paper"
         },
         {
          "font": {},
          "showarrow": false,
          "text": "ME",
          "x": 0.9590000000000002,
          "xanchor": "center",
          "xref": "paper",
          "y": 0.8216666666666665,
          "yanchor": "bottom",
          "yref": "paper"
         },
         {
          "font": {},
          "showarrow": false,
          "text": "AL",
          "x": 0.04100000000000001,
          "xanchor": "center",
          "xref": "paper",
          "y": 0.9999999999999999,
          "yanchor": "bottom",
          "yref": "paper"
         },
         {
          "font": {},
          "showarrow": false,
          "text": "AK",
          "x": 0.14300000000000004,
          "xanchor": "center",
          "xref": "paper",
          "y": 0.9999999999999999,
          "yanchor": "bottom",
          "yref": "paper"
         },
         {
          "font": {},
          "showarrow": false,
          "text": "AZ",
          "x": 0.24500000000000005,
          "xanchor": "center",
          "xref": "paper",
          "y": 0.9999999999999999,
          "yanchor": "bottom",
          "yref": "paper"
         },
         {
          "font": {},
          "showarrow": false,
          "text": "AR",
          "x": 0.3470000000000001,
          "xanchor": "center",
          "xref": "paper",
          "y": 0.9999999999999999,
          "yanchor": "bottom",
          "yref": "paper"
         },
         {
          "font": {},
          "showarrow": false,
          "text": "CA",
          "x": 0.44900000000000007,
          "xanchor": "center",
          "xref": "paper",
          "y": 0.9999999999999999,
          "yanchor": "bottom",
          "yref": "paper"
         },
         {
          "font": {},
          "showarrow": false,
          "text": "CO",
          "x": 0.5510000000000002,
          "xanchor": "center",
          "xref": "paper",
          "y": 0.9999999999999999,
          "yanchor": "bottom",
          "yref": "paper"
         },
         {
          "font": {},
          "showarrow": false,
          "text": "CT",
          "x": 0.6530000000000001,
          "xanchor": "center",
          "xref": "paper",
          "y": 0.9999999999999999,
          "yanchor": "bottom",
          "yref": "paper"
         },
         {
          "font": {},
          "showarrow": false,
          "text": "DE",
          "x": 0.7550000000000001,
          "xanchor": "center",
          "xref": "paper",
          "y": 0.9999999999999999,
          "yanchor": "bottom",
          "yref": "paper"
         },
         {
          "font": {},
          "showarrow": false,
          "text": "DC",
          "x": 0.8570000000000002,
          "xanchor": "center",
          "xref": "paper",
          "y": 0.9999999999999999,
          "yanchor": "bottom",
          "yref": "paper"
         },
         {
          "font": {},
          "showarrow": false,
          "text": "FL",
          "x": 0.9590000000000002,
          "xanchor": "center",
          "xref": "paper",
          "y": 0.9999999999999999,
          "yanchor": "bottom",
          "yref": "paper"
         }
        ],
        "legend": {
         "title": {
          "text": "variable"
         },
         "tracegroupgap": 0
        },
        "margin": {
         "t": 60
        },
        "template": {
         "data": {
          "bar": [
           {
            "error_x": {
             "color": "#2a3f5f"
            },
            "error_y": {
             "color": "#2a3f5f"
            },
            "marker": {
             "line": {
              "color": "#E5ECF6",
              "width": 0.5
             }
            },
            "type": "bar"
           }
          ],
          "barpolar": [
           {
            "marker": {
             "line": {
              "color": "#E5ECF6",
              "width": 0.5
             }
            },
            "type": "barpolar"
           }
          ],
          "carpet": [
           {
            "aaxis": {
             "endlinecolor": "#2a3f5f",
             "gridcolor": "white",
             "linecolor": "white",
             "minorgridcolor": "white",
             "startlinecolor": "#2a3f5f"
            },
            "baxis": {
             "endlinecolor": "#2a3f5f",
             "gridcolor": "white",
             "linecolor": "white",
             "minorgridcolor": "white",
             "startlinecolor": "#2a3f5f"
            },
            "type": "carpet"
           }
          ],
          "choropleth": [
           {
            "colorbar": {
             "outlinewidth": 0,
             "ticks": ""
            },
            "type": "choropleth"
           }
          ],
          "contour": [
           {
            "colorbar": {
             "outlinewidth": 0,
             "ticks": ""
            },
            "colorscale": [
             [
              0,
              "#0d0887"
             ],
             [
              0.1111111111111111,
              "#46039f"
             ],
             [
              0.2222222222222222,
              "#7201a8"
             ],
             [
              0.3333333333333333,
              "#9c179e"
             ],
             [
              0.4444444444444444,
              "#bd3786"
             ],
             [
              0.5555555555555556,
              "#d8576b"
             ],
             [
              0.6666666666666666,
              "#ed7953"
             ],
             [
              0.7777777777777778,
              "#fb9f3a"
             ],
             [
              0.8888888888888888,
              "#fdca26"
             ],
             [
              1,
              "#f0f921"
             ]
            ],
            "type": "contour"
           }
          ],
          "contourcarpet": [
           {
            "colorbar": {
             "outlinewidth": 0,
             "ticks": ""
            },
            "type": "contourcarpet"
           }
          ],
          "heatmap": [
           {
            "colorbar": {
             "outlinewidth": 0,
             "ticks": ""
            },
            "colorscale": [
             [
              0,
              "#0d0887"
             ],
             [
              0.1111111111111111,
              "#46039f"
             ],
             [
              0.2222222222222222,
              "#7201a8"
             ],
             [
              0.3333333333333333,
              "#9c179e"
             ],
             [
              0.4444444444444444,
              "#bd3786"
             ],
             [
              0.5555555555555556,
              "#d8576b"
             ],
             [
              0.6666666666666666,
              "#ed7953"
             ],
             [
              0.7777777777777778,
              "#fb9f3a"
             ],
             [
              0.8888888888888888,
              "#fdca26"
             ],
             [
              1,
              "#f0f921"
             ]
            ],
            "type": "heatmap"
           }
          ],
          "heatmapgl": [
           {
            "colorbar": {
             "outlinewidth": 0,
             "ticks": ""
            },
            "colorscale": [
             [
              0,
              "#0d0887"
             ],
             [
              0.1111111111111111,
              "#46039f"
             ],
             [
              0.2222222222222222,
              "#7201a8"
             ],
             [
              0.3333333333333333,
              "#9c179e"
             ],
             [
              0.4444444444444444,
              "#bd3786"
             ],
             [
              0.5555555555555556,
              "#d8576b"
             ],
             [
              0.6666666666666666,
              "#ed7953"
             ],
             [
              0.7777777777777778,
              "#fb9f3a"
             ],
             [
              0.8888888888888888,
              "#fdca26"
             ],
             [
              1,
              "#f0f921"
             ]
            ],
            "type": "heatmapgl"
           }
          ],
          "histogram": [
           {
            "marker": {
             "colorbar": {
              "outlinewidth": 0,
              "ticks": ""
             }
            },
            "type": "histogram"
           }
          ],
          "histogram2d": [
           {
            "colorbar": {
             "outlinewidth": 0,
             "ticks": ""
            },
            "colorscale": [
             [
              0,
              "#0d0887"
             ],
             [
              0.1111111111111111,
              "#46039f"
             ],
             [
              0.2222222222222222,
              "#7201a8"
             ],
             [
              0.3333333333333333,
              "#9c179e"
             ],
             [
              0.4444444444444444,
              "#bd3786"
             ],
             [
              0.5555555555555556,
              "#d8576b"
             ],
             [
              0.6666666666666666,
              "#ed7953"
             ],
             [
              0.7777777777777778,
              "#fb9f3a"
             ],
             [
              0.8888888888888888,
              "#fdca26"
             ],
             [
              1,
              "#f0f921"
             ]
            ],
            "type": "histogram2d"
           }
          ],
          "histogram2dcontour": [
           {
            "colorbar": {
             "outlinewidth": 0,
             "ticks": ""
            },
            "colorscale": [
             [
              0,
              "#0d0887"
             ],
             [
              0.1111111111111111,
              "#46039f"
             ],
             [
              0.2222222222222222,
              "#7201a8"
             ],
             [
              0.3333333333333333,
              "#9c179e"
             ],
             [
              0.4444444444444444,
              "#bd3786"
             ],
             [
              0.5555555555555556,
              "#d8576b"
             ],
             [
              0.6666666666666666,
              "#ed7953"
             ],
             [
              0.7777777777777778,
              "#fb9f3a"
             ],
             [
              0.8888888888888888,
              "#fdca26"
             ],
             [
              1,
              "#f0f921"
             ]
            ],
            "type": "histogram2dcontour"
           }
          ],
          "mesh3d": [
           {
            "colorbar": {
             "outlinewidth": 0,
             "ticks": ""
            },
            "type": "mesh3d"
           }
          ],
          "parcoords": [
           {
            "line": {
             "colorbar": {
              "outlinewidth": 0,
              "ticks": ""
             }
            },
            "type": "parcoords"
           }
          ],
          "pie": [
           {
            "automargin": true,
            "type": "pie"
           }
          ],
          "scatter": [
           {
            "marker": {
             "colorbar": {
              "outlinewidth": 0,
              "ticks": ""
             }
            },
            "type": "scatter"
           }
          ],
          "scatter3d": [
           {
            "line": {
             "colorbar": {
              "outlinewidth": 0,
              "ticks": ""
             }
            },
            "marker": {
             "colorbar": {
              "outlinewidth": 0,
              "ticks": ""
             }
            },
            "type": "scatter3d"
           }
          ],
          "scattercarpet": [
           {
            "marker": {
             "colorbar": {
              "outlinewidth": 0,
              "ticks": ""
             }
            },
            "type": "scattercarpet"
           }
          ],
          "scattergeo": [
           {
            "marker": {
             "colorbar": {
              "outlinewidth": 0,
              "ticks": ""
             }
            },
            "type": "scattergeo"
           }
          ],
          "scattergl": [
           {
            "marker": {
             "colorbar": {
              "outlinewidth": 0,
              "ticks": ""
             }
            },
            "type": "scattergl"
           }
          ],
          "scattermapbox": [
           {
            "marker": {
             "colorbar": {
              "outlinewidth": 0,
              "ticks": ""
             }
            },
            "type": "scattermapbox"
           }
          ],
          "scatterpolar": [
           {
            "marker": {
             "colorbar": {
              "outlinewidth": 0,
              "ticks": ""
             }
            },
            "type": "scatterpolar"
           }
          ],
          "scatterpolargl": [
           {
            "marker": {
             "colorbar": {
              "outlinewidth": 0,
              "ticks": ""
             }
            },
            "type": "scatterpolargl"
           }
          ],
          "scatterternary": [
           {
            "marker": {
             "colorbar": {
              "outlinewidth": 0,
              "ticks": ""
             }
            },
            "type": "scatterternary"
           }
          ],
          "surface": [
           {
            "colorbar": {
             "outlinewidth": 0,
             "ticks": ""
            },
            "colorscale": [
             [
              0,
              "#0d0887"
             ],
             [
              0.1111111111111111,
              "#46039f"
             ],
             [
              0.2222222222222222,
              "#7201a8"
             ],
             [
              0.3333333333333333,
              "#9c179e"
             ],
             [
              0.4444444444444444,
              "#bd3786"
             ],
             [
              0.5555555555555556,
              "#d8576b"
             ],
             [
              0.6666666666666666,
              "#ed7953"
             ],
             [
              0.7777777777777778,
              "#fb9f3a"
             ],
             [
              0.8888888888888888,
              "#fdca26"
             ],
             [
              1,
              "#f0f921"
             ]
            ],
            "type": "surface"
           }
          ],
          "table": [
           {
            "cells": {
             "fill": {
              "color": "#EBF0F8"
             },
             "line": {
              "color": "white"
             }
            },
            "header": {
             "fill": {
              "color": "#C8D4E3"
             },
             "line": {
              "color": "white"
             }
            },
            "type": "table"
           }
          ]
         },
         "layout": {
          "annotationdefaults": {
           "arrowcolor": "#2a3f5f",
           "arrowhead": 0,
           "arrowwidth": 1
          },
          "coloraxis": {
           "colorbar": {
            "outlinewidth": 0,
            "ticks": ""
           }
          },
          "colorscale": {
           "diverging": [
            [
             0,
             "#8e0152"
            ],
            [
             0.1,
             "#c51b7d"
            ],
            [
             0.2,
             "#de77ae"
            ],
            [
             0.3,
             "#f1b6da"
            ],
            [
             0.4,
             "#fde0ef"
            ],
            [
             0.5,
             "#f7f7f7"
            ],
            [
             0.6,
             "#e6f5d0"
            ],
            [
             0.7,
             "#b8e186"
            ],
            [
             0.8,
             "#7fbc41"
            ],
            [
             0.9,
             "#4d9221"
            ],
            [
             1,
             "#276419"
            ]
           ],
           "sequential": [
            [
             0,
             "#0d0887"
            ],
            [
             0.1111111111111111,
             "#46039f"
            ],
            [
             0.2222222222222222,
             "#7201a8"
            ],
            [
             0.3333333333333333,
             "#9c179e"
            ],
            [
             0.4444444444444444,
             "#bd3786"
            ],
            [
             0.5555555555555556,
             "#d8576b"
            ],
            [
             0.6666666666666666,
             "#ed7953"
            ],
            [
             0.7777777777777778,
             "#fb9f3a"
            ],
            [
             0.8888888888888888,
             "#fdca26"
            ],
            [
             1,
             "#f0f921"
            ]
           ],
           "sequentialminus": [
            [
             0,
             "#0d0887"
            ],
            [
             0.1111111111111111,
             "#46039f"
            ],
            [
             0.2222222222222222,
             "#7201a8"
            ],
            [
             0.3333333333333333,
             "#9c179e"
            ],
            [
             0.4444444444444444,
             "#bd3786"
            ],
            [
             0.5555555555555556,
             "#d8576b"
            ],
            [
             0.6666666666666666,
             "#ed7953"
            ],
            [
             0.7777777777777778,
             "#fb9f3a"
            ],
            [
             0.8888888888888888,
             "#fdca26"
            ],
            [
             1,
             "#f0f921"
            ]
           ]
          },
          "colorway": [
           "#636efa",
           "#EF553B",
           "#00cc96",
           "#ab63fa",
           "#FFA15A",
           "#19d3f3",
           "#FF6692",
           "#B6E880",
           "#FF97FF",
           "#FECB52"
          ],
          "font": {
           "color": "#2a3f5f"
          },
          "geo": {
           "bgcolor": "white",
           "lakecolor": "white",
           "landcolor": "#E5ECF6",
           "showlakes": true,
           "showland": true,
           "subunitcolor": "white"
          },
          "hoverlabel": {
           "align": "left"
          },
          "hovermode": "closest",
          "mapbox": {
           "style": "light"
          },
          "paper_bgcolor": "white",
          "plot_bgcolor": "#E5ECF6",
          "polar": {
           "angularaxis": {
            "gridcolor": "white",
            "linecolor": "white",
            "ticks": ""
           },
           "bgcolor": "#E5ECF6",
           "radialaxis": {
            "gridcolor": "white",
            "linecolor": "white",
            "ticks": ""
           }
          },
          "scene": {
           "xaxis": {
            "backgroundcolor": "#E5ECF6",
            "gridcolor": "white",
            "gridwidth": 2,
            "linecolor": "white",
            "showbackground": true,
            "ticks": "",
            "zerolinecolor": "white"
           },
           "yaxis": {
            "backgroundcolor": "#E5ECF6",
            "gridcolor": "white",
            "gridwidth": 2,
            "linecolor": "white",
            "showbackground": true,
            "ticks": "",
            "zerolinecolor": "white"
           },
           "zaxis": {
            "backgroundcolor": "#E5ECF6",
            "gridcolor": "white",
            "gridwidth": 2,
            "linecolor": "white",
            "showbackground": true,
            "ticks": "",
            "zerolinecolor": "white"
           }
          },
          "shapedefaults": {
           "line": {
            "color": "#2a3f5f"
           }
          },
          "ternary": {
           "aaxis": {
            "gridcolor": "white",
            "linecolor": "white",
            "ticks": ""
           },
           "baxis": {
            "gridcolor": "white",
            "linecolor": "white",
            "ticks": ""
           },
           "bgcolor": "#E5ECF6",
           "caxis": {
            "gridcolor": "white",
            "linecolor": "white",
            "ticks": ""
           }
          },
          "title": {
           "x": 0.05
          },
          "xaxis": {
           "automargin": true,
           "gridcolor": "white",
           "linecolor": "white",
           "ticks": "",
           "title": {
            "standoff": 15
           },
           "zerolinecolor": "white",
           "zerolinewidth": 2
          },
          "yaxis": {
           "automargin": true,
           "gridcolor": "white",
           "linecolor": "white",
           "ticks": "",
           "title": {
            "standoff": 15
           },
           "zerolinecolor": "white",
           "zerolinewidth": 2
          }
         }
        },
        "title": {
         "text": "State by State Estimates of Computer Access"
        },
        "xaxis": {
         "anchor": "y",
         "domain": [
          0,
          0.08200000000000002
         ],
         "title": {
          "text": "year"
         }
        },
        "xaxis10": {
         "anchor": "y10",
         "domain": [
          0.9180000000000001,
          1
         ],
         "matches": "x",
         "title": {
          "text": "year"
         }
        },
        "xaxis11": {
         "anchor": "y11",
         "domain": [
          0,
          0.08200000000000002
         ],
         "matches": "x",
         "showticklabels": false
        },
        "xaxis12": {
         "anchor": "y12",
         "domain": [
          0.10200000000000002,
          0.18400000000000005
         ],
         "matches": "x",
         "showticklabels": false
        },
        "xaxis13": {
         "anchor": "y13",
         "domain": [
          0.20400000000000004,
          0.28600000000000003
         ],
         "matches": "x",
         "showticklabels": false
        },
        "xaxis14": {
         "anchor": "y14",
         "domain": [
          0.30600000000000005,
          0.38800000000000007
         ],
         "matches": "x",
         "showticklabels": false
        },
        "xaxis15": {
         "anchor": "y15",
         "domain": [
          0.4080000000000001,
          0.4900000000000001
         ],
         "matches": "x",
         "showticklabels": false
        },
        "xaxis16": {
         "anchor": "y16",
         "domain": [
          0.5100000000000001,
          0.5920000000000001
         ],
         "matches": "x",
         "showticklabels": false
        },
        "xaxis17": {
         "anchor": "y17",
         "domain": [
          0.6120000000000001,
          0.6940000000000002
         ],
         "matches": "x",
         "showticklabels": false
        },
        "xaxis18": {
         "anchor": "y18",
         "domain": [
          0.7140000000000001,
          0.796
         ],
         "matches": "x",
         "showticklabels": false
        },
        "xaxis19": {
         "anchor": "y19",
         "domain": [
          0.8160000000000002,
          0.8980000000000001
         ],
         "matches": "x",
         "showticklabels": false
        },
        "xaxis2": {
         "anchor": "y2",
         "domain": [
          0.10200000000000002,
          0.18400000000000005
         ],
         "matches": "x",
         "title": {
          "text": "year"
         }
        },
        "xaxis20": {
         "anchor": "y20",
         "domain": [
          0.9180000000000001,
          1
         ],
         "matches": "x",
         "showticklabels": false
        },
        "xaxis21": {
         "anchor": "y21",
         "domain": [
          0,
          0.08200000000000002
         ],
         "matches": "x",
         "showticklabels": false
        },
        "xaxis22": {
         "anchor": "y22",
         "domain": [
          0.10200000000000002,
          0.18400000000000005
         ],
         "matches": "x",
         "showticklabels": false
        },
        "xaxis23": {
         "anchor": "y23",
         "domain": [
          0.20400000000000004,
          0.28600000000000003
         ],
         "matches": "x",
         "showticklabels": false
        },
        "xaxis24": {
         "anchor": "y24",
         "domain": [
          0.30600000000000005,
          0.38800000000000007
         ],
         "matches": "x",
         "showticklabels": false
        },
        "xaxis25": {
         "anchor": "y25",
         "domain": [
          0.4080000000000001,
          0.4900000000000001
         ],
         "matches": "x",
         "showticklabels": false
        },
        "xaxis26": {
         "anchor": "y26",
         "domain": [
          0.5100000000000001,
          0.5920000000000001
         ],
         "matches": "x",
         "showticklabels": false
        },
        "xaxis27": {
         "anchor": "y27",
         "domain": [
          0.6120000000000001,
          0.6940000000000002
         ],
         "matches": "x",
         "showticklabels": false
        },
        "xaxis28": {
         "anchor": "y28",
         "domain": [
          0.7140000000000001,
          0.796
         ],
         "matches": "x",
         "showticklabels": false
        },
        "xaxis29": {
         "anchor": "y29",
         "domain": [
          0.8160000000000002,
          0.8980000000000001
         ],
         "matches": "x",
         "showticklabels": false
        },
        "xaxis3": {
         "anchor": "y3",
         "domain": [
          0.20400000000000004,
          0.28600000000000003
         ],
         "matches": "x",
         "title": {
          "text": "year"
         }
        },
        "xaxis30": {
         "anchor": "y30",
         "domain": [
          0.9180000000000001,
          1
         ],
         "matches": "x",
         "showticklabels": false
        },
        "xaxis31": {
         "anchor": "y31",
         "domain": [
          0,
          0.08200000000000002
         ],
         "matches": "x",
         "showticklabels": false
        },
        "xaxis32": {
         "anchor": "y32",
         "domain": [
          0.10200000000000002,
          0.18400000000000005
         ],
         "matches": "x",
         "showticklabels": false
        },
        "xaxis33": {
         "anchor": "y33",
         "domain": [
          0.20400000000000004,
          0.28600000000000003
         ],
         "matches": "x",
         "showticklabels": false
        },
        "xaxis34": {
         "anchor": "y34",
         "domain": [
          0.30600000000000005,
          0.38800000000000007
         ],
         "matches": "x",
         "showticklabels": false
        },
        "xaxis35": {
         "anchor": "y35",
         "domain": [
          0.4080000000000001,
          0.4900000000000001
         ],
         "matches": "x",
         "showticklabels": false
        },
        "xaxis36": {
         "anchor": "y36",
         "domain": [
          0.5100000000000001,
          0.5920000000000001
         ],
         "matches": "x",
         "showticklabels": false
        },
        "xaxis37": {
         "anchor": "y37",
         "domain": [
          0.6120000000000001,
          0.6940000000000002
         ],
         "matches": "x",
         "showticklabels": false
        },
        "xaxis38": {
         "anchor": "y38",
         "domain": [
          0.7140000000000001,
          0.796
         ],
         "matches": "x",
         "showticklabels": false
        },
        "xaxis39": {
         "anchor": "y39",
         "domain": [
          0.8160000000000002,
          0.8980000000000001
         ],
         "matches": "x",
         "showticklabels": false
        },
        "xaxis4": {
         "anchor": "y4",
         "domain": [
          0.30600000000000005,
          0.38800000000000007
         ],
         "matches": "x",
         "title": {
          "text": "year"
         }
        },
        "xaxis40": {
         "anchor": "y40",
         "domain": [
          0.9180000000000001,
          1
         ],
         "matches": "x",
         "showticklabels": false
        },
        "xaxis41": {
         "anchor": "y41",
         "domain": [
          0,
          0.08200000000000002
         ],
         "matches": "x",
         "showticklabels": false
        },
        "xaxis42": {
         "anchor": "y42",
         "domain": [
          0.10200000000000002,
          0.18400000000000005
         ],
         "matches": "x",
         "showticklabels": false
        },
        "xaxis43": {
         "anchor": "y43",
         "domain": [
          0.20400000000000004,
          0.28600000000000003
         ],
         "matches": "x",
         "showticklabels": false
        },
        "xaxis44": {
         "anchor": "y44",
         "domain": [
          0.30600000000000005,
          0.38800000000000007
         ],
         "matches": "x",
         "showticklabels": false
        },
        "xaxis45": {
         "anchor": "y45",
         "domain": [
          0.4080000000000001,
          0.4900000000000001
         ],
         "matches": "x",
         "showticklabels": false
        },
        "xaxis46": {
         "anchor": "y46",
         "domain": [
          0.5100000000000001,
          0.5920000000000001
         ],
         "matches": "x",
         "showticklabels": false
        },
        "xaxis47": {
         "anchor": "y47",
         "domain": [
          0.6120000000000001,
          0.6940000000000002
         ],
         "matches": "x",
         "showticklabels": false
        },
        "xaxis48": {
         "anchor": "y48",
         "domain": [
          0.7140000000000001,
          0.796
         ],
         "matches": "x",
         "showticklabels": false
        },
        "xaxis49": {
         "anchor": "y49",
         "domain": [
          0.8160000000000002,
          0.8980000000000001
         ],
         "matches": "x",
         "showticklabels": false
        },
        "xaxis5": {
         "anchor": "y5",
         "domain": [
          0.4080000000000001,
          0.4900000000000001
         ],
         "matches": "x",
         "title": {
          "text": "year"
         }
        },
        "xaxis50": {
         "anchor": "y50",
         "domain": [
          0.9180000000000001,
          1
         ],
         "matches": "x",
         "showticklabels": false
        },
        "xaxis51": {
         "anchor": "y51",
         "domain": [
          0,
          0.08200000000000002
         ],
         "matches": "x",
         "showticklabels": false
        },
        "xaxis52": {
         "anchor": "y52",
         "domain": [
          0.10200000000000002,
          0.18400000000000005
         ],
         "matches": "x",
         "showticklabels": false
        },
        "xaxis53": {
         "anchor": "y53",
         "domain": [
          0.20400000000000004,
          0.28600000000000003
         ],
         "matches": "x",
         "showticklabels": false
        },
        "xaxis54": {
         "anchor": "y54",
         "domain": [
          0.30600000000000005,
          0.38800000000000007
         ],
         "matches": "x",
         "showticklabels": false
        },
        "xaxis55": {
         "anchor": "y55",
         "domain": [
          0.4080000000000001,
          0.4900000000000001
         ],
         "matches": "x",
         "showticklabels": false
        },
        "xaxis56": {
         "anchor": "y56",
         "domain": [
          0.5100000000000001,
          0.5920000000000001
         ],
         "matches": "x",
         "showticklabels": false
        },
        "xaxis57": {
         "anchor": "y57",
         "domain": [
          0.6120000000000001,
          0.6940000000000002
         ],
         "matches": "x",
         "showticklabels": false
        },
        "xaxis58": {
         "anchor": "y58",
         "domain": [
          0.7140000000000001,
          0.796
         ],
         "matches": "x",
         "showticklabels": false
        },
        "xaxis59": {
         "anchor": "y59",
         "domain": [
          0.8160000000000002,
          0.8980000000000001
         ],
         "matches": "x",
         "showticklabels": false
        },
        "xaxis6": {
         "anchor": "y6",
         "domain": [
          0.5100000000000001,
          0.5920000000000001
         ],
         "matches": "x",
         "title": {
          "text": "year"
         }
        },
        "xaxis60": {
         "anchor": "y60",
         "domain": [
          0.9180000000000001,
          1
         ],
         "matches": "x",
         "showticklabels": false
        },
        "xaxis7": {
         "anchor": "y7",
         "domain": [
          0.6120000000000001,
          0.6940000000000002
         ],
         "matches": "x",
         "title": {
          "text": "year"
         }
        },
        "xaxis8": {
         "anchor": "y8",
         "domain": [
          0.7140000000000001,
          0.796
         ],
         "matches": "x",
         "title": {
          "text": "year"
         }
        },
        "xaxis9": {
         "anchor": "y9",
         "domain": [
          0.8160000000000002,
          0.8980000000000001
         ],
         "matches": "x",
         "title": {
          "text": "year"
         }
        },
        "yaxis": {
         "anchor": "x",
         "domain": [
          0,
          0.10833333333333331
         ],
         "title": {
          "text": "value"
         }
        },
        "yaxis10": {
         "anchor": "x10",
         "domain": [
          0,
          0.10833333333333331
         ],
         "showticklabels": false
        },
        "yaxis11": {
         "anchor": "x11",
         "domain": [
          0.17833333333333332,
          0.2866666666666666
         ],
         "title": {
          "text": "value"
         }
        },
        "yaxis12": {
         "anchor": "x12",
         "domain": [
          0.17833333333333332,
          0.2866666666666666
         ],
         "showticklabels": false
        },
        "yaxis13": {
         "anchor": "x13",
         "domain": [
          0.17833333333333332,
          0.2866666666666666
         ],
         "showticklabels": false
        },
        "yaxis14": {
         "anchor": "x14",
         "domain": [
          0.17833333333333332,
          0.2866666666666666
         ],
         "showticklabels": false
        },
        "yaxis15": {
         "anchor": "x15",
         "domain": [
          0.17833333333333332,
          0.2866666666666666
         ],
         "showticklabels": false
        },
        "yaxis16": {
         "anchor": "x16",
         "domain": [
          0.17833333333333332,
          0.2866666666666666
         ],
         "showticklabels": false
        },
        "yaxis17": {
         "anchor": "x17",
         "domain": [
          0.17833333333333332,
          0.2866666666666666
         ],
         "showticklabels": false
        },
        "yaxis18": {
         "anchor": "x18",
         "domain": [
          0.17833333333333332,
          0.2866666666666666
         ],
         "showticklabels": false
        },
        "yaxis19": {
         "anchor": "x19",
         "domain": [
          0.17833333333333332,
          0.2866666666666666
         ],
         "showticklabels": false
        },
        "yaxis2": {
         "anchor": "x2",
         "domain": [
          0,
          0.10833333333333331
         ],
         "showticklabels": false
        },
        "yaxis20": {
         "anchor": "x20",
         "domain": [
          0.17833333333333332,
          0.2866666666666666
         ],
         "showticklabels": false
        },
        "yaxis21": {
         "anchor": "x21",
         "domain": [
          0.35666666666666663,
          0.46499999999999997
         ],
         "title": {
          "text": "value"
         }
        },
        "yaxis22": {
         "anchor": "x22",
         "domain": [
          0.35666666666666663,
          0.46499999999999997
         ],
         "showticklabels": false
        },
        "yaxis23": {
         "anchor": "x23",
         "domain": [
          0.35666666666666663,
          0.46499999999999997
         ],
         "showticklabels": false
        },
        "yaxis24": {
         "anchor": "x24",
         "domain": [
          0.35666666666666663,
          0.46499999999999997
         ],
         "showticklabels": false
        },
        "yaxis25": {
         "anchor": "x25",
         "domain": [
          0.35666666666666663,
          0.46499999999999997
         ],
         "showticklabels": false
        },
        "yaxis26": {
         "anchor": "x26",
         "domain": [
          0.35666666666666663,
          0.46499999999999997
         ],
         "showticklabels": false
        },
        "yaxis27": {
         "anchor": "x27",
         "domain": [
          0.35666666666666663,
          0.46499999999999997
         ],
         "showticklabels": false
        },
        "yaxis28": {
         "anchor": "x28",
         "domain": [
          0.35666666666666663,
          0.46499999999999997
         ],
         "showticklabels": false
        },
        "yaxis29": {
         "anchor": "x29",
         "domain": [
          0.35666666666666663,
          0.46499999999999997
         ],
         "showticklabels": false
        },
        "yaxis3": {
         "anchor": "x3",
         "domain": [
          0,
          0.10833333333333331
         ],
         "showticklabels": false
        },
        "yaxis30": {
         "anchor": "x30",
         "domain": [
          0.35666666666666663,
          0.46499999999999997
         ],
         "showticklabels": false
        },
        "yaxis31": {
         "anchor": "x31",
         "domain": [
          0.5349999999999999,
          0.6433333333333332
         ],
         "title": {
          "text": "value"
         }
        },
        "yaxis32": {
         "anchor": "x32",
         "domain": [
          0.5349999999999999,
          0.6433333333333332
         ],
         "showticklabels": false
        },
        "yaxis33": {
         "anchor": "x33",
         "domain": [
          0.5349999999999999,
          0.6433333333333332
         ],
         "showticklabels": false
        },
        "yaxis34": {
         "anchor": "x34",
         "domain": [
          0.5349999999999999,
          0.6433333333333332
         ],
         "showticklabels": false
        },
        "yaxis35": {
         "anchor": "x35",
         "domain": [
          0.5349999999999999,
          0.6433333333333332
         ],
         "showticklabels": false
        },
        "yaxis36": {
         "anchor": "x36",
         "domain": [
          0.5349999999999999,
          0.6433333333333332
         ],
         "showticklabels": false
        },
        "yaxis37": {
         "anchor": "x37",
         "domain": [
          0.5349999999999999,
          0.6433333333333332
         ],
         "showticklabels": false
        },
        "yaxis38": {
         "anchor": "x38",
         "domain": [
          0.5349999999999999,
          0.6433333333333332
         ],
         "showticklabels": false
        },
        "yaxis39": {
         "anchor": "x39",
         "domain": [
          0.5349999999999999,
          0.6433333333333332
         ],
         "showticklabels": false
        },
        "yaxis4": {
         "anchor": "x4",
         "domain": [
          0,
          0.10833333333333331
         ],
         "showticklabels": false
        },
        "yaxis40": {
         "anchor": "x40",
         "domain": [
          0.5349999999999999,
          0.6433333333333332
         ],
         "showticklabels": false
        },
        "yaxis41": {
         "anchor": "x41",
         "domain": [
          0.7133333333333333,
          0.8216666666666665
         ],
         "title": {
          "text": "value"
         }
        },
        "yaxis42": {
         "anchor": "x42",
         "domain": [
          0.7133333333333333,
          0.8216666666666665
         ],
         "showticklabels": false
        },
        "yaxis43": {
         "anchor": "x43",
         "domain": [
          0.7133333333333333,
          0.8216666666666665
         ],
         "showticklabels": false
        },
        "yaxis44": {
         "anchor": "x44",
         "domain": [
          0.7133333333333333,
          0.8216666666666665
         ],
         "showticklabels": false
        },
        "yaxis45": {
         "anchor": "x45",
         "domain": [
          0.7133333333333333,
          0.8216666666666665
         ],
         "showticklabels": false
        },
        "yaxis46": {
         "anchor": "x46",
         "domain": [
          0.7133333333333333,
          0.8216666666666665
         ],
         "showticklabels": false
        },
        "yaxis47": {
         "anchor": "x47",
         "domain": [
          0.7133333333333333,
          0.8216666666666665
         ],
         "showticklabels": false
        },
        "yaxis48": {
         "anchor": "x48",
         "domain": [
          0.7133333333333333,
          0.8216666666666665
         ],
         "showticklabels": false
        },
        "yaxis49": {
         "anchor": "x49",
         "domain": [
          0.7133333333333333,
          0.8216666666666665
         ],
         "showticklabels": false
        },
        "yaxis5": {
         "anchor": "x5",
         "domain": [
          0,
          0.10833333333333331
         ],
         "showticklabels": false
        },
        "yaxis50": {
         "anchor": "x50",
         "domain": [
          0.7133333333333333,
          0.8216666666666665
         ],
         "showticklabels": false
        },
        "yaxis51": {
         "anchor": "x51",
         "domain": [
          0.8916666666666666,
          0.9999999999999999
         ],
         "title": {
          "text": "value"
         }
        },
        "yaxis52": {
         "anchor": "x52",
         "domain": [
          0.8916666666666666,
          0.9999999999999999
         ],
         "showticklabels": false
        },
        "yaxis53": {
         "anchor": "x53",
         "domain": [
          0.8916666666666666,
          0.9999999999999999
         ],
         "showticklabels": false
        },
        "yaxis54": {
         "anchor": "x54",
         "domain": [
          0.8916666666666666,
          0.9999999999999999
         ],
         "showticklabels": false
        },
        "yaxis55": {
         "anchor": "x55",
         "domain": [
          0.8916666666666666,
          0.9999999999999999
         ],
         "showticklabels": false
        },
        "yaxis56": {
         "anchor": "x56",
         "domain": [
          0.8916666666666666,
          0.9999999999999999
         ],
         "showticklabels": false
        },
        "yaxis57": {
         "anchor": "x57",
         "domain": [
          0.8916666666666666,
          0.9999999999999999
         ],
         "showticklabels": false
        },
        "yaxis58": {
         "anchor": "x58",
         "domain": [
          0.8916666666666666,
          0.9999999999999999
         ],
         "showticklabels": false
        },
        "yaxis59": {
         "anchor": "x59",
         "domain": [
          0.8916666666666666,
          0.9999999999999999
         ],
         "showticklabels": false
        },
        "yaxis6": {
         "anchor": "x6",
         "domain": [
          0,
          0.10833333333333331
         ],
         "showticklabels": false
        },
        "yaxis60": {
         "anchor": "x60",
         "domain": [
          0.8916666666666666,
          0.9999999999999999
         ],
         "showticklabels": false
        },
        "yaxis7": {
         "anchor": "x7",
         "domain": [
          0,
          0.10833333333333331
         ],
         "showticklabels": false
        },
        "yaxis8": {
         "anchor": "x8",
         "domain": [
          0,
          0.10833333333333331
         ],
         "showticklabels": false
        },
        "yaxis9": {
         "anchor": "x9",
         "domain": [
          0,
          0.10833333333333331
         ],
         "showticklabels": false
        }
       }
      },
      "text/html": [
       "<div>\n",
       "        \n",
       "        \n",
       "            <div id=\"e05c028c-0452-43e2-bfcc-ca35b0cf6b8b\" class=\"plotly-graph-div\" style=\"height:525px; width:100%;\"></div>\n",
       "            <script type=\"text/javascript\">\n",
       "                require([\"plotly\"], function(Plotly) {\n",
       "                    window.PLOTLYENV=window.PLOTLYENV || {};\n",
       "                    \n",
       "                if (document.getElementById(\"e05c028c-0452-43e2-bfcc-ca35b0cf6b8b\")) {\n",
       "                    Plotly.newPlot(\n",
       "                        'e05c028c-0452-43e2-bfcc-ca35b0cf6b8b',\n",
       "                        [{\"hoverlabel\": {\"namelength\": 0}, \"hovertemplate\": \"variable=pct_2015<br>state_abbr=AL<br>year=%{x}<br>value=%{y}\", \"legendgroup\": \"pct_2015\", \"marker\": {\"color\": \"#636efa\", \"symbol\": \"circle\"}, \"mode\": \"markers\", \"name\": \"pct_2015\", \"showlegend\": true, \"type\": \"scatter\", \"x\": [\"2015\"], \"xaxis\": \"x51\", \"y\": [0.8073548526863085], \"yaxis\": \"y51\"}, {\"hoverlabel\": {\"namelength\": 0}, \"hovertemplate\": \"variable=pct_2015<br>state_abbr=AK<br>year=%{x}<br>value=%{y}\", \"legendgroup\": \"pct_2015\", \"marker\": {\"color\": \"#636efa\", \"symbol\": \"circle\"}, \"mode\": \"markers\", \"name\": \"pct_2015\", \"showlegend\": false, \"type\": \"scatter\", \"x\": [\"2015\"], \"xaxis\": \"x52\", \"y\": [0.9192645883293366], \"yaxis\": \"y52\"}, {\"hoverlabel\": {\"namelength\": 0}, \"hovertemplate\": \"variable=pct_2015<br>state_abbr=AZ<br>year=%{x}<br>value=%{y}\", \"legendgroup\": \"pct_2015\", \"marker\": {\"color\": \"#636efa\", \"symbol\": \"circle\"}, \"mode\": \"markers\", \"name\": \"pct_2015\", \"showlegend\": false, \"type\": \"scatter\", \"x\": [\"2015\"], \"xaxis\": \"x53\", \"y\": [0.8764108810393829], \"yaxis\": \"y53\"}, {\"hoverlabel\": {\"namelength\": 0}, \"hovertemplate\": \"variable=pct_2015<br>state_abbr=AR<br>year=%{x}<br>value=%{y}\", \"legendgroup\": \"pct_2015\", \"marker\": {\"color\": \"#636efa\", \"symbol\": \"circle\"}, \"mode\": \"markers\", \"name\": \"pct_2015\", \"showlegend\": false, \"type\": \"scatter\", \"x\": [\"2015\"], \"xaxis\": \"x54\", \"y\": [0.8172446929326461], \"yaxis\": \"y54\"}, {\"hoverlabel\": {\"namelength\": 0}, \"hovertemplate\": \"variable=pct_2015<br>state_abbr=CA<br>year=%{x}<br>value=%{y}\", \"legendgroup\": \"pct_2015\", \"marker\": {\"color\": \"#636efa\", \"symbol\": \"circle\"}, \"mode\": \"markers\", \"name\": \"pct_2015\", \"showlegend\": false, \"type\": \"scatter\", \"x\": [\"2015\"], \"xaxis\": \"x55\", \"y\": [0.8976993401208099], \"yaxis\": \"y55\"}, {\"hoverlabel\": {\"namelength\": 0}, \"hovertemplate\": \"variable=pct_2015<br>state_abbr=CO<br>year=%{x}<br>value=%{y}\", \"legendgroup\": \"pct_2015\", \"marker\": {\"color\": \"#636efa\", \"symbol\": \"circle\"}, \"mode\": \"markers\", \"name\": \"pct_2015\", \"showlegend\": false, \"type\": \"scatter\", \"x\": [\"2015\"], \"xaxis\": \"x56\", \"y\": [0.912517472405649], \"yaxis\": \"y56\"}, {\"hoverlabel\": {\"namelength\": 0}, \"hovertemplate\": \"variable=pct_2015<br>state_abbr=CT<br>year=%{x}<br>value=%{y}\", \"legendgroup\": \"pct_2015\", \"marker\": {\"color\": \"#636efa\", \"symbol\": \"circle\"}, \"mode\": \"markers\", \"name\": \"pct_2015\", \"showlegend\": false, \"type\": \"scatter\", \"x\": [\"2015\"], \"xaxis\": \"x57\", \"y\": [0.8837538140954082], \"yaxis\": \"y57\"}, {\"hoverlabel\": {\"namelength\": 0}, \"hovertemplate\": \"variable=pct_2015<br>state_abbr=DE<br>year=%{x}<br>value=%{y}\", \"legendgroup\": \"pct_2015\", \"marker\": {\"color\": \"#636efa\", \"symbol\": \"circle\"}, \"mode\": \"markers\", \"name\": \"pct_2015\", \"showlegend\": false, \"type\": \"scatter\", \"x\": [\"2015\"], \"xaxis\": \"x58\", \"y\": [0.8749290981281905], \"yaxis\": \"y58\"}, {\"hoverlabel\": {\"namelength\": 0}, \"hovertemplate\": \"variable=pct_2015<br>state_abbr=DC<br>year=%{x}<br>value=%{y}\", \"legendgroup\": \"pct_2015\", \"marker\": {\"color\": \"#636efa\", \"symbol\": \"circle\"}, \"mode\": \"markers\", \"name\": \"pct_2015\", \"showlegend\": false, \"type\": \"scatter\", \"x\": [\"2015\"], \"xaxis\": \"x59\", \"y\": [0.893541518807665], \"yaxis\": \"y59\"}, {\"hoverlabel\": {\"namelength\": 0}, \"hovertemplate\": \"variable=pct_2015<br>state_abbr=FL<br>year=%{x}<br>value=%{y}\", \"legendgroup\": \"pct_2015\", \"marker\": {\"color\": \"#636efa\", \"symbol\": \"circle\"}, \"mode\": \"markers\", \"name\": \"pct_2015\", \"showlegend\": false, \"type\": \"scatter\", \"x\": [\"2015\"], \"xaxis\": \"x60\", \"y\": [0.8748526101404224], \"yaxis\": \"y60\"}, {\"hoverlabel\": {\"namelength\": 0}, \"hovertemplate\": \"variable=pct_2015<br>state_abbr=GA<br>year=%{x}<br>value=%{y}\", \"legendgroup\": \"pct_2015\", \"marker\": {\"color\": \"#636efa\", \"symbol\": \"circle\"}, \"mode\": \"markers\", \"name\": \"pct_2015\", \"showlegend\": false, \"type\": \"scatter\", \"x\": [\"2015\"], \"xaxis\": \"x41\", \"y\": [0.8681763483207526], \"yaxis\": \"y41\"}, {\"hoverlabel\": {\"namelength\": 0}, \"hovertemplate\": \"variable=pct_2015<br>state_abbr=HI<br>year=%{x}<br>value=%{y}\", \"legendgroup\": \"pct_2015\", \"marker\": {\"color\": \"#636efa\", \"symbol\": \"circle\"}, \"mode\": \"markers\", \"name\": \"pct_2015\", \"showlegend\": false, \"type\": \"scatter\", \"x\": [\"2015\"], \"xaxis\": \"x42\", \"y\": [0.8919040143529939], \"yaxis\": \"y42\"}, {\"hoverlabel\": {\"namelength\": 0}, \"hovertemplate\": \"variable=pct_2015<br>state_abbr=ID<br>year=%{x}<br>value=%{y}\", \"legendgroup\": \"pct_2015\", \"marker\": {\"color\": \"#636efa\", \"symbol\": \"circle\"}, \"mode\": \"markers\", \"name\": \"pct_2015\", \"showlegend\": false, \"type\": \"scatter\", \"x\": [\"2015\"], \"xaxis\": \"x43\", \"y\": [0.8885169065952461], \"yaxis\": \"y43\"}, {\"hoverlabel\": {\"namelength\": 0}, \"hovertemplate\": \"variable=pct_2015<br>state_abbr=IL<br>year=%{x}<br>value=%{y}\", \"legendgroup\": \"pct_2015\", \"marker\": {\"color\": \"#636efa\", \"symbol\": \"circle\"}, \"mode\": \"markers\", \"name\": \"pct_2015\", \"showlegend\": false, \"type\": \"scatter\", \"x\": [\"2015\"], \"xaxis\": \"x44\", \"y\": [0.8638648451350506], \"yaxis\": \"y44\"}, {\"hoverlabel\": {\"namelength\": 0}, \"hovertemplate\": \"variable=pct_2015<br>state_abbr=IN<br>year=%{x}<br>value=%{y}\", \"legendgroup\": \"pct_2015\", \"marker\": {\"color\": \"#636efa\", \"symbol\": \"circle\"}, \"mode\": \"markers\", \"name\": \"pct_2015\", \"showlegend\": false, \"type\": \"scatter\", \"x\": [\"2015\"], \"xaxis\": \"x45\", \"y\": [0.8502644030058447], \"yaxis\": \"y45\"}, {\"hoverlabel\": {\"namelength\": 0}, \"hovertemplate\": \"variable=pct_2015<br>state_abbr=IA<br>year=%{x}<br>value=%{y}\", \"legendgroup\": \"pct_2015\", \"marker\": {\"color\": \"#636efa\", \"symbol\": \"circle\"}, \"mode\": \"markers\", \"name\": \"pct_2015\", \"showlegend\": false, \"type\": \"scatter\", \"x\": [\"2015\"], \"xaxis\": \"x46\", \"y\": [0.8546343810134702], \"yaxis\": \"y46\"}, {\"hoverlabel\": {\"namelength\": 0}, \"hovertemplate\": \"variable=pct_2015<br>state_abbr=KS<br>year=%{x}<br>value=%{y}\", \"legendgroup\": \"pct_2015\", \"marker\": {\"color\": \"#636efa\", \"symbol\": \"circle\"}, \"mode\": \"markers\", \"name\": \"pct_2015\", \"showlegend\": false, \"type\": \"scatter\", \"x\": [\"2015\"], \"xaxis\": \"x47\", \"y\": [0.8593918675782656], \"yaxis\": \"y47\"}, {\"hoverlabel\": {\"namelength\": 0}, \"hovertemplate\": \"variable=pct_2015<br>state_abbr=KY<br>year=%{x}<br>value=%{y}\", \"legendgroup\": \"pct_2015\", \"marker\": {\"color\": \"#636efa\", \"symbol\": \"circle\"}, \"mode\": \"markers\", \"name\": \"pct_2015\", \"showlegend\": false, \"type\": \"scatter\", \"x\": [\"2015\"], \"xaxis\": \"x48\", \"y\": [0.8199510546556346], \"yaxis\": \"y48\"}, {\"hoverlabel\": {\"namelength\": 0}, \"hovertemplate\": \"variable=pct_2015<br>state_abbr=LA<br>year=%{x}<br>value=%{y}\", \"legendgroup\": \"pct_2015\", \"marker\": {\"color\": \"#636efa\", \"symbol\": \"circle\"}, \"mode\": \"markers\", \"name\": \"pct_2015\", \"showlegend\": false, \"type\": \"scatter\", \"x\": [\"2015\"], \"xaxis\": \"x49\", \"y\": [0.8086771390758962], \"yaxis\": \"y49\"}, {\"hoverlabel\": {\"namelength\": 0}, \"hovertemplate\": \"variable=pct_2015<br>state_abbr=ME<br>year=%{x}<br>value=%{y}\", \"legendgroup\": \"pct_2015\", \"marker\": {\"color\": \"#636efa\", \"symbol\": \"circle\"}, \"mode\": \"markers\", \"name\": \"pct_2015\", \"showlegend\": false, \"type\": \"scatter\", \"x\": [\"2015\"], \"xaxis\": \"x50\", \"y\": [0.8646368305209098], \"yaxis\": \"y50\"}, {\"hoverlabel\": {\"namelength\": 0}, \"hovertemplate\": \"variable=pct_2015<br>state_abbr=MD<br>year=%{x}<br>value=%{y}\", \"legendgroup\": \"pct_2015\", \"marker\": {\"color\": \"#636efa\", \"symbol\": \"circle\"}, \"mode\": \"markers\", \"name\": \"pct_2015\", \"showlegend\": false, \"type\": \"scatter\", \"x\": [\"2015\"], \"xaxis\": \"x31\", \"y\": [0.9007759768584416], \"yaxis\": \"y31\"}, {\"hoverlabel\": {\"namelength\": 0}, \"hovertemplate\": \"variable=pct_2015<br>state_abbr=MA<br>year=%{x}<br>value=%{y}\", \"legendgroup\": \"pct_2015\", \"marker\": {\"color\": \"#636efa\", \"symbol\": \"circle\"}, \"mode\": \"markers\", \"name\": \"pct_2015\", \"showlegend\": false, \"type\": \"scatter\", \"x\": [\"2015\"], \"xaxis\": \"x32\", \"y\": [0.8932421875], \"yaxis\": \"y32\"}, {\"hoverlabel\": {\"namelength\": 0}, \"hovertemplate\": \"variable=pct_2015<br>state_abbr=MI<br>year=%{x}<br>value=%{y}\", \"legendgroup\": \"pct_2015\", \"marker\": {\"color\": \"#636efa\", \"symbol\": \"circle\"}, \"mode\": \"markers\", \"name\": \"pct_2015\", \"showlegend\": false, \"type\": \"scatter\", \"x\": [\"2015\"], \"xaxis\": \"x33\", \"y\": [0.8616820007775042], \"yaxis\": \"y33\"}, {\"hoverlabel\": {\"namelength\": 0}, \"hovertemplate\": \"variable=pct_2015<br>state_abbr=MN<br>year=%{x}<br>value=%{y}\", \"legendgroup\": \"pct_2015\", \"marker\": {\"color\": \"#636efa\", \"symbol\": \"circle\"}, \"mode\": \"markers\", \"name\": \"pct_2015\", \"showlegend\": false, \"type\": \"scatter\", \"x\": [\"2015\"], \"xaxis\": \"x34\", \"y\": [0.8925161831136776], \"yaxis\": \"y34\"}, {\"hoverlabel\": {\"namelength\": 0}, \"hovertemplate\": \"variable=pct_2015<br>state_abbr=MS<br>year=%{x}<br>value=%{y}\", \"legendgroup\": \"pct_2015\", \"marker\": {\"color\": \"#636efa\", \"symbol\": \"circle\"}, \"mode\": \"markers\", \"name\": \"pct_2015\", \"showlegend\": false, \"type\": \"scatter\", \"x\": [\"2015\"], \"xaxis\": \"x35\", \"y\": [0.7881202462875769], \"yaxis\": \"y35\"}, {\"hoverlabel\": {\"namelength\": 0}, \"hovertemplate\": \"variable=pct_2015<br>state_abbr=MO<br>year=%{x}<br>value=%{y}\", \"legendgroup\": \"pct_2015\", \"marker\": {\"color\": \"#636efa\", \"symbol\": \"circle\"}, \"mode\": \"markers\", \"name\": \"pct_2015\", \"showlegend\": false, \"type\": \"scatter\", \"x\": [\"2015\"], \"xaxis\": \"x36\", \"y\": [0.855277567180524], \"yaxis\": \"y36\"}, {\"hoverlabel\": {\"namelength\": 0}, \"hovertemplate\": \"variable=pct_2015<br>state_abbr=MT<br>year=%{x}<br>value=%{y}\", \"legendgroup\": \"pct_2015\", \"marker\": {\"color\": \"#636efa\", \"symbol\": \"circle\"}, \"mode\": \"markers\", \"name\": \"pct_2015\", \"showlegend\": false, \"type\": \"scatter\", \"x\": [\"2015\"], \"xaxis\": \"x37\", \"y\": [0.8555930568948891], \"yaxis\": \"y37\"}, {\"hoverlabel\": {\"namelength\": 0}, \"hovertemplate\": \"variable=pct_2015<br>state_abbr=NE<br>year=%{x}<br>value=%{y}\", \"legendgroup\": \"pct_2015\", \"marker\": {\"color\": \"#636efa\", \"symbol\": \"circle\"}, \"mode\": \"markers\", \"name\": \"pct_2015\", \"showlegend\": false, \"type\": \"scatter\", \"x\": [\"2015\"], \"xaxis\": \"x38\", \"y\": [0.8724805159903252], \"yaxis\": \"y38\"}, {\"hoverlabel\": {\"namelength\": 0}, \"hovertemplate\": \"variable=pct_2015<br>state_abbr=NV<br>year=%{x}<br>value=%{y}\", \"legendgroup\": \"pct_2015\", \"marker\": {\"color\": \"#636efa\", \"symbol\": \"circle\"}, \"mode\": \"markers\", \"name\": \"pct_2015\", \"showlegend\": false, \"type\": \"scatter\", \"x\": [\"2015\"], \"xaxis\": \"x39\", \"y\": [0.8954994722195566], \"yaxis\": \"y39\"}, {\"hoverlabel\": {\"namelength\": 0}, \"hovertemplate\": \"variable=pct_2015<br>state_abbr=NH<br>year=%{x}<br>value=%{y}\", \"legendgroup\": \"pct_2015\", \"marker\": {\"color\": \"#636efa\", \"symbol\": \"circle\"}, \"mode\": \"markers\", \"name\": \"pct_2015\", \"showlegend\": false, \"type\": \"scatter\", \"x\": [\"2015\"], \"xaxis\": \"x40\", \"y\": [0.9101622874806801], \"yaxis\": \"y40\"}, {\"hoverlabel\": {\"namelength\": 0}, \"hovertemplate\": \"variable=pct_2015<br>state_abbr=NJ<br>year=%{x}<br>value=%{y}\", \"legendgroup\": \"pct_2015\", \"marker\": {\"color\": \"#636efa\", \"symbol\": \"circle\"}, \"mode\": \"markers\", \"name\": \"pct_2015\", \"showlegend\": false, \"type\": \"scatter\", \"x\": [\"2015\"], \"xaxis\": \"x21\", \"y\": [0.8818695106649937], \"yaxis\": \"y21\"}, {\"hoverlabel\": {\"namelength\": 0}, \"hovertemplate\": \"variable=pct_2015<br>state_abbr=NM<br>year=%{x}<br>value=%{y}\", \"legendgroup\": \"pct_2015\", \"marker\": {\"color\": \"#636efa\", \"symbol\": \"circle\"}, \"mode\": \"markers\", \"name\": \"pct_2015\", \"showlegend\": false, \"type\": \"scatter\", \"x\": [\"2015\"], \"xaxis\": \"x22\", \"y\": [0.8071672354948806], \"yaxis\": \"y22\"}, {\"hoverlabel\": {\"namelength\": 0}, \"hovertemplate\": \"variable=pct_2015<br>state_abbr=NY<br>year=%{x}<br>value=%{y}\", \"legendgroup\": \"pct_2015\", \"marker\": {\"color\": \"#636efa\", \"symbol\": \"circle\"}, \"mode\": \"markers\", \"name\": \"pct_2015\", \"showlegend\": false, \"type\": \"scatter\", \"x\": [\"2015\"], \"xaxis\": \"x23\", \"y\": [0.8642741612176341], \"yaxis\": \"y23\"}, {\"hoverlabel\": {\"namelength\": 0}, \"hovertemplate\": \"variable=pct_2015<br>state_abbr=NC<br>year=%{x}<br>value=%{y}\", \"legendgroup\": \"pct_2015\", \"marker\": {\"color\": \"#636efa\", \"symbol\": \"circle\"}, \"mode\": \"markers\", \"name\": \"pct_2015\", \"showlegend\": false, \"type\": \"scatter\", \"x\": [\"2015\"], \"xaxis\": \"x24\", \"y\": [0.8505905614235912], \"yaxis\": \"y24\"}, {\"hoverlabel\": {\"namelength\": 0}, \"hovertemplate\": \"variable=pct_2015<br>state_abbr=ND<br>year=%{x}<br>value=%{y}\", \"legendgroup\": \"pct_2015\", \"marker\": {\"color\": \"#636efa\", \"symbol\": \"circle\"}, \"mode\": \"markers\", \"name\": \"pct_2015\", \"showlegend\": false, \"type\": \"scatter\", \"x\": [\"2015\"], \"xaxis\": \"x25\", \"y\": [0.8653907496012759], \"yaxis\": \"y25\"}, {\"hoverlabel\": {\"namelength\": 0}, \"hovertemplate\": \"variable=pct_2015<br>state_abbr=OH<br>year=%{x}<br>value=%{y}\", \"legendgroup\": \"pct_2015\", \"marker\": {\"color\": \"#636efa\", \"symbol\": \"circle\"}, \"mode\": \"markers\", \"name\": \"pct_2015\", \"showlegend\": false, \"type\": \"scatter\", \"x\": [\"2015\"], \"xaxis\": \"x26\", \"y\": [0.8554713786441488], \"yaxis\": \"y26\"}, {\"hoverlabel\": {\"namelength\": 0}, \"hovertemplate\": \"variable=pct_2015<br>state_abbr=OK<br>year=%{x}<br>value=%{y}\", \"legendgroup\": \"pct_2015\", \"marker\": {\"color\": \"#636efa\", \"symbol\": \"circle\"}, \"mode\": \"markers\", \"name\": \"pct_2015\", \"showlegend\": false, \"type\": \"scatter\", \"x\": [\"2015\"], \"xaxis\": \"x27\", \"y\": [0.8365509243468177], \"yaxis\": \"y27\"}, {\"hoverlabel\": {\"namelength\": 0}, \"hovertemplate\": \"variable=pct_2015<br>state_abbr=OR<br>year=%{x}<br>value=%{y}\", \"legendgroup\": \"pct_2015\", \"marker\": {\"color\": \"#636efa\", \"symbol\": \"circle\"}, \"mode\": \"markers\", \"name\": \"pct_2015\", \"showlegend\": false, \"type\": \"scatter\", \"x\": [\"2015\"], \"xaxis\": \"x28\", \"y\": [0.9086402266288952], \"yaxis\": \"y28\"}, {\"hoverlabel\": {\"namelength\": 0}, \"hovertemplate\": \"variable=pct_2015<br>state_abbr=PA<br>year=%{x}<br>value=%{y}\", \"legendgroup\": \"pct_2015\", \"marker\": {\"color\": \"#636efa\", \"symbol\": \"circle\"}, \"mode\": \"markers\", \"name\": \"pct_2015\", \"showlegend\": false, \"type\": \"scatter\", \"x\": [\"2015\"], \"xaxis\": \"x29\", \"y\": [0.8455811138014527], \"yaxis\": \"y29\"}, {\"hoverlabel\": {\"namelength\": 0}, \"hovertemplate\": \"variable=pct_2015<br>state_abbr=RI<br>year=%{x}<br>value=%{y}\", \"legendgroup\": \"pct_2015\", \"marker\": {\"color\": \"#636efa\", \"symbol\": \"circle\"}, \"mode\": \"markers\", \"name\": \"pct_2015\", \"showlegend\": false, \"type\": \"scatter\", \"x\": [\"2015\"], \"xaxis\": \"x30\", \"y\": [0.8687116564417178], \"yaxis\": \"y30\"}, {\"hoverlabel\": {\"namelength\": 0}, \"hovertemplate\": \"variable=pct_2015<br>state_abbr=SC<br>year=%{x}<br>value=%{y}\", \"legendgroup\": \"pct_2015\", \"marker\": {\"color\": \"#636efa\", \"symbol\": \"circle\"}, \"mode\": \"markers\", \"name\": \"pct_2015\", \"showlegend\": false, \"type\": \"scatter\", \"x\": [\"2015\"], \"xaxis\": \"x11\", \"y\": [0.8339433738830875], \"yaxis\": \"y11\"}, {\"hoverlabel\": {\"namelength\": 0}, \"hovertemplate\": \"variable=pct_2015<br>state_abbr=SD<br>year=%{x}<br>value=%{y}\", \"legendgroup\": \"pct_2015\", \"marker\": {\"color\": \"#636efa\", \"symbol\": \"circle\"}, \"mode\": \"markers\", \"name\": \"pct_2015\", \"showlegend\": false, \"type\": \"scatter\", \"x\": [\"2015\"], \"xaxis\": \"x12\", \"y\": [0.8541543901001768], \"yaxis\": \"y12\"}, {\"hoverlabel\": {\"namelength\": 0}, \"hovertemplate\": \"variable=pct_2015<br>state_abbr=TN<br>year=%{x}<br>value=%{y}\", \"legendgroup\": \"pct_2015\", \"marker\": {\"color\": \"#636efa\", \"symbol\": \"circle\"}, \"mode\": \"markers\", \"name\": \"pct_2015\", \"showlegend\": false, \"type\": \"scatter\", \"x\": [\"2015\"], \"xaxis\": \"x13\", \"y\": [0.826739912263368], \"yaxis\": \"y13\"}, {\"hoverlabel\": {\"namelength\": 0}, \"hovertemplate\": \"variable=pct_2015<br>state_abbr=TX<br>year=%{x}<br>value=%{y}\", \"legendgroup\": \"pct_2015\", \"marker\": {\"color\": \"#636efa\", \"symbol\": \"circle\"}, \"mode\": \"markers\", \"name\": \"pct_2015\", \"showlegend\": false, \"type\": \"scatter\", \"x\": [\"2015\"], \"xaxis\": \"x14\", \"y\": [0.8666652514488292], \"yaxis\": \"y14\"}, {\"hoverlabel\": {\"namelength\": 0}, \"hovertemplate\": \"variable=pct_2015<br>state_abbr=UT<br>year=%{x}<br>value=%{y}\", \"legendgroup\": \"pct_2015\", \"marker\": {\"color\": \"#636efa\", \"symbol\": \"circle\"}, \"mode\": \"markers\", \"name\": \"pct_2015\", \"showlegend\": false, \"type\": \"scatter\", \"x\": [\"2015\"], \"xaxis\": \"x15\", \"y\": [0.9302900107411386], \"yaxis\": \"y15\"}, {\"hoverlabel\": {\"namelength\": 0}, \"hovertemplate\": \"variable=pct_2015<br>state_abbr=VT<br>year=%{x}<br>value=%{y}\", \"legendgroup\": \"pct_2015\", \"marker\": {\"color\": \"#636efa\", \"symbol\": \"circle\"}, \"mode\": \"markers\", \"name\": \"pct_2015\", \"showlegend\": false, \"type\": \"scatter\", \"x\": [\"2015\"], \"xaxis\": \"x16\", \"y\": [0.8783836798744605], \"yaxis\": \"y16\"}, {\"hoverlabel\": {\"namelength\": 0}, \"hovertemplate\": \"variable=pct_2015<br>state_abbr=VA<br>year=%{x}<br>value=%{y}\", \"legendgroup\": \"pct_2015\", \"marker\": {\"color\": \"#636efa\", \"symbol\": \"circle\"}, \"mode\": \"markers\", \"name\": \"pct_2015\", \"showlegend\": false, \"type\": \"scatter\", \"x\": [\"2015\"], \"xaxis\": \"x17\", \"y\": [0.882294248286073], \"yaxis\": \"y17\"}, {\"hoverlabel\": {\"namelength\": 0}, \"hovertemplate\": \"variable=pct_2015<br>state_abbr=WA<br>year=%{x}<br>value=%{y}\", \"legendgroup\": \"pct_2015\", \"marker\": {\"color\": \"#636efa\", \"symbol\": \"circle\"}, \"mode\": \"markers\", \"name\": \"pct_2015\", \"showlegend\": false, \"type\": \"scatter\", \"x\": [\"2015\"], \"xaxis\": \"x18\", \"y\": [0.9139485450414132], \"yaxis\": \"y18\"}, {\"hoverlabel\": {\"namelength\": 0}, \"hovertemplate\": \"variable=pct_2015<br>state_abbr=WV<br>year=%{x}<br>value=%{y}\", \"legendgroup\": \"pct_2015\", \"marker\": {\"color\": \"#636efa\", \"symbol\": \"circle\"}, \"mode\": \"markers\", \"name\": \"pct_2015\", \"showlegend\": false, \"type\": \"scatter\", \"x\": [\"2015\"], \"xaxis\": \"x19\", \"y\": [0.7987746766507828], \"yaxis\": \"y19\"}, {\"hoverlabel\": {\"namelength\": 0}, \"hovertemplate\": \"variable=pct_2015<br>state_abbr=WI<br>year=%{x}<br>value=%{y}\", \"legendgroup\": \"pct_2015\", \"marker\": {\"color\": \"#636efa\", \"symbol\": \"circle\"}, \"mode\": \"markers\", \"name\": \"pct_2015\", \"showlegend\": false, \"type\": \"scatter\", \"x\": [\"2015\"], \"xaxis\": \"x20\", \"y\": [0.8629877128691529], \"yaxis\": \"y20\"}, {\"hoverlabel\": {\"namelength\": 0}, \"hovertemplate\": \"variable=pct_2015<br>state_abbr=WY<br>year=%{x}<br>value=%{y}\", \"legendgroup\": \"pct_2015\", \"marker\": {\"color\": \"#636efa\", \"symbol\": \"circle\"}, \"mode\": \"markers\", \"name\": \"pct_2015\", \"showlegend\": false, \"type\": \"scatter\", \"x\": [\"2015\"], \"xaxis\": \"x\", \"y\": [0.891218872870249], \"yaxis\": \"y\"}, {\"hoverlabel\": {\"namelength\": 0}, \"hovertemplate\": \"variable=pct_2016<br>state_abbr=AL<br>year=%{x}<br>value=%{y}\", \"legendgroup\": \"pct_2016\", \"marker\": {\"color\": \"#EF553B\", \"symbol\": \"circle\"}, \"mode\": \"markers\", \"name\": \"pct_2016\", \"showlegend\": true, \"type\": \"scatter\", \"x\": [\"2016\"], \"xaxis\": \"x51\", \"y\": [0.8390823211875843], \"yaxis\": \"y51\"}, {\"hoverlabel\": {\"namelength\": 0}, \"hovertemplate\": \"variable=pct_2016<br>state_abbr=AK<br>year=%{x}<br>value=%{y}\", \"legendgroup\": \"pct_2016\", \"marker\": {\"color\": \"#EF553B\", \"symbol\": \"circle\"}, \"mode\": \"markers\", \"name\": \"pct_2016\", \"showlegend\": false, \"type\": \"scatter\", \"x\": [\"2016\"], \"xaxis\": \"x52\", \"y\": [0.9440643863179075], \"yaxis\": \"y52\"}, {\"hoverlabel\": {\"namelength\": 0}, \"hovertemplate\": \"variable=pct_2016<br>state_abbr=AZ<br>year=%{x}<br>value=%{y}\", \"legendgroup\": \"pct_2016\", \"marker\": {\"color\": \"#EF553B\", \"symbol\": \"circle\"}, \"mode\": \"markers\", \"name\": \"pct_2016\", \"showlegend\": false, \"type\": \"scatter\", \"x\": [\"2016\"], \"xaxis\": \"x53\", \"y\": [0.9104442062641419], \"yaxis\": \"y53\"}, {\"hoverlabel\": {\"namelength\": 0}, \"hovertemplate\": \"variable=pct_2016<br>state_abbr=AR<br>year=%{x}<br>value=%{y}\", \"legendgroup\": \"pct_2016\", \"marker\": {\"color\": \"#EF553B\", \"symbol\": \"circle\"}, \"mode\": \"markers\", \"name\": \"pct_2016\", \"showlegend\": false, \"type\": \"scatter\", \"x\": [\"2016\"], \"xaxis\": \"x54\", \"y\": [0.8448411656602783], \"yaxis\": \"y54\"}, {\"hoverlabel\": {\"namelength\": 0}, \"hovertemplate\": \"variable=pct_2016<br>state_abbr=CA<br>year=%{x}<br>value=%{y}\", \"legendgroup\": \"pct_2016\", \"marker\": {\"color\": \"#EF553B\", \"symbol\": \"circle\"}, \"mode\": \"markers\", \"name\": \"pct_2016\", \"showlegend\": false, \"type\": \"scatter\", \"x\": [\"2016\"], \"xaxis\": \"x55\", \"y\": [0.9212002286738462], \"yaxis\": \"y55\"}, {\"hoverlabel\": {\"namelength\": 0}, \"hovertemplate\": \"variable=pct_2016<br>state_abbr=CO<br>year=%{x}<br>value=%{y}\", \"legendgroup\": \"pct_2016\", \"marker\": {\"color\": \"#EF553B\", \"symbol\": \"circle\"}, \"mode\": \"markers\", \"name\": \"pct_2016\", \"showlegend\": false, \"type\": \"scatter\", \"x\": [\"2016\"], \"xaxis\": \"x56\", \"y\": [0.9344238975817923], \"yaxis\": \"y56\"}, {\"hoverlabel\": {\"namelength\": 0}, \"hovertemplate\": \"variable=pct_2016<br>state_abbr=CT<br>year=%{x}<br>value=%{y}\", \"legendgroup\": \"pct_2016\", \"marker\": {\"color\": \"#EF553B\", \"symbol\": \"circle\"}, \"mode\": \"markers\", \"name\": \"pct_2016\", \"showlegend\": false, \"type\": \"scatter\", \"x\": [\"2016\"], \"xaxis\": \"x57\", \"y\": [0.8946437780888529], \"yaxis\": \"y57\"}, {\"hoverlabel\": {\"namelength\": 0}, \"hovertemplate\": \"variable=pct_2016<br>state_abbr=DE<br>year=%{x}<br>value=%{y}\", \"legendgroup\": \"pct_2016\", \"marker\": {\"color\": \"#EF553B\", \"symbol\": \"circle\"}, \"mode\": \"markers\", \"name\": \"pct_2016\", \"showlegend\": false, \"type\": \"scatter\", \"x\": [\"2016\"], \"xaxis\": \"x58\", \"y\": [0.9108516092281401], \"yaxis\": \"y58\"}, {\"hoverlabel\": {\"namelength\": 0}, \"hovertemplate\": \"variable=pct_2016<br>state_abbr=DC<br>year=%{x}<br>value=%{y}\", \"legendgroup\": \"pct_2016\", \"marker\": {\"color\": \"#EF553B\", \"symbol\": \"circle\"}, \"mode\": \"markers\", \"name\": \"pct_2016\", \"showlegend\": false, \"type\": \"scatter\", \"x\": [\"2016\"], \"xaxis\": \"x59\", \"y\": [0.9018492176386913], \"yaxis\": \"y59\"}, {\"hoverlabel\": {\"namelength\": 0}, \"hovertemplate\": \"variable=pct_2016<br>state_abbr=FL<br>year=%{x}<br>value=%{y}\", \"legendgroup\": \"pct_2016\", \"marker\": {\"color\": \"#EF553B\", \"symbol\": \"circle\"}, \"mode\": \"markers\", \"name\": \"pct_2016\", \"showlegend\": false, \"type\": \"scatter\", \"x\": [\"2016\"], \"xaxis\": \"x60\", \"y\": [0.9014722387271407], \"yaxis\": \"y60\"}, {\"hoverlabel\": {\"namelength\": 0}, \"hovertemplate\": \"variable=pct_2016<br>state_abbr=GA<br>year=%{x}<br>value=%{y}\", \"legendgroup\": \"pct_2016\", \"marker\": {\"color\": \"#EF553B\", \"symbol\": \"circle\"}, \"mode\": \"markers\", \"name\": \"pct_2016\", \"showlegend\": false, \"type\": \"scatter\", \"x\": [\"2016\"], \"xaxis\": \"x41\", \"y\": [0.8944684083448632], \"yaxis\": \"y41\"}, {\"hoverlabel\": {\"namelength\": 0}, \"hovertemplate\": \"variable=pct_2016<br>state_abbr=HI<br>year=%{x}<br>value=%{y}\", \"legendgroup\": \"pct_2016\", \"marker\": {\"color\": \"#EF553B\", \"symbol\": \"circle\"}, \"mode\": \"markers\", \"name\": \"pct_2016\", \"showlegend\": false, \"type\": \"scatter\", \"x\": [\"2016\"], \"xaxis\": \"x42\", \"y\": [0.9127001535424435], \"yaxis\": \"y42\"}, {\"hoverlabel\": {\"namelength\": 0}, \"hovertemplate\": \"variable=pct_2016<br>state_abbr=ID<br>year=%{x}<br>value=%{y}\", \"legendgroup\": \"pct_2016\", \"marker\": {\"color\": \"#EF553B\", \"symbol\": \"circle\"}, \"mode\": \"markers\", \"name\": \"pct_2016\", \"showlegend\": false, \"type\": \"scatter\", \"x\": [\"2016\"], \"xaxis\": \"x43\", \"y\": [0.8909805205434604], \"yaxis\": \"y43\"}, {\"hoverlabel\": {\"namelength\": 0}, \"hovertemplate\": \"variable=pct_2016<br>state_abbr=IL<br>year=%{x}<br>value=%{y}\", \"legendgroup\": \"pct_2016\", \"marker\": {\"color\": \"#EF553B\", \"symbol\": \"circle\"}, \"mode\": \"markers\", \"name\": \"pct_2016\", \"showlegend\": false, \"type\": \"scatter\", \"x\": [\"2016\"], \"xaxis\": \"x44\", \"y\": [0.8904396515968478], \"yaxis\": \"y44\"}, {\"hoverlabel\": {\"namelength\": 0}, \"hovertemplate\": \"variable=pct_2016<br>state_abbr=IN<br>year=%{x}<br>value=%{y}\", \"legendgroup\": \"pct_2016\", \"marker\": {\"color\": \"#EF553B\", \"symbol\": \"circle\"}, \"mode\": \"markers\", \"name\": \"pct_2016\", \"showlegend\": false, \"type\": \"scatter\", \"x\": [\"2016\"], \"xaxis\": \"x45\", \"y\": [0.8781826076658903], \"yaxis\": \"y45\"}, {\"hoverlabel\": {\"namelength\": 0}, \"hovertemplate\": \"variable=pct_2016<br>state_abbr=IA<br>year=%{x}<br>value=%{y}\", \"legendgroup\": \"pct_2016\", \"marker\": {\"color\": \"#EF553B\", \"symbol\": \"circle\"}, \"mode\": \"markers\", \"name\": \"pct_2016\", \"showlegend\": false, \"type\": \"scatter\", \"x\": [\"2016\"], \"xaxis\": \"x46\", \"y\": [0.8789967144803269], \"yaxis\": \"y46\"}, {\"hoverlabel\": {\"namelength\": 0}, \"hovertemplate\": \"variable=pct_2016<br>state_abbr=KS<br>year=%{x}<br>value=%{y}\", \"legendgroup\": \"pct_2016\", \"marker\": {\"color\": \"#EF553B\", \"symbol\": \"circle\"}, \"mode\": \"markers\", \"name\": \"pct_2016\", \"showlegend\": false, \"type\": \"scatter\", \"x\": [\"2016\"], \"xaxis\": \"x47\", \"y\": [0.8855367435158501], \"yaxis\": \"y47\"}, {\"hoverlabel\": {\"namelength\": 0}, \"hovertemplate\": \"variable=pct_2016<br>state_abbr=KY<br>year=%{x}<br>value=%{y}\", \"legendgroup\": \"pct_2016\", \"marker\": {\"color\": \"#EF553B\", \"symbol\": \"circle\"}, \"mode\": \"markers\", \"name\": \"pct_2016\", \"showlegend\": false, \"type\": \"scatter\", \"x\": [\"2016\"], \"xaxis\": \"x48\", \"y\": [0.8489258892705361], \"yaxis\": \"y48\"}, {\"hoverlabel\": {\"namelength\": 0}, \"hovertemplate\": \"variable=pct_2016<br>state_abbr=LA<br>year=%{x}<br>value=%{y}\", \"legendgroup\": \"pct_2016\", \"marker\": {\"color\": \"#EF553B\", \"symbol\": \"circle\"}, \"mode\": \"markers\", \"name\": \"pct_2016\", \"showlegend\": false, \"type\": \"scatter\", \"x\": [\"2016\"], \"xaxis\": \"x49\", \"y\": [0.844839609483961], \"yaxis\": \"y49\"}, {\"hoverlabel\": {\"namelength\": 0}, \"hovertemplate\": \"variable=pct_2016<br>state_abbr=ME<br>year=%{x}<br>value=%{y}\", \"legendgroup\": \"pct_2016\", \"marker\": {\"color\": \"#EF553B\", \"symbol\": \"circle\"}, \"mode\": \"markers\", \"name\": \"pct_2016\", \"showlegend\": false, \"type\": \"scatter\", \"x\": [\"2016\"], \"xaxis\": \"x50\", \"y\": [0.8905397780703405], \"yaxis\": \"y50\"}, {\"hoverlabel\": {\"namelength\": 0}, \"hovertemplate\": \"variable=pct_2016<br>state_abbr=MD<br>year=%{x}<br>value=%{y}\", \"legendgroup\": \"pct_2016\", \"marker\": {\"color\": \"#EF553B\", \"symbol\": \"circle\"}, \"mode\": \"markers\", \"name\": \"pct_2016\", \"showlegend\": false, \"type\": \"scatter\", \"x\": [\"2016\"], \"xaxis\": \"x31\", \"y\": [0.9166173053264683], \"yaxis\": \"y31\"}, {\"hoverlabel\": {\"namelength\": 0}, \"hovertemplate\": \"variable=pct_2016<br>state_abbr=MA<br>year=%{x}<br>value=%{y}\", \"legendgroup\": \"pct_2016\", \"marker\": {\"color\": \"#EF553B\", \"symbol\": \"circle\"}, \"mode\": \"markers\", \"name\": \"pct_2016\", \"showlegend\": false, \"type\": \"scatter\", \"x\": [\"2016\"], \"xaxis\": \"x32\", \"y\": [0.9054855592169025], \"yaxis\": \"y32\"}, {\"hoverlabel\": {\"namelength\": 0}, \"hovertemplate\": \"variable=pct_2016<br>state_abbr=MI<br>year=%{x}<br>value=%{y}\", \"legendgroup\": \"pct_2016\", \"marker\": {\"color\": \"#EF553B\", \"symbol\": \"circle\"}, \"mode\": \"markers\", \"name\": \"pct_2016\", \"showlegend\": false, \"type\": \"scatter\", \"x\": [\"2016\"], \"xaxis\": \"x33\", \"y\": [0.8831419597343082], \"yaxis\": \"y33\"}, {\"hoverlabel\": {\"namelength\": 0}, \"hovertemplate\": \"variable=pct_2016<br>state_abbr=MN<br>year=%{x}<br>value=%{y}\", \"legendgroup\": \"pct_2016\", \"marker\": {\"color\": \"#EF553B\", \"symbol\": \"circle\"}, \"mode\": \"markers\", \"name\": \"pct_2016\", \"showlegend\": false, \"type\": \"scatter\", \"x\": [\"2016\"], \"xaxis\": \"x34\", \"y\": [0.9033834411504631], \"yaxis\": \"y34\"}, {\"hoverlabel\": {\"namelength\": 0}, \"hovertemplate\": \"variable=pct_2016<br>state_abbr=MS<br>year=%{x}<br>value=%{y}\", \"legendgroup\": \"pct_2016\", \"marker\": {\"color\": \"#EF553B\", \"symbol\": \"circle\"}, \"mode\": \"markers\", \"name\": \"pct_2016\", \"showlegend\": false, \"type\": \"scatter\", \"x\": [\"2016\"], \"xaxis\": \"x35\", \"y\": [0.8223220012828736], \"yaxis\": \"y35\"}, {\"hoverlabel\": {\"namelength\": 0}, \"hovertemplate\": \"variable=pct_2016<br>state_abbr=MO<br>year=%{x}<br>value=%{y}\", \"legendgroup\": \"pct_2016\", \"marker\": {\"color\": \"#EF553B\", \"symbol\": \"circle\"}, \"mode\": \"markers\", \"name\": \"pct_2016\", \"showlegend\": false, \"type\": \"scatter\", \"x\": [\"2016\"], \"xaxis\": \"x36\", \"y\": [0.8828513616052609], \"yaxis\": \"y36\"}, {\"hoverlabel\": {\"namelength\": 0}, \"hovertemplate\": \"variable=pct_2016<br>state_abbr=MT<br>year=%{x}<br>value=%{y}\", \"legendgroup\": \"pct_2016\", \"marker\": {\"color\": \"#EF553B\", \"symbol\": \"circle\"}, \"mode\": \"markers\", \"name\": \"pct_2016\", \"showlegend\": false, \"type\": \"scatter\", \"x\": [\"2016\"], \"xaxis\": \"x37\", \"y\": [0.8781542898341744], \"yaxis\": \"y37\"}, {\"hoverlabel\": {\"namelength\": 0}, \"hovertemplate\": \"variable=pct_2016<br>state_abbr=NE<br>year=%{x}<br>value=%{y}\", \"legendgroup\": \"pct_2016\", \"marker\": {\"color\": \"#EF553B\", \"symbol\": \"circle\"}, \"mode\": \"markers\", \"name\": \"pct_2016\", \"showlegend\": false, \"type\": \"scatter\", \"x\": [\"2016\"], \"xaxis\": \"x38\", \"y\": [0.8780096308186196], \"yaxis\": \"y38\"}, {\"hoverlabel\": {\"namelength\": 0}, \"hovertemplate\": \"variable=pct_2016<br>state_abbr=NV<br>year=%{x}<br>value=%{y}\", \"legendgroup\": \"pct_2016\", \"marker\": {\"color\": \"#EF553B\", \"symbol\": \"circle\"}, \"mode\": \"markers\", \"name\": \"pct_2016\", \"showlegend\": false, \"type\": \"scatter\", \"x\": [\"2016\"], \"xaxis\": \"x39\", \"y\": [0.9117702805155421], \"yaxis\": \"y39\"}, {\"hoverlabel\": {\"namelength\": 0}, \"hovertemplate\": \"variable=pct_2016<br>state_abbr=NH<br>year=%{x}<br>value=%{y}\", \"legendgroup\": \"pct_2016\", \"marker\": {\"color\": \"#EF553B\", \"symbol\": \"circle\"}, \"mode\": \"markers\", \"name\": \"pct_2016\", \"showlegend\": false, \"type\": \"scatter\", \"x\": [\"2016\"], \"xaxis\": \"x40\", \"y\": [0.919131771033423], \"yaxis\": \"y40\"}, {\"hoverlabel\": {\"namelength\": 0}, \"hovertemplate\": \"variable=pct_2016<br>state_abbr=NJ<br>year=%{x}<br>value=%{y}\", \"legendgroup\": \"pct_2016\", \"marker\": {\"color\": \"#EF553B\", \"symbol\": \"circle\"}, \"mode\": \"markers\", \"name\": \"pct_2016\", \"showlegend\": false, \"type\": \"scatter\", \"x\": [\"2016\"], \"xaxis\": \"x21\", \"y\": [0.9058694631397715], \"yaxis\": \"y21\"}, {\"hoverlabel\": {\"namelength\": 0}, \"hovertemplate\": \"variable=pct_2016<br>state_abbr=NM<br>year=%{x}<br>value=%{y}\", \"legendgroup\": \"pct_2016\", \"marker\": {\"color\": \"#EF553B\", \"symbol\": \"circle\"}, \"mode\": \"markers\", \"name\": \"pct_2016\", \"showlegend\": false, \"type\": \"scatter\", \"x\": [\"2016\"], \"xaxis\": \"x22\", \"y\": [0.8481012658227848], \"yaxis\": \"y22\"}, {\"hoverlabel\": {\"namelength\": 0}, \"hovertemplate\": \"variable=pct_2016<br>state_abbr=NY<br>year=%{x}<br>value=%{y}\", \"legendgroup\": \"pct_2016\", \"marker\": {\"color\": \"#EF553B\", \"symbol\": \"circle\"}, \"mode\": \"markers\", \"name\": \"pct_2016\", \"showlegend\": false, \"type\": \"scatter\", \"x\": [\"2016\"], \"xaxis\": \"x23\", \"y\": [0.8860452212512138], \"yaxis\": \"y23\"}, {\"hoverlabel\": {\"namelength\": 0}, \"hovertemplate\": \"variable=pct_2016<br>state_abbr=NC<br>year=%{x}<br>value=%{y}\", \"legendgroup\": \"pct_2016\", \"marker\": {\"color\": \"#EF553B\", \"symbol\": \"circle\"}, \"mode\": \"markers\", \"name\": \"pct_2016\", \"showlegend\": false, \"type\": \"scatter\", \"x\": [\"2016\"], \"xaxis\": \"x24\", \"y\": [0.8803832680815991], \"yaxis\": \"y24\"}, {\"hoverlabel\": {\"namelength\": 0}, \"hovertemplate\": \"variable=pct_2016<br>state_abbr=ND<br>year=%{x}<br>value=%{y}\", \"legendgroup\": \"pct_2016\", \"marker\": {\"color\": \"#EF553B\", \"symbol\": \"circle\"}, \"mode\": \"markers\", \"name\": \"pct_2016\", \"showlegend\": false, \"type\": \"scatter\", \"x\": [\"2016\"], \"xaxis\": \"x25\", \"y\": [0.8955887019993652], \"yaxis\": \"y25\"}, {\"hoverlabel\": {\"namelength\": 0}, \"hovertemplate\": \"variable=pct_2016<br>state_abbr=OH<br>year=%{x}<br>value=%{y}\", \"legendgroup\": \"pct_2016\", \"marker\": {\"color\": \"#EF553B\", \"symbol\": \"circle\"}, \"mode\": \"markers\", \"name\": \"pct_2016\", \"showlegend\": false, \"type\": \"scatter\", \"x\": [\"2016\"], \"xaxis\": \"x26\", \"y\": [0.8789759335740697], \"yaxis\": \"y26\"}, {\"hoverlabel\": {\"namelength\": 0}, \"hovertemplate\": \"variable=pct_2016<br>state_abbr=OK<br>year=%{x}<br>value=%{y}\", \"legendgroup\": \"pct_2016\", \"marker\": {\"color\": \"#EF553B\", \"symbol\": \"circle\"}, \"mode\": \"markers\", \"name\": \"pct_2016\", \"showlegend\": false, \"type\": \"scatter\", \"x\": [\"2016\"], \"xaxis\": \"x27\", \"y\": [0.8719798543524128], \"yaxis\": \"y27\"}, {\"hoverlabel\": {\"namelength\": 0}, \"hovertemplate\": \"variable=pct_2016<br>state_abbr=OR<br>year=%{x}<br>value=%{y}\", \"legendgroup\": \"pct_2016\", \"marker\": {\"color\": \"#EF553B\", \"symbol\": \"circle\"}, \"mode\": \"markers\", \"name\": \"pct_2016\", \"showlegend\": false, \"type\": \"scatter\", \"x\": [\"2016\"], \"xaxis\": \"x28\", \"y\": [0.9161417573328243], \"yaxis\": \"y28\"}, {\"hoverlabel\": {\"namelength\": 0}, \"hovertemplate\": \"variable=pct_2016<br>state_abbr=PA<br>year=%{x}<br>value=%{y}\", \"legendgroup\": \"pct_2016\", \"marker\": {\"color\": \"#EF553B\", \"symbol\": \"circle\"}, \"mode\": \"markers\", \"name\": \"pct_2016\", \"showlegend\": false, \"type\": \"scatter\", \"x\": [\"2016\"], \"xaxis\": \"x29\", \"y\": [0.8681599092713355], \"yaxis\": \"y29\"}, {\"hoverlabel\": {\"namelength\": 0}, \"hovertemplate\": \"variable=pct_2016<br>state_abbr=RI<br>year=%{x}<br>value=%{y}\", \"legendgroup\": \"pct_2016\", \"marker\": {\"color\": \"#EF553B\", \"symbol\": \"circle\"}, \"mode\": \"markers\", \"name\": \"pct_2016\", \"showlegend\": false, \"type\": \"scatter\", \"x\": [\"2016\"], \"xaxis\": \"x30\", \"y\": [0.8806957373836355], \"yaxis\": \"y30\"}, {\"hoverlabel\": {\"namelength\": 0}, \"hovertemplate\": \"variable=pct_2016<br>state_abbr=SC<br>year=%{x}<br>value=%{y}\", \"legendgroup\": \"pct_2016\", \"marker\": {\"color\": \"#EF553B\", \"symbol\": \"circle\"}, \"mode\": \"markers\", \"name\": \"pct_2016\", \"showlegend\": false, \"type\": \"scatter\", \"x\": [\"2016\"], \"xaxis\": \"x11\", \"y\": [0.8689493583257895], \"yaxis\": \"y11\"}, {\"hoverlabel\": {\"namelength\": 0}, \"hovertemplate\": \"variable=pct_2016<br>state_abbr=SD<br>year=%{x}<br>value=%{y}\", \"legendgroup\": \"pct_2016\", \"marker\": {\"color\": \"#EF553B\", \"symbol\": \"circle\"}, \"mode\": \"markers\", \"name\": \"pct_2016\", \"showlegend\": false, \"type\": \"scatter\", \"x\": [\"2016\"], \"xaxis\": \"x12\", \"y\": [0.8784431137724551], \"yaxis\": \"y12\"}, {\"hoverlabel\": {\"namelength\": 0}, \"hovertemplate\": \"variable=pct_2016<br>state_abbr=TN<br>year=%{x}<br>value=%{y}\", \"legendgroup\": \"pct_2016\", \"marker\": {\"color\": \"#EF553B\", \"symbol\": \"circle\"}, \"mode\": \"markers\", \"name\": \"pct_2016\", \"showlegend\": false, \"type\": \"scatter\", \"x\": [\"2016\"], \"xaxis\": \"x13\", \"y\": [0.8555725071392246], \"yaxis\": \"y13\"}, {\"hoverlabel\": {\"namelength\": 0}, \"hovertemplate\": \"variable=pct_2016<br>state_abbr=TX<br>year=%{x}<br>value=%{y}\", \"legendgroup\": \"pct_2016\", \"marker\": {\"color\": \"#EF553B\", \"symbol\": \"circle\"}, \"mode\": \"markers\", \"name\": \"pct_2016\", \"showlegend\": false, \"type\": \"scatter\", \"x\": [\"2016\"], \"xaxis\": \"x14\", \"y\": [0.8998594739712237], \"yaxis\": \"y14\"}, {\"hoverlabel\": {\"namelength\": 0}, \"hovertemplate\": \"variable=pct_2016<br>state_abbr=UT<br>year=%{x}<br>value=%{y}\", \"legendgroup\": \"pct_2016\", \"marker\": {\"color\": \"#EF553B\", \"symbol\": \"circle\"}, \"mode\": \"markers\", \"name\": \"pct_2016\", \"showlegend\": false, \"type\": \"scatter\", \"x\": [\"2016\"], \"xaxis\": \"x15\", \"y\": [0.9421058212278656], \"yaxis\": \"y15\"}, {\"hoverlabel\": {\"namelength\": 0}, \"hovertemplate\": \"variable=pct_2016<br>state_abbr=VT<br>year=%{x}<br>value=%{y}\", \"legendgroup\": \"pct_2016\", \"marker\": {\"color\": \"#EF553B\", \"symbol\": \"circle\"}, \"mode\": \"markers\", \"name\": \"pct_2016\", \"showlegend\": false, \"type\": \"scatter\", \"x\": [\"2016\"], \"xaxis\": \"x16\", \"y\": [0.8885400313971743], \"yaxis\": \"y16\"}, {\"hoverlabel\": {\"namelength\": 0}, \"hovertemplate\": \"variable=pct_2016<br>state_abbr=VA<br>year=%{x}<br>value=%{y}\", \"legendgroup\": \"pct_2016\", \"marker\": {\"color\": \"#EF553B\", \"symbol\": \"circle\"}, \"mode\": \"markers\", \"name\": \"pct_2016\", \"showlegend\": false, \"type\": \"scatter\", \"x\": [\"2016\"], \"xaxis\": \"x17\", \"y\": [0.9067516903258884], \"yaxis\": \"y17\"}, {\"hoverlabel\": {\"namelength\": 0}, \"hovertemplate\": \"variable=pct_2016<br>state_abbr=WA<br>year=%{x}<br>value=%{y}\", \"legendgroup\": \"pct_2016\", \"marker\": {\"color\": \"#EF553B\", \"symbol\": \"circle\"}, \"mode\": \"markers\", \"name\": \"pct_2016\", \"showlegend\": false, \"type\": \"scatter\", \"x\": [\"2016\"], \"xaxis\": \"x18\", \"y\": [0.9296629457028287], \"yaxis\": \"y18\"}, {\"hoverlabel\": {\"namelength\": 0}, \"hovertemplate\": \"variable=pct_2016<br>state_abbr=WV<br>year=%{x}<br>value=%{y}\", \"legendgroup\": \"pct_2016\", \"marker\": {\"color\": \"#EF553B\", \"symbol\": \"circle\"}, \"mode\": \"markers\", \"name\": \"pct_2016\", \"showlegend\": false, \"type\": \"scatter\", \"x\": [\"2016\"], \"xaxis\": \"x19\", \"y\": [0.8273092369477911], \"yaxis\": \"y19\"}, {\"hoverlabel\": {\"namelength\": 0}, \"hovertemplate\": \"variable=pct_2016<br>state_abbr=WI<br>year=%{x}<br>value=%{y}\", \"legendgroup\": \"pct_2016\", \"marker\": {\"color\": \"#EF553B\", \"symbol\": \"circle\"}, \"mode\": \"markers\", \"name\": \"pct_2016\", \"showlegend\": false, \"type\": \"scatter\", \"x\": [\"2016\"], \"xaxis\": \"x20\", \"y\": [0.8879243661366566], \"yaxis\": \"y20\"}, {\"hoverlabel\": {\"namelength\": 0}, \"hovertemplate\": \"variable=pct_2016<br>state_abbr=WY<br>year=%{x}<br>value=%{y}\", \"legendgroup\": \"pct_2016\", \"marker\": {\"color\": \"#EF553B\", \"symbol\": \"circle\"}, \"mode\": \"markers\", \"name\": \"pct_2016\", \"showlegend\": false, \"type\": \"scatter\", \"x\": [\"2016\"], \"xaxis\": \"x\", \"y\": [0.9038461538461539], \"yaxis\": \"y\"}, {\"hoverlabel\": {\"namelength\": 0}, \"hovertemplate\": \"variable=pct_2017<br>state_abbr=AL<br>year=%{x}<br>value=%{y}\", \"legendgroup\": \"pct_2017\", \"marker\": {\"color\": \"#00cc96\", \"symbol\": \"circle\"}, \"mode\": \"markers\", \"name\": \"pct_2017\", \"showlegend\": true, \"type\": \"scatter\", \"x\": [\"2017\"], \"xaxis\": \"x51\", \"y\": [0.8596948471520878], \"yaxis\": \"y51\"}, {\"hoverlabel\": {\"namelength\": 0}, \"hovertemplate\": \"variable=pct_2017<br>state_abbr=AK<br>year=%{x}<br>value=%{y}\", \"legendgroup\": \"pct_2017\", \"marker\": {\"color\": \"#00cc96\", \"symbol\": \"circle\"}, \"mode\": \"markers\", \"name\": \"pct_2017\", \"showlegend\": false, \"type\": \"scatter\", \"x\": [\"2017\"], \"xaxis\": \"x52\", \"y\": [0.9441563621858795], \"yaxis\": \"y52\"}, {\"hoverlabel\": {\"namelength\": 0}, \"hovertemplate\": \"variable=pct_2017<br>state_abbr=AZ<br>year=%{x}<br>value=%{y}\", \"legendgroup\": \"pct_2017\", \"marker\": {\"color\": \"#00cc96\", \"symbol\": \"circle\"}, \"mode\": \"markers\", \"name\": \"pct_2017\", \"showlegend\": false, \"type\": \"scatter\", \"x\": [\"2017\"], \"xaxis\": \"x53\", \"y\": [0.9229533881707794], \"yaxis\": \"y53\"}, {\"hoverlabel\": {\"namelength\": 0}, \"hovertemplate\": \"variable=pct_2017<br>state_abbr=AR<br>year=%{x}<br>value=%{y}\", \"legendgroup\": \"pct_2017\", \"marker\": {\"color\": \"#00cc96\", \"symbol\": \"circle\"}, \"mode\": \"markers\", \"name\": \"pct_2017\", \"showlegend\": false, \"type\": \"scatter\", \"x\": [\"2017\"], \"xaxis\": \"x54\", \"y\": [0.8608967132078744], \"yaxis\": \"y54\"}, {\"hoverlabel\": {\"namelength\": 0}, \"hovertemplate\": \"variable=pct_2017<br>state_abbr=CA<br>year=%{x}<br>value=%{y}\", \"legendgroup\": \"pct_2017\", \"marker\": {\"color\": \"#00cc96\", \"symbol\": \"circle\"}, \"mode\": \"markers\", \"name\": \"pct_2017\", \"showlegend\": false, \"type\": \"scatter\", \"x\": [\"2017\"], \"xaxis\": \"x55\", \"y\": [0.9350562471645739], \"yaxis\": \"y55\"}, {\"hoverlabel\": {\"namelength\": 0}, \"hovertemplate\": \"variable=pct_2017<br>state_abbr=CO<br>year=%{x}<br>value=%{y}\", \"legendgroup\": \"pct_2017\", \"marker\": {\"color\": \"#00cc96\", \"symbol\": \"circle\"}, \"mode\": \"markers\", \"name\": \"pct_2017\", \"showlegend\": false, \"type\": \"scatter\", \"x\": [\"2017\"], \"xaxis\": \"x56\", \"y\": [0.9425953627524308], \"yaxis\": \"y56\"}, {\"hoverlabel\": {\"namelength\": 0}, \"hovertemplate\": \"variable=pct_2017<br>state_abbr=CT<br>year=%{x}<br>value=%{y}\", \"legendgroup\": \"pct_2017\", \"marker\": {\"color\": \"#00cc96\", \"symbol\": \"circle\"}, \"mode\": \"markers\", \"name\": \"pct_2017\", \"showlegend\": false, \"type\": \"scatter\", \"x\": [\"2017\"], \"xaxis\": \"x57\", \"y\": [0.9120725235849056], \"yaxis\": \"y57\"}, {\"hoverlabel\": {\"namelength\": 0}, \"hovertemplate\": \"variable=pct_2017<br>state_abbr=DE<br>year=%{x}<br>value=%{y}\", \"legendgroup\": \"pct_2017\", \"marker\": {\"color\": \"#00cc96\", \"symbol\": \"circle\"}, \"mode\": \"markers\", \"name\": \"pct_2017\", \"showlegend\": false, \"type\": \"scatter\", \"x\": [\"2017\"], \"xaxis\": \"x58\", \"y\": [0.9348980162056441], \"yaxis\": \"y58\"}, {\"hoverlabel\": {\"namelength\": 0}, \"hovertemplate\": \"variable=pct_2017<br>state_abbr=DC<br>year=%{x}<br>value=%{y}\", \"legendgroup\": \"pct_2017\", \"marker\": {\"color\": \"#00cc96\", \"symbol\": \"circle\"}, \"mode\": \"markers\", \"name\": \"pct_2017\", \"showlegend\": false, \"type\": \"scatter\", \"x\": [\"2017\"], \"xaxis\": \"x59\", \"y\": [0.9207815275310834], \"yaxis\": \"y59\"}, {\"hoverlabel\": {\"namelength\": 0}, \"hovertemplate\": \"variable=pct_2017<br>state_abbr=FL<br>year=%{x}<br>value=%{y}\", \"legendgroup\": \"pct_2017\", \"marker\": {\"color\": \"#00cc96\", \"symbol\": \"circle\"}, \"mode\": \"markers\", \"name\": \"pct_2017\", \"showlegend\": false, \"type\": \"scatter\", \"x\": [\"2017\"], \"xaxis\": \"x60\", \"y\": [0.9198829648894669], \"yaxis\": \"y60\"}, {\"hoverlabel\": {\"namelength\": 0}, \"hovertemplate\": \"variable=pct_2017<br>state_abbr=GA<br>year=%{x}<br>value=%{y}\", \"legendgroup\": \"pct_2017\", \"marker\": {\"color\": \"#00cc96\", \"symbol\": \"circle\"}, \"mode\": \"markers\", \"name\": \"pct_2017\", \"showlegend\": false, \"type\": \"scatter\", \"x\": [\"2017\"], \"xaxis\": \"x41\", \"y\": [0.9086539745267149], \"yaxis\": \"y41\"}, {\"hoverlabel\": {\"namelength\": 0}, \"hovertemplate\": \"variable=pct_2017<br>state_abbr=HI<br>year=%{x}<br>value=%{y}\", \"legendgroup\": \"pct_2017\", \"marker\": {\"color\": \"#00cc96\", \"symbol\": \"circle\"}, \"mode\": \"markers\", \"name\": \"pct_2017\", \"showlegend\": false, \"type\": \"scatter\", \"x\": [\"2017\"], \"xaxis\": \"x42\", \"y\": [0.9098450120061122], \"yaxis\": \"y42\"}, {\"hoverlabel\": {\"namelength\": 0}, \"hovertemplate\": \"variable=pct_2017<br>state_abbr=ID<br>year=%{x}<br>value=%{y}\", \"legendgroup\": \"pct_2017\", \"marker\": {\"color\": \"#00cc96\", \"symbol\": \"circle\"}, \"mode\": \"markers\", \"name\": \"pct_2017\", \"showlegend\": false, \"type\": \"scatter\", \"x\": [\"2017\"], \"xaxis\": \"x43\", \"y\": [0.9110542313229884], \"yaxis\": \"y43\"}, {\"hoverlabel\": {\"namelength\": 0}, \"hovertemplate\": \"variable=pct_2017<br>state_abbr=IL<br>year=%{x}<br>value=%{y}\", \"legendgroup\": \"pct_2017\", \"marker\": {\"color\": \"#00cc96\", \"symbol\": \"circle\"}, \"mode\": \"markers\", \"name\": \"pct_2017\", \"showlegend\": false, \"type\": \"scatter\", \"x\": [\"2017\"], \"xaxis\": \"x44\", \"y\": [0.9031754944163704], \"yaxis\": \"y44\"}, {\"hoverlabel\": {\"namelength\": 0}, \"hovertemplate\": \"variable=pct_2017<br>state_abbr=IN<br>year=%{x}<br>value=%{y}\", \"legendgroup\": \"pct_2017\", \"marker\": {\"color\": \"#00cc96\", \"symbol\": \"circle\"}, \"mode\": \"markers\", \"name\": \"pct_2017\", \"showlegend\": false, \"type\": \"scatter\", \"x\": [\"2017\"], \"xaxis\": \"x45\", \"y\": [0.8893755132366168], \"yaxis\": \"y45\"}, {\"hoverlabel\": {\"namelength\": 0}, \"hovertemplate\": \"variable=pct_2017<br>state_abbr=IA<br>year=%{x}<br>value=%{y}\", \"legendgroup\": \"pct_2017\", \"marker\": {\"color\": \"#00cc96\", \"symbol\": \"circle\"}, \"mode\": \"markers\", \"name\": \"pct_2017\", \"showlegend\": false, \"type\": \"scatter\", \"x\": [\"2017\"], \"xaxis\": \"x46\", \"y\": [0.9003578528827038], \"yaxis\": \"y46\"}, {\"hoverlabel\": {\"namelength\": 0}, \"hovertemplate\": \"variable=pct_2017<br>state_abbr=KS<br>year=%{x}<br>value=%{y}\", \"legendgroup\": \"pct_2017\", \"marker\": {\"color\": \"#00cc96\", \"symbol\": \"circle\"}, \"mode\": \"markers\", \"name\": \"pct_2017\", \"showlegend\": false, \"type\": \"scatter\", \"x\": [\"2017\"], \"xaxis\": \"x47\", \"y\": [0.9085916740478299], \"yaxis\": \"y47\"}, {\"hoverlabel\": {\"namelength\": 0}, \"hovertemplate\": \"variable=pct_2017<br>state_abbr=KY<br>year=%{x}<br>value=%{y}\", \"legendgroup\": \"pct_2017\", \"marker\": {\"color\": \"#00cc96\", \"symbol\": \"circle\"}, \"mode\": \"markers\", \"name\": \"pct_2017\", \"showlegend\": false, \"type\": \"scatter\", \"x\": [\"2017\"], \"xaxis\": \"x48\", \"y\": [0.8616811594202899], \"yaxis\": \"y48\"}, {\"hoverlabel\": {\"namelength\": 0}, \"hovertemplate\": \"variable=pct_2017<br>state_abbr=LA<br>year=%{x}<br>value=%{y}\", \"legendgroup\": \"pct_2017\", \"marker\": {\"color\": \"#00cc96\", \"symbol\": \"circle\"}, \"mode\": \"markers\", \"name\": \"pct_2017\", \"showlegend\": false, \"type\": \"scatter\", \"x\": [\"2017\"], \"xaxis\": \"x49\", \"y\": [0.8593057394508088], \"yaxis\": \"y49\"}, {\"hoverlabel\": {\"namelength\": 0}, \"hovertemplate\": \"variable=pct_2017<br>state_abbr=ME<br>year=%{x}<br>value=%{y}\", \"legendgroup\": \"pct_2017\", \"marker\": {\"color\": \"#00cc96\", \"symbol\": \"circle\"}, \"mode\": \"markers\", \"name\": \"pct_2017\", \"showlegend\": false, \"type\": \"scatter\", \"x\": [\"2017\"], \"xaxis\": \"x50\", \"y\": [0.8968576709796673], \"yaxis\": \"y50\"}, {\"hoverlabel\": {\"namelength\": 0}, \"hovertemplate\": \"variable=pct_2017<br>state_abbr=MD<br>year=%{x}<br>value=%{y}\", \"legendgroup\": \"pct_2017\", \"marker\": {\"color\": \"#00cc96\", \"symbol\": \"circle\"}, \"mode\": \"markers\", \"name\": \"pct_2017\", \"showlegend\": false, \"type\": \"scatter\", \"x\": [\"2017\"], \"xaxis\": \"x31\", \"y\": [0.9308657636025914], \"yaxis\": \"y31\"}, {\"hoverlabel\": {\"namelength\": 0}, \"hovertemplate\": \"variable=pct_2017<br>state_abbr=MA<br>year=%{x}<br>value=%{y}\", \"legendgroup\": \"pct_2017\", \"marker\": {\"color\": \"#00cc96\", \"symbol\": \"circle\"}, \"mode\": \"markers\", \"name\": \"pct_2017\", \"showlegend\": false, \"type\": \"scatter\", \"x\": [\"2017\"], \"xaxis\": \"x32\", \"y\": [0.9141650671785029], \"yaxis\": \"y32\"}, {\"hoverlabel\": {\"namelength\": 0}, \"hovertemplate\": \"variable=pct_2017<br>state_abbr=MI<br>year=%{x}<br>value=%{y}\", \"legendgroup\": \"pct_2017\", \"marker\": {\"color\": \"#00cc96\", \"symbol\": \"circle\"}, \"mode\": \"markers\", \"name\": \"pct_2017\", \"showlegend\": false, \"type\": \"scatter\", \"x\": [\"2017\"], \"xaxis\": \"x33\", \"y\": [0.8995419847328244], \"yaxis\": \"y33\"}, {\"hoverlabel\": {\"namelength\": 0}, \"hovertemplate\": \"variable=pct_2017<br>state_abbr=MN<br>year=%{x}<br>value=%{y}\", \"legendgroup\": \"pct_2017\", \"marker\": {\"color\": \"#00cc96\", \"symbol\": \"circle\"}, \"mode\": \"markers\", \"name\": \"pct_2017\", \"showlegend\": false, \"type\": \"scatter\", \"x\": [\"2017\"], \"xaxis\": \"x34\", \"y\": [0.9209138840070299], \"yaxis\": \"y34\"}, {\"hoverlabel\": {\"namelength\": 0}, \"hovertemplate\": \"variable=pct_2017<br>state_abbr=MS<br>year=%{x}<br>value=%{y}\", \"legendgroup\": \"pct_2017\", \"marker\": {\"color\": \"#00cc96\", \"symbol\": \"circle\"}, \"mode\": \"markers\", \"name\": \"pct_2017\", \"showlegend\": false, \"type\": \"scatter\", \"x\": [\"2017\"], \"xaxis\": \"x35\", \"y\": [0.844047619047619], \"yaxis\": \"y35\"}, {\"hoverlabel\": {\"namelength\": 0}, \"hovertemplate\": \"variable=pct_2017<br>state_abbr=MO<br>year=%{x}<br>value=%{y}\", \"legendgroup\": \"pct_2017\", \"marker\": {\"color\": \"#00cc96\", \"symbol\": \"circle\"}, \"mode\": \"markers\", \"name\": \"pct_2017\", \"showlegend\": false, \"type\": \"scatter\", \"x\": [\"2017\"], \"xaxis\": \"x36\", \"y\": [0.8976562827554401], \"yaxis\": \"y36\"}, {\"hoverlabel\": {\"namelength\": 0}, \"hovertemplate\": \"variable=pct_2017<br>state_abbr=MT<br>year=%{x}<br>value=%{y}\", \"legendgroup\": \"pct_2017\", \"marker\": {\"color\": \"#00cc96\", \"symbol\": \"circle\"}, \"mode\": \"markers\", \"name\": \"pct_2017\", \"showlegend\": false, \"type\": \"scatter\", \"x\": [\"2017\"], \"xaxis\": \"x37\", \"y\": [0.8761522098794611], \"yaxis\": \"y37\"}, {\"hoverlabel\": {\"namelength\": 0}, \"hovertemplate\": \"variable=pct_2017<br>state_abbr=NE<br>year=%{x}<br>value=%{y}\", \"legendgroup\": \"pct_2017\", \"marker\": {\"color\": \"#00cc96\", \"symbol\": \"circle\"}, \"mode\": \"markers\", \"name\": \"pct_2017\", \"showlegend\": false, \"type\": \"scatter\", \"x\": [\"2017\"], \"xaxis\": \"x38\", \"y\": [0.912259774685222], \"yaxis\": \"y38\"}, {\"hoverlabel\": {\"namelength\": 0}, \"hovertemplate\": \"variable=pct_2017<br>state_abbr=NV<br>year=%{x}<br>value=%{y}\", \"legendgroup\": \"pct_2017\", \"marker\": {\"color\": \"#00cc96\", \"symbol\": \"circle\"}, \"mode\": \"markers\", \"name\": \"pct_2017\", \"showlegend\": false, \"type\": \"scatter\", \"x\": [\"2017\"], \"xaxis\": \"x39\", \"y\": [0.9322126804312078], \"yaxis\": \"y39\"}, {\"hoverlabel\": {\"namelength\": 0}, \"hovertemplate\": \"variable=pct_2017<br>state_abbr=NH<br>year=%{x}<br>value=%{y}\", \"legendgroup\": \"pct_2017\", \"marker\": {\"color\": \"#00cc96\", \"symbol\": \"circle\"}, \"mode\": \"markers\", \"name\": \"pct_2017\", \"showlegend\": false, \"type\": \"scatter\", \"x\": [\"2017\"], \"xaxis\": \"x40\", \"y\": [0.9398524683185171], \"yaxis\": \"y40\"}, {\"hoverlabel\": {\"namelength\": 0}, \"hovertemplate\": \"variable=pct_2017<br>state_abbr=NJ<br>year=%{x}<br>value=%{y}\", \"legendgroup\": \"pct_2017\", \"marker\": {\"color\": \"#00cc96\", \"symbol\": \"circle\"}, \"mode\": \"markers\", \"name\": \"pct_2017\", \"showlegend\": false, \"type\": \"scatter\", \"x\": [\"2017\"], \"xaxis\": \"x21\", \"y\": [0.925686591276252], \"yaxis\": \"y21\"}, {\"hoverlabel\": {\"namelength\": 0}, \"hovertemplate\": \"variable=pct_2017<br>state_abbr=NM<br>year=%{x}<br>value=%{y}\", \"legendgroup\": \"pct_2017\", \"marker\": {\"color\": \"#00cc96\", \"symbol\": \"circle\"}, \"mode\": \"markers\", \"name\": \"pct_2017\", \"showlegend\": false, \"type\": \"scatter\", \"x\": [\"2017\"], \"xaxis\": \"x22\", \"y\": [0.8581477139507621], \"yaxis\": \"y22\"}, {\"hoverlabel\": {\"namelength\": 0}, \"hovertemplate\": \"variable=pct_2017<br>state_abbr=NY<br>year=%{x}<br>value=%{y}\", \"legendgroup\": \"pct_2017\", \"marker\": {\"color\": \"#00cc96\", \"symbol\": \"circle\"}, \"mode\": \"markers\", \"name\": \"pct_2017\", \"showlegend\": false, \"type\": \"scatter\", \"x\": [\"2017\"], \"xaxis\": \"x23\", \"y\": [0.9006338731979793], \"yaxis\": \"y23\"}, {\"hoverlabel\": {\"namelength\": 0}, \"hovertemplate\": \"variable=pct_2017<br>state_abbr=NC<br>year=%{x}<br>value=%{y}\", \"legendgroup\": \"pct_2017\", \"marker\": {\"color\": \"#00cc96\", \"symbol\": \"circle\"}, \"mode\": \"markers\", \"name\": \"pct_2017\", \"showlegend\": false, \"type\": \"scatter\", \"x\": [\"2017\"], \"xaxis\": \"x24\", \"y\": [0.8954008748198529], \"yaxis\": \"y24\"}, {\"hoverlabel\": {\"namelength\": 0}, \"hovertemplate\": \"variable=pct_2017<br>state_abbr=ND<br>year=%{x}<br>value=%{y}\", \"legendgroup\": \"pct_2017\", \"marker\": {\"color\": \"#00cc96\", \"symbol\": \"circle\"}, \"mode\": \"markers\", \"name\": \"pct_2017\", \"showlegend\": false, \"type\": \"scatter\", \"x\": [\"2017\"], \"xaxis\": \"x25\", \"y\": [0.9035725576983876], \"yaxis\": \"y25\"}, {\"hoverlabel\": {\"namelength\": 0}, \"hovertemplate\": \"variable=pct_2017<br>state_abbr=OH<br>year=%{x}<br>value=%{y}\", \"legendgroup\": \"pct_2017\", \"marker\": {\"color\": \"#00cc96\", \"symbol\": \"circle\"}, \"mode\": \"markers\", \"name\": \"pct_2017\", \"showlegend\": false, \"type\": \"scatter\", \"x\": [\"2017\"], \"xaxis\": \"x26\", \"y\": [0.8961261570106274], \"yaxis\": \"y26\"}, {\"hoverlabel\": {\"namelength\": 0}, \"hovertemplate\": \"variable=pct_2017<br>state_abbr=OK<br>year=%{x}<br>value=%{y}\", \"legendgroup\": \"pct_2017\", \"marker\": {\"color\": \"#00cc96\", \"symbol\": \"circle\"}, \"mode\": \"markers\", \"name\": \"pct_2017\", \"showlegend\": false, \"type\": \"scatter\", \"x\": [\"2017\"], \"xaxis\": \"x27\", \"y\": [0.8941784548422198], \"yaxis\": \"y27\"}, {\"hoverlabel\": {\"namelength\": 0}, \"hovertemplate\": \"variable=pct_2017<br>state_abbr=OR<br>year=%{x}<br>value=%{y}\", \"legendgroup\": \"pct_2017\", \"marker\": {\"color\": \"#00cc96\", \"symbol\": \"circle\"}, \"mode\": \"markers\", \"name\": \"pct_2017\", \"showlegend\": false, \"type\": \"scatter\", \"x\": [\"2017\"], \"xaxis\": \"x28\", \"y\": [0.9322773759042156], \"yaxis\": \"y28\"}, {\"hoverlabel\": {\"namelength\": 0}, \"hovertemplate\": \"variable=pct_2017<br>state_abbr=PA<br>year=%{x}<br>value=%{y}\", \"legendgroup\": \"pct_2017\", \"marker\": {\"color\": \"#00cc96\", \"symbol\": \"circle\"}, \"mode\": \"markers\", \"name\": \"pct_2017\", \"showlegend\": false, \"type\": \"scatter\", \"x\": [\"2017\"], \"xaxis\": \"x29\", \"y\": [0.8798913911515732], \"yaxis\": \"y29\"}, {\"hoverlabel\": {\"namelength\": 0}, \"hovertemplate\": \"variable=pct_2017<br>state_abbr=RI<br>year=%{x}<br>value=%{y}\", \"legendgroup\": \"pct_2017\", \"marker\": {\"color\": \"#00cc96\", \"symbol\": \"circle\"}, \"mode\": \"markers\", \"name\": \"pct_2017\", \"showlegend\": false, \"type\": \"scatter\", \"x\": [\"2017\"], \"xaxis\": \"x30\", \"y\": [0.8970156555772995], \"yaxis\": \"y30\"}, {\"hoverlabel\": {\"namelength\": 0}, \"hovertemplate\": \"variable=pct_2017<br>state_abbr=SC<br>year=%{x}<br>value=%{y}\", \"legendgroup\": \"pct_2017\", \"marker\": {\"color\": \"#00cc96\", \"symbol\": \"circle\"}, \"mode\": \"markers\", \"name\": \"pct_2017\", \"showlegend\": false, \"type\": \"scatter\", \"x\": [\"2017\"], \"xaxis\": \"x11\", \"y\": [0.8853078578552307], \"yaxis\": \"y11\"}, {\"hoverlabel\": {\"namelength\": 0}, \"hovertemplate\": \"variable=pct_2017<br>state_abbr=SD<br>year=%{x}<br>value=%{y}\", \"legendgroup\": \"pct_2017\", \"marker\": {\"color\": \"#00cc96\", \"symbol\": \"circle\"}, \"mode\": \"markers\", \"name\": \"pct_2017\", \"showlegend\": false, \"type\": \"scatter\", \"x\": [\"2017\"], \"xaxis\": \"x12\", \"y\": [0.8759802497821667], \"yaxis\": \"y12\"}, {\"hoverlabel\": {\"namelength\": 0}, \"hovertemplate\": \"variable=pct_2017<br>state_abbr=TN<br>year=%{x}<br>value=%{y}\", \"legendgroup\": \"pct_2017\", \"marker\": {\"color\": \"#00cc96\", \"symbol\": \"circle\"}, \"mode\": \"markers\", \"name\": \"pct_2017\", \"showlegend\": false, \"type\": \"scatter\", \"x\": [\"2017\"], \"xaxis\": \"x13\", \"y\": [0.8759995364468652], \"yaxis\": \"y13\"}, {\"hoverlabel\": {\"namelength\": 0}, \"hovertemplate\": \"variable=pct_2017<br>state_abbr=TX<br>year=%{x}<br>value=%{y}\", \"legendgroup\": \"pct_2017\", \"marker\": {\"color\": \"#00cc96\", \"symbol\": \"circle\"}, \"mode\": \"markers\", \"name\": \"pct_2017\", \"showlegend\": false, \"type\": \"scatter\", \"x\": [\"2017\"], \"xaxis\": \"x14\", \"y\": [0.9176217541745031], \"yaxis\": \"y14\"}, {\"hoverlabel\": {\"namelength\": 0}, \"hovertemplate\": \"variable=pct_2017<br>state_abbr=UT<br>year=%{x}<br>value=%{y}\", \"legendgroup\": \"pct_2017\", \"marker\": {\"color\": \"#00cc96\", \"symbol\": \"circle\"}, \"mode\": \"markers\", \"name\": \"pct_2017\", \"showlegend\": false, \"type\": \"scatter\", \"x\": [\"2017\"], \"xaxis\": \"x15\", \"y\": [0.9558129997949559], \"yaxis\": \"y15\"}, {\"hoverlabel\": {\"namelength\": 0}, \"hovertemplate\": \"variable=pct_2017<br>state_abbr=VT<br>year=%{x}<br>value=%{y}\", \"legendgroup\": \"pct_2017\", \"marker\": {\"color\": \"#00cc96\", \"symbol\": \"circle\"}, \"mode\": \"markers\", \"name\": \"pct_2017\", \"showlegend\": false, \"type\": \"scatter\", \"x\": [\"2017\"], \"xaxis\": \"x16\", \"y\": [0.8897116134060795], \"yaxis\": \"y16\"}, {\"hoverlabel\": {\"namelength\": 0}, \"hovertemplate\": \"variable=pct_2017<br>state_abbr=VA<br>year=%{x}<br>value=%{y}\", \"legendgroup\": \"pct_2017\", \"marker\": {\"color\": \"#00cc96\", \"symbol\": \"circle\"}, \"mode\": \"markers\", \"name\": \"pct_2017\", \"showlegend\": false, \"type\": \"scatter\", \"x\": [\"2017\"], \"xaxis\": \"x17\", \"y\": [0.9167227402351885], \"yaxis\": \"y17\"}, {\"hoverlabel\": {\"namelength\": 0}, \"hovertemplate\": \"variable=pct_2017<br>state_abbr=WA<br>year=%{x}<br>value=%{y}\", \"legendgroup\": \"pct_2017\", \"marker\": {\"color\": \"#00cc96\", \"symbol\": \"circle\"}, \"mode\": \"markers\", \"name\": \"pct_2017\", \"showlegend\": false, \"type\": \"scatter\", \"x\": [\"2017\"], \"xaxis\": \"x18\", \"y\": [0.9420152091254753], \"yaxis\": \"y18\"}, {\"hoverlabel\": {\"namelength\": 0}, \"hovertemplate\": \"variable=pct_2017<br>state_abbr=WV<br>year=%{x}<br>value=%{y}\", \"legendgroup\": \"pct_2017\", \"marker\": {\"color\": \"#00cc96\", \"symbol\": \"circle\"}, \"mode\": \"markers\", \"name\": \"pct_2017\", \"showlegend\": false, \"type\": \"scatter\", \"x\": [\"2017\"], \"xaxis\": \"x19\", \"y\": [0.8474765832517824], \"yaxis\": \"y19\"}, {\"hoverlabel\": {\"namelength\": 0}, \"hovertemplate\": \"variable=pct_2017<br>state_abbr=WI<br>year=%{x}<br>value=%{y}\", \"legendgroup\": \"pct_2017\", \"marker\": {\"color\": \"#00cc96\", \"symbol\": \"circle\"}, \"mode\": \"markers\", \"name\": \"pct_2017\", \"showlegend\": false, \"type\": \"scatter\", \"x\": [\"2017\"], \"xaxis\": \"x20\", \"y\": [0.8931200272305663], \"yaxis\": \"y20\"}, {\"hoverlabel\": {\"namelength\": 0}, \"hovertemplate\": \"variable=pct_2017<br>state_abbr=WY<br>year=%{x}<br>value=%{y}\", \"legendgroup\": \"pct_2017\", \"marker\": {\"color\": \"#00cc96\", \"symbol\": \"circle\"}, \"mode\": \"markers\", \"name\": \"pct_2017\", \"showlegend\": false, \"type\": \"scatter\", \"x\": [\"2017\"], \"xaxis\": \"x\", \"y\": [0.9140832595217007], \"yaxis\": \"y\"}],\n",
       "                        {\"annotations\": [{\"font\": {}, \"showarrow\": false, \"text\": \"WY\", \"x\": 0.04100000000000001, \"xanchor\": \"center\", \"xref\": \"paper\", \"y\": 0.10833333333333331, \"yanchor\": \"bottom\", \"yref\": \"paper\"}, {\"font\": {}, \"showarrow\": false, \"text\": \"SC\", \"x\": 0.04100000000000001, \"xanchor\": \"center\", \"xref\": \"paper\", \"y\": 0.2866666666666666, \"yanchor\": \"bottom\", \"yref\": \"paper\"}, {\"font\": {}, \"showarrow\": false, \"text\": \"SD\", \"x\": 0.14300000000000004, \"xanchor\": \"center\", \"xref\": \"paper\", \"y\": 0.2866666666666666, \"yanchor\": \"bottom\", \"yref\": \"paper\"}, {\"font\": {}, \"showarrow\": false, \"text\": \"TN\", \"x\": 0.24500000000000005, \"xanchor\": \"center\", \"xref\": \"paper\", \"y\": 0.2866666666666666, \"yanchor\": \"bottom\", \"yref\": \"paper\"}, {\"font\": {}, \"showarrow\": false, \"text\": \"TX\", \"x\": 0.3470000000000001, \"xanchor\": \"center\", \"xref\": \"paper\", \"y\": 0.2866666666666666, \"yanchor\": \"bottom\", \"yref\": \"paper\"}, {\"font\": {}, \"showarrow\": false, \"text\": \"UT\", \"x\": 0.44900000000000007, \"xanchor\": \"center\", \"xref\": \"paper\", \"y\": 0.2866666666666666, \"yanchor\": \"bottom\", \"yref\": \"paper\"}, {\"font\": {}, \"showarrow\": false, \"text\": \"VT\", \"x\": 0.5510000000000002, \"xanchor\": \"center\", \"xref\": \"paper\", \"y\": 0.2866666666666666, \"yanchor\": \"bottom\", \"yref\": \"paper\"}, {\"font\": {}, \"showarrow\": false, \"text\": \"VA\", \"x\": 0.6530000000000001, \"xanchor\": \"center\", \"xref\": \"paper\", \"y\": 0.2866666666666666, \"yanchor\": \"bottom\", \"yref\": \"paper\"}, {\"font\": {}, \"showarrow\": false, \"text\": \"WA\", \"x\": 0.7550000000000001, \"xanchor\": \"center\", \"xref\": \"paper\", \"y\": 0.2866666666666666, \"yanchor\": \"bottom\", \"yref\": \"paper\"}, {\"font\": {}, \"showarrow\": false, \"text\": \"WV\", \"x\": 0.8570000000000002, \"xanchor\": \"center\", \"xref\": \"paper\", \"y\": 0.2866666666666666, \"yanchor\": \"bottom\", \"yref\": \"paper\"}, {\"font\": {}, \"showarrow\": false, \"text\": \"WI\", \"x\": 0.9590000000000002, \"xanchor\": \"center\", \"xref\": \"paper\", \"y\": 0.2866666666666666, \"yanchor\": \"bottom\", \"yref\": \"paper\"}, {\"font\": {}, \"showarrow\": false, \"text\": \"NJ\", \"x\": 0.04100000000000001, \"xanchor\": \"center\", \"xref\": \"paper\", \"y\": 0.46499999999999997, \"yanchor\": \"bottom\", \"yref\": \"paper\"}, {\"font\": {}, \"showarrow\": false, \"text\": \"NM\", \"x\": 0.14300000000000004, \"xanchor\": \"center\", \"xref\": \"paper\", \"y\": 0.46499999999999997, \"yanchor\": \"bottom\", \"yref\": \"paper\"}, {\"font\": {}, \"showarrow\": false, \"text\": \"NY\", \"x\": 0.24500000000000005, \"xanchor\": \"center\", \"xref\": \"paper\", \"y\": 0.46499999999999997, \"yanchor\": \"bottom\", \"yref\": \"paper\"}, {\"font\": {}, \"showarrow\": false, \"text\": \"NC\", \"x\": 0.3470000000000001, \"xanchor\": \"center\", \"xref\": \"paper\", \"y\": 0.46499999999999997, \"yanchor\": \"bottom\", \"yref\": \"paper\"}, {\"font\": {}, \"showarrow\": false, \"text\": \"ND\", \"x\": 0.44900000000000007, \"xanchor\": \"center\", \"xref\": \"paper\", \"y\": 0.46499999999999997, \"yanchor\": \"bottom\", \"yref\": \"paper\"}, {\"font\": {}, \"showarrow\": false, \"text\": \"OH\", \"x\": 0.5510000000000002, \"xanchor\": \"center\", \"xref\": \"paper\", \"y\": 0.46499999999999997, \"yanchor\": \"bottom\", \"yref\": \"paper\"}, {\"font\": {}, \"showarrow\": false, \"text\": \"OK\", \"x\": 0.6530000000000001, \"xanchor\": \"center\", \"xref\": \"paper\", \"y\": 0.46499999999999997, \"yanchor\": \"bottom\", \"yref\": \"paper\"}, {\"font\": {}, \"showarrow\": false, \"text\": \"OR\", \"x\": 0.7550000000000001, \"xanchor\": \"center\", \"xref\": \"paper\", \"y\": 0.46499999999999997, \"yanchor\": \"bottom\", \"yref\": \"paper\"}, {\"font\": {}, \"showarrow\": false, \"text\": \"PA\", \"x\": 0.8570000000000002, \"xanchor\": \"center\", \"xref\": \"paper\", \"y\": 0.46499999999999997, \"yanchor\": \"bottom\", \"yref\": \"paper\"}, {\"font\": {}, \"showarrow\": false, \"text\": \"RI\", \"x\": 0.9590000000000002, \"xanchor\": \"center\", \"xref\": \"paper\", \"y\": 0.46499999999999997, \"yanchor\": \"bottom\", \"yref\": \"paper\"}, {\"font\": {}, \"showarrow\": false, \"text\": \"MD\", \"x\": 0.04100000000000001, \"xanchor\": \"center\", \"xref\": \"paper\", \"y\": 0.6433333333333332, \"yanchor\": \"bottom\", \"yref\": \"paper\"}, {\"font\": {}, \"showarrow\": false, \"text\": \"MA\", \"x\": 0.14300000000000004, \"xanchor\": \"center\", \"xref\": \"paper\", \"y\": 0.6433333333333332, \"yanchor\": \"bottom\", \"yref\": \"paper\"}, {\"font\": {}, \"showarrow\": false, \"text\": \"MI\", \"x\": 0.24500000000000005, \"xanchor\": \"center\", \"xref\": \"paper\", \"y\": 0.6433333333333332, \"yanchor\": \"bottom\", \"yref\": \"paper\"}, {\"font\": {}, \"showarrow\": false, \"text\": \"MN\", \"x\": 0.3470000000000001, \"xanchor\": \"center\", \"xref\": \"paper\", \"y\": 0.6433333333333332, \"yanchor\": \"bottom\", \"yref\": \"paper\"}, {\"font\": {}, \"showarrow\": false, \"text\": \"MS\", \"x\": 0.44900000000000007, \"xanchor\": \"center\", \"xref\": \"paper\", \"y\": 0.6433333333333332, \"yanchor\": \"bottom\", \"yref\": \"paper\"}, {\"font\": {}, \"showarrow\": false, \"text\": \"MO\", \"x\": 0.5510000000000002, \"xanchor\": \"center\", \"xref\": \"paper\", \"y\": 0.6433333333333332, \"yanchor\": \"bottom\", \"yref\": \"paper\"}, {\"font\": {}, \"showarrow\": false, \"text\": \"MT\", \"x\": 0.6530000000000001, \"xanchor\": \"center\", \"xref\": \"paper\", \"y\": 0.6433333333333332, \"yanchor\": \"bottom\", \"yref\": \"paper\"}, {\"font\": {}, \"showarrow\": false, \"text\": \"NE\", \"x\": 0.7550000000000001, \"xanchor\": \"center\", \"xref\": \"paper\", \"y\": 0.6433333333333332, \"yanchor\": \"bottom\", \"yref\": \"paper\"}, {\"font\": {}, \"showarrow\": false, \"text\": \"NV\", \"x\": 0.8570000000000002, \"xanchor\": \"center\", \"xref\": \"paper\", \"y\": 0.6433333333333332, \"yanchor\": \"bottom\", \"yref\": \"paper\"}, {\"font\": {}, \"showarrow\": false, \"text\": \"NH\", \"x\": 0.9590000000000002, \"xanchor\": \"center\", \"xref\": \"paper\", \"y\": 0.6433333333333332, \"yanchor\": \"bottom\", \"yref\": \"paper\"}, {\"font\": {}, \"showarrow\": false, \"text\": \"GA\", \"x\": 0.04100000000000001, \"xanchor\": \"center\", \"xref\": \"paper\", \"y\": 0.8216666666666665, \"yanchor\": \"bottom\", \"yref\": \"paper\"}, {\"font\": {}, \"showarrow\": false, \"text\": \"HI\", \"x\": 0.14300000000000004, \"xanchor\": \"center\", \"xref\": \"paper\", \"y\": 0.8216666666666665, \"yanchor\": \"bottom\", \"yref\": \"paper\"}, {\"font\": {}, \"showarrow\": false, \"text\": \"ID\", \"x\": 0.24500000000000005, \"xanchor\": \"center\", \"xref\": \"paper\", \"y\": 0.8216666666666665, \"yanchor\": \"bottom\", \"yref\": \"paper\"}, {\"font\": {}, \"showarrow\": false, \"text\": \"IL\", \"x\": 0.3470000000000001, \"xanchor\": \"center\", \"xref\": \"paper\", \"y\": 0.8216666666666665, \"yanchor\": \"bottom\", \"yref\": \"paper\"}, {\"font\": {}, \"showarrow\": false, \"text\": \"IN\", \"x\": 0.44900000000000007, \"xanchor\": \"center\", \"xref\": \"paper\", \"y\": 0.8216666666666665, \"yanchor\": \"bottom\", \"yref\": \"paper\"}, {\"font\": {}, \"showarrow\": false, \"text\": \"IA\", \"x\": 0.5510000000000002, \"xanchor\": \"center\", \"xref\": \"paper\", \"y\": 0.8216666666666665, \"yanchor\": \"bottom\", \"yref\": \"paper\"}, {\"font\": {}, \"showarrow\": false, \"text\": \"KS\", \"x\": 0.6530000000000001, \"xanchor\": \"center\", \"xref\": \"paper\", \"y\": 0.8216666666666665, \"yanchor\": \"bottom\", \"yref\": \"paper\"}, {\"font\": {}, \"showarrow\": false, \"text\": \"KY\", \"x\": 0.7550000000000001, \"xanchor\": \"center\", \"xref\": \"paper\", \"y\": 0.8216666666666665, \"yanchor\": \"bottom\", \"yref\": \"paper\"}, {\"font\": {}, \"showarrow\": false, \"text\": \"LA\", \"x\": 0.8570000000000002, \"xanchor\": \"center\", \"xref\": \"paper\", \"y\": 0.8216666666666665, \"yanchor\": \"bottom\", \"yref\": \"paper\"}, {\"font\": {}, \"showarrow\": false, \"text\": \"ME\", \"x\": 0.9590000000000002, \"xanchor\": \"center\", \"xref\": \"paper\", \"y\": 0.8216666666666665, \"yanchor\": \"bottom\", \"yref\": \"paper\"}, {\"font\": {}, \"showarrow\": false, \"text\": \"AL\", \"x\": 0.04100000000000001, \"xanchor\": \"center\", \"xref\": \"paper\", \"y\": 0.9999999999999999, \"yanchor\": \"bottom\", \"yref\": \"paper\"}, {\"font\": {}, \"showarrow\": false, \"text\": \"AK\", \"x\": 0.14300000000000004, \"xanchor\": \"center\", \"xref\": \"paper\", \"y\": 0.9999999999999999, \"yanchor\": \"bottom\", \"yref\": \"paper\"}, {\"font\": {}, \"showarrow\": false, \"text\": \"AZ\", \"x\": 0.24500000000000005, \"xanchor\": \"center\", \"xref\": \"paper\", \"y\": 0.9999999999999999, \"yanchor\": \"bottom\", \"yref\": \"paper\"}, {\"font\": {}, \"showarrow\": false, \"text\": \"AR\", \"x\": 0.3470000000000001, \"xanchor\": \"center\", \"xref\": \"paper\", \"y\": 0.9999999999999999, \"yanchor\": \"bottom\", \"yref\": \"paper\"}, {\"font\": {}, \"showarrow\": false, \"text\": \"CA\", \"x\": 0.44900000000000007, \"xanchor\": \"center\", \"xref\": \"paper\", \"y\": 0.9999999999999999, \"yanchor\": \"bottom\", \"yref\": \"paper\"}, {\"font\": {}, \"showarrow\": false, \"text\": \"CO\", \"x\": 0.5510000000000002, \"xanchor\": \"center\", \"xref\": \"paper\", \"y\": 0.9999999999999999, \"yanchor\": \"bottom\", \"yref\": \"paper\"}, {\"font\": {}, \"showarrow\": false, \"text\": \"CT\", \"x\": 0.6530000000000001, \"xanchor\": \"center\", \"xref\": \"paper\", \"y\": 0.9999999999999999, \"yanchor\": \"bottom\", \"yref\": \"paper\"}, {\"font\": {}, \"showarrow\": false, \"text\": \"DE\", \"x\": 0.7550000000000001, \"xanchor\": \"center\", \"xref\": \"paper\", \"y\": 0.9999999999999999, \"yanchor\": \"bottom\", \"yref\": \"paper\"}, {\"font\": {}, \"showarrow\": false, \"text\": \"DC\", \"x\": 0.8570000000000002, \"xanchor\": \"center\", \"xref\": \"paper\", \"y\": 0.9999999999999999, \"yanchor\": \"bottom\", \"yref\": \"paper\"}, {\"font\": {}, \"showarrow\": false, \"text\": \"FL\", \"x\": 0.9590000000000002, \"xanchor\": \"center\", \"xref\": \"paper\", \"y\": 0.9999999999999999, \"yanchor\": \"bottom\", \"yref\": \"paper\"}], \"legend\": {\"title\": {\"text\": \"variable\"}, \"tracegroupgap\": 0}, \"margin\": {\"t\": 60}, \"template\": {\"data\": {\"bar\": [{\"error_x\": {\"color\": \"#2a3f5f\"}, \"error_y\": {\"color\": \"#2a3f5f\"}, \"marker\": {\"line\": {\"color\": \"#E5ECF6\", \"width\": 0.5}}, \"type\": \"bar\"}], \"barpolar\": [{\"marker\": {\"line\": {\"color\": \"#E5ECF6\", \"width\": 0.5}}, \"type\": \"barpolar\"}], \"carpet\": [{\"aaxis\": {\"endlinecolor\": \"#2a3f5f\", \"gridcolor\": \"white\", \"linecolor\": \"white\", \"minorgridcolor\": \"white\", \"startlinecolor\": \"#2a3f5f\"}, \"baxis\": {\"endlinecolor\": \"#2a3f5f\", \"gridcolor\": \"white\", \"linecolor\": \"white\", \"minorgridcolor\": \"white\", \"startlinecolor\": \"#2a3f5f\"}, \"type\": \"carpet\"}], \"choropleth\": [{\"colorbar\": {\"outlinewidth\": 0, \"ticks\": \"\"}, \"type\": \"choropleth\"}], \"contour\": [{\"colorbar\": {\"outlinewidth\": 0, \"ticks\": \"\"}, \"colorscale\": [[0.0, \"#0d0887\"], [0.1111111111111111, \"#46039f\"], [0.2222222222222222, \"#7201a8\"], [0.3333333333333333, \"#9c179e\"], [0.4444444444444444, \"#bd3786\"], [0.5555555555555556, \"#d8576b\"], [0.6666666666666666, \"#ed7953\"], [0.7777777777777778, \"#fb9f3a\"], [0.8888888888888888, \"#fdca26\"], [1.0, \"#f0f921\"]], \"type\": \"contour\"}], \"contourcarpet\": [{\"colorbar\": {\"outlinewidth\": 0, \"ticks\": \"\"}, \"type\": \"contourcarpet\"}], \"heatmap\": [{\"colorbar\": {\"outlinewidth\": 0, \"ticks\": \"\"}, \"colorscale\": [[0.0, \"#0d0887\"], [0.1111111111111111, \"#46039f\"], [0.2222222222222222, \"#7201a8\"], [0.3333333333333333, \"#9c179e\"], [0.4444444444444444, \"#bd3786\"], [0.5555555555555556, \"#d8576b\"], [0.6666666666666666, \"#ed7953\"], [0.7777777777777778, \"#fb9f3a\"], [0.8888888888888888, \"#fdca26\"], [1.0, \"#f0f921\"]], \"type\": \"heatmap\"}], \"heatmapgl\": [{\"colorbar\": {\"outlinewidth\": 0, \"ticks\": \"\"}, \"colorscale\": [[0.0, \"#0d0887\"], [0.1111111111111111, \"#46039f\"], [0.2222222222222222, \"#7201a8\"], [0.3333333333333333, \"#9c179e\"], [0.4444444444444444, \"#bd3786\"], [0.5555555555555556, \"#d8576b\"], [0.6666666666666666, \"#ed7953\"], [0.7777777777777778, \"#fb9f3a\"], [0.8888888888888888, \"#fdca26\"], [1.0, \"#f0f921\"]], \"type\": \"heatmapgl\"}], \"histogram\": [{\"marker\": {\"colorbar\": {\"outlinewidth\": 0, \"ticks\": \"\"}}, \"type\": \"histogram\"}], \"histogram2d\": [{\"colorbar\": {\"outlinewidth\": 0, \"ticks\": \"\"}, \"colorscale\": [[0.0, \"#0d0887\"], [0.1111111111111111, \"#46039f\"], [0.2222222222222222, \"#7201a8\"], [0.3333333333333333, \"#9c179e\"], [0.4444444444444444, \"#bd3786\"], [0.5555555555555556, \"#d8576b\"], [0.6666666666666666, \"#ed7953\"], [0.7777777777777778, \"#fb9f3a\"], [0.8888888888888888, \"#fdca26\"], [1.0, \"#f0f921\"]], \"type\": \"histogram2d\"}], \"histogram2dcontour\": [{\"colorbar\": {\"outlinewidth\": 0, \"ticks\": \"\"}, \"colorscale\": [[0.0, \"#0d0887\"], [0.1111111111111111, \"#46039f\"], [0.2222222222222222, \"#7201a8\"], [0.3333333333333333, \"#9c179e\"], [0.4444444444444444, \"#bd3786\"], [0.5555555555555556, \"#d8576b\"], [0.6666666666666666, \"#ed7953\"], [0.7777777777777778, \"#fb9f3a\"], [0.8888888888888888, \"#fdca26\"], [1.0, \"#f0f921\"]], \"type\": \"histogram2dcontour\"}], \"mesh3d\": [{\"colorbar\": {\"outlinewidth\": 0, \"ticks\": \"\"}, \"type\": \"mesh3d\"}], \"parcoords\": [{\"line\": {\"colorbar\": {\"outlinewidth\": 0, \"ticks\": \"\"}}, \"type\": \"parcoords\"}], \"pie\": [{\"automargin\": true, \"type\": \"pie\"}], \"scatter\": [{\"marker\": {\"colorbar\": {\"outlinewidth\": 0, \"ticks\": \"\"}}, \"type\": \"scatter\"}], \"scatter3d\": [{\"line\": {\"colorbar\": {\"outlinewidth\": 0, \"ticks\": \"\"}}, \"marker\": {\"colorbar\": {\"outlinewidth\": 0, \"ticks\": \"\"}}, \"type\": \"scatter3d\"}], \"scattercarpet\": [{\"marker\": {\"colorbar\": {\"outlinewidth\": 0, \"ticks\": \"\"}}, \"type\": \"scattercarpet\"}], \"scattergeo\": [{\"marker\": {\"colorbar\": {\"outlinewidth\": 0, \"ticks\": \"\"}}, \"type\": \"scattergeo\"}], \"scattergl\": [{\"marker\": {\"colorbar\": {\"outlinewidth\": 0, \"ticks\": \"\"}}, \"type\": \"scattergl\"}], \"scattermapbox\": [{\"marker\": {\"colorbar\": {\"outlinewidth\": 0, \"ticks\": \"\"}}, \"type\": \"scattermapbox\"}], \"scatterpolar\": [{\"marker\": {\"colorbar\": {\"outlinewidth\": 0, \"ticks\": \"\"}}, \"type\": \"scatterpolar\"}], \"scatterpolargl\": [{\"marker\": {\"colorbar\": {\"outlinewidth\": 0, \"ticks\": \"\"}}, \"type\": \"scatterpolargl\"}], \"scatterternary\": [{\"marker\": {\"colorbar\": {\"outlinewidth\": 0, \"ticks\": \"\"}}, \"type\": \"scatterternary\"}], \"surface\": [{\"colorbar\": {\"outlinewidth\": 0, \"ticks\": \"\"}, \"colorscale\": [[0.0, \"#0d0887\"], [0.1111111111111111, \"#46039f\"], [0.2222222222222222, \"#7201a8\"], [0.3333333333333333, \"#9c179e\"], [0.4444444444444444, \"#bd3786\"], [0.5555555555555556, \"#d8576b\"], [0.6666666666666666, \"#ed7953\"], [0.7777777777777778, \"#fb9f3a\"], [0.8888888888888888, \"#fdca26\"], [1.0, \"#f0f921\"]], \"type\": \"surface\"}], \"table\": [{\"cells\": {\"fill\": {\"color\": \"#EBF0F8\"}, \"line\": {\"color\": \"white\"}}, \"header\": {\"fill\": {\"color\": \"#C8D4E3\"}, \"line\": {\"color\": \"white\"}}, \"type\": \"table\"}]}, \"layout\": {\"annotationdefaults\": {\"arrowcolor\": \"#2a3f5f\", \"arrowhead\": 0, \"arrowwidth\": 1}, \"coloraxis\": {\"colorbar\": {\"outlinewidth\": 0, \"ticks\": \"\"}}, \"colorscale\": {\"diverging\": [[0, \"#8e0152\"], [0.1, \"#c51b7d\"], [0.2, \"#de77ae\"], [0.3, \"#f1b6da\"], [0.4, \"#fde0ef\"], [0.5, \"#f7f7f7\"], [0.6, \"#e6f5d0\"], [0.7, \"#b8e186\"], [0.8, \"#7fbc41\"], [0.9, \"#4d9221\"], [1, \"#276419\"]], \"sequential\": [[0.0, \"#0d0887\"], [0.1111111111111111, \"#46039f\"], [0.2222222222222222, \"#7201a8\"], [0.3333333333333333, \"#9c179e\"], [0.4444444444444444, \"#bd3786\"], [0.5555555555555556, \"#d8576b\"], [0.6666666666666666, \"#ed7953\"], [0.7777777777777778, \"#fb9f3a\"], [0.8888888888888888, \"#fdca26\"], [1.0, \"#f0f921\"]], \"sequentialminus\": [[0.0, \"#0d0887\"], [0.1111111111111111, \"#46039f\"], [0.2222222222222222, \"#7201a8\"], [0.3333333333333333, \"#9c179e\"], [0.4444444444444444, \"#bd3786\"], [0.5555555555555556, \"#d8576b\"], [0.6666666666666666, \"#ed7953\"], [0.7777777777777778, \"#fb9f3a\"], [0.8888888888888888, \"#fdca26\"], [1.0, \"#f0f921\"]]}, \"colorway\": [\"#636efa\", \"#EF553B\", \"#00cc96\", \"#ab63fa\", \"#FFA15A\", \"#19d3f3\", \"#FF6692\", \"#B6E880\", \"#FF97FF\", \"#FECB52\"], \"font\": {\"color\": \"#2a3f5f\"}, \"geo\": {\"bgcolor\": \"white\", \"lakecolor\": \"white\", \"landcolor\": \"#E5ECF6\", \"showlakes\": true, \"showland\": true, \"subunitcolor\": \"white\"}, \"hoverlabel\": {\"align\": \"left\"}, \"hovermode\": \"closest\", \"mapbox\": {\"style\": \"light\"}, \"paper_bgcolor\": \"white\", \"plot_bgcolor\": \"#E5ECF6\", \"polar\": {\"angularaxis\": {\"gridcolor\": \"white\", \"linecolor\": \"white\", \"ticks\": \"\"}, \"bgcolor\": \"#E5ECF6\", \"radialaxis\": {\"gridcolor\": \"white\", \"linecolor\": \"white\", \"ticks\": \"\"}}, \"scene\": {\"xaxis\": {\"backgroundcolor\": \"#E5ECF6\", \"gridcolor\": \"white\", \"gridwidth\": 2, \"linecolor\": \"white\", \"showbackground\": true, \"ticks\": \"\", \"zerolinecolor\": \"white\"}, \"yaxis\": {\"backgroundcolor\": \"#E5ECF6\", \"gridcolor\": \"white\", \"gridwidth\": 2, \"linecolor\": \"white\", \"showbackground\": true, \"ticks\": \"\", \"zerolinecolor\": \"white\"}, \"zaxis\": {\"backgroundcolor\": \"#E5ECF6\", \"gridcolor\": \"white\", \"gridwidth\": 2, \"linecolor\": \"white\", \"showbackground\": true, \"ticks\": \"\", \"zerolinecolor\": \"white\"}}, \"shapedefaults\": {\"line\": {\"color\": \"#2a3f5f\"}}, \"ternary\": {\"aaxis\": {\"gridcolor\": \"white\", \"linecolor\": \"white\", \"ticks\": \"\"}, \"baxis\": {\"gridcolor\": \"white\", \"linecolor\": \"white\", \"ticks\": \"\"}, \"bgcolor\": \"#E5ECF6\", \"caxis\": {\"gridcolor\": \"white\", \"linecolor\": \"white\", \"ticks\": \"\"}}, \"title\": {\"x\": 0.05}, \"xaxis\": {\"automargin\": true, \"gridcolor\": \"white\", \"linecolor\": \"white\", \"ticks\": \"\", \"title\": {\"standoff\": 15}, \"zerolinecolor\": \"white\", \"zerolinewidth\": 2}, \"yaxis\": {\"automargin\": true, \"gridcolor\": \"white\", \"linecolor\": \"white\", \"ticks\": \"\", \"title\": {\"standoff\": 15}, \"zerolinecolor\": \"white\", \"zerolinewidth\": 2}}}, \"title\": {\"text\": \"State by State Estimates of Computer Access\"}, \"xaxis\": {\"anchor\": \"y\", \"domain\": [0.0, 0.08200000000000002], \"title\": {\"text\": \"year\"}}, \"xaxis10\": {\"anchor\": \"y10\", \"domain\": [0.9180000000000001, 1.0], \"matches\": \"x\", \"title\": {\"text\": \"year\"}}, \"xaxis11\": {\"anchor\": \"y11\", \"domain\": [0.0, 0.08200000000000002], \"matches\": \"x\", \"showticklabels\": false}, \"xaxis12\": {\"anchor\": \"y12\", \"domain\": [0.10200000000000002, 0.18400000000000005], \"matches\": \"x\", \"showticklabels\": false}, \"xaxis13\": {\"anchor\": \"y13\", \"domain\": [0.20400000000000004, 0.28600000000000003], \"matches\": \"x\", \"showticklabels\": false}, \"xaxis14\": {\"anchor\": \"y14\", \"domain\": [0.30600000000000005, 0.38800000000000007], \"matches\": \"x\", \"showticklabels\": false}, \"xaxis15\": {\"anchor\": \"y15\", \"domain\": [0.4080000000000001, 0.4900000000000001], \"matches\": \"x\", \"showticklabels\": false}, \"xaxis16\": {\"anchor\": \"y16\", \"domain\": [0.5100000000000001, 0.5920000000000001], \"matches\": \"x\", \"showticklabels\": false}, \"xaxis17\": {\"anchor\": \"y17\", \"domain\": [0.6120000000000001, 0.6940000000000002], \"matches\": \"x\", \"showticklabels\": false}, \"xaxis18\": {\"anchor\": \"y18\", \"domain\": [0.7140000000000001, 0.796], \"matches\": \"x\", \"showticklabels\": false}, \"xaxis19\": {\"anchor\": \"y19\", \"domain\": [0.8160000000000002, 0.8980000000000001], \"matches\": \"x\", \"showticklabels\": false}, \"xaxis2\": {\"anchor\": \"y2\", \"domain\": [0.10200000000000002, 0.18400000000000005], \"matches\": \"x\", \"title\": {\"text\": \"year\"}}, \"xaxis20\": {\"anchor\": \"y20\", \"domain\": [0.9180000000000001, 1.0], \"matches\": \"x\", \"showticklabels\": false}, \"xaxis21\": {\"anchor\": \"y21\", \"domain\": [0.0, 0.08200000000000002], \"matches\": \"x\", \"showticklabels\": false}, \"xaxis22\": {\"anchor\": \"y22\", \"domain\": [0.10200000000000002, 0.18400000000000005], \"matches\": \"x\", \"showticklabels\": false}, \"xaxis23\": {\"anchor\": \"y23\", \"domain\": [0.20400000000000004, 0.28600000000000003], \"matches\": \"x\", \"showticklabels\": false}, \"xaxis24\": {\"anchor\": \"y24\", \"domain\": [0.30600000000000005, 0.38800000000000007], \"matches\": \"x\", \"showticklabels\": false}, \"xaxis25\": {\"anchor\": \"y25\", \"domain\": [0.4080000000000001, 0.4900000000000001], \"matches\": \"x\", \"showticklabels\": false}, \"xaxis26\": {\"anchor\": \"y26\", \"domain\": [0.5100000000000001, 0.5920000000000001], \"matches\": \"x\", \"showticklabels\": false}, \"xaxis27\": {\"anchor\": \"y27\", \"domain\": [0.6120000000000001, 0.6940000000000002], \"matches\": \"x\", \"showticklabels\": false}, \"xaxis28\": {\"anchor\": \"y28\", \"domain\": [0.7140000000000001, 0.796], \"matches\": \"x\", \"showticklabels\": false}, \"xaxis29\": {\"anchor\": \"y29\", \"domain\": [0.8160000000000002, 0.8980000000000001], \"matches\": \"x\", \"showticklabels\": false}, \"xaxis3\": {\"anchor\": \"y3\", \"domain\": [0.20400000000000004, 0.28600000000000003], \"matches\": \"x\", \"title\": {\"text\": \"year\"}}, \"xaxis30\": {\"anchor\": \"y30\", \"domain\": [0.9180000000000001, 1.0], \"matches\": \"x\", \"showticklabels\": false}, \"xaxis31\": {\"anchor\": \"y31\", \"domain\": [0.0, 0.08200000000000002], \"matches\": \"x\", \"showticklabels\": false}, \"xaxis32\": {\"anchor\": \"y32\", \"domain\": [0.10200000000000002, 0.18400000000000005], \"matches\": \"x\", \"showticklabels\": false}, \"xaxis33\": {\"anchor\": \"y33\", \"domain\": [0.20400000000000004, 0.28600000000000003], \"matches\": \"x\", \"showticklabels\": false}, \"xaxis34\": {\"anchor\": \"y34\", \"domain\": [0.30600000000000005, 0.38800000000000007], \"matches\": \"x\", \"showticklabels\": false}, \"xaxis35\": {\"anchor\": \"y35\", \"domain\": [0.4080000000000001, 0.4900000000000001], \"matches\": \"x\", \"showticklabels\": false}, \"xaxis36\": {\"anchor\": \"y36\", \"domain\": [0.5100000000000001, 0.5920000000000001], \"matches\": \"x\", \"showticklabels\": false}, \"xaxis37\": {\"anchor\": \"y37\", \"domain\": [0.6120000000000001, 0.6940000000000002], \"matches\": \"x\", \"showticklabels\": false}, \"xaxis38\": {\"anchor\": \"y38\", \"domain\": [0.7140000000000001, 0.796], \"matches\": \"x\", \"showticklabels\": false}, \"xaxis39\": {\"anchor\": \"y39\", \"domain\": [0.8160000000000002, 0.8980000000000001], \"matches\": \"x\", \"showticklabels\": false}, \"xaxis4\": {\"anchor\": \"y4\", \"domain\": [0.30600000000000005, 0.38800000000000007], \"matches\": \"x\", \"title\": {\"text\": \"year\"}}, \"xaxis40\": {\"anchor\": \"y40\", \"domain\": [0.9180000000000001, 1.0], \"matches\": \"x\", \"showticklabels\": false}, \"xaxis41\": {\"anchor\": \"y41\", \"domain\": [0.0, 0.08200000000000002], \"matches\": \"x\", \"showticklabels\": false}, \"xaxis42\": {\"anchor\": \"y42\", \"domain\": [0.10200000000000002, 0.18400000000000005], \"matches\": \"x\", \"showticklabels\": false}, \"xaxis43\": {\"anchor\": \"y43\", \"domain\": [0.20400000000000004, 0.28600000000000003], \"matches\": \"x\", \"showticklabels\": false}, \"xaxis44\": {\"anchor\": \"y44\", \"domain\": [0.30600000000000005, 0.38800000000000007], \"matches\": \"x\", \"showticklabels\": false}, \"xaxis45\": {\"anchor\": \"y45\", \"domain\": [0.4080000000000001, 0.4900000000000001], \"matches\": \"x\", \"showticklabels\": false}, \"xaxis46\": {\"anchor\": \"y46\", \"domain\": [0.5100000000000001, 0.5920000000000001], \"matches\": \"x\", \"showticklabels\": false}, \"xaxis47\": {\"anchor\": \"y47\", \"domain\": [0.6120000000000001, 0.6940000000000002], \"matches\": \"x\", \"showticklabels\": false}, \"xaxis48\": {\"anchor\": \"y48\", \"domain\": [0.7140000000000001, 0.796], \"matches\": \"x\", \"showticklabels\": false}, \"xaxis49\": {\"anchor\": \"y49\", \"domain\": [0.8160000000000002, 0.8980000000000001], \"matches\": \"x\", \"showticklabels\": false}, \"xaxis5\": {\"anchor\": \"y5\", \"domain\": [0.4080000000000001, 0.4900000000000001], \"matches\": \"x\", \"title\": {\"text\": \"year\"}}, \"xaxis50\": {\"anchor\": \"y50\", \"domain\": [0.9180000000000001, 1.0], \"matches\": \"x\", \"showticklabels\": false}, \"xaxis51\": {\"anchor\": \"y51\", \"domain\": [0.0, 0.08200000000000002], \"matches\": \"x\", \"showticklabels\": false}, \"xaxis52\": {\"anchor\": \"y52\", \"domain\": [0.10200000000000002, 0.18400000000000005], \"matches\": \"x\", \"showticklabels\": false}, \"xaxis53\": {\"anchor\": \"y53\", \"domain\": [0.20400000000000004, 0.28600000000000003], \"matches\": \"x\", \"showticklabels\": false}, \"xaxis54\": {\"anchor\": \"y54\", \"domain\": [0.30600000000000005, 0.38800000000000007], \"matches\": \"x\", \"showticklabels\": false}, \"xaxis55\": {\"anchor\": \"y55\", \"domain\": [0.4080000000000001, 0.4900000000000001], \"matches\": \"x\", \"showticklabels\": false}, \"xaxis56\": {\"anchor\": \"y56\", \"domain\": [0.5100000000000001, 0.5920000000000001], \"matches\": \"x\", \"showticklabels\": false}, \"xaxis57\": {\"anchor\": \"y57\", \"domain\": [0.6120000000000001, 0.6940000000000002], \"matches\": \"x\", \"showticklabels\": false}, \"xaxis58\": {\"anchor\": \"y58\", \"domain\": [0.7140000000000001, 0.796], \"matches\": \"x\", \"showticklabels\": false}, \"xaxis59\": {\"anchor\": \"y59\", \"domain\": [0.8160000000000002, 0.8980000000000001], \"matches\": \"x\", \"showticklabels\": false}, \"xaxis6\": {\"anchor\": \"y6\", \"domain\": [0.5100000000000001, 0.5920000000000001], \"matches\": \"x\", \"title\": {\"text\": \"year\"}}, \"xaxis60\": {\"anchor\": \"y60\", \"domain\": [0.9180000000000001, 1.0], \"matches\": \"x\", \"showticklabels\": false}, \"xaxis7\": {\"anchor\": \"y7\", \"domain\": [0.6120000000000001, 0.6940000000000002], \"matches\": \"x\", \"title\": {\"text\": \"year\"}}, \"xaxis8\": {\"anchor\": \"y8\", \"domain\": [0.7140000000000001, 0.796], \"matches\": \"x\", \"title\": {\"text\": \"year\"}}, \"xaxis9\": {\"anchor\": \"y9\", \"domain\": [0.8160000000000002, 0.8980000000000001], \"matches\": \"x\", \"title\": {\"text\": \"year\"}}, \"yaxis\": {\"anchor\": \"x\", \"domain\": [0.0, 0.10833333333333331], \"title\": {\"text\": \"value\"}}, \"yaxis10\": {\"anchor\": \"x10\", \"domain\": [0.0, 0.10833333333333331], \"showticklabels\": false}, \"yaxis11\": {\"anchor\": \"x11\", \"domain\": [0.17833333333333332, 0.2866666666666666], \"title\": {\"text\": \"value\"}}, \"yaxis12\": {\"anchor\": \"x12\", \"domain\": [0.17833333333333332, 0.2866666666666666], \"showticklabels\": false}, \"yaxis13\": {\"anchor\": \"x13\", \"domain\": [0.17833333333333332, 0.2866666666666666], \"showticklabels\": false}, \"yaxis14\": {\"anchor\": \"x14\", \"domain\": [0.17833333333333332, 0.2866666666666666], \"showticklabels\": false}, \"yaxis15\": {\"anchor\": \"x15\", \"domain\": [0.17833333333333332, 0.2866666666666666], \"showticklabels\": false}, \"yaxis16\": {\"anchor\": \"x16\", \"domain\": [0.17833333333333332, 0.2866666666666666], \"showticklabels\": false}, \"yaxis17\": {\"anchor\": \"x17\", \"domain\": [0.17833333333333332, 0.2866666666666666], \"showticklabels\": false}, \"yaxis18\": {\"anchor\": \"x18\", \"domain\": [0.17833333333333332, 0.2866666666666666], \"showticklabels\": false}, \"yaxis19\": {\"anchor\": \"x19\", \"domain\": [0.17833333333333332, 0.2866666666666666], \"showticklabels\": false}, \"yaxis2\": {\"anchor\": \"x2\", \"domain\": [0.0, 0.10833333333333331], \"showticklabels\": false}, \"yaxis20\": {\"anchor\": \"x20\", \"domain\": [0.17833333333333332, 0.2866666666666666], \"showticklabels\": false}, \"yaxis21\": {\"anchor\": \"x21\", \"domain\": [0.35666666666666663, 0.46499999999999997], \"title\": {\"text\": \"value\"}}, \"yaxis22\": {\"anchor\": \"x22\", \"domain\": [0.35666666666666663, 0.46499999999999997], \"showticklabels\": false}, \"yaxis23\": {\"anchor\": \"x23\", \"domain\": [0.35666666666666663, 0.46499999999999997], \"showticklabels\": false}, \"yaxis24\": {\"anchor\": \"x24\", \"domain\": [0.35666666666666663, 0.46499999999999997], \"showticklabels\": false}, \"yaxis25\": {\"anchor\": \"x25\", \"domain\": [0.35666666666666663, 0.46499999999999997], \"showticklabels\": false}, \"yaxis26\": {\"anchor\": \"x26\", \"domain\": [0.35666666666666663, 0.46499999999999997], \"showticklabels\": false}, \"yaxis27\": {\"anchor\": \"x27\", \"domain\": [0.35666666666666663, 0.46499999999999997], \"showticklabels\": false}, \"yaxis28\": {\"anchor\": \"x28\", \"domain\": [0.35666666666666663, 0.46499999999999997], \"showticklabels\": false}, \"yaxis29\": {\"anchor\": \"x29\", \"domain\": [0.35666666666666663, 0.46499999999999997], \"showticklabels\": false}, \"yaxis3\": {\"anchor\": \"x3\", \"domain\": [0.0, 0.10833333333333331], \"showticklabels\": false}, \"yaxis30\": {\"anchor\": \"x30\", \"domain\": [0.35666666666666663, 0.46499999999999997], \"showticklabels\": false}, \"yaxis31\": {\"anchor\": \"x31\", \"domain\": [0.5349999999999999, 0.6433333333333332], \"title\": {\"text\": \"value\"}}, \"yaxis32\": {\"anchor\": \"x32\", \"domain\": [0.5349999999999999, 0.6433333333333332], \"showticklabels\": false}, \"yaxis33\": {\"anchor\": \"x33\", \"domain\": [0.5349999999999999, 0.6433333333333332], \"showticklabels\": false}, \"yaxis34\": {\"anchor\": \"x34\", \"domain\": [0.5349999999999999, 0.6433333333333332], \"showticklabels\": false}, \"yaxis35\": {\"anchor\": \"x35\", \"domain\": [0.5349999999999999, 0.6433333333333332], \"showticklabels\": false}, \"yaxis36\": {\"anchor\": \"x36\", \"domain\": [0.5349999999999999, 0.6433333333333332], \"showticklabels\": false}, \"yaxis37\": {\"anchor\": \"x37\", \"domain\": [0.5349999999999999, 0.6433333333333332], \"showticklabels\": false}, \"yaxis38\": {\"anchor\": \"x38\", \"domain\": [0.5349999999999999, 0.6433333333333332], \"showticklabels\": false}, \"yaxis39\": {\"anchor\": \"x39\", \"domain\": [0.5349999999999999, 0.6433333333333332], \"showticklabels\": false}, \"yaxis4\": {\"anchor\": \"x4\", \"domain\": [0.0, 0.10833333333333331], \"showticklabels\": false}, \"yaxis40\": {\"anchor\": \"x40\", \"domain\": [0.5349999999999999, 0.6433333333333332], \"showticklabels\": false}, \"yaxis41\": {\"anchor\": \"x41\", \"domain\": [0.7133333333333333, 0.8216666666666665], \"title\": {\"text\": \"value\"}}, \"yaxis42\": {\"anchor\": \"x42\", \"domain\": [0.7133333333333333, 0.8216666666666665], \"showticklabels\": false}, \"yaxis43\": {\"anchor\": \"x43\", \"domain\": [0.7133333333333333, 0.8216666666666665], \"showticklabels\": false}, \"yaxis44\": {\"anchor\": \"x44\", \"domain\": [0.7133333333333333, 0.8216666666666665], \"showticklabels\": false}, \"yaxis45\": {\"anchor\": \"x45\", \"domain\": [0.7133333333333333, 0.8216666666666665], \"showticklabels\": false}, \"yaxis46\": {\"anchor\": \"x46\", \"domain\": [0.7133333333333333, 0.8216666666666665], \"showticklabels\": false}, \"yaxis47\": {\"anchor\": \"x47\", \"domain\": [0.7133333333333333, 0.8216666666666665], \"showticklabels\": false}, \"yaxis48\": {\"anchor\": \"x48\", \"domain\": [0.7133333333333333, 0.8216666666666665], \"showticklabels\": false}, \"yaxis49\": {\"anchor\": \"x49\", \"domain\": [0.7133333333333333, 0.8216666666666665], \"showticklabels\": false}, \"yaxis5\": {\"anchor\": \"x5\", \"domain\": [0.0, 0.10833333333333331], \"showticklabels\": false}, \"yaxis50\": {\"anchor\": \"x50\", \"domain\": [0.7133333333333333, 0.8216666666666665], \"showticklabels\": false}, \"yaxis51\": {\"anchor\": \"x51\", \"domain\": [0.8916666666666666, 0.9999999999999999], \"title\": {\"text\": \"value\"}}, \"yaxis52\": {\"anchor\": \"x52\", \"domain\": [0.8916666666666666, 0.9999999999999999], \"showticklabels\": false}, \"yaxis53\": {\"anchor\": \"x53\", \"domain\": [0.8916666666666666, 0.9999999999999999], \"showticklabels\": false}, \"yaxis54\": {\"anchor\": \"x54\", \"domain\": [0.8916666666666666, 0.9999999999999999], \"showticklabels\": false}, \"yaxis55\": {\"anchor\": \"x55\", \"domain\": [0.8916666666666666, 0.9999999999999999], \"showticklabels\": false}, \"yaxis56\": {\"anchor\": \"x56\", \"domain\": [0.8916666666666666, 0.9999999999999999], \"showticklabels\": false}, \"yaxis57\": {\"anchor\": \"x57\", \"domain\": [0.8916666666666666, 0.9999999999999999], \"showticklabels\": false}, \"yaxis58\": {\"anchor\": \"x58\", \"domain\": [0.8916666666666666, 0.9999999999999999], \"showticklabels\": false}, \"yaxis59\": {\"anchor\": \"x59\", \"domain\": [0.8916666666666666, 0.9999999999999999], \"showticklabels\": false}, \"yaxis6\": {\"anchor\": \"x6\", \"domain\": [0.0, 0.10833333333333331], \"showticklabels\": false}, \"yaxis60\": {\"anchor\": \"x60\", \"domain\": [0.8916666666666666, 0.9999999999999999], \"showticklabels\": false}, \"yaxis7\": {\"anchor\": \"x7\", \"domain\": [0.0, 0.10833333333333331], \"showticklabels\": false}, \"yaxis8\": {\"anchor\": \"x8\", \"domain\": [0.0, 0.10833333333333331], \"showticklabels\": false}, \"yaxis9\": {\"anchor\": \"x9\", \"domain\": [0.0, 0.10833333333333331], \"showticklabels\": false}},\n",
       "                        {\"responsive\": true}\n",
       "                    ).then(function(){\n",
       "                            \n",
       "var gd = document.getElementById('e05c028c-0452-43e2-bfcc-ca35b0cf6b8b');\n",
       "var x = new MutationObserver(function (mutations, observer) {{\n",
       "        var display = window.getComputedStyle(gd).display;\n",
       "        if (!display || display === 'none') {{\n",
       "            console.log([gd, 'removed!']);\n",
       "            Plotly.purge(gd);\n",
       "            observer.disconnect();\n",
       "        }}\n",
       "}});\n",
       "\n",
       "// Listen for the removal of the full notebook cells\n",
       "var notebookContainer = gd.closest('#notebook-container');\n",
       "if (notebookContainer) {{\n",
       "    x.observe(notebookContainer, {childList: true});\n",
       "}}\n",
       "\n",
       "// Listen for the clearing of the current output cell\n",
       "var outputEl = gd.closest('.output');\n",
       "if (outputEl) {{\n",
       "    x.observe(outputEl, {childList: true});\n",
       "}}\n",
       "\n",
       "                        })\n",
       "                };\n",
       "                });\n",
       "            </script>\n",
       "        </div>"
      ]
     },
     "metadata": {},
     "output_type": "display_data"
    }
   ],
   "source": [
    "sm_multiples = px.scatter(nces_household_long, x=\"year\", y=\"value\",\n",
    "               color='variable',\n",
    "               facet_col='state_abbr',facet_col_wrap=10)\n",
    "\n",
    "sm_multiples.update_layout(\n",
    "    title_text = 'State by State Estimates of Computer Access', # Create a Title\n",
    ")\n",
    "\n",
    "## make the charts prettier\n",
    "sm_multiples.update_yaxes(matches=None)\n",
    "## get rid of \"state =\" and only show state abbrev\n",
    "sm_multiples.for_each_annotation(lambda a: a.update(text=a.text.split(\"=\")[-1]))\n",
    "\n",
    "sm_multiples.show()"
   ]
  },
  {
   "cell_type": "code",
   "execution_count": null,
   "metadata": {},
   "outputs": [],
   "source": []
  }
 ],
 "metadata": {
  "kernelspec": {
   "display_name": "Python 3",
   "language": "python",
   "name": "python3"
  },
  "language_info": {
   "codemirror_mode": {
    "name": "ipython",
    "version": 3
   },
   "file_extension": ".py",
   "mimetype": "text/x-python",
   "name": "python",
   "nbconvert_exporter": "python",
   "pygments_lexer": "ipython3",
   "version": "3.6.5"
  }
 },
 "nbformat": 4,
 "nbformat_minor": 2
}
